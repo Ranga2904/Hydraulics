{
  "cells": [
    {
      "cell_type": "markdown",
      "source": [
        "# Automated ML\n",
        "\n",
        "TODO: Import Dependencies. In the cell below, import all the dependencies that you will need to complete the project."
      ],
      "metadata": {}
    },
    {
      "cell_type": "code",
      "source": [
        "from azureml.core import Workspace, Experiment, Dataset, Model, Datastore, Environment\n",
        "from azureml.data.datapath import DataPath\n",
        "from azureml.widgets import RunDetails\n",
        "from azureml.train.automl import AutoMLConfig\n",
        "import numpy as np\n",
        "import pandas as pd\n",
        "import joblib, pickle"
      ],
      "outputs": [],
      "execution_count": 1,
      "metadata": {
        "gather": {
          "logged": 1609701782484
        },
        "jupyter": {
          "outputs_hidden": false,
          "source_hidden": false
        },
        "nteract": {
          "transient": {
            "deleting": false
          }
        }
      }
    },
    {
      "cell_type": "markdown",
      "source": [
        "## Dataset\n",
        "\n",
        "### Overview\n",
        "The dataset I'm using tracks car mpg as a function of several car characteristics like weight and acceleration. The task performed is regression to predict mpg as a function of these characteristics.\n",
        "\n",
        "TODO: Get data. In the cell below, write code to access the data you will be using in this project. Remember that the dataset needs to be external."
      ],
      "metadata": {}
    },
    {
      "cell_type": "code",
      "source": [
        "subscription_id = '61c5c3f0-6dc7-4ed9-a7f3-c704b20e3b30'\n",
        "resource_group = 'aml-quickstarts-133182'\n",
        "workspace_name = 'quick-starts-ws-133182'\n",
        "\n",
        "ws = Workspace.get(name=\"quick-starts-ws-133182\")\n",
        "exp = Experiment(workspace=ws, name=\"Ranga\")\n",
        "\n",
        "workspace = Workspace(subscription_id, resource_group, workspace_name)\n",
        "\n",
        "CEdata = Dataset.get_by_name(workspace, name='CE')\n",
        "CEdata.download(target_path='.', overwrite=True)\n",
        "VS1data = Dataset.get_by_name(workspace, name='VS1')\n",
        "VS1data.download(target_path='.', overwrite=True)\n",
        "TS4data = Dataset.get_by_name(workspace, name='TS4')\n",
        "TS4data.download(target_path='.', overwrite=True)\n",
        "TS3data = Dataset.get_by_name(workspace, name='TS3')\n",
        "TS3data.download(target_path='.', overwrite=True)\n",
        "\n"
      ],
      "outputs": [
        {
          "output_type": "execute_result",
          "execution_count": 2,
          "data": {
            "text/plain": "['/mnt/batch/tasks/shared/LS_root/mounts/clusters/ranganext/code/Users/odl_user_133182/TS3.txt']"
          },
          "metadata": {}
        }
      ],
      "execution_count": 2,
      "metadata": {
        "gather": {
          "logged": 1609701791495
        },
        "jupyter": {
          "outputs_hidden": false,
          "source_hidden": false
        },
        "nteract": {
          "transient": {
            "deleting": false
          }
        }
      }
    },
    {
      "cell_type": "code",
      "source": [
        "SEdata = Dataset.get_by_name(workspace, name='SE')\r\n",
        "SEdata.download(target_path='.', overwrite=True)\r\n",
        "PS6data = Dataset.get_by_name(workspace, name='PS6')\r\n",
        "PS6data.download(target_path='.', overwrite=True)\r\n",
        "PS5data = Dataset.get_by_name(workspace, name='PS5')\r\n",
        "PS5data.download(target_path='.', overwrite=True)\r\n",
        "\r\n",
        "FS2data = Dataset.get_by_name(workspace, name='FS2')\r\n",
        "FS2data.download(target_path='.', overwrite=True)\r\n",
        "\r\n",
        "EPS1data = Dataset.get_by_name(workspace, name='EPS1')\r\n",
        "EPS1data.download(target_path='.', overwrite=True)\r\n",
        "CPdata = Dataset.get_by_name(workspace, name='CP')\r\n",
        "CPdata.download(target_path='.', overwrite=True)\r\n"
      ],
      "outputs": [
        {
          "output_type": "execute_result",
          "execution_count": 3,
          "data": {
            "text/plain": "['/mnt/batch/tasks/shared/LS_root/mounts/clusters/ranganext/code/Users/odl_user_133182/CP.txt']"
          },
          "metadata": {}
        }
      ],
      "execution_count": 3,
      "metadata": {
        "collapsed": true,
        "jupyter": {
          "source_hidden": false,
          "outputs_hidden": false
        },
        "nteract": {
          "transient": {
            "deleting": false
          }
        },
        "gather": {
          "logged": 1609701798780
        }
      }
    },
    {
      "cell_type": "code",
      "source": [
        "cooleff = []\r\n",
        "coolpwr = []\r\n",
        "\r\n",
        "ps_five = []\r\n",
        "ps_six = []\r\n",
        "motorpower = []\r\n",
        "\r\n",
        "volflowtwo = []\r\n",
        "\r\n",
        "tempthree = []\r\n",
        "tempfour = []\r\n",
        "effactor = []\r\n",
        "vibes = []"
      ],
      "outputs": [],
      "execution_count": 4,
      "metadata": {
        "collapsed": true,
        "jupyter": {
          "source_hidden": false,
          "outputs_hidden": false
        },
        "nteract": {
          "transient": {
            "deleting": false
          }
        },
        "gather": {
          "logged": 1609701799197
        }
      }
    },
    {
      "cell_type": "code",
      "source": [
        "ce = open('CE.txt','r')\r\n",
        "for line in ce:\r\n",
        "    cooleff.append(line.split())"
      ],
      "outputs": [],
      "execution_count": 5,
      "metadata": {
        "collapsed": true,
        "jupyter": {
          "source_hidden": false,
          "outputs_hidden": false
        },
        "nteract": {
          "transient": {
            "deleting": false
          }
        },
        "gather": {
          "logged": 1609701799536
        }
      }
    },
    {
      "cell_type": "code",
      "source": [
        "cp = open('CP.txt','r')\r\n",
        "for line in cp:\r\n",
        "    coolpwr.append(line.split())\r\n",
        "\r\n",
        "effic = open('se.txt','r')\r\n",
        "for line in effic:\r\n",
        "    effactor.append(line.split())\r\n",
        "    \r\n",
        "vibe = open('VS1.txt')\r\n",
        "for line in vibe:\r\n",
        "    vibes.append(line.split())"
      ],
      "outputs": [],
      "execution_count": 6,
      "metadata": {
        "collapsed": true,
        "jupyter": {
          "source_hidden": false,
          "outputs_hidden": false
        },
        "nteract": {
          "transient": {
            "deleting": false
          }
        },
        "gather": {
          "logged": 1609701799869
        }
      }
    },
    {
      "cell_type": "code",
      "source": [
        "psfive = open('PS5.txt','r')\r\n",
        "for line in psfive:\r\n",
        "    ps_five.append(line.split())\r\n",
        "pssix = open('PS6.txt','r')\r\n",
        "for line in pssix:\r\n",
        "    ps_six.append(line.split())"
      ],
      "outputs": [],
      "execution_count": 7,
      "metadata": {
        "collapsed": true,
        "jupyter": {
          "source_hidden": false,
          "outputs_hidden": false
        },
        "nteract": {
          "transient": {
            "deleting": false
          }
        },
        "gather": {
          "logged": 1609701803245
        }
      }
    },
    {
      "cell_type": "code",
      "source": [
        "mp = open('EPS1.txt','r')\r\n",
        "for line in mp:\r\n",
        "    motorpower.append(line.split())\r\n",
        "\r\n",
        "\r\n",
        "tthree = open('TS3.txt','r')\r\n",
        "for line in tthree:\r\n",
        "    tempthree.append(line.split())\r\n",
        "tfour = open('TS4.txt','r')\r\n",
        "for line in tfour:\r\n",
        "    tempfour.append(line.split())"
      ],
      "outputs": [],
      "execution_count": 8,
      "metadata": {
        "collapsed": true,
        "jupyter": {
          "source_hidden": false,
          "outputs_hidden": false
        },
        "nteract": {
          "transient": {
            "deleting": false
          }
        },
        "gather": {
          "logged": 1609701805464
        }
      }
    },
    {
      "cell_type": "code",
      "source": [
        "vftwo = open('FS2.txt','r')\r\n",
        "for line in vftwo:\r\n",
        "    volflowtwo.append(line.split())"
      ],
      "outputs": [],
      "execution_count": 9,
      "metadata": {
        "collapsed": true,
        "jupyter": {
          "source_hidden": false,
          "outputs_hidden": false
        },
        "nteract": {
          "transient": {
            "deleting": false
          }
        },
        "gather": {
          "logged": 1609701805910
        }
      }
    },
    {
      "cell_type": "code",
      "source": [
        "cooleff = np.reshape(cooleff,(2205,60))\r\n",
        "coolpwr = np.reshape(coolpwr,(2205,60))\r\n",
        "cooleffDF = pd.DataFrame(cooleff)\r\n",
        "coolpwrDF = pd.DataFrame(coolpwr)"
      ],
      "outputs": [],
      "execution_count": 10,
      "metadata": {
        "collapsed": true,
        "jupyter": {
          "source_hidden": false,
          "outputs_hidden": false
        },
        "nteract": {
          "transient": {
            "deleting": false
          }
        },
        "gather": {
          "logged": 1609701805996
        }
      }
    },
    {
      "cell_type": "code",
      "source": [
        "ps_five = np.reshape(ps_five,(2205,6000))\r\n",
        "ps_five_DF = pd.DataFrame(ps_five)\r\n",
        "ps_six = np.reshape(ps_six,(2205,6000))\r\n",
        "ps_six_DF = pd.DataFrame(ps_six)"
      ],
      "outputs": [],
      "execution_count": 11,
      "metadata": {
        "collapsed": true,
        "jupyter": {
          "source_hidden": false,
          "outputs_hidden": false
        },
        "nteract": {
          "transient": {
            "deleting": false
          }
        },
        "gather": {
          "logged": 1609701813684
        }
      }
    },
    {
      "cell_type": "code",
      "source": [
        "motorpower = np.reshape(motorpower,(2205,6000))\r\n",
        "mp_DF = pd.DataFrame(motorpower)\r\n",
        "\r\n",
        "volflowtwo = np.reshape(volflowtwo,(2205,600))\r\n",
        "vftwo_DF = pd.DataFrame(volflowtwo)"
      ],
      "outputs": [],
      "execution_count": 12,
      "metadata": {
        "collapsed": true,
        "jupyter": {
          "source_hidden": false,
          "outputs_hidden": false
        },
        "nteract": {
          "transient": {
            "deleting": false
          }
        },
        "gather": {
          "logged": 1609701815051
        }
      }
    },
    {
      "cell_type": "code",
      "source": [
        "tempthree = np.reshape(tempthree,(2205,60))\r\n",
        "tthree_DF = pd.DataFrame(tempthree)\r\n",
        "tempfour = np.reshape(tempfour,(2205,60))\r\n",
        "tfour_DF = pd.DataFrame(tempfour)\r\n"
      ],
      "outputs": [],
      "execution_count": 13,
      "metadata": {
        "collapsed": true,
        "jupyter": {
          "source_hidden": false,
          "outputs_hidden": false
        },
        "nteract": {
          "transient": {
            "deleting": false
          }
        },
        "gather": {
          "logged": 1609701815352
        }
      }
    },
    {
      "cell_type": "code",
      "source": [
        "effactor = np.reshape(effactor,(2205,60))\r\n",
        "eff_DF = pd.DataFrame(effactor)\r\n",
        "vibes = np.reshape(vibes,(2205,60))\r\n",
        "vibes_DF = pd.DataFrame(vibes)"
      ],
      "outputs": [],
      "execution_count": 14,
      "metadata": {
        "collapsed": true,
        "jupyter": {
          "source_hidden": false,
          "outputs_hidden": false
        },
        "nteract": {
          "transient": {
            "deleting": false
          }
        },
        "gather": {
          "logged": 1609701815644
        }
      }
    },
    {
      "cell_type": "code",
      "source": [
        "coolpwrDF = coolpwrDF.astype(float)\r\n",
        "coolpwrDF['Avg coolpwr'] = coolpwrDF.mean(axis=1)\r\n",
        "coolpwrDF = pd.DataFrame(coolpwrDF.loc[:,'Avg coolpwr'])\r\n",
        "\r\n",
        "cooleffDF = cooleffDF.astype(float)\r\n",
        "cooleffDF['Avg cooleff'] = cooleffDF.mean(axis=1)\r\n",
        "cooleffDF = pd.DataFrame(cooleffDF.loc[:,'Avg cooleff'])"
      ],
      "outputs": [],
      "execution_count": 15,
      "metadata": {
        "collapsed": true,
        "jupyter": {
          "source_hidden": false,
          "outputs_hidden": false
        },
        "nteract": {
          "transient": {
            "deleting": false
          }
        },
        "gather": {
          "logged": 1609701815933
        }
      }
    },
    {
      "cell_type": "code",
      "source": [
        "ps_five_DF = ps_five_DF.astype(float)\r\n",
        "ps_five_DF['Avg psfive'] = ps_five_DF.mean(axis=1)\r\n",
        "ps_five_DF = pd.DataFrame(ps_five_DF.loc[:,'Avg psfive'])\r\n",
        "\r\n",
        "ps_six_DF = ps_six_DF.astype(float)\r\n",
        "ps_six_DF['Avg pssix'] = ps_six_DF.mean(axis=1)\r\n",
        "ps_six_DF = pd.DataFrame(ps_six_DF.loc[:,'Avg pssix'])"
      ],
      "outputs": [],
      "execution_count": 16,
      "metadata": {
        "collapsed": true,
        "jupyter": {
          "source_hidden": false,
          "outputs_hidden": false
        },
        "nteract": {
          "transient": {
            "deleting": false
          }
        },
        "gather": {
          "logged": 1609701820697
        }
      }
    },
    {
      "cell_type": "code",
      "source": [
        "mp_DF = mp_DF.astype(float)\r\n",
        "mp_DF['Avg mp'] = mp_DF.mean(axis=1)\r\n",
        "mp_DF = pd.DataFrame(mp_DF.loc[:,'Avg mp'])\r\n",
        "\r\n",
        "vftwo_DF = vftwo_DF.astype(float)\r\n",
        "vftwo_DF['Avg vftwo'] = vftwo_DF.mean(axis=1)\r\n",
        "vftwo_DF = pd.DataFrame(vftwo_DF.loc[:,'Avg vftwo'])"
      ],
      "outputs": [],
      "execution_count": 17,
      "metadata": {
        "collapsed": true,
        "jupyter": {
          "source_hidden": false,
          "outputs_hidden": false
        },
        "nteract": {
          "transient": {
            "deleting": false
          }
        },
        "gather": {
          "logged": 1609701825159
        }
      }
    },
    {
      "cell_type": "code",
      "source": [
        "eff_DF = eff_DF.astype(float)\r\n",
        "eff_DF['Avg eff'] = eff_DF.mean(axis=1)\r\n",
        "eff_DF = pd.DataFrame(eff_DF.loc[:,'Avg eff'])\r\n",
        "\r\n",
        "vibes_DF = vibes_DF.astype(float)\r\n",
        "vibes_DF['Avg vibes'] = vibes_DF.mean(axis=1)\r\n",
        "vibes_DF = pd.DataFrame(vibes_DF.loc[:,'Avg vibes'])"
      ],
      "outputs": [],
      "execution_count": 18,
      "metadata": {
        "collapsed": true,
        "jupyter": {
          "source_hidden": false,
          "outputs_hidden": false
        },
        "nteract": {
          "transient": {
            "deleting": false
          }
        },
        "gather": {
          "logged": 1609701825920
        }
      }
    },
    {
      "cell_type": "code",
      "source": [
        "tthree_DF = tthree_DF.astype(float)\r\n",
        "tthree_DF['Avg tthree'] = tthree_DF.mean(axis=1)\r\n",
        "tthree_DF = pd.DataFrame(tthree_DF.loc[:,'Avg tthree'])\r\n",
        "tfour_DF = tfour_DF.astype(float)\r\n",
        "tfour_DF['Avg tfour'] = tfour_DF.mean(axis=1)\r\n",
        "tfour_DF = pd.DataFrame(tfour_DF.loc[:,'Avg tfour'])"
      ],
      "outputs": [],
      "execution_count": 19,
      "metadata": {
        "collapsed": true,
        "jupyter": {
          "source_hidden": false,
          "outputs_hidden": false
        },
        "nteract": {
          "transient": {
            "deleting": false
          }
        },
        "gather": {
          "logged": 1609701826330
        }
      }
    },
    {
      "cell_type": "code",
      "source": [
        "features = (((((((((coolpwrDF.join(cooleffDF)).join(ps_five_DF)).join(ps_six_DF)).join(mp_DF)).join(vftwo_DF)).join(eff_DF)).join(vibes_DF)).join(tthree_DF)).join(tfour_DF))"
      ],
      "outputs": [],
      "execution_count": 20,
      "metadata": {
        "collapsed": true,
        "jupyter": {
          "source_hidden": false,
          "outputs_hidden": false
        },
        "nteract": {
          "transient": {
            "deleting": false
          }
        },
        "gather": {
          "logged": 1609701826634
        }
      }
    },
    {
      "cell_type": "code",
      "source": [
        "profiledata = Dataset.get_by_name(workspace, name='profile')\r\n",
        "profiledata.download(target_path='.', overwrite=True)"
      ],
      "outputs": [
        {
          "output_type": "execute_result",
          "execution_count": 21,
          "data": {
            "text/plain": "['/mnt/batch/tasks/shared/LS_root/mounts/clusters/ranganext/code/Users/odl_user_133182/profile.txt']"
          },
          "metadata": {}
        }
      ],
      "execution_count": 21,
      "metadata": {
        "collapsed": true,
        "jupyter": {
          "source_hidden": false,
          "outputs_hidden": false
        },
        "nteract": {
          "transient": {
            "deleting": false
          }
        },
        "gather": {
          "logged": 1609701826976
        }
      }
    },
    {
      "cell_type": "code",
      "source": [
        "profiles=[]\r\n",
        "prof = open('profile.txt','r')\r\n",
        "for line in prof:\r\n",
        "    profiles.append(line.split())\r\n",
        "\r\n",
        "labels = np.reshape(profiles,(2205,5))\r\n",
        "labels_DF = pd.DataFrame(labels)\r\n",
        "\r\n",
        "\r\n",
        "labels_DF.columns = ['Clr cndn','Valve cndn','Pump lkg','Hydraulic press','Stable Flag (only cat)']\r\n",
        "labels_DF = labels_DF.astype(float)"
      ],
      "outputs": [],
      "execution_count": 29,
      "metadata": {
        "collapsed": true,
        "jupyter": {
          "source_hidden": false,
          "outputs_hidden": false
        },
        "nteract": {
          "transient": {
            "deleting": false
          }
        },
        "gather": {
          "logged": 1609702068580
        }
      }
    },
    {
      "cell_type": "code",
      "source": [
        "ds = features.join(labels_DF)"
      ],
      "outputs": [],
      "execution_count": 30,
      "metadata": {
        "collapsed": true,
        "jupyter": {
          "source_hidden": false,
          "outputs_hidden": false
        },
        "nteract": {
          "transient": {
            "deleting": false
          }
        },
        "gather": {
          "logged": 1609702076165
        }
      }
    },
    {
      "cell_type": "markdown",
      "source": [
        "## AutoML Configuration\n",
        "\n",
        "I chose the regression task since that represents the nature of this problem, and R-squared is correspondingly a good metric. R-squared is also the default scoring metric for GradientBoosting Regressor, which is the model that I'm using in Hyperparameter tuning."
      ],
      "metadata": {}
    },
    {
      "cell_type": "code",
      "source": [
        "# TODO: Put your automl config here\n",
        "automl_config = AutoMLConfig(\n",
        "    experiment_timeout_minutes=15,\n",
        "    task='regression',\n",
        "    primary_metric='r2_score',\n",
        "    training_data=ds,\n",
        "    label_column_name='Valve cndn',\n",
        "    n_cross_validations=3)"
      ],
      "outputs": [],
      "execution_count": 31,
      "metadata": {
        "gather": {
          "logged": 1609702078557
        },
        "jupyter": {
          "outputs_hidden": false,
          "source_hidden": false
        },
        "nteract": {
          "transient": {
            "deleting": false
          }
        }
      }
    },
    {
      "cell_type": "code",
      "source": [
        "# TODO: Submit your experiment\n",
        "autoexp = Experiment(workspace=ws,name='AutoRanga')\n",
        "remote_run = autoexp.submit(automl_config)\n",
        "RunDetails(remote_run).show()\n",
        "remote_run.wait_for_completion(show_output=True)"
      ],
      "outputs": [
        {
          "output_type": "stream",
          "name": "stderr",
          "text": [
            "WARNING:root:Running on local machine. Note that local runs always run synchronously even if you use the parameter 'show_output=False'\n"
          ]
        },
        {
          "output_type": "stream",
          "name": "stdout",
          "text": [
            "\n",
            "\n",
            "****************************************************************************************************\n",
            "DATA GUARDRAILS: \n",
            "\n",
            "TYPE:         Missing feature values imputation\n",
            "STATUS:       PASSED\n",
            "DESCRIPTION:  No feature missing values were detected in the training data.\n",
            "              Learn more about missing value imputation: https://aka.ms/AutomatedMLFeaturization\n",
            "\n",
            "****************************************************************************************************\n",
            "\n",
            "TYPE:         High cardinality feature detection\n",
            "STATUS:       PASSED\n",
            "DESCRIPTION:  Your inputs were analyzed, and no high cardinality features were detected.\n",
            "              Learn more about high cardinality feature handling: https://aka.ms/AutomatedMLFeaturization\n",
            "\n",
            "****************************************************************************************************\n",
            "\n",
            "****************************************************************************************************\n",
            "ITERATION: The iteration being evaluated.\n",
            "PIPELINE: A summary description of the pipeline being evaluated.\n"
          ]
        },
        {
          "output_type": "display_data",
          "data": {
            "text/plain": "_AutoMLWidget(widget_settings={'childWidgetDisplay': 'popup', 'send_telemetry': False, 'log_level': 'INFO', 's…",
            "application/vnd.jupyter.widget-view+json": {
              "version_major": 2,
              "version_minor": 0,
              "model_id": "b5abf426a1f144b287fbac0f9047c0ee"
            }
          },
          "metadata": {}
        },
        {
          "output_type": "display_data",
          "data": {
            "application/aml.mini.widget.v1": "{\"status\": \"Completed\", \"workbench_run_details_uri\": \"https://ml.azure.com/experiments/AutoRanga/runs/AutoML_5a4a73a8-4b52-4d6c-b7b4-baa8577baefd?wsid=/subscriptions/61c5c3f0-6dc7-4ed9-a7f3-c704b20e3b30/resourcegroups/aml-quickstarts-133182/workspaces/quick-starts-ws-133182\", \"run_id\": \"AutoML_5a4a73a8-4b52-4d6c-b7b4-baa8577baefd\", \"run_properties\": {\"run_id\": \"AutoML_5a4a73a8-4b52-4d6c-b7b4-baa8577baefd\", \"created_utc\": \"2021-01-03T19:28:01.321119Z\", \"properties\": {\"num_iterations\": \"1000\", \"training_type\": \"TrainFull\", \"acquisition_function\": \"EI\", \"primary_metric\": \"r2_score\", \"train_split\": \"0\", \"acquisition_parameter\": \"0\", \"num_cross_validation\": \"3\", \"target\": \"local\", \"AMLSettingsJsonString\": \"{\\\"path\\\":null,\\\"name\\\":\\\"AutoRanga\\\",\\\"subscription_id\\\":\\\"61c5c3f0-6dc7-4ed9-a7f3-c704b20e3b30\\\",\\\"resource_group\\\":\\\"aml-quickstarts-133182\\\",\\\"workspace_name\\\":\\\"quick-starts-ws-133182\\\",\\\"region\\\":\\\"southcentralus\\\",\\\"compute_target\\\":\\\"local\\\",\\\"spark_service\\\":null,\\\"azure_service\\\":\\\"Microsoft.AzureNotebookVM\\\",\\\"many_models\\\":false,\\\"pipeline_fetch_max_batch_size\\\":1,\\\"iterations\\\":1000,\\\"primary_metric\\\":\\\"r2_score\\\",\\\"task_type\\\":\\\"regression\\\",\\\"data_script\\\":null,\\\"validation_size\\\":0.0,\\\"n_cross_validations\\\":3,\\\"y_min\\\":null,\\\"y_max\\\":null,\\\"num_classes\\\":null,\\\"featurization\\\":\\\"auto\\\",\\\"_ignore_package_version_incompatibilities\\\":false,\\\"is_timeseries\\\":false,\\\"max_cores_per_iteration\\\":1,\\\"max_concurrent_iterations\\\":1,\\\"iteration_timeout_minutes\\\":null,\\\"mem_in_mb\\\":null,\\\"enforce_time_on_windows\\\":false,\\\"experiment_timeout_minutes\\\":15,\\\"experiment_exit_score\\\":null,\\\"whitelist_models\\\":null,\\\"blacklist_algos\\\":[\\\"TensorFlowDNN\\\",\\\"TensorFlowLinearRegressor\\\"],\\\"supported_models\\\":[\\\"TensorFlowLinearRegressor\\\",\\\"ExtremeRandomTrees\\\",\\\"SGD\\\",\\\"KNN\\\",\\\"FastLinearRegressor\\\",\\\"DecisionTree\\\",\\\"LightGBM\\\",\\\"TensorFlowDNN\\\",\\\"XGBoostRegressor\\\",\\\"LassoLars\\\",\\\"GradientBoosting\\\",\\\"RandomForest\\\",\\\"OnlineGradientDescentRegressor\\\",\\\"ElasticNet\\\"],\\\"auto_blacklist\\\":true,\\\"blacklist_samples_reached\\\":false,\\\"exclude_nan_labels\\\":true,\\\"verbosity\\\":20,\\\"_debug_log\\\":\\\"automl.log\\\",\\\"show_warnings\\\":false,\\\"model_explainability\\\":true,\\\"service_url\\\":null,\\\"sdk_url\\\":null,\\\"sdk_packages\\\":null,\\\"enable_onnx_compatible_models\\\":false,\\\"enable_split_onnx_featurizer_estimator_models\\\":false,\\\"vm_type\\\":null,\\\"telemetry_verbosity\\\":20,\\\"send_telemetry\\\":true,\\\"enable_dnn\\\":false,\\\"scenario\\\":\\\"SDK-1.13.0\\\",\\\"environment_label\\\":null,\\\"force_text_dnn\\\":false,\\\"enable_feature_sweeping\\\":true,\\\"enable_early_stopping\\\":false,\\\"early_stopping_n_iters\\\":10,\\\"metrics\\\":null,\\\"enable_ensembling\\\":true,\\\"enable_stack_ensembling\\\":true,\\\"ensemble_iterations\\\":15,\\\"enable_tf\\\":false,\\\"enable_subsampling\\\":null,\\\"subsample_seed\\\":null,\\\"enable_nimbusml\\\":false,\\\"enable_streaming\\\":false,\\\"force_streaming\\\":false,\\\"track_child_runs\\\":true,\\\"allowed_private_models\\\":[],\\\"label_column_name\\\":\\\"Valve cndn\\\",\\\"weight_column_name\\\":null,\\\"cv_split_column_names\\\":null,\\\"enable_local_managed\\\":false,\\\"_local_managed_run_id\\\":null,\\\"cost_mode\\\":1,\\\"lag_length\\\":0,\\\"metric_operation\\\":\\\"maximize\\\",\\\"preprocess\\\":true}\", \"DataPrepJsonString\": null, \"EnableSubsampling\": null, \"runTemplate\": \"AutoML\", \"azureml.runsource\": \"automl\", \"display_task_type\": \"regression\", \"dependencies_versions\": \"{\\\"azureml-widgets\\\": \\\"1.19.0\\\", \\\"azureml-train\\\": \\\"1.19.0\\\", \\\"azureml-train-restclients-hyperdrive\\\": \\\"1.19.0\\\", \\\"azureml-train-core\\\": \\\"1.19.0\\\", \\\"azureml-train-automl\\\": \\\"1.19.0\\\", \\\"azureml-train-automl-runtime\\\": \\\"1.19.0\\\", \\\"azureml-train-automl-client\\\": \\\"1.19.0\\\", \\\"azureml-tensorboard\\\": \\\"1.19.0\\\", \\\"azureml-telemetry\\\": \\\"1.19.0\\\", \\\"azureml-sdk\\\": \\\"1.19.0\\\", \\\"azureml-samples\\\": \\\"0+unknown\\\", \\\"azureml-pipeline\\\": \\\"1.19.0\\\", \\\"azureml-pipeline-steps\\\": \\\"1.19.0\\\", \\\"azureml-pipeline-core\\\": \\\"1.19.0\\\", \\\"azureml-opendatasets\\\": \\\"1.19.0\\\", \\\"azureml-model-management-sdk\\\": \\\"1.0.1b6.post1\\\", \\\"azureml-mlflow\\\": \\\"1.19.0\\\", \\\"azureml-interpret\\\": \\\"1.19.0\\\", \\\"azureml-explain-model\\\": \\\"1.19.0\\\", \\\"azureml-defaults\\\": \\\"1.19.0\\\", \\\"azureml-dataset-runtime\\\": \\\"1.19.0\\\", \\\"azureml-dataprep\\\": \\\"2.6.1\\\", \\\"azureml-dataprep-rslex\\\": \\\"1.4.0\\\", \\\"azureml-dataprep-native\\\": \\\"26.0.0\\\", \\\"azureml-datadrift\\\": \\\"1.19.0\\\", \\\"azureml-core\\\": \\\"1.19.0\\\", \\\"azureml-contrib-services\\\": \\\"1.19.0\\\", \\\"azureml-contrib-server\\\": \\\"1.19.0\\\", \\\"azureml-contrib-reinforcementlearning\\\": \\\"1.19.0\\\", \\\"azureml-contrib-pipeline-steps\\\": \\\"1.19.0\\\", \\\"azureml-contrib-notebook\\\": \\\"1.19.0\\\", \\\"azureml-contrib-interpret\\\": \\\"1.19.0\\\", \\\"azureml-contrib-gbdt\\\": \\\"1.19.0\\\", \\\"azureml-contrib-fairness\\\": \\\"1.19.0\\\", \\\"azureml-contrib-dataset\\\": \\\"1.19.0\\\", \\\"azureml-cli-common\\\": \\\"1.19.0\\\", \\\"azureml-automl-runtime\\\": \\\"1.19.0\\\", \\\"azureml-automl-core\\\": \\\"1.19.0\\\", \\\"azureml-accel-models\\\": \\\"1.19.0\\\"}\", \"_aml_system_scenario_identification\": \"Local.Parent\", \"ClientSdkVersion\": \"1.19.0\", \"ClientType\": \"SDK\", \"environment_cpu_name\": \"AzureML-AutoML\", \"environment_cpu_label\": \"prod\", \"environment_gpu_name\": \"AzureML-AutoML-GPU\", \"environment_gpu_label\": \"prod\", \"root_attribution\": \"automl\", \"attribution\": \"AutoML\", \"Orchestrator\": \"AutoML\", \"_azureml.ComputeTargetType\": \"local\", \"ProblemInfoJsonString\": \"{\\\"dataset_num_categorical\\\": 0, \\\"is_sparse\\\": false, \\\"subsampling\\\": false, \\\"dataset_classes\\\": 4, \\\"dataset_features\\\": 14, \\\"dataset_samples\\\": 2205, \\\"single_frequency_class_detected\\\": false}\", \"feature_skus\": \"automatedml_sdk_guardrails\"}, \"tags\": {\"model_explain_run\": \"best_run\", \"best_score\": \"0.9087183359808103\", \"best_pipeline\": \"StackEnsemble\", \"automl_best_child_run_id\": \"AutoML_5a4a73a8-4b52-4d6c-b7b4-baa8577baefd_32\", \"model_explain_best_run_child_id\": \"AutoML_5a4a73a8-4b52-4d6c-b7b4-baa8577baefd_32\"}, \"end_time_utc\": \"2021-01-03T19:44:13.85207Z\", \"status\": \"Completed\", \"log_files\": {}, \"log_groups\": [], \"run_duration\": \"0:16:12\"}, \"child_runs\": [{\"run_id\": \"AutoML_5a4a73a8-4b52-4d6c-b7b4-baa8577baefd_0\", \"run_number\": 2, \"metric\": null, \"status\": \"Completed\", \"run_type\": null, \"training_percent\": \"100\", \"start_time\": \"2021-01-03T19:28:09.429923Z\", \"end_time\": \"2021-01-03T19:28:40.372682Z\", \"created_time\": \"2021-01-03T19:28:09.361349Z\", \"created_time_dt\": \"2021-01-03T19:28:09.361349Z\", \"duration\": \"0:00:31\", \"iteration\": \"0\", \"goal\": \"r2_score_max\", \"run_name\": \"MaxAbsScaler, LightGBM\", \"run_properties\": \"copy=True\", \"primary_metric\": 0.88114368, \"best_metric\": 0.88114368}, {\"run_id\": \"AutoML_5a4a73a8-4b52-4d6c-b7b4-baa8577baefd_1\", \"run_number\": 3, \"metric\": null, \"status\": \"Completed\", \"run_type\": null, \"training_percent\": \"100\", \"start_time\": \"2021-01-03T19:28:40.687067Z\", \"end_time\": \"2021-01-03T19:29:05.299651Z\", \"created_time\": \"2021-01-03T19:28:40.612381Z\", \"created_time_dt\": \"2021-01-03T19:28:40.612381Z\", \"duration\": \"0:00:24\", \"iteration\": \"1\", \"goal\": \"r2_score_max\", \"run_name\": \"MaxAbsScaler, XGBoostRegressor\", \"run_properties\": \"copy=True\", \"primary_metric\": 0.80081848, \"best_metric\": 0.88114368}, {\"run_id\": \"AutoML_5a4a73a8-4b52-4d6c-b7b4-baa8577baefd_2\", \"run_number\": 4, \"metric\": null, \"status\": \"Completed\", \"run_type\": null, \"training_percent\": \"100\", \"start_time\": \"2021-01-03T19:29:06.109036Z\", \"end_time\": \"2021-01-03T19:29:32.839737Z\", \"created_time\": \"2021-01-03T19:29:06.032848Z\", \"created_time_dt\": \"2021-01-03T19:29:06.032848Z\", \"duration\": \"0:00:26\", \"iteration\": \"2\", \"goal\": \"r2_score_max\", \"run_name\": \"SparseNormalizer, XGBoostRegressor\", \"run_properties\": \"<azureml.automl.runtime.shared.model_wrappers.SparseNormalizer object at 0x7f02e2aa7240\", \"primary_metric\": 0.76961607, \"best_metric\": 0.88114368}, {\"run_id\": \"AutoML_5a4a73a8-4b52-4d6c-b7b4-baa8577baefd_3\", \"run_number\": 5, \"metric\": null, \"status\": \"Completed\", \"run_type\": null, \"training_percent\": \"100\", \"start_time\": \"2021-01-03T19:29:34.492103Z\", \"end_time\": \"2021-01-03T19:30:04.040789Z\", \"created_time\": \"2021-01-03T19:29:34.421226Z\", \"created_time_dt\": \"2021-01-03T19:29:34.421226Z\", \"duration\": \"0:00:29\", \"iteration\": \"3\", \"goal\": \"r2_score_max\", \"run_name\": \"MaxAbsScaler, RandomForest\", \"run_properties\": \"copy=True\", \"primary_metric\": 0.7959372, \"best_metric\": 0.88114368}, {\"run_id\": \"AutoML_5a4a73a8-4b52-4d6c-b7b4-baa8577baefd_4\", \"run_number\": 6, \"metric\": null, \"status\": \"Completed\", \"run_type\": null, \"training_percent\": \"100\", \"start_time\": \"2021-01-03T19:30:05.471068Z\", \"end_time\": \"2021-01-03T19:30:32.820632Z\", \"created_time\": \"2021-01-03T19:30:05.386259Z\", \"created_time_dt\": \"2021-01-03T19:30:05.386259Z\", \"duration\": \"0:00:27\", \"iteration\": \"4\", \"goal\": \"r2_score_max\", \"run_name\": \"StandardScalerWrapper, XGBoostRegressor\", \"run_properties\": \"<azureml.automl.runtime.shared.model_wrappers.StandardScalerWrapper object at 0x7f02e302f2b0\", \"primary_metric\": 0.89144446, \"best_metric\": 0.89144446}, {\"run_id\": \"AutoML_5a4a73a8-4b52-4d6c-b7b4-baa8577baefd_5\", \"run_number\": 7, \"metric\": null, \"status\": \"Completed\", \"run_type\": null, \"training_percent\": \"100\", \"start_time\": \"2021-01-03T19:30:34.452519Z\", \"end_time\": \"2021-01-03T19:30:59.069712Z\", \"created_time\": \"2021-01-03T19:30:34.356756Z\", \"created_time_dt\": \"2021-01-03T19:30:34.356756Z\", \"duration\": \"0:00:24\", \"iteration\": \"5\", \"goal\": \"r2_score_max\", \"run_name\": \"MaxAbsScaler, ElasticNet\", \"run_properties\": \"copy=True\", \"primary_metric\": 0.46092438, \"best_metric\": 0.89144446}, {\"run_id\": \"AutoML_5a4a73a8-4b52-4d6c-b7b4-baa8577baefd_6\", \"run_number\": 8, \"metric\": null, \"status\": \"Completed\", \"run_type\": null, \"training_percent\": \"100\", \"start_time\": \"2021-01-03T19:31:00.695698Z\", \"end_time\": \"2021-01-03T19:31:34.567107Z\", \"created_time\": \"2021-01-03T19:31:00.609757Z\", \"created_time_dt\": \"2021-01-03T19:31:00.609757Z\", \"duration\": \"0:00:33\", \"iteration\": \"6\", \"goal\": \"r2_score_max\", \"run_name\": \"MinMaxScaler, RandomForest\", \"run_properties\": \"copy=True, feature_range=(0, 1\", \"primary_metric\": 0.80367559, \"best_metric\": 0.89144446}, {\"run_id\": \"AutoML_5a4a73a8-4b52-4d6c-b7b4-baa8577baefd_7\", \"run_number\": 9, \"metric\": null, \"status\": \"Completed\", \"run_type\": null, \"training_percent\": \"100\", \"start_time\": \"2021-01-03T19:31:36.035937Z\", \"end_time\": \"2021-01-03T19:32:03.386631Z\", \"created_time\": \"2021-01-03T19:31:35.952921Z\", \"created_time_dt\": \"2021-01-03T19:31:35.952921Z\", \"duration\": \"0:00:27\", \"iteration\": \"7\", \"goal\": \"r2_score_max\", \"run_name\": \"StandardScalerWrapper, XGBoostRegressor\", \"run_properties\": \"<azureml.automl.runtime.shared.model_wrappers.StandardScalerWrapper object at 0x7f02e2e08cc0\", \"primary_metric\": 0.88491576, \"best_metric\": 0.89144446}, {\"run_id\": \"AutoML_5a4a73a8-4b52-4d6c-b7b4-baa8577baefd_8\", \"run_number\": 10, \"metric\": null, \"status\": \"Completed\", \"run_type\": null, \"training_percent\": \"100\", \"start_time\": \"2021-01-03T19:32:04.868303Z\", \"end_time\": \"2021-01-03T19:32:32.135058Z\", \"created_time\": \"2021-01-03T19:32:04.775836Z\", \"created_time_dt\": \"2021-01-03T19:32:04.775836Z\", \"duration\": \"0:00:27\", \"iteration\": \"8\", \"goal\": \"r2_score_max\", \"run_name\": \"MinMaxScaler, ExtremeRandomTrees\", \"run_properties\": \"copy=True, feature_range=(0, 1\", \"primary_metric\": 0.89151479, \"best_metric\": 0.89151479}, {\"run_id\": \"AutoML_5a4a73a8-4b52-4d6c-b7b4-baa8577baefd_9\", \"run_number\": 11, \"metric\": null, \"status\": \"Completed\", \"run_type\": null, \"training_percent\": \"100\", \"start_time\": \"2021-01-03T19:32:33.676018Z\", \"end_time\": \"2021-01-03T19:32:57.490862Z\", \"created_time\": \"2021-01-03T19:32:33.589079Z\", \"created_time_dt\": \"2021-01-03T19:32:33.589079Z\", \"duration\": \"0:00:23\", \"iteration\": \"9\", \"goal\": \"r2_score_max\", \"run_name\": \"StandardScalerWrapper, ElasticNet\", \"run_properties\": \"<azureml.automl.runtime.shared.model_wrappers.StandardScalerWrapper object at 0x7f02e45505f8\", \"primary_metric\": 0.40359829, \"best_metric\": 0.89151479}, {\"run_id\": \"AutoML_5a4a73a8-4b52-4d6c-b7b4-baa8577baefd_10\", \"run_number\": 12, \"metric\": null, \"status\": \"Completed\", \"run_type\": null, \"training_percent\": \"100\", \"start_time\": \"2021-01-03T19:32:59.010737Z\", \"end_time\": \"2021-01-03T19:33:39.851784Z\", \"created_time\": \"2021-01-03T19:32:58.91018Z\", \"created_time_dt\": \"2021-01-03T19:32:58.91018Z\", \"duration\": \"0:00:40\", \"iteration\": \"10\", \"goal\": \"r2_score_max\", \"run_name\": \"MinMaxScaler, RandomForest\", \"run_properties\": \"copy=True, feature_range=(0, 1\", \"primary_metric\": 0.86137617, \"best_metric\": 0.89151479}, {\"run_id\": \"AutoML_5a4a73a8-4b52-4d6c-b7b4-baa8577baefd_11\", \"run_number\": 13, \"metric\": null, \"status\": \"Completed\", \"run_type\": null, \"training_percent\": \"100\", \"start_time\": \"2021-01-03T19:33:41.387436Z\", \"end_time\": \"2021-01-03T19:34:06.467097Z\", \"created_time\": \"2021-01-03T19:33:41.27311Z\", \"created_time_dt\": \"2021-01-03T19:33:41.27311Z\", \"duration\": \"0:00:25\", \"iteration\": \"11\", \"goal\": \"r2_score_max\", \"run_name\": \"MinMaxScaler, RandomForest\", \"run_properties\": \"copy=True, feature_range=(0, 1\", \"primary_metric\": 0.78528816, \"best_metric\": 0.89151479}, {\"run_id\": \"AutoML_5a4a73a8-4b52-4d6c-b7b4-baa8577baefd_12\", \"run_number\": 14, \"metric\": null, \"status\": \"Completed\", \"run_type\": null, \"training_percent\": \"100\", \"start_time\": \"2021-01-03T19:34:07.99847Z\", \"end_time\": \"2021-01-03T19:34:32.779758Z\", \"created_time\": \"2021-01-03T19:34:07.884114Z\", \"created_time_dt\": \"2021-01-03T19:34:07.884114Z\", \"duration\": \"0:00:24\", \"iteration\": \"12\", \"goal\": \"r2_score_max\", \"run_name\": \"StandardScalerWrapper, XGBoostRegressor\", \"run_properties\": \"<azureml.automl.runtime.shared.model_wrappers.StandardScalerWrapper object at 0x7f037c2b44a8\", \"primary_metric\": 0.33880411, \"best_metric\": 0.89151479}, {\"run_id\": \"AutoML_5a4a73a8-4b52-4d6c-b7b4-baa8577baefd_13\", \"run_number\": 15, \"metric\": null, \"status\": \"Completed\", \"run_type\": null, \"training_percent\": \"100\", \"start_time\": \"2021-01-03T19:34:35.50197Z\", \"end_time\": \"2021-01-03T19:35:00.049245Z\", \"created_time\": \"2021-01-03T19:34:35.400496Z\", \"created_time_dt\": \"2021-01-03T19:34:35.400496Z\", \"duration\": \"0:00:24\", \"iteration\": \"13\", \"goal\": \"r2_score_max\", \"run_name\": \"RobustScaler, LassoLars\", \"run_properties\": \"copy=True, quantile_range=[10, 90], with_centering=False,\\n             with_scaling=True\", \"primary_metric\": 0.48021012, \"best_metric\": 0.89151479}, {\"run_id\": \"AutoML_5a4a73a8-4b52-4d6c-b7b4-baa8577baefd_14\", \"run_number\": 16, \"metric\": null, \"status\": \"Completed\", \"run_type\": null, \"training_percent\": \"100\", \"start_time\": \"2021-01-03T19:35:01.674085Z\", \"end_time\": \"2021-01-03T19:35:26.318994Z\", \"created_time\": \"2021-01-03T19:35:01.580523Z\", \"created_time_dt\": \"2021-01-03T19:35:01.580523Z\", \"duration\": \"0:00:24\", \"iteration\": \"14\", \"goal\": \"r2_score_max\", \"run_name\": \"MinMaxScaler, ExtremeRandomTrees\", \"run_properties\": \"copy=True, feature_range=(0, 1\", \"primary_metric\": 0.90166138, \"best_metric\": 0.90166138}, {\"run_id\": \"AutoML_5a4a73a8-4b52-4d6c-b7b4-baa8577baefd_15\", \"run_number\": 17, \"metric\": null, \"status\": \"Completed\", \"run_type\": null, \"training_percent\": \"100\", \"start_time\": \"2021-01-03T19:35:27.848932Z\", \"end_time\": \"2021-01-03T19:35:52.79156Z\", \"created_time\": \"2021-01-03T19:35:27.740617Z\", \"created_time_dt\": \"2021-01-03T19:35:27.740617Z\", \"duration\": \"0:00:25\", \"iteration\": \"15\", \"goal\": \"r2_score_max\", \"run_name\": \"MaxAbsScaler, ExtremeRandomTrees\", \"run_properties\": \"copy=True\", \"primary_metric\": 0.4514037, \"best_metric\": 0.90166138}, {\"run_id\": \"AutoML_5a4a73a8-4b52-4d6c-b7b4-baa8577baefd_16\", \"run_number\": 18, \"metric\": null, \"status\": \"Completed\", \"run_type\": null, \"training_percent\": \"100\", \"start_time\": \"2021-01-03T19:35:54.276174Z\", \"end_time\": \"2021-01-03T19:36:20.483269Z\", \"created_time\": \"2021-01-03T19:35:54.178823Z\", \"created_time_dt\": \"2021-01-03T19:35:54.178823Z\", \"duration\": \"0:00:26\", \"iteration\": \"16\", \"goal\": \"r2_score_max\", \"run_name\": \"MinMaxScaler, ExtremeRandomTrees\", \"run_properties\": \"copy=True, feature_range=(0, 1\", \"primary_metric\": 0.87408506, \"best_metric\": 0.90166138}, {\"run_id\": \"AutoML_5a4a73a8-4b52-4d6c-b7b4-baa8577baefd_17\", \"run_number\": 19, \"metric\": null, \"status\": \"Completed\", \"run_type\": null, \"training_percent\": \"100\", \"start_time\": \"2021-01-03T19:36:22.013185Z\", \"end_time\": \"2021-01-03T19:36:47.315161Z\", \"created_time\": \"2021-01-03T19:36:21.916681Z\", \"created_time_dt\": \"2021-01-03T19:36:21.916681Z\", \"duration\": \"0:00:25\", \"iteration\": \"17\", \"goal\": \"r2_score_max\", \"run_name\": \"MaxAbsScaler, ElasticNet\", \"run_properties\": \"copy=True\", \"primary_metric\": 0.39792313, \"best_metric\": 0.90166138}, {\"run_id\": \"AutoML_5a4a73a8-4b52-4d6c-b7b4-baa8577baefd_18\", \"run_number\": 20, \"metric\": null, \"status\": \"Completed\", \"run_type\": null, \"training_percent\": \"100\", \"start_time\": \"2021-01-03T19:36:48.901339Z\", \"end_time\": \"2021-01-03T19:37:13.611793Z\", \"created_time\": \"2021-01-03T19:36:48.804173Z\", \"created_time_dt\": \"2021-01-03T19:36:48.804173Z\", \"duration\": \"0:00:24\", \"iteration\": \"18\", \"goal\": \"r2_score_max\", \"run_name\": \"MinMaxScaler, RandomForest\", \"run_properties\": \"copy=True, feature_range=(0, 1\", \"primary_metric\": 0.6052066, \"best_metric\": 0.90166138}, {\"run_id\": \"AutoML_5a4a73a8-4b52-4d6c-b7b4-baa8577baefd_19\", \"run_number\": 21, \"metric\": null, \"status\": \"Completed\", \"run_type\": null, \"training_percent\": \"100\", \"start_time\": \"2021-01-03T19:37:15.068002Z\", \"end_time\": \"2021-01-03T19:37:39.598568Z\", \"created_time\": \"2021-01-03T19:37:14.940625Z\", \"created_time_dt\": \"2021-01-03T19:37:14.940625Z\", \"duration\": \"0:00:24\", \"iteration\": \"19\", \"goal\": \"r2_score_max\", \"run_name\": \"MaxAbsScaler, RandomForest\", \"run_properties\": \"copy=True\", \"primary_metric\": 0.77288937, \"best_metric\": 0.90166138}, {\"run_id\": \"AutoML_5a4a73a8-4b52-4d6c-b7b4-baa8577baefd_20\", \"run_number\": 22, \"metric\": null, \"status\": \"Completed\", \"run_type\": null, \"training_percent\": \"100\", \"start_time\": \"2021-01-03T19:37:41.112355Z\", \"end_time\": \"2021-01-03T19:38:05.797516Z\", \"created_time\": \"2021-01-03T19:37:41.003467Z\", \"created_time_dt\": \"2021-01-03T19:37:41.003467Z\", \"duration\": \"0:00:24\", \"iteration\": \"20\", \"goal\": \"r2_score_max\", \"run_name\": \"RobustScaler, ElasticNet\", \"run_properties\": \"copy=True, quantile_range=[10, 90], with_centering=True,\\n             with_scaling=False\", \"primary_metric\": 0.46286469, \"best_metric\": 0.90166138}, {\"run_id\": \"AutoML_5a4a73a8-4b52-4d6c-b7b4-baa8577baefd_21\", \"run_number\": 23, \"metric\": null, \"status\": \"Completed\", \"run_type\": null, \"training_percent\": \"100\", \"start_time\": \"2021-01-03T19:38:07.29444Z\", \"end_time\": \"2021-01-03T19:38:35.156873Z\", \"created_time\": \"2021-01-03T19:38:07.193069Z\", \"created_time_dt\": \"2021-01-03T19:38:07.193069Z\", \"duration\": \"0:00:27\", \"iteration\": \"21\", \"goal\": \"r2_score_max\", \"run_name\": \"StandardScalerWrapper, RandomForest\", \"run_properties\": \"<azureml.automl.runtime.shared.model_wrappers.StandardScalerWrapper object at 0x7f034de3c128\", \"primary_metric\": 0.61064741, \"best_metric\": 0.90166138}, {\"run_id\": \"AutoML_5a4a73a8-4b52-4d6c-b7b4-baa8577baefd_22\", \"run_number\": 24, \"metric\": null, \"status\": \"Completed\", \"run_type\": null, \"training_percent\": \"100\", \"start_time\": \"2021-01-03T19:38:36.6665Z\", \"end_time\": \"2021-01-03T19:39:04.10199Z\", \"created_time\": \"2021-01-03T19:38:36.575208Z\", \"created_time_dt\": \"2021-01-03T19:38:36.575208Z\", \"duration\": \"0:00:27\", \"iteration\": \"22\", \"goal\": \"r2_score_max\", \"run_name\": \"MinMaxScaler, ExtremeRandomTrees\", \"run_properties\": \"copy=True, feature_range=(0, 1\", \"primary_metric\": 0.86729942, \"best_metric\": 0.90166138}, {\"run_id\": \"AutoML_5a4a73a8-4b52-4d6c-b7b4-baa8577baefd_23\", \"run_number\": 25, \"metric\": null, \"status\": \"Completed\", \"run_type\": null, \"training_percent\": \"100\", \"start_time\": \"2021-01-03T19:39:05.459661Z\", \"end_time\": \"2021-01-03T19:39:57.367892Z\", \"created_time\": \"2021-01-03T19:39:05.358317Z\", \"created_time_dt\": \"2021-01-03T19:39:05.358317Z\", \"duration\": \"0:00:52\", \"iteration\": \"23\", \"goal\": \"r2_score_max\", \"run_name\": \"MinMaxScaler, RandomForest\", \"run_properties\": \"copy=True, feature_range=(0, 1\", \"primary_metric\": 0.84833401, \"best_metric\": 0.90166138}, {\"run_id\": \"AutoML_5a4a73a8-4b52-4d6c-b7b4-baa8577baefd_24\", \"run_number\": 26, \"metric\": null, \"status\": \"Completed\", \"run_type\": null, \"training_percent\": \"100\", \"start_time\": \"2021-01-03T19:39:58.677883Z\", \"end_time\": \"2021-01-03T19:40:25.420502Z\", \"created_time\": \"2021-01-03T19:39:58.558554Z\", \"created_time_dt\": \"2021-01-03T19:39:58.558554Z\", \"duration\": \"0:00:26\", \"iteration\": \"24\", \"goal\": \"r2_score_max\", \"run_name\": \"RobustScaler, LightGBM\", \"run_properties\": \"copy=True, quantile_range=[10, 90], with_centering=False,\\n             with_scaling=True\", \"primary_metric\": 0.88926393, \"best_metric\": 0.90166138}, {\"run_id\": \"AutoML_5a4a73a8-4b52-4d6c-b7b4-baa8577baefd_25\", \"run_number\": 27, \"metric\": null, \"status\": \"Completed\", \"run_type\": null, \"training_percent\": \"100\", \"start_time\": \"2021-01-03T19:40:27.920297Z\", \"end_time\": \"2021-01-03T19:40:53.813451Z\", \"created_time\": \"2021-01-03T19:40:27.818183Z\", \"created_time_dt\": \"2021-01-03T19:40:27.818183Z\", \"duration\": \"0:00:25\", \"iteration\": \"25\", \"goal\": \"r2_score_max\", \"run_name\": \"MaxAbsScaler, ExtremeRandomTrees\", \"run_properties\": \"copy=True\", \"primary_metric\": 0.13425048, \"best_metric\": 0.90166138}, {\"run_id\": \"AutoML_5a4a73a8-4b52-4d6c-b7b4-baa8577baefd_26\", \"run_number\": 28, \"metric\": null, \"status\": \"Completed\", \"run_type\": null, \"training_percent\": \"100\", \"start_time\": \"2021-01-03T19:40:55.211069Z\", \"end_time\": \"2021-01-03T19:41:24.655487Z\", \"created_time\": \"2021-01-03T19:40:55.042948Z\", \"created_time_dt\": \"2021-01-03T19:40:55.042948Z\", \"duration\": \"0:00:29\", \"iteration\": \"26\", \"goal\": \"r2_score_max\", \"run_name\": \"MaxAbsScaler, ExtremeRandomTrees\", \"run_properties\": \"copy=True\", \"primary_metric\": 0.7063206, \"best_metric\": 0.90166138}, {\"run_id\": \"AutoML_5a4a73a8-4b52-4d6c-b7b4-baa8577baefd_27\", \"run_number\": 29, \"metric\": null, \"status\": \"Completed\", \"run_type\": null, \"training_percent\": \"100\", \"start_time\": \"2021-01-03T19:41:26.096767Z\", \"end_time\": \"2021-01-03T19:41:50.920795Z\", \"created_time\": \"2021-01-03T19:41:25.988993Z\", \"created_time_dt\": \"2021-01-03T19:41:25.988993Z\", \"duration\": \"0:00:24\", \"iteration\": \"27\", \"goal\": \"r2_score_max\", \"run_name\": \"MinMaxScaler, RandomForest\", \"run_properties\": \"copy=True, feature_range=(0, 1\", \"primary_metric\": 0.6283171, \"best_metric\": 0.90166138}, {\"run_id\": \"AutoML_5a4a73a8-4b52-4d6c-b7b4-baa8577baefd_28\", \"run_number\": 30, \"metric\": null, \"status\": \"Completed\", \"run_type\": null, \"training_percent\": \"100\", \"start_time\": \"2021-01-03T19:41:52.341163Z\", \"end_time\": \"2021-01-03T19:42:17.278162Z\", \"created_time\": \"2021-01-03T19:41:52.239332Z\", \"created_time_dt\": \"2021-01-03T19:41:52.239332Z\", \"duration\": \"0:00:25\", \"iteration\": \"28\", \"goal\": \"r2_score_max\", \"run_name\": \"MaxAbsScaler, LightGBM\", \"run_properties\": \"copy=True\", \"primary_metric\": 0.73161729, \"best_metric\": 0.90166138}, {\"run_id\": \"AutoML_5a4a73a8-4b52-4d6c-b7b4-baa8577baefd_29\", \"run_number\": 31, \"metric\": null, \"status\": \"Completed\", \"run_type\": null, \"training_percent\": \"100\", \"start_time\": \"2021-01-03T19:42:18.675581Z\", \"end_time\": \"2021-01-03T19:42:43.350204Z\", \"created_time\": \"2021-01-03T19:42:18.568389Z\", \"created_time_dt\": \"2021-01-03T19:42:18.568389Z\", \"duration\": \"0:00:24\", \"iteration\": \"29\", \"goal\": \"r2_score_max\", \"run_name\": \"StandardScalerWrapper, RandomForest\", \"run_properties\": \"<azureml.automl.runtime.shared.model_wrappers.StandardScalerWrapper object at 0x7f02db805c50\", \"primary_metric\": 0.58742716, \"best_metric\": 0.90166138}, {\"run_id\": \"AutoML_5a4a73a8-4b52-4d6c-b7b4-baa8577baefd_30\", \"run_number\": 32, \"metric\": null, \"status\": \"Completed\", \"run_type\": null, \"training_percent\": \"100\", \"start_time\": \"2021-01-03T19:42:45.656931Z\", \"end_time\": \"2021-01-03T19:43:14.633342Z\", \"created_time\": \"2021-01-03T19:42:45.563407Z\", \"created_time_dt\": \"2021-01-03T19:42:45.563407Z\", \"duration\": \"0:00:29\", \"iteration\": \"30\", \"goal\": \"r2_score_max\", \"run_name\": \"TruncatedSVDWrapper, ExtremeRandomTrees\", \"run_properties\": \"n_components=0.7521052631578947, random_state=None\", \"primary_metric\": 0.72489511, \"best_metric\": 0.90166138}, {\"run_id\": \"AutoML_5a4a73a8-4b52-4d6c-b7b4-baa8577baefd_31\", \"run_number\": 33, \"metric\": null, \"status\": \"Completed\", \"run_type\": null, \"training_percent\": \"100\", \"start_time\": \"2021-01-03T19:43:14.962711Z\", \"end_time\": \"2021-01-03T19:43:42.097649Z\", \"created_time\": \"2021-01-03T19:43:14.860752Z\", \"created_time_dt\": \"2021-01-03T19:43:14.860752Z\", \"duration\": \"0:00:27\", \"iteration\": \"31\", \"goal\": \"r2_score_max\", \"run_name\": \"VotingEnsemble\", \"run_properties\": \"estimators=[('14',\\n                                          Pipeline(memory=None,\\n                                                   steps=[('minmaxscaler',\\n                                                           MinMaxScaler(copy=True,\\n                                                                        feature_range=(0,\\n                                                                                       1\", \"primary_metric\": 0.90717645, \"best_metric\": 0.90717645}, {\"run_id\": \"AutoML_5a4a73a8-4b52-4d6c-b7b4-baa8577baefd_32\", \"run_number\": 34, \"metric\": null, \"status\": \"Completed\", \"run_type\": null, \"training_percent\": \"100\", \"start_time\": \"2021-01-03T19:43:42.40355Z\", \"end_time\": \"2021-01-03T19:44:09.417034Z\", \"created_time\": \"2021-01-03T19:43:42.311175Z\", \"created_time_dt\": \"2021-01-03T19:43:42.311175Z\", \"duration\": \"0:00:27\", \"iteration\": \"32\", \"goal\": \"r2_score_max\", \"run_name\": \"StackEnsemble\", \"run_properties\": \"base_learners=[('14',\\n                                       Pipeline(memory=None,\\n                                                steps=[('minmaxscaler',\\n                                                        MinMaxScaler(copy=True,\\n                                                                     feature_range=(0,\\n                                                                                    1\", \"primary_metric\": 0.90871834, \"best_metric\": 0.90871834}], \"children_metrics\": {\"categories\": [0], \"series\": {\"mean_absolute_percentage_error\": [{\"categories\": [\"0\", \"1\", \"2\", \"3\", \"4\", \"5\", \"6\", \"7\", \"8\", \"9\", \"10\", \"11\", \"12\", \"13\", \"14\", \"15\", \"16\", \"17\", \"18\", \"19\", \"20\", \"21\", \"22\", \"23\", \"24\", \"25\", \"26\", \"27\", \"28\", \"29\", \"30\", \"31\", \"32\"], \"mode\": \"markers\", \"name\": \"mean_absolute_percentage_error\", \"stepped\": false, \"type\": \"scatter\", \"data\": [2.450799905035118, 3.768673190156766, 4.034126693310907, 3.8155563001342983, 2.191939347611967, 6.870699576179394, 3.5428443625257935, 2.4624378793909094, 2.408242290225116, 7.249491285999191, 2.9908646585918714, 3.9481595770574938, 7.540486472406997, 6.785604449274526, 2.122231215226432, 6.780859525154373, 2.6824568896375136, 7.263904503851113, 5.481477115517937, 3.9057820731732917, 6.847521161163958, 5.790173812634614, 2.9217109146143767, 3.0150352112433, 2.406861058166175, 10.13485661761983, 4.9084073035230675, 5.337724182530098, 4.569497611869697, 5.9745438399421325, 4.227927145997922, 2.106076121975494, 2.1448335388763966]}, {\"categories\": [\"0\", \"1\", \"2\", \"3\", \"4\", \"5\", \"6\", \"7\", \"8\", \"9\", \"10\", \"11\", \"12\", \"13\", \"14\", \"15\", \"16\", \"17\", \"18\", \"19\", \"20\", \"21\", \"22\", \"23\", \"24\", \"25\", \"26\", \"27\", \"28\", \"29\", \"30\", \"31\", \"32\"], \"mode\": \"lines\", \"name\": \"mean_absolute_percentage_error_min\", \"stepped\": true, \"type\": \"scatter\", \"data\": [2.450799905035118, 2.450799905035118, 2.450799905035118, 2.450799905035118, 2.191939347611967, 2.191939347611967, 2.191939347611967, 2.191939347611967, 2.191939347611967, 2.191939347611967, 2.191939347611967, 2.191939347611967, 2.191939347611967, 2.191939347611967, 2.122231215226432, 2.122231215226432, 2.122231215226432, 2.122231215226432, 2.122231215226432, 2.122231215226432, 2.122231215226432, 2.122231215226432, 2.122231215226432, 2.122231215226432, 2.122231215226432, 2.122231215226432, 2.122231215226432, 2.122231215226432, 2.122231215226432, 2.122231215226432, 2.122231215226432, 2.106076121975494, 2.106076121975494]}], \"normalized_root_mean_squared_error\": [{\"categories\": [\"0\", \"1\", \"2\", \"3\", \"4\", \"5\", \"6\", \"7\", \"8\", \"9\", \"10\", \"11\", \"12\", \"13\", \"14\", \"15\", \"16\", \"17\", \"18\", \"19\", \"20\", \"21\", \"22\", \"23\", \"24\", \"25\", \"26\", \"27\", \"28\", \"29\", \"30\", \"31\", \"32\"], \"mode\": \"markers\", \"name\": \"normalized_root_mean_squared_error\", \"stepped\": false, \"type\": \"scatter\", \"data\": [0.1360029764238931, 0.1764310125530519, 0.18968594829737884, 0.1785593630409004, 0.13007610635262434, 0.29026986339115834, 0.17514142743804925, 0.13390819849996935, 0.1301249041494154, 0.30530679423907175, 0.14702243612475432, 0.18304070516872753, 0.3213748564878776, 0.2850270593472151, 0.1238640770800045, 0.29280122115183527, 0.14024352067430537, 0.30675563245394505, 0.24836963595799288, 0.1883260667248988, 0.28974664459218114, 0.24666528101463867, 0.14397756644922485, 0.15369828973694094, 0.13137251659503515, 0.3678249895887959, 0.21422797615391728, 0.24102251313363723, 0.2048072558979039, 0.25392222785974305, 0.20725435517925442, 0.12027632542764939, 0.11926039938932927]}, {\"categories\": [\"0\", \"1\", \"2\", \"3\", \"4\", \"5\", \"6\", \"7\", \"8\", \"9\", \"10\", \"11\", \"12\", \"13\", \"14\", \"15\", \"16\", \"17\", \"18\", \"19\", \"20\", \"21\", \"22\", \"23\", \"24\", \"25\", \"26\", \"27\", \"28\", \"29\", \"30\", \"31\", \"32\"], \"mode\": \"lines\", \"name\": \"normalized_root_mean_squared_error_min\", \"stepped\": true, \"type\": \"scatter\", \"data\": [0.1360029764238931, 0.1360029764238931, 0.1360029764238931, 0.1360029764238931, 0.13007610635262434, 0.13007610635262434, 0.13007610635262434, 0.13007610635262434, 0.13007610635262434, 0.13007610635262434, 0.13007610635262434, 0.13007610635262434, 0.13007610635262434, 0.13007610635262434, 0.1238640770800045, 0.1238640770800045, 0.1238640770800045, 0.1238640770800045, 0.1238640770800045, 0.1238640770800045, 0.1238640770800045, 0.1238640770800045, 0.1238640770800045, 0.1238640770800045, 0.1238640770800045, 0.1238640770800045, 0.1238640770800045, 0.1238640770800045, 0.1238640770800045, 0.1238640770800045, 0.1238640770800045, 0.12027632542764939, 0.11926039938932927]}], \"r2_score\": [{\"categories\": [\"0\", \"1\", \"2\", \"3\", \"4\", \"5\", \"6\", \"7\", \"8\", \"9\", \"10\", \"11\", \"12\", \"13\", \"14\", \"15\", \"16\", \"17\", \"18\", \"19\", \"20\", \"21\", \"22\", \"23\", \"24\", \"25\", \"26\", \"27\", \"28\", \"29\", \"30\", \"31\", \"32\"], \"mode\": \"markers\", \"name\": \"r2_score\", \"stepped\": false, \"type\": \"scatter\", \"data\": [0.8811436804843412, 0.8008184773719355, 0.7696160718277624, 0.7959371983582352, 0.891444457333774, 0.4609243823513898, 0.8036755851880325, 0.8849157617862048, 0.8915147872834255, 0.4035982922874317, 0.8613761657247254, 0.7852881633019151, 0.3388041069791952, 0.48021011935400715, 0.9016613847242029, 0.45140369709973793, 0.8740850578273847, 0.3979231330240151, 0.6052066047801095, 0.7728893681798393, 0.46286469289151144, 0.6106474122267345, 0.8672994201008793, 0.8483340141938287, 0.8892639260019309, 0.13425047521056335, 0.7063205988790008, 0.6283170997067236, 0.7316172856018311, 0.5874271598310924, 0.7248951102940508, 0.9071764466014156, 0.9087183359808103]}, {\"categories\": [\"0\", \"1\", \"2\", \"3\", \"4\", \"5\", \"6\", \"7\", \"8\", \"9\", \"10\", \"11\", \"12\", \"13\", \"14\", \"15\", \"16\", \"17\", \"18\", \"19\", \"20\", \"21\", \"22\", \"23\", \"24\", \"25\", \"26\", \"27\", \"28\", \"29\", \"30\", \"31\", \"32\"], \"mode\": \"lines\", \"name\": \"r2_score_max\", \"stepped\": true, \"type\": \"scatter\", \"data\": [0.8811436804843412, 0.8811436804843412, 0.8811436804843412, 0.8811436804843412, 0.891444457333774, 0.891444457333774, 0.891444457333774, 0.891444457333774, 0.8915147872834255, 0.8915147872834255, 0.8915147872834255, 0.8915147872834255, 0.8915147872834255, 0.8915147872834255, 0.9016613847242029, 0.9016613847242029, 0.9016613847242029, 0.9016613847242029, 0.9016613847242029, 0.9016613847242029, 0.9016613847242029, 0.9016613847242029, 0.9016613847242029, 0.9016613847242029, 0.9016613847242029, 0.9016613847242029, 0.9016613847242029, 0.9016613847242029, 0.9016613847242029, 0.9016613847242029, 0.9016613847242029, 0.9071764466014156, 0.9087183359808103]}], \"explained_variance\": [{\"categories\": [\"0\", \"1\", \"2\", \"3\", \"4\", \"5\", \"6\", \"7\", \"8\", \"9\", \"10\", \"11\", \"12\", \"13\", \"14\", \"15\", \"16\", \"17\", \"18\", \"19\", \"20\", \"21\", \"22\", \"23\", \"24\", \"25\", \"26\", \"27\", \"28\", \"29\", \"30\", \"31\", \"32\"], \"mode\": \"markers\", \"name\": \"explained_variance\", \"stepped\": false, \"type\": \"scatter\", \"data\": [0.8813922769545574, 0.8019062090139869, 0.7709289842916821, 0.7967333388322002, 0.8917091056600984, 0.4613015186537184, 0.8044537873251453, 0.8853745532442613, 0.8917572346998242, 0.40425980331050787, 0.8617297700113693, 0.7860757288803081, 0.7468579442185256, 0.4806492871197346, 0.9018620110625154, 0.45254336775662835, 0.8743963606111204, 0.39858145613305895, 0.6063291270765924, 0.7736141642899431, 0.46322452236716805, 0.6121207421062431, 0.8675635129655755, 0.848668361210002, 0.8896387459851046, 0.1361441576645933, 0.7070255256950184, 0.629556208376918, 0.7332738582006173, 0.5890442161243299, 0.7271026083753173, 0.9074069850184943, 0.9091170284368056]}, {\"categories\": [\"0\", \"1\", \"2\", \"3\", \"4\", \"5\", \"6\", \"7\", \"8\", \"9\", \"10\", \"11\", \"12\", \"13\", \"14\", \"15\", \"16\", \"17\", \"18\", \"19\", \"20\", \"21\", \"22\", \"23\", \"24\", \"25\", \"26\", \"27\", \"28\", \"29\", \"30\", \"31\", \"32\"], \"mode\": \"lines\", \"name\": \"explained_variance_max\", \"stepped\": true, \"type\": \"scatter\", \"data\": [0.8813922769545574, 0.8813922769545574, 0.8813922769545574, 0.8813922769545574, 0.8917091056600984, 0.8917091056600984, 0.8917091056600984, 0.8917091056600984, 0.8917572346998242, 0.8917572346998242, 0.8917572346998242, 0.8917572346998242, 0.8917572346998242, 0.8917572346998242, 0.9018620110625154, 0.9018620110625154, 0.9018620110625154, 0.9018620110625154, 0.9018620110625154, 0.9018620110625154, 0.9018620110625154, 0.9018620110625154, 0.9018620110625154, 0.9018620110625154, 0.9018620110625154, 0.9018620110625154, 0.9018620110625154, 0.9018620110625154, 0.9018620110625154, 0.9018620110625154, 0.9018620110625154, 0.9074069850184943, 0.9091170284368056]}], \"root_mean_squared_log_error\": [{\"categories\": [\"0\", \"1\", \"2\", \"3\", \"4\", \"5\", \"6\", \"7\", \"8\", \"9\", \"10\", \"11\", \"12\", \"13\", \"14\", \"15\", \"16\", \"17\", \"18\", \"19\", \"20\", \"21\", \"22\", \"23\", \"24\", \"25\", \"26\", \"27\", \"28\", \"29\", \"30\", \"31\", \"32\"], \"mode\": \"markers\", \"name\": \"root_mean_squared_log_error\", \"stepped\": false, \"type\": \"scatter\", \"data\": [0.04115870089163019, 0.053725808824542955, 0.05758784805883468, 0.05455284306216468, 0.03928869926928979, 0.08991370910120793, 0.05297448327343216, 0.04033669599190164, 0.03891552525387533, 0.09500495092582706, 0.044886816685664216, 0.05624821728249335, 0.09448345925120809, 0.08788536721687419, 0.037337508255920394, 0.09098491650733194, 0.04204095203883954, 0.09541729457588898, 0.07667077060333817, 0.057314426023225645, 0.08963338035438467, 0.07661494395155417, 0.04359763305513272, 0.04706492251820848, 0.03963371230336211, 0.1136329617685128, 0.06634789492047581, 0.0742755955462893, 0.0626648024939069, 0.07881985913883573, 0.06359383632320306, 0.036166788498523894, 0.03572003496781372]}, {\"categories\": [\"0\", \"1\", \"2\", \"3\", \"4\", \"5\", \"6\", \"7\", \"8\", \"9\", \"10\", \"11\", \"12\", \"13\", \"14\", \"15\", \"16\", \"17\", \"18\", \"19\", \"20\", \"21\", \"22\", \"23\", \"24\", \"25\", \"26\", \"27\", \"28\", \"29\", \"30\", \"31\", \"32\"], \"mode\": \"lines\", \"name\": \"root_mean_squared_log_error_min\", \"stepped\": true, \"type\": \"scatter\", \"data\": [0.04115870089163019, 0.04115870089163019, 0.04115870089163019, 0.04115870089163019, 0.03928869926928979, 0.03928869926928979, 0.03928869926928979, 0.03928869926928979, 0.03891552525387533, 0.03891552525387533, 0.03891552525387533, 0.03891552525387533, 0.03891552525387533, 0.03891552525387533, 0.037337508255920394, 0.037337508255920394, 0.037337508255920394, 0.037337508255920394, 0.037337508255920394, 0.037337508255920394, 0.037337508255920394, 0.037337508255920394, 0.037337508255920394, 0.037337508255920394, 0.037337508255920394, 0.037337508255920394, 0.037337508255920394, 0.037337508255920394, 0.037337508255920394, 0.037337508255920394, 0.037337508255920394, 0.036166788498523894, 0.03572003496781372]}], \"normalized_root_mean_squared_log_error\": [{\"categories\": [\"0\", \"1\", \"2\", \"3\", \"4\", \"5\", \"6\", \"7\", \"8\", \"9\", \"10\", \"11\", \"12\", \"13\", \"14\", \"15\", \"16\", \"17\", \"18\", \"19\", \"20\", \"21\", \"22\", \"23\", \"24\", \"25\", \"26\", \"27\", \"28\", \"29\", \"30\", \"31\", \"32\"], \"mode\": \"markers\", \"name\": \"normalized_root_mean_squared_log_error\", \"stepped\": false, \"type\": \"scatter\", \"data\": [0.13231950888485458, 0.17272101606955123, 0.1851369360015489, 0.1753798163179167, 0.1263077133004055, 0.2890600911241806, 0.17030560873691022, 0.12967687725954147, 0.12510801065239818, 0.30542772672136304, 0.14430488355037926, 0.18083020905019928, 0.3037512033914647, 0.28253925358141446, 0.12003490509614845, 0.2925038742082325, 0.13515582383121824, 0.3067533543064425, 0.24648588250558934, 0.18425792211903244, 0.2881588731240394, 0.24630640757108657, 0.1401603371687171, 0.15130719139338752, 0.12741688230327378, 0.36531419526408526, 0.21329927041517904, 0.23878572724373046, 0.2014586396250019, 0.2533949037673594, 0.2044453543989583, 0.11627120361906897, 0.1148349530451796]}, {\"categories\": [\"0\", \"1\", \"2\", \"3\", \"4\", \"5\", \"6\", \"7\", \"8\", \"9\", \"10\", \"11\", \"12\", \"13\", \"14\", \"15\", \"16\", \"17\", \"18\", \"19\", \"20\", \"21\", \"22\", \"23\", \"24\", \"25\", \"26\", \"27\", \"28\", \"29\", \"30\", \"31\", \"32\"], \"mode\": \"lines\", \"name\": \"normalized_root_mean_squared_log_error_min\", \"stepped\": true, \"type\": \"scatter\", \"data\": [0.13231950888485458, 0.13231950888485458, 0.13231950888485458, 0.13231950888485458, 0.1263077133004055, 0.1263077133004055, 0.1263077133004055, 0.1263077133004055, 0.12510801065239818, 0.12510801065239818, 0.12510801065239818, 0.12510801065239818, 0.12510801065239818, 0.12510801065239818, 0.12003490509614845, 0.12003490509614845, 0.12003490509614845, 0.12003490509614845, 0.12003490509614845, 0.12003490509614845, 0.12003490509614845, 0.12003490509614845, 0.12003490509614845, 0.12003490509614845, 0.12003490509614845, 0.12003490509614845, 0.12003490509614845, 0.12003490509614845, 0.12003490509614845, 0.12003490509614845, 0.12003490509614845, 0.11627120361906897, 0.1148349530451796]}], \"mean_absolute_error\": [{\"categories\": [\"0\", \"1\", \"2\", \"3\", \"4\", \"5\", \"6\", \"7\", \"8\", \"9\", \"10\", \"11\", \"12\", \"13\", \"14\", \"15\", \"16\", \"17\", \"18\", \"19\", \"20\", \"21\", \"22\", \"23\", \"24\", \"25\", \"26\", \"27\", \"28\", \"29\", \"30\", \"31\", \"32\"], \"mode\": \"markers\", \"name\": \"mean_absolute_error\", \"stepped\": false, \"type\": \"scatter\", \"data\": [2.160617279335803, 3.2938148619636656, 3.5617778406121565, 3.3065739628321182, 1.9380698829010772, 5.904681913728254, 3.095190818688399, 2.184612466202301, 2.1309255848430646, 6.167872991935727, 2.594136179611622, 3.410373741794069, 7.177984719481867, 5.879682900870592, 1.8687057256172903, 5.764564650133193, 2.364758447854124, 6.182865930147108, 4.695117706434549, 3.3901890235644974, 5.902703994689564, 4.954925618469852, 2.542570955026091, 2.609548752834467, 2.1297059011089985, 8.715417586037162, 4.203973166151633, 4.576969535640051, 3.9811071723461744, 5.113970087530787, 3.64485260770975, 1.8638587469180277, 1.9207340940408593]}, {\"categories\": [\"0\", \"1\", \"2\", \"3\", \"4\", \"5\", \"6\", \"7\", \"8\", \"9\", \"10\", \"11\", \"12\", \"13\", \"14\", \"15\", \"16\", \"17\", \"18\", \"19\", \"20\", \"21\", \"22\", \"23\", \"24\", \"25\", \"26\", \"27\", \"28\", \"29\", \"30\", \"31\", \"32\"], \"mode\": \"lines\", \"name\": \"mean_absolute_error_min\", \"stepped\": true, \"type\": \"scatter\", \"data\": [2.160617279335803, 2.160617279335803, 2.160617279335803, 2.160617279335803, 1.9380698829010772, 1.9380698829010772, 1.9380698829010772, 1.9380698829010772, 1.9380698829010772, 1.9380698829010772, 1.9380698829010772, 1.9380698829010772, 1.9380698829010772, 1.9380698829010772, 1.8687057256172903, 1.8687057256172903, 1.8687057256172903, 1.8687057256172903, 1.8687057256172903, 1.8687057256172903, 1.8687057256172903, 1.8687057256172903, 1.8687057256172903, 1.8687057256172903, 1.8687057256172903, 1.8687057256172903, 1.8687057256172903, 1.8687057256172903, 1.8687057256172903, 1.8687057256172903, 1.8687057256172903, 1.8638587469180277, 1.8638587469180277]}], \"spearman_correlation\": [{\"categories\": [\"0\", \"1\", \"2\", \"3\", \"4\", \"5\", \"6\", \"7\", \"8\", \"9\", \"10\", \"11\", \"12\", \"13\", \"14\", \"15\", \"16\", \"17\", \"18\", \"19\", \"20\", \"21\", \"22\", \"23\", \"24\", \"25\", \"26\", \"27\", \"28\", \"29\", \"30\", \"31\", \"32\"], \"mode\": \"markers\", \"name\": \"spearman_correlation\", \"stepped\": false, \"type\": \"scatter\", \"data\": [0.8862559170277914, 0.866078811050563, 0.8510101326642262, 0.8669533888372544, 0.8916724593987885, 0.6779688751443095, 0.8651247286911846, 0.890743298961355, 0.9122953901259071, 0.6105291621960669, 0.891172506441884, 0.8705718859332946, 0.851949713004438, 0.6951359827606822, 0.9163217101083184, 0.7090765684391052, 0.9060236737661983, 0.5813135688613418, 0.7939616504294656, 0.8524721570594559, 0.6738174260300486, 0.8214258527111918, 0.9072599070700341, 0.8895773927559945, 0.8910684468121753, 0.5641122892100102, 0.8731855961251812, 0.805447599020908, 0.8487690848762869, 0.8023290551311901, 0.8425283944976224, 0.8990795128873632, 0.8989455987016305]}, {\"categories\": [\"0\", \"1\", \"2\", \"3\", \"4\", \"5\", \"6\", \"7\", \"8\", \"9\", \"10\", \"11\", \"12\", \"13\", \"14\", \"15\", \"16\", \"17\", \"18\", \"19\", \"20\", \"21\", \"22\", \"23\", \"24\", \"25\", \"26\", \"27\", \"28\", \"29\", \"30\", \"31\", \"32\"], \"mode\": \"lines\", \"name\": \"spearman_correlation_max\", \"stepped\": true, \"type\": \"scatter\", \"data\": [0.8862559170277914, 0.8862559170277914, 0.8862559170277914, 0.8862559170277914, 0.8916724593987885, 0.8916724593987885, 0.8916724593987885, 0.8916724593987885, 0.9122953901259071, 0.9122953901259071, 0.9122953901259071, 0.9122953901259071, 0.9122953901259071, 0.9122953901259071, 0.9163217101083184, 0.9163217101083184, 0.9163217101083184, 0.9163217101083184, 0.9163217101083184, 0.9163217101083184, 0.9163217101083184, 0.9163217101083184, 0.9163217101083184, 0.9163217101083184, 0.9163217101083184, 0.9163217101083184, 0.9163217101083184, 0.9163217101083184, 0.9163217101083184, 0.9163217101083184, 0.9163217101083184, 0.9163217101083184, 0.9163217101083184]}], \"normalized_median_absolute_error\": [{\"categories\": [\"0\", \"1\", \"2\", \"3\", \"4\", \"5\", \"6\", \"7\", \"8\", \"9\", \"10\", \"11\", \"12\", \"13\", \"14\", \"15\", \"16\", \"17\", \"18\", \"19\", \"20\", \"21\", \"22\", \"23\", \"24\", \"25\", \"26\", \"27\", \"28\", \"29\", \"30\", \"31\", \"32\"], \"mode\": \"markers\", \"name\": \"normalized_median_absolute_error\", \"stepped\": false, \"type\": \"scatter\", \"data\": [0.03543769042858441, 0.07859839922116127, 0.08648267204378857, 0.08571250355485512, 0.02688881202980324, 0.16541169476970985, 0.07364674682864471, 0.03944114402488426, 0.0339161492505717, 0.1764503911455485, 0.05910435676259131, 0.09034515761771794, 0.2653749254014757, 0.16694672799562804, 0.022716049382716267, 0.16851492485050687, 0.04246917291641186, 0.1770357732870562, 0.10358981156861248, 0.09054133493921908, 0.1659195849174677, 0.144732331026152, 0.061780702754749006, 0.05228395061728377, 0.039037282028591795, 0.3220399322969538, 0.12065506825581294, 0.09989646467340961, 0.09434647912745518, 0.15150472958017372, 0.08518518518518509, 0.02644975632227073, 0.0271704017321867]}, {\"categories\": [\"0\", \"1\", \"2\", \"3\", \"4\", \"5\", \"6\", \"7\", \"8\", \"9\", \"10\", \"11\", \"12\", \"13\", \"14\", \"15\", \"16\", \"17\", \"18\", \"19\", \"20\", \"21\", \"22\", \"23\", \"24\", \"25\", \"26\", \"27\", \"28\", \"29\", \"30\", \"31\", \"32\"], \"mode\": \"lines\", \"name\": \"normalized_median_absolute_error_min\", \"stepped\": true, \"type\": \"scatter\", \"data\": [0.03543769042858441, 0.03543769042858441, 0.03543769042858441, 0.03543769042858441, 0.02688881202980324, 0.02688881202980324, 0.02688881202980324, 0.02688881202980324, 0.02688881202980324, 0.02688881202980324, 0.02688881202980324, 0.02688881202980324, 0.02688881202980324, 0.02688881202980324, 0.022716049382716267, 0.022716049382716267, 0.022716049382716267, 0.022716049382716267, 0.022716049382716267, 0.022716049382716267, 0.022716049382716267, 0.022716049382716267, 0.022716049382716267, 0.022716049382716267, 0.022716049382716267, 0.022716049382716267, 0.022716049382716267, 0.022716049382716267, 0.022716049382716267, 0.022716049382716267, 0.022716049382716267, 0.022716049382716267, 0.022716049382716267]}], \"root_mean_squared_error\": [{\"categories\": [\"0\", \"1\", \"2\", \"3\", \"4\", \"5\", \"6\", \"7\", \"8\", \"9\", \"10\", \"11\", \"12\", \"13\", \"14\", \"15\", \"16\", \"17\", \"18\", \"19\", \"20\", \"21\", \"22\", \"23\", \"24\", \"25\", \"26\", \"27\", \"28\", \"29\", \"30\", \"31\", \"32\"], \"mode\": \"markers\", \"name\": \"root_mean_squared_error\", \"stepped\": false, \"type\": \"scatter\", \"data\": [3.672080363445114, 4.7636373389324005, 5.121520604029229, 4.821102802104311, 3.512054871520857, 7.837286311561275, 4.72881854082733, 3.615521359499173, 3.5133724120342165, 8.243283444454939, 3.9696057753683665, 4.942099039555644, 8.677121125172697, 7.695730602374808, 3.344330081160122, 7.9056329710995525, 3.7865750582062456, 8.282402076256515, 6.705980170865808, 5.084803801572267, 7.82315940398889, 6.659962587395245, 3.8873942941290713, 4.149853822897406, 3.5470579480659485, 9.93127471889749, 5.784155356155767, 6.507607854608207, 5.529795909243407, 6.855900152213063, 5.5958675898398695, 3.2474607865465344, 3.22003078351189]}, {\"categories\": [\"0\", \"1\", \"2\", \"3\", \"4\", \"5\", \"6\", \"7\", \"8\", \"9\", \"10\", \"11\", \"12\", \"13\", \"14\", \"15\", \"16\", \"17\", \"18\", \"19\", \"20\", \"21\", \"22\", \"23\", \"24\", \"25\", \"26\", \"27\", \"28\", \"29\", \"30\", \"31\", \"32\"], \"mode\": \"lines\", \"name\": \"root_mean_squared_error_min\", \"stepped\": true, \"type\": \"scatter\", \"data\": [3.672080363445114, 3.672080363445114, 3.672080363445114, 3.672080363445114, 3.512054871520857, 3.512054871520857, 3.512054871520857, 3.512054871520857, 3.512054871520857, 3.512054871520857, 3.512054871520857, 3.512054871520857, 3.512054871520857, 3.512054871520857, 3.344330081160122, 3.344330081160122, 3.344330081160122, 3.344330081160122, 3.344330081160122, 3.344330081160122, 3.344330081160122, 3.344330081160122, 3.344330081160122, 3.344330081160122, 3.344330081160122, 3.344330081160122, 3.344330081160122, 3.344330081160122, 3.344330081160122, 3.344330081160122, 3.344330081160122, 3.2474607865465344, 3.22003078351189]}], \"normalized_mean_absolute_error\": [{\"categories\": [\"0\", \"1\", \"2\", \"3\", \"4\", \"5\", \"6\", \"7\", \"8\", \"9\", \"10\", \"11\", \"12\", \"13\", \"14\", \"15\", \"16\", \"17\", \"18\", \"19\", \"20\", \"21\", \"22\", \"23\", \"24\", \"25\", \"26\", \"27\", \"28\", \"29\", \"30\", \"31\", \"32\"], \"mode\": \"markers\", \"name\": \"normalized_mean_absolute_error\", \"stepped\": false, \"type\": \"scatter\", \"data\": [0.08002286219762235, 0.12199314303569131, 0.13191769780045023, 0.12246570232711551, 0.07178036603337322, 0.21869192273067606, 0.11463669698845923, 0.08091157282230745, 0.0789231698090024, 0.22843974044206397, 0.0960791177633934, 0.12631013858496554, 0.26585128590673585, 0.21776603336557745, 0.06921132317101075, 0.21350239444937755, 0.08758364621681941, 0.2289950344498929, 0.17389324838646478, 0.1255625564283147, 0.21861866646998385, 0.18351576364703157, 0.09416929463059596, 0.09664995380868396, 0.0788779963373703, 0.3227932439273023, 0.1557027098574679, 0.16951739020889076, 0.14744841379059903, 0.1894062995381773, 0.13499454102628705, 0.06903180544140843, 0.07113829977929108]}, {\"categories\": [\"0\", \"1\", \"2\", \"3\", \"4\", \"5\", \"6\", \"7\", \"8\", \"9\", \"10\", \"11\", \"12\", \"13\", \"14\", \"15\", \"16\", \"17\", \"18\", \"19\", \"20\", \"21\", \"22\", \"23\", \"24\", \"25\", \"26\", \"27\", \"28\", \"29\", \"30\", \"31\", \"32\"], \"mode\": \"lines\", \"name\": \"normalized_mean_absolute_error_min\", \"stepped\": true, \"type\": \"scatter\", \"data\": [0.08002286219762235, 0.08002286219762235, 0.08002286219762235, 0.08002286219762235, 0.07178036603337322, 0.07178036603337322, 0.07178036603337322, 0.07178036603337322, 0.07178036603337322, 0.07178036603337322, 0.07178036603337322, 0.07178036603337322, 0.07178036603337322, 0.07178036603337322, 0.06921132317101075, 0.06921132317101075, 0.06921132317101075, 0.06921132317101075, 0.06921132317101075, 0.06921132317101075, 0.06921132317101075, 0.06921132317101075, 0.06921132317101075, 0.06921132317101075, 0.06921132317101075, 0.06921132317101075, 0.06921132317101075, 0.06921132317101075, 0.06921132317101075, 0.06921132317101075, 0.06921132317101075, 0.06903180544140843, 0.06903180544140843]}], \"median_absolute_error\": [{\"categories\": [\"0\", \"1\", \"2\", \"3\", \"4\", \"5\", \"6\", \"7\", \"8\", \"9\", \"10\", \"11\", \"12\", \"13\", \"14\", \"15\", \"16\", \"17\", \"18\", \"19\", \"20\", \"21\", \"22\", \"23\", \"24\", \"25\", \"26\", \"27\", \"28\", \"29\", \"30\", \"31\", \"32\"], \"mode\": \"markers\", \"name\": \"median_absolute_error\", \"stepped\": false, \"type\": \"scatter\", \"data\": [0.9568176415717792, 2.122156778971354, 2.3350321451822915, 2.3142375959810884, 0.7259979248046875, 4.466115758782166, 1.9884621643734068, 1.064910888671875, 0.9157360297654359, 4.76416056092981, 1.5958176325899653, 2.4393192556783845, 7.165122985839844, 4.507561655881958, 0.6133333333333392, 4.549902970963686, 1.1466676687431203, 4.779965878750517, 2.7969249123525373, 2.444616043358915, 4.479828792771627, 3.907772937706104, 1.6680789743782232, 1.4116666666666617, 1.0540066147719784, 8.695078172017753, 3.257686842906949, 2.6972045461820593, 2.5473549364412897, 4.09062769866469, 2.299999999999997, 0.7141434207013097, 0.733600846769041]}, {\"categories\": [\"0\", \"1\", \"2\", \"3\", \"4\", \"5\", \"6\", \"7\", \"8\", \"9\", \"10\", \"11\", \"12\", \"13\", \"14\", \"15\", \"16\", \"17\", \"18\", \"19\", \"20\", \"21\", \"22\", \"23\", \"24\", \"25\", \"26\", \"27\", \"28\", \"29\", \"30\", \"31\", \"32\"], \"mode\": \"lines\", \"name\": \"median_absolute_error_min\", \"stepped\": true, \"type\": \"scatter\", \"data\": [0.9568176415717792, 0.9568176415717792, 0.9568176415717792, 0.9568176415717792, 0.7259979248046875, 0.7259979248046875, 0.7259979248046875, 0.7259979248046875, 0.7259979248046875, 0.7259979248046875, 0.7259979248046875, 0.7259979248046875, 0.7259979248046875, 0.7259979248046875, 0.6133333333333392, 0.6133333333333392, 0.6133333333333392, 0.6133333333333392, 0.6133333333333392, 0.6133333333333392, 0.6133333333333392, 0.6133333333333392, 0.6133333333333392, 0.6133333333333392, 0.6133333333333392, 0.6133333333333392, 0.6133333333333392, 0.6133333333333392, 0.6133333333333392, 0.6133333333333392, 0.6133333333333392, 0.6133333333333392, 0.6133333333333392]}]}, \"metricName\": null, \"primaryMetricName\": \"r2_score\", \"showLegend\": false}, \"run_metrics\": [{\"name\": \"mean_absolute_error\", \"run_id\": \"AutoML_5a4a73a8-4b52-4d6c-b7b4-baa8577baefd\", \"categories\": [0], \"series\": [{\"data\": [1.9207340940408593]}]}, {\"name\": \"normalized_mean_absolute_error\", \"run_id\": \"AutoML_5a4a73a8-4b52-4d6c-b7b4-baa8577baefd\", \"categories\": [0], \"series\": [{\"data\": [0.07113829977929108]}]}, {\"name\": \"explained_variance\", \"run_id\": \"AutoML_5a4a73a8-4b52-4d6c-b7b4-baa8577baefd\", \"categories\": [0], \"series\": [{\"data\": [0.9091170284368056]}]}, {\"name\": \"root_mean_squared_log_error\", \"run_id\": \"AutoML_5a4a73a8-4b52-4d6c-b7b4-baa8577baefd\", \"categories\": [0], \"series\": [{\"data\": [0.03572003496781372]}]}, {\"name\": \"median_absolute_error\", \"run_id\": \"AutoML_5a4a73a8-4b52-4d6c-b7b4-baa8577baefd\", \"categories\": [0], \"series\": [{\"data\": [0.733600846769041]}]}, {\"name\": \"mean_absolute_percentage_error\", \"run_id\": \"AutoML_5a4a73a8-4b52-4d6c-b7b4-baa8577baefd\", \"categories\": [0], \"series\": [{\"data\": [2.1448335388763966]}]}, {\"name\": \"r2_score\", \"run_id\": \"AutoML_5a4a73a8-4b52-4d6c-b7b4-baa8577baefd\", \"categories\": [0], \"series\": [{\"data\": [0.9087183359808103]}]}, {\"name\": \"root_mean_squared_error\", \"run_id\": \"AutoML_5a4a73a8-4b52-4d6c-b7b4-baa8577baefd\", \"categories\": [0], \"series\": [{\"data\": [3.22003078351189]}]}, {\"name\": \"normalized_root_mean_squared_error\", \"run_id\": \"AutoML_5a4a73a8-4b52-4d6c-b7b4-baa8577baefd\", \"categories\": [0], \"series\": [{\"data\": [0.11926039938932927]}]}, {\"name\": \"normalized_root_mean_squared_log_error\", \"run_id\": \"AutoML_5a4a73a8-4b52-4d6c-b7b4-baa8577baefd\", \"categories\": [0], \"series\": [{\"data\": [0.1148349530451796]}]}, {\"name\": \"spearman_correlation\", \"run_id\": \"AutoML_5a4a73a8-4b52-4d6c-b7b4-baa8577baefd\", \"categories\": [0], \"series\": [{\"data\": [0.8989455987016305]}]}, {\"name\": \"normalized_median_absolute_error\", \"run_id\": \"AutoML_5a4a73a8-4b52-4d6c-b7b4-baa8577baefd\", \"categories\": [0], \"series\": [{\"data\": [0.0271704017321867]}]}], \"run_logs\": \"\\nRun is completed.\", \"graph\": {}, \"widget_settings\": {\"childWidgetDisplay\": \"popup\", \"send_telemetry\": false, \"log_level\": \"INFO\", \"sdk_version\": \"1.19.0\"}, \"loading\": false}"
          },
          "metadata": {}
        },
        {
          "output_type": "stream",
          "name": "stdout",
          "text": [
            "DURATION: Time taken for the current iteration.\n",
            "METRIC: The result of computing score on the fitted pipeline.\n",
            "BEST: The best observed score thus far.\n",
            "****************************************************************************************************\n",
            "\n",
            " ITERATION   PIPELINE                                       DURATION      METRIC      BEST\n",
            "         0   MaxAbsScaler LightGBM                          0:00:31       0.8811    0.8811\n",
            "         1   MaxAbsScaler XGBoostRegressor                  0:00:25       0.8008    0.8811\n",
            "         2   SparseNormalizer XGBoostRegressor              0:00:27       0.7696    0.8811\n",
            "         3   MaxAbsScaler RandomForest                      0:00:30       0.7959    0.8811\n",
            "         4   StandardScalerWrapper XGBoostRegressor         0:00:27       0.8914    0.8914\n",
            "         5   MaxAbsScaler ElasticNet                        0:00:25       0.4609    0.8914\n",
            "         6   MinMaxScaler RandomForest                      0:00:34       0.8037    0.8914\n",
            "         7   StandardScalerWrapper XGBoostRegressor         0:00:27       0.8849    0.8914\n",
            "         8   MinMaxScaler ExtremeRandomTrees                0:00:27       0.8915    0.8915\n",
            "         9   StandardScalerWrapper ElasticNet               0:00:24       0.4036    0.8915\n",
            "        10   MinMaxScaler RandomForest                      0:00:41       0.8614    0.8915\n",
            "        11   MinMaxScaler RandomForest                      0:00:25       0.7853    0.8915\n",
            "        12   StandardScalerWrapper XGBoostRegressor         0:00:25       0.3388    0.8915\n",
            "        13   RobustScaler LassoLars                         0:00:25       0.4802    0.8915\n",
            "        14   MinMaxScaler ExtremeRandomTrees                0:00:25       0.9017    0.9017\n",
            "        15   MaxAbsScaler ExtremeRandomTrees                0:00:25       0.4514    0.9017\n",
            "        16   MinMaxScaler ExtremeRandomTrees                0:00:26       0.8741    0.9017\n",
            "        17   MaxAbsScaler ElasticNet                        0:00:25       0.3979    0.9017\n",
            "        18   MinMaxScaler RandomForest                      0:00:25       0.6052    0.9017\n",
            "        19   MaxAbsScaler RandomForest                      0:00:25       0.7729    0.9017\n"
          ]
        }
      ],
      "execution_count": 32,
      "metadata": {
        "gather": {
          "logged": 1607180062445
        },
        "jupyter": {
          "outputs_hidden": false,
          "source_hidden": false
        },
        "nteract": {
          "transient": {
            "deleting": false
          }
        }
      }
    },
    {
      "cell_type": "markdown",
      "source": [
        "## Run Details\n",
        "\n",
        "The models trained feature a variety of preprocessing methods i.e. scaling to 0-1, scaling by max values, and normalization. After this preparation, a variety of models are fit. What we find is that simple stochastic gradient descents and decision trees are largely inadequate. Random Forest uses many more trees (the 'bagging' technique) with many leaves of equal weight. Not surprisingly, adding 'boosting' to bagging through XGBoost results in improved performance since we penalize leaves that don't improve model performance.\n",
        "TODO: In the cell below, use the `RunDetails` widget to show the different experiments."
      ],
      "metadata": {}
    },
    {
      "cell_type": "code",
      "source": [
        "RunDetails(remote_run).show()"
      ],
      "outputs": [],
      "execution_count": null,
      "metadata": {
        "gather": {
          "logged": 1607180083614
        },
        "jupyter": {
          "outputs_hidden": false,
          "source_hidden": false
        },
        "nteract": {
          "transient": {
            "deleting": false
          }
        }
      }
    },
    {
      "cell_type": "markdown",
      "source": [
        "## Best Model\n",
        "\n",
        "TODO: In the cell below, get the best model from the automl experiments and display all the properties of the model.\n",
        "\n"
      ],
      "metadata": {}
    },
    {
      "cell_type": "code",
      "source": [
        "best,fitted = remote_run.get_output()\n",
        "print(best)"
      ],
      "outputs": [
        {
          "output_type": "stream",
          "name": "stdout",
          "text": [
            "Run(Experiment: AutoRanga,\n",
            "Id: AutoML_c1ff0474-a355-41c9-8bb5-3317faf8de83_45,\n",
            "Type: None,\n",
            "Status: Completed)\n"
          ]
        }
      ],
      "execution_count": 6,
      "metadata": {
        "gather": {
          "logged": 1607180088063
        },
        "jupyter": {
          "outputs_hidden": false,
          "source_hidden": false
        },
        "nteract": {
          "transient": {
            "deleting": false
          }
        }
      }
    },
    {
      "cell_type": "code",
      "source": [
        "print(fitted)"
      ],
      "outputs": [
        {
          "output_type": "stream",
          "name": "stdout",
          "text": [
            "RegressionPipeline(pipeline=Pipeline(memory=None,\n",
            "                                     steps=[('datatransformer',\n",
            "                                             DataTransformer(enable_dnn=None,\n",
            "                                                             enable_feature_sweeping=None,\n",
            "                                                             feature_sweeping_config=None,\n",
            "                                                             feature_sweeping_timeout=None,\n",
            "                                                             featurization_config=None,\n",
            "                                                             force_text_dnn=None,\n",
            "                                                             is_cross_validation=None,\n",
            "                                                             is_onnx_compatible=None,\n",
            "                                                             logger=None,\n",
            "                                                             observer=None,\n",
            "                                                             task=None,\n",
            "                                                             working_dir=None)),\n",
            "                                            ('pre...\n",
            "                                                                                                                          min_split_gain=0.0,\n",
            "                                                                                                                          n_estimators=100,\n",
            "                                                                                                                          n_jobs=1,\n",
            "                                                                                                                          num_leaves=31,\n",
            "                                                                                                                          objective=None,\n",
            "                                                                                                                          random_state=None,\n",
            "                                                                                                                          reg_alpha=0.0,\n",
            "                                                                                                                          reg_lambda=0.0,\n",
            "                                                                                                                          silent=True,\n",
            "                                                                                                                          subsample=1.0,\n",
            "                                                                                                                          subsample_for_bin=200000,\n",
            "                                                                                                                          subsample_freq=0,\n",
            "                                                                                                                          verbose=-1))],\n",
            "                                                                                                verbose=False))],\n",
            "                                                                          weights=[0.4,\n",
            "                                                                                   0.3333333333333333,\n",
            "                                                                                   0.06666666666666667,\n",
            "                                                                                   0.06666666666666667,\n",
            "                                                                                   0.06666666666666667,\n",
            "                                                                                   0.06666666666666667]))],\n",
            "                                     verbose=False),\n",
            "                   stddev=None)\n"
          ]
        }
      ],
      "execution_count": 7,
      "metadata": {
        "gather": {
          "logged": 1607180090434
        }
      }
    },
    {
      "cell_type": "code",
      "source": [
        "fitted.steps[-1]"
      ],
      "outputs": [
        {
          "output_type": "execute_result",
          "execution_count": 9,
          "data": {
            "text/plain": "('prefittedsoftvotingregressor',\n PreFittedSoftVotingRegressor(estimators=[('42',\n                                           Pipeline(memory=None,\n                                                    steps=[('sparsenormalizer',\n                                                            <azureml.automl.runtime.shared.model_wrappers.SparseNormalizer object at 0x7f479bd2d9b0>),\n                                                           ('xgboostregressor',\n                                                            XGBoostRegressor(base_score=0.5,\n                                                                             booster='gbtree',\n                                                                             colsample_bylevel=1,\n                                                                             colsample_bynode=1,\n                                                                             colsample_bytree=1,\n                                                                             eta=0.3,\n                                                                             gamma=0.1,\n                                                                             importance_type='gain',...\n                                                                              min_child_weight=0.001,\n                                                                              min_split_gain=0.0,\n                                                                              n_estimators=100,\n                                                                              n_jobs=1,\n                                                                              num_leaves=31,\n                                                                              objective=None,\n                                                                              random_state=None,\n                                                                              reg_alpha=0.0,\n                                                                              reg_lambda=0.0,\n                                                                              silent=True,\n                                                                              subsample=1.0,\n                                                                              subsample_for_bin=200000,\n                                                                              subsample_freq=0,\n                                                                              verbose=-1))],\n                                                    verbose=False))],\n                              weights=[0.4, 0.3333333333333333,\n                                       0.06666666666666667, 0.06666666666666667,\n                                       0.06666666666666667,\n                                       0.06666666666666667]))"
          },
          "metadata": {}
        }
      ],
      "execution_count": 9,
      "metadata": {
        "gather": {
          "logged": 1607180111265
        }
      }
    },
    {
      "cell_type": "code",
      "source": [
        "#TODO: Save the best model\n",
        "filename = 'best_automl_model.sav'\n",
        "# pickle.dump(fitted, open(filename, 'wb'))\n",
        "\n",
        "joblib.dump(fitted,filename)"
      ],
      "outputs": [
        {
          "output_type": "execute_result",
          "execution_count": 10,
          "data": {
            "text/plain": "['best_automl_model.sav']",
            "text/html": "['best_automl_model.sav']"
          },
          "metadata": {}
        }
      ],
      "execution_count": 10,
      "metadata": {
        "gather": {
          "logged": 1607180133814
        },
        "jupyter": {
          "outputs_hidden": false,
          "source_hidden": false
        },
        "nteract": {
          "transient": {
            "deleting": false
          }
        }
      }
    },
    {
      "cell_type": "markdown",
      "source": [
        "## Model Deployment\n",
        "\n",
        "Remember you have to deploy only one of the two models you trained.. Perform the steps in the rest of this notebook only if you wish to deploy this model.\n",
        "\n",
        "TODO: In the cell below, register the model, create an inference config and deploy the model as a web service."
      ],
      "metadata": {}
    },
    {
      "cell_type": "code",
      "source": [
        "registeredfinal = Model.register(workspace=ws,model_path='./best_automl_model.sav',model_name='registered.sav')"
      ],
      "outputs": [
        {
          "output_type": "stream",
          "name": "stdout",
          "text": [
            "Registering model registered.sav\n"
          ]
        }
      ],
      "execution_count": 11,
      "metadata": {
        "gather": {
          "logged": 1607180146971
        },
        "jupyter": {
          "outputs_hidden": false,
          "source_hidden": false
        },
        "nteract": {
          "transient": {
            "deleting": false
          }
        }
      }
    },
    {
      "cell_type": "code",
      "source": [
        "#Create inference config\n",
        "from azureml.core.environment import Environment\n",
        "from azureml.core.model import InferenceConfig\n",
        "\n",
        "env = Environment.get(workspace=ws,name='AzureML-AutoML')\n",
        "\n",
        "inferencefinal = InferenceConfig(entry_script='score.py',environment=env) \n",
        "\n",
        "#Deploy model and check service state\n",
        "from azureml.core.webservice import LocalWebservice, AciWebservice\n",
        "\n",
        "\n",
        "deployfinal = AciWebservice.deploy_configuration()\n",
        "svcs = Model.deploy(workspace=ws,name='deploy',models=[registeredfinal],inference_config=inferencefinal,deployment_config=deployfinal)\n",
        "svcs.wait_for_deployment(show_output=True)"
      ],
      "outputs": [
        {
          "output_type": "stream",
          "name": "stdout",
          "text": [
            "Tips: You can try get_logs(): https://aka.ms/debugimage#dockerlog or local deployment: https://aka.ms/debugimage#debug-locally to debug if deployment takes longer than 10 minutes.\n",
            "Running.....................................\n",
            "Succeeded\n",
            "ACI service creation operation finished, operation \"Succeeded\"\n"
          ]
        }
      ],
      "execution_count": 13,
      "metadata": {
        "collapsed": true,
        "gather": {
          "logged": 1607180382200
        },
        "jupyter": {
          "outputs_hidden": false,
          "source_hidden": false
        },
        "nteract": {
          "transient": {
            "deleting": false
          }
        }
      }
    },
    {
      "cell_type": "code",
      "source": [
        "print(svcs.state)"
      ],
      "outputs": [
        {
          "output_type": "stream",
          "name": "stdout",
          "text": [
            "Healthy\n"
          ]
        }
      ],
      "execution_count": 14,
      "metadata": {
        "collapsed": true,
        "gather": {
          "logged": 1607180390572
        },
        "jupyter": {
          "outputs_hidden": false,
          "source_hidden": false
        },
        "nteract": {
          "transient": {
            "deleting": false
          }
        }
      }
    },
    {
      "cell_type": "code",
      "source": [
        "print(svcs.scoring_uri)"
      ],
      "outputs": [
        {
          "output_type": "stream",
          "name": "stdout",
          "text": [
            "http://29e036ea-6c5a-48e6-ad64-5464eb02ec6c.southcentralus.azurecontainer.io/score\n"
          ]
        }
      ],
      "execution_count": 15,
      "metadata": {
        "collapsed": true,
        "gather": {
          "logged": 1607180393356
        },
        "jupyter": {
          "outputs_hidden": false,
          "source_hidden": false
        },
        "nteract": {
          "transient": {
            "deleting": false
          }
        }
      }
    },
    {
      "cell_type": "markdown",
      "source": [
        "TODO: In the cell below, send a request to the web service you deployed to test it."
      ],
      "metadata": {
        "collapsed": true,
        "gather": {
          "logged": 1598431657736
        },
        "jupyter": {
          "outputs_hidden": false,
          "source_hidden": false
        },
        "nteract": {
          "transient": {
            "deleting": false
          }
        }
      }
    },
    {
      "cell_type": "code",
      "source": [
        "import requests\n",
        "import json\n",
        "\n",
        "# URL for the web service\n",
        "scoring_uri = 'http://29e036ea-6c5a-48e6-ad64-5464eb02ec6c.southcentralus.azurecontainer.io/score'\n",
        "\n",
        "\n",
        "data = {'data':[{\n",
        "    'cylinders':4,\n",
        "    'displacement':84,\n",
        "    'horsepower':65,\n",
        "    'weight':2110,\n",
        "    'acceleration':12,\n",
        "    'model yr':80,\n",
        "    'origin':3}\n",
        "]\n",
        "        }\n",
        "\n",
        "input_data = json.dumps(data)\n",
        "\n",
        "headers = {'Content-Type': 'application/json'}\n",
        "\n",
        "\n",
        "# # Make the request and display the response\n",
        "result = requests.post(scoring_uri,input_data,headers=headers)\n",
        "print(\"prediction:\",result.text)"
      ],
      "outputs": [
        {
          "output_type": "stream",
          "name": "stdout",
          "text": [
            "prediction: [37.98189931616876]\n"
          ]
        }
      ],
      "execution_count": 16,
      "metadata": {
        "gather": {
          "logged": 1607180408001
        },
        "jupyter": {
          "outputs_hidden": false,
          "source_hidden": false
        },
        "nteract": {
          "transient": {
            "deleting": false
          }
        }
      }
    },
    {
      "cell_type": "code",
      "source": [
        "env.save_to_directory('./training',overwrite=False)"
      ],
      "outputs": [],
      "execution_count": 18,
      "metadata": {
        "gather": {
          "logged": 1607180426159
        }
      }
    },
    {
      "cell_type": "markdown",
      "source": [
        "TODO: In the cell below, print the logs of the web service and delete the service"
      ],
      "metadata": {
        "collapsed": true,
        "gather": {
          "logged": 1598432765711
        },
        "jupyter": {
          "outputs_hidden": false,
          "source_hidden": false
        },
        "nteract": {
          "transient": {
            "deleting": false
          }
        }
      }
    },
    {
      "cell_type": "code",
      "source": [
        "print(svcs.get_logs())"
      ],
      "outputs": [
        {
          "output_type": "stream",
          "name": "stdout",
          "text": [
            "2020-12-05T14:57:54.8682742Z stdout F 2020-12-05T14:57:54,706579800+00:00 - iot-server/run \n",
            "2020-12-05T14:57:54.9463202Z stdout F 2020-12-05T14:57:54,784756300+00:00 - gunicorn/run \n",
            "2020-12-05T14:57:54.9752787Z stdout F 2020-12-05T14:57:54,812926400+00:00 - nginx/run \n",
            "2020-12-05T14:57:55.0473033Z stdout F 2020-12-05T14:57:54,813868900+00:00 - rsyslog/run \n",
            "2020-12-05T14:57:55.0743102Z stderr F /usr/sbin/nginx: /azureml-envs/azureml_7cf2b5eebfc9a832d561ce064cfbc38b/lib/libcrypto.so.1.0.0: no version information available (required by /usr/sbin/nginx)\n",
            "2020-12-05T14:57:55.1577944Z stderr F /usr/sbin/nginx: /azureml-envs/azureml_7cf2b5eebfc9a832d561ce064cfbc38b/lib/libcrypto.so.1.0.0: no version information available (required by /usr/sbin/nginx)\n",
            "2020-12-05T14:57:55.1618084Z stderr F /usr/sbin/nginx: /azureml-envs/azureml_7cf2b5eebfc9a832d561ce064cfbc38b/lib/libssl.so.1.0.0: no version information available (required by /usr/sbin/nginx)\n",
            "2020-12-05T14:57:55.1618084Z stderr F /usr/sbin/nginx: /azureml-envs/azureml_7cf2b5eebfc9a832d561ce064cfbc38b/lib/libssl.so.1.0.0: no version information available (required by /usr/sbin/nginx)\n",
            "2020-12-05T14:57:55.1618084Z stderr F /usr/sbin/nginx: /azureml-envs/azureml_7cf2b5eebfc9a832d561ce064cfbc38b/lib/libssl.so.1.0.0: no version information available (required by /usr/sbin/nginx)\n",
            "2020-12-05T14:57:55.2648157Z stderr F rsyslogd: /azureml-envs/azureml_7cf2b5eebfc9a832d561ce064cfbc38b/lib/libuuid.so.1: no version information available (required by rsyslogd)\n",
            "2020-12-05T14:57:59.6597847Z stdout F EdgeHubConnectionString and IOTEDGE_IOTHUBHOSTNAME are not set. Exiting...\n",
            "2020-12-05T14:57:59.7674296Z stdout F 2020-12-05T14:57:59,594147000+00:00 - iot-server/finish 1 0\n",
            "2020-12-05T14:57:59.8573808Z stdout F 2020-12-05T14:57:59,614333400+00:00 - Exit code 1 is normal. Not restarting iot-server.\n",
            "2020-12-05T14:58:01.9674095Z stdout F Starting gunicorn 19.9.0\n",
            "2020-12-05T14:58:01.9674095Z stdout F Listening at: http://127.0.0.1:31311 (63)\n",
            "2020-12-05T14:58:01.9674095Z stdout F Using worker: sync\n",
            "2020-12-05T14:58:01.9674095Z stdout F worker timeout is set to 300\n",
            "2020-12-05T14:58:02.1580349Z stdout F Booting worker with pid: 90\n",
            "2020-12-05T14:58:20.3777779Z stdout F SPARK_HOME not set. Skipping PySpark Initialization.\n",
            "2020-12-05T14:58:20.3777779Z stdout F Generating new fontManager, this may take some time...\n",
            "2020-12-05T14:59:00.0489708Z stdout F Initializing logger\n",
            "2020-12-05T14:59:00.0489708Z stdout F 2020-12-05 14:58:59,886 | root | INFO | Starting up app insights client\n",
            "2020-12-05T14:59:00.0489708Z stdout F Starting up app insights client\n",
            "2020-12-05T14:59:00.0570267Z stdout F 2020-12-05 14:58:59,893 | root | INFO | Starting up request id generator\n",
            "2020-12-05T14:59:00.0570267Z stdout F Starting up request id generator\n",
            "2020-12-05T14:59:00.0570267Z stdout F 2020-12-05 14:58:59,894 | root | INFO | Starting up app insight hooks\n",
            "2020-12-05T14:59:00.0570267Z stdout F Starting up app insight hooks\n",
            "2020-12-05T14:59:00.0570267Z stdout F 2020-12-05 14:58:59,894 | root | INFO | Invoking user's init function\n",
            "2020-12-05T14:59:00.057974Z stdout F Invoking user's init function\n",
            "2020-12-05T14:59:34.8476219Z stdout F 2020-12-05 14:59:34,684 | root | INFO | Users's init has completed successfully\n",
            "2020-12-05T14:59:34.8476219Z stdout F Users's init has completed successfully\n",
            "2020-12-05T14:59:34.8655696Z stdout F 2020-12-05 14:59:34,703 | root | INFO | Skipping middleware: dbg_model_info as it's not enabled.\n",
            "2020-12-05T14:59:34.8655696Z stdout F Skipping middleware: dbg_model_info as it's not enabled.\n",
            "2020-12-05T14:59:34.8673602Z stdout F 2020-12-05 14:59:34,704 | root | INFO | Skipping middleware: dbg_resource_usage as it's not enabled.\n",
            "2020-12-05T14:59:34.8673602Z stdout F Skipping middleware: dbg_resource_usage as it's not enabled.\n",
            "2020-12-05T14:59:34.8703202Z stdout F 2020-12-05 14:59:34,707 | root | INFO | Scoring timeout is found from os.environ: 60000 ms\n",
            "2020-12-05T14:59:34.8703202Z stdout F Scoring timeout is found from os.environ: 60000 ms\n",
            "2020-12-05T14:59:38.6537977Z stdout F 2020-12-05 14:59:38,491 | root | INFO | Swagger file not present\n",
            "2020-12-05T14:59:38.6537977Z stdout F Swagger file not present\n",
            "2020-12-05T14:59:38.6548555Z stdout F 2020-12-05 14:59:38,492 | root | INFO | 404\n",
            "2020-12-05T14:59:38.6558479Z stdout F 404\n",
            "2020-12-05T14:59:38.658794Z stdout F 127.0.0.1 - - [05/Dec/2020:14:59:38 +0000] \"GET /swagger.json HTTP/1.0\" 404 19 \"-\" \"Go-http-client/1.1\"\n",
            "2020-12-05T14:59:42.0780003Z stdout F 2020-12-05 14:59:41,914 | root | INFO | Swagger file not present\n",
            "2020-12-05T14:59:42.0780003Z stdout F Swagger file not present\n",
            "2020-12-05T14:59:42.0780003Z stdout F 2020-12-05 14:59:41,914 | root | INFO | 404\n",
            "2020-12-05T14:59:42.0780003Z stdout F 404\n",
            "2020-12-05T14:59:42.0780003Z stdout F 127.0.0.1 - - [05/Dec/2020:14:59:41 +0000] \"GET /swagger.json HTTP/1.0\" 404 19 \"-\" \"Go-http-client/1.1\"\n",
            "2020-12-05T15:00:06.2376507Z stdout F 2020-12-05 15:00:06,075 | root | INFO | Validation Request Content-Type\n",
            "2020-12-05T15:00:06.2386079Z stdout F Validation Request Content-Type\n",
            "2020-12-05T15:00:06.2446353Z stdout F 2020-12-05 15:00:06,082 | root | INFO | \tHost: localhost:5001\n",
            "2020-12-05T15:00:06.2456124Z stdout F \tHost: localhost:5001\n",
            "2020-12-05T15:00:06.2456124Z stdout F 2020-12-05 15:00:06,083 | root | INFO | \tX-Real-Ip: 127.0.0.1\n",
            "2020-12-05T15:00:06.2456124Z stdout F \tX-Real-Ip: 127.0.0.1\n",
            "2020-12-05T15:00:06.2466066Z stdout F 2020-12-05 15:00:06,083 | root | INFO | \tX-Forwarded-For: 127.0.0.1\n",
            "2020-12-05T15:00:06.2466066Z stdout F \tX-Forwarded-For: 127.0.0.1\n",
            "2020-12-05T15:00:06.2466066Z stdout F 2020-12-05 15:00:06,084 | root | INFO | \tX-Forwarded-Proto: http\n",
            "2020-12-05T15:00:06.2466066Z stdout F \tX-Forwarded-Proto: http\n",
            "2020-12-05T15:00:06.2476119Z stdout F 2020-12-05 15:00:06,085 | root | INFO | \tConnection: close\n",
            "2020-12-05T15:00:06.2476119Z stdout F \tConnection: close\n",
            "2020-12-05T15:00:06.2486005Z stdout F 2020-12-05 15:00:06,085 | root | INFO | \tContent-Length: 131\n",
            "2020-12-05T15:00:06.2566492Z stdout F \tContent-Length: 131\n",
            "2020-12-05T15:00:06.2656277Z stdout F 2020-12-05 15:00:06,091 | root | INFO | \tUser-Agent: python-requests/2.24.0\n",
            "2020-12-05T15:00:06.2656277Z stdout F \tUser-Agent: python-requests/2.24.0\n",
            "2020-12-05T15:00:06.2656277Z stdout F 2020-12-05 15:00:06,092 | root | INFO | \tAccept: */*\n",
            "2020-12-05T15:00:06.2656277Z stdout F \tAccept: */*\n",
            "2020-12-05T15:00:06.2656277Z stdout F 2020-12-05 15:00:06,092 | root | INFO | \tAccept-Encoding: gzip, deflate\n",
            "2020-12-05T15:00:06.2656277Z stdout F \tAccept-Encoding: gzip, deflate\n",
            "2020-12-05T15:00:06.2656277Z stdout F 2020-12-05 15:00:06,092 | root | INFO | \tContent-Type: application/json\n",
            "2020-12-05T15:00:06.2656277Z stdout F \tContent-Type: application/json\n",
            "2020-12-05T15:00:06.2656277Z stdout F 2020-12-05 15:00:06,092 | root | INFO | \tX-Ms-Request-Id: 9b41bda7-7b76-4b16-b491-8a816e1cab56\n",
            "2020-12-05T15:00:06.2656277Z stdout F \tX-Ms-Request-Id: 9b41bda7-7b76-4b16-b491-8a816e1cab56\n",
            "2020-12-05T15:00:06.2656277Z stdout F 2020-12-05 15:00:06,092 | root | INFO | Scoring Timer is set to 60.0 seconds\n",
            "2020-12-05T15:00:06.2656277Z stdout F Scoring Timer is set to 60.0 seconds\n",
            "2020-12-05T15:00:07.9631586Z stdout F 2020-12-05 15:00:07,801 | root | INFO | 200\n",
            "2020-12-05T15:00:07.9631586Z stdout F 200\n",
            "2020-12-05T15:00:07.9701598Z stdout F 127.0.0.1 - - [05/Dec/2020:15:00:07 +0000] \"POST /score HTTP/1.0\" 200 19 \"-\" \"python-requests/2.24.0\"\n",
            "\n"
          ]
        }
      ],
      "execution_count": 19,
      "metadata": {
        "gather": {
          "logged": 1607180458727
        },
        "jupyter": {
          "outputs_hidden": false,
          "source_hidden": false
        },
        "nteract": {
          "transient": {
            "deleting": false
          }
        }
      }
    },
    {
      "cell_type": "code",
      "source": [
        "svcs.delete()"
      ],
      "outputs": [],
      "execution_count": null,
      "metadata": {}
    }
  ],
  "metadata": {
    "kernel_info": {
      "name": "python3-azureml"
    },
    "kernelspec": {
      "name": "python3-azureml",
      "language": "python",
      "display_name": "Python 3.6 - AzureML"
    },
    "language_info": {
      "name": "python",
      "version": "3.6.9",
      "mimetype": "text/x-python",
      "codemirror_mode": {
        "name": "ipython",
        "version": 3
      },
      "pygments_lexer": "ipython3",
      "nbconvert_exporter": "python",
      "file_extension": ".py"
    },
    "nteract": {
      "version": "nteract-front-end@1.0.0"
    }
  },
  "nbformat": 4,
  "nbformat_minor": 2
}