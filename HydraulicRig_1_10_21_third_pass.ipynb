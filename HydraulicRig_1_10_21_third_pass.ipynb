{
 "cells": [
  {
   "cell_type": "code",
   "execution_count": 1,
   "metadata": {},
   "outputs": [],
   "source": [
    "import numpy as np\n",
    "import pandas as pd\n",
    "import glob"
   ]
  },
  {
   "cell_type": "code",
   "execution_count": 2,
   "metadata": {},
   "outputs": [],
   "source": [
    "locn = \"C:\\\\Users\\\\rangy\\\\Downloads\\\\Hydraulics-main\\\\features\\\\*.txt\"\n",
    "# find all the txt files in the path \n",
    "files = glob.glob(locn)\n",
    "# use a dict to save all the variables \n",
    "features = {}"
   ]
  },
  {
   "cell_type": "code",
   "execution_count": 81,
   "metadata": {},
   "outputs": [],
   "source": [
    "for name in files:\n",
    "    try:\n",
    "        with open(name) as f:\n",
    "            # read in the data \n",
    "            temp_df = pd.read_csv(name,delim_whitespace=True,header=None)\n",
    "            # make the row names cycle as a variable\n",
    "            temp_df.index.name = 'cycle'\n",
    "            temp_df.reset_index(inplace=True)\n",
    "            # transpose the data \n",
    "            temp_df_transposed= temp_df.T\n",
    "            # make the seconds a variable, call it \"time”\n",
    "            temp_df_transposed.index.name = 'time'\n",
    "            temp_df_transposed.reset_index(inplace=True)\n",
    "            # add a prefix cycle in the column names to help with pivoting data (from wide to long)\n",
    "            string = ' cycle'.join(str(e) for e in list(temp_df_transposed.columns))\n",
    "            temp_df_transposed.columns = string.split(\" \")\n",
    "            # From wide to long to help with joining all the variables \n",
    "            temp_df_long = pd.wide_to_long(temp_df_transposed.iloc[1:,:],stubnames='cycle', i=['time'], j='c')\n",
    "            temp_df_long.reset_index(inplace=True)\n",
    "            # save each data variable in the long format into separate data frames in the dictionary called \"features\"\n",
    "            # but exclude path and txt in the names\n",
    "            features[name[9:-4]] = temp_df_long\n",
    "                        \n",
    "           \n",
    "    \n",
    "    # prevent a possible error\n",
    "    except IOError as exc:\n",
    "        if exc.errno != errno.EISDIR:\n",
    "            raise"
   ]
  },
  {
   "cell_type": "code",
   "execution_count": 82,
   "metadata": {},
   "outputs": [],
   "source": [
    "for key in list(features.keys()):\n",
    "    features[key].columns=['seconds','cycle',key]"
   ]
  },
  {
   "cell_type": "code",
   "execution_count": 83,
   "metadata": {},
   "outputs": [],
   "source": [
    "dfs= [features['rangy\\\\Downloads\\\\Hydraulics-main\\\\features\\\\CP'],\n",
    "      features['rangy\\\\Downloads\\\\Hydraulics-main\\\\features\\\\CE'],\n",
    "      features['rangy\\\\Downloads\\\\Hydraulics-main\\\\features\\\\EPS1'],\n",
    "      features['rangy\\\\Downloads\\\\Hydraulics-main\\\\features\\\\FS1'],\n",
    "      features['rangy\\\\Downloads\\\\Hydraulics-main\\\\features\\\\FS2'],\n",
    "      features['rangy\\\\Downloads\\\\Hydraulics-main\\\\features\\\\PS1'],\n",
    "      features['rangy\\\\Downloads\\\\Hydraulics-main\\\\features\\\\PS2'],\n",
    "      features['rangy\\\\Downloads\\\\Hydraulics-main\\\\features\\\\PS3'],\n",
    "      features['rangy\\\\Downloads\\\\Hydraulics-main\\\\features\\\\PS4'],\n",
    "      features['rangy\\\\Downloads\\\\Hydraulics-main\\\\features\\\\PS5'],\n",
    "      features['rangy\\\\Downloads\\\\Hydraulics-main\\\\features\\\\PS6'],\n",
    "      features['rangy\\\\Downloads\\\\Hydraulics-main\\\\features\\\\SE'],\n",
    "      features['rangy\\\\Downloads\\\\Hydraulics-main\\\\features\\\\TS1'],\n",
    "      features['rangy\\\\Downloads\\\\Hydraulics-main\\\\features\\\\TS2'],\n",
    "      features['rangy\\\\Downloads\\\\Hydraulics-main\\\\features\\\\TS3'],\n",
    "      features['rangy\\\\Downloads\\\\Hydraulics-main\\\\features\\\\TS4'],\n",
    "     features['rangy\\\\Downloads\\\\Hydraulics-main\\\\features\\\\VS1']]  "
   ]
  },
  {
   "cell_type": "code",
   "execution_count": 84,
   "metadata": {},
   "outputs": [
    {
     "data": {
      "text/html": [
       "<div>\n",
       "<style scoped>\n",
       "    .dataframe tbody tr th:only-of-type {\n",
       "        vertical-align: middle;\n",
       "    }\n",
       "\n",
       "    .dataframe tbody tr th {\n",
       "        vertical-align: top;\n",
       "    }\n",
       "\n",
       "    .dataframe thead th {\n",
       "        text-align: right;\n",
       "    }\n",
       "</style>\n",
       "<table border=\"1\" class=\"dataframe\">\n",
       "  <thead>\n",
       "    <tr style=\"text-align: right;\">\n",
       "      <th></th>\n",
       "      <th>seconds</th>\n",
       "      <th>cycle</th>\n",
       "      <th>rangy\\Downloads\\Hydraulics-main\\features\\CP</th>\n",
       "      <th>rangy\\Downloads\\Hydraulics-main\\features\\CE</th>\n",
       "      <th>rangy\\Downloads\\Hydraulics-main\\features\\EPS1</th>\n",
       "      <th>rangy\\Downloads\\Hydraulics-main\\features\\FS1</th>\n",
       "      <th>rangy\\Downloads\\Hydraulics-main\\features\\FS2</th>\n",
       "      <th>rangy\\Downloads\\Hydraulics-main\\features\\PS1</th>\n",
       "      <th>rangy\\Downloads\\Hydraulics-main\\features\\PS2</th>\n",
       "      <th>rangy\\Downloads\\Hydraulics-main\\features\\PS3</th>\n",
       "      <th>rangy\\Downloads\\Hydraulics-main\\features\\PS4</th>\n",
       "      <th>rangy\\Downloads\\Hydraulics-main\\features\\PS5</th>\n",
       "      <th>rangy\\Downloads\\Hydraulics-main\\features\\PS6</th>\n",
       "      <th>rangy\\Downloads\\Hydraulics-main\\features\\SE</th>\n",
       "      <th>rangy\\Downloads\\Hydraulics-main\\features\\TS1</th>\n",
       "      <th>rangy\\Downloads\\Hydraulics-main\\features\\TS2</th>\n",
       "      <th>rangy\\Downloads\\Hydraulics-main\\features\\TS3</th>\n",
       "      <th>rangy\\Downloads\\Hydraulics-main\\features\\TS4</th>\n",
       "      <th>rangy\\Downloads\\Hydraulics-main\\features\\VS1</th>\n",
       "    </tr>\n",
       "  </thead>\n",
       "  <tbody>\n",
       "    <tr>\n",
       "      <th>0</th>\n",
       "      <td>0</td>\n",
       "      <td>0</td>\n",
       "      <td>2.184</td>\n",
       "      <td>47.202</td>\n",
       "      <td>2411.6</td>\n",
       "      <td>8.990</td>\n",
       "      <td>10.179</td>\n",
       "      <td>151.47</td>\n",
       "      <td>125.50</td>\n",
       "      <td>2.305</td>\n",
       "      <td>0.0</td>\n",
       "      <td>9.936</td>\n",
       "      <td>9.818</td>\n",
       "      <td>68.039</td>\n",
       "      <td>35.570</td>\n",
       "      <td>40.961</td>\n",
       "      <td>38.320</td>\n",
       "      <td>30.363</td>\n",
       "      <td>0.604</td>\n",
       "    </tr>\n",
       "    <tr>\n",
       "      <th>1</th>\n",
       "      <td>1</td>\n",
       "      <td>0</td>\n",
       "      <td>2.184</td>\n",
       "      <td>47.273</td>\n",
       "      <td>2411.6</td>\n",
       "      <td>0.770</td>\n",
       "      <td>10.174</td>\n",
       "      <td>151.45</td>\n",
       "      <td>125.39</td>\n",
       "      <td>2.305</td>\n",
       "      <td>0.0</td>\n",
       "      <td>9.947</td>\n",
       "      <td>9.823</td>\n",
       "      <td>0.000</td>\n",
       "      <td>35.492</td>\n",
       "      <td>40.949</td>\n",
       "      <td>38.332</td>\n",
       "      <td>30.375</td>\n",
       "      <td>0.605</td>\n",
       "    </tr>\n",
       "    <tr>\n",
       "      <th>2</th>\n",
       "      <td>2</td>\n",
       "      <td>0</td>\n",
       "      <td>2.184</td>\n",
       "      <td>47.250</td>\n",
       "      <td>2411.6</td>\n",
       "      <td>0.641</td>\n",
       "      <td>10.151</td>\n",
       "      <td>151.52</td>\n",
       "      <td>125.40</td>\n",
       "      <td>2.336</td>\n",
       "      <td>0.0</td>\n",
       "      <td>9.964</td>\n",
       "      <td>9.844</td>\n",
       "      <td>0.000</td>\n",
       "      <td>35.469</td>\n",
       "      <td>40.965</td>\n",
       "      <td>38.320</td>\n",
       "      <td>30.367</td>\n",
       "      <td>0.611</td>\n",
       "    </tr>\n",
       "    <tr>\n",
       "      <th>3</th>\n",
       "      <td>3</td>\n",
       "      <td>0</td>\n",
       "      <td>2.185</td>\n",
       "      <td>47.332</td>\n",
       "      <td>2411.6</td>\n",
       "      <td>0.006</td>\n",
       "      <td>10.149</td>\n",
       "      <td>151.27</td>\n",
       "      <td>125.03</td>\n",
       "      <td>2.578</td>\n",
       "      <td>0.0</td>\n",
       "      <td>9.989</td>\n",
       "      <td>9.861</td>\n",
       "      <td>0.000</td>\n",
       "      <td>35.422</td>\n",
       "      <td>40.922</td>\n",
       "      <td>38.324</td>\n",
       "      <td>30.367</td>\n",
       "      <td>0.603</td>\n",
       "    </tr>\n",
       "    <tr>\n",
       "      <th>4</th>\n",
       "      <td>4</td>\n",
       "      <td>0</td>\n",
       "      <td>2.178</td>\n",
       "      <td>47.213</td>\n",
       "      <td>2411.6</td>\n",
       "      <td>0.000</td>\n",
       "      <td>10.172</td>\n",
       "      <td>150.80</td>\n",
       "      <td>124.05</td>\n",
       "      <td>2.977</td>\n",
       "      <td>0.0</td>\n",
       "      <td>9.996</td>\n",
       "      <td>9.877</td>\n",
       "      <td>0.000</td>\n",
       "      <td>35.414</td>\n",
       "      <td>40.879</td>\n",
       "      <td>38.332</td>\n",
       "      <td>30.379</td>\n",
       "      <td>0.608</td>\n",
       "    </tr>\n",
       "  </tbody>\n",
       "</table>\n",
       "</div>"
      ],
      "text/plain": [
       "   seconds  cycle  rangy\\Downloads\\Hydraulics-main\\features\\CP  \\\n",
       "0        0      0                                        2.184   \n",
       "1        1      0                                        2.184   \n",
       "2        2      0                                        2.184   \n",
       "3        3      0                                        2.185   \n",
       "4        4      0                                        2.178   \n",
       "\n",
       "   rangy\\Downloads\\Hydraulics-main\\features\\CE  \\\n",
       "0                                       47.202   \n",
       "1                                       47.273   \n",
       "2                                       47.250   \n",
       "3                                       47.332   \n",
       "4                                       47.213   \n",
       "\n",
       "   rangy\\Downloads\\Hydraulics-main\\features\\EPS1  \\\n",
       "0                                         2411.6   \n",
       "1                                         2411.6   \n",
       "2                                         2411.6   \n",
       "3                                         2411.6   \n",
       "4                                         2411.6   \n",
       "\n",
       "   rangy\\Downloads\\Hydraulics-main\\features\\FS1  \\\n",
       "0                                         8.990   \n",
       "1                                         0.770   \n",
       "2                                         0.641   \n",
       "3                                         0.006   \n",
       "4                                         0.000   \n",
       "\n",
       "   rangy\\Downloads\\Hydraulics-main\\features\\FS2  \\\n",
       "0                                        10.179   \n",
       "1                                        10.174   \n",
       "2                                        10.151   \n",
       "3                                        10.149   \n",
       "4                                        10.172   \n",
       "\n",
       "   rangy\\Downloads\\Hydraulics-main\\features\\PS1  \\\n",
       "0                                        151.47   \n",
       "1                                        151.45   \n",
       "2                                        151.52   \n",
       "3                                        151.27   \n",
       "4                                        150.80   \n",
       "\n",
       "   rangy\\Downloads\\Hydraulics-main\\features\\PS2  \\\n",
       "0                                        125.50   \n",
       "1                                        125.39   \n",
       "2                                        125.40   \n",
       "3                                        125.03   \n",
       "4                                        124.05   \n",
       "\n",
       "   rangy\\Downloads\\Hydraulics-main\\features\\PS3  \\\n",
       "0                                         2.305   \n",
       "1                                         2.305   \n",
       "2                                         2.336   \n",
       "3                                         2.578   \n",
       "4                                         2.977   \n",
       "\n",
       "   rangy\\Downloads\\Hydraulics-main\\features\\PS4  \\\n",
       "0                                           0.0   \n",
       "1                                           0.0   \n",
       "2                                           0.0   \n",
       "3                                           0.0   \n",
       "4                                           0.0   \n",
       "\n",
       "   rangy\\Downloads\\Hydraulics-main\\features\\PS5  \\\n",
       "0                                         9.936   \n",
       "1                                         9.947   \n",
       "2                                         9.964   \n",
       "3                                         9.989   \n",
       "4                                         9.996   \n",
       "\n",
       "   rangy\\Downloads\\Hydraulics-main\\features\\PS6  \\\n",
       "0                                         9.818   \n",
       "1                                         9.823   \n",
       "2                                         9.844   \n",
       "3                                         9.861   \n",
       "4                                         9.877   \n",
       "\n",
       "   rangy\\Downloads\\Hydraulics-main\\features\\SE  \\\n",
       "0                                       68.039   \n",
       "1                                        0.000   \n",
       "2                                        0.000   \n",
       "3                                        0.000   \n",
       "4                                        0.000   \n",
       "\n",
       "   rangy\\Downloads\\Hydraulics-main\\features\\TS1  \\\n",
       "0                                        35.570   \n",
       "1                                        35.492   \n",
       "2                                        35.469   \n",
       "3                                        35.422   \n",
       "4                                        35.414   \n",
       "\n",
       "   rangy\\Downloads\\Hydraulics-main\\features\\TS2  \\\n",
       "0                                        40.961   \n",
       "1                                        40.949   \n",
       "2                                        40.965   \n",
       "3                                        40.922   \n",
       "4                                        40.879   \n",
       "\n",
       "   rangy\\Downloads\\Hydraulics-main\\features\\TS3  \\\n",
       "0                                        38.320   \n",
       "1                                        38.332   \n",
       "2                                        38.320   \n",
       "3                                        38.324   \n",
       "4                                        38.332   \n",
       "\n",
       "   rangy\\Downloads\\Hydraulics-main\\features\\TS4  \\\n",
       "0                                        30.363   \n",
       "1                                        30.375   \n",
       "2                                        30.367   \n",
       "3                                        30.367   \n",
       "4                                        30.379   \n",
       "\n",
       "   rangy\\Downloads\\Hydraulics-main\\features\\VS1  \n",
       "0                                         0.604  \n",
       "1                                         0.605  \n",
       "2                                         0.611  \n",
       "3                                         0.603  \n",
       "4                                         0.608  "
      ]
     },
     "execution_count": 84,
     "metadata": {},
     "output_type": "execute_result"
    }
   ],
   "source": [
    "from functools import reduce\n",
    "features_join = reduce(lambda left,right: pd.merge(left,right,on=['seconds','cycle']), dfs)\n",
    "features_join.head()"
   ]
  },
  {
   "cell_type": "code",
   "execution_count": 24,
   "metadata": {},
   "outputs": [
    {
     "data": {
      "text/html": [
       "<div>\n",
       "<style scoped>\n",
       "    .dataframe tbody tr th:only-of-type {\n",
       "        vertical-align: middle;\n",
       "    }\n",
       "\n",
       "    .dataframe tbody tr th {\n",
       "        vertical-align: top;\n",
       "    }\n",
       "\n",
       "    .dataframe thead th {\n",
       "        text-align: right;\n",
       "    }\n",
       "</style>\n",
       "<table border=\"1\" class=\"dataframe\">\n",
       "  <thead>\n",
       "    <tr style=\"text-align: right;\">\n",
       "      <th></th>\n",
       "      <th>0</th>\n",
       "      <th>1</th>\n",
       "      <th>2</th>\n",
       "      <th>3</th>\n",
       "      <th>4</th>\n",
       "    </tr>\n",
       "  </thead>\n",
       "  <tbody>\n",
       "    <tr>\n",
       "      <th>0</th>\n",
       "      <td>3</td>\n",
       "      <td>100</td>\n",
       "      <td>0</td>\n",
       "      <td>130</td>\n",
       "      <td>1</td>\n",
       "    </tr>\n",
       "    <tr>\n",
       "      <th>1</th>\n",
       "      <td>3</td>\n",
       "      <td>100</td>\n",
       "      <td>0</td>\n",
       "      <td>130</td>\n",
       "      <td>1</td>\n",
       "    </tr>\n",
       "    <tr>\n",
       "      <th>2</th>\n",
       "      <td>3</td>\n",
       "      <td>100</td>\n",
       "      <td>0</td>\n",
       "      <td>130</td>\n",
       "      <td>1</td>\n",
       "    </tr>\n",
       "    <tr>\n",
       "      <th>3</th>\n",
       "      <td>3</td>\n",
       "      <td>100</td>\n",
       "      <td>0</td>\n",
       "      <td>130</td>\n",
       "      <td>1</td>\n",
       "    </tr>\n",
       "    <tr>\n",
       "      <th>4</th>\n",
       "      <td>3</td>\n",
       "      <td>100</td>\n",
       "      <td>0</td>\n",
       "      <td>130</td>\n",
       "      <td>1</td>\n",
       "    </tr>\n",
       "  </tbody>\n",
       "</table>\n",
       "</div>"
      ],
      "text/plain": [
       "   0    1  2    3  4\n",
       "0  3  100  0  130  1\n",
       "1  3  100  0  130  1\n",
       "2  3  100  0  130  1\n",
       "3  3  100  0  130  1\n",
       "4  3  100  0  130  1"
      ]
     },
     "execution_count": 24,
     "metadata": {},
     "output_type": "execute_result"
    }
   ],
   "source": [
    "label = pd.read_csv('profile.txt',delim_whitespace=True,header=None)\n",
    "label.head()"
   ]
  },
  {
   "cell_type": "code",
   "execution_count": 25,
   "metadata": {},
   "outputs": [],
   "source": [
    "label.columns = ['cooler_condition', 'valve_condition', 'pump_leak', 'hydraulic_accumulator', 'stable_flag']"
   ]
  },
  {
   "cell_type": "code",
   "execution_count": 26,
   "metadata": {},
   "outputs": [
    {
     "data": {
      "text/plain": [
       "cooler_condition         0\n",
       "valve_condition          0\n",
       "pump_leak                0\n",
       "hydraulic_accumulator    0\n",
       "stable_flag              0\n",
       "dtype: int64"
      ]
     },
     "execution_count": 26,
     "metadata": {},
     "output_type": "execute_result"
    }
   ],
   "source": [
    "label.isna().sum()"
   ]
  },
  {
   "cell_type": "code",
   "execution_count": 17,
   "metadata": {},
   "outputs": [
    {
     "name": "stdout",
     "output_type": "stream",
     "text": [
      "Requirement already satisfied: tsfresh in c:\\users\\rangy\\anaconda3\\lib\\site-packages (0.17.0)\n",
      "Requirement already satisfied: scikit-learn>=0.19.2 in c:\\users\\rangy\\anaconda3\\lib\\site-packages (from tsfresh) (0.23.2)\n",
      "Requirement already satisfied: requests>=2.9.1 in c:\\users\\rangy\\anaconda3\\lib\\site-packages (from tsfresh) (2.24.0)\n",
      "Requirement already satisfied: scipy>=1.2.0 in c:\\users\\rangy\\anaconda3\\lib\\site-packages (from tsfresh) (1.5.2)\n",
      "Requirement already satisfied: pandas>=0.25.0 in c:\\users\\rangy\\anaconda3\\lib\\site-packages (from tsfresh) (1.1.3)\n",
      "Requirement already satisfied: distributed>=2.11.0 in c:\\users\\rangy\\anaconda3\\lib\\site-packages (from tsfresh) (2.30.1)\n",
      "Requirement already satisfied: numpy>=1.15.1 in c:\\users\\rangy\\anaconda3\\lib\\site-packages (from tsfresh) (1.19.2)\n",
      "Requirement already satisfied: statsmodels>=0.9.0 in c:\\users\\rangy\\anaconda3\\lib\\site-packages (from tsfresh) (0.12.0)\n",
      "Requirement already satisfied: dask[dataframe]>=2.9.0 in c:\\users\\rangy\\anaconda3\\lib\\site-packages (from tsfresh) (2.30.0)\n",
      "Requirement already satisfied: patsy>=0.4.1 in c:\\users\\rangy\\anaconda3\\lib\\site-packages (from tsfresh) (0.5.1)\n",
      "Requirement already satisfied: tqdm>=4.10.0 in c:\\users\\rangy\\anaconda3\\lib\\site-packages (from tsfresh) (4.50.2)\n",
      "Requirement already satisfied: joblib>=0.11 in c:\\users\\rangy\\anaconda3\\lib\\site-packages (from scikit-learn>=0.19.2->tsfresh) (0.17.0)\n",
      "Requirement already satisfied: threadpoolctl>=2.0.0 in c:\\users\\rangy\\anaconda3\\lib\\site-packages (from scikit-learn>=0.19.2->tsfresh) (2.1.0)\n",
      "Requirement already satisfied: chardet<4,>=3.0.2 in c:\\users\\rangy\\anaconda3\\lib\\site-packages (from requests>=2.9.1->tsfresh) (3.0.4)\n",
      "Requirement already satisfied: idna<3,>=2.5 in c:\\users\\rangy\\anaconda3\\lib\\site-packages (from requests>=2.9.1->tsfresh) (2.10)\n",
      "Requirement already satisfied: certifi>=2017.4.17 in c:\\users\\rangy\\anaconda3\\lib\\site-packages (from requests>=2.9.1->tsfresh) (2020.6.20)\n",
      "Requirement already satisfied: urllib3!=1.25.0,!=1.25.1,<1.26,>=1.21.1 in c:\\users\\rangy\\anaconda3\\lib\\site-packages (from requests>=2.9.1->tsfresh) (1.25.11)\n",
      "Requirement already satisfied: pytz>=2017.2 in c:\\users\\rangy\\anaconda3\\lib\\site-packages (from pandas>=0.25.0->tsfresh) (2020.1)\n",
      "Requirement already satisfied: python-dateutil>=2.7.3 in c:\\users\\rangy\\anaconda3\\lib\\site-packages (from pandas>=0.25.0->tsfresh) (2.8.1)\n",
      "Requirement already satisfied: msgpack>=0.6.0 in c:\\users\\rangy\\anaconda3\\lib\\site-packages (from distributed>=2.11.0->tsfresh) (1.0.0)\n",
      "Requirement already satisfied: pyyaml in c:\\users\\rangy\\anaconda3\\lib\\site-packages (from distributed>=2.11.0->tsfresh) (5.3.1)\n",
      "Requirement already satisfied: setuptools in c:\\users\\rangy\\anaconda3\\lib\\site-packages (from distributed>=2.11.0->tsfresh) (50.3.1.post20201107)\n",
      "Requirement already satisfied: psutil>=5.0 in c:\\users\\rangy\\anaconda3\\lib\\site-packages (from distributed>=2.11.0->tsfresh) (5.7.2)\n",
      "Requirement already satisfied: tornado>=6.0.3; python_version >= \"3.8\" in c:\\users\\rangy\\anaconda3\\lib\\site-packages (from distributed>=2.11.0->tsfresh) (6.0.4)\n",
      "Requirement already satisfied: cloudpickle>=1.5.0 in c:\\users\\rangy\\anaconda3\\lib\\site-packages (from distributed>=2.11.0->tsfresh) (1.6.0)\n",
      "Requirement already satisfied: sortedcontainers!=2.0.0,!=2.0.1 in c:\\users\\rangy\\anaconda3\\lib\\site-packages (from distributed>=2.11.0->tsfresh) (2.2.2)\n",
      "Requirement already satisfied: zict>=0.1.3 in c:\\users\\rangy\\anaconda3\\lib\\site-packages (from distributed>=2.11.0->tsfresh) (2.0.0)\n",
      "Requirement already satisfied: toolz>=0.8.2 in c:\\users\\rangy\\anaconda3\\lib\\site-packages (from distributed>=2.11.0->tsfresh) (0.11.1)\n",
      "Requirement already satisfied: click>=6.6 in c:\\users\\rangy\\anaconda3\\lib\\site-packages (from distributed>=2.11.0->tsfresh) (7.1.2)\n",
      "Requirement already satisfied: tblib>=1.6.0 in c:\\users\\rangy\\anaconda3\\lib\\site-packages (from distributed>=2.11.0->tsfresh) (1.7.0)\n",
      "Requirement already satisfied: partd>=0.3.10; extra == \"dataframe\" in c:\\users\\rangy\\anaconda3\\lib\\site-packages (from dask[dataframe]>=2.9.0->tsfresh) (1.1.0)\n",
      "Requirement already satisfied: fsspec>=0.6.0; extra == \"dataframe\" in c:\\users\\rangy\\anaconda3\\lib\\site-packages (from dask[dataframe]>=2.9.0->tsfresh) (0.8.3)\n",
      "Requirement already satisfied: six in c:\\users\\rangy\\anaconda3\\lib\\site-packages (from patsy>=0.4.1->tsfresh) (1.15.0)\n",
      "Requirement already satisfied: heapdict in c:\\users\\rangy\\anaconda3\\lib\\site-packages (from zict>=0.1.3->distributed>=2.11.0->tsfresh) (1.0.1)\n",
      "Requirement already satisfied: locket in c:\\users\\rangy\\anaconda3\\lib\\site-packages (from partd>=0.3.10; extra == \"dataframe\"->dask[dataframe]>=2.9.0->tsfresh) (0.2.0)\n",
      "Note: you may need to restart the kernel to use updated packages.\n"
     ]
    }
   ],
   "source": [
    "%pip install tsfresh"
   ]
  },
  {
   "cell_type": "code",
   "execution_count": 18,
   "metadata": {},
   "outputs": [],
   "source": [
    "import xgboost\n",
    "from xgboost import XGBClassifier, XGBRegressor\n",
    "\n",
    "xgc = XGBClassifier()\n",
    "xgr = XGBRegressor()\n",
    "\n",
    "\n",
    "from tsfresh.transformers import RelevantFeatureAugmenter\n",
    "from sklearn.pipeline import Pipeline\n",
    "\n",
    "import joblib"
   ]
  },
  {
   "cell_type": "code",
   "execution_count": null,
   "metadata": {},
   "outputs": [],
   "source": []
  },
  {
   "cell_type": "code",
   "execution_count": 6,
   "metadata": {},
   "outputs": [],
   "source": [
    "def preprocess_accum(ddf):\n",
    "    ddf.index.name = 'cycle'\n",
    "    ddf = pd.DataFrame(ddf)\n",
    "    ddf.reset_index(inplace=True)\n",
    "    # transpose the data \n",
    "    ddf_transposed= ddf.T\n",
    "    # make the seconds a variable, call it \"time”\n",
    "    ddf_transposed.index.name = 'time'\n",
    "    ddf_transposed.reset_index(inplace=True)\n",
    "    # add a prefix cycle in the column names to help with pivoting data (from wide to long)\n",
    "    string = ' cycle'.join(str(e) for e in list(ddf_transposed.columns))\n",
    "    ddf_transposed.columns = string.split(\" \")\n",
    "    # From wide to long to help with joining all the variables \n",
    "    ddf_long = pd.wide_to_long(ddf_transposed.iloc[1:,:],stubnames='cycle', i=['time'], j='c')\n",
    "    ddf_long.reset_index(inplace=True)\n",
    "    # save each data variable in the long format into separate data frames in the dictionary called \"features\"\n",
    "    # but exclude path and txt in the names\n",
    "    features[name[9:-4]] = ddf_long   \n",
    "    # prevent a possible error\n",
    "    for key in list(features.keys()):\n",
    "        features[key].columns=['seconds','cycle',key]\n",
    "        \n",
    "       \n",
    "    return features"
   ]
  },
  {
   "cell_type": "code",
   "execution_count": 51,
   "metadata": {},
   "outputs": [],
   "source": [
    "pipeline = Pipeline([('augmenter', RelevantFeatureAugmenter(column_id=\"cycle\", column_sort=\"seconds\")),\n",
    "            ('xgb', XGBRegressor())])"
   ]
  },
  {
   "cell_type": "code",
   "execution_count": 37,
   "metadata": {},
   "outputs": [],
   "source": [
    "from tsfresh.examples import download_robot_execution_failures\n",
    "download_robot_execution_failures()"
   ]
  },
  {
   "cell_type": "code",
   "execution_count": 38,
   "metadata": {},
   "outputs": [],
   "source": [
    "df_ts, y = load_robot_execution_failures()"
   ]
  },
  {
   "cell_type": "code",
   "execution_count": 44,
   "metadata": {},
   "outputs": [
    {
     "data": {
      "text/plain": [
       "0       1\n",
       "1       1\n",
       "2       1\n",
       "3       1\n",
       "4       1\n",
       "       ..\n",
       "2200    0\n",
       "2201    0\n",
       "2202    0\n",
       "2203    0\n",
       "2204    0\n",
       "Name: stable_flag, Length: 2205, dtype: int64"
      ]
     },
     "execution_count": 44,
     "metadata": {},
     "output_type": "execute_result"
    }
   ],
   "source": [
    "y_stable_flag = label['stable_flag']\n",
    "y_stable_flag"
   ]
  },
  {
   "cell_type": "code",
   "execution_count": 85,
   "metadata": {},
   "outputs": [],
   "source": [
    "X = pd.DataFrame(index = y_stable_flag.index)"
   ]
  },
  {
   "cell_type": "code",
   "execution_count": 86,
   "metadata": {},
   "outputs": [
    {
     "data": {
      "text/plain": [
       "Pipeline(steps=[('augmenter',\n",
       "                 RelevantFeatureAugmenter(column_id='cycle',\n",
       "                                          column_sort='seconds',\n",
       "                                          timeseries_container=        seconds  cycle  rangy\\Downloads\\Hydraulics-main\\features\\CP  \\\n",
       "0             0      0                                        2.184   \n",
       "1             1      0                                        2.184   \n",
       "2             2      0                                        2.184   \n",
       "3             3      0                                        2.185   \n",
       "4             4      0                                        2.178   \n",
       "...         ...    ...                                          ...   \n",
       "132295       55   2204                                        2.134   \n",
       "132296       56   2204                                        2.146   \n",
       "132297       57   2204                                        2.144   \n",
       "132298       58   2204                                        2.136   \n",
       "132299       59   2204                                        2.148   \n",
       "\n",
       "        rangy\\Downloads\\Hydraulics-main\\features\\C...\n",
       "                              colsample_bytree=1, gamma=0, gpu_id=-1,\n",
       "                              importance_type='gain',\n",
       "                              interaction_constraints='',\n",
       "                              learning_rate=0.300000012, max_delta_step=0,\n",
       "                              max_depth=6, min_child_weight=1, missing=nan,\n",
       "                              monotone_constraints='()', n_estimators=100,\n",
       "                              n_jobs=6, num_parallel_tree=1, random_state=0,\n",
       "                              reg_alpha=0, reg_lambda=1, scale_pos_weight=1,\n",
       "                              subsample=1, tree_method='exact',\n",
       "                              validate_parameters=1, verbosity=None))])"
      ]
     },
     "execution_count": 86,
     "metadata": {},
     "output_type": "execute_result"
    }
   ],
   "source": [
    "pipeline.set_params(augmenter__timeseries_container=features_join)"
   ]
  },
  {
   "cell_type": "code",
   "execution_count": 90,
   "metadata": {},
   "outputs": [
    {
     "name": "stderr",
     "output_type": "stream",
     "text": [
      "Feature Extraction: 100%|██████████████████████████████████████████████████████████████| 15/15 [10:55<00:00, 43.72s/it]\n",
      "C:\\Users\\rangy\\anaconda3\\lib\\site-packages\\tsfresh\\utilities\\dataframe_functions.py:171: RuntimeWarning: The columns ['rangy\\\\Downloads\\\\Hydraulics-main\\\\features\\\\CP__fft_coefficient__attr_\"real\"__coeff_31'\n",
      " 'rangy\\\\Downloads\\\\Hydraulics-main\\\\features\\\\CP__fft_coefficient__attr_\"real\"__coeff_32'\n",
      " 'rangy\\\\Downloads\\\\Hydraulics-main\\\\features\\\\CP__fft_coefficient__attr_\"real\"__coeff_33'\n",
      " ...\n",
      " 'rangy\\\\Downloads\\\\Hydraulics-main\\\\features\\\\VS1__fft_coefficient__attr_\"angle\"__coeff_97'\n",
      " 'rangy\\\\Downloads\\\\Hydraulics-main\\\\features\\\\VS1__fft_coefficient__attr_\"angle\"__coeff_98'\n",
      " 'rangy\\\\Downloads\\\\Hydraulics-main\\\\features\\\\VS1__fft_coefficient__attr_\"angle\"__coeff_99'] did not have any finite values. Filling with zeros.\n",
      "  warnings.warn(\"The columns {} did not have any finite values. Filling with zeros.\".format(\n"
     ]
    },
    {
     "data": {
      "text/plain": [
       "Pipeline(steps=[('augmenter',\n",
       "                 RelevantFeatureAugmenter(column_id='cycle',\n",
       "                                          column_sort='seconds',\n",
       "                                          timeseries_container=        seconds  cycle  rangy\\Downloads\\Hydraulics-main\\features\\CP  \\\n",
       "0             0      0                                        2.184   \n",
       "1             1      0                                        2.184   \n",
       "2             2      0                                        2.184   \n",
       "3             3      0                                        2.185   \n",
       "4             4      0                                        2.178   \n",
       "...         ...    ...                                          ...   \n",
       "132295       55   2204                                        2.134   \n",
       "132296       56   2204                                        2.146   \n",
       "132297       57   2204                                        2.144   \n",
       "132298       58   2204                                        2.136   \n",
       "132299       59   2204                                        2.148   \n",
       "\n",
       "        rangy\\Downloads\\Hydraulics-main\\features\\C...\n",
       "                              colsample_bytree=1, gamma=0, gpu_id=-1,\n",
       "                              importance_type='gain',\n",
       "                              interaction_constraints='',\n",
       "                              learning_rate=0.300000012, max_delta_step=0,\n",
       "                              max_depth=6, min_child_weight=1, missing=nan,\n",
       "                              monotone_constraints='()', n_estimators=100,\n",
       "                              n_jobs=6, num_parallel_tree=1, random_state=0,\n",
       "                              reg_alpha=0, reg_lambda=1, scale_pos_weight=1,\n",
       "                              subsample=1, tree_method='exact',\n",
       "                              validate_parameters=1, verbosity=None))])"
      ]
     },
     "execution_count": 90,
     "metadata": {},
     "output_type": "execute_result"
    }
   ],
   "source": [
    "pipeline.fit(X,y_stable_flag)"
   ]
  },
  {
   "cell_type": "code",
   "execution_count": 93,
   "metadata": {},
   "outputs": [
    {
     "name": "stderr",
     "output_type": "stream",
     "text": [
      "Feature Extraction: 100%|██████████████████████████████████████████████████████████████| 15/15 [04:38<00:00, 18.58s/it]\n"
     ]
    }
   ],
   "source": [
    "ans = pipeline.predict(X)"
   ]
  },
  {
   "cell_type": "code",
   "execution_count": 94,
   "metadata": {},
   "outputs": [
    {
     "data": {
      "text/plain": [
       "array([ 1.0000857e+00,  1.0003072e+00,  9.9992114e-01, ...,\n",
       "       -8.5728097e-04,  6.7508532e-05,  2.7919479e-04], dtype=float32)"
      ]
     },
     "execution_count": 94,
     "metadata": {},
     "output_type": "execute_result"
    }
   ],
   "source": [
    "ans"
   ]
  },
  {
   "cell_type": "code",
   "execution_count": 95,
   "metadata": {},
   "outputs": [
    {
     "data": {
      "text/plain": [
       "['best_timeseries_pipeline.sav']"
      ]
     },
     "execution_count": 95,
     "metadata": {},
     "output_type": "execute_result"
    }
   ],
   "source": [
    "joblib.dump(pipeline,'best_timeseries_pipeline.sav')"
   ]
  },
  {
   "cell_type": "code",
   "execution_count": null,
   "metadata": {},
   "outputs": [],
   "source": []
  }
 ],
 "metadata": {
  "kernelspec": {
   "display_name": "Python 3",
   "language": "python",
   "name": "python3"
  },
  "language_info": {
   "codemirror_mode": {
    "name": "ipython",
    "version": 3
   },
   "file_extension": ".py",
   "mimetype": "text/x-python",
   "name": "python",
   "nbconvert_exporter": "python",
   "pygments_lexer": "ipython3",
   "version": "3.8.5"
  }
 },
 "nbformat": 4,
 "nbformat_minor": 4
}
