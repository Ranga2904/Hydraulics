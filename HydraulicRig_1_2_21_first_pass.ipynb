{
 "cells": [
  {
   "cell_type": "code",
   "execution_count": 1,
   "metadata": {},
   "outputs": [
    {
     "name": "stderr",
     "output_type": "stream",
     "text": [
      "C:\\Users\\ver2bj\\AppData\\Local\\Continuum\\anaconda3\\lib\\importlib\\_bootstrap.py:219: RuntimeWarning: numpy.ufunc size changed, may indicate binary incompatibility. Expected 192 from C header, got 216 from PyObject\n",
      "  return f(*args, **kwds)\n",
      "C:\\Users\\ver2bj\\AppData\\Local\\Continuum\\anaconda3\\lib\\importlib\\_bootstrap.py:219: RuntimeWarning: numpy.ufunc size changed, may indicate binary incompatibility. Expected 192 from C header, got 216 from PyObject\n",
      "  return f(*args, **kwds)\n"
     ]
    }
   ],
   "source": [
    "import numpy as np\n",
    "import pandas as pd\n",
    "import os\n",
    "import seaborn as sns"
   ]
  },
  {
   "cell_type": "code",
   "execution_count": 2,
   "metadata": {},
   "outputs": [],
   "source": [
    "# files = [] \n",
    "# for i in os.listdir(\"C:/Users/ver2bj/Downloads/Projects/MyProj/UCI/Hydraulic Rig\"):\n",
    "#     if i.endswith('.txt') : \n",
    "#         files.append(i)"
   ]
  },
  {
   "cell_type": "code",
   "execution_count": 3,
   "metadata": {},
   "outputs": [],
   "source": [
    "# ps = []\n",
    "# for file in files:\n",
    "#     f = open(file,'r')\n",
    "#     for line in f:\n",
    "#         for word in line.split():\n",
    "#             ps.append(word)"
   ]
  },
  {
   "cell_type": "code",
   "execution_count": 4,
   "metadata": {},
   "outputs": [],
   "source": [
    "# ps = [x.replace('\\t',' ').replace('\\n',' ') for x in ps]"
   ]
  },
  {
   "cell_type": "code",
   "execution_count": 5,
   "metadata": {},
   "outputs": [],
   "source": [
    "# ps = np.array(ps)\n",
    "# ps = ps.astype(np.float64)"
   ]
  },
  {
   "cell_type": "code",
   "execution_count": 6,
   "metadata": {},
   "outputs": [],
   "source": [
    "cooleff = []\n",
    "coolpwr = []\n",
    "ps_one = []\n",
    "ps_two = []\n",
    "ps_three = []\n",
    "ps_four = []\n",
    "ps_five = []\n",
    "ps_six = []\n",
    "motorpower = []\n",
    "volflowone = []\n",
    "volflowtwo = []\n",
    "tempone = []\n",
    "temptwo = []\n",
    "tempthree = []\n",
    "tempfour = []\n",
    "effactor = []\n",
    "vibes = []\n",
    "\n",
    "ce = open('CE.txt','r')\n",
    "for line in ce:\n",
    "    cooleff.append(line.split())\n",
    "    \n",
    "cp = open('CP.txt','r')\n",
    "for line in cp:\n",
    "    coolpwr.append(line.split())\n",
    "\n",
    "effic = open('se.txt','r')\n",
    "for line in effic:\n",
    "    effactor.append(line.split())\n",
    "    \n",
    "vibe = open('VS1.txt')\n",
    "for line in vibe:\n",
    "    vibes.append(line.split())\n",
    "    \n",
    "psone = open('PS1.txt','r')\n",
    "for line in psone:\n",
    "    ps_one.append(line.split())\n",
    "pstwo = open('PS2.txt','r')\n",
    "for line in pstwo:\n",
    "    ps_two.append(line.split())\n",
    "psthree = open('PS3.txt','r')\n",
    "for line in psthree:\n",
    "    ps_three.append(line.split())\n",
    "psfour = open('PS4.txt','r')\n",
    "for line in psfour:\n",
    "    ps_four.append(line.split())\n",
    "psfive = open('PS5.txt','r')\n",
    "for line in psfive:\n",
    "    ps_five.append(line.split())\n",
    "pssix = open('PS6.txt','r')\n",
    "for line in pssix:\n",
    "    ps_six.append(line.split())\n",
    "    \n",
    "mp = open('EPS1.txt','r')\n",
    "for line in mp:\n",
    "    motorpower.append(line.split())\n",
    "\n",
    "tone = open('TS1.txt','r')\n",
    "for line in tone:\n",
    "    tempone.append(line.split())\n",
    "ttwo = open('TS2.txt','r')\n",
    "for line in ttwo:\n",
    "    temptwo.append(line.split())\n",
    "tthree = open('TS3.txt','r')\n",
    "for line in tthree:\n",
    "    tempthree.append(line.split())\n",
    "tfour = open('TS4.txt','r')\n",
    "for line in tfour:\n",
    "    tempfour.append(line.split())\n",
    "\n",
    "vfone = open('FS1.txt','r')\n",
    "for line in vfone:\n",
    "    volflowone.append(line.split())\n",
    "vftwo = open('FS2.txt','r')\n",
    "for line in vftwo:\n",
    "    volflowtwo.append(line.split())\n"
   ]
  },
  {
   "cell_type": "code",
   "execution_count": 7,
   "metadata": {},
   "outputs": [],
   "source": [
    "cooleff = np.reshape(cooleff,(2205,60))\n",
    "coolpwr = np.reshape(coolpwr,(2205,60))\n",
    "cooleffDF = pd.DataFrame(cooleff)\n",
    "coolpwrDF = pd.DataFrame(coolpwr)\n",
    "\n",
    "ps_one = np.reshape(ps_one,(2205,6000))\n",
    "ps_one_DF = pd.DataFrame(ps_one)\n",
    "ps_two = np.reshape(ps_two,(2205,6000))\n",
    "ps_two_DF = pd.DataFrame(ps_two)\n",
    "ps_three = np.reshape(ps_three,(2205,6000))\n",
    "ps_three_DF = pd.DataFrame(ps_three)\n",
    "ps_four = np.reshape(ps_four,(2205,6000))\n",
    "ps_four_DF = pd.DataFrame(ps_four)\n",
    "ps_five = np.reshape(ps_five,(2205,6000))\n",
    "ps_five_DF = pd.DataFrame(ps_five)\n",
    "ps_six = np.reshape(ps_six,(2205,6000))\n",
    "ps_six_DF = pd.DataFrame(ps_six)\n",
    "\n",
    "motorpower = np.reshape(motorpower,(2205,6000))\n",
    "mp_DF = pd.DataFrame(motorpower)\n",
    "\n",
    "volflowone = np.reshape(volflowone,(2205,600))\n",
    "vfone_DF = pd.DataFrame(volflowone)\n",
    "volflowtwo = np.reshape(volflowone,(2205,600))\n",
    "vftwo_DF = pd.DataFrame(volflowtwo)\n",
    "\n",
    "tempone = np.reshape(tempone,(2205,60))\n",
    "tone_DF = pd.DataFrame(tempone)\n",
    "temptwo = np.reshape(temptwo,(2205,60))\n",
    "ttwo_DF = pd.DataFrame(temptwo)\n",
    "tempthree = np.reshape(tempone,(2205,60))\n",
    "tthree_DF = pd.DataFrame(tempthree)\n",
    "tempfour = np.reshape(temptwo,(2205,60))\n",
    "tfour_DF = pd.DataFrame(tempfour)\n",
    "\n",
    "effactor = np.reshape(effactor,(2205,60))\n",
    "eff_DF = pd.DataFrame(effactor)\n",
    "vibes = np.reshape(vibes,(2205,60))\n",
    "vibes_DF = pd.DataFrame(vibes)"
   ]
  },
  {
   "cell_type": "code",
   "execution_count": 8,
   "metadata": {},
   "outputs": [],
   "source": [
    "labels = []\n",
    "prof = open('profile.txt','r')\n",
    "for line in prof:\n",
    "    labels.append(line.split())\n",
    "    \n",
    "labels = np.reshape(labels,(2205,5))\n",
    "labels_DF = pd.DataFrame(labels)"
   ]
  },
  {
   "cell_type": "code",
   "execution_count": 9,
   "metadata": {},
   "outputs": [],
   "source": [
    "labels_DF.columns = ['Clr cndn','Valve cndn','Pump lkg','Hydraulic press','Stable Flag (only cat)']"
   ]
  },
  {
   "cell_type": "code",
   "execution_count": 10,
   "metadata": {},
   "outputs": [],
   "source": [
    "# Step 1) take average of data to collapse into set frequency of 60 columns, then do feat analysis to decide b/w diff \n",
    "# sensors etc.\n",
    "# Step 2) select features with 60 cols - maybe condense even more - and then correlation ansys"
   ]
  },
  {
   "cell_type": "code",
   "execution_count": 11,
   "metadata": {},
   "outputs": [],
   "source": [
    "coolpwrDF = coolpwrDF.astype(float)\n",
    "coolpwrDF['Avg coolpwr'] = coolpwrDF.mean(axis=1)\n",
    "coolpwrDF = pd.DataFrame(coolpwrDF.loc[:,'Avg coolpwr'])\n",
    "\n",
    "cooleffDF = cooleffDF.astype(float)\n",
    "cooleffDF['Avg cooleff'] = cooleffDF.mean(axis=1)\n",
    "cooleffDF = pd.DataFrame(cooleffDF.loc[:,'Avg cooleff'])\n",
    "\n",
    "ps_one_DF = ps_one_DF.astype(float)\n",
    "ps_one_DF['Avg psone'] = ps_one_DF.mean(axis=1)\n",
    "ps_one_DF = pd.DataFrame(ps_one_DF.loc[:,'Avg psone'])\n",
    "\n",
    "ps_two_DF = ps_two_DF.astype(float)\n",
    "ps_two_DF['Avg pstwo'] = ps_two_DF.mean(axis=1)\n",
    "ps_two_DF = pd.DataFrame(ps_two_DF.loc[:,'Avg pstwo'])\n",
    "\n",
    "ps_three_DF = ps_three_DF.astype(float)\n",
    "ps_three_DF['Avg psthree'] = ps_three_DF.mean(axis=1)\n",
    "ps_three_DF = pd.DataFrame(ps_three_DF.loc[:,'Avg psthree'])\n",
    "\n",
    "ps_four_DF = ps_four_DF.astype(float)\n",
    "ps_four_DF['Avg psfour'] = ps_four_DF.mean(axis=1)\n",
    "ps_four_DF = pd.DataFrame(ps_four_DF.loc[:,'Avg psfour'])\n",
    "\n",
    "ps_five_DF = ps_five_DF.astype(float)\n",
    "ps_five_DF['Avg psfive'] = ps_five_DF.mean(axis=1)\n",
    "ps_five_DF = pd.DataFrame(ps_five_DF.loc[:,'Avg psfive'])\n",
    "\n",
    "ps_six_DF = ps_six_DF.astype(float)\n",
    "ps_six_DF['Avg pssix'] = ps_six_DF.mean(axis=1)\n",
    "ps_six_DF = pd.DataFrame(ps_six_DF.loc[:,'Avg pssix'])\n",
    "\n",
    "mp_DF = mp_DF.astype(float)\n",
    "mp_DF['Avg mp'] = mp_DF.mean(axis=1)\n",
    "mp_DF = pd.DataFrame(mp_DF.loc[:,'Avg mp'])\n",
    "\n",
    "vfone_DF = vfone_DF.astype(float)\n",
    "vfone_DF['Avg vfone'] = vfone_DF.mean(axis=1)\n",
    "vfone_DF = pd.DataFrame(vfone_DF.loc[:,'Avg vfone'])\n",
    "\n",
    "vftwo_DF = vftwo_DF.astype(float)\n",
    "vftwo_DF['Avg vftwo'] = vftwo_DF.mean(axis=1)\n",
    "vftwo_DF = pd.DataFrame(vftwo_DF.loc[:,'Avg vftwo'])\n",
    "\n",
    "eff_DF = eff_DF.astype(float)\n",
    "eff_DF['Avg eff'] = eff_DF.mean(axis=1)\n",
    "eff_DF = pd.DataFrame(eff_DF.loc[:,'Avg eff'])\n",
    "\n",
    "vibes_DF = vibes_DF.astype(float)\n",
    "vibes_DF['Avg vibes'] = vibes_DF.mean(axis=1)\n",
    "vibes_DF = pd.DataFrame(vibes_DF.loc[:,'Avg vibes'])\n",
    "\n",
    "tone_DF = tone_DF.astype(float)\n",
    "tone_DF['Avg tone'] = tone_DF.mean(axis=1)\n",
    "tone_DF = pd.DataFrame(tone_DF.loc[:,'Avg tone'])\n",
    "ttwo_DF = ttwo_DF.astype(float)\n",
    "ttwo_DF['Avg ttwo'] = ttwo_DF.mean(axis=1)\n",
    "ttwo_DF = pd.DataFrame(ttwo_DF.loc[:,'Avg ttwo'])\n",
    "tthree_DF = tthree_DF.astype(float)\n",
    "tthree_DF['Avg tthree'] = tthree_DF.mean(axis=1)\n",
    "tthree_DF = pd.DataFrame(tthree_DF.loc[:,'Avg tthree'])\n",
    "tfour_DF = tfour_DF.astype(float)\n",
    "tfour_DF['Avg tfour'] = tfour_DF.mean(axis=1)\n",
    "tfour_DF = pd.DataFrame(tfour_DF.loc[:,'Avg tfour'])"
   ]
  },
  {
   "cell_type": "code",
   "execution_count": 12,
   "metadata": {},
   "outputs": [],
   "source": [
    "features = (((((((((((((((coolpwrDF.join(cooleffDF)).join(ps_one_DF)).join(ps_two_DF)).join(ps_three_DF)).join(ps_four_DF)).join(\n",
    "ps_five_DF)).join(ps_six_DF)).join(mp_DF)).join(vfone_DF)).join(vftwo_DF)).join(eff_DF)).join(vibes_DF)).join(tone_DF).\n",
    "join(ttwo_DF)).join(tthree_DF)).join(tfour_DF))"
   ]
  },
  {
   "cell_type": "code",
   "execution_count": 13,
   "metadata": {},
   "outputs": [
    {
     "data": {
      "text/html": [
       "<div>\n",
       "<style scoped>\n",
       "    .dataframe tbody tr th:only-of-type {\n",
       "        vertical-align: middle;\n",
       "    }\n",
       "\n",
       "    .dataframe tbody tr th {\n",
       "        vertical-align: top;\n",
       "    }\n",
       "\n",
       "    .dataframe thead th {\n",
       "        text-align: right;\n",
       "    }\n",
       "</style>\n",
       "<table border=\"1\" class=\"dataframe\">\n",
       "  <thead>\n",
       "    <tr style=\"text-align: right;\">\n",
       "      <th></th>\n",
       "      <th>Avg coolpwr</th>\n",
       "      <th>Avg cooleff</th>\n",
       "      <th>Avg psone</th>\n",
       "      <th>Avg pstwo</th>\n",
       "      <th>Avg psthree</th>\n",
       "      <th>Avg psfour</th>\n",
       "      <th>Avg psfive</th>\n",
       "      <th>Avg pssix</th>\n",
       "      <th>Avg mp</th>\n",
       "      <th>Avg vfone</th>\n",
       "      <th>Avg vftwo</th>\n",
       "      <th>Avg eff</th>\n",
       "      <th>Avg vibes</th>\n",
       "      <th>Avg tone</th>\n",
       "      <th>Avg ttwo</th>\n",
       "      <th>Avg tthree</th>\n",
       "      <th>Avg tfour</th>\n",
       "    </tr>\n",
       "  </thead>\n",
       "  <tbody>\n",
       "    <tr>\n",
       "      <th>0</th>\n",
       "      <td>1.862750</td>\n",
       "      <td>39.601350</td>\n",
       "      <td>160.673492</td>\n",
       "      <td>109.466914</td>\n",
       "      <td>1.991475</td>\n",
       "      <td>0.0</td>\n",
       "      <td>9.842170</td>\n",
       "      <td>9.728097</td>\n",
       "      <td>2538.929167</td>\n",
       "      <td>6.709815</td>\n",
       "      <td>6.709815</td>\n",
       "      <td>59.157183</td>\n",
       "      <td>0.576950</td>\n",
       "      <td>35.621983</td>\n",
       "      <td>40.978767</td>\n",
       "      <td>35.621983</td>\n",
       "      <td>40.978767</td>\n",
       "    </tr>\n",
       "    <tr>\n",
       "      <th>1</th>\n",
       "      <td>1.255550</td>\n",
       "      <td>25.786433</td>\n",
       "      <td>160.603320</td>\n",
       "      <td>109.354890</td>\n",
       "      <td>1.976234</td>\n",
       "      <td>0.0</td>\n",
       "      <td>9.635142</td>\n",
       "      <td>9.529488</td>\n",
       "      <td>2531.498900</td>\n",
       "      <td>6.715315</td>\n",
       "      <td>6.715315</td>\n",
       "      <td>59.335617</td>\n",
       "      <td>0.565850</td>\n",
       "      <td>36.676967</td>\n",
       "      <td>41.532767</td>\n",
       "      <td>36.676967</td>\n",
       "      <td>41.532767</td>\n",
       "    </tr>\n",
       "    <tr>\n",
       "      <th>2</th>\n",
       "      <td>1.113217</td>\n",
       "      <td>22.218233</td>\n",
       "      <td>160.347720</td>\n",
       "      <td>109.158845</td>\n",
       "      <td>1.972224</td>\n",
       "      <td>0.0</td>\n",
       "      <td>9.530548</td>\n",
       "      <td>9.427949</td>\n",
       "      <td>2519.928000</td>\n",
       "      <td>6.718522</td>\n",
       "      <td>6.718522</td>\n",
       "      <td>59.543150</td>\n",
       "      <td>0.576533</td>\n",
       "      <td>37.880800</td>\n",
       "      <td>42.442450</td>\n",
       "      <td>37.880800</td>\n",
       "      <td>42.442450</td>\n",
       "    </tr>\n",
       "    <tr>\n",
       "      <th>3</th>\n",
       "      <td>1.062150</td>\n",
       "      <td>20.459817</td>\n",
       "      <td>160.188088</td>\n",
       "      <td>109.064807</td>\n",
       "      <td>1.946575</td>\n",
       "      <td>0.0</td>\n",
       "      <td>9.438827</td>\n",
       "      <td>9.337430</td>\n",
       "      <td>2511.541633</td>\n",
       "      <td>6.720565</td>\n",
       "      <td>6.720565</td>\n",
       "      <td>59.794900</td>\n",
       "      <td>0.569267</td>\n",
       "      <td>38.879050</td>\n",
       "      <td>43.403983</td>\n",
       "      <td>38.879050</td>\n",
       "      <td>43.403983</td>\n",
       "    </tr>\n",
       "    <tr>\n",
       "      <th>4</th>\n",
       "      <td>1.070467</td>\n",
       "      <td>19.787017</td>\n",
       "      <td>160.000472</td>\n",
       "      <td>108.931434</td>\n",
       "      <td>1.922707</td>\n",
       "      <td>0.0</td>\n",
       "      <td>9.358762</td>\n",
       "      <td>9.260636</td>\n",
       "      <td>2503.449500</td>\n",
       "      <td>6.690308</td>\n",
       "      <td>6.690308</td>\n",
       "      <td>59.455267</td>\n",
       "      <td>0.577367</td>\n",
       "      <td>39.803917</td>\n",
       "      <td>44.332750</td>\n",
       "      <td>39.803917</td>\n",
       "      <td>44.332750</td>\n",
       "    </tr>\n",
       "  </tbody>\n",
       "</table>\n",
       "</div>"
      ],
      "text/plain": [
       "   Avg coolpwr  Avg cooleff   Avg psone   Avg pstwo  Avg psthree  Avg psfour  \\\n",
       "0     1.862750    39.601350  160.673492  109.466914     1.991475         0.0   \n",
       "1     1.255550    25.786433  160.603320  109.354890     1.976234         0.0   \n",
       "2     1.113217    22.218233  160.347720  109.158845     1.972224         0.0   \n",
       "3     1.062150    20.459817  160.188088  109.064807     1.946575         0.0   \n",
       "4     1.070467    19.787017  160.000472  108.931434     1.922707         0.0   \n",
       "\n",
       "   Avg psfive  Avg pssix       Avg mp  Avg vfone  Avg vftwo    Avg eff  \\\n",
       "0    9.842170   9.728097  2538.929167   6.709815   6.709815  59.157183   \n",
       "1    9.635142   9.529488  2531.498900   6.715315   6.715315  59.335617   \n",
       "2    9.530548   9.427949  2519.928000   6.718522   6.718522  59.543150   \n",
       "3    9.438827   9.337430  2511.541633   6.720565   6.720565  59.794900   \n",
       "4    9.358762   9.260636  2503.449500   6.690308   6.690308  59.455267   \n",
       "\n",
       "   Avg vibes   Avg tone   Avg ttwo  Avg tthree  Avg tfour  \n",
       "0   0.576950  35.621983  40.978767   35.621983  40.978767  \n",
       "1   0.565850  36.676967  41.532767   36.676967  41.532767  \n",
       "2   0.576533  37.880800  42.442450   37.880800  42.442450  \n",
       "3   0.569267  38.879050  43.403983   38.879050  43.403983  \n",
       "4   0.577367  39.803917  44.332750   39.803917  44.332750  "
      ]
     },
     "execution_count": 13,
     "metadata": {},
     "output_type": "execute_result"
    }
   ],
   "source": [
    "features.head()"
   ]
  },
  {
   "cell_type": "code",
   "execution_count": 14,
   "metadata": {},
   "outputs": [
    {
     "data": {
      "text/html": [
       "<div>\n",
       "<style scoped>\n",
       "    .dataframe tbody tr th:only-of-type {\n",
       "        vertical-align: middle;\n",
       "    }\n",
       "\n",
       "    .dataframe tbody tr th {\n",
       "        vertical-align: top;\n",
       "    }\n",
       "\n",
       "    .dataframe thead th {\n",
       "        text-align: right;\n",
       "    }\n",
       "</style>\n",
       "<table border=\"1\" class=\"dataframe\">\n",
       "  <thead>\n",
       "    <tr style=\"text-align: right;\">\n",
       "      <th></th>\n",
       "      <th>Clr cndn</th>\n",
       "      <th>Valve cndn</th>\n",
       "      <th>Pump lkg</th>\n",
       "      <th>Hydraulic press</th>\n",
       "      <th>Stable Flag (only cat)</th>\n",
       "    </tr>\n",
       "  </thead>\n",
       "  <tbody>\n",
       "    <tr>\n",
       "      <th>0</th>\n",
       "      <td>3</td>\n",
       "      <td>100</td>\n",
       "      <td>0</td>\n",
       "      <td>130</td>\n",
       "      <td>1</td>\n",
       "    </tr>\n",
       "    <tr>\n",
       "      <th>1</th>\n",
       "      <td>3</td>\n",
       "      <td>100</td>\n",
       "      <td>0</td>\n",
       "      <td>130</td>\n",
       "      <td>1</td>\n",
       "    </tr>\n",
       "    <tr>\n",
       "      <th>2</th>\n",
       "      <td>3</td>\n",
       "      <td>100</td>\n",
       "      <td>0</td>\n",
       "      <td>130</td>\n",
       "      <td>1</td>\n",
       "    </tr>\n",
       "    <tr>\n",
       "      <th>3</th>\n",
       "      <td>3</td>\n",
       "      <td>100</td>\n",
       "      <td>0</td>\n",
       "      <td>130</td>\n",
       "      <td>1</td>\n",
       "    </tr>\n",
       "    <tr>\n",
       "      <th>4</th>\n",
       "      <td>3</td>\n",
       "      <td>100</td>\n",
       "      <td>0</td>\n",
       "      <td>130</td>\n",
       "      <td>1</td>\n",
       "    </tr>\n",
       "  </tbody>\n",
       "</table>\n",
       "</div>"
      ],
      "text/plain": [
       "  Clr cndn Valve cndn Pump lkg Hydraulic press Stable Flag (only cat)\n",
       "0        3        100        0             130                      1\n",
       "1        3        100        0             130                      1\n",
       "2        3        100        0             130                      1\n",
       "3        3        100        0             130                      1\n",
       "4        3        100        0             130                      1"
      ]
     },
     "execution_count": 14,
     "metadata": {},
     "output_type": "execute_result"
    }
   ],
   "source": [
    "labels_DF.head()"
   ]
  },
  {
   "cell_type": "code",
   "execution_count": 27,
   "metadata": {},
   "outputs": [],
   "source": [
    "from sklearn.ensemble import GradientBoostingRegressor, GradientBoostingClassifier\n",
    "from sklearn.metrics import mean_absolute_error\n",
    "from sklearn.model_selection import cross_validate, KFold\n",
    "\n",
    "gbt = GradientBoostingRegressor()\n",
    "gbtc = GradientBoostingClassifier()\n",
    "cv = KFold(n_splits=7,shuffle=True)"
   ]
  },
  {
   "cell_type": "code",
   "execution_count": 21,
   "metadata": {},
   "outputs": [
    {
     "data": {
      "text/plain": [
       "{'fit_time': array([2.35498333, 2.16199684, 2.14599824, 2.49398589, 2.19999814,\n",
       "        1.71399784, 1.80400181]),\n",
       " 'score_time': array([0.00900197, 0.00400186, 0.00800085, 0.01600289, 0.00399995,\n",
       "        0.00299954, 0.00399923]),\n",
       " 'test_score': array([-1.69399037, -1.19042108, -1.10978102, -1.4450101 , -1.53533894,\n",
       "        -1.53656781, -1.31186471]),\n",
       " 'train_score': array([-1.21688447, -1.06153208, -1.16616925, -1.00518824, -1.18000923,\n",
       "        -1.18946234, -1.14497992])}"
      ]
     },
     "execution_count": 21,
     "metadata": {},
     "output_type": "execute_result"
    }
   ],
   "source": [
    "cross_validate(gbt,features,labels_DF['Valve cndn'],scoring='neg_median_absolute_error',cv=cv,n_jobs=5,return_train_score=True)"
   ]
  },
  {
   "cell_type": "code",
   "execution_count": 22,
   "metadata": {},
   "outputs": [
    {
     "data": {
      "text/plain": [
       "{'fit_time': array([1.30098319, 1.29498887, 1.36596417, 1.35199618, 1.32399702,\n",
       "        0.97203374, 0.9760344 ]),\n",
       " 'score_time': array([0.00300121, 0.00300193, 0.00199962, 0.00200009, 0.00299907,\n",
       "        0.00100017, 0.00200701]),\n",
       " 'test_score': array([-2.63582315, -2.50266435, -2.60033517, -2.51765585, -2.66205721,\n",
       "        -2.65573765, -2.8644949 ]),\n",
       " 'train_score': array([-2.07932893, -2.17208125, -2.21082667, -2.08637141, -2.11723286,\n",
       "        -2.16620828, -1.98276247])}"
      ]
     },
     "execution_count": 22,
     "metadata": {},
     "output_type": "execute_result"
    }
   ],
   "source": [
    "cross_validate(gbt,features,labels_DF['Hydraulic press'],scoring='neg_median_absolute_error',cv=cv,n_jobs=5,return_train_score=True)"
   ]
  },
  {
   "cell_type": "code",
   "execution_count": 25,
   "metadata": {},
   "outputs": [
    {
     "data": {
      "text/plain": [
       "{'fit_time': array([1.05200028, 1.05499697, 0.72699547, 1.01399636, 1.04399657,\n",
       "        0.90500069, 0.65103531]),\n",
       " 'score_time': array([0.00300217, 0.00300241, 0.00199962, 0.00199723, 0.00200558,\n",
       "        0.00199962, 0.0009656 ]),\n",
       " 'test_score': array([-0.00101761, -0.00100821, -0.00110651, -0.00102916, -0.00101615,\n",
       "        -0.00101271, -0.00100443]),\n",
       " 'train_score': array([-0.00101761, -0.00100821, -0.00110651, -0.00102916, -0.00101615,\n",
       "        -0.00101271, -0.00100443])}"
      ]
     },
     "execution_count": 25,
     "metadata": {},
     "output_type": "execute_result"
    }
   ],
   "source": [
    "cross_validate(gbt,features,labels_DF['Clr cndn'],scoring='neg_median_absolute_error',cv=cv,n_jobs=5,return_train_score=True)"
   ]
  },
  {
   "cell_type": "code",
   "execution_count": 26,
   "metadata": {},
   "outputs": [
    {
     "data": {
      "text/plain": [
       "{'fit_time': array([1.38299298, 1.36999917, 1.39999485, 1.42399764, 1.40099716,\n",
       "        0.94399571, 0.95599771]),\n",
       " 'score_time': array([0.00300264, 0.00200081, 0.00300288, 0.00299907, 0.002002  ,\n",
       "        0.00100303, 0.00200105]),\n",
       " 'test_score': array([-0.00584344, -0.00528644, -0.00522156, -0.00477552, -0.00637011,\n",
       "        -0.00553504, -0.00494231]),\n",
       " 'train_score': array([-0.00584344, -0.00465437, -0.00522156, -0.00459663, -0.00631216,\n",
       "        -0.00553504, -0.00494231])}"
      ]
     },
     "execution_count": 26,
     "metadata": {},
     "output_type": "execute_result"
    }
   ],
   "source": [
    "cross_validate(gbt,features,labels_DF['Pump lkg'],scoring='neg_median_absolute_error',cv=cv,n_jobs=5,return_train_score=True)"
   ]
  },
  {
   "cell_type": "code",
   "execution_count": 24,
   "metadata": {},
   "outputs": [
    {
     "data": {
      "text/html": [
       "<div>\n",
       "<style scoped>\n",
       "    .dataframe tbody tr th:only-of-type {\n",
       "        vertical-align: middle;\n",
       "    }\n",
       "\n",
       "    .dataframe tbody tr th {\n",
       "        vertical-align: top;\n",
       "    }\n",
       "\n",
       "    .dataframe thead th {\n",
       "        text-align: right;\n",
       "    }\n",
       "</style>\n",
       "<table border=\"1\" class=\"dataframe\">\n",
       "  <thead>\n",
       "    <tr style=\"text-align: right;\">\n",
       "      <th></th>\n",
       "      <th>Clr cndn</th>\n",
       "      <th>Valve cndn</th>\n",
       "      <th>Pump lkg</th>\n",
       "      <th>Hydraulic press</th>\n",
       "      <th>Stable Flag (only cat)</th>\n",
       "    </tr>\n",
       "  </thead>\n",
       "  <tbody>\n",
       "    <tr>\n",
       "      <th>0</th>\n",
       "      <td>3</td>\n",
       "      <td>100</td>\n",
       "      <td>0</td>\n",
       "      <td>130</td>\n",
       "      <td>1</td>\n",
       "    </tr>\n",
       "    <tr>\n",
       "      <th>1</th>\n",
       "      <td>3</td>\n",
       "      <td>100</td>\n",
       "      <td>0</td>\n",
       "      <td>130</td>\n",
       "      <td>1</td>\n",
       "    </tr>\n",
       "    <tr>\n",
       "      <th>2</th>\n",
       "      <td>3</td>\n",
       "      <td>100</td>\n",
       "      <td>0</td>\n",
       "      <td>130</td>\n",
       "      <td>1</td>\n",
       "    </tr>\n",
       "    <tr>\n",
       "      <th>3</th>\n",
       "      <td>3</td>\n",
       "      <td>100</td>\n",
       "      <td>0</td>\n",
       "      <td>130</td>\n",
       "      <td>1</td>\n",
       "    </tr>\n",
       "    <tr>\n",
       "      <th>4</th>\n",
       "      <td>3</td>\n",
       "      <td>100</td>\n",
       "      <td>0</td>\n",
       "      <td>130</td>\n",
       "      <td>1</td>\n",
       "    </tr>\n",
       "  </tbody>\n",
       "</table>\n",
       "</div>"
      ],
      "text/plain": [
       "  Clr cndn Valve cndn Pump lkg Hydraulic press Stable Flag (only cat)\n",
       "0        3        100        0             130                      1\n",
       "1        3        100        0             130                      1\n",
       "2        3        100        0             130                      1\n",
       "3        3        100        0             130                      1\n",
       "4        3        100        0             130                      1"
      ]
     },
     "execution_count": 24,
     "metadata": {},
     "output_type": "execute_result"
    }
   ],
   "source": [
    "labels_DF.head()"
   ]
  },
  {
   "cell_type": "code",
   "execution_count": 28,
   "metadata": {},
   "outputs": [
    {
     "data": {
      "text/plain": [
       "{'fit_time': array([1.43198586, 1.37099791, 1.42196655, 1.44700193, 1.41700029,\n",
       "        1.36599922, 1.34703374]),\n",
       " 'score_time': array([0.00699973, 0.00500107, 0.00699973, 0.00699902, 0.00699878,\n",
       "        0.00603652, 0.00399971]),\n",
       " 'test_score': array([0.97953128, 0.97206208, 0.97481756, 0.94899139, 0.98614532,\n",
       "        0.96042759, 0.93554987]),\n",
       " 'train_score': array([0.98687336, 0.98753443, 0.98701613, 0.98399781, 0.98631495,\n",
       "        0.98757309, 0.99008785])}"
      ]
     },
     "execution_count": 28,
     "metadata": {},
     "output_type": "execute_result"
    }
   ],
   "source": [
    "cross_validate(gbtc,features,labels_DF['Stable Flag (only cat)'],scoring='f1_macro',cv=cv,n_jobs=5,return_train_score=True)"
   ]
  },
  {
   "cell_type": "code",
   "execution_count": 29,
   "metadata": {},
   "outputs": [
    {
     "data": {
      "text/plain": [
       "{'fit_time': array([1.80800056, 1.89099312, 1.77599883, 1.85700011, 1.84999967,\n",
       "        1.42699814, 1.46999717]),\n",
       " 'score_time': array([0.00599813, 0.00600004, 0.00500107, 0.00499845, 0.00500202,\n",
       "        0.00399971, 0.00299835]),\n",
       " 'test_score': array([0.97289856, 0.99487935, 0.99279446, 0.9742093 , 0.98873645,\n",
       "        0.97027844, 0.98043062]),\n",
       " 'train_score': array([0.99845764, 0.99787058, 0.99853088, 0.99893021, 0.99798412,\n",
       "        0.99720586, 0.99784334])}"
      ]
     },
     "execution_count": 29,
     "metadata": {},
     "output_type": "execute_result"
    }
   ],
   "source": [
    "cross_validate(gbtc,features,labels_DF['Stable Flag (only cat)'],scoring='roc_auc',cv=cv,n_jobs=5,return_train_score=True)"
   ]
  },
  {
   "cell_type": "code",
   "execution_count": 30,
   "metadata": {},
   "outputs": [
    {
     "data": {
      "text/plain": [
       "['best_gbtc.pkl']"
      ]
     },
     "execution_count": 30,
     "metadata": {},
     "output_type": "execute_result"
    }
   ],
   "source": [
    "import joblib\n",
    "\n",
    "joblib.dump(gbt,'best_gbt.pkl')\n",
    "joblib.dump(gbtc,'best_gbtc.pkl')"
   ]
  },
  {
   "cell_type": "code",
   "execution_count": null,
   "metadata": {},
   "outputs": [],
   "source": []
  }
 ],
 "metadata": {
  "kernelspec": {
   "display_name": "Python 3",
   "language": "python",
   "name": "python3"
  },
  "language_info": {
   "codemirror_mode": {
    "name": "ipython",
    "version": 3
   },
   "file_extension": ".py",
   "mimetype": "text/x-python",
   "name": "python",
   "nbconvert_exporter": "python",
   "pygments_lexer": "ipython3",
   "version": "3.7.3"
  }
 },
 "nbformat": 4,
 "nbformat_minor": 2
}
