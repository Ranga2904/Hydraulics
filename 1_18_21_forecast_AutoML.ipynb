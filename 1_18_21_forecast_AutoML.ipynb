{
 "cells": [
  {
   "cell_type": "code",
   "execution_count": 1,
   "metadata": {
    "gather": {
     "logged": 1610924538292
    }
   },
   "outputs": [],
   "source": [
    "import pandas as pd\n",
    "import numpy as np\n",
    "import glob"
   ]
  },
  {
   "cell_type": "code",
   "execution_count": 2,
   "metadata": {
    "collapsed": true,
    "gather": {
     "logged": 1610924684079
    },
    "jupyter": {
     "outputs_hidden": false,
     "source_hidden": false
    },
    "nteract": {
     "transient": {
      "deleting": false
     }
    }
   },
   "outputs": [],
   "source": [
    "a = glob.glob('./features/*.txt')\n",
    "features={}\n",
    "\n",
    "for name in a:\n",
    "    try:\n",
    "        with open(name) as f:\n",
    "            # read in the data \n",
    "            temp_df = pd.read_csv(name,delim_whitespace=True,header=None)\n",
    "            # make the row names cycle as a variable\n",
    "            temp_df.index.name = 'cycle'\n",
    "            temp_df.reset_index(inplace=True)\n",
    "            # transpose the data \n",
    "            temp_df_transposed= temp_df.T\n",
    "            # make the seconds a variable, call it \"time”\n",
    "            temp_df_transposed.index.name = 'time'\n",
    "            temp_df_transposed.reset_index(inplace=True)\n",
    "            # add a prefix cycle in the column names to help with pivoting data (from wide to long)\n",
    "            string = ' cycle'.join(str(e) for e in list(temp_df_transposed.columns))\n",
    "            temp_df_transposed.columns = string.split(\" \")\n",
    "            # From wide to long to help with joining all the variables \n",
    "            temp_df_long = pd.wide_to_long(temp_df_transposed.iloc[1:,:],stubnames='cycle', i=['time'], j='c')\n",
    "            temp_df_long.reset_index(inplace=True)\n",
    "            # save each data variable in the long format into separate data frames in the dictionary called \"features\"\n",
    "            # but exclude path and txt in the names\n",
    "            features[name[9:-4]] = temp_df_long\n",
    "                        \n",
    "           \n",
    "    \n",
    "    # prevent a possible error\n",
    "    except IOError as exc:\n",
    "        if exc.errno != errno.EISDIR:\n",
    "            raise"
   ]
  },
  {
   "cell_type": "code",
   "execution_count": 3,
   "metadata": {
    "collapsed": true,
    "gather": {
     "logged": 1610924684226
    },
    "jupyter": {
     "outputs_hidden": false,
     "source_hidden": false
    },
    "nteract": {
     "transient": {
      "deleting": false
     }
    }
   },
   "outputs": [],
   "source": [
    "for key in list(features.keys()):\n",
    "    features[key].columns=['seconds','cycle',key]"
   ]
  },
  {
   "cell_type": "code",
   "execution_count": 4,
   "metadata": {
    "collapsed": true,
    "gather": {
     "logged": 1610924684324
    },
    "jupyter": {
     "outputs_hidden": false,
     "source_hidden": false
    },
    "nteract": {
     "transient": {
      "deleting": false
     }
    }
   },
   "outputs": [],
   "source": [
    "dfs= [features['s/CP'],\n",
    "      features['s/CE'],\n",
    "      features['s/EPS1'],\n",
    "      features['s/FS1'],\n",
    "      features['s/FS2'],\n",
    "      features['s/PS1'],\n",
    "      features['s/PS2'],\n",
    "      features['s/PS3'],\n",
    "      features['s/PS4'],\n",
    "      features['s/PS5'],\n",
    "      features['s/PS6'],\n",
    "      features['s/SE'],\n",
    "      features['s/TS1'],\n",
    "      features['s/TS2'],\n",
    "      features['s/TS3'],\n",
    "      features['s/TS4'],\n",
    "     features['s/VS1']]"
   ]
  },
  {
   "cell_type": "code",
   "execution_count": 5,
   "metadata": {
    "collapsed": true,
    "gather": {
     "logged": 1610924720573
    },
    "jupyter": {
     "outputs_hidden": false,
     "source_hidden": false
    },
    "nteract": {
     "transient": {
      "deleting": false
     }
    }
   },
   "outputs": [],
   "source": [
    "from functools import reduce\n",
    "feats_join = reduce(lambda x,y: pd.merge(x,y,on=['seconds','cycle']),dfs)"
   ]
  },
  {
   "cell_type": "code",
   "execution_count": 6,
   "metadata": {
    "collapsed": true,
    "gather": {
     "logged": 1610924720697
    },
    "jupyter": {
     "outputs_hidden": false,
     "source_hidden": false
    },
    "nteract": {
     "transient": {
      "deleting": false
     }
    }
   },
   "outputs": [],
   "source": [
    "label = pd.read_csv('profile.txt',delim_whitespace=True)\n",
    "label.columns = ['cooler_condition', 'valve_condition', 'pump_leak', 'hydraulic_accumulator', 'stable_flag']"
   ]
  },
  {
   "cell_type": "code",
   "execution_count": 7,
   "metadata": {
    "collapsed": true,
    "jupyter": {
     "outputs_hidden": false,
     "source_hidden": false
    },
    "nteract": {
     "transient": {
      "deleting": false
     }
    }
   },
   "outputs": [
    {
     "name": "stdout",
     "output_type": "stream",
     "text": [
      "Collecting tsfresh\n",
      "  Downloading tsfresh-0.17.0-py2.py3-none-any.whl (91 kB)\n",
      "\u001b[K     |████████████████████████████████| 91 kB 3.7 MB/s eta 0:00:011\n",
      "\u001b[?25hRequirement already satisfied: statsmodels>=0.9.0 in /anaconda/envs/azureml_py36/lib/python3.6/site-packages (from tsfresh) (0.10.2)\n",
      "Collecting dask[dataframe]>=2.9.0\n",
      "  Downloading dask-2021.1.0-py3-none-any.whl (889 kB)\n",
      "\u001b[K     |████████████████████████████████| 889 kB 11.3 MB/s eta 0:00:01\n",
      "\u001b[?25hRequirement already satisfied: pandas>=0.25.0 in /anaconda/envs/azureml_py36/lib/python3.6/site-packages (from tsfresh) (0.25.3)\n",
      "Requirement already satisfied: scipy>=1.2.0 in /anaconda/envs/azureml_py36/lib/python3.6/site-packages (from tsfresh) (1.5.2)\n",
      "Collecting distributed>=2.11.0\n",
      "  Downloading distributed-2021.1.0-py3-none-any.whl (671 kB)\n",
      "\u001b[K     |████████████████████████████████| 671 kB 11.3 MB/s eta 0:00:01\n",
      "\u001b[?25hRequirement already satisfied: patsy>=0.4.1 in /anaconda/envs/azureml_py36/lib/python3.6/site-packages (from tsfresh) (0.5.1)\n",
      "Requirement already satisfied: numpy>=1.15.1 in /anaconda/envs/azureml_py36/lib/python3.6/site-packages (from tsfresh) (1.18.5)\n",
      "Requirement already satisfied: scikit-learn>=0.19.2 in /anaconda/envs/azureml_py36/lib/python3.6/site-packages (from tsfresh) (0.22.2.post1)\n",
      "Requirement already satisfied: tqdm>=4.10.0 in /anaconda/envs/azureml_py36/lib/python3.6/site-packages (from tsfresh) (4.54.0)\n",
      "Requirement already satisfied: requests>=2.9.1 in /anaconda/envs/azureml_py36/lib/python3.6/site-packages (from tsfresh) (2.25.0)\n",
      "Requirement already satisfied: pyyaml in /anaconda/envs/azureml_py36/lib/python3.6/site-packages (from dask[dataframe]>=2.9.0->tsfresh) (5.3.1)\n",
      "Collecting fsspec>=0.6.0; extra == \"dataframe\"\n",
      "  Downloading fsspec-0.8.5-py3-none-any.whl (98 kB)\n",
      "\u001b[K     |████████████████████████████████| 98 kB 8.3 MB/s  eta 0:00:01\n",
      "\u001b[?25hCollecting toolz>=0.8.2; extra == \"dataframe\"\n",
      "  Downloading toolz-0.11.1-py3-none-any.whl (55 kB)\n",
      "\u001b[K     |████████████████████████████████| 55 kB 4.4 MB/s  eta 0:00:01\n",
      "\u001b[?25hCollecting partd>=0.3.10; extra == \"dataframe\"\n",
      "  Downloading partd-1.1.0-py3-none-any.whl (19 kB)\n",
      "Requirement already satisfied: python-dateutil>=2.6.1 in /anaconda/envs/azureml_py36/lib/python3.6/site-packages (from pandas>=0.25.0->tsfresh) (2.8.1)\n",
      "Requirement already satisfied: pytz>=2017.2 in /anaconda/envs/azureml_py36/lib/python3.6/site-packages (from pandas>=0.25.0->tsfresh) (2020.4)\n",
      "Collecting tblib>=1.6.0\n",
      "  Downloading tblib-1.7.0-py2.py3-none-any.whl (12 kB)\n",
      "Requirement already satisfied: contextvars; python_version < \"3.7\" in /anaconda/envs/azureml_py36/lib/python3.6/site-packages (from distributed>=2.11.0->tsfresh) (2.4)\n",
      "Requirement already satisfied: cloudpickle>=1.5.0 in /anaconda/envs/azureml_py36/lib/python3.6/site-packages (from distributed>=2.11.0->tsfresh) (1.6.0)\n",
      "Requirement already satisfied: tornado>=5; python_version < \"3.8\" in /anaconda/envs/azureml_py36/lib/python3.6/site-packages (from distributed>=2.11.0->tsfresh) (6.1)\n",
      "Requirement already satisfied: setuptools in /anaconda/envs/azureml_py36/lib/python3.6/site-packages (from distributed>=2.11.0->tsfresh) (50.3.0.post20201006)\n",
      "Requirement already satisfied: click>=6.6 in /anaconda/envs/azureml_py36/lib/python3.6/site-packages (from distributed>=2.11.0->tsfresh) (7.1.2)\n",
      "Requirement already satisfied: msgpack>=0.6.0 in /anaconda/envs/azureml_py36/lib/python3.6/site-packages (from distributed>=2.11.0->tsfresh) (1.0.2)\n",
      "Collecting sortedcontainers!=2.0.0,!=2.0.1\n",
      "  Downloading sortedcontainers-2.3.0-py2.py3-none-any.whl (29 kB)\n",
      "Collecting zict>=0.1.3\n",
      "  Downloading zict-2.0.0-py3-none-any.whl (10 kB)\n",
      "Requirement already satisfied: psutil>=5.0 in /anaconda/envs/azureml_py36/lib/python3.6/site-packages (from distributed>=2.11.0->tsfresh) (5.7.3)\n",
      "Requirement already satisfied: six in /anaconda/envs/azureml_py36/lib/python3.6/site-packages (from patsy>=0.4.1->tsfresh) (1.15.0)\n",
      "Requirement already satisfied: joblib>=0.11 in /anaconda/envs/azureml_py36/lib/python3.6/site-packages (from scikit-learn>=0.19.2->tsfresh) (0.14.1)\n",
      "Requirement already satisfied: chardet<4,>=3.0.2 in /anaconda/envs/azureml_py36/lib/python3.6/site-packages (from requests>=2.9.1->tsfresh) (3.0.4)\n",
      "Requirement already satisfied: urllib3<1.27,>=1.21.1 in /anaconda/envs/azureml_py36/lib/python3.6/site-packages (from requests>=2.9.1->tsfresh) (1.25.11)\n",
      "Requirement already satisfied: idna<3,>=2.5 in /anaconda/envs/azureml_py36/lib/python3.6/site-packages (from requests>=2.9.1->tsfresh) (2.10)\n",
      "Requirement already satisfied: certifi>=2017.4.17 in /anaconda/envs/azureml_py36/lib/python3.6/site-packages (from requests>=2.9.1->tsfresh) (2020.11.8)\n",
      "Collecting locket\n",
      "  Downloading locket-0.2.0.tar.gz (3.5 kB)\n",
      "Requirement already satisfied: immutables>=0.9 in /anaconda/envs/azureml_py36/lib/python3.6/site-packages (from contextvars; python_version < \"3.7\"->distributed>=2.11.0->tsfresh) (0.14)\n",
      "Collecting heapdict\n",
      "  Downloading HeapDict-1.0.1-py3-none-any.whl (3.9 kB)\n",
      "Building wheels for collected packages: locket\n",
      "  Building wheel for locket (setup.py) ... \u001b[?25l-\b \b\\\b \bdone\n",
      "\u001b[?25h  Created wheel for locket: filename=locket-0.2.0-py3-none-any.whl size=4040 sha256=13fef45ad5697de5fdd1b112491e0f28fddb23ebd0450f1f21c2c256914535ae\n",
      "  Stored in directory: /home/azureuser/.cache/pip/wheels/21/ca/95/1e41f9a9a7a06ba06874ad2bf0eac88e7ba02fe9a6ff26c77d\n",
      "Successfully built locket\n",
      "Installing collected packages: fsspec, toolz, locket, partd, dask, tblib, sortedcontainers, heapdict, zict, distributed, tsfresh\n",
      "Successfully installed dask-2021.1.0 distributed-2021.1.0 fsspec-0.8.5 heapdict-1.0.1 locket-0.2.0 partd-1.1.0 sortedcontainers-2.3.0 tblib-1.7.0 toolz-0.11.1 tsfresh-0.17.0 zict-2.0.0\n",
      "Note: you may need to restart the kernel to use updated packages.\n"
     ]
    }
   ],
   "source": [
    "%pip install tsfresh"
   ]
  },
  {
   "cell_type": "code",
   "execution_count": 8,
   "metadata": {
    "collapsed": true,
    "gather": {
     "logged": 1610924732280
    },
    "jupyter": {
     "outputs_hidden": false,
     "source_hidden": false
    },
    "nteract": {
     "transient": {
      "deleting": false
     }
    }
   },
   "outputs": [],
   "source": [
    "from azureml.core import Workspace, Experiment, Dataset, Model\n",
    "from azureml.widgets import RunDetails\n",
    "from azureml.train.automl import AutoMLConfig\n",
    "import joblib, pickle\n",
    "import logging\n",
    "\n",
    "from tsfresh.transformers import RelevantFeatureAugmenter\n",
    "from sklearn.pipeline import Pipeline\n",
    "\n",
    "from tsfresh import extract_features\n",
    "from tsfresh.utilities.dataframe_functions import impute\n",
    "from tsfresh import extract_relevant_features\n",
    "from tsfresh.feature_selection import select_features\n",
    "\n"
   ]
  },
  {
   "cell_type": "code",
   "execution_count": 9,
   "metadata": {
    "collapsed": true,
    "gather": {
     "logged": 1610926369519
    },
    "jupyter": {
     "outputs_hidden": false,
     "source_hidden": false
    },
    "nteract": {
     "transient": {
      "deleting": false
     }
    }
   },
   "outputs": [
    {
     "name": "stderr",
     "output_type": "stream",
     "text": [
      "Feature Extraction: 100%|██████████| 10/10 [26:17<00:00, 157.70s/it]\n",
      "/anaconda/envs/azureml_py36/lib/python3.6/site-packages/tsfresh/utilities/dataframe_functions.py:172: RuntimeWarning: The columns ['s/CP__fft_coefficient__attr_\"real\"__coeff_31'\n",
      " 's/CP__fft_coefficient__attr_\"real\"__coeff_32'\n",
      " 's/CP__fft_coefficient__attr_\"real\"__coeff_33' ...\n",
      " 's/VS1__fft_coefficient__attr_\"angle\"__coeff_97'\n",
      " 's/VS1__fft_coefficient__attr_\"angle\"__coeff_98'\n",
      " 's/VS1__fft_coefficient__attr_\"angle\"__coeff_99'] did not have any finite values. Filling with zeros.\n",
      "  df.iloc[:, np.where(is_col_non_finite)[0]].columns.values), RuntimeWarning)\n"
     ]
    },
    {
     "data": {
      "text/html": [
       "<div>\n",
       "<style scoped>\n",
       "    .dataframe tbody tr th:only-of-type {\n",
       "        vertical-align: middle;\n",
       "    }\n",
       "\n",
       "    .dataframe tbody tr th {\n",
       "        vertical-align: top;\n",
       "    }\n",
       "\n",
       "    .dataframe thead th {\n",
       "        text-align: right;\n",
       "    }\n",
       "</style>\n",
       "<table border=\"1\" class=\"dataframe\">\n",
       "  <thead>\n",
       "    <tr style=\"text-align: right;\">\n",
       "      <th></th>\n",
       "      <th>s/CP__variance_larger_than_standard_deviation</th>\n",
       "      <th>s/CP__has_duplicate_max</th>\n",
       "      <th>s/CP__has_duplicate_min</th>\n",
       "      <th>s/CP__has_duplicate</th>\n",
       "      <th>s/CP__sum_values</th>\n",
       "      <th>s/CP__abs_energy</th>\n",
       "      <th>s/CP__mean_abs_change</th>\n",
       "      <th>s/CP__mean_change</th>\n",
       "      <th>s/CP__mean_second_derivative_central</th>\n",
       "      <th>s/CP__median</th>\n",
       "      <th>...</th>\n",
       "      <th>s/VS1__fourier_entropy__bins_2</th>\n",
       "      <th>s/VS1__fourier_entropy__bins_3</th>\n",
       "      <th>s/VS1__fourier_entropy__bins_5</th>\n",
       "      <th>s/VS1__fourier_entropy__bins_10</th>\n",
       "      <th>s/VS1__fourier_entropy__bins_100</th>\n",
       "      <th>s/VS1__permutation_entropy__dimension_3__tau_1</th>\n",
       "      <th>s/VS1__permutation_entropy__dimension_4__tau_1</th>\n",
       "      <th>s/VS1__permutation_entropy__dimension_5__tau_1</th>\n",
       "      <th>s/VS1__permutation_entropy__dimension_6__tau_1</th>\n",
       "      <th>s/VS1__permutation_entropy__dimension_7__tau_1</th>\n",
       "    </tr>\n",
       "  </thead>\n",
       "  <tbody>\n",
       "    <tr>\n",
       "      <th>0</th>\n",
       "      <td>0.0</td>\n",
       "      <td>0.0</td>\n",
       "      <td>0.0</td>\n",
       "      <td>1.0</td>\n",
       "      <td>111.765</td>\n",
       "      <td>212.795561</td>\n",
       "      <td>0.016119</td>\n",
       "      <td>-0.013576</td>\n",
       "      <td>-0.000164</td>\n",
       "      <td>1.9240</td>\n",
       "      <td>...</td>\n",
       "      <td>0.239217</td>\n",
       "      <td>0.239217</td>\n",
       "      <td>0.424254</td>\n",
       "      <td>0.563420</td>\n",
       "      <td>1.367099</td>\n",
       "      <td>1.686006</td>\n",
       "      <td>2.644019</td>\n",
       "      <td>3.421882</td>\n",
       "      <td>3.711047</td>\n",
       "      <td>3.860623</td>\n",
       "    </tr>\n",
       "    <tr>\n",
       "      <th>1</th>\n",
       "      <td>0.0</td>\n",
       "      <td>0.0</td>\n",
       "      <td>0.0</td>\n",
       "      <td>1.0</td>\n",
       "      <td>75.333</td>\n",
       "      <td>94.912737</td>\n",
       "      <td>0.011831</td>\n",
       "      <td>-0.004237</td>\n",
       "      <td>0.000405</td>\n",
       "      <td>1.2340</td>\n",
       "      <td>...</td>\n",
       "      <td>0.142506</td>\n",
       "      <td>0.142506</td>\n",
       "      <td>0.457102</td>\n",
       "      <td>0.595073</td>\n",
       "      <td>1.433575</td>\n",
       "      <td>1.595254</td>\n",
       "      <td>2.462080</td>\n",
       "      <td>3.107687</td>\n",
       "      <td>3.498105</td>\n",
       "      <td>3.727584</td>\n",
       "    </tr>\n",
       "    <tr>\n",
       "      <th>2</th>\n",
       "      <td>0.0</td>\n",
       "      <td>0.0</td>\n",
       "      <td>0.0</td>\n",
       "      <td>1.0</td>\n",
       "      <td>66.793</td>\n",
       "      <td>74.387011</td>\n",
       "      <td>0.009356</td>\n",
       "      <td>-0.000949</td>\n",
       "      <td>0.000172</td>\n",
       "      <td>1.1095</td>\n",
       "      <td>...</td>\n",
       "      <td>0.142506</td>\n",
       "      <td>0.142506</td>\n",
       "      <td>0.379535</td>\n",
       "      <td>0.379535</td>\n",
       "      <td>1.807218</td>\n",
       "      <td>1.664222</td>\n",
       "      <td>2.716036</td>\n",
       "      <td>3.427950</td>\n",
       "      <td>3.760199</td>\n",
       "      <td>3.886296</td>\n",
       "    </tr>\n",
       "    <tr>\n",
       "      <th>3</th>\n",
       "      <td>0.0</td>\n",
       "      <td>0.0</td>\n",
       "      <td>1.0</td>\n",
       "      <td>1.0</td>\n",
       "      <td>63.729</td>\n",
       "      <td>67.725523</td>\n",
       "      <td>0.012814</td>\n",
       "      <td>-0.000169</td>\n",
       "      <td>0.000052</td>\n",
       "      <td>1.0660</td>\n",
       "      <td>...</td>\n",
       "      <td>0.142506</td>\n",
       "      <td>0.142506</td>\n",
       "      <td>0.283936</td>\n",
       "      <td>0.595073</td>\n",
       "      <td>1.061467</td>\n",
       "      <td>1.700625</td>\n",
       "      <td>2.632835</td>\n",
       "      <td>3.357998</td>\n",
       "      <td>3.675070</td>\n",
       "      <td>3.850934</td>\n",
       "    </tr>\n",
       "    <tr>\n",
       "      <th>4</th>\n",
       "      <td>0.0</td>\n",
       "      <td>0.0</td>\n",
       "      <td>0.0</td>\n",
       "      <td>1.0</td>\n",
       "      <td>64.228</td>\n",
       "      <td>68.781148</td>\n",
       "      <td>0.009220</td>\n",
       "      <td>0.000339</td>\n",
       "      <td>0.000095</td>\n",
       "      <td>1.0725</td>\n",
       "      <td>...</td>\n",
       "      <td>0.142506</td>\n",
       "      <td>0.142506</td>\n",
       "      <td>0.283936</td>\n",
       "      <td>0.424254</td>\n",
       "      <td>1.705525</td>\n",
       "      <td>1.772589</td>\n",
       "      <td>2.863561</td>\n",
       "      <td>3.542382</td>\n",
       "      <td>3.821382</td>\n",
       "      <td>3.963312</td>\n",
       "    </tr>\n",
       "    <tr>\n",
       "      <th>...</th>\n",
       "      <td>...</td>\n",
       "      <td>...</td>\n",
       "      <td>...</td>\n",
       "      <td>...</td>\n",
       "      <td>...</td>\n",
       "      <td>...</td>\n",
       "      <td>...</td>\n",
       "      <td>...</td>\n",
       "      <td>...</td>\n",
       "      <td>...</td>\n",
       "      <td>...</td>\n",
       "      <td>...</td>\n",
       "      <td>...</td>\n",
       "      <td>...</td>\n",
       "      <td>...</td>\n",
       "      <td>...</td>\n",
       "      <td>...</td>\n",
       "      <td>...</td>\n",
       "      <td>...</td>\n",
       "      <td>...</td>\n",
       "      <td>...</td>\n",
       "    </tr>\n",
       "    <tr>\n",
       "      <th>2200</th>\n",
       "      <td>0.0</td>\n",
       "      <td>0.0</td>\n",
       "      <td>0.0</td>\n",
       "      <td>1.0</td>\n",
       "      <td>129.636</td>\n",
       "      <td>280.111022</td>\n",
       "      <td>0.009644</td>\n",
       "      <td>-0.000424</td>\n",
       "      <td>0.000138</td>\n",
       "      <td>2.1615</td>\n",
       "      <td>...</td>\n",
       "      <td>0.142506</td>\n",
       "      <td>0.142506</td>\n",
       "      <td>0.283936</td>\n",
       "      <td>0.424254</td>\n",
       "      <td>1.220532</td>\n",
       "      <td>1.679611</td>\n",
       "      <td>2.719164</td>\n",
       "      <td>3.333242</td>\n",
       "      <td>3.695355</td>\n",
       "      <td>3.860623</td>\n",
       "    </tr>\n",
       "    <tr>\n",
       "      <th>2201</th>\n",
       "      <td>0.0</td>\n",
       "      <td>0.0</td>\n",
       "      <td>0.0</td>\n",
       "      <td>1.0</td>\n",
       "      <td>129.087</td>\n",
       "      <td>277.756455</td>\n",
       "      <td>0.008949</td>\n",
       "      <td>0.000000</td>\n",
       "      <td>-0.000147</td>\n",
       "      <td>2.1485</td>\n",
       "      <td>...</td>\n",
       "      <td>0.142506</td>\n",
       "      <td>0.283936</td>\n",
       "      <td>0.283936</td>\n",
       "      <td>0.518700</td>\n",
       "      <td>1.192692</td>\n",
       "      <td>1.638909</td>\n",
       "      <td>2.554651</td>\n",
       "      <td>3.198601</td>\n",
       "      <td>3.701534</td>\n",
       "      <td>3.860623</td>\n",
       "    </tr>\n",
       "    <tr>\n",
       "      <th>2202</th>\n",
       "      <td>0.0</td>\n",
       "      <td>1.0</td>\n",
       "      <td>1.0</td>\n",
       "      <td>1.0</td>\n",
       "      <td>128.598</td>\n",
       "      <td>275.667688</td>\n",
       "      <td>0.009356</td>\n",
       "      <td>-0.000034</td>\n",
       "      <td>0.000207</td>\n",
       "      <td>2.1425</td>\n",
       "      <td>...</td>\n",
       "      <td>0.239217</td>\n",
       "      <td>0.283936</td>\n",
       "      <td>0.283936</td>\n",
       "      <td>0.424254</td>\n",
       "      <td>1.518855</td>\n",
       "      <td>1.708797</td>\n",
       "      <td>2.782633</td>\n",
       "      <td>3.468116</td>\n",
       "      <td>3.805690</td>\n",
       "      <td>3.911968</td>\n",
       "    </tr>\n",
       "    <tr>\n",
       "      <th>2203</th>\n",
       "      <td>0.0</td>\n",
       "      <td>0.0</td>\n",
       "      <td>0.0</td>\n",
       "      <td>1.0</td>\n",
       "      <td>128.909</td>\n",
       "      <td>276.977483</td>\n",
       "      <td>0.007814</td>\n",
       "      <td>0.000051</td>\n",
       "      <td>0.000164</td>\n",
       "      <td>2.1480</td>\n",
       "      <td>...</td>\n",
       "      <td>0.239217</td>\n",
       "      <td>0.283936</td>\n",
       "      <td>0.283936</td>\n",
       "      <td>0.283936</td>\n",
       "      <td>1.147973</td>\n",
       "      <td>1.738131</td>\n",
       "      <td>2.780204</td>\n",
       "      <td>3.485050</td>\n",
       "      <td>3.755280</td>\n",
       "      <td>3.911968</td>\n",
       "    </tr>\n",
       "    <tr>\n",
       "      <th>2204</th>\n",
       "      <td>0.0</td>\n",
       "      <td>0.0</td>\n",
       "      <td>1.0</td>\n",
       "      <td>1.0</td>\n",
       "      <td>129.423</td>\n",
       "      <td>279.197997</td>\n",
       "      <td>0.005831</td>\n",
       "      <td>0.000068</td>\n",
       "      <td>0.000086</td>\n",
       "      <td>2.1495</td>\n",
       "      <td>...</td>\n",
       "      <td>0.142506</td>\n",
       "      <td>0.142506</td>\n",
       "      <td>0.283936</td>\n",
       "      <td>0.424254</td>\n",
       "      <td>1.150906</td>\n",
       "      <td>1.675213</td>\n",
       "      <td>2.758717</td>\n",
       "      <td>3.377203</td>\n",
       "      <td>3.711047</td>\n",
       "      <td>3.860623</td>\n",
       "    </tr>\n",
       "  </tbody>\n",
       "</table>\n",
       "<p>2205 rows × 13243 columns</p>\n",
       "</div>"
      ],
      "text/plain": [
       "      s/CP__variance_larger_than_standard_deviation  s/CP__has_duplicate_max  \\\n",
       "0                                               0.0                      0.0   \n",
       "1                                               0.0                      0.0   \n",
       "2                                               0.0                      0.0   \n",
       "3                                               0.0                      0.0   \n",
       "4                                               0.0                      0.0   \n",
       "...                                             ...                      ...   \n",
       "2200                                            0.0                      0.0   \n",
       "2201                                            0.0                      0.0   \n",
       "2202                                            0.0                      1.0   \n",
       "2203                                            0.0                      0.0   \n",
       "2204                                            0.0                      0.0   \n",
       "\n",
       "      s/CP__has_duplicate_min  s/CP__has_duplicate  s/CP__sum_values  \\\n",
       "0                         0.0                  1.0           111.765   \n",
       "1                         0.0                  1.0            75.333   \n",
       "2                         0.0                  1.0            66.793   \n",
       "3                         1.0                  1.0            63.729   \n",
       "4                         0.0                  1.0            64.228   \n",
       "...                       ...                  ...               ...   \n",
       "2200                      0.0                  1.0           129.636   \n",
       "2201                      0.0                  1.0           129.087   \n",
       "2202                      1.0                  1.0           128.598   \n",
       "2203                      0.0                  1.0           128.909   \n",
       "2204                      1.0                  1.0           129.423   \n",
       "\n",
       "      s/CP__abs_energy  s/CP__mean_abs_change  s/CP__mean_change  \\\n",
       "0           212.795561               0.016119          -0.013576   \n",
       "1            94.912737               0.011831          -0.004237   \n",
       "2            74.387011               0.009356          -0.000949   \n",
       "3            67.725523               0.012814          -0.000169   \n",
       "4            68.781148               0.009220           0.000339   \n",
       "...                ...                    ...                ...   \n",
       "2200        280.111022               0.009644          -0.000424   \n",
       "2201        277.756455               0.008949           0.000000   \n",
       "2202        275.667688               0.009356          -0.000034   \n",
       "2203        276.977483               0.007814           0.000051   \n",
       "2204        279.197997               0.005831           0.000068   \n",
       "\n",
       "      s/CP__mean_second_derivative_central  s/CP__median  ...  \\\n",
       "0                                -0.000164        1.9240  ...   \n",
       "1                                 0.000405        1.2340  ...   \n",
       "2                                 0.000172        1.1095  ...   \n",
       "3                                 0.000052        1.0660  ...   \n",
       "4                                 0.000095        1.0725  ...   \n",
       "...                                    ...           ...  ...   \n",
       "2200                              0.000138        2.1615  ...   \n",
       "2201                             -0.000147        2.1485  ...   \n",
       "2202                              0.000207        2.1425  ...   \n",
       "2203                              0.000164        2.1480  ...   \n",
       "2204                              0.000086        2.1495  ...   \n",
       "\n",
       "      s/VS1__fourier_entropy__bins_2  s/VS1__fourier_entropy__bins_3  \\\n",
       "0                           0.239217                        0.239217   \n",
       "1                           0.142506                        0.142506   \n",
       "2                           0.142506                        0.142506   \n",
       "3                           0.142506                        0.142506   \n",
       "4                           0.142506                        0.142506   \n",
       "...                              ...                             ...   \n",
       "2200                        0.142506                        0.142506   \n",
       "2201                        0.142506                        0.283936   \n",
       "2202                        0.239217                        0.283936   \n",
       "2203                        0.239217                        0.283936   \n",
       "2204                        0.142506                        0.142506   \n",
       "\n",
       "      s/VS1__fourier_entropy__bins_5  s/VS1__fourier_entropy__bins_10  \\\n",
       "0                           0.424254                         0.563420   \n",
       "1                           0.457102                         0.595073   \n",
       "2                           0.379535                         0.379535   \n",
       "3                           0.283936                         0.595073   \n",
       "4                           0.283936                         0.424254   \n",
       "...                              ...                              ...   \n",
       "2200                        0.283936                         0.424254   \n",
       "2201                        0.283936                         0.518700   \n",
       "2202                        0.283936                         0.424254   \n",
       "2203                        0.283936                         0.283936   \n",
       "2204                        0.283936                         0.424254   \n",
       "\n",
       "      s/VS1__fourier_entropy__bins_100  \\\n",
       "0                             1.367099   \n",
       "1                             1.433575   \n",
       "2                             1.807218   \n",
       "3                             1.061467   \n",
       "4                             1.705525   \n",
       "...                                ...   \n",
       "2200                          1.220532   \n",
       "2201                          1.192692   \n",
       "2202                          1.518855   \n",
       "2203                          1.147973   \n",
       "2204                          1.150906   \n",
       "\n",
       "      s/VS1__permutation_entropy__dimension_3__tau_1  \\\n",
       "0                                           1.686006   \n",
       "1                                           1.595254   \n",
       "2                                           1.664222   \n",
       "3                                           1.700625   \n",
       "4                                           1.772589   \n",
       "...                                              ...   \n",
       "2200                                        1.679611   \n",
       "2201                                        1.638909   \n",
       "2202                                        1.708797   \n",
       "2203                                        1.738131   \n",
       "2204                                        1.675213   \n",
       "\n",
       "      s/VS1__permutation_entropy__dimension_4__tau_1  \\\n",
       "0                                           2.644019   \n",
       "1                                           2.462080   \n",
       "2                                           2.716036   \n",
       "3                                           2.632835   \n",
       "4                                           2.863561   \n",
       "...                                              ...   \n",
       "2200                                        2.719164   \n",
       "2201                                        2.554651   \n",
       "2202                                        2.782633   \n",
       "2203                                        2.780204   \n",
       "2204                                        2.758717   \n",
       "\n",
       "      s/VS1__permutation_entropy__dimension_5__tau_1  \\\n",
       "0                                           3.421882   \n",
       "1                                           3.107687   \n",
       "2                                           3.427950   \n",
       "3                                           3.357998   \n",
       "4                                           3.542382   \n",
       "...                                              ...   \n",
       "2200                                        3.333242   \n",
       "2201                                        3.198601   \n",
       "2202                                        3.468116   \n",
       "2203                                        3.485050   \n",
       "2204                                        3.377203   \n",
       "\n",
       "      s/VS1__permutation_entropy__dimension_6__tau_1  \\\n",
       "0                                           3.711047   \n",
       "1                                           3.498105   \n",
       "2                                           3.760199   \n",
       "3                                           3.675070   \n",
       "4                                           3.821382   \n",
       "...                                              ...   \n",
       "2200                                        3.695355   \n",
       "2201                                        3.701534   \n",
       "2202                                        3.805690   \n",
       "2203                                        3.755280   \n",
       "2204                                        3.711047   \n",
       "\n",
       "      s/VS1__permutation_entropy__dimension_7__tau_1  \n",
       "0                                           3.860623  \n",
       "1                                           3.727584  \n",
       "2                                           3.886296  \n",
       "3                                           3.850934  \n",
       "4                                           3.963312  \n",
       "...                                              ...  \n",
       "2200                                        3.860623  \n",
       "2201                                        3.860623  \n",
       "2202                                        3.911968  \n",
       "2203                                        3.911968  \n",
       "2204                                        3.860623  \n",
       "\n",
       "[2205 rows x 13243 columns]"
      ]
     },
     "execution_count": 9,
     "metadata": {},
     "output_type": "execute_result"
    }
   ],
   "source": [
    "# Automatic feautre extraction using the tsfresh package\n",
    "extracted_features = extract_features(feats_join, column_id=\"cycle\", column_sort=\"seconds\")\n",
    "# Impute any possible missing values \n",
    "impute(extracted_features)"
   ]
  },
  {
   "cell_type": "code",
   "execution_count": 10,
   "metadata": {
    "collapsed": true,
    "gather": {
     "logged": 1610926369625
    },
    "jupyter": {
     "outputs_hidden": false,
     "source_hidden": false
    },
    "nteract": {
     "transient": {
      "deleting": false
     }
    }
   },
   "outputs": [],
   "source": [
    "extracted_features.drop(extracted_features.tail(1).index,inplace=True)"
   ]
  },
  {
   "cell_type": "code",
   "execution_count": 11,
   "metadata": {
    "collapsed": true,
    "gather": {
     "logged": 1610926476325
    },
    "jupyter": {
     "outputs_hidden": false,
     "source_hidden": false
    },
    "nteract": {
     "transient": {
      "deleting": false
     }
    }
   },
   "outputs": [],
   "source": [
    "features_filtered_accum = select_features(extracted_features, label['hydraulic_accumulator'])\n",
    "\n",
    "features_filtered_flag = select_features(extracted_features, label['stable_flag'])"
   ]
  },
  {
   "cell_type": "code",
   "execution_count": 16,
   "metadata": {
    "collapsed": true,
    "gather": {
     "logged": 1610926988286
    },
    "jupyter": {
     "outputs_hidden": false,
     "source_hidden": false
    },
    "nteract": {
     "transient": {
      "deleting": false
     }
    }
   },
   "outputs": [
    {
     "data": {
      "text/plain": [
       "(2204, 5221)"
      ]
     },
     "execution_count": 16,
     "metadata": {},
     "output_type": "execute_result"
    }
   ],
   "source": [
    "joint = features_filtered_accum.join(label)\n",
    "joint.shape"
   ]
  },
  {
   "cell_type": "code",
   "execution_count": 19,
   "metadata": {
    "collapsed": true,
    "gather": {
     "logged": 1610927027385
    },
    "jupyter": {
     "outputs_hidden": false,
     "source_hidden": false
    },
    "nteract": {
     "transient": {
      "deleting": false
     }
    }
   },
   "outputs": [
    {
     "data": {
      "text/plain": [
       "(1204, 5221)"
      ]
     },
     "execution_count": 19,
     "metadata": {},
     "output_type": "execute_result"
    }
   ],
   "source": [
    "half_joint = joint.drop(joint.tail(1000).index)\n",
    "half_joint.shape"
   ]
  },
  {
   "cell_type": "code",
   "execution_count": null,
   "metadata": {},
   "outputs": [],
   "source": [
    "# Convert seconds column to datetime."
   ]
  },
  {
   "cell_type": "code",
   "execution_count": 20,
   "metadata": {
    "collapsed": true,
    "gather": {
     "logged": 1610927029460
    },
    "jupyter": {
     "outputs_hidden": false,
     "source_hidden": false
    },
    "nteract": {
     "transient": {
      "deleting": false
     }
    }
   },
   "outputs": [],
   "source": [
    "from azureml.automl.core.forecasting_parameters import ForecastingParameters\n",
    "\n",
    "forecasting_parameters_hydraulic_accum = ForecastingParameters(time_column_name='seconds_column_switched_to_datetime', \n",
    "                                               forecast_horizon=50,\n",
    "                                               time_series_id_column_names=[\"hydraulic_accumulator\"],\n",
    "                                               target_lags='auto')"
   ]
  },
  {
   "cell_type": "code",
   "execution_count": null,
   "metadata": {},
   "outputs": [],
   "source": [
    "automl_config_hydraulic_accum = AutoMLConfig(task='forecasting',\n",
    "                             primary_metric='normalized_root_mean_squared_error',\n",
    "                             experiment_timeout_minutes=15,\n",
    "                             enable_early_stopping=True,\n",
    "                             training_data=half_joint,\n",
    "                             label_column_name=\"hydraulic_accumulator\",\n",
    "                             n_cross_validations=5,\n",
    "                             enable_ensembling=False,\n",
    "                             verbosity=logging.INFO,\n",
    "                             **forecasting_parameters)"
   ]
  },
  {
   "cell_type": "code",
   "execution_count": 21,
   "metadata": {
    "collapsed": true,
    "gather": {
     "logged": 1610928990851
    },
    "jupyter": {
     "outputs_hidden": false,
     "source_hidden": false
    },
    "nteract": {
     "transient": {
      "deleting": false
     }
    }
   },
   "outputs": [
    {
     "name": "stdout",
     "output_type": "stream",
     "text": [
      "Performing interactive authentication. Please follow the instructions on the terminal.\n",
      "To sign in, use a web browser to open the page https://microsoft.com/devicelogin and enter the code F38YXNW96 to authenticate.\n",
      "You have logged in. Now let us find all the subscriptions to which you have access...\n",
      "Interactive authentication successfully completed.\n",
      "\n",
      "\n",
      "****************************************************************************************************\n",
      "DATA GUARDRAILS: \n",
      "\n",
      "TYPE:         Class balancing detection\n",
      "STATUS:       PASSED\n",
      "DESCRIPTION:  Your inputs were analyzed, and all classes are balanced in your training data.\n",
      "              Learn more about imbalanced data: https://aka.ms/AutomatedMLImbalancedData\n",
      "\n",
      "****************************************************************************************************\n",
      "\n",
      "TYPE:         Missing feature values imputation\n",
      "STATUS:       PASSED\n",
      "DESCRIPTION:  No feature missing values were detected in the training data.\n",
      "              Learn more about missing value imputation: https://aka.ms/AutomatedMLFeaturization\n",
      "\n",
      "****************************************************************************************************\n",
      "\n",
      "TYPE:         High cardinality feature detection\n",
      "STATUS:       PASSED\n",
      "DESCRIPTION:  Your inputs were analyzed, and no high cardinality features were detected.\n",
      "              Learn more about high cardinality feature handling: https://aka.ms/AutomatedMLFeaturization\n"
     ]
    },
    {
     "name": "stderr",
     "output_type": "stream",
     "text": [
      "WARNING:root:Running on local machine. Note that local runs always run synchronously even if you use the parameter 'show_output=False'\n"
     ]
    },
    {
     "data": {
      "application/vnd.jupyter.widget-view+json": {
       "model_id": "e892e493df884653ac78cdde2f9325df",
       "version_major": 2,
       "version_minor": 0
      },
      "text/plain": [
       "_AutoMLWidget(widget_settings={'childWidgetDisplay': 'popup', 'send_telemetry': False, 'log_level': 'INFO', 's…"
      ]
     },
     "metadata": {},
     "output_type": "display_data"
    },
    {
     "data": {
      "application/aml.mini.widget.v1": "{\"status\": \"Completed\", \"workbench_run_details_uri\": \"https://ml.azure.com/experiments/AutoRanga/runs/AutoML_0401814e-b965-4245-bf69-7e0da572e1a8?wsid=/subscriptions/81cefad3-d2c9-4f77-a466-99a7f541c7bb/resourcegroups/aml-quickstarts-135136/workspaces/quick-starts-ws-135136\", \"run_id\": \"AutoML_0401814e-b965-4245-bf69-7e0da572e1a8\", \"run_properties\": {\"run_id\": \"AutoML_0401814e-b965-4245-bf69-7e0da572e1a8\", \"created_utc\": \"2021-01-17T23:45:00.015826Z\", \"properties\": {\"num_iterations\": \"1000\", \"training_type\": \"TrainFull\", \"acquisition_function\": \"EI\", \"primary_metric\": \"AUC_weighted\", \"train_split\": \"0\", \"acquisition_parameter\": \"0\", \"num_cross_validation\": \"2\", \"target\": \"local\", \"AMLSettingsJsonString\": \"{\\\"path\\\":null,\\\"name\\\":\\\"AutoRanga\\\",\\\"subscription_id\\\":\\\"81cefad3-d2c9-4f77-a466-99a7f541c7bb\\\",\\\"resource_group\\\":\\\"aml-quickstarts-135136\\\",\\\"workspace_name\\\":\\\"quick-starts-ws-135136\\\",\\\"region\\\":\\\"southcentralus\\\",\\\"compute_target\\\":\\\"local\\\",\\\"spark_service\\\":null,\\\"azure_service\\\":\\\"Microsoft.AzureNotebookVM\\\",\\\"many_models\\\":false,\\\"pipeline_fetch_max_batch_size\\\":1,\\\"iterations\\\":1000,\\\"primary_metric\\\":\\\"AUC_weighted\\\",\\\"task_type\\\":\\\"classification\\\",\\\"data_script\\\":null,\\\"validation_size\\\":0.0,\\\"n_cross_validations\\\":2,\\\"y_min\\\":null,\\\"y_max\\\":null,\\\"num_classes\\\":2,\\\"featurization\\\":\\\"auto\\\",\\\"_ignore_package_version_incompatibilities\\\":false,\\\"is_timeseries\\\":false,\\\"max_cores_per_iteration\\\":1,\\\"max_concurrent_iterations\\\":1,\\\"iteration_timeout_minutes\\\":null,\\\"mem_in_mb\\\":null,\\\"enforce_time_on_windows\\\":false,\\\"experiment_timeout_minutes\\\":20,\\\"experiment_exit_score\\\":null,\\\"whitelist_models\\\":null,\\\"blacklist_algos\\\":[\\\"TensorFlowLinearClassifier\\\",\\\"TensorFlowDNN\\\"],\\\"supported_models\\\":[\\\"SVM\\\",\\\"BernoulliNaiveBayes\\\",\\\"RandomForest\\\",\\\"XGBoostClassifier\\\",\\\"GradientBoosting\\\",\\\"LightGBM\\\",\\\"TensorFlowDNN\\\",\\\"ExtremeRandomTrees\\\",\\\"SGD\\\",\\\"LogisticRegression\\\",\\\"TensorFlowLinearClassifier\\\",\\\"MultinomialNaiveBayes\\\",\\\"AveragedPerceptronClassifier\\\",\\\"KNN\\\",\\\"LinearSVM\\\",\\\"DecisionTree\\\"],\\\"auto_blacklist\\\":true,\\\"blacklist_samples_reached\\\":false,\\\"exclude_nan_labels\\\":true,\\\"verbosity\\\":20,\\\"_debug_log\\\":\\\"automl.log\\\",\\\"show_warnings\\\":false,\\\"model_explainability\\\":true,\\\"service_url\\\":null,\\\"sdk_url\\\":null,\\\"sdk_packages\\\":null,\\\"enable_onnx_compatible_models\\\":false,\\\"enable_split_onnx_featurizer_estimator_models\\\":false,\\\"vm_type\\\":null,\\\"telemetry_verbosity\\\":20,\\\"send_telemetry\\\":true,\\\"enable_dnn\\\":false,\\\"scenario\\\":\\\"SDK-1.13.0\\\",\\\"environment_label\\\":null,\\\"force_text_dnn\\\":false,\\\"enable_feature_sweeping\\\":true,\\\"enable_early_stopping\\\":false,\\\"early_stopping_n_iters\\\":10,\\\"metrics\\\":null,\\\"enable_ensembling\\\":true,\\\"enable_stack_ensembling\\\":true,\\\"ensemble_iterations\\\":15,\\\"enable_tf\\\":false,\\\"enable_subsampling\\\":null,\\\"subsample_seed\\\":null,\\\"enable_nimbusml\\\":false,\\\"enable_streaming\\\":false,\\\"force_streaming\\\":false,\\\"track_child_runs\\\":true,\\\"allowed_private_models\\\":[],\\\"label_column_name\\\":\\\"stable_flag\\\",\\\"weight_column_name\\\":null,\\\"cv_split_column_names\\\":null,\\\"enable_local_managed\\\":false,\\\"_local_managed_run_id\\\":null,\\\"cost_mode\\\":1,\\\"lag_length\\\":0,\\\"metric_operation\\\":\\\"maximize\\\",\\\"preprocess\\\":true}\", \"DataPrepJsonString\": null, \"EnableSubsampling\": null, \"runTemplate\": \"AutoML\", \"azureml.runsource\": \"automl\", \"display_task_type\": \"classification\", \"dependencies_versions\": \"{\\\"azureml-widgets\\\": \\\"1.19.0\\\", \\\"azureml-train\\\": \\\"1.19.0\\\", \\\"azureml-train-restclients-hyperdrive\\\": \\\"1.19.0\\\", \\\"azureml-train-core\\\": \\\"1.19.0\\\", \\\"azureml-train-automl\\\": \\\"1.19.0\\\", \\\"azureml-train-automl-runtime\\\": \\\"1.19.0\\\", \\\"azureml-train-automl-client\\\": \\\"1.19.0\\\", \\\"azureml-tensorboard\\\": \\\"1.19.0\\\", \\\"azureml-telemetry\\\": \\\"1.19.0\\\", \\\"azureml-sdk\\\": \\\"1.19.0\\\", \\\"azureml-samples\\\": \\\"0+unknown\\\", \\\"azureml-pipeline\\\": \\\"1.19.0\\\", \\\"azureml-pipeline-steps\\\": \\\"1.19.0\\\", \\\"azureml-pipeline-core\\\": \\\"1.19.0\\\", \\\"azureml-opendatasets\\\": \\\"1.19.0\\\", \\\"azureml-model-management-sdk\\\": \\\"1.0.1b6.post1\\\", \\\"azureml-mlflow\\\": \\\"1.19.0\\\", \\\"azureml-interpret\\\": \\\"1.19.0\\\", \\\"azureml-explain-model\\\": \\\"1.19.0\\\", \\\"azureml-defaults\\\": \\\"1.19.0\\\", \\\"azureml-dataset-runtime\\\": \\\"1.19.0.post1\\\", \\\"azureml-dataprep\\\": \\\"2.6.1\\\", \\\"azureml-dataprep-rslex\\\": \\\"1.4.0\\\", \\\"azureml-dataprep-native\\\": \\\"26.0.0\\\", \\\"azureml-datadrift\\\": \\\"1.19.0\\\", \\\"azureml-core\\\": \\\"1.19.0\\\", \\\"azureml-contrib-services\\\": \\\"1.19.0\\\", \\\"azureml-contrib-server\\\": \\\"1.19.0\\\", \\\"azureml-contrib-reinforcementlearning\\\": \\\"1.19.0\\\", \\\"azureml-contrib-pipeline-steps\\\": \\\"1.19.0\\\", \\\"azureml-contrib-notebook\\\": \\\"1.19.0\\\", \\\"azureml-contrib-interpret\\\": \\\"1.19.0\\\", \\\"azureml-contrib-gbdt\\\": \\\"1.19.0\\\", \\\"azureml-contrib-fairness\\\": \\\"1.19.0\\\", \\\"azureml-contrib-dataset\\\": \\\"1.19.0\\\", \\\"azureml-cli-common\\\": \\\"1.19.0\\\", \\\"azureml-automl-runtime\\\": \\\"1.19.0\\\", \\\"azureml-automl-core\\\": \\\"1.19.0\\\", \\\"azureml-accel-models\\\": \\\"1.19.0\\\"}\", \"_aml_system_scenario_identification\": \"Local.Parent\", \"ClientSdkVersion\": \"1.19.0\", \"ClientType\": \"SDK\", \"environment_cpu_name\": \"AzureML-AutoML\", \"environment_cpu_label\": \"prod\", \"environment_gpu_name\": \"AzureML-AutoML-GPU\", \"environment_gpu_label\": \"prod\", \"root_attribution\": \"automl\", \"attribution\": \"AutoML\", \"Orchestrator\": \"AutoML\", \"_azureml.ComputeTargetType\": \"local\", \"ProblemInfoJsonString\": \"{\\\"dataset_num_categorical\\\": 0, \\\"is_sparse\\\": true, \\\"subsampling\\\": false, \\\"dataset_classes\\\": 2, \\\"dataset_features\\\": 5228, \\\"dataset_samples\\\": 1204, \\\"single_frequency_class_detected\\\": false}\", \"feature_skus\": \"automatedml_sdk_guardrails\"}, \"tags\": {\"model_explain_run\": \"best_run\", \"best_score\": \"0.995163729531767\", \"best_pipeline\": \"VotingEnsemble\", \"automl_best_child_run_id\": \"AutoML_0401814e-b965-4245-bf69-7e0da572e1a8_17\", \"model_explain_best_run_child_id\": \"AutoML_0401814e-b965-4245-bf69-7e0da572e1a8_17\"}, \"end_time_utc\": \"2021-01-18T00:09:23.83922Z\", \"status\": \"Completed\", \"log_files\": {}, \"log_groups\": [], \"run_duration\": \"0:24:23\"}, \"child_runs\": [{\"run_id\": \"AutoML_0401814e-b965-4245-bf69-7e0da572e1a8_0\", \"run_number\": 2, \"metric\": null, \"status\": \"Completed\", \"run_type\": null, \"training_percent\": \"100\", \"start_time\": \"2021-01-17T23:48:14.1441Z\", \"end_time\": \"2021-01-17T23:51:40.283014Z\", \"created_time\": \"2021-01-17T23:48:14.033899Z\", \"created_time_dt\": \"2021-01-17T23:48:14.033899Z\", \"duration\": \"0:03:26\", \"iteration\": \"0\", \"goal\": \"AUC_weighted_max\", \"run_name\": \"MaxAbsScaler, LightGBM\", \"run_properties\": \"copy=True\", \"primary_metric\": 0.99407392, \"best_metric\": 0.99407392}, {\"run_id\": \"AutoML_0401814e-b965-4245-bf69-7e0da572e1a8_1\", \"run_number\": 3, \"metric\": null, \"status\": \"Completed\", \"run_type\": null, \"training_percent\": \"100\", \"start_time\": \"2021-01-17T23:51:40.626424Z\", \"end_time\": \"2021-01-17T23:53:18.211501Z\", \"created_time\": \"2021-01-17T23:51:40.521758Z\", \"created_time_dt\": \"2021-01-17T23:51:40.521758Z\", \"duration\": \"0:01:37\", \"iteration\": \"1\", \"goal\": \"AUC_weighted_max\", \"run_name\": \"MaxAbsScaler, XGBoostClassifier\", \"run_properties\": \"copy=True\", \"primary_metric\": 0.99290638, \"best_metric\": 0.99407392}, {\"run_id\": \"AutoML_0401814e-b965-4245-bf69-7e0da572e1a8_2\", \"run_number\": 4, \"metric\": null, \"status\": \"Completed\", \"run_type\": null, \"training_percent\": \"100\", \"start_time\": \"2021-01-17T23:53:18.895726Z\", \"end_time\": \"2021-01-17T23:54:01.133432Z\", \"created_time\": \"2021-01-17T23:53:18.774067Z\", \"created_time_dt\": \"2021-01-17T23:53:18.774067Z\", \"duration\": \"0:00:42\", \"iteration\": \"2\", \"goal\": \"AUC_weighted_max\", \"run_name\": \"MaxAbsScaler, RandomForest\", \"run_properties\": \"copy=True\", \"primary_metric\": 0.97762778, \"best_metric\": 0.99407392}, {\"run_id\": \"AutoML_0401814e-b965-4245-bf69-7e0da572e1a8_3\", \"run_number\": 5, \"metric\": null, \"status\": \"Completed\", \"run_type\": null, \"training_percent\": \"100\", \"start_time\": \"2021-01-17T23:54:02.542153Z\", \"end_time\": \"2021-01-17T23:54:44.330732Z\", \"created_time\": \"2021-01-17T23:54:02.440592Z\", \"created_time_dt\": \"2021-01-17T23:54:02.440592Z\", \"duration\": \"0:00:41\", \"iteration\": \"3\", \"goal\": \"AUC_weighted_max\", \"run_name\": \"MaxAbsScaler, RandomForest\", \"run_properties\": \"copy=True\", \"primary_metric\": 0.97655236, \"best_metric\": 0.99407392}, {\"run_id\": \"AutoML_0401814e-b965-4245-bf69-7e0da572e1a8_4\", \"run_number\": 6, \"metric\": null, \"status\": \"Completed\", \"run_type\": null, \"training_percent\": \"100\", \"start_time\": \"2021-01-17T23:54:45.684663Z\", \"end_time\": \"2021-01-17T23:55:32.654507Z\", \"created_time\": \"2021-01-17T23:54:45.574511Z\", \"created_time_dt\": \"2021-01-17T23:54:45.574511Z\", \"duration\": \"0:00:47\", \"iteration\": \"4\", \"goal\": \"AUC_weighted_max\", \"run_name\": \"MaxAbsScaler, RandomForest\", \"run_properties\": \"copy=True\", \"primary_metric\": 0.97717758, \"best_metric\": 0.99407392}, {\"run_id\": \"AutoML_0401814e-b965-4245-bf69-7e0da572e1a8_5\", \"run_number\": 7, \"metric\": null, \"status\": \"Completed\", \"run_type\": null, \"training_percent\": \"100\", \"start_time\": \"2021-01-17T23:55:34.05629Z\", \"end_time\": \"2021-01-17T23:56:19.447793Z\", \"created_time\": \"2021-01-17T23:55:33.950429Z\", \"created_time_dt\": \"2021-01-17T23:55:33.950429Z\", \"duration\": \"0:00:45\", \"iteration\": \"5\", \"goal\": \"AUC_weighted_max\", \"run_name\": \"MaxAbsScaler, ExtremeRandomTrees\", \"run_properties\": \"copy=True\", \"primary_metric\": 0.99126831, \"best_metric\": 0.99407392}, {\"run_id\": \"AutoML_0401814e-b965-4245-bf69-7e0da572e1a8_6\", \"run_number\": 8, \"metric\": null, \"status\": \"Completed\", \"run_type\": null, \"training_percent\": \"100\", \"start_time\": \"2021-01-17T23:56:21.243018Z\", \"end_time\": \"2021-01-17T23:57:05.299706Z\", \"created_time\": \"2021-01-17T23:56:20.946019Z\", \"created_time_dt\": \"2021-01-17T23:56:20.946019Z\", \"duration\": \"0:00:44\", \"iteration\": \"6\", \"goal\": \"AUC_weighted_max\", \"run_name\": \"MaxAbsScaler, ExtremeRandomTrees\", \"run_properties\": \"copy=True\", \"primary_metric\": 0.99241852, \"best_metric\": 0.99407392}, {\"run_id\": \"AutoML_0401814e-b965-4245-bf69-7e0da572e1a8_7\", \"run_number\": 9, \"metric\": null, \"status\": \"Completed\", \"run_type\": null, \"training_percent\": \"100\", \"start_time\": \"2021-01-17T23:57:06.636769Z\", \"end_time\": \"2021-01-17T23:57:54.726541Z\", \"created_time\": \"2021-01-17T23:57:06.529024Z\", \"created_time_dt\": \"2021-01-17T23:57:06.529024Z\", \"duration\": \"0:00:48\", \"iteration\": \"7\", \"goal\": \"AUC_weighted_max\", \"run_name\": \"MaxAbsScaler, ExtremeRandomTrees\", \"run_properties\": \"copy=True\", \"primary_metric\": 0.97974182, \"best_metric\": 0.99407392}, {\"run_id\": \"AutoML_0401814e-b965-4245-bf69-7e0da572e1a8_8\", \"run_number\": 10, \"metric\": null, \"status\": \"Completed\", \"run_type\": null, \"training_percent\": \"100\", \"start_time\": \"2021-01-17T23:57:57.422666Z\", \"end_time\": \"2021-01-17T23:58:47.292258Z\", \"created_time\": \"2021-01-17T23:57:57.031056Z\", \"created_time_dt\": \"2021-01-17T23:57:57.031056Z\", \"duration\": \"0:00:50\", \"iteration\": \"8\", \"goal\": \"AUC_weighted_max\", \"run_name\": \"MaxAbsScaler, RandomForest\", \"run_properties\": \"copy=True\", \"primary_metric\": 0.97570924, \"best_metric\": 0.99407392}, {\"run_id\": \"AutoML_0401814e-b965-4245-bf69-7e0da572e1a8_9\", \"run_number\": 11, \"metric\": null, \"status\": \"Completed\", \"run_type\": null, \"training_percent\": \"100\", \"start_time\": \"2021-01-17T23:58:48.599648Z\", \"end_time\": \"2021-01-17T23:59:38.70973Z\", \"created_time\": \"2021-01-17T23:58:48.495992Z\", \"created_time_dt\": \"2021-01-17T23:58:48.495992Z\", \"duration\": \"0:00:50\", \"iteration\": \"9\", \"goal\": \"AUC_weighted_max\", \"run_name\": \"MaxAbsScaler, ExtremeRandomTrees\", \"run_properties\": \"copy=True\", \"primary_metric\": 0.98804384, \"best_metric\": 0.99407392}, {\"run_id\": \"AutoML_0401814e-b965-4245-bf69-7e0da572e1a8_10\", \"run_number\": 12, \"metric\": null, \"status\": \"Completed\", \"run_type\": null, \"training_percent\": \"100\", \"start_time\": \"2021-01-17T23:59:40.135049Z\", \"end_time\": \"2021-01-18T00:00:25.094049Z\", \"created_time\": \"2021-01-17T23:59:40.032219Z\", \"created_time_dt\": \"2021-01-17T23:59:40.032219Z\", \"duration\": \"0:00:45\", \"iteration\": \"10\", \"goal\": \"AUC_weighted_max\", \"run_name\": \"MaxAbsScaler, RandomForest\", \"run_properties\": \"copy=True\", \"primary_metric\": 0.97789134, \"best_metric\": 0.99407392}, {\"run_id\": \"AutoML_0401814e-b965-4245-bf69-7e0da572e1a8_11\", \"run_number\": 13, \"metric\": null, \"status\": \"Completed\", \"run_type\": null, \"training_percent\": \"100\", \"start_time\": \"2021-01-18T00:00:26.942175Z\", \"end_time\": \"2021-01-18T00:01:12.593219Z\", \"created_time\": \"2021-01-18T00:00:26.841511Z\", \"created_time_dt\": \"2021-01-18T00:00:26.841511Z\", \"duration\": \"0:00:45\", \"iteration\": \"11\", \"goal\": \"AUC_weighted_max\", \"run_name\": \"MaxAbsScaler, RandomForest\", \"run_properties\": \"copy=True\", \"primary_metric\": 0.9788481, \"best_metric\": 0.99407392}, {\"run_id\": \"AutoML_0401814e-b965-4245-bf69-7e0da572e1a8_12\", \"run_number\": 14, \"metric\": null, \"status\": \"Completed\", \"run_type\": null, \"training_percent\": \"100\", \"start_time\": \"2021-01-18T00:01:14.33059Z\", \"end_time\": \"2021-01-18T00:02:10.76307Z\", \"created_time\": \"2021-01-18T00:01:14.22037Z\", \"created_time_dt\": \"2021-01-18T00:01:14.22037Z\", \"duration\": \"0:00:56\", \"iteration\": \"12\", \"goal\": \"AUC_weighted_max\", \"run_name\": \"MaxAbsScaler, RandomForest\", \"run_properties\": \"copy=True\", \"primary_metric\": 0.9810633, \"best_metric\": 0.99407392}, {\"run_id\": \"AutoML_0401814e-b965-4245-bf69-7e0da572e1a8_13\", \"run_number\": 15, \"metric\": null, \"status\": \"Completed\", \"run_type\": null, \"training_percent\": \"100\", \"start_time\": \"2021-01-18T00:02:12.480296Z\", \"end_time\": \"2021-01-18T00:03:06.981812Z\", \"created_time\": \"2021-01-18T00:02:12.365289Z\", \"created_time_dt\": \"2021-01-18T00:02:12.365289Z\", \"duration\": \"0:00:54\", \"iteration\": \"13\", \"goal\": \"AUC_weighted_max\", \"run_name\": \"StandardScalerWrapper, XGBoostClassifier\", \"run_properties\": \"<azureml.automl.runtime.shared.model_wrappers.StandardScalerWrapper object at 0x7f206dc66f98\", \"primary_metric\": 0.98827654, \"best_metric\": 0.99407392}, {\"run_id\": \"AutoML_0401814e-b965-4245-bf69-7e0da572e1a8_14\", \"run_number\": 16, \"metric\": null, \"status\": \"Completed\", \"run_type\": null, \"training_percent\": \"100\", \"start_time\": \"2021-01-18T00:03:08.337658Z\", \"end_time\": \"2021-01-18T00:03:51.511949Z\", \"created_time\": \"2021-01-18T00:03:08.230128Z\", \"created_time_dt\": \"2021-01-18T00:03:08.230128Z\", \"duration\": \"0:00:43\", \"iteration\": \"14\", \"goal\": \"AUC_weighted_max\", \"run_name\": \"MaxAbsScaler, RandomForest\", \"run_properties\": \"copy=True\", \"primary_metric\": 0.97308596, \"best_metric\": 0.99407392}, {\"run_id\": \"AutoML_0401814e-b965-4245-bf69-7e0da572e1a8_15\", \"run_number\": 17, \"metric\": null, \"status\": \"Completed\", \"run_type\": null, \"training_percent\": \"100\", \"start_time\": \"2021-01-18T00:03:52.901003Z\", \"end_time\": \"2021-01-18T00:04:36.156788Z\", \"created_time\": \"2021-01-18T00:03:52.765568Z\", \"created_time_dt\": \"2021-01-18T00:03:52.765568Z\", \"duration\": \"0:00:43\", \"iteration\": \"15\", \"goal\": \"AUC_weighted_max\", \"run_name\": \"StandardScalerWrapper, ExtremeRandomTrees\", \"run_properties\": \"<azureml.automl.runtime.shared.model_wrappers.StandardScalerWrapper object at 0x7f206d8a17b8\", \"primary_metric\": 0.99154253, \"best_metric\": 0.99407392}, {\"run_id\": \"AutoML_0401814e-b965-4245-bf69-7e0da572e1a8_16\", \"run_number\": 18, \"metric\": null, \"status\": \"Completed\", \"run_type\": null, \"training_percent\": \"100\", \"start_time\": \"2021-01-18T00:04:37.548282Z\", \"end_time\": \"2021-01-18T00:05:26.129749Z\", \"created_time\": \"2021-01-18T00:04:37.437149Z\", \"created_time_dt\": \"2021-01-18T00:04:37.437149Z\", \"duration\": \"0:00:48\", \"iteration\": \"16\", \"goal\": \"AUC_weighted_max\", \"run_name\": \"MaxAbsScaler, ExtremeRandomTrees\", \"run_properties\": \"copy=True\", \"primary_metric\": 0.99142704, \"best_metric\": 0.99407392}, {\"run_id\": \"AutoML_0401814e-b965-4245-bf69-7e0da572e1a8_17\", \"run_number\": 19, \"metric\": null, \"status\": \"Completed\", \"run_type\": null, \"training_percent\": \"100\", \"start_time\": \"2021-01-18T00:05:26.514854Z\", \"end_time\": \"2021-01-18T00:07:15.832578Z\", \"created_time\": \"2021-01-18T00:05:26.362651Z\", \"created_time_dt\": \"2021-01-18T00:05:26.362651Z\", \"duration\": \"0:01:49\", \"iteration\": \"17\", \"goal\": \"AUC_weighted_max\", \"run_name\": \"VotingEnsemble\", \"run_properties\": \"classification_labels=None,\\n                              estimators=[('0',\\n                                           Pipeline(memory=None,\\n                                                    steps=[('maxabsscaler',\\n                                                            MaxAbsScaler(copy=True\", \"primary_metric\": 0.99516373, \"best_metric\": 0.99516373}, {\"run_id\": \"AutoML_0401814e-b965-4245-bf69-7e0da572e1a8_18\", \"run_number\": 20, \"metric\": null, \"status\": \"Completed\", \"run_type\": null, \"training_percent\": \"100\", \"start_time\": \"2021-01-18T00:07:16.162089Z\", \"end_time\": \"2021-01-18T00:09:16.462904Z\", \"created_time\": \"2021-01-18T00:07:16.058536Z\", \"created_time_dt\": \"2021-01-18T00:07:16.058536Z\", \"duration\": \"0:02:00\", \"iteration\": \"18\", \"goal\": \"AUC_weighted_max\", \"run_name\": \"StackEnsemble\", \"run_properties\": \"base_learners=[('0',\\n                                        Pipeline(memory=None,\\n                                                 steps=[('maxabsscaler',\\n                                                         MaxAbsScaler(copy=True\", \"primary_metric\": 0.99332781, \"best_metric\": 0.99516373}], \"children_metrics\": {\"categories\": [0], \"series\": {\"recall_score_micro\": [{\"categories\": [\"0\", \"1\", \"2\", \"3\", \"4\", \"5\", \"6\", \"7\", \"8\", \"9\", \"10\", \"11\", \"12\", \"13\", \"14\", \"15\", \"16\", \"17\", \"18\"], \"mode\": \"markers\", \"name\": \"recall_score_micro\", \"stepped\": false, \"type\": \"scatter\", \"data\": [0.9700996677740864, 0.9725913621262459, 0.9543189368770764, 0.9634551495016612, 0.951827242524917, 0.9451827242524917, 0.9534883720930233, 0.9584717607973422, 0.9526578073089702, 0.9509966777408638, 0.9285714285714286, 0.9244186046511629, 0.9568106312292359, 0.9493355481727574, 0.9543189368770764, 0.9393687707641196, 0.9418604651162791, 0.9692691029900332, 0.9642857142857142]}, {\"categories\": [\"0\", \"1\", \"2\", \"3\", \"4\", \"5\", \"6\", \"7\", \"8\", \"9\", \"10\", \"11\", \"12\", \"13\", \"14\", \"15\", \"16\", \"17\", \"18\"], \"mode\": \"lines\", \"name\": \"recall_score_micro_max\", \"stepped\": true, \"type\": \"scatter\", \"data\": [0.9700996677740864, 0.9725913621262459, 0.9725913621262459, 0.9725913621262459, 0.9725913621262459, 0.9725913621262459, 0.9725913621262459, 0.9725913621262459, 0.9725913621262459, 0.9725913621262459, 0.9725913621262459, 0.9725913621262459, 0.9725913621262459, 0.9725913621262459, 0.9725913621262459, 0.9725913621262459, 0.9725913621262459, 0.9725913621262459, 0.9725913621262459]}], \"recall_score_macro\": [{\"categories\": [\"0\", \"1\", \"2\", \"3\", \"4\", \"5\", \"6\", \"7\", \"8\", \"9\", \"10\", \"11\", \"12\", \"13\", \"14\", \"15\", \"16\", \"17\", \"18\"], \"mode\": \"markers\", \"name\": \"recall_score_macro\", \"stepped\": false, \"type\": \"scatter\", \"data\": [0.9688547781963636, 0.9712847381734934, 0.943990177173114, 0.9552983248635423, 0.9419046908792602, 0.9442998987296418, 0.950792168890991, 0.9490871447393187, 0.9422432245716162, 0.9449370040940708, 0.9273198788443329, 0.9228781418825163, 0.949056007484989, 0.9453553778785132, 0.9460824276793258, 0.9390909286280098, 0.9420128775746961, 0.9681809237489242, 0.9606212105083838]}, {\"categories\": [\"0\", \"1\", \"2\", \"3\", \"4\", \"5\", \"6\", \"7\", \"8\", \"9\", \"10\", \"11\", \"12\", \"13\", \"14\", \"15\", \"16\", \"17\", \"18\"], \"mode\": \"lines\", \"name\": \"recall_score_macro_max\", \"stepped\": true, \"type\": \"scatter\", \"data\": [0.9688547781963636, 0.9712847381734934, 0.9712847381734934, 0.9712847381734934, 0.9712847381734934, 0.9712847381734934, 0.9712847381734934, 0.9712847381734934, 0.9712847381734934, 0.9712847381734934, 0.9712847381734934, 0.9712847381734934, 0.9712847381734934, 0.9712847381734934, 0.9712847381734934, 0.9712847381734934, 0.9712847381734934, 0.9712847381734934, 0.9712847381734934]}], \"accuracy\": [{\"categories\": [\"0\", \"1\", \"2\", \"3\", \"4\", \"5\", \"6\", \"7\", \"8\", \"9\", \"10\", \"11\", \"12\", \"13\", \"14\", \"15\", \"16\", \"17\", \"18\"], \"mode\": \"markers\", \"name\": \"accuracy\", \"stepped\": false, \"type\": \"scatter\", \"data\": [0.9700996677740864, 0.9725913621262459, 0.9543189368770764, 0.9634551495016612, 0.951827242524917, 0.9451827242524917, 0.9534883720930233, 0.9584717607973422, 0.9526578073089702, 0.9509966777408638, 0.9285714285714286, 0.9244186046511629, 0.9568106312292359, 0.9493355481727574, 0.9543189368770764, 0.9393687707641196, 0.9418604651162791, 0.9692691029900332, 0.9642857142857142]}, {\"categories\": [\"0\", \"1\", \"2\", \"3\", \"4\", \"5\", \"6\", \"7\", \"8\", \"9\", \"10\", \"11\", \"12\", \"13\", \"14\", \"15\", \"16\", \"17\", \"18\"], \"mode\": \"lines\", \"name\": \"accuracy_max\", \"stepped\": true, \"type\": \"scatter\", \"data\": [0.9700996677740864, 0.9725913621262459, 0.9725913621262459, 0.9725913621262459, 0.9725913621262459, 0.9725913621262459, 0.9725913621262459, 0.9725913621262459, 0.9725913621262459, 0.9725913621262459, 0.9725913621262459, 0.9725913621262459, 0.9725913621262459, 0.9725913621262459, 0.9725913621262459, 0.9725913621262459, 0.9725913621262459, 0.9725913621262459, 0.9725913621262459]}], \"f1_score_weighted\": [{\"categories\": [\"0\", \"1\", \"2\", \"3\", \"4\", \"5\", \"6\", \"7\", \"8\", \"9\", \"10\", \"11\", \"12\", \"13\", \"14\", \"15\", \"16\", \"17\", \"18\"], \"mode\": \"markers\", \"name\": \"f1_score_weighted\", \"stepped\": false, \"type\": \"scatter\", \"data\": [0.9700996677740864, 0.9725862335815401, 0.9538078767479585, 0.9630990595318851, 0.9511877708069252, 0.9451887263414871, 0.9533780251541174, 0.9580123846634663, 0.952128606352293, 0.9506472804654952, 0.9286896782964446, 0.9245006776787255, 0.956485143023095, 0.9491893915655484, 0.9539351987213338, 0.9394011670112041, 0.9419329195539601, 0.9692754965495938, 0.9641750422529443]}, {\"categories\": [\"0\", \"1\", \"2\", \"3\", \"4\", \"5\", \"6\", \"7\", \"8\", \"9\", \"10\", \"11\", \"12\", \"13\", \"14\", \"15\", \"16\", \"17\", \"18\"], \"mode\": \"lines\", \"name\": \"f1_score_weighted_max\", \"stepped\": true, \"type\": \"scatter\", \"data\": [0.9700996677740864, 0.9725862335815401, 0.9725862335815401, 0.9725862335815401, 0.9725862335815401, 0.9725862335815401, 0.9725862335815401, 0.9725862335815401, 0.9725862335815401, 0.9725862335815401, 0.9725862335815401, 0.9725862335815401, 0.9725862335815401, 0.9725862335815401, 0.9725862335815401, 0.9725862335815401, 0.9725862335815401, 0.9725862335815401, 0.9725862335815401]}], \"norm_macro_recall\": [{\"categories\": [\"0\", \"1\", \"2\", \"3\", \"4\", \"5\", \"6\", \"7\", \"8\", \"9\", \"10\", \"11\", \"12\", \"13\", \"14\", \"15\", \"16\", \"17\", \"18\"], \"mode\": \"markers\", \"name\": \"norm_macro_recall\", \"stepped\": false, \"type\": \"scatter\", \"data\": [0.9377095563927271, 0.9425694763469867, 0.8879803543462279, 0.9105966497270845, 0.8838093817585204, 0.8885997974592835, 0.9015843377819821, 0.8981742894786373, 0.8844864491432325, 0.8898740081881414, 0.8546397576886657, 0.8457562837650325, 0.8981120149699778, 0.8907107557570264, 0.8921648553586518, 0.8781818572560197, 0.8840257551493921, 0.9363618474978483, 0.9212424210167675]}, {\"categories\": [\"0\", \"1\", \"2\", \"3\", \"4\", \"5\", \"6\", \"7\", \"8\", \"9\", \"10\", \"11\", \"12\", \"13\", \"14\", \"15\", \"16\", \"17\", \"18\"], \"mode\": \"lines\", \"name\": \"norm_macro_recall_max\", \"stepped\": true, \"type\": \"scatter\", \"data\": [0.9377095563927271, 0.9425694763469867, 0.9425694763469867, 0.9425694763469867, 0.9425694763469867, 0.9425694763469867, 0.9425694763469867, 0.9425694763469867, 0.9425694763469867, 0.9425694763469867, 0.9425694763469867, 0.9425694763469867, 0.9425694763469867, 0.9425694763469867, 0.9425694763469867, 0.9425694763469867, 0.9425694763469867, 0.9425694763469867, 0.9425694763469867]}], \"AUC_macro\": [{\"categories\": [\"0\", \"1\", \"2\", \"3\", \"4\", \"5\", \"6\", \"7\", \"8\", \"9\", \"10\", \"11\", \"12\", \"13\", \"14\", \"15\", \"16\", \"17\", \"18\"], \"mode\": \"markers\", \"name\": \"AUC_macro\", \"stepped\": false, \"type\": \"scatter\", \"data\": [0.9940739190887864, 0.992906378894941, 0.977627782462006, 0.976552359916273, 0.9771775765769419, 0.9912683052912776, 0.9924185197544952, 0.9797418239584621, 0.9757094657559884, 0.9880438380037275, 0.9778913414399713, 0.9788480957229322, 0.98106330385948, 0.9882765431897623, 0.9730862945367345, 0.9915425253627655, 0.9914270413276127, 0.9951637295317671, 0.9933278118928168]}, {\"categories\": [\"0\", \"1\", \"2\", \"3\", \"4\", \"5\", \"6\", \"7\", \"8\", \"9\", \"10\", \"11\", \"12\", \"13\", \"14\", \"15\", \"16\", \"17\", \"18\"], \"mode\": \"lines\", \"name\": \"AUC_macro_max\", \"stepped\": true, \"type\": \"scatter\", \"data\": [0.9940739190887864, 0.9940739190887864, 0.9940739190887864, 0.9940739190887864, 0.9940739190887864, 0.9940739190887864, 0.9940739190887864, 0.9940739190887864, 0.9940739190887864, 0.9940739190887864, 0.9940739190887864, 0.9940739190887864, 0.9940739190887864, 0.9940739190887864, 0.9940739190887864, 0.9940739190887864, 0.9940739190887864, 0.9951637295317671, 0.9951637295317671]}], \"precision_score_weighted\": [{\"categories\": [\"0\", \"1\", \"2\", \"3\", \"4\", \"5\", \"6\", \"7\", \"8\", \"9\", \"10\", \"11\", \"12\", \"13\", \"14\", \"15\", \"16\", \"17\", \"18\"], \"mode\": \"markers\", \"name\": \"precision_score_weighted\", \"stepped\": false, \"type\": \"scatter\", \"data\": [0.9700996677740864, 0.9725839456758599, 0.95750013904353, 0.965921139148744, 0.9557299027036633, 0.9462577322671579, 0.9552551023697927, 0.9615280527162895, 0.955723463691394, 0.9529524628667836, 0.9332848101082277, 0.9246824918942944, 0.9582602391746468, 0.9496496272927775, 0.9561236056101974, 0.9414989474084097, 0.9436360382518676, 0.9692847002690628, 0.9649659174767048]}, {\"categories\": [\"0\", \"1\", \"2\", \"3\", \"4\", \"5\", \"6\", \"7\", \"8\", \"9\", \"10\", \"11\", \"12\", \"13\", \"14\", \"15\", \"16\", \"17\", \"18\"], \"mode\": \"lines\", \"name\": \"precision_score_weighted_max\", \"stepped\": true, \"type\": \"scatter\", \"data\": [0.9700996677740864, 0.9725839456758599, 0.9725839456758599, 0.9725839456758599, 0.9725839456758599, 0.9725839456758599, 0.9725839456758599, 0.9725839456758599, 0.9725839456758599, 0.9725839456758599, 0.9725839456758599, 0.9725839456758599, 0.9725839456758599, 0.9725839456758599, 0.9725839456758599, 0.9725839456758599, 0.9725839456758599, 0.9725839456758599, 0.9725839456758599]}], \"precision_score_macro\": [{\"categories\": [\"0\", \"1\", \"2\", \"3\", \"4\", \"5\", \"6\", \"7\", \"8\", \"9\", \"10\", \"11\", \"12\", \"13\", \"14\", \"15\", \"16\", \"17\", \"18\"], \"mode\": \"markers\", \"name\": \"precision_score_macro\", \"stepped\": false, \"type\": \"scatter\", \"data\": [0.9688547781963636, 0.971674688225382, 0.9637911972636093, 0.9711417214912281, 0.9616587457362973, 0.9429613527155198, 0.9542063991709204, 0.9674708711990878, 0.9620349881321395, 0.9549360397423953, 0.9290702048925733, 0.9206185218208348, 0.9624689118498118, 0.9495149689378324, 0.9604683368741607, 0.9372557961079451, 0.9391633780584057, 0.9678027848135309, 0.9656463903765347]}, {\"categories\": [\"0\", \"1\", \"2\", \"3\", \"4\", \"5\", \"6\", \"7\", \"8\", \"9\", \"10\", \"11\", \"12\", \"13\", \"14\", \"15\", \"16\", \"17\", \"18\"], \"mode\": \"lines\", \"name\": \"precision_score_macro_max\", \"stepped\": true, \"type\": \"scatter\", \"data\": [0.9688547781963636, 0.971674688225382, 0.971674688225382, 0.971674688225382, 0.971674688225382, 0.971674688225382, 0.971674688225382, 0.971674688225382, 0.971674688225382, 0.971674688225382, 0.971674688225382, 0.971674688225382, 0.971674688225382, 0.971674688225382, 0.971674688225382, 0.971674688225382, 0.971674688225382, 0.971674688225382, 0.971674688225382]}], \"average_precision_score_weighted\": [{\"categories\": [\"0\", \"1\", \"2\", \"3\", \"4\", \"5\", \"6\", \"7\", \"8\", \"9\", \"10\", \"11\", \"12\", \"13\", \"14\", \"15\", \"16\", \"17\", \"18\"], \"mode\": \"markers\", \"name\": \"average_precision_score_weighted\", \"stepped\": false, \"type\": \"scatter\", \"data\": [0.9945649590594101, 0.9934818005612455, 0.9757770514055544, 0.9752796490001983, 0.9744791153367872, 0.9911408789908898, 0.9929095164293833, 0.9795202183459548, 0.9749884095322043, 0.9889969904481797, 0.9765035547253911, 0.9788315453003673, 0.9818676962897186, 0.9891234407731183, 0.9707853163057905, 0.9899983614898551, 0.9918399000413984, 0.9955110960969078, 0.9933080300303714]}, {\"categories\": [\"0\", \"1\", \"2\", \"3\", \"4\", \"5\", \"6\", \"7\", \"8\", \"9\", \"10\", \"11\", \"12\", \"13\", \"14\", \"15\", \"16\", \"17\", \"18\"], \"mode\": \"lines\", \"name\": \"average_precision_score_weighted_max\", \"stepped\": true, \"type\": \"scatter\", \"data\": [0.9945649590594101, 0.9945649590594101, 0.9945649590594101, 0.9945649590594101, 0.9945649590594101, 0.9945649590594101, 0.9945649590594101, 0.9945649590594101, 0.9945649590594101, 0.9945649590594101, 0.9945649590594101, 0.9945649590594101, 0.9945649590594101, 0.9945649590594101, 0.9945649590594101, 0.9945649590594101, 0.9945649590594101, 0.9955110960969078, 0.9955110960969078]}], \"matthews_correlation\": [{\"categories\": [\"0\", \"1\", \"2\", \"3\", \"4\", \"5\", \"6\", \"7\", \"8\", \"9\", \"10\", \"11\", \"12\", \"13\", \"14\", \"15\", \"16\", \"17\", \"18\"], \"mode\": \"markers\", \"name\": \"matthews_correlation\", \"stepped\": false, \"type\": \"scatter\", \"data\": [0.9377095563927271, 0.9429592658749772, 0.90756173513003, 0.9262904009920494, 0.9032971812511054, 0.8872205914294292, 0.9049187924864845, 0.9163600396952405, 0.9040601139472884, 0.8997590278342107, 0.8562224319576961, 0.8434918400330483, 0.9114257782491719, 0.8948505505676391, 0.9064319334887203, 0.8762712259487699, 0.8811160896514503, 0.9359835553590791, 0.9262356845720057]}, {\"categories\": [\"0\", \"1\", \"2\", \"3\", \"4\", \"5\", \"6\", \"7\", \"8\", \"9\", \"10\", \"11\", \"12\", \"13\", \"14\", \"15\", \"16\", \"17\", \"18\"], \"mode\": \"lines\", \"name\": \"matthews_correlation_max\", \"stepped\": true, \"type\": \"scatter\", \"data\": [0.9377095563927271, 0.9429592658749772, 0.9429592658749772, 0.9429592658749772, 0.9429592658749772, 0.9429592658749772, 0.9429592658749772, 0.9429592658749772, 0.9429592658749772, 0.9429592658749772, 0.9429592658749772, 0.9429592658749772, 0.9429592658749772, 0.9429592658749772, 0.9429592658749772, 0.9429592658749772, 0.9429592658749772, 0.9429592658749772, 0.9429592658749772]}], \"recall_score_weighted\": [{\"categories\": [\"0\", \"1\", \"2\", \"3\", \"4\", \"5\", \"6\", \"7\", \"8\", \"9\", \"10\", \"11\", \"12\", \"13\", \"14\", \"15\", \"16\", \"17\", \"18\"], \"mode\": \"markers\", \"name\": \"recall_score_weighted\", \"stepped\": false, \"type\": \"scatter\", \"data\": [0.9700996677740864, 0.9725913621262459, 0.9543189368770764, 0.9634551495016612, 0.951827242524917, 0.9451827242524917, 0.9534883720930233, 0.9584717607973422, 0.9526578073089702, 0.9509966777408638, 0.9285714285714286, 0.9244186046511629, 0.9568106312292359, 0.9493355481727574, 0.9543189368770764, 0.9393687707641196, 0.9418604651162791, 0.9692691029900332, 0.9642857142857142]}, {\"categories\": [\"0\", \"1\", \"2\", \"3\", \"4\", \"5\", \"6\", \"7\", \"8\", \"9\", \"10\", \"11\", \"12\", \"13\", \"14\", \"15\", \"16\", \"17\", \"18\"], \"mode\": \"lines\", \"name\": \"recall_score_weighted_max\", \"stepped\": true, \"type\": \"scatter\", \"data\": [0.9700996677740864, 0.9725913621262459, 0.9725913621262459, 0.9725913621262459, 0.9725913621262459, 0.9725913621262459, 0.9725913621262459, 0.9725913621262459, 0.9725913621262459, 0.9725913621262459, 0.9725913621262459, 0.9725913621262459, 0.9725913621262459, 0.9725913621262459, 0.9725913621262459, 0.9725913621262459, 0.9725913621262459, 0.9725913621262459, 0.9725913621262459]}], \"AUC_weighted\": [{\"categories\": [\"0\", \"1\", \"2\", \"3\", \"4\", \"5\", \"6\", \"7\", \"8\", \"9\", \"10\", \"11\", \"12\", \"13\", \"14\", \"15\", \"16\", \"17\", \"18\"], \"mode\": \"markers\", \"name\": \"AUC_weighted\", \"stepped\": false, \"type\": \"scatter\", \"data\": [0.9940739190887864, 0.992906378894941, 0.977627782462006, 0.9765523599162729, 0.9771775765769419, 0.9912683052912776, 0.9924185197544952, 0.979741823958462, 0.9757092400002455, 0.9880438380037273, 0.9778913414399713, 0.9788480957229323, 0.98106330385948, 0.9882765431897623, 0.9730859553368716, 0.9915425253627654, 0.9914270413276127, 0.995163729531767, 0.9933278118928168]}, {\"categories\": [\"0\", \"1\", \"2\", \"3\", \"4\", \"5\", \"6\", \"7\", \"8\", \"9\", \"10\", \"11\", \"12\", \"13\", \"14\", \"15\", \"16\", \"17\", \"18\"], \"mode\": \"lines\", \"name\": \"AUC_weighted_max\", \"stepped\": true, \"type\": \"scatter\", \"data\": [0.9940739190887864, 0.9940739190887864, 0.9940739190887864, 0.9940739190887864, 0.9940739190887864, 0.9940739190887864, 0.9940739190887864, 0.9940739190887864, 0.9940739190887864, 0.9940739190887864, 0.9940739190887864, 0.9940739190887864, 0.9940739190887864, 0.9940739190887864, 0.9940739190887864, 0.9940739190887864, 0.9940739190887864, 0.995163729531767, 0.995163729531767]}], \"f1_score_micro\": [{\"categories\": [\"0\", \"1\", \"2\", \"3\", \"4\", \"5\", \"6\", \"7\", \"8\", \"9\", \"10\", \"11\", \"12\", \"13\", \"14\", \"15\", \"16\", \"17\", \"18\"], \"mode\": \"markers\", \"name\": \"f1_score_micro\", \"stepped\": false, \"type\": \"scatter\", \"data\": [0.9700996677740864, 0.9725913621262459, 0.9543189368770764, 0.9634551495016612, 0.951827242524917, 0.9451827242524916, 0.9534883720930233, 0.9584717607973422, 0.9526578073089702, 0.9509966777408638, 0.9285714285714286, 0.9244186046511629, 0.9568106312292359, 0.9493355481727574, 0.9543189368770764, 0.9393687707641196, 0.9418604651162791, 0.9692691029900332, 0.9642857142857142]}, {\"categories\": [\"0\", \"1\", \"2\", \"3\", \"4\", \"5\", \"6\", \"7\", \"8\", \"9\", \"10\", \"11\", \"12\", \"13\", \"14\", \"15\", \"16\", \"17\", \"18\"], \"mode\": \"lines\", \"name\": \"f1_score_micro_max\", \"stepped\": true, \"type\": \"scatter\", \"data\": [0.9700996677740864, 0.9725913621262459, 0.9725913621262459, 0.9725913621262459, 0.9725913621262459, 0.9725913621262459, 0.9725913621262459, 0.9725913621262459, 0.9725913621262459, 0.9725913621262459, 0.9725913621262459, 0.9725913621262459, 0.9725913621262459, 0.9725913621262459, 0.9725913621262459, 0.9725913621262459, 0.9725913621262459, 0.9725913621262459, 0.9725913621262459]}], \"weighted_accuracy\": [{\"categories\": [\"0\", \"1\", \"2\", \"3\", \"4\", \"5\", \"6\", \"7\", \"8\", \"9\", \"10\", \"11\", \"12\", \"13\", \"14\", \"15\", \"16\", \"17\", \"18\"], \"mode\": \"markers\", \"name\": \"weighted_accuracy\", \"stepped\": false, \"type\": \"scatter\", \"data\": [0.971237493367027, 0.9737845871147364, 0.9638634880378163, 0.9710339336773832, 0.9610741045120199, 0.9461111408962715, 0.9561152993482464, 0.9671774076353898, 0.9622756163444404, 0.9567004078645451, 0.9299414218704183, 0.9258569813624453, 0.9639754402458316, 0.9530578809359188, 0.9619450032980792, 0.9397854049511198, 0.9418598765116054, 0.9702662993481163, 0.9677314519233275]}, {\"categories\": [\"0\", \"1\", \"2\", \"3\", \"4\", \"5\", \"6\", \"7\", \"8\", \"9\", \"10\", \"11\", \"12\", \"13\", \"14\", \"15\", \"16\", \"17\", \"18\"], \"mode\": \"lines\", \"name\": \"weighted_accuracy_max\", \"stepped\": true, \"type\": \"scatter\", \"data\": [0.971237493367027, 0.9737845871147364, 0.9737845871147364, 0.9737845871147364, 0.9737845871147364, 0.9737845871147364, 0.9737845871147364, 0.9737845871147364, 0.9737845871147364, 0.9737845871147364, 0.9737845871147364, 0.9737845871147364, 0.9737845871147364, 0.9737845871147364, 0.9737845871147364, 0.9737845871147364, 0.9737845871147364, 0.9737845871147364, 0.9737845871147364]}], \"balanced_accuracy\": [{\"categories\": [\"0\", \"1\", \"2\", \"3\", \"4\", \"5\", \"6\", \"7\", \"8\", \"9\", \"10\", \"11\", \"12\", \"13\", \"14\", \"15\", \"16\", \"17\", \"18\"], \"mode\": \"markers\", \"name\": \"balanced_accuracy\", \"stepped\": false, \"type\": \"scatter\", \"data\": [0.9688547781963636, 0.9712847381734934, 0.943990177173114, 0.9552983248635423, 0.9419046908792602, 0.9442998987296418, 0.950792168890991, 0.9490871447393187, 0.9422432245716162, 0.9449370040940708, 0.9273198788443329, 0.9228781418825163, 0.949056007484989, 0.9453553778785132, 0.9460824276793258, 0.9390909286280098, 0.9420128775746961, 0.9681809237489242, 0.9606212105083838]}, {\"categories\": [\"0\", \"1\", \"2\", \"3\", \"4\", \"5\", \"6\", \"7\", \"8\", \"9\", \"10\", \"11\", \"12\", \"13\", \"14\", \"15\", \"16\", \"17\", \"18\"], \"mode\": \"lines\", \"name\": \"balanced_accuracy_max\", \"stepped\": true, \"type\": \"scatter\", \"data\": [0.9688547781963636, 0.9712847381734934, 0.9712847381734934, 0.9712847381734934, 0.9712847381734934, 0.9712847381734934, 0.9712847381734934, 0.9712847381734934, 0.9712847381734934, 0.9712847381734934, 0.9712847381734934, 0.9712847381734934, 0.9712847381734934, 0.9712847381734934, 0.9712847381734934, 0.9712847381734934, 0.9712847381734934, 0.9712847381734934, 0.9712847381734934]}], \"average_precision_score_macro\": [{\"categories\": [\"0\", \"1\", \"2\", \"3\", \"4\", \"5\", \"6\", \"7\", \"8\", \"9\", \"10\", \"11\", \"12\", \"13\", \"14\", \"15\", \"16\", \"17\", \"18\"], \"mode\": \"markers\", \"name\": \"average_precision_score_macro\", \"stepped\": false, \"type\": \"scatter\", \"data\": [0.9943037020707959, 0.9931689393175333, 0.9766365875940912, 0.9760201298321448, 0.9751321719189308, 0.9906414254027394, 0.992615273455568, 0.9796398985879669, 0.9755679783481539, 0.9885702557179066, 0.9765749353477857, 0.9784214522767618, 0.9818275070874024, 0.9886520293293193, 0.9716896652084606, 0.9893699417530536, 0.9914691474447201, 0.9952605530902934, 0.9931921343230388]}, {\"categories\": [\"0\", \"1\", \"2\", \"3\", \"4\", \"5\", \"6\", \"7\", \"8\", \"9\", \"10\", \"11\", \"12\", \"13\", \"14\", \"15\", \"16\", \"17\", \"18\"], \"mode\": \"lines\", \"name\": \"average_precision_score_macro_max\", \"stepped\": true, \"type\": \"scatter\", \"data\": [0.9943037020707959, 0.9943037020707959, 0.9943037020707959, 0.9943037020707959, 0.9943037020707959, 0.9943037020707959, 0.9943037020707959, 0.9943037020707959, 0.9943037020707959, 0.9943037020707959, 0.9943037020707959, 0.9943037020707959, 0.9943037020707959, 0.9943037020707959, 0.9943037020707959, 0.9943037020707959, 0.9943037020707959, 0.9952605530902934, 0.9952605530902934]}], \"log_loss\": [{\"categories\": [\"0\", \"1\", \"2\", \"3\", \"4\", \"5\", \"6\", \"7\", \"8\", \"9\", \"10\", \"11\", \"12\", \"13\", \"14\", \"15\", \"16\", \"17\", \"18\"], \"mode\": \"markers\", \"name\": \"log_loss\", \"stepped\": false, \"type\": \"scatter\", \"data\": [0.1168555026382507, 0.09850765101750096, 0.20750189335106908, 0.19519540675508631, 0.1999548613336382, 0.11740543031520369, 0.11957099429044832, 0.1893868928739399, 0.16745645117084565, 0.15624535425229413, 0.20221332433483602, 0.19012462529969462, 0.1580716249134487, 0.2914745073062881, 0.27322475619553294, 0.11663688446154855, 0.1236040035311467, 0.08644982242748886, 0.13096031040177758]}, {\"categories\": [\"0\", \"1\", \"2\", \"3\", \"4\", \"5\", \"6\", \"7\", \"8\", \"9\", \"10\", \"11\", \"12\", \"13\", \"14\", \"15\", \"16\", \"17\", \"18\"], \"mode\": \"lines\", \"name\": \"log_loss_min\", \"stepped\": true, \"type\": \"scatter\", \"data\": [0.1168555026382507, 0.09850765101750096, 0.09850765101750096, 0.09850765101750096, 0.09850765101750096, 0.09850765101750096, 0.09850765101750096, 0.09850765101750096, 0.09850765101750096, 0.09850765101750096, 0.09850765101750096, 0.09850765101750096, 0.09850765101750096, 0.09850765101750096, 0.09850765101750096, 0.09850765101750096, 0.09850765101750096, 0.08644982242748886, 0.08644982242748886]}], \"f1_score_macro\": [{\"categories\": [\"0\", \"1\", \"2\", \"3\", \"4\", \"5\", \"6\", \"7\", \"8\", \"9\", \"10\", \"11\", \"12\", \"13\", \"14\", \"15\", \"16\", \"17\", \"18\"], \"mode\": \"markers\", \"name\": \"f1_score_macro\", \"stepped\": false, \"type\": \"scatter\", \"data\": [0.9688547781963636, 0.9714781313992592, 0.9516109431391053, 0.9615102660433184, 0.9489922766099952, 0.9430558261176787, 0.9514348326327298, 0.9561338488454532, 0.9498983952548443, 0.9485205404224124, 0.9257872034224259, 0.921693251161427, 0.9546260388204882, 0.9471142777404004, 0.9518893402012418, 0.937057447030258, 0.9397042908311801, 0.9679902922876623, 0.9626555940887154]}, {\"categories\": [\"0\", \"1\", \"2\", \"3\", \"4\", \"5\", \"6\", \"7\", \"8\", \"9\", \"10\", \"11\", \"12\", \"13\", \"14\", \"15\", \"16\", \"17\", \"18\"], \"mode\": \"lines\", \"name\": \"f1_score_macro_max\", \"stepped\": true, \"type\": \"scatter\", \"data\": [0.9688547781963636, 0.9714781313992592, 0.9714781313992592, 0.9714781313992592, 0.9714781313992592, 0.9714781313992592, 0.9714781313992592, 0.9714781313992592, 0.9714781313992592, 0.9714781313992592, 0.9714781313992592, 0.9714781313992592, 0.9714781313992592, 0.9714781313992592, 0.9714781313992592, 0.9714781313992592, 0.9714781313992592, 0.9714781313992592, 0.9714781313992592]}], \"precision_score_micro\": [{\"categories\": [\"0\", \"1\", \"2\", \"3\", \"4\", \"5\", \"6\", \"7\", \"8\", \"9\", \"10\", \"11\", \"12\", \"13\", \"14\", \"15\", \"16\", \"17\", \"18\"], \"mode\": \"markers\", \"name\": \"precision_score_micro\", \"stepped\": false, \"type\": \"scatter\", \"data\": [0.9700996677740864, 0.9725913621262459, 0.9543189368770764, 0.9634551495016612, 0.951827242524917, 0.9451827242524917, 0.9534883720930233, 0.9584717607973422, 0.9526578073089702, 0.9509966777408638, 0.9285714285714286, 0.9244186046511629, 0.9568106312292359, 0.9493355481727574, 0.9543189368770764, 0.9393687707641196, 0.9418604651162791, 0.9692691029900332, 0.9642857142857142]}, {\"categories\": [\"0\", \"1\", \"2\", \"3\", \"4\", \"5\", \"6\", \"7\", \"8\", \"9\", \"10\", \"11\", \"12\", \"13\", \"14\", \"15\", \"16\", \"17\", \"18\"], \"mode\": \"lines\", \"name\": \"precision_score_micro_max\", \"stepped\": true, \"type\": \"scatter\", \"data\": [0.9700996677740864, 0.9725913621262459, 0.9725913621262459, 0.9725913621262459, 0.9725913621262459, 0.9725913621262459, 0.9725913621262459, 0.9725913621262459, 0.9725913621262459, 0.9725913621262459, 0.9725913621262459, 0.9725913621262459, 0.9725913621262459, 0.9725913621262459, 0.9725913621262459, 0.9725913621262459, 0.9725913621262459, 0.9725913621262459, 0.9725913621262459]}], \"AUC_micro\": [{\"categories\": [\"0\", \"1\", \"2\", \"3\", \"4\", \"5\", \"6\", \"7\", \"8\", \"9\", \"10\", \"11\", \"12\", \"13\", \"14\", \"15\", \"16\", \"17\", \"18\"], \"mode\": \"markers\", \"name\": \"AUC_micro\", \"stepped\": false, \"type\": \"scatter\", \"data\": [0.9947406761514773, 0.9933430646460856, 0.9833404156687012, 0.9828809836536021, 0.9815220030683987, 0.99158811712895, 0.9923179655853688, 0.9826436794295869, 0.9820993973576451, 0.990470579794925, 0.9786453791900751, 0.9814212867407646, 0.9866585357777508, 0.9896648491738502, 0.9791027416915927, 0.9916915928080263, 0.9920185759539079, 0.9953518724958885, 0.9926587454884603]}, {\"categories\": [\"0\", \"1\", \"2\", \"3\", \"4\", \"5\", \"6\", \"7\", \"8\", \"9\", \"10\", \"11\", \"12\", \"13\", \"14\", \"15\", \"16\", \"17\", \"18\"], \"mode\": \"lines\", \"name\": \"AUC_micro_max\", \"stepped\": true, \"type\": \"scatter\", \"data\": [0.9947406761514773, 0.9947406761514773, 0.9947406761514773, 0.9947406761514773, 0.9947406761514773, 0.9947406761514773, 0.9947406761514773, 0.9947406761514773, 0.9947406761514773, 0.9947406761514773, 0.9947406761514773, 0.9947406761514773, 0.9947406761514773, 0.9947406761514773, 0.9947406761514773, 0.9947406761514773, 0.9947406761514773, 0.9953518724958885, 0.9953518724958885]}], \"average_precision_score_micro\": [{\"categories\": [\"0\", \"1\", \"2\", \"3\", \"4\", \"5\", \"6\", \"7\", \"8\", \"9\", \"10\", \"11\", \"12\", \"13\", \"14\", \"15\", \"16\", \"17\", \"18\"], \"mode\": \"markers\", \"name\": \"average_precision_score_micro\", \"stepped\": false, \"type\": \"scatter\", \"data\": [0.9948771194544799, 0.9934835422550037, 0.9811786322012033, 0.980644365780651, 0.9790905884731728, 0.991556415613768, 0.9925060009877664, 0.9812526230857683, 0.9809377497241336, 0.9907714089446741, 0.9750738688454563, 0.9806396958370126, 0.9866270503270245, 0.9898215887873186, 0.9753348072727315, 0.9909426446025615, 0.9921716585056186, 0.9954819131291675, 0.991738647741338]}, {\"categories\": [\"0\", \"1\", \"2\", \"3\", \"4\", \"5\", \"6\", \"7\", \"8\", \"9\", \"10\", \"11\", \"12\", \"13\", \"14\", \"15\", \"16\", \"17\", \"18\"], \"mode\": \"lines\", \"name\": \"average_precision_score_micro_max\", \"stepped\": true, \"type\": \"scatter\", \"data\": [0.9948771194544799, 0.9948771194544799, 0.9948771194544799, 0.9948771194544799, 0.9948771194544799, 0.9948771194544799, 0.9948771194544799, 0.9948771194544799, 0.9948771194544799, 0.9948771194544799, 0.9948771194544799, 0.9948771194544799, 0.9948771194544799, 0.9948771194544799, 0.9948771194544799, 0.9948771194544799, 0.9948771194544799, 0.9954819131291675, 0.9954819131291675]}]}, \"metricName\": null, \"primaryMetricName\": \"AUC_weighted\", \"showLegend\": false}, \"run_metrics\": [{\"name\": \"average_precision_score_micro\", \"run_id\": \"AutoML_0401814e-b965-4245-bf69-7e0da572e1a8\", \"categories\": [0], \"series\": [{\"data\": [0.9954819131291675]}]}, {\"name\": \"AUC_micro\", \"run_id\": \"AutoML_0401814e-b965-4245-bf69-7e0da572e1a8\", \"categories\": [0], \"series\": [{\"data\": [0.9953518724958885]}]}, {\"name\": \"f1_score_macro\", \"run_id\": \"AutoML_0401814e-b965-4245-bf69-7e0da572e1a8\", \"categories\": [0], \"series\": [{\"data\": [0.9679902922876623]}]}, {\"name\": \"average_precision_score_macro\", \"run_id\": \"AutoML_0401814e-b965-4245-bf69-7e0da572e1a8\", \"categories\": [0], \"series\": [{\"data\": [0.9952605530902934]}]}, {\"name\": \"norm_macro_recall\", \"run_id\": \"AutoML_0401814e-b965-4245-bf69-7e0da572e1a8\", \"categories\": [0], \"series\": [{\"data\": [0.9363618474978483]}]}, {\"name\": \"recall_score_micro\", \"run_id\": \"AutoML_0401814e-b965-4245-bf69-7e0da572e1a8\", \"categories\": [0], \"series\": [{\"data\": [0.9692691029900332]}]}, {\"name\": \"f1_score_micro\", \"run_id\": \"AutoML_0401814e-b965-4245-bf69-7e0da572e1a8\", \"categories\": [0], \"series\": [{\"data\": [0.9692691029900332]}]}, {\"name\": \"precision_score_weighted\", \"run_id\": \"AutoML_0401814e-b965-4245-bf69-7e0da572e1a8\", \"categories\": [0], \"series\": [{\"data\": [0.9692847002690628]}]}, {\"name\": \"recall_score_weighted\", \"run_id\": \"AutoML_0401814e-b965-4245-bf69-7e0da572e1a8\", \"categories\": [0], \"series\": [{\"data\": [0.9692691029900332]}]}, {\"name\": \"recall_score_macro\", \"run_id\": \"AutoML_0401814e-b965-4245-bf69-7e0da572e1a8\", \"categories\": [0], \"series\": [{\"data\": [0.9681809237489242]}]}, {\"name\": \"balanced_accuracy\", \"run_id\": \"AutoML_0401814e-b965-4245-bf69-7e0da572e1a8\", \"categories\": [0], \"series\": [{\"data\": [0.9681809237489242]}]}, {\"name\": \"precision_score_micro\", \"run_id\": \"AutoML_0401814e-b965-4245-bf69-7e0da572e1a8\", \"categories\": [0], \"series\": [{\"data\": [0.9692691029900332]}]}, {\"name\": \"accuracy\", \"run_id\": \"AutoML_0401814e-b965-4245-bf69-7e0da572e1a8\", \"categories\": [0], \"series\": [{\"data\": [0.9692691029900332]}]}, {\"name\": \"average_precision_score_weighted\", \"run_id\": \"AutoML_0401814e-b965-4245-bf69-7e0da572e1a8\", \"categories\": [0], \"series\": [{\"data\": [0.9955110960969078]}]}, {\"name\": \"matthews_correlation\", \"run_id\": \"AutoML_0401814e-b965-4245-bf69-7e0da572e1a8\", \"categories\": [0], \"series\": [{\"data\": [0.9359835553590791]}]}, {\"name\": \"AUC_weighted\", \"run_id\": \"AutoML_0401814e-b965-4245-bf69-7e0da572e1a8\", \"categories\": [0], \"series\": [{\"data\": [0.995163729531767]}]}, {\"name\": \"AUC_macro\", \"run_id\": \"AutoML_0401814e-b965-4245-bf69-7e0da572e1a8\", \"categories\": [0], \"series\": [{\"data\": [0.9951637295317671]}]}, {\"name\": \"log_loss\", \"run_id\": \"AutoML_0401814e-b965-4245-bf69-7e0da572e1a8\", \"categories\": [0], \"series\": [{\"data\": [0.08644982242748886]}]}, {\"name\": \"weighted_accuracy\", \"run_id\": \"AutoML_0401814e-b965-4245-bf69-7e0da572e1a8\", \"categories\": [0], \"series\": [{\"data\": [0.9702662993481163]}]}, {\"name\": \"f1_score_weighted\", \"run_id\": \"AutoML_0401814e-b965-4245-bf69-7e0da572e1a8\", \"categories\": [0], \"series\": [{\"data\": [0.9692754965495938]}]}, {\"name\": \"precision_score_macro\", \"run_id\": \"AutoML_0401814e-b965-4245-bf69-7e0da572e1a8\", \"categories\": [0], \"series\": [{\"data\": [0.9678027848135309]}]}], \"run_logs\": \"\\nRun is completed.\", \"graph\": {}, \"widget_settings\": {\"childWidgetDisplay\": \"popup\", \"send_telemetry\": false, \"log_level\": \"INFO\", \"sdk_version\": \"1.19.0\"}, \"loading\": false}"
     },
     "metadata": {},
     "output_type": "display_data"
    },
    {
     "name": "stdout",
     "output_type": "stream",
     "text": [
      "\n",
      "****************************************************************************************************\n",
      "\n",
      "****************************************************************************************************\n",
      "ITERATION: The iteration being evaluated.\n",
      "PIPELINE: A summary description of the pipeline being evaluated.\n",
      "DURATION: Time taken for the current iteration.\n",
      "METRIC: The result of computing score on the fitted pipeline.\n",
      "BEST: The best observed score thus far.\n",
      "****************************************************************************************************\n",
      "\n",
      " ITERATION   PIPELINE                                       DURATION      METRIC      BEST\n",
      "         0   MaxAbsScaler LightGBM                          0:03:26       0.9941    0.9941\n",
      "         1   MaxAbsScaler XGBoostClassifier                 0:01:38       0.9929    0.9941\n",
      "         2   MaxAbsScaler RandomForest                      0:00:42       0.9776    0.9941\n",
      "         3   MaxAbsScaler RandomForest                      0:00:42       0.9766    0.9941\n",
      "         4   MaxAbsScaler RandomForest                      0:00:47       0.9772    0.9941\n",
      "         5   MaxAbsScaler ExtremeRandomTrees                0:00:45       0.9913    0.9941\n",
      "         6   MaxAbsScaler ExtremeRandomTrees                0:00:44       0.9924    0.9941\n",
      "         7   MaxAbsScaler ExtremeRandomTrees                0:00:48       0.9797    0.9941\n",
      "         8   MaxAbsScaler RandomForest                      0:00:50       0.9757    0.9941\n",
      "         9   MaxAbsScaler ExtremeRandomTrees                0:00:50       0.9880    0.9941\n",
      "        10   MaxAbsScaler RandomForest                      0:00:45       0.9779    0.9941\n",
      "        11   MaxAbsScaler RandomForest                      0:00:46       0.9788    0.9941\n",
      "        12   MaxAbsScaler RandomForest                      0:00:56       0.9811    0.9941\n",
      "        13   StandardScalerWrapper XGBoostClassifier        0:00:55       0.9883    0.9941\n",
      "        14   MaxAbsScaler RandomForest                      0:00:43       0.9731    0.9941\n",
      "        15   StandardScalerWrapper ExtremeRandomTrees       0:00:43       0.9915    0.9941\n",
      "        16   MaxAbsScaler ExtremeRandomTrees                0:00:49       0.9914    0.9941\n",
      "        17    VotingEnsemble                                0:01:49       0.9952    0.9952\n",
      "        18    StackEnsemble                                 0:02:00       0.9933    0.9952\n"
     ]
    },
    {
     "data": {
      "text/plain": [
       "{'runId': 'AutoML_0401814e-b965-4245-bf69-7e0da572e1a8',\n",
       " 'target': 'local',\n",
       " 'status': 'Completed',\n",
       " 'startTimeUtc': '2021-01-17T23:45:01.255262Z',\n",
       " 'endTimeUtc': '2021-01-18T00:09:23.83922Z',\n",
       " 'properties': {'num_iterations': '1000',\n",
       "  'training_type': 'TrainFull',\n",
       "  'acquisition_function': 'EI',\n",
       "  'primary_metric': 'AUC_weighted',\n",
       "  'train_split': '0',\n",
       "  'acquisition_parameter': '0',\n",
       "  'num_cross_validation': '2',\n",
       "  'target': 'local',\n",
       "  'AMLSettingsJsonString': '{\"path\":null,\"name\":\"AutoRanga\",\"subscription_id\":\"81cefad3-d2c9-4f77-a466-99a7f541c7bb\",\"resource_group\":\"aml-quickstarts-135136\",\"workspace_name\":\"quick-starts-ws-135136\",\"region\":\"southcentralus\",\"compute_target\":\"local\",\"spark_service\":null,\"azure_service\":\"Microsoft.AzureNotebookVM\",\"many_models\":false,\"pipeline_fetch_max_batch_size\":1,\"iterations\":1000,\"primary_metric\":\"AUC_weighted\",\"task_type\":\"classification\",\"data_script\":null,\"validation_size\":0.0,\"n_cross_validations\":2,\"y_min\":null,\"y_max\":null,\"num_classes\":2,\"featurization\":\"auto\",\"_ignore_package_version_incompatibilities\":false,\"is_timeseries\":false,\"max_cores_per_iteration\":1,\"max_concurrent_iterations\":1,\"iteration_timeout_minutes\":null,\"mem_in_mb\":null,\"enforce_time_on_windows\":false,\"experiment_timeout_minutes\":20,\"experiment_exit_score\":null,\"whitelist_models\":null,\"blacklist_algos\":[\"TensorFlowLinearClassifier\",\"TensorFlowDNN\"],\"supported_models\":[\"SVM\",\"BernoulliNaiveBayes\",\"RandomForest\",\"XGBoostClassifier\",\"GradientBoosting\",\"LightGBM\",\"TensorFlowDNN\",\"ExtremeRandomTrees\",\"SGD\",\"LogisticRegression\",\"TensorFlowLinearClassifier\",\"MultinomialNaiveBayes\",\"AveragedPerceptronClassifier\",\"KNN\",\"LinearSVM\",\"DecisionTree\"],\"auto_blacklist\":true,\"blacklist_samples_reached\":false,\"exclude_nan_labels\":true,\"verbosity\":20,\"_debug_log\":\"automl.log\",\"show_warnings\":false,\"model_explainability\":true,\"service_url\":null,\"sdk_url\":null,\"sdk_packages\":null,\"enable_onnx_compatible_models\":false,\"enable_split_onnx_featurizer_estimator_models\":false,\"vm_type\":null,\"telemetry_verbosity\":20,\"send_telemetry\":true,\"enable_dnn\":false,\"scenario\":\"SDK-1.13.0\",\"environment_label\":null,\"force_text_dnn\":false,\"enable_feature_sweeping\":true,\"enable_early_stopping\":false,\"early_stopping_n_iters\":10,\"metrics\":null,\"enable_ensembling\":true,\"enable_stack_ensembling\":true,\"ensemble_iterations\":15,\"enable_tf\":false,\"enable_subsampling\":null,\"subsample_seed\":null,\"enable_nimbusml\":false,\"enable_streaming\":false,\"force_streaming\":false,\"track_child_runs\":true,\"allowed_private_models\":[],\"label_column_name\":\"stable_flag\",\"weight_column_name\":null,\"cv_split_column_names\":null,\"enable_local_managed\":false,\"_local_managed_run_id\":null,\"cost_mode\":1,\"lag_length\":0,\"metric_operation\":\"maximize\",\"preprocess\":true}',\n",
       "  'DataPrepJsonString': None,\n",
       "  'EnableSubsampling': None,\n",
       "  'runTemplate': 'AutoML',\n",
       "  'azureml.runsource': 'automl',\n",
       "  'display_task_type': 'classification',\n",
       "  'dependencies_versions': '{\"azureml-widgets\": \"1.19.0\", \"azureml-train\": \"1.19.0\", \"azureml-train-restclients-hyperdrive\": \"1.19.0\", \"azureml-train-core\": \"1.19.0\", \"azureml-train-automl\": \"1.19.0\", \"azureml-train-automl-runtime\": \"1.19.0\", \"azureml-train-automl-client\": \"1.19.0\", \"azureml-tensorboard\": \"1.19.0\", \"azureml-telemetry\": \"1.19.0\", \"azureml-sdk\": \"1.19.0\", \"azureml-samples\": \"0+unknown\", \"azureml-pipeline\": \"1.19.0\", \"azureml-pipeline-steps\": \"1.19.0\", \"azureml-pipeline-core\": \"1.19.0\", \"azureml-opendatasets\": \"1.19.0\", \"azureml-model-management-sdk\": \"1.0.1b6.post1\", \"azureml-mlflow\": \"1.19.0\", \"azureml-interpret\": \"1.19.0\", \"azureml-explain-model\": \"1.19.0\", \"azureml-defaults\": \"1.19.0\", \"azureml-dataset-runtime\": \"1.19.0.post1\", \"azureml-dataprep\": \"2.6.1\", \"azureml-dataprep-rslex\": \"1.4.0\", \"azureml-dataprep-native\": \"26.0.0\", \"azureml-datadrift\": \"1.19.0\", \"azureml-core\": \"1.19.0\", \"azureml-contrib-services\": \"1.19.0\", \"azureml-contrib-server\": \"1.19.0\", \"azureml-contrib-reinforcementlearning\": \"1.19.0\", \"azureml-contrib-pipeline-steps\": \"1.19.0\", \"azureml-contrib-notebook\": \"1.19.0\", \"azureml-contrib-interpret\": \"1.19.0\", \"azureml-contrib-gbdt\": \"1.19.0\", \"azureml-contrib-fairness\": \"1.19.0\", \"azureml-contrib-dataset\": \"1.19.0\", \"azureml-cli-common\": \"1.19.0\", \"azureml-automl-runtime\": \"1.19.0\", \"azureml-automl-core\": \"1.19.0\", \"azureml-accel-models\": \"1.19.0\"}',\n",
       "  '_aml_system_scenario_identification': 'Local.Parent',\n",
       "  'ClientSdkVersion': '1.19.0',\n",
       "  'ClientType': 'SDK',\n",
       "  'environment_cpu_name': 'AzureML-AutoML',\n",
       "  'environment_cpu_label': 'prod',\n",
       "  'environment_gpu_name': 'AzureML-AutoML-GPU',\n",
       "  'environment_gpu_label': 'prod',\n",
       "  'root_attribution': 'automl',\n",
       "  'attribution': 'AutoML',\n",
       "  'Orchestrator': 'AutoML',\n",
       "  '_azureml.ComputeTargetType': 'local',\n",
       "  'ProblemInfoJsonString': '{\"dataset_num_categorical\": 0, \"is_sparse\": true, \"subsampling\": false, \"dataset_classes\": 2, \"dataset_features\": 5228, \"dataset_samples\": 1204, \"single_frequency_class_detected\": false}',\n",
       "  'feature_skus': 'automatedml_sdk_guardrails'},\n",
       " 'inputDatasets': [],\n",
       " 'outputDatasets': [],\n",
       " 'logFiles': {}}"
      ]
     },
     "execution_count": 21,
     "metadata": {},
     "output_type": "execute_result"
    }
   ],
   "source": [
    "ws = Workspace.get(name=\"quick-starts-ws-135136\")\n",
    "exp = Experiment(workspace=ws, name=\"Ranga\")\n",
    "\n",
    "autoexp = Experiment(workspace=ws,name='AutoRanga')\n",
    "remote_run = autoexp.submit(automl_config)\n",
    "RunDetails(remote_run).show()\n",
    "remote_run.wait_for_completion(show_output=True)"
   ]
  },
  {
   "cell_type": "code",
   "execution_count": 22,
   "metadata": {
    "collapsed": true,
    "gather": {
     "logged": 1610930053576
    },
    "jupyter": {
     "outputs_hidden": false,
     "source_hidden": false
    },
    "nteract": {
     "transient": {
      "deleting": false
     }
    }
   },
   "outputs": [
    {
     "data": {
      "text/plain": [
       "Pipeline(memory=None,\n",
       "         steps=[('datatransformer',\n",
       "                 DataTransformer(enable_dnn=None, enable_feature_sweeping=None,\n",
       "                                 feature_sweeping_config=None,\n",
       "                                 feature_sweeping_timeout=None,\n",
       "                                 featurization_config=None, force_text_dnn=None,\n",
       "                                 is_cross_validation=None,\n",
       "                                 is_onnx_compatible=None, logger=None,\n",
       "                                 observer=None, task=None, working_dir=None)),\n",
       "                ('prefittedsoftvotingclassifier',...\n",
       "                                                                                                  min_impurity_split=None,\n",
       "                                                                                                  min_samples_leaf=0.01,\n",
       "                                                                                                  min_samples_split=0.15052631578947367,\n",
       "                                                                                                  min_weight_fraction_leaf=0.0,\n",
       "                                                                                                  n_estimators=10,\n",
       "                                                                                                  n_jobs=1,\n",
       "                                                                                                  oob_score=True,\n",
       "                                                                                                  random_state=None,\n",
       "                                                                                                  verbose=0,\n",
       "                                                                                                  warm_start=False))],\n",
       "                                                                     verbose=False))],\n",
       "                                               flatten_transform=None,\n",
       "                                               weights=[0.5833333333333334,\n",
       "                                                        0.08333333333333333,\n",
       "                                                        0.08333333333333333,\n",
       "                                                        0.16666666666666666,\n",
       "                                                        0.08333333333333333]))],\n",
       "         verbose=False)"
      ]
     },
     "execution_count": 22,
     "metadata": {},
     "output_type": "execute_result"
    }
   ],
   "source": [
    "best,fitted = remote_run.get_output()\n",
    "fitted"
   ]
  },
  {
   "cell_type": "code",
   "execution_count": 23,
   "metadata": {
    "collapsed": true,
    "gather": {
     "logged": 1610930100059
    },
    "jupyter": {
     "outputs_hidden": false,
     "source_hidden": false
    },
    "nteract": {
     "transient": {
      "deleting": false
     }
    }
   },
   "outputs": [],
   "source": [
    "pipeline = Pipeline([('augmenter', RelevantFeatureAugmenter(column_id=\"cycle\", column_sort=\"seconds\")),\n",
    "            ('best automl', fitted)])"
   ]
  },
  {
   "cell_type": "code",
   "execution_count": 24,
   "metadata": {
    "collapsed": true,
    "gather": {
     "logged": 1610930103020
    },
    "jupyter": {
     "outputs_hidden": false,
     "source_hidden": false
    },
    "nteract": {
     "transient": {
      "deleting": false
     }
    }
   },
   "outputs": [],
   "source": [
    "y_stable_flag = label['stable_flag']\n",
    "x = pd.DataFrame(index = y_stable_flag.index)"
   ]
  },
  {
   "cell_type": "code",
   "execution_count": 27,
   "metadata": {
    "collapsed": true,
    "gather": {
     "logged": 1610932003396
    },
    "jupyter": {
     "outputs_hidden": false,
     "source_hidden": false
    },
    "nteract": {
     "transient": {
      "deleting": false
     }
    }
   },
   "outputs": [
    {
     "data": {
      "text/html": [
       "['pipeline.sav']"
      ],
      "text/plain": [
       "['pipeline.sav']"
      ]
     },
     "execution_count": 27,
     "metadata": {},
     "output_type": "execute_result"
    }
   ],
   "source": [
    "pipeline.set_params(augmenter__timeseries_container=feats_join)\n",
    "joblib.dump(pipeline,'pipeline.sav')"
   ]
  },
  {
   "cell_type": "code",
   "execution_count": 46,
   "metadata": {
    "collapsed": true,
    "gather": {
     "logged": 1610935912450
    },
    "jupyter": {
     "outputs_hidden": false,
     "source_hidden": false
    },
    "nteract": {
     "transient": {
      "deleting": false
     }
    }
   },
   "outputs": [
    {
     "data": {
      "text/html": [
       "['best_fitted.sav']"
      ],
      "text/plain": [
       "['best_fitted.sav']"
      ]
     },
     "execution_count": 46,
     "metadata": {},
     "output_type": "execute_result"
    }
   ],
   "source": [
    "joblib.dump(fitted,'best_fitted.sav')"
   ]
  },
  {
   "cell_type": "code",
   "execution_count": 47,
   "metadata": {
    "collapsed": true,
    "gather": {
     "logged": 1610935927646
    },
    "jupyter": {
     "outputs_hidden": false,
     "source_hidden": false
    },
    "nteract": {
     "transient": {
      "deleting": false
     }
    }
   },
   "outputs": [
    {
     "name": "stdout",
     "output_type": "stream",
     "text": [
      "Registering model registered_fitted.sav\n"
     ]
    }
   ],
   "source": [
    "registeredfinal = Model.register(workspace=ws,model_path='./best_fitted.sav',model_name='registered_fitted.sav')"
   ]
  },
  {
   "cell_type": "code",
   "execution_count": 48,
   "metadata": {
    "collapsed": true,
    "gather": {
     "logged": 1610936025578
    },
    "jupyter": {
     "outputs_hidden": false,
     "source_hidden": false
    },
    "nteract": {
     "transient": {
      "deleting": false
     }
    }
   },
   "outputs": [
    {
     "name": "stdout",
     "output_type": "stream",
     "text": [
      "Downloading model registered_fitted.sav:1 to /tmp/azureml_6luhazdx/registered_fitted.sav/1\n",
      "Generating Docker build context.\n",
      "Package creation Succeeded\n",
      "Logging into Docker registry viennaglobal.azurecr.io\n",
      "Logging into Docker registry viennaglobal.azurecr.io\n",
      "Building Docker image from Dockerfile...\n",
      "Step 1/5 : FROM viennaglobal.azurecr.io/azureml/azureml_1b9697d50bbbb35eb098c299c7ed3dd0\n",
      " ---> e21868753f04\n",
      "Step 2/5 : COPY azureml-app /var/azureml-app\n",
      " ---> b229781b8f30\n",
      "Step 3/5 : RUN mkdir -p '/var/azureml-app' && echo eyJhY2NvdW50Q29udGV4dCI6eyJzdWJzY3JpcHRpb25JZCI6IjgxY2VmYWQzLWQyYzktNGY3Ny1hNDY2LTk5YTdmNTQxYzdiYiIsInJlc291cmNlR3JvdXBOYW1lIjoiYW1sLXF1aWNrc3RhcnRzLTEzNTEzNiIsImFjY291bnROYW1lIjoicXVpY2stc3RhcnRzLXdzLTEzNTEzNiIsIndvcmtzcGFjZUlkIjoiZmE5YTg2OTUtYzNlMi00MzdkLTkyODctYWRkNzFiNGFmNTQ2In0sIm1vZGVscyI6e30sIm1vZGVsc0luZm8iOnt9fQ== | base64 --decode > /var/azureml-app/model_config_map.json\n",
      " ---> Running in 9b4f19a3cb81\n",
      " ---> 9199977408f6\n",
      "Step 4/5 : RUN mv '/var/azureml-app/tmpxfqojuj4.py' /var/azureml-app/main.py\n",
      " ---> Running in eef57977c803\n",
      " ---> 3364bbe45b82\n",
      "Step 5/5 : CMD [\"runsvdir\",\"/var/runit\"]\n",
      " ---> Running in a8ab13801e20\n",
      " ---> 1df7567ebfd1\n",
      "Successfully built 1df7567ebfd1\n",
      "Successfully tagged depl:latest\n",
      "Starting Docker container...\n",
      "Docker container running.\n",
      "Checking container health...\n",
      "Local webservice is running at http://localhost:32779\n"
     ]
    }
   ],
   "source": [
    "#Create inference config\n",
    "from azureml.core.environment import Environment\n",
    "from azureml.core.model import InferenceConfig\n",
    "\n",
    "env = Environment.get(workspace=ws,name='AzureML-AutoML')\n",
    "\n",
    "\n",
    "inferencefinal = InferenceConfig(entry_script='score.py',environment=env) \n",
    "\n",
    "#Deploy model and check service state\n",
    "from azureml.core.webservice import LocalWebservice, AciWebservice\n",
    "\n",
    "\n",
    "deployfinal = LocalWebservice.deploy_configuration()\n",
    "svcs = Model.deploy(workspace=ws,name='depl',models=[registeredfinal],inference_config=inferencefinal,deployment_config=deployfinal)\n",
    "svcs.wait_for_deployment(show_output=True)"
   ]
  },
  {
   "cell_type": "code",
   "execution_count": 49,
   "metadata": {
    "collapsed": true,
    "gather": {
     "logged": 1610936121239
    },
    "jupyter": {
     "outputs_hidden": false,
     "source_hidden": false
    },
    "nteract": {
     "transient": {
      "deleting": false
     }
    }
   },
   "outputs": [
    {
     "data": {
      "text/plain": [
       "'http://localhost:32779/score'"
      ]
     },
     "execution_count": 49,
     "metadata": {},
     "output_type": "execute_result"
    }
   ],
   "source": [
    "svcs.scoring_uri"
   ]
  },
  {
   "cell_type": "code",
   "execution_count": 61,
   "metadata": {
    "collapsed": true,
    "gather": {
     "logged": 1610936504657
    },
    "jupyter": {
     "outputs_hidden": false,
     "source_hidden": false
    },
    "nteract": {
     "transient": {
      "deleting": false
     }
    }
   },
   "outputs": [
    {
     "name": "stdout",
     "output_type": "stream",
     "text": [
      "prediction: \"DataErrorException:\\n\\tMessage: df should be a pandas dataframe or numpy array\\n\\tInnerException: None\\n\\tErrorResponse \\n{\\n    \\\"error\\\": {\\n        \\\"code\\\": \\\"SystemError\\\",\\n        \\\"message\\\": \\\"Encountered an internal AutoML error. Error Message/Code: df should be a pandas dataframe or numpy array. Additional Info: DataErrorException:\\\\n\\\\tMessage: df should be a pandas dataframe or numpy array\\\\n\\\\tInnerException: None\\\\n\\\\tErrorResponse \\\\n{\\\\n    \\\\\\\"error\\\\\\\": {\\\\n        \\\\\\\"message\\\\\\\": \\\\\\\"df should be a pandas dataframe or numpy array\\\\\\\",\\\\n        \\\\\\\"target\\\\\\\": \\\\\\\"utilities.check_input\\\\\\\",\\\\n        \\\\\\\"reference_code\\\\\\\": \\\\\\\"098d83d9-f525-4844-9666-ea28b1a41f08\\\\\\\"\\\\n    }\\\\n}\\\",\\n        \\\"details_uri\\\": \\\"https://docs.microsoft.com/azure/machine-learning/resource-known-issues#automated-machine-learning\\\",\\n        \\\"target\\\": \\\"utilities.check_input\\\",\\n        \\\"inner_error\\\": {\\n            \\\"code\\\": \\\"ClientError\\\",\\n            \\\"inner_error\\\": {\\n                \\\"code\\\": \\\"AutoMLInternal\\\"\\n            }\\n        },\\n        \\\"reference_code\\\": \\\"098d83d9-f525-4844-9666-ea28b1a41f08\\\"\\n    }\\n}\"\n"
     ]
    }
   ],
   "source": [
    "import requests\n",
    "import json\n",
    "\n",
    "# URL for the web service\n",
    "scoring_uri = 'http://localhost:32779/score'\n",
    "\n",
    "\n",
    "data = {'data':[{\n",
    "    'data':3444}\n",
    "]\n",
    "        }\n",
    "\n",
    "input_data = json.dumps(data)\n",
    "\n",
    "headers = {'Content-Type': 'application/json'}\n",
    "\n",
    "\n",
    "# # Make the request and display the response\n",
    "result = requests.post(scoring_uri,input_data,headers=headers)\n",
    "print(\"prediction:\",result.text)"
   ]
  },
  {
   "cell_type": "code",
   "execution_count": 54,
   "metadata": {
    "collapsed": true,
    "gather": {
     "logged": 1610936327796
    },
    "jupyter": {
     "outputs_hidden": false,
     "source_hidden": false
    },
    "nteract": {
     "transient": {
      "deleting": false
     }
    }
   },
   "outputs": [],
   "source": [
    "model_path = Model.get_model_path('registered_fitted.sav')\n",
    "daone = joblib.load(model_path)"
   ]
  },
  {
   "cell_type": "code",
   "execution_count": 62,
   "metadata": {
    "collapsed": true,
    "gather": {
     "logged": 1610936518273
    },
    "jupyter": {
     "outputs_hidden": false,
     "source_hidden": false
    },
    "nteract": {
     "transient": {
      "deleting": false
     }
    }
   },
   "outputs": [
    {
     "data": {
      "text/html": [
       "<div>\n",
       "<style scoped>\n",
       "    .dataframe tbody tr th:only-of-type {\n",
       "        vertical-align: middle;\n",
       "    }\n",
       "\n",
       "    .dataframe tbody tr th {\n",
       "        vertical-align: top;\n",
       "    }\n",
       "\n",
       "    .dataframe thead th {\n",
       "        text-align: right;\n",
       "    }\n",
       "</style>\n",
       "<table border=\"1\" class=\"dataframe\">\n",
       "  <thead>\n",
       "    <tr style=\"text-align: right;\">\n",
       "      <th></th>\n",
       "      <th>data</th>\n",
       "    </tr>\n",
       "  </thead>\n",
       "  <tbody>\n",
       "    <tr>\n",
       "      <th>0</th>\n",
       "      <td>3444</td>\n",
       "    </tr>\n",
       "  </tbody>\n",
       "</table>\n",
       "</div>"
      ],
      "text/plain": [
       "   data\n",
       "0  3444"
      ]
     },
     "execution_count": 62,
     "metadata": {},
     "output_type": "execute_result"
    }
   ],
   "source": [
    "data\n",
    "datadf = pd.DataFrame(data['data'])\n",
    "datadf"
   ]
  },
  {
   "cell_type": "code",
   "execution_count": 63,
   "metadata": {
    "collapsed": true,
    "gather": {
     "logged": 1610936482457
    },
    "jupyter": {
     "outputs_hidden": false,
     "source_hidden": false
    },
    "nteract": {
     "transient": {
      "deleting": false
     }
    }
   },
   "outputs": [
    {
     "ename": "DataException",
     "evalue": "DataException:\n\tMessage: The number of features in [fitted data](5220) does not match with those in [input data](1). Please inspect your data, and make sure that features are aligned in both the Datasets.\n\tInnerException: None\n\tErrorResponse \n{\n    \"error\": {\n        \"code\": \"UserError\",\n        \"message\": \"The number of features in [fitted data](5220) does not match with those in [input data](1). Please inspect your data, and make sure that features are aligned in both the Datasets.\",\n        \"target\": \"X\",\n        \"inner_error\": {\n            \"code\": \"BadData\",\n            \"inner_error\": {\n                \"code\": \"InvalidDimension\",\n                \"inner_error\": {\n                    \"code\": \"DataShapeMismatch\"\n                }\n            }\n        },\n        \"reference_code\": \"c402b6c2-3870-45a7-8745-c063bd385962\"\n    }\n}",
     "output_type": "error",
     "traceback": [
      "\u001b[0;31m---------------------------------------------------------------------------\u001b[0m",
      "\u001b[0;31mDataException\u001b[0m                             Traceback (most recent call last)",
      "\u001b[0;32m<ipython-input-63-0cdc090dc1bc>\u001b[0m in \u001b[0;36m<module>\u001b[0;34m\u001b[0m\n\u001b[0;32m----> 1\u001b[0;31m \u001b[0mdaone\u001b[0m\u001b[0;34m.\u001b[0m\u001b[0mpredict\u001b[0m\u001b[0;34m(\u001b[0m\u001b[0mdatadf\u001b[0m\u001b[0;34m)\u001b[0m\u001b[0;34m\u001b[0m\u001b[0;34m\u001b[0m\u001b[0m\n\u001b[0m",
      "\u001b[0;32m/anaconda/envs/azureml_py36/lib/python3.6/site-packages/sklearn/utils/metaestimators.py\u001b[0m in \u001b[0;36m<lambda>\u001b[0;34m(*args, **kwargs)\u001b[0m\n\u001b[1;32m    114\u001b[0m \u001b[0;34m\u001b[0m\u001b[0m\n\u001b[1;32m    115\u001b[0m         \u001b[0;31m# lambda, but not partial, allows help() to work with update_wrapper\u001b[0m\u001b[0;34m\u001b[0m\u001b[0;34m\u001b[0m\u001b[0;34m\u001b[0m\u001b[0m\n\u001b[0;32m--> 116\u001b[0;31m         \u001b[0mout\u001b[0m \u001b[0;34m=\u001b[0m \u001b[0;32mlambda\u001b[0m \u001b[0;34m*\u001b[0m\u001b[0margs\u001b[0m\u001b[0;34m,\u001b[0m \u001b[0;34m**\u001b[0m\u001b[0mkwargs\u001b[0m\u001b[0;34m:\u001b[0m \u001b[0mself\u001b[0m\u001b[0;34m.\u001b[0m\u001b[0mfn\u001b[0m\u001b[0;34m(\u001b[0m\u001b[0mobj\u001b[0m\u001b[0;34m,\u001b[0m \u001b[0;34m*\u001b[0m\u001b[0margs\u001b[0m\u001b[0;34m,\u001b[0m \u001b[0;34m**\u001b[0m\u001b[0mkwargs\u001b[0m\u001b[0;34m)\u001b[0m\u001b[0;34m\u001b[0m\u001b[0;34m\u001b[0m\u001b[0m\n\u001b[0m\u001b[1;32m    117\u001b[0m         \u001b[0;31m# update the docstring of the returned function\u001b[0m\u001b[0;34m\u001b[0m\u001b[0;34m\u001b[0m\u001b[0;34m\u001b[0m\u001b[0m\n\u001b[1;32m    118\u001b[0m         \u001b[0mupdate_wrapper\u001b[0m\u001b[0;34m(\u001b[0m\u001b[0mout\u001b[0m\u001b[0;34m,\u001b[0m \u001b[0mself\u001b[0m\u001b[0;34m.\u001b[0m\u001b[0mfn\u001b[0m\u001b[0;34m)\u001b[0m\u001b[0;34m\u001b[0m\u001b[0;34m\u001b[0m\u001b[0m\n",
      "\u001b[0;32m/anaconda/envs/azureml_py36/lib/python3.6/site-packages/sklearn/pipeline.py\u001b[0m in \u001b[0;36mpredict\u001b[0;34m(self, X, **predict_params)\u001b[0m\n\u001b[1;32m    417\u001b[0m         \u001b[0mXt\u001b[0m \u001b[0;34m=\u001b[0m \u001b[0mX\u001b[0m\u001b[0;34m\u001b[0m\u001b[0;34m\u001b[0m\u001b[0m\n\u001b[1;32m    418\u001b[0m         \u001b[0;32mfor\u001b[0m \u001b[0m_\u001b[0m\u001b[0;34m,\u001b[0m \u001b[0mname\u001b[0m\u001b[0;34m,\u001b[0m \u001b[0mtransform\u001b[0m \u001b[0;32min\u001b[0m \u001b[0mself\u001b[0m\u001b[0;34m.\u001b[0m\u001b[0m_iter\u001b[0m\u001b[0;34m(\u001b[0m\u001b[0mwith_final\u001b[0m\u001b[0;34m=\u001b[0m\u001b[0;32mFalse\u001b[0m\u001b[0;34m)\u001b[0m\u001b[0;34m:\u001b[0m\u001b[0;34m\u001b[0m\u001b[0;34m\u001b[0m\u001b[0m\n\u001b[0;32m--> 419\u001b[0;31m             \u001b[0mXt\u001b[0m \u001b[0;34m=\u001b[0m \u001b[0mtransform\u001b[0m\u001b[0;34m.\u001b[0m\u001b[0mtransform\u001b[0m\u001b[0;34m(\u001b[0m\u001b[0mXt\u001b[0m\u001b[0;34m)\u001b[0m\u001b[0;34m\u001b[0m\u001b[0;34m\u001b[0m\u001b[0m\n\u001b[0m\u001b[1;32m    420\u001b[0m         \u001b[0;32mreturn\u001b[0m \u001b[0mself\u001b[0m\u001b[0;34m.\u001b[0m\u001b[0msteps\u001b[0m\u001b[0;34m[\u001b[0m\u001b[0;34m-\u001b[0m\u001b[0;36m1\u001b[0m\u001b[0;34m]\u001b[0m\u001b[0;34m[\u001b[0m\u001b[0;34m-\u001b[0m\u001b[0;36m1\u001b[0m\u001b[0;34m]\u001b[0m\u001b[0;34m.\u001b[0m\u001b[0mpredict\u001b[0m\u001b[0;34m(\u001b[0m\u001b[0mXt\u001b[0m\u001b[0;34m,\u001b[0m \u001b[0;34m**\u001b[0m\u001b[0mpredict_params\u001b[0m\u001b[0;34m)\u001b[0m\u001b[0;34m\u001b[0m\u001b[0;34m\u001b[0m\u001b[0m\n\u001b[1;32m    421\u001b[0m \u001b[0;34m\u001b[0m\u001b[0m\n",
      "\u001b[0;32m/anaconda/envs/azureml_py36/lib/python3.6/site-packages/azureml/automl/core/shared/logging_utilities.py\u001b[0m in \u001b[0;36mdebug_log_wrapped\u001b[0;34m(self, *args, **kwargs)\u001b[0m\n\u001b[1;32m    300\u001b[0m         \u001b[0;32mdef\u001b[0m \u001b[0mdebug_log_wrapped\u001b[0m\u001b[0;34m(\u001b[0m\u001b[0mself\u001b[0m\u001b[0;34m:\u001b[0m \u001b[0mAny\u001b[0m\u001b[0;34m,\u001b[0m \u001b[0;34m*\u001b[0m\u001b[0margs\u001b[0m\u001b[0;34m:\u001b[0m \u001b[0mAny\u001b[0m\u001b[0;34m,\u001b[0m \u001b[0;34m**\u001b[0m\u001b[0mkwargs\u001b[0m\u001b[0;34m:\u001b[0m \u001b[0mAny\u001b[0m\u001b[0;34m)\u001b[0m \u001b[0;34m->\u001b[0m \u001b[0mAny\u001b[0m\u001b[0;34m:\u001b[0m\u001b[0;34m\u001b[0m\u001b[0;34m\u001b[0m\u001b[0m\n\u001b[1;32m    301\u001b[0m             \u001b[0mself\u001b[0m\u001b[0;34m.\u001b[0m\u001b[0m_logger_wrapper\u001b[0m\u001b[0;34m(\u001b[0m\u001b[0mlog_level\u001b[0m\u001b[0;34m,\u001b[0m \u001b[0;34m\"Starting {} operation of {}.\"\u001b[0m\u001b[0;34m.\u001b[0m\u001b[0mformat\u001b[0m\u001b[0;34m(\u001b[0m\u001b[0mf\u001b[0m\u001b[0;34m.\u001b[0m\u001b[0m__name__\u001b[0m\u001b[0;34m,\u001b[0m \u001b[0mself\u001b[0m\u001b[0;34m.\u001b[0m\u001b[0m__class__\u001b[0m\u001b[0;34m.\u001b[0m\u001b[0m__name__\u001b[0m\u001b[0;34m)\u001b[0m\u001b[0;34m)\u001b[0m\u001b[0;34m\u001b[0m\u001b[0;34m\u001b[0m\u001b[0m\n\u001b[0;32m--> 302\u001b[0;31m             \u001b[0mr\u001b[0m \u001b[0;34m=\u001b[0m \u001b[0mf\u001b[0m\u001b[0;34m(\u001b[0m\u001b[0mself\u001b[0m\u001b[0;34m,\u001b[0m \u001b[0;34m*\u001b[0m\u001b[0margs\u001b[0m\u001b[0;34m,\u001b[0m \u001b[0;34m**\u001b[0m\u001b[0mkwargs\u001b[0m\u001b[0;34m)\u001b[0m\u001b[0;34m\u001b[0m\u001b[0;34m\u001b[0m\u001b[0m\n\u001b[0m\u001b[1;32m    303\u001b[0m             \u001b[0mself\u001b[0m\u001b[0;34m.\u001b[0m\u001b[0m_logger_wrapper\u001b[0m\u001b[0;34m(\u001b[0m\u001b[0mlog_level\u001b[0m\u001b[0;34m,\u001b[0m \u001b[0;34m\"{} {} operation complete.\"\u001b[0m\u001b[0;34m.\u001b[0m\u001b[0mformat\u001b[0m\u001b[0;34m(\u001b[0m\u001b[0mself\u001b[0m\u001b[0;34m.\u001b[0m\u001b[0m__class__\u001b[0m\u001b[0;34m.\u001b[0m\u001b[0m__name__\u001b[0m\u001b[0;34m,\u001b[0m \u001b[0mf\u001b[0m\u001b[0;34m.\u001b[0m\u001b[0m__name__\u001b[0m\u001b[0;34m)\u001b[0m\u001b[0;34m)\u001b[0m\u001b[0;34m\u001b[0m\u001b[0;34m\u001b[0m\u001b[0m\n\u001b[1;32m    304\u001b[0m             \u001b[0;32mreturn\u001b[0m \u001b[0mr\u001b[0m\u001b[0;34m\u001b[0m\u001b[0;34m\u001b[0m\u001b[0m\n",
      "\u001b[0;32m/anaconda/envs/azureml_py36/lib/python3.6/site-packages/azureml/automl/runtime/featurization/data_transformer.py\u001b[0m in \u001b[0;36mtransform\u001b[0;34m(self, df)\u001b[0m\n\u001b[1;32m    425\u001b[0m \u001b[0;34m\u001b[0m\u001b[0m\n\u001b[1;32m    426\u001b[0m         \u001b[0;32mif\u001b[0m \u001b[0mself\u001b[0m\u001b[0;34m.\u001b[0m\u001b[0m_columns_types_mapping\u001b[0m \u001b[0;32mis\u001b[0m \u001b[0;32mnot\u001b[0m \u001b[0;32mNone\u001b[0m\u001b[0;34m:\u001b[0m\u001b[0;34m\u001b[0m\u001b[0;34m\u001b[0m\u001b[0m\n\u001b[0;32m--> 427\u001b[0;31m             \u001b[0mdf\u001b[0m \u001b[0;34m=\u001b[0m \u001b[0mself\u001b[0m\u001b[0;34m.\u001b[0m\u001b[0m_check_columns_names_and_convert_types\u001b[0m\u001b[0;34m(\u001b[0m\u001b[0mdf\u001b[0m\u001b[0;34m,\u001b[0m \u001b[0mself\u001b[0m\u001b[0;34m.\u001b[0m\u001b[0m_columns_types_mapping\u001b[0m\u001b[0;34m)\u001b[0m\u001b[0;34m\u001b[0m\u001b[0;34m\u001b[0m\u001b[0m\n\u001b[0m\u001b[1;32m    428\u001b[0m \u001b[0;34m\u001b[0m\u001b[0m\n\u001b[1;32m    429\u001b[0m         \u001b[0mfeatures\u001b[0m \u001b[0;34m=\u001b[0m \u001b[0;34m[\u001b[0m\u001b[0;34m]\u001b[0m   \u001b[0;31m# type: List[Any]\u001b[0m\u001b[0;34m\u001b[0m\u001b[0;34m\u001b[0m\u001b[0m\n",
      "\u001b[0;32m/anaconda/envs/azureml_py36/lib/python3.6/site-packages/azureml/automl/runtime/featurization/data_transformer.py\u001b[0m in \u001b[0;36m_check_columns_names_and_convert_types\u001b[0;34m(self, df, columns_types_mapping)\u001b[0m\n\u001b[1;32m   1430\u001b[0m                     \u001b[0mfirst_dataset_name\u001b[0m\u001b[0;34m=\u001b[0m\u001b[0;34m\"fitted data\"\u001b[0m\u001b[0;34m,\u001b[0m \u001b[0mfirst_dataset_shape\u001b[0m\u001b[0;34m=\u001b[0m\u001b[0mlen\u001b[0m\u001b[0;34m(\u001b[0m\u001b[0mcolumns_types_mapping\u001b[0m\u001b[0;34m)\u001b[0m\u001b[0;34m,\u001b[0m\u001b[0;34m\u001b[0m\u001b[0;34m\u001b[0m\u001b[0m\n\u001b[1;32m   1431\u001b[0m                     \u001b[0msecond_dataset_name\u001b[0m\u001b[0;34m=\u001b[0m\u001b[0;34m\"input data\"\u001b[0m\u001b[0;34m,\u001b[0m \u001b[0msecond_dataset_shape\u001b[0m\u001b[0;34m=\u001b[0m\u001b[0mlen\u001b[0m\u001b[0;34m(\u001b[0m\u001b[0mcurr_columns_types_mapping\u001b[0m\u001b[0;34m)\u001b[0m\u001b[0;34m,\u001b[0m\u001b[0;34m\u001b[0m\u001b[0;34m\u001b[0m\u001b[0m\n\u001b[0;32m-> 1432\u001b[0;31m                     \u001b[0mreference_code\u001b[0m\u001b[0;34m=\u001b[0m\u001b[0mReferenceCodes\u001b[0m\u001b[0;34m.\u001b[0m\u001b[0m_DATA_TRANSFORMER_TRANSFROM_WRONG_COLUMN\u001b[0m\u001b[0;34m\u001b[0m\u001b[0;34m\u001b[0m\u001b[0m\n\u001b[0m\u001b[1;32m   1433\u001b[0m                 )\n\u001b[1;32m   1434\u001b[0m             )\n",
      "\u001b[0;31mDataException\u001b[0m: DataException:\n\tMessage: The number of features in [fitted data](5220) does not match with those in [input data](1). Please inspect your data, and make sure that features are aligned in both the Datasets.\n\tInnerException: None\n\tErrorResponse \n{\n    \"error\": {\n        \"code\": \"UserError\",\n        \"message\": \"The number of features in [fitted data](5220) does not match with those in [input data](1). Please inspect your data, and make sure that features are aligned in both the Datasets.\",\n        \"target\": \"X\",\n        \"inner_error\": {\n            \"code\": \"BadData\",\n            \"inner_error\": {\n                \"code\": \"InvalidDimension\",\n                \"inner_error\": {\n                    \"code\": \"DataShapeMismatch\"\n                }\n            }\n        },\n        \"reference_code\": \"c402b6c2-3870-45a7-8745-c063bd385962\"\n    }\n}"
     ]
    }
   ],
   "source": [
    "daone.predict(datadf)"
   ]
  },
  {
   "cell_type": "code",
   "execution_count": null,
   "metadata": {
    "collapsed": true,
    "jupyter": {
     "outputs_hidden": false,
     "source_hidden": false
    },
    "nteract": {
     "transient": {
      "deleting": false
     }
    }
   },
   "outputs": [],
   "source": []
  }
 ],
 "metadata": {
  "kernel_info": {
   "name": "python3-azureml"
  },
  "kernelspec": {
   "display_name": "Python 3",
   "language": "python",
   "name": "python3"
  },
  "language_info": {
   "codemirror_mode": {
    "name": "ipython",
    "version": 3
   },
   "file_extension": ".py",
   "mimetype": "text/x-python",
   "name": "python",
   "nbconvert_exporter": "python",
   "pygments_lexer": "ipython3",
   "version": "3.8.5"
  },
  "nteract": {
   "version": "nteract-front-end@1.0.0"
  }
 },
 "nbformat": 4,
 "nbformat_minor": 2
}
