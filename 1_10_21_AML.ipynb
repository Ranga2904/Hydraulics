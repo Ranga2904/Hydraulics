{
  "cells": [
    {
      "cell_type": "code",
      "source": [
        "import pandas as pd\r\n",
        "import numpy as np\r\n",
        "import glob"
      ],
      "outputs": [],
      "execution_count": 1,
      "metadata": {
        "gather": {
          "logged": 1610303960768
        }
      }
    },
    {
      "cell_type": "code",
      "source": [
        "a = glob.glob('./features/*.txt')"
      ],
      "outputs": [],
      "execution_count": 2,
      "metadata": {
        "collapsed": true,
        "jupyter": {
          "source_hidden": false,
          "outputs_hidden": false
        },
        "nteract": {
          "transient": {
            "deleting": false
          }
        },
        "gather": {
          "logged": 1610303960967
        }
      }
    },
    {
      "cell_type": "code",
      "source": [
        "features={}"
      ],
      "outputs": [],
      "execution_count": 3,
      "metadata": {
        "collapsed": true,
        "jupyter": {
          "source_hidden": false,
          "outputs_hidden": false
        },
        "nteract": {
          "transient": {
            "deleting": false
          }
        },
        "gather": {
          "logged": 1610303961116
        }
      }
    },
    {
      "cell_type": "code",
      "source": [
        "for name in a:\r\n",
        "    try:\r\n",
        "        with open(name) as f:\r\n",
        "            # read in the data \r\n",
        "            temp_df = pd.read_csv(name,delim_whitespace=True,header=None)\r\n",
        "            # make the row names cycle as a variable\r\n",
        "            temp_df.index.name = 'cycle'\r\n",
        "            temp_df.reset_index(inplace=True)\r\n",
        "            # transpose the data \r\n",
        "            temp_df_transposed= temp_df.T\r\n",
        "            # make the seconds a variable, call it \"time”\r\n",
        "            temp_df_transposed.index.name = 'time'\r\n",
        "            temp_df_transposed.reset_index(inplace=True)\r\n",
        "            # add a prefix cycle in the column names to help with pivoting data (from wide to long)\r\n",
        "            string = ' cycle'.join(str(e) for e in list(temp_df_transposed.columns))\r\n",
        "            temp_df_transposed.columns = string.split(\" \")\r\n",
        "            # From wide to long to help with joining all the variables \r\n",
        "            temp_df_long = pd.wide_to_long(temp_df_transposed.iloc[1:,:],stubnames='cycle', i=['time'], j='c')\r\n",
        "            temp_df_long.reset_index(inplace=True)\r\n",
        "            # save each data variable in the long format into separate data frames in the dictionary called \"features\"\r\n",
        "            # but exclude path and txt in the names\r\n",
        "            features[name[9:-4]] = temp_df_long\r\n",
        "                        \r\n",
        "           \r\n",
        "    \r\n",
        "    # prevent a possible error\r\n",
        "    except IOError as exc:\r\n",
        "        if exc.errno != errno.EISDIR:\r\n",
        "            raise"
      ],
      "outputs": [],
      "execution_count": 4,
      "metadata": {
        "collapsed": true,
        "jupyter": {
          "source_hidden": false,
          "outputs_hidden": false
        },
        "nteract": {
          "transient": {
            "deleting": false
          }
        },
        "gather": {
          "logged": 1610304109222
        }
      }
    },
    {
      "cell_type": "code",
      "source": [
        "features.keys()"
      ],
      "outputs": [
        {
          "output_type": "execute_result",
          "execution_count": 5,
          "data": {
            "text/plain": "dict_keys(['s/CE', 's/CP', 's/EPS1', 's/FS1', 's/FS2', 's/PS1', 's/PS2', 's/PS3', 's/PS4', 's/PS5', 's/PS6', 's/SE', 's/TS1', 's/TS2', 's/TS3', 's/TS4', 's/VS1'])"
          },
          "metadata": {}
        }
      ],
      "execution_count": 5,
      "metadata": {
        "collapsed": true,
        "jupyter": {
          "source_hidden": false,
          "outputs_hidden": false
        },
        "nteract": {
          "transient": {
            "deleting": false
          }
        },
        "gather": {
          "logged": 1610304109621
        }
      }
    },
    {
      "cell_type": "code",
      "source": [
        "for key in list(features.keys()):\r\n",
        "    features[key].columns=['seconds','cycle',key]"
      ],
      "outputs": [],
      "execution_count": 6,
      "metadata": {
        "collapsed": true,
        "jupyter": {
          "source_hidden": false,
          "outputs_hidden": false
        },
        "nteract": {
          "transient": {
            "deleting": false
          }
        },
        "gather": {
          "logged": 1610304110162
        }
      }
    },
    {
      "cell_type": "code",
      "source": [
        "dfs= [features['s/CP'],\r\n",
        "      features['s/CE'],\r\n",
        "      features['s/EPS1'],\r\n",
        "      features['s/FS1'],\r\n",
        "      features['s/FS2'],\r\n",
        "      features['s/PS1'],\r\n",
        "      features['s/PS2'],\r\n",
        "      features['s/PS3'],\r\n",
        "      features['s/PS4'],\r\n",
        "      features['s/PS5'],\r\n",
        "      features['s/PS6'],\r\n",
        "      features['s/SE'],\r\n",
        "      features['s/TS1'],\r\n",
        "      features['s/TS2'],\r\n",
        "      features['s/TS3'],\r\n",
        "      features['s/TS4'],\r\n",
        "     features['s/VS1']]"
      ],
      "outputs": [],
      "execution_count": 7,
      "metadata": {
        "collapsed": true,
        "jupyter": {
          "source_hidden": false,
          "outputs_hidden": false
        },
        "nteract": {
          "transient": {
            "deleting": false
          }
        },
        "gather": {
          "logged": 1610304110399
        }
      }
    },
    {
      "cell_type": "code",
      "source": [
        "dfs"
      ],
      "outputs": [
        {
          "output_type": "execute_result",
          "execution_count": 8,
          "data": {
            "text/plain": "[        seconds  cycle   s/CP\n 0             0      0  2.184\n 1             1      0  2.184\n 2             2      0  2.184\n 3             3      0  2.185\n 4             4      0  2.178\n ...         ...    ...    ...\n 132295       55   2204  2.134\n 132296       56   2204  2.146\n 132297       57   2204  2.144\n 132298       58   2204  2.136\n 132299       59   2204  2.148\n \n [132300 rows x 3 columns],\n         seconds  cycle    s/CE\n 0             0      0  47.202\n 1             1      0  47.273\n 2             2      0  47.250\n 3             3      0  47.332\n 4             4      0  47.213\n ...         ...    ...     ...\n 132295       55   2204  46.355\n 132296       56   2204  46.432\n 132297       57   2204  46.384\n 132298       58   2204  46.479\n 132299       59   2204  46.621\n \n [132300 rows x 3 columns],\n           seconds  cycle  s/EPS1\n 0               0      0  2411.6\n 1               1      0  2411.6\n 2               2      0  2411.6\n 3               3      0  2411.6\n 4               4      0  2411.6\n ...           ...    ...     ...\n 13229995     5995   2204  2416.2\n 13229996     5996   2204  2416.6\n 13229997     5997   2204  2416.8\n 13229998     5998   2204  2417.0\n 13229999     5999   2204  2417.0\n \n [13230000 rows x 3 columns],\n          seconds  cycle  s/FS1\n 0              0      0  8.990\n 1              1      0  0.770\n 2              2      0  0.641\n 3              3      0  0.006\n 4              4      0  0.000\n ...          ...    ...    ...\n 1322995      595   2204  8.029\n 1322996      596   2204  7.814\n 1322997      597   2204  7.783\n 1322998      598   2204  7.943\n 1322999      599   2204  7.774\n \n [1323000 rows x 3 columns],\n          seconds  cycle   s/FS2\n 0              0      0  10.179\n 1              1      0  10.174\n 2              2      0  10.151\n 3              3      0  10.149\n 4              4      0  10.172\n ...          ...    ...     ...\n 1322995      595   2204  10.193\n 1322996      596   2204  10.171\n 1322997      597   2204  10.167\n 1322998      598   2204  10.173\n 1322999      599   2204  10.176\n \n [1323000 rows x 3 columns],\n           seconds  cycle   s/PS1\n 0               0      0  151.47\n 1               1      0  151.45\n 2               2      0  151.52\n 3               3      0  151.27\n 4               4      0  150.80\n ...           ...    ...     ...\n 13229995     5995   2204  151.64\n 13229996     5996   2204  151.70\n 13229997     5997   2204  151.73\n 13229998     5998   2204  151.71\n 13229999     5999   2204  151.70\n \n [13230000 rows x 3 columns],\n           seconds  cycle   s/PS2\n 0               0      0  125.50\n 1               1      0  125.39\n 2               2      0  125.40\n 3               3      0  125.03\n 4               4      0  124.05\n ...           ...    ...     ...\n 13229995     5995   2204  125.73\n 13229996     5996   2204  125.81\n 13229997     5997   2204  125.77\n 13229998     5998   2204  125.66\n 13229999     5999   2204  125.77\n \n [13230000 rows x 3 columns],\n           seconds  cycle  s/PS3\n 0               0      0  2.305\n 1               1      0  2.305\n 2               2      0  2.336\n 3               3      0  2.578\n 4               4      0  2.977\n ...           ...    ...    ...\n 13229995     5995   2204  2.305\n 13229996     5996   2204  2.320\n 13229997     5997   2204  2.273\n 13229998     5998   2204  2.227\n 13229999     5999   2204  2.250\n \n [13230000 rows x 3 columns],\n           seconds  cycle   s/PS4\n 0               0      0   0.000\n 1               1      0   0.000\n 2               2      0   0.000\n 3               3      0   0.000\n 4               4      0   0.000\n ...           ...    ...     ...\n 13229995     5995   2204  10.204\n 13229996     5996   2204  10.238\n 13229997     5997   2204  10.223\n 13229998     5998   2204  10.218\n 13229999     5999   2204  10.212\n \n [13230000 rows x 3 columns],\n           seconds  cycle   s/PS5\n 0               0      0   9.936\n 1               1      0   9.947\n 2               2      0   9.964\n 3               3      0   9.989\n 4               4      0   9.996\n ...           ...    ...     ...\n 13229995     5995   2204   9.989\n 13229996     5996   2204  10.007\n 13229997     5997   2204  10.007\n 13229998     5998   2204   9.988\n 13229999     5999   2204   9.964\n \n [13230000 rows x 3 columns],\n           seconds  cycle  s/PS6\n 0               0      0  9.818\n 1               1      0  9.823\n 2               2      0  9.844\n 3               3      0  9.861\n 4               4      0  9.877\n ...           ...    ...    ...\n 13229995     5995   2204  9.870\n 13229996     5996   2204  9.882\n 13229997     5997   2204  9.886\n 13229998     5998   2204  9.870\n 13229999     5999   2204  9.854\n \n [13230000 rows x 3 columns],\n         seconds  cycle    s/SE\n 0             0      0  68.039\n 1             1      0   0.000\n 2             2      0   0.000\n 3             3      0   0.000\n 4             4      0   0.000\n ...         ...    ...     ...\n 132295       55   2204  68.167\n 132296       56   2204  68.167\n 132297       57   2204  68.258\n 132298       58   2204  68.258\n 132299       59   2204  68.117\n \n [132300 rows x 3 columns],\n         seconds  cycle   s/TS1\n 0             0      0  35.570\n 1             1      0  35.492\n 2             2      0  35.469\n 3             3      0  35.422\n 4             4      0  35.414\n ...         ...    ...     ...\n 132295       55   2204  35.441\n 132296       56   2204  35.437\n 132297       57   2204  35.434\n 132298       58   2204  35.434\n 132299       59   2204  35.426\n \n [132300 rows x 3 columns],\n         seconds  cycle   s/TS2\n 0             0      0  40.961\n 1             1      0  40.949\n 2             2      0  40.965\n 3             3      0  40.922\n 4             4      0  40.879\n ...         ...    ...     ...\n 132295       55   2204  40.910\n 132296       56   2204  40.895\n 132297       57   2204  40.883\n 132298       58   2204  40.879\n 132299       59   2204  40.891\n \n [132300 rows x 3 columns],\n         seconds  cycle   s/TS3\n 0             0      0  38.320\n 1             1      0  38.332\n 2             2      0  38.320\n 3             3      0  38.324\n 4             4      0  38.332\n ...         ...    ...     ...\n 132295       55   2204  38.195\n 132296       56   2204  38.184\n 132297       57   2204  38.184\n 132298       58   2204  38.184\n 132299       59   2204  38.187\n \n [132300 rows x 3 columns],\n         seconds  cycle   s/TS4\n 0             0      0  30.363\n 1             1      0  30.375\n 2             2      0  30.367\n 3             3      0  30.367\n 4             4      0  30.379\n ...         ...    ...     ...\n 132295       55   2204  30.395\n 132296       56   2204  30.391\n 132297       57   2204  30.395\n 132298       58   2204  30.402\n 132299       59   2204  30.375\n \n [132300 rows x 3 columns],\n         seconds  cycle  s/VS1\n 0             0      0  0.604\n 1             1      0  0.605\n 2             2      0  0.611\n 3             3      0  0.603\n 4             4      0  0.608\n ...         ...    ...    ...\n 132295       55   2204  0.516\n 132296       56   2204  0.528\n 132297       57   2204  0.522\n 132298       58   2204  0.522\n 132299       59   2204  0.531\n \n [132300 rows x 3 columns]]"
          },
          "metadata": {}
        }
      ],
      "execution_count": 8,
      "metadata": {
        "collapsed": true,
        "jupyter": {
          "source_hidden": false,
          "outputs_hidden": false
        },
        "nteract": {
          "transient": {
            "deleting": false
          }
        },
        "gather": {
          "logged": 1610304110565
        }
      }
    },
    {
      "cell_type": "code",
      "source": [
        "from functools import reduce\r\n",
        "feats_join = reduce(lambda x,y: pd.merge(x,y,on=['seconds','cycle']),dfs)"
      ],
      "outputs": [],
      "execution_count": 9,
      "metadata": {
        "collapsed": true,
        "jupyter": {
          "source_hidden": false,
          "outputs_hidden": false
        },
        "nteract": {
          "transient": {
            "deleting": false
          }
        },
        "gather": {
          "logged": 1610304147123
        }
      }
    },
    {
      "cell_type": "code",
      "source": [
        "feats_join.head()"
      ],
      "outputs": [
        {
          "output_type": "execute_result",
          "execution_count": 10,
          "data": {
            "text/plain": "   seconds  cycle   s/CP    s/CE  s/EPS1  s/FS1   s/FS2   s/PS1   s/PS2  \\\n0        0      0  2.184  47.202  2411.6  8.990  10.179  151.47  125.50   \n1        1      0  2.184  47.273  2411.6  0.770  10.174  151.45  125.39   \n2        2      0  2.184  47.250  2411.6  0.641  10.151  151.52  125.40   \n3        3      0  2.185  47.332  2411.6  0.006  10.149  151.27  125.03   \n4        4      0  2.178  47.213  2411.6  0.000  10.172  150.80  124.05   \n\n   s/PS3  s/PS4  s/PS5  s/PS6    s/SE   s/TS1   s/TS2   s/TS3   s/TS4  s/VS1  \n0  2.305    0.0  9.936  9.818  68.039  35.570  40.961  38.320  30.363  0.604  \n1  2.305    0.0  9.947  9.823   0.000  35.492  40.949  38.332  30.375  0.605  \n2  2.336    0.0  9.964  9.844   0.000  35.469  40.965  38.320  30.367  0.611  \n3  2.578    0.0  9.989  9.861   0.000  35.422  40.922  38.324  30.367  0.603  \n4  2.977    0.0  9.996  9.877   0.000  35.414  40.879  38.332  30.379  0.608  ",
            "text/html": "<div>\n<style scoped>\n    .dataframe tbody tr th:only-of-type {\n        vertical-align: middle;\n    }\n\n    .dataframe tbody tr th {\n        vertical-align: top;\n    }\n\n    .dataframe thead th {\n        text-align: right;\n    }\n</style>\n<table border=\"1\" class=\"dataframe\">\n  <thead>\n    <tr style=\"text-align: right;\">\n      <th></th>\n      <th>seconds</th>\n      <th>cycle</th>\n      <th>s/CP</th>\n      <th>s/CE</th>\n      <th>s/EPS1</th>\n      <th>s/FS1</th>\n      <th>s/FS2</th>\n      <th>s/PS1</th>\n      <th>s/PS2</th>\n      <th>s/PS3</th>\n      <th>s/PS4</th>\n      <th>s/PS5</th>\n      <th>s/PS6</th>\n      <th>s/SE</th>\n      <th>s/TS1</th>\n      <th>s/TS2</th>\n      <th>s/TS3</th>\n      <th>s/TS4</th>\n      <th>s/VS1</th>\n    </tr>\n  </thead>\n  <tbody>\n    <tr>\n      <th>0</th>\n      <td>0</td>\n      <td>0</td>\n      <td>2.184</td>\n      <td>47.202</td>\n      <td>2411.6</td>\n      <td>8.990</td>\n      <td>10.179</td>\n      <td>151.47</td>\n      <td>125.50</td>\n      <td>2.305</td>\n      <td>0.0</td>\n      <td>9.936</td>\n      <td>9.818</td>\n      <td>68.039</td>\n      <td>35.570</td>\n      <td>40.961</td>\n      <td>38.320</td>\n      <td>30.363</td>\n      <td>0.604</td>\n    </tr>\n    <tr>\n      <th>1</th>\n      <td>1</td>\n      <td>0</td>\n      <td>2.184</td>\n      <td>47.273</td>\n      <td>2411.6</td>\n      <td>0.770</td>\n      <td>10.174</td>\n      <td>151.45</td>\n      <td>125.39</td>\n      <td>2.305</td>\n      <td>0.0</td>\n      <td>9.947</td>\n      <td>9.823</td>\n      <td>0.000</td>\n      <td>35.492</td>\n      <td>40.949</td>\n      <td>38.332</td>\n      <td>30.375</td>\n      <td>0.605</td>\n    </tr>\n    <tr>\n      <th>2</th>\n      <td>2</td>\n      <td>0</td>\n      <td>2.184</td>\n      <td>47.250</td>\n      <td>2411.6</td>\n      <td>0.641</td>\n      <td>10.151</td>\n      <td>151.52</td>\n      <td>125.40</td>\n      <td>2.336</td>\n      <td>0.0</td>\n      <td>9.964</td>\n      <td>9.844</td>\n      <td>0.000</td>\n      <td>35.469</td>\n      <td>40.965</td>\n      <td>38.320</td>\n      <td>30.367</td>\n      <td>0.611</td>\n    </tr>\n    <tr>\n      <th>3</th>\n      <td>3</td>\n      <td>0</td>\n      <td>2.185</td>\n      <td>47.332</td>\n      <td>2411.6</td>\n      <td>0.006</td>\n      <td>10.149</td>\n      <td>151.27</td>\n      <td>125.03</td>\n      <td>2.578</td>\n      <td>0.0</td>\n      <td>9.989</td>\n      <td>9.861</td>\n      <td>0.000</td>\n      <td>35.422</td>\n      <td>40.922</td>\n      <td>38.324</td>\n      <td>30.367</td>\n      <td>0.603</td>\n    </tr>\n    <tr>\n      <th>4</th>\n      <td>4</td>\n      <td>0</td>\n      <td>2.178</td>\n      <td>47.213</td>\n      <td>2411.6</td>\n      <td>0.000</td>\n      <td>10.172</td>\n      <td>150.80</td>\n      <td>124.05</td>\n      <td>2.977</td>\n      <td>0.0</td>\n      <td>9.996</td>\n      <td>9.877</td>\n      <td>0.000</td>\n      <td>35.414</td>\n      <td>40.879</td>\n      <td>38.332</td>\n      <td>30.379</td>\n      <td>0.608</td>\n    </tr>\n  </tbody>\n</table>\n</div>"
          },
          "metadata": {}
        }
      ],
      "execution_count": 10,
      "metadata": {
        "collapsed": true,
        "jupyter": {
          "source_hidden": false,
          "outputs_hidden": false
        },
        "nteract": {
          "transient": {
            "deleting": false
          }
        },
        "gather": {
          "logged": 1610304147356
        }
      }
    },
    {
      "cell_type": "code",
      "source": [
        "label = pd.read_csv('profile.txt')\r\n",
        "label.columns = ['cooler_condition', 'valve_condition', 'pump_leak', 'hydraulic_accumulator', 'stable_flag']"
      ],
      "outputs": [
        {
          "output_type": "error",
          "ename": "ValueError",
          "evalue": "Length mismatch: Expected axis has 1 elements, new values have 5 elements",
          "traceback": [
            "\u001b[0;31m---------------------------------------------------------------------------\u001b[0m",
            "\u001b[0;31mValueError\u001b[0m                                Traceback (most recent call last)",
            "\u001b[0;32m<ipython-input-43-6de974a8a610>\u001b[0m in \u001b[0;36m<module>\u001b[0;34m\u001b[0m\n\u001b[1;32m      1\u001b[0m \u001b[0mlabel\u001b[0m \u001b[0;34m=\u001b[0m \u001b[0mpd\u001b[0m\u001b[0;34m.\u001b[0m\u001b[0mread_csv\u001b[0m\u001b[0;34m(\u001b[0m\u001b[0;34m'profile.txt'\u001b[0m\u001b[0;34m)\u001b[0m\u001b[0;34m\u001b[0m\u001b[0;34m\u001b[0m\u001b[0m\n\u001b[0;32m----> 2\u001b[0;31m \u001b[0mlabel\u001b[0m\u001b[0;34m.\u001b[0m\u001b[0mcolumns\u001b[0m \u001b[0;34m=\u001b[0m \u001b[0;34m[\u001b[0m\u001b[0;34m'cooler_condition'\u001b[0m\u001b[0;34m,\u001b[0m \u001b[0;34m'valve_condition'\u001b[0m\u001b[0;34m,\u001b[0m \u001b[0;34m'pump_leak'\u001b[0m\u001b[0;34m,\u001b[0m \u001b[0;34m'hydraulic_accumulator'\u001b[0m\u001b[0;34m,\u001b[0m \u001b[0;34m'stable_flag'\u001b[0m\u001b[0;34m]\u001b[0m\u001b[0;34m\u001b[0m\u001b[0;34m\u001b[0m\u001b[0m\n\u001b[0m",
            "\u001b[0;32m/anaconda/envs/azureml_py36/lib/python3.6/site-packages/pandas/core/generic.py\u001b[0m in \u001b[0;36m__setattr__\u001b[0;34m(self, name, value)\u001b[0m\n\u001b[1;32m   5190\u001b[0m         \u001b[0;32mtry\u001b[0m\u001b[0;34m:\u001b[0m\u001b[0;34m\u001b[0m\u001b[0;34m\u001b[0m\u001b[0m\n\u001b[1;32m   5191\u001b[0m             \u001b[0mobject\u001b[0m\u001b[0;34m.\u001b[0m\u001b[0m__getattribute__\u001b[0m\u001b[0;34m(\u001b[0m\u001b[0mself\u001b[0m\u001b[0;34m,\u001b[0m \u001b[0mname\u001b[0m\u001b[0;34m)\u001b[0m\u001b[0;34m\u001b[0m\u001b[0;34m\u001b[0m\u001b[0m\n\u001b[0;32m-> 5192\u001b[0;31m             \u001b[0;32mreturn\u001b[0m \u001b[0mobject\u001b[0m\u001b[0;34m.\u001b[0m\u001b[0m__setattr__\u001b[0m\u001b[0;34m(\u001b[0m\u001b[0mself\u001b[0m\u001b[0;34m,\u001b[0m \u001b[0mname\u001b[0m\u001b[0;34m,\u001b[0m \u001b[0mvalue\u001b[0m\u001b[0;34m)\u001b[0m\u001b[0;34m\u001b[0m\u001b[0;34m\u001b[0m\u001b[0m\n\u001b[0m\u001b[1;32m   5193\u001b[0m         \u001b[0;32mexcept\u001b[0m \u001b[0mAttributeError\u001b[0m\u001b[0;34m:\u001b[0m\u001b[0;34m\u001b[0m\u001b[0;34m\u001b[0m\u001b[0m\n\u001b[1;32m   5194\u001b[0m             \u001b[0;32mpass\u001b[0m\u001b[0;34m\u001b[0m\u001b[0;34m\u001b[0m\u001b[0m\n",
            "\u001b[0;32mpandas/_libs/properties.pyx\u001b[0m in \u001b[0;36mpandas._libs.properties.AxisProperty.__set__\u001b[0;34m()\u001b[0m\n",
            "\u001b[0;32m/anaconda/envs/azureml_py36/lib/python3.6/site-packages/pandas/core/generic.py\u001b[0m in \u001b[0;36m_set_axis\u001b[0;34m(self, axis, labels)\u001b[0m\n\u001b[1;32m    688\u001b[0m \u001b[0;34m\u001b[0m\u001b[0m\n\u001b[1;32m    689\u001b[0m     \u001b[0;32mdef\u001b[0m \u001b[0m_set_axis\u001b[0m\u001b[0;34m(\u001b[0m\u001b[0mself\u001b[0m\u001b[0;34m,\u001b[0m \u001b[0maxis\u001b[0m\u001b[0;34m,\u001b[0m \u001b[0mlabels\u001b[0m\u001b[0;34m)\u001b[0m\u001b[0;34m:\u001b[0m\u001b[0;34m\u001b[0m\u001b[0;34m\u001b[0m\u001b[0m\n\u001b[0;32m--> 690\u001b[0;31m         \u001b[0mself\u001b[0m\u001b[0;34m.\u001b[0m\u001b[0m_data\u001b[0m\u001b[0;34m.\u001b[0m\u001b[0mset_axis\u001b[0m\u001b[0;34m(\u001b[0m\u001b[0maxis\u001b[0m\u001b[0;34m,\u001b[0m \u001b[0mlabels\u001b[0m\u001b[0;34m)\u001b[0m\u001b[0;34m\u001b[0m\u001b[0;34m\u001b[0m\u001b[0m\n\u001b[0m\u001b[1;32m    691\u001b[0m         \u001b[0mself\u001b[0m\u001b[0;34m.\u001b[0m\u001b[0m_clear_item_cache\u001b[0m\u001b[0;34m(\u001b[0m\u001b[0;34m)\u001b[0m\u001b[0;34m\u001b[0m\u001b[0;34m\u001b[0m\u001b[0m\n\u001b[1;32m    692\u001b[0m \u001b[0;34m\u001b[0m\u001b[0m\n",
            "\u001b[0;32m/anaconda/envs/azureml_py36/lib/python3.6/site-packages/pandas/core/internals/managers.py\u001b[0m in \u001b[0;36mset_axis\u001b[0;34m(self, axis, new_labels)\u001b[0m\n\u001b[1;32m    181\u001b[0m             raise ValueError(\n\u001b[1;32m    182\u001b[0m                 \u001b[0;34m\"Length mismatch: Expected axis has {old} elements, new \"\u001b[0m\u001b[0;34m\u001b[0m\u001b[0;34m\u001b[0m\u001b[0m\n\u001b[0;32m--> 183\u001b[0;31m                 \u001b[0;34m\"values have {new} elements\"\u001b[0m\u001b[0;34m.\u001b[0m\u001b[0mformat\u001b[0m\u001b[0;34m(\u001b[0m\u001b[0mold\u001b[0m\u001b[0;34m=\u001b[0m\u001b[0mold_len\u001b[0m\u001b[0;34m,\u001b[0m \u001b[0mnew\u001b[0m\u001b[0;34m=\u001b[0m\u001b[0mnew_len\u001b[0m\u001b[0;34m)\u001b[0m\u001b[0;34m\u001b[0m\u001b[0;34m\u001b[0m\u001b[0m\n\u001b[0m\u001b[1;32m    184\u001b[0m             )\n\u001b[1;32m    185\u001b[0m \u001b[0;34m\u001b[0m\u001b[0m\n",
            "\u001b[0;31mValueError\u001b[0m: Length mismatch: Expected axis has 1 elements, new values have 5 elements"
          ]
        }
      ],
      "execution_count": 43,
      "metadata": {
        "collapsed": true,
        "jupyter": {
          "source_hidden": false,
          "outputs_hidden": false
        },
        "nteract": {
          "transient": {
            "deleting": false
          }
        },
        "gather": {
          "logged": 1610301765228
        }
      }
    },
    {
      "cell_type": "code",
      "source": [
        "label"
      ],
      "outputs": [
        {
          "output_type": "execute_result",
          "execution_count": 42,
          "data": {
            "text/plain": "       3\\t100\\t0\\t130\\t1\n0      3\\t100\\t0\\t130\\t1\n1      3\\t100\\t0\\t130\\t1\n2      3\\t100\\t0\\t130\\t1\n3      3\\t100\\t0\\t130\\t1\n4      3\\t100\\t0\\t130\\t1\n...                  ...\n2199  100\\t100\\t0\\t90\\t0\n2200  100\\t100\\t0\\t90\\t0\n2201  100\\t100\\t0\\t90\\t0\n2202  100\\t100\\t0\\t90\\t0\n2203  100\\t100\\t0\\t90\\t0\n\n[2204 rows x 1 columns]",
            "text/html": "<div>\n<style scoped>\n    .dataframe tbody tr th:only-of-type {\n        vertical-align: middle;\n    }\n\n    .dataframe tbody tr th {\n        vertical-align: top;\n    }\n\n    .dataframe thead th {\n        text-align: right;\n    }\n</style>\n<table border=\"1\" class=\"dataframe\">\n  <thead>\n    <tr style=\"text-align: right;\">\n      <th></th>\n      <th>3\\t100\\t0\\t130\\t1</th>\n    </tr>\n  </thead>\n  <tbody>\n    <tr>\n      <th>0</th>\n      <td>3\\t100\\t0\\t130\\t1</td>\n    </tr>\n    <tr>\n      <th>1</th>\n      <td>3\\t100\\t0\\t130\\t1</td>\n    </tr>\n    <tr>\n      <th>2</th>\n      <td>3\\t100\\t0\\t130\\t1</td>\n    </tr>\n    <tr>\n      <th>3</th>\n      <td>3\\t100\\t0\\t130\\t1</td>\n    </tr>\n    <tr>\n      <th>4</th>\n      <td>3\\t100\\t0\\t130\\t1</td>\n    </tr>\n    <tr>\n      <th>...</th>\n      <td>...</td>\n    </tr>\n    <tr>\n      <th>2199</th>\n      <td>100\\t100\\t0\\t90\\t0</td>\n    </tr>\n    <tr>\n      <th>2200</th>\n      <td>100\\t100\\t0\\t90\\t0</td>\n    </tr>\n    <tr>\n      <th>2201</th>\n      <td>100\\t100\\t0\\t90\\t0</td>\n    </tr>\n    <tr>\n      <th>2202</th>\n      <td>100\\t100\\t0\\t90\\t0</td>\n    </tr>\n    <tr>\n      <th>2203</th>\n      <td>100\\t100\\t0\\t90\\t0</td>\n    </tr>\n  </tbody>\n</table>\n<p>2204 rows × 1 columns</p>\n</div>"
          },
          "metadata": {}
        }
      ],
      "execution_count": 42,
      "metadata": {
        "collapsed": true,
        "jupyter": {
          "source_hidden": false,
          "outputs_hidden": false
        },
        "nteract": {
          "transient": {
            "deleting": false
          }
        },
        "gather": {
          "logged": 1610301769462
        }
      }
    },
    {
      "cell_type": "code",
      "source": [
        "label = pd.read_csv('profile.txt',delim_whitespace=True)\r\n",
        "label.columns = ['cooler_condition', 'valve_condition', 'pump_leak', 'hydraulic_accumulator', 'stable_flag']"
      ],
      "outputs": [],
      "execution_count": 11,
      "metadata": {
        "collapsed": true,
        "jupyter": {
          "source_hidden": false,
          "outputs_hidden": false
        },
        "nteract": {
          "transient": {
            "deleting": false
          }
        },
        "gather": {
          "logged": 1610304242358
        }
      }
    },
    {
      "cell_type": "code",
      "source": [
        "%pip install tsfresh"
      ],
      "outputs": [
        {
          "output_type": "stream",
          "name": "stdout",
          "text": [
            "Collecting tsfresh\n",
            "  Downloading tsfresh-0.17.0-py2.py3-none-any.whl (91 kB)\n",
            "\u001b[K     |████████████████████████████████| 91 kB 4.4 MB/s eta 0:00:011\n",
            "\u001b[?25hCollecting distributed>=2.11.0\n",
            "  Downloading distributed-2020.12.0-py3-none-any.whl (669 kB)\n",
            "\u001b[K     |████████████████████████████████| 669 kB 10.5 MB/s eta 0:00:01\n",
            "\u001b[?25hRequirement already satisfied: pandas>=0.25.0 in /anaconda/envs/azureml_py36/lib/python3.6/site-packages (from tsfresh) (0.25.3)\n",
            "Requirement already satisfied: numpy>=1.15.1 in /anaconda/envs/azureml_py36/lib/python3.6/site-packages (from tsfresh) (1.18.5)\n",
            "Requirement already satisfied: scipy>=1.2.0 in /anaconda/envs/azureml_py36/lib/python3.6/site-packages (from tsfresh) (1.5.2)\n",
            "Requirement already satisfied: tqdm>=4.10.0 in /anaconda/envs/azureml_py36/lib/python3.6/site-packages (from tsfresh) (4.54.0)\n",
            "Requirement already satisfied: statsmodels>=0.9.0 in /anaconda/envs/azureml_py36/lib/python3.6/site-packages (from tsfresh) (0.10.2)\n",
            "Requirement already satisfied: patsy>=0.4.1 in /anaconda/envs/azureml_py36/lib/python3.6/site-packages (from tsfresh) (0.5.1)\n",
            "Requirement already satisfied: scikit-learn>=0.19.2 in /anaconda/envs/azureml_py36/lib/python3.6/site-packages (from tsfresh) (0.22.2.post1)\n",
            "Collecting dask[dataframe]>=2.9.0\n",
            "  Downloading dask-2020.12.0-py3-none-any.whl (884 kB)\n",
            "\u001b[K     |████████████████████████████████| 884 kB 13.7 MB/s eta 0:00:01\n",
            "\u001b[?25hRequirement already satisfied: requests>=2.9.1 in /anaconda/envs/azureml_py36/lib/python3.6/site-packages (from tsfresh) (2.25.0)\n",
            "Collecting sortedcontainers!=2.0.0,!=2.0.1\n",
            "  Downloading sortedcontainers-2.3.0-py2.py3-none-any.whl (29 kB)\n",
            "Collecting tblib>=1.6.0\n",
            "  Downloading tblib-1.7.0-py2.py3-none-any.whl (12 kB)\n",
            "Requirement already satisfied: psutil>=5.0 in /anaconda/envs/azureml_py36/lib/python3.6/site-packages (from distributed>=2.11.0->tsfresh) (5.7.3)\n",
            "Requirement already satisfied: click>=6.6 in /anaconda/envs/azureml_py36/lib/python3.6/site-packages (from distributed>=2.11.0->tsfresh) (7.1.2)\n",
            "Requirement already satisfied: pyyaml in /anaconda/envs/azureml_py36/lib/python3.6/site-packages (from distributed>=2.11.0->tsfresh) (5.3.1)\n",
            "Requirement already satisfied: msgpack>=0.6.0 in /anaconda/envs/azureml_py36/lib/python3.6/site-packages (from distributed>=2.11.0->tsfresh) (1.0.0)\n",
            "Requirement already satisfied: tornado>=5; python_version < \"3.8\" in /anaconda/envs/azureml_py36/lib/python3.6/site-packages (from distributed>=2.11.0->tsfresh) (6.1)\n",
            "Requirement already satisfied: setuptools in /anaconda/envs/azureml_py36/lib/python3.6/site-packages (from distributed>=2.11.0->tsfresh) (50.3.0.post20201006)\n",
            "Collecting toolz>=0.8.2\n",
            "  Downloading toolz-0.11.1-py3-none-any.whl (55 kB)\n",
            "\u001b[K     |████████████████████████████████| 55 kB 4.8 MB/s  eta 0:00:01\n",
            "\u001b[?25hRequirement already satisfied: contextvars; python_version < \"3.7\" in /anaconda/envs/azureml_py36/lib/python3.6/site-packages (from distributed>=2.11.0->tsfresh) (2.4)\n",
            "Collecting zict>=0.1.3\n",
            "  Downloading zict-2.0.0-py3-none-any.whl (10 kB)\n",
            "Requirement already satisfied: cloudpickle>=1.5.0 in /anaconda/envs/azureml_py36/lib/python3.6/site-packages (from distributed>=2.11.0->tsfresh) (1.6.0)\n",
            "Requirement already satisfied: pytz>=2017.2 in /anaconda/envs/azureml_py36/lib/python3.6/site-packages (from pandas>=0.25.0->tsfresh) (2020.4)\n",
            "Requirement already satisfied: python-dateutil>=2.6.1 in /anaconda/envs/azureml_py36/lib/python3.6/site-packages (from pandas>=0.25.0->tsfresh) (2.8.1)\n",
            "Requirement already satisfied: six in /anaconda/envs/azureml_py36/lib/python3.6/site-packages (from patsy>=0.4.1->tsfresh) (1.15.0)\n",
            "Requirement already satisfied: joblib>=0.11 in /anaconda/envs/azureml_py36/lib/python3.6/site-packages (from scikit-learn>=0.19.2->tsfresh) (0.14.1)\n",
            "Collecting fsspec>=0.6.0; extra == \"dataframe\"\n",
            "  Downloading fsspec-0.8.5-py3-none-any.whl (98 kB)\n",
            "\u001b[K     |████████████████████████████████| 98 kB 5.5 MB/s  eta 0:00:01\n",
            "\u001b[?25hCollecting partd>=0.3.10; extra == \"dataframe\"\n",
            "  Downloading partd-1.1.0-py3-none-any.whl (19 kB)\n",
            "Requirement already satisfied: idna<3,>=2.5 in /anaconda/envs/azureml_py36/lib/python3.6/site-packages (from requests>=2.9.1->tsfresh) (2.10)\n",
            "Requirement already satisfied: urllib3<1.27,>=1.21.1 in /anaconda/envs/azureml_py36/lib/python3.6/site-packages (from requests>=2.9.1->tsfresh) (1.25.11)\n",
            "Requirement already satisfied: chardet<4,>=3.0.2 in /anaconda/envs/azureml_py36/lib/python3.6/site-packages (from requests>=2.9.1->tsfresh) (3.0.4)\n",
            "Requirement already satisfied: certifi>=2017.4.17 in /anaconda/envs/azureml_py36/lib/python3.6/site-packages (from requests>=2.9.1->tsfresh) (2020.12.5)\n",
            "Requirement already satisfied: immutables>=0.9 in /anaconda/envs/azureml_py36/lib/python3.6/site-packages (from contextvars; python_version < \"3.7\"->distributed>=2.11.0->tsfresh) (0.14)\n",
            "Collecting heapdict\n",
            "  Downloading HeapDict-1.0.1-py3-none-any.whl (3.9 kB)\n",
            "Collecting locket\n",
            "  Downloading locket-0.2.0.tar.gz (3.5 kB)\n",
            "Building wheels for collected packages: locket\n",
            "  Building wheel for locket (setup.py) ... \u001b[?25l-\b \b\\\b \bdone\n",
            "\u001b[?25h  Created wheel for locket: filename=locket-0.2.0-py3-none-any.whl size=4040 sha256=a6d61df8b9963860a83fb40af009c73b874d6eb9560c4fae65c02db9224b60fd\n",
            "  Stored in directory: /home/azureuser/.cache/pip/wheels/21/ca/95/1e41f9a9a7a06ba06874ad2bf0eac88e7ba02fe9a6ff26c77d\n",
            "Successfully built locket\n",
            "Installing collected packages: sortedcontainers, toolz, fsspec, locket, partd, dask, tblib, heapdict, zict, distributed, tsfresh\n",
            "Successfully installed dask-2020.12.0 distributed-2020.12.0 fsspec-0.8.5 heapdict-1.0.1 locket-0.2.0 partd-1.1.0 sortedcontainers-2.3.0 tblib-1.7.0 toolz-0.11.1 tsfresh-0.17.0 zict-2.0.0\n",
            "Note: you may need to restart the kernel to use updated packages.\n"
          ]
        }
      ],
      "execution_count": 12,
      "metadata": {
        "collapsed": true,
        "jupyter": {
          "source_hidden": false,
          "outputs_hidden": false
        },
        "nteract": {
          "transient": {
            "deleting": false
          }
        }
      }
    },
    {
      "cell_type": "code",
      "source": [
        "import xgboost\r\n",
        "from xgboost import XGBClassifier, XGBRegressor\r\n",
        "\r\n",
        "xgc = XGBClassifier()\r\n",
        "xgr = XGBRegressor()\r\n",
        "\r\n",
        "\r\n",
        "from tsfresh.transformers import RelevantFeatureAugmenter\r\n",
        "from sklearn.pipeline import Pipeline\r\n",
        "\r\n",
        "import joblib"
      ],
      "outputs": [],
      "execution_count": 13,
      "metadata": {
        "collapsed": true,
        "jupyter": {
          "source_hidden": false,
          "outputs_hidden": false
        },
        "nteract": {
          "transient": {
            "deleting": false
          }
        },
        "gather": {
          "logged": 1610304258818
        }
      }
    },
    {
      "cell_type": "code",
      "source": [
        "def preprocess_accum(ddf):\r\n",
        "    ddf.index.name = 'cycle'\r\n",
        "    ddf = pd.DataFrame(ddf)\r\n",
        "    ddf.reset_index(inplace=True)\r\n",
        "    # transpose the data \r\n",
        "    ddf_transposed= ddf.T\r\n",
        "    # make the seconds a variable, call it \"time”\r\n",
        "    ddf_transposed.index.name = 'time'\r\n",
        "    ddf_transposed.reset_index(inplace=True)\r\n",
        "    # add a prefix cycle in the column names to help with pivoting data (from wide to long)\r\n",
        "    string = ' cycle'.join(str(e) for e in list(ddf_transposed.columns))\r\n",
        "    ddf_transposed.columns = string.split(\" \")\r\n",
        "    # From wide to long to help with joining all the variables \r\n",
        "    ddf_long = pd.wide_to_long(ddf_transposed.iloc[1:,:],stubnames='cycle', i=['time'], j='c')\r\n",
        "    ddf_long.reset_index(inplace=True)\r\n",
        "    # save each data variable in the long format into separate data frames in the dictionary called \"features\"\r\n",
        "    # but exclude path and txt in the names\r\n",
        "    features[name[9:-4]] = ddf_long   \r\n",
        "    # prevent a possible error\r\n",
        "    for key in list(features.keys()):\r\n",
        "        features[key].columns=['seconds','cycle',key]\r\n",
        "        \r\n",
        "       \r\n",
        "    return features"
      ],
      "outputs": [],
      "execution_count": 14,
      "metadata": {
        "collapsed": true,
        "jupyter": {
          "source_hidden": false,
          "outputs_hidden": false
        },
        "nteract": {
          "transient": {
            "deleting": false
          }
        },
        "gather": {
          "logged": 1610304259577
        }
      }
    },
    {
      "cell_type": "code",
      "source": [
        "#  I suspect the function above to be useless."
      ],
      "outputs": [],
      "execution_count": 49,
      "metadata": {
        "collapsed": true,
        "jupyter": {
          "source_hidden": false,
          "outputs_hidden": false
        },
        "nteract": {
          "transient": {
            "deleting": false
          }
        },
        "gather": {
          "logged": 1610302777927
        }
      }
    },
    {
      "cell_type": "code",
      "source": [
        "pipeline = Pipeline([('augmenter', RelevantFeatureAugmenter(column_id=\"cycle\", column_sort=\"seconds\")),\r\n",
        "            ('xgb', XGBRegressor())])"
      ],
      "outputs": [],
      "execution_count": 15,
      "metadata": {
        "collapsed": true,
        "jupyter": {
          "source_hidden": false,
          "outputs_hidden": false
        },
        "nteract": {
          "transient": {
            "deleting": false
          }
        },
        "gather": {
          "logged": 1610304274266
        }
      }
    },
    {
      "cell_type": "code",
      "source": [
        "y_stable_flag = label['stable_flag']\r\n",
        "x = pd.DataFrame(index = y_stable_flag.index)"
      ],
      "outputs": [],
      "execution_count": 16,
      "metadata": {
        "collapsed": true,
        "jupyter": {
          "source_hidden": false,
          "outputs_hidden": false
        },
        "nteract": {
          "transient": {
            "deleting": false
          }
        },
        "gather": {
          "logged": 1610304276064
        }
      }
    },
    {
      "cell_type": "code",
      "source": [
        "pipeline.set_params(augmenter__timeseries_container=feats_join)\r\n",
        "pipeline.fit(x,y_stable_flag)"
      ],
      "outputs": [
        {
          "output_type": "stream",
          "name": "stderr",
          "text": [
            "Feature Extraction: 100%|██████████| 10/10 [27:21<00:00, 164.18s/it]\n",
            "/anaconda/envs/azureml_py36/lib/python3.6/site-packages/tsfresh/utilities/dataframe_functions.py:172: RuntimeWarning: The columns ['s/CP__fft_coefficient__attr_\"real\"__coeff_31'\n",
            " 's/CP__fft_coefficient__attr_\"real\"__coeff_32'\n",
            " 's/CP__fft_coefficient__attr_\"real\"__coeff_33' ...\n",
            " 's/VS1__fft_coefficient__attr_\"angle\"__coeff_97'\n",
            " 's/VS1__fft_coefficient__attr_\"angle\"__coeff_98'\n",
            " 's/VS1__fft_coefficient__attr_\"angle\"__coeff_99'] did not have any finite values. Filling with zeros.\n",
            "  df.iloc[:, np.where(is_col_non_finite)[0]].columns.values), RuntimeWarning)\n",
            "/anaconda/envs/azureml_py36/lib/python3.6/site-packages/xgboost/core.py:587: FutureWarning: Series.base is deprecated and will be removed in a future version\n",
            "  if getattr(data, 'base', None) is not None and \\\n",
            "/anaconda/envs/azureml_py36/lib/python3.6/site-packages/xgboost/core.py:588: FutureWarning: Series.base is deprecated and will be removed in a future version\n",
            "  data.base is not None and isinstance(data, np.ndarray) \\\n"
          ]
        },
        {
          "output_type": "stream",
          "name": "stdout",
          "text": [
            "[19:13:47] WARNING: src/objective/regression_obj.cu:152: reg:linear is now deprecated in favor of reg:squarederror.\n"
          ]
        },
        {
          "output_type": "execute_result",
          "execution_count": 17,
          "data": {
            "text/plain": "Pipeline(memory=None,\n         steps=[('augmenter',\n                 RelevantFeatureAugmenter(chunksize=None, column_id='cycle',\n                                          column_kind=None,\n                                          column_sort='seconds',\n                                          column_value=None,\n                                          default_fc_parameters=None,\n                                          disable_progressbar=False,\n                                          fdr_level=0.05,\n                                          filter_only_tsfresh_features=True,\n                                          hypotheses_independent=False,\n                                          kind_to_fc_parameters=None,\n                                          ml_task='auto', n_jobs=2,\n                                          profile=Fals...\n                              colsample_bylevel=1, colsample_bynode=1,\n                              colsample_bytree=1, gamma=0,\n                              importance_type='gain', learning_rate=0.1,\n                              max_delta_step=0, max_depth=3, min_child_weight=1,\n                              missing=None, n_estimators=100, n_jobs=1,\n                              nthread=None, objective='reg:linear',\n                              random_state=0, reg_alpha=0, reg_lambda=1,\n                              scale_pos_weight=1, seed=None, silent=None,\n                              subsample=1, verbosity=1))],\n         verbose=False)"
          },
          "metadata": {}
        }
      ],
      "execution_count": 17,
      "metadata": {
        "collapsed": true,
        "jupyter": {
          "source_hidden": false,
          "outputs_hidden": false
        },
        "nteract": {
          "transient": {
            "deleting": false
          }
        },
        "gather": {
          "logged": 1610306059924
        }
      }
    },
    {
      "cell_type": "code",
      "source": [
        "type(x)"
      ],
      "outputs": [
        {
          "output_type": "execute_result",
          "execution_count": 92,
          "data": {
            "text/plain": "pandas.core.frame.DataFrame"
          },
          "metadata": {}
        }
      ],
      "execution_count": 92,
      "metadata": {
        "collapsed": true,
        "jupyter": {
          "source_hidden": false,
          "outputs_hidden": false
        },
        "nteract": {
          "transient": {
            "deleting": false
          }
        },
        "gather": {
          "logged": 1610307630699
        }
      }
    },
    {
      "cell_type": "code",
      "source": [
        "xtest = pd.DataFrame(index = np.arange(2500,2600,10))"
      ],
      "outputs": [],
      "execution_count": 94,
      "metadata": {
        "collapsed": true,
        "jupyter": {
          "source_hidden": false,
          "outputs_hidden": false
        },
        "nteract": {
          "transient": {
            "deleting": false
          }
        },
        "gather": {
          "logged": 1610307666854
        }
      }
    },
    {
      "cell_type": "code",
      "source": [
        "pipeline.predict(xtest)"
      ],
      "outputs": [
        {
          "output_type": "error",
          "ename": "AttributeError",
          "evalue": "The ids of the time series container and the index of the input data X do not share any identifier!",
          "traceback": [
            "\u001b[0;31m---------------------------------------------------------------------------\u001b[0m",
            "\u001b[0;31mAttributeError\u001b[0m                            Traceback (most recent call last)",
            "\u001b[0;32m<ipython-input-95-e5a7c64274bb>\u001b[0m in \u001b[0;36m<module>\u001b[0;34m\u001b[0m\n\u001b[0;32m----> 1\u001b[0;31m \u001b[0mpipeline\u001b[0m\u001b[0;34m.\u001b[0m\u001b[0mpredict\u001b[0m\u001b[0;34m(\u001b[0m\u001b[0mxtest\u001b[0m\u001b[0;34m)\u001b[0m\u001b[0;34m\u001b[0m\u001b[0;34m\u001b[0m\u001b[0m\n\u001b[0m",
            "\u001b[0;32m/anaconda/envs/azureml_py36/lib/python3.6/site-packages/sklearn/utils/metaestimators.py\u001b[0m in \u001b[0;36m<lambda>\u001b[0;34m(*args, **kwargs)\u001b[0m\n\u001b[1;32m    114\u001b[0m \u001b[0;34m\u001b[0m\u001b[0m\n\u001b[1;32m    115\u001b[0m         \u001b[0;31m# lambda, but not partial, allows help() to work with update_wrapper\u001b[0m\u001b[0;34m\u001b[0m\u001b[0;34m\u001b[0m\u001b[0;34m\u001b[0m\u001b[0m\n\u001b[0;32m--> 116\u001b[0;31m         \u001b[0mout\u001b[0m \u001b[0;34m=\u001b[0m \u001b[0;32mlambda\u001b[0m \u001b[0;34m*\u001b[0m\u001b[0margs\u001b[0m\u001b[0;34m,\u001b[0m \u001b[0;34m**\u001b[0m\u001b[0mkwargs\u001b[0m\u001b[0;34m:\u001b[0m \u001b[0mself\u001b[0m\u001b[0;34m.\u001b[0m\u001b[0mfn\u001b[0m\u001b[0;34m(\u001b[0m\u001b[0mobj\u001b[0m\u001b[0;34m,\u001b[0m \u001b[0;34m*\u001b[0m\u001b[0margs\u001b[0m\u001b[0;34m,\u001b[0m \u001b[0;34m**\u001b[0m\u001b[0mkwargs\u001b[0m\u001b[0;34m)\u001b[0m\u001b[0;34m\u001b[0m\u001b[0;34m\u001b[0m\u001b[0m\n\u001b[0m\u001b[1;32m    117\u001b[0m         \u001b[0;31m# update the docstring of the returned function\u001b[0m\u001b[0;34m\u001b[0m\u001b[0;34m\u001b[0m\u001b[0;34m\u001b[0m\u001b[0m\n\u001b[1;32m    118\u001b[0m         \u001b[0mupdate_wrapper\u001b[0m\u001b[0;34m(\u001b[0m\u001b[0mout\u001b[0m\u001b[0;34m,\u001b[0m \u001b[0mself\u001b[0m\u001b[0;34m.\u001b[0m\u001b[0mfn\u001b[0m\u001b[0;34m)\u001b[0m\u001b[0;34m\u001b[0m\u001b[0;34m\u001b[0m\u001b[0m\n",
            "\u001b[0;32m/anaconda/envs/azureml_py36/lib/python3.6/site-packages/sklearn/pipeline.py\u001b[0m in \u001b[0;36mpredict\u001b[0;34m(self, X, **predict_params)\u001b[0m\n\u001b[1;32m    417\u001b[0m         \u001b[0mXt\u001b[0m \u001b[0;34m=\u001b[0m \u001b[0mX\u001b[0m\u001b[0;34m\u001b[0m\u001b[0;34m\u001b[0m\u001b[0m\n\u001b[1;32m    418\u001b[0m         \u001b[0;32mfor\u001b[0m \u001b[0m_\u001b[0m\u001b[0;34m,\u001b[0m \u001b[0mname\u001b[0m\u001b[0;34m,\u001b[0m \u001b[0mtransform\u001b[0m \u001b[0;32min\u001b[0m \u001b[0mself\u001b[0m\u001b[0;34m.\u001b[0m\u001b[0m_iter\u001b[0m\u001b[0;34m(\u001b[0m\u001b[0mwith_final\u001b[0m\u001b[0;34m=\u001b[0m\u001b[0;32mFalse\u001b[0m\u001b[0;34m)\u001b[0m\u001b[0;34m:\u001b[0m\u001b[0;34m\u001b[0m\u001b[0;34m\u001b[0m\u001b[0m\n\u001b[0;32m--> 419\u001b[0;31m             \u001b[0mXt\u001b[0m \u001b[0;34m=\u001b[0m \u001b[0mtransform\u001b[0m\u001b[0;34m.\u001b[0m\u001b[0mtransform\u001b[0m\u001b[0;34m(\u001b[0m\u001b[0mXt\u001b[0m\u001b[0;34m)\u001b[0m\u001b[0;34m\u001b[0m\u001b[0;34m\u001b[0m\u001b[0m\n\u001b[0m\u001b[1;32m    420\u001b[0m         \u001b[0;32mreturn\u001b[0m \u001b[0mself\u001b[0m\u001b[0;34m.\u001b[0m\u001b[0msteps\u001b[0m\u001b[0;34m[\u001b[0m\u001b[0;34m-\u001b[0m\u001b[0;36m1\u001b[0m\u001b[0;34m]\u001b[0m\u001b[0;34m[\u001b[0m\u001b[0;34m-\u001b[0m\u001b[0;36m1\u001b[0m\u001b[0;34m]\u001b[0m\u001b[0;34m.\u001b[0m\u001b[0mpredict\u001b[0m\u001b[0;34m(\u001b[0m\u001b[0mXt\u001b[0m\u001b[0;34m,\u001b[0m \u001b[0;34m**\u001b[0m\u001b[0mpredict_params\u001b[0m\u001b[0;34m)\u001b[0m\u001b[0;34m\u001b[0m\u001b[0;34m\u001b[0m\u001b[0m\n\u001b[1;32m    421\u001b[0m \u001b[0;34m\u001b[0m\u001b[0m\n",
            "\u001b[0;32m/anaconda/envs/azureml_py36/lib/python3.6/site-packages/tsfresh/transformers/relevant_feature_augmenter.py\u001b[0m in \u001b[0;36mtransform\u001b[0;34m(self, X)\u001b[0m\n\u001b[1;32m    309\u001b[0m         \u001b[0mrelevant_feature_extractor\u001b[0m\u001b[0;34m.\u001b[0m\u001b[0mset_timeseries_container\u001b[0m\u001b[0;34m(\u001b[0m\u001b[0mself\u001b[0m\u001b[0;34m.\u001b[0m\u001b[0mfeature_extractor\u001b[0m\u001b[0;34m.\u001b[0m\u001b[0mtimeseries_container\u001b[0m\u001b[0;34m)\u001b[0m\u001b[0;34m\u001b[0m\u001b[0;34m\u001b[0m\u001b[0m\n\u001b[1;32m    310\u001b[0m \u001b[0;34m\u001b[0m\u001b[0m\n\u001b[0;32m--> 311\u001b[0;31m         \u001b[0mX_augmented\u001b[0m \u001b[0;34m=\u001b[0m \u001b[0mrelevant_feature_extractor\u001b[0m\u001b[0;34m.\u001b[0m\u001b[0mtransform\u001b[0m\u001b[0;34m(\u001b[0m\u001b[0mX\u001b[0m\u001b[0;34m)\u001b[0m\u001b[0;34m\u001b[0m\u001b[0;34m\u001b[0m\u001b[0m\n\u001b[0m\u001b[1;32m    312\u001b[0m \u001b[0;34m\u001b[0m\u001b[0m\n\u001b[1;32m    313\u001b[0m         \u001b[0;32mif\u001b[0m \u001b[0mself\u001b[0m\u001b[0;34m.\u001b[0m\u001b[0mfilter_only_tsfresh_features\u001b[0m\u001b[0;34m:\u001b[0m\u001b[0;34m\u001b[0m\u001b[0;34m\u001b[0m\u001b[0m\n",
            "\u001b[0;32m/anaconda/envs/azureml_py36/lib/python3.6/site-packages/tsfresh/transformers/feature_augmenter.py\u001b[0m in \u001b[0;36mtransform\u001b[0;34m(self, X)\u001b[0m\n\u001b[1;32m    195\u001b[0m \u001b[0;34m\u001b[0m\u001b[0m\n\u001b[1;32m    196\u001b[0m         \u001b[0;31m# Extract only features for the IDs in X.index\u001b[0m\u001b[0;34m\u001b[0m\u001b[0;34m\u001b[0m\u001b[0;34m\u001b[0m\u001b[0m\n\u001b[0;32m--> 197\u001b[0;31m         \u001b[0mtimeseries_container_X\u001b[0m \u001b[0;34m=\u001b[0m \u001b[0mrestrict_input_to_index\u001b[0m\u001b[0;34m(\u001b[0m\u001b[0mself\u001b[0m\u001b[0;34m.\u001b[0m\u001b[0mtimeseries_container\u001b[0m\u001b[0;34m,\u001b[0m \u001b[0mself\u001b[0m\u001b[0;34m.\u001b[0m\u001b[0mcolumn_id\u001b[0m\u001b[0;34m,\u001b[0m \u001b[0mX\u001b[0m\u001b[0;34m.\u001b[0m\u001b[0mindex\u001b[0m\u001b[0;34m)\u001b[0m\u001b[0;34m\u001b[0m\u001b[0;34m\u001b[0m\u001b[0m\n\u001b[0m\u001b[1;32m    198\u001b[0m \u001b[0;34m\u001b[0m\u001b[0m\n\u001b[1;32m    199\u001b[0m         extracted_features = extract_features(timeseries_container_X,\n",
            "\u001b[0;32m/anaconda/envs/azureml_py36/lib/python3.6/site-packages/tsfresh/utilities/dataframe_functions.py\u001b[0m in \u001b[0;36mrestrict_input_to_index\u001b[0;34m(df_or_dict, column_id, index)\u001b[0m\n\u001b[1;32m    205\u001b[0m         \u001b[0;32mif\u001b[0m \u001b[0;32mnot\u001b[0m \u001b[0mpresent_ids\u001b[0m\u001b[0;34m:\u001b[0m\u001b[0;34m\u001b[0m\u001b[0;34m\u001b[0m\u001b[0m\n\u001b[1;32m    206\u001b[0m             \u001b[0mmsg\u001b[0m \u001b[0;34m=\u001b[0m \u001b[0;34m\"The ids of the time series container and the index of the input data X do not share any identifier!\"\u001b[0m\u001b[0;34m\u001b[0m\u001b[0;34m\u001b[0m\u001b[0m\n\u001b[0;32m--> 207\u001b[0;31m             \u001b[0;32mraise\u001b[0m \u001b[0mAttributeError\u001b[0m\u001b[0;34m(\u001b[0m\u001b[0mmsg\u001b[0m\u001b[0;34m)\u001b[0m\u001b[0;34m\u001b[0m\u001b[0;34m\u001b[0m\u001b[0m\n\u001b[0m\u001b[1;32m    208\u001b[0m \u001b[0;34m\u001b[0m\u001b[0m\n\u001b[1;32m    209\u001b[0m         \u001b[0mdf_or_dict_restricted\u001b[0m \u001b[0;34m=\u001b[0m \u001b[0mdf_or_dict\u001b[0m\u001b[0;34m[\u001b[0m\u001b[0mdf_or_dict\u001b[0m\u001b[0;34m[\u001b[0m\u001b[0mcolumn_id\u001b[0m\u001b[0;34m]\u001b[0m\u001b[0;34m.\u001b[0m\u001b[0misin\u001b[0m\u001b[0;34m(\u001b[0m\u001b[0mindex\u001b[0m\u001b[0;34m)\u001b[0m\u001b[0;34m]\u001b[0m\u001b[0;34m\u001b[0m\u001b[0;34m\u001b[0m\u001b[0m\n",
            "\u001b[0;31mAttributeError\u001b[0m: The ids of the time series container and the index of the input data X do not share any identifier!"
          ]
        }
      ],
      "execution_count": 95,
      "metadata": {
        "collapsed": true,
        "jupyter": {
          "source_hidden": false,
          "outputs_hidden": false
        },
        "nteract": {
          "transient": {
            "deleting": false
          }
        },
        "gather": {
          "logged": 1610307571346
        }
      }
    },
    {
      "cell_type": "code",
      "source": [
        "feats_join"
      ],
      "outputs": [
        {
          "output_type": "execute_result",
          "execution_count": 96,
          "data": {
            "text/plain": "        seconds  cycle   s/CP    s/CE  s/EPS1  s/FS1   s/FS2   s/PS1    s/PS2  \\\n0             0      0  2.184  47.202  2411.6  8.990  10.179  151.47  125.500   \n1             1      0  2.184  47.273  2411.6  0.770  10.174  151.45  125.390   \n2             2      0  2.184  47.250  2411.6  0.641  10.151  151.52  125.400   \n3             3      0  2.185  47.332  2411.6  0.006  10.149  151.27  125.030   \n4             4      0  2.178  47.213  2411.6  0.000  10.172  150.80  124.050   \n...         ...    ...    ...     ...     ...    ...     ...     ...      ...   \n132295       55   2204  2.134  46.355  2652.0  0.001  10.179  186.38    0.562   \n132296       56   2204  2.146  46.432  2667.0  0.000  10.183  187.20    0.555   \n132297       57   2204  2.144  46.384  2690.8  0.000  10.198  187.80    0.484   \n132298       58   2204  2.136  46.479  2698.4  0.003  10.190  188.05    0.453   \n132299       59   2204  2.148  46.621  2710.4  0.001  10.199  188.34    0.445   \n\n        s/PS3   s/PS4  s/PS5  s/PS6    s/SE   s/TS1   s/TS2   s/TS3   s/TS4  \\\n0       2.305   0.000  9.936  9.818  68.039  35.570  40.961  38.320  30.363   \n1       2.305   0.000  9.947  9.823   0.000  35.492  40.949  38.332  30.375   \n2       2.336   0.000  9.964  9.844   0.000  35.469  40.965  38.320  30.367   \n3       2.578   0.000  9.989  9.861   0.000  35.422  40.922  38.324  30.367   \n4       2.977   0.000  9.996  9.877   0.000  35.414  40.879  38.332  30.379   \n...       ...     ...    ...    ...     ...     ...     ...     ...     ...   \n132295  0.000  10.235  9.999  9.873  68.167  35.441  40.910  38.195  30.395   \n132296  0.000  10.198  9.976  9.861  68.167  35.437  40.895  38.184  30.391   \n132297  0.000  10.191  9.960  9.837  68.258  35.434  40.883  38.184  30.395   \n132298  0.000  10.189  9.955  9.827  68.258  35.434  40.879  38.184  30.402   \n132299  0.000  10.173  9.960  9.831  68.117  35.426  40.891  38.187  30.375   \n\n        s/VS1  \n0       0.604  \n1       0.605  \n2       0.611  \n3       0.603  \n4       0.608  \n...       ...  \n132295  0.516  \n132296  0.528  \n132297  0.522  \n132298  0.522  \n132299  0.531  \n\n[132300 rows x 19 columns]",
            "text/html": "<div>\n<style scoped>\n    .dataframe tbody tr th:only-of-type {\n        vertical-align: middle;\n    }\n\n    .dataframe tbody tr th {\n        vertical-align: top;\n    }\n\n    .dataframe thead th {\n        text-align: right;\n    }\n</style>\n<table border=\"1\" class=\"dataframe\">\n  <thead>\n    <tr style=\"text-align: right;\">\n      <th></th>\n      <th>seconds</th>\n      <th>cycle</th>\n      <th>s/CP</th>\n      <th>s/CE</th>\n      <th>s/EPS1</th>\n      <th>s/FS1</th>\n      <th>s/FS2</th>\n      <th>s/PS1</th>\n      <th>s/PS2</th>\n      <th>s/PS3</th>\n      <th>s/PS4</th>\n      <th>s/PS5</th>\n      <th>s/PS6</th>\n      <th>s/SE</th>\n      <th>s/TS1</th>\n      <th>s/TS2</th>\n      <th>s/TS3</th>\n      <th>s/TS4</th>\n      <th>s/VS1</th>\n    </tr>\n  </thead>\n  <tbody>\n    <tr>\n      <th>0</th>\n      <td>0</td>\n      <td>0</td>\n      <td>2.184</td>\n      <td>47.202</td>\n      <td>2411.6</td>\n      <td>8.990</td>\n      <td>10.179</td>\n      <td>151.47</td>\n      <td>125.500</td>\n      <td>2.305</td>\n      <td>0.000</td>\n      <td>9.936</td>\n      <td>9.818</td>\n      <td>68.039</td>\n      <td>35.570</td>\n      <td>40.961</td>\n      <td>38.320</td>\n      <td>30.363</td>\n      <td>0.604</td>\n    </tr>\n    <tr>\n      <th>1</th>\n      <td>1</td>\n      <td>0</td>\n      <td>2.184</td>\n      <td>47.273</td>\n      <td>2411.6</td>\n      <td>0.770</td>\n      <td>10.174</td>\n      <td>151.45</td>\n      <td>125.390</td>\n      <td>2.305</td>\n      <td>0.000</td>\n      <td>9.947</td>\n      <td>9.823</td>\n      <td>0.000</td>\n      <td>35.492</td>\n      <td>40.949</td>\n      <td>38.332</td>\n      <td>30.375</td>\n      <td>0.605</td>\n    </tr>\n    <tr>\n      <th>2</th>\n      <td>2</td>\n      <td>0</td>\n      <td>2.184</td>\n      <td>47.250</td>\n      <td>2411.6</td>\n      <td>0.641</td>\n      <td>10.151</td>\n      <td>151.52</td>\n      <td>125.400</td>\n      <td>2.336</td>\n      <td>0.000</td>\n      <td>9.964</td>\n      <td>9.844</td>\n      <td>0.000</td>\n      <td>35.469</td>\n      <td>40.965</td>\n      <td>38.320</td>\n      <td>30.367</td>\n      <td>0.611</td>\n    </tr>\n    <tr>\n      <th>3</th>\n      <td>3</td>\n      <td>0</td>\n      <td>2.185</td>\n      <td>47.332</td>\n      <td>2411.6</td>\n      <td>0.006</td>\n      <td>10.149</td>\n      <td>151.27</td>\n      <td>125.030</td>\n      <td>2.578</td>\n      <td>0.000</td>\n      <td>9.989</td>\n      <td>9.861</td>\n      <td>0.000</td>\n      <td>35.422</td>\n      <td>40.922</td>\n      <td>38.324</td>\n      <td>30.367</td>\n      <td>0.603</td>\n    </tr>\n    <tr>\n      <th>4</th>\n      <td>4</td>\n      <td>0</td>\n      <td>2.178</td>\n      <td>47.213</td>\n      <td>2411.6</td>\n      <td>0.000</td>\n      <td>10.172</td>\n      <td>150.80</td>\n      <td>124.050</td>\n      <td>2.977</td>\n      <td>0.000</td>\n      <td>9.996</td>\n      <td>9.877</td>\n      <td>0.000</td>\n      <td>35.414</td>\n      <td>40.879</td>\n      <td>38.332</td>\n      <td>30.379</td>\n      <td>0.608</td>\n    </tr>\n    <tr>\n      <th>...</th>\n      <td>...</td>\n      <td>...</td>\n      <td>...</td>\n      <td>...</td>\n      <td>...</td>\n      <td>...</td>\n      <td>...</td>\n      <td>...</td>\n      <td>...</td>\n      <td>...</td>\n      <td>...</td>\n      <td>...</td>\n      <td>...</td>\n      <td>...</td>\n      <td>...</td>\n      <td>...</td>\n      <td>...</td>\n      <td>...</td>\n      <td>...</td>\n    </tr>\n    <tr>\n      <th>132295</th>\n      <td>55</td>\n      <td>2204</td>\n      <td>2.134</td>\n      <td>46.355</td>\n      <td>2652.0</td>\n      <td>0.001</td>\n      <td>10.179</td>\n      <td>186.38</td>\n      <td>0.562</td>\n      <td>0.000</td>\n      <td>10.235</td>\n      <td>9.999</td>\n      <td>9.873</td>\n      <td>68.167</td>\n      <td>35.441</td>\n      <td>40.910</td>\n      <td>38.195</td>\n      <td>30.395</td>\n      <td>0.516</td>\n    </tr>\n    <tr>\n      <th>132296</th>\n      <td>56</td>\n      <td>2204</td>\n      <td>2.146</td>\n      <td>46.432</td>\n      <td>2667.0</td>\n      <td>0.000</td>\n      <td>10.183</td>\n      <td>187.20</td>\n      <td>0.555</td>\n      <td>0.000</td>\n      <td>10.198</td>\n      <td>9.976</td>\n      <td>9.861</td>\n      <td>68.167</td>\n      <td>35.437</td>\n      <td>40.895</td>\n      <td>38.184</td>\n      <td>30.391</td>\n      <td>0.528</td>\n    </tr>\n    <tr>\n      <th>132297</th>\n      <td>57</td>\n      <td>2204</td>\n      <td>2.144</td>\n      <td>46.384</td>\n      <td>2690.8</td>\n      <td>0.000</td>\n      <td>10.198</td>\n      <td>187.80</td>\n      <td>0.484</td>\n      <td>0.000</td>\n      <td>10.191</td>\n      <td>9.960</td>\n      <td>9.837</td>\n      <td>68.258</td>\n      <td>35.434</td>\n      <td>40.883</td>\n      <td>38.184</td>\n      <td>30.395</td>\n      <td>0.522</td>\n    </tr>\n    <tr>\n      <th>132298</th>\n      <td>58</td>\n      <td>2204</td>\n      <td>2.136</td>\n      <td>46.479</td>\n      <td>2698.4</td>\n      <td>0.003</td>\n      <td>10.190</td>\n      <td>188.05</td>\n      <td>0.453</td>\n      <td>0.000</td>\n      <td>10.189</td>\n      <td>9.955</td>\n      <td>9.827</td>\n      <td>68.258</td>\n      <td>35.434</td>\n      <td>40.879</td>\n      <td>38.184</td>\n      <td>30.402</td>\n      <td>0.522</td>\n    </tr>\n    <tr>\n      <th>132299</th>\n      <td>59</td>\n      <td>2204</td>\n      <td>2.148</td>\n      <td>46.621</td>\n      <td>2710.4</td>\n      <td>0.001</td>\n      <td>10.199</td>\n      <td>188.34</td>\n      <td>0.445</td>\n      <td>0.000</td>\n      <td>10.173</td>\n      <td>9.960</td>\n      <td>9.831</td>\n      <td>68.117</td>\n      <td>35.426</td>\n      <td>40.891</td>\n      <td>38.187</td>\n      <td>30.375</td>\n      <td>0.531</td>\n    </tr>\n  </tbody>\n</table>\n<p>132300 rows × 19 columns</p>\n</div>"
          },
          "metadata": {}
        }
      ],
      "execution_count": 96,
      "metadata": {
        "collapsed": true,
        "jupyter": {
          "source_hidden": false,
          "outputs_hidden": false
        },
        "nteract": {
          "transient": {
            "deleting": false
          }
        },
        "gather": {
          "logged": 1610307702355
        }
      }
    },
    {
      "cell_type": "code",
      "source": [],
      "outputs": [],
      "execution_count": null,
      "metadata": {
        "collapsed": true,
        "jupyter": {
          "source_hidden": false,
          "outputs_hidden": false
        },
        "nteract": {
          "transient": {
            "deleting": false
          }
        }
      }
    }
  ],
  "metadata": {
    "kernelspec": {
      "name": "python3-azureml",
      "language": "python",
      "display_name": "Python 3.6 - AzureML"
    },
    "language_info": {
      "name": "python",
      "version": "3.6.9",
      "mimetype": "text/x-python",
      "codemirror_mode": {
        "name": "ipython",
        "version": 3
      },
      "pygments_lexer": "ipython3",
      "nbconvert_exporter": "python",
      "file_extension": ".py"
    },
    "kernel_info": {
      "name": "python3-azureml"
    },
    "nteract": {
      "version": "nteract-front-end@1.0.0"
    }
  },
  "nbformat": 4,
  "nbformat_minor": 2
}