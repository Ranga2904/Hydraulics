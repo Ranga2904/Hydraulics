{
  "cells": [
    {
      "cell_type": "markdown",
      "source": [
        "# Automated ML\n",
        "\n",
        "TODO: Import Dependencies. In the cell below, import all the dependencies that you will need to complete the project."
      ],
      "metadata": {}
    },
    {
      "cell_type": "code",
      "source": [
        "from azureml.core import Workspace, Experiment, Dataset, Model, Datastore, Environment\n",
        "from azureml.data.datapath import DataPath\n",
        "from azureml.widgets import RunDetails\n",
        "from azureml.train.automl import AutoMLConfig\n",
        "import numpy as np\n",
        "import pandas as pd\n",
        "import joblib, pickle"
      ],
      "outputs": [],
      "execution_count": 1,
      "metadata": {
        "gather": {
          "logged": 1609808590935
        },
        "jupyter": {
          "outputs_hidden": false,
          "source_hidden": false
        },
        "nteract": {
          "transient": {
            "deleting": false
          }
        }
      }
    },
    {
      "cell_type": "markdown",
      "source": [
        "## Dataset\n",
        "\n",
        "### Overview\n",
        "The dataset I'm using tracks car mpg as a function of several car characteristics like weight and acceleration. The task performed is regression to predict mpg as a function of these characteristics.\n",
        "\n",
        "TODO: Get data. In the cell below, write code to access the data you will be using in this project. Remember that the dataset needs to be external."
      ],
      "metadata": {}
    },
    {
      "cell_type": "code",
      "source": [
        "subscription_id = 'd7f39349-a66b-446e-aba6-0053c2cf1c11'\n",
        "resource_group = 'aml-quickstarts-133408'\n",
        "workspace_name = 'quick-starts-ws-133408'\n",
        "\n",
        "ws = Workspace.get(name=\"quick-starts-ws-133408\")\n",
        "exp = Experiment(workspace=ws, name=\"Ranga\")\n",
        "\n",
        "workspace = Workspace(subscription_id, resource_group, workspace_name)\n",
        "\n",
        "CEdata = Dataset.get_by_name(workspace, name='CE')\n",
        "CEdata.download(target_path='.', overwrite=True)\n",
        "VS1data = Dataset.get_by_name(workspace, name='VS1')\n",
        "VS1data.download(target_path='.', overwrite=True)\n",
        "TS4data = Dataset.get_by_name(workspace, name='TS4')\n",
        "TS4data.download(target_path='.', overwrite=True)\n",
        "TS3data = Dataset.get_by_name(workspace, name='TS3')\n",
        "TS3data.download(target_path='.', overwrite=True)\n",
        "\n"
      ],
      "outputs": [
        {
          "output_type": "execute_result",
          "execution_count": 2,
          "data": {
            "text/plain": "['/mnt/batch/tasks/shared/LS_root/mounts/clusters/ranga/code/Users/odl_user_133408/TS3.txt']"
          },
          "metadata": {}
        }
      ],
      "execution_count": 2,
      "metadata": {
        "gather": {
          "logged": 1609808598911
        },
        "jupyter": {
          "outputs_hidden": false,
          "source_hidden": false
        },
        "nteract": {
          "transient": {
            "deleting": false
          }
        }
      }
    },
    {
      "cell_type": "code",
      "source": [
        "SEdata = Dataset.get_by_name(workspace, name='SE')\n",
        "SEdata.download(target_path='.', overwrite=True)\n",
        "PS6data = Dataset.get_by_name(workspace, name='PS6')\n",
        "PS6data.download(target_path='.', overwrite=True)\n",
        "PS5data = Dataset.get_by_name(workspace, name='PS5')\n",
        "PS5data.download(target_path='.', overwrite=True)\n",
        "\n",
        "FS2data = Dataset.get_by_name(workspace, name='FS2')\n",
        "FS2data.download(target_path='.', overwrite=True)\n",
        "\n",
        "EPS1data = Dataset.get_by_name(workspace, name='EPS1')\n",
        "EPS1data.download(target_path='.', overwrite=True)\n",
        "CPdata = Dataset.get_by_name(workspace, name='CP')\n",
        "CPdata.download(target_path='.', overwrite=True)\n"
      ],
      "outputs": [
        {
          "output_type": "execute_result",
          "execution_count": 3,
          "data": {
            "text/plain": "['/mnt/batch/tasks/shared/LS_root/mounts/clusters/ranga/code/Users/odl_user_133408/CP.txt']"
          },
          "metadata": {}
        }
      ],
      "execution_count": 3,
      "metadata": {
        "collapsed": true,
        "gather": {
          "logged": 1609808606361
        },
        "jupyter": {
          "outputs_hidden": false,
          "source_hidden": false
        },
        "nteract": {
          "transient": {
            "deleting": false
          }
        }
      }
    },
    {
      "cell_type": "code",
      "source": [
        "cooleff = []\n",
        "coolpwr = []\n",
        "\n",
        "ps_five = []\n",
        "ps_six = []\n",
        "motorpower = []\n",
        "\n",
        "volflowtwo = []\n",
        "\n",
        "tempthree = []\n",
        "tempfour = []\n",
        "effactor = []\n",
        "vibes = []"
      ],
      "outputs": [],
      "execution_count": 4,
      "metadata": {
        "collapsed": true,
        "gather": {
          "logged": 1609808606684
        },
        "jupyter": {
          "outputs_hidden": false,
          "source_hidden": false
        },
        "nteract": {
          "transient": {
            "deleting": false
          }
        }
      }
    },
    {
      "cell_type": "code",
      "source": [
        "ce = open('CE.txt','r')\n",
        "for line in ce:\n",
        "    cooleff.append(line.split())"
      ],
      "outputs": [],
      "execution_count": 5,
      "metadata": {
        "collapsed": true,
        "gather": {
          "logged": 1609808606785
        },
        "jupyter": {
          "outputs_hidden": false,
          "source_hidden": false
        },
        "nteract": {
          "transient": {
            "deleting": false
          }
        }
      }
    },
    {
      "cell_type": "code",
      "source": [
        "cp = open('CP.txt','r')\n",
        "for line in cp:\n",
        "    coolpwr.append(line.split())\n",
        "\n",
        "effic = open('se.txt','r')\n",
        "for line in effic:\n",
        "    effactor.append(line.split())\n",
        "    \n",
        "vibe = open('VS1.txt')\n",
        "for line in vibe:\n",
        "    vibes.append(line.split())"
      ],
      "outputs": [],
      "execution_count": 6,
      "metadata": {
        "collapsed": true,
        "gather": {
          "logged": 1609808606878
        },
        "jupyter": {
          "outputs_hidden": false,
          "source_hidden": false
        },
        "nteract": {
          "transient": {
            "deleting": false
          }
        }
      }
    },
    {
      "cell_type": "code",
      "source": [
        "psfive = open('PS5.txt','r')\n",
        "for line in psfive:\n",
        "    ps_five.append(line.split())\n",
        "pssix = open('PS6.txt','r')\n",
        "for line in pssix:\n",
        "    ps_six.append(line.split())"
      ],
      "outputs": [],
      "execution_count": 7,
      "metadata": {
        "collapsed": true,
        "gather": {
          "logged": 1609808608212
        },
        "jupyter": {
          "outputs_hidden": false,
          "source_hidden": false
        },
        "nteract": {
          "transient": {
            "deleting": false
          }
        }
      }
    },
    {
      "cell_type": "code",
      "source": [
        "mp = open('EPS1.txt','r')\n",
        "for line in mp:\n",
        "    motorpower.append(line.split())\n",
        "\n",
        "\n",
        "tthree = open('TS3.txt','r')\n",
        "for line in tthree:\n",
        "    tempthree.append(line.split())\n",
        "tfour = open('TS4.txt','r')\n",
        "for line in tfour:\n",
        "    tempfour.append(line.split())"
      ],
      "outputs": [],
      "execution_count": 8,
      "metadata": {
        "collapsed": true,
        "gather": {
          "logged": 1609808610290
        },
        "jupyter": {
          "outputs_hidden": false,
          "source_hidden": false
        },
        "nteract": {
          "transient": {
            "deleting": false
          }
        }
      }
    },
    {
      "cell_type": "code",
      "source": [
        "vftwo = open('FS2.txt','r')\n",
        "for line in vftwo:\n",
        "    volflowtwo.append(line.split())"
      ],
      "outputs": [],
      "execution_count": 9,
      "metadata": {
        "collapsed": true,
        "gather": {
          "logged": 1609808610684
        },
        "jupyter": {
          "outputs_hidden": false,
          "source_hidden": false
        },
        "nteract": {
          "transient": {
            "deleting": false
          }
        }
      }
    },
    {
      "cell_type": "code",
      "source": [
        "cooleff = np.reshape(cooleff,(2205,60))\n",
        "coolpwr = np.reshape(coolpwr,(2205,60))\n",
        "cooleffDF = pd.DataFrame(cooleff)\n",
        "coolpwrDF = pd.DataFrame(coolpwr)"
      ],
      "outputs": [],
      "execution_count": 10,
      "metadata": {
        "collapsed": true,
        "gather": {
          "logged": 1609808611040
        },
        "jupyter": {
          "outputs_hidden": false,
          "source_hidden": false
        },
        "nteract": {
          "transient": {
            "deleting": false
          }
        }
      }
    },
    {
      "cell_type": "code",
      "source": [
        "ps_five = np.reshape(ps_five,(2205,6000))\n",
        "ps_five_DF = pd.DataFrame(ps_five)\n",
        "ps_six = np.reshape(ps_six,(2205,6000))\n",
        "ps_six_DF = pd.DataFrame(ps_six)"
      ],
      "outputs": [],
      "execution_count": 11,
      "metadata": {
        "collapsed": true,
        "gather": {
          "logged": 1609808615648
        },
        "jupyter": {
          "outputs_hidden": false,
          "source_hidden": false
        },
        "nteract": {
          "transient": {
            "deleting": false
          }
        }
      }
    },
    {
      "cell_type": "code",
      "source": [
        "motorpower = np.reshape(motorpower,(2205,6000))\n",
        "mp_DF = pd.DataFrame(motorpower)\n",
        "\n",
        "volflowtwo = np.reshape(volflowtwo,(2205,600))\n",
        "vftwo_DF = pd.DataFrame(volflowtwo)"
      ],
      "outputs": [],
      "execution_count": 12,
      "metadata": {
        "collapsed": true,
        "gather": {
          "logged": 1609808618544
        },
        "jupyter": {
          "outputs_hidden": false,
          "source_hidden": false
        },
        "nteract": {
          "transient": {
            "deleting": false
          }
        }
      }
    },
    {
      "cell_type": "code",
      "source": [
        "tempthree = np.reshape(tempthree,(2205,60))\n",
        "tthree_DF = pd.DataFrame(tempthree)\n",
        "tempfour = np.reshape(tempfour,(2205,60))\n",
        "tfour_DF = pd.DataFrame(tempfour)\n"
      ],
      "outputs": [],
      "execution_count": 13,
      "metadata": {
        "collapsed": true,
        "gather": {
          "logged": 1609808618913
        },
        "jupyter": {
          "outputs_hidden": false,
          "source_hidden": false
        },
        "nteract": {
          "transient": {
            "deleting": false
          }
        }
      }
    },
    {
      "cell_type": "code",
      "source": [
        "effactor = np.reshape(effactor,(2205,60))\n",
        "eff_DF = pd.DataFrame(effactor)\n",
        "vibes = np.reshape(vibes,(2205,60))\n",
        "vibes_DF = pd.DataFrame(vibes)"
      ],
      "outputs": [],
      "execution_count": 14,
      "metadata": {
        "collapsed": true,
        "gather": {
          "logged": 1609808619272
        },
        "jupyter": {
          "outputs_hidden": false,
          "source_hidden": false
        },
        "nteract": {
          "transient": {
            "deleting": false
          }
        }
      }
    },
    {
      "cell_type": "code",
      "source": [
        "coolpwrDF = coolpwrDF.astype(float)\n",
        "coolpwrDF['Avg coolpwr'] = coolpwrDF.mean(axis=1)\n",
        "coolpwrDF = pd.DataFrame(coolpwrDF.loc[:,'Avg coolpwr'])\n",
        "\n",
        "cooleffDF = cooleffDF.astype(float)\n",
        "cooleffDF['Avg cooleff'] = cooleffDF.mean(axis=1)\n",
        "cooleffDF = pd.DataFrame(cooleffDF.loc[:,'Avg cooleff'])"
      ],
      "outputs": [],
      "execution_count": 15,
      "metadata": {
        "collapsed": true,
        "gather": {
          "logged": 1609808619632
        },
        "jupyter": {
          "outputs_hidden": false,
          "source_hidden": false
        },
        "nteract": {
          "transient": {
            "deleting": false
          }
        }
      }
    },
    {
      "cell_type": "code",
      "source": [
        "ps_five_DF = ps_five_DF.astype(float)\n",
        "ps_five_DF['Avg psfive'] = ps_five_DF.mean(axis=1)\n",
        "ps_five_DF = pd.DataFrame(ps_five_DF.loc[:,'Avg psfive'])\n",
        "\n",
        "ps_six_DF = ps_six_DF.astype(float)\n",
        "ps_six_DF['Avg pssix'] = ps_six_DF.mean(axis=1)\n",
        "ps_six_DF = pd.DataFrame(ps_six_DF.loc[:,'Avg pssix'])"
      ],
      "outputs": [],
      "execution_count": 16,
      "metadata": {
        "collapsed": true,
        "gather": {
          "logged": 1609808623408
        },
        "jupyter": {
          "outputs_hidden": false,
          "source_hidden": false
        },
        "nteract": {
          "transient": {
            "deleting": false
          }
        }
      }
    },
    {
      "cell_type": "code",
      "source": [
        "mp_DF = mp_DF.astype(float)\n",
        "mp_DF['Avg mp'] = mp_DF.mean(axis=1)\n",
        "mp_DF = pd.DataFrame(mp_DF.loc[:,'Avg mp'])\n",
        "\n",
        "vftwo_DF = vftwo_DF.astype(float)\n",
        "vftwo_DF['Avg vftwo'] = vftwo_DF.mean(axis=1)\n",
        "vftwo_DF = pd.DataFrame(vftwo_DF.loc[:,'Avg vftwo'])"
      ],
      "outputs": [],
      "execution_count": 17,
      "metadata": {
        "collapsed": true,
        "gather": {
          "logged": 1609808627800
        },
        "jupyter": {
          "outputs_hidden": false,
          "source_hidden": false
        },
        "nteract": {
          "transient": {
            "deleting": false
          }
        }
      }
    },
    {
      "cell_type": "code",
      "source": [
        "eff_DF = eff_DF.astype(float)\n",
        "eff_DF['Avg eff'] = eff_DF.mean(axis=1)\n",
        "eff_DF = pd.DataFrame(eff_DF.loc[:,'Avg eff'])\n",
        "\n",
        "vibes_DF = vibes_DF.astype(float)\n",
        "vibes_DF['Avg vibes'] = vibes_DF.mean(axis=1)\n",
        "vibes_DF = pd.DataFrame(vibes_DF.loc[:,'Avg vibes'])"
      ],
      "outputs": [],
      "execution_count": 18,
      "metadata": {
        "collapsed": true,
        "gather": {
          "logged": 1609808628458
        },
        "jupyter": {
          "outputs_hidden": false,
          "source_hidden": false
        },
        "nteract": {
          "transient": {
            "deleting": false
          }
        }
      }
    },
    {
      "cell_type": "code",
      "source": [
        "tthree_DF = tthree_DF.astype(float)\n",
        "tthree_DF['Avg tthree'] = tthree_DF.mean(axis=1)\n",
        "tthree_DF = pd.DataFrame(tthree_DF.loc[:,'Avg tthree'])\n",
        "tfour_DF = tfour_DF.astype(float)\n",
        "tfour_DF['Avg tfour'] = tfour_DF.mean(axis=1)\n",
        "tfour_DF = pd.DataFrame(tfour_DF.loc[:,'Avg tfour'])"
      ],
      "outputs": [],
      "execution_count": 19,
      "metadata": {
        "collapsed": true,
        "gather": {
          "logged": 1609808629054
        },
        "jupyter": {
          "outputs_hidden": false,
          "source_hidden": false
        },
        "nteract": {
          "transient": {
            "deleting": false
          }
        }
      }
    },
    {
      "cell_type": "code",
      "source": [
        "features = (((((((((coolpwrDF.join(cooleffDF)).join(ps_five_DF)).join(ps_six_DF)).join(mp_DF)).join(vftwo_DF)).join(eff_DF)).join(vibes_DF)).join(tthree_DF)).join(tfour_DF))"
      ],
      "outputs": [],
      "execution_count": 20,
      "metadata": {
        "collapsed": true,
        "gather": {
          "logged": 1609808629409
        },
        "jupyter": {
          "outputs_hidden": false,
          "source_hidden": false
        },
        "nteract": {
          "transient": {
            "deleting": false
          }
        }
      }
    },
    {
      "cell_type": "code",
      "source": [
        "profiledata = Dataset.get_by_name(workspace, name='profile')\n",
        "profiledata.download(target_path='.', overwrite=True)"
      ],
      "outputs": [
        {
          "output_type": "execute_result",
          "execution_count": 21,
          "data": {
            "text/plain": "['/mnt/batch/tasks/shared/LS_root/mounts/clusters/ranga/code/Users/odl_user_133408/profile.txt']"
          },
          "metadata": {}
        }
      ],
      "execution_count": 21,
      "metadata": {
        "collapsed": true,
        "gather": {
          "logged": 1609808629822
        },
        "jupyter": {
          "outputs_hidden": false,
          "source_hidden": false
        },
        "nteract": {
          "transient": {
            "deleting": false
          }
        }
      }
    },
    {
      "cell_type": "code",
      "source": [
        "profiles=[]\n",
        "prof = open('profile.txt','r')\n",
        "for line in prof:\n",
        "    profiles.append(line.split())\n",
        "\n",
        "labels = np.reshape(profiles,(2205,5))\n",
        "labels_DF = pd.DataFrame(labels)\n",
        "labels_DF = labels_DF.astype(float)\n",
        "\n",
        "labels_DF.columns = ['Clr cndn','Valve cndn','Pump lkg','Hydraulic press','Stable Flag (only cat)']"
      ],
      "outputs": [],
      "execution_count": 22,
      "metadata": {
        "collapsed": true,
        "gather": {
          "logged": 1609808630246
        },
        "jupyter": {
          "outputs_hidden": false,
          "source_hidden": false
        },
        "nteract": {
          "transient": {
            "deleting": false
          }
        }
      }
    },
    {
      "cell_type": "code",
      "source": [
        "ds = features.join(labels_DF)\n",
        "ds_valvecndn = ds.drop(columns=['Clr cndn','Pump lkg','Hydraulic press','Stable Flag (only cat)'])\n",
        "ds_stableflag = ds.drop(columns=['Clr cndn','Valve cndn','Pump lkg','Hydraulic press'])"
      ],
      "outputs": [],
      "execution_count": 23,
      "metadata": {
        "collapsed": true,
        "gather": {
          "logged": 1609808630605
        },
        "jupyter": {
          "outputs_hidden": false,
          "source_hidden": false
        },
        "nteract": {
          "transient": {
            "deleting": false
          }
        }
      }
    },
    {
      "cell_type": "code",
      "source": [
        "# TODO: Put your automl config here\n",
        "automl_config = AutoMLConfig(\n",
        "    experiment_timeout_minutes=15,\n",
        "    task='regression',\n",
        "    primary_metric='r2_score',\n",
        "    training_data=ds_valvecndn,\n",
        "    label_column_name='Valve cndn',\n",
        "    n_cross_validations=3)"
      ],
      "outputs": [],
      "execution_count": 24,
      "metadata": {
        "gather": {
          "logged": 1609808630972
        },
        "jupyter": {
          "outputs_hidden": false,
          "source_hidden": false
        },
        "nteract": {
          "transient": {
            "deleting": false
          }
        }
      }
    },
    {
      "cell_type": "code",
      "source": [
        "# TODO: Submit your experiment\n",
        "autoexp = Experiment(workspace=ws,name='AutoRanga')\n",
        "remote_run = autoexp.submit(automl_config)\n",
        "RunDetails(remote_run).show()\n",
        "remote_run.wait_for_completion(show_output=True)"
      ],
      "outputs": [
        {
          "output_type": "stream",
          "name": "stderr",
          "text": [
            "WARNING:root:Running on local machine. Note that local runs always run synchronously even if you use the parameter 'show_output=False'\n"
          ]
        },
        {
          "output_type": "display_data",
          "data": {
            "text/plain": "_AutoMLWidget(widget_settings={'childWidgetDisplay': 'popup', 'send_telemetry': False, 'log_level': 'INFO', 's…",
            "application/vnd.jupyter.widget-view+json": {
              "version_major": 2,
              "version_minor": 0,
              "model_id": "c9aa5b9e7eae46018ad1a015570ccec1"
            }
          },
          "metadata": {}
        },
        {
          "output_type": "display_data",
          "data": {
            "application/aml.mini.widget.v1": "{\"status\": \"Completed\", \"workbench_run_details_uri\": \"https://ml.azure.com/experiments/AutoRanga/runs/AutoML_6d831474-2d36-4cb2-9b14-3f73c4abb223?wsid=/subscriptions/d7f39349-a66b-446e-aba6-0053c2cf1c11/resourcegroups/aml-quickstarts-133408/workspaces/quick-starts-ws-133408\", \"run_id\": \"AutoML_6d831474-2d36-4cb2-9b14-3f73c4abb223\", \"run_properties\": {\"run_id\": \"AutoML_6d831474-2d36-4cb2-9b14-3f73c4abb223\", \"created_utc\": \"2021-01-05T01:03:52.794907Z\", \"properties\": {\"num_iterations\": \"1000\", \"training_type\": \"TrainFull\", \"acquisition_function\": \"EI\", \"primary_metric\": \"r2_score\", \"train_split\": \"0\", \"acquisition_parameter\": \"0\", \"num_cross_validation\": \"3\", \"target\": \"local\", \"AMLSettingsJsonString\": \"{\\\"path\\\":null,\\\"name\\\":\\\"AutoRanga\\\",\\\"subscription_id\\\":\\\"d7f39349-a66b-446e-aba6-0053c2cf1c11\\\",\\\"resource_group\\\":\\\"aml-quickstarts-133408\\\",\\\"workspace_name\\\":\\\"quick-starts-ws-133408\\\",\\\"region\\\":\\\"southcentralus\\\",\\\"compute_target\\\":\\\"local\\\",\\\"spark_service\\\":null,\\\"azure_service\\\":\\\"Microsoft.AzureNotebookVM\\\",\\\"many_models\\\":false,\\\"pipeline_fetch_max_batch_size\\\":1,\\\"iterations\\\":1000,\\\"primary_metric\\\":\\\"r2_score\\\",\\\"task_type\\\":\\\"regression\\\",\\\"data_script\\\":null,\\\"validation_size\\\":0.0,\\\"n_cross_validations\\\":3,\\\"y_min\\\":null,\\\"y_max\\\":null,\\\"num_classes\\\":null,\\\"featurization\\\":\\\"auto\\\",\\\"_ignore_package_version_incompatibilities\\\":false,\\\"is_timeseries\\\":false,\\\"max_cores_per_iteration\\\":1,\\\"max_concurrent_iterations\\\":1,\\\"iteration_timeout_minutes\\\":null,\\\"mem_in_mb\\\":null,\\\"enforce_time_on_windows\\\":false,\\\"experiment_timeout_minutes\\\":15,\\\"experiment_exit_score\\\":null,\\\"whitelist_models\\\":null,\\\"blacklist_algos\\\":[\\\"TensorFlowDNN\\\",\\\"TensorFlowLinearRegressor\\\"],\\\"supported_models\\\":[\\\"FastLinearRegressor\\\",\\\"LassoLars\\\",\\\"XGBoostRegressor\\\",\\\"OnlineGradientDescentRegressor\\\",\\\"DecisionTree\\\",\\\"GradientBoosting\\\",\\\"TensorFlowLinearRegressor\\\",\\\"TensorFlowDNN\\\",\\\"RandomForest\\\",\\\"ExtremeRandomTrees\\\",\\\"LightGBM\\\",\\\"KNN\\\",\\\"ElasticNet\\\",\\\"SGD\\\"],\\\"auto_blacklist\\\":true,\\\"blacklist_samples_reached\\\":false,\\\"exclude_nan_labels\\\":true,\\\"verbosity\\\":20,\\\"_debug_log\\\":\\\"automl.log\\\",\\\"show_warnings\\\":false,\\\"model_explainability\\\":true,\\\"service_url\\\":null,\\\"sdk_url\\\":null,\\\"sdk_packages\\\":null,\\\"enable_onnx_compatible_models\\\":false,\\\"enable_split_onnx_featurizer_estimator_models\\\":false,\\\"vm_type\\\":null,\\\"telemetry_verbosity\\\":20,\\\"send_telemetry\\\":true,\\\"enable_dnn\\\":false,\\\"scenario\\\":\\\"SDK-1.13.0\\\",\\\"environment_label\\\":null,\\\"force_text_dnn\\\":false,\\\"enable_feature_sweeping\\\":true,\\\"enable_early_stopping\\\":false,\\\"early_stopping_n_iters\\\":10,\\\"metrics\\\":null,\\\"enable_ensembling\\\":true,\\\"enable_stack_ensembling\\\":true,\\\"ensemble_iterations\\\":15,\\\"enable_tf\\\":false,\\\"enable_subsampling\\\":null,\\\"subsample_seed\\\":null,\\\"enable_nimbusml\\\":false,\\\"enable_streaming\\\":false,\\\"force_streaming\\\":false,\\\"track_child_runs\\\":true,\\\"allowed_private_models\\\":[],\\\"label_column_name\\\":\\\"Valve cndn\\\",\\\"weight_column_name\\\":null,\\\"cv_split_column_names\\\":null,\\\"enable_local_managed\\\":false,\\\"_local_managed_run_id\\\":null,\\\"cost_mode\\\":1,\\\"lag_length\\\":0,\\\"metric_operation\\\":\\\"maximize\\\",\\\"preprocess\\\":true}\", \"DataPrepJsonString\": null, \"EnableSubsampling\": null, \"runTemplate\": \"AutoML\", \"azureml.runsource\": \"automl\", \"display_task_type\": \"regression\", \"dependencies_versions\": \"{\\\"azureml-widgets\\\": \\\"1.19.0\\\", \\\"azureml-train\\\": \\\"1.19.0\\\", \\\"azureml-train-restclients-hyperdrive\\\": \\\"1.19.0\\\", \\\"azureml-train-core\\\": \\\"1.19.0\\\", \\\"azureml-train-automl\\\": \\\"1.19.0\\\", \\\"azureml-train-automl-runtime\\\": \\\"1.19.0\\\", \\\"azureml-train-automl-client\\\": \\\"1.19.0\\\", \\\"azureml-tensorboard\\\": \\\"1.19.0\\\", \\\"azureml-telemetry\\\": \\\"1.19.0\\\", \\\"azureml-sdk\\\": \\\"1.19.0\\\", \\\"azureml-samples\\\": \\\"0+unknown\\\", \\\"azureml-pipeline\\\": \\\"1.19.0\\\", \\\"azureml-pipeline-steps\\\": \\\"1.19.0\\\", \\\"azureml-pipeline-core\\\": \\\"1.19.0\\\", \\\"azureml-opendatasets\\\": \\\"1.19.0\\\", \\\"azureml-model-management-sdk\\\": \\\"1.0.1b6.post1\\\", \\\"azureml-mlflow\\\": \\\"1.19.0\\\", \\\"azureml-interpret\\\": \\\"1.19.0\\\", \\\"azureml-explain-model\\\": \\\"1.19.0\\\", \\\"azureml-defaults\\\": \\\"1.19.0\\\", \\\"azureml-dataset-runtime\\\": \\\"1.19.0\\\", \\\"azureml-dataprep\\\": \\\"2.6.1\\\", \\\"azureml-dataprep-rslex\\\": \\\"1.4.0\\\", \\\"azureml-dataprep-native\\\": \\\"26.0.0\\\", \\\"azureml-datadrift\\\": \\\"1.19.0\\\", \\\"azureml-core\\\": \\\"1.19.0\\\", \\\"azureml-contrib-services\\\": \\\"1.19.0\\\", \\\"azureml-contrib-server\\\": \\\"1.19.0\\\", \\\"azureml-contrib-reinforcementlearning\\\": \\\"1.19.0\\\", \\\"azureml-contrib-pipeline-steps\\\": \\\"1.19.0\\\", \\\"azureml-contrib-notebook\\\": \\\"1.19.0\\\", \\\"azureml-contrib-interpret\\\": \\\"1.19.0\\\", \\\"azureml-contrib-gbdt\\\": \\\"1.19.0\\\", \\\"azureml-contrib-fairness\\\": \\\"1.19.0\\\", \\\"azureml-contrib-dataset\\\": \\\"1.19.0\\\", \\\"azureml-cli-common\\\": \\\"1.19.0\\\", \\\"azureml-automl-runtime\\\": \\\"1.19.0\\\", \\\"azureml-automl-core\\\": \\\"1.19.0\\\", \\\"azureml-accel-models\\\": \\\"1.19.0\\\"}\", \"_aml_system_scenario_identification\": \"Local.Parent\", \"ClientSdkVersion\": \"1.19.0\", \"ClientType\": \"SDK\", \"environment_cpu_name\": \"AzureML-AutoML\", \"environment_cpu_label\": \"prod\", \"environment_gpu_name\": \"AzureML-AutoML-GPU\", \"environment_gpu_label\": \"prod\", \"root_attribution\": \"automl\", \"attribution\": \"AutoML\", \"Orchestrator\": \"AutoML\", \"_azureml.ComputeTargetType\": \"local\", \"ProblemInfoJsonString\": \"{\\\"dataset_num_categorical\\\": 0, \\\"is_sparse\\\": false, \\\"subsampling\\\": false, \\\"dataset_classes\\\": 4, \\\"dataset_features\\\": 10, \\\"dataset_samples\\\": 2205, \\\"single_frequency_class_detected\\\": false}\", \"feature_skus\": \"automatedml_sdk_guardrails\"}, \"tags\": {\"model_explain_run\": \"best_run\", \"best_score\": \"0.8291851395056247\", \"best_pipeline\": \"StackEnsemble\", \"automl_best_child_run_id\": \"AutoML_6d831474-2d36-4cb2-9b14-3f73c4abb223_32\", \"model_explain_best_run_child_id\": \"AutoML_6d831474-2d36-4cb2-9b14-3f73c4abb223_32\"}, \"end_time_utc\": \"2021-01-05T01:20:11.705575Z\", \"status\": \"Completed\", \"log_files\": {}, \"log_groups\": [], \"run_duration\": \"0:16:18\"}, \"child_runs\": [{\"run_id\": \"AutoML_6d831474-2d36-4cb2-9b14-3f73c4abb223_0\", \"run_number\": 73, \"metric\": null, \"status\": \"Completed\", \"run_type\": null, \"training_percent\": \"100\", \"start_time\": \"2021-01-05T01:03:59.248119Z\", \"end_time\": \"2021-01-05T01:04:24.847522Z\", \"created_time\": \"2021-01-05T01:03:59.125331Z\", \"created_time_dt\": \"2021-01-05T01:03:59.125331Z\", \"duration\": \"0:00:25\", \"iteration\": \"0\", \"goal\": \"r2_score_max\", \"run_name\": \"MaxAbsScaler, LightGBM\", \"run_properties\": \"copy=True\", \"primary_metric\": 0.79129792, \"best_metric\": 0.79129792}, {\"run_id\": \"AutoML_6d831474-2d36-4cb2-9b14-3f73c4abb223_1\", \"run_number\": 74, \"metric\": null, \"status\": \"Completed\", \"run_type\": null, \"training_percent\": \"100\", \"start_time\": \"2021-01-05T01:04:25.171258Z\", \"end_time\": \"2021-01-05T01:04:58.415186Z\", \"created_time\": \"2021-01-05T01:04:25.036837Z\", \"created_time_dt\": \"2021-01-05T01:04:25.036837Z\", \"duration\": \"0:00:33\", \"iteration\": \"1\", \"goal\": \"r2_score_max\", \"run_name\": \"MaxAbsScaler, XGBoostRegressor\", \"run_properties\": \"copy=True\", \"primary_metric\": 0.67245649, \"best_metric\": 0.79129792}, {\"run_id\": \"AutoML_6d831474-2d36-4cb2-9b14-3f73c4abb223_2\", \"run_number\": 75, \"metric\": null, \"status\": \"Completed\", \"run_type\": null, \"training_percent\": \"100\", \"start_time\": \"2021-01-05T01:04:59.211431Z\", \"end_time\": \"2021-01-05T01:05:23.306456Z\", \"created_time\": \"2021-01-05T01:04:59.116917Z\", \"created_time_dt\": \"2021-01-05T01:04:59.116917Z\", \"duration\": \"0:00:24\", \"iteration\": \"2\", \"goal\": \"r2_score_max\", \"run_name\": \"SparseNormalizer, XGBoostRegressor\", \"run_properties\": \"<azureml.automl.runtime.shared.model_wrappers.SparseNormalizer object at 0x7f7b3415ad30\", \"primary_metric\": 0.67919943, \"best_metric\": 0.79129792}, {\"run_id\": \"AutoML_6d831474-2d36-4cb2-9b14-3f73c4abb223_3\", \"run_number\": 76, \"metric\": null, \"status\": \"Completed\", \"run_type\": null, \"training_percent\": \"100\", \"start_time\": \"2021-01-05T01:05:24.82856Z\", \"end_time\": \"2021-01-05T01:05:54.419043Z\", \"created_time\": \"2021-01-05T01:05:24.718469Z\", \"created_time_dt\": \"2021-01-05T01:05:24.718469Z\", \"duration\": \"0:00:29\", \"iteration\": \"3\", \"goal\": \"r2_score_max\", \"run_name\": \"MaxAbsScaler, RandomForest\", \"run_properties\": \"copy=True\", \"primary_metric\": 0.68850051, \"best_metric\": 0.79129792}, {\"run_id\": \"AutoML_6d831474-2d36-4cb2-9b14-3f73c4abb223_4\", \"run_number\": 77, \"metric\": null, \"status\": \"Completed\", \"run_type\": null, \"training_percent\": \"100\", \"start_time\": \"2021-01-05T01:05:55.812724Z\", \"end_time\": \"2021-01-05T01:06:21.888167Z\", \"created_time\": \"2021-01-05T01:05:55.700303Z\", \"created_time_dt\": \"2021-01-05T01:05:55.700303Z\", \"duration\": \"0:00:26\", \"iteration\": \"4\", \"goal\": \"r2_score_max\", \"run_name\": \"StandardScalerWrapper, XGBoostRegressor\", \"run_properties\": \"<azureml.automl.runtime.shared.model_wrappers.StandardScalerWrapper object at 0x7f7b6d2c5be0\", \"primary_metric\": 0.80864174, \"best_metric\": 0.80864174}, {\"run_id\": \"AutoML_6d831474-2d36-4cb2-9b14-3f73c4abb223_5\", \"run_number\": 78, \"metric\": null, \"status\": \"Completed\", \"run_type\": null, \"training_percent\": \"100\", \"start_time\": \"2021-01-05T01:06:23.307086Z\", \"end_time\": \"2021-01-05T01:06:46.642061Z\", \"created_time\": \"2021-01-05T01:06:23.1958Z\", \"created_time_dt\": \"2021-01-05T01:06:23.1958Z\", \"duration\": \"0:00:23\", \"iteration\": \"5\", \"goal\": \"r2_score_max\", \"run_name\": \"MaxAbsScaler, ElasticNet\", \"run_properties\": \"copy=True\", \"primary_metric\": 0.27506509, \"best_metric\": 0.80864174}, {\"run_id\": \"AutoML_6d831474-2d36-4cb2-9b14-3f73c4abb223_6\", \"run_number\": 79, \"metric\": null, \"status\": \"Completed\", \"run_type\": null, \"training_percent\": \"100\", \"start_time\": \"2021-01-05T01:06:48.077695Z\", \"end_time\": \"2021-01-05T01:07:24.492712Z\", \"created_time\": \"2021-01-05T01:06:47.969302Z\", \"created_time_dt\": \"2021-01-05T01:06:47.969302Z\", \"duration\": \"0:00:36\", \"iteration\": \"6\", \"goal\": \"r2_score_max\", \"run_name\": \"MinMaxScaler, RandomForest\", \"run_properties\": \"copy=True, feature_range=(0, 1\", \"primary_metric\": 0.6576131, \"best_metric\": 0.80864174}, {\"run_id\": \"AutoML_6d831474-2d36-4cb2-9b14-3f73c4abb223_7\", \"run_number\": 80, \"metric\": null, \"status\": \"Completed\", \"run_type\": null, \"training_percent\": \"100\", \"start_time\": \"2021-01-05T01:07:26.317032Z\", \"end_time\": \"2021-01-05T01:07:51.599056Z\", \"created_time\": \"2021-01-05T01:07:26.028333Z\", \"created_time_dt\": \"2021-01-05T01:07:26.028333Z\", \"duration\": \"0:00:25\", \"iteration\": \"7\", \"goal\": \"r2_score_max\", \"run_name\": \"StandardScalerWrapper, XGBoostRegressor\", \"run_properties\": \"<azureml.automl.runtime.shared.model_wrappers.StandardScalerWrapper object at 0x7f7b6d2c5e48\", \"primary_metric\": 0.79410411, \"best_metric\": 0.80864174}, {\"run_id\": \"AutoML_6d831474-2d36-4cb2-9b14-3f73c4abb223_8\", \"run_number\": 81, \"metric\": null, \"status\": \"Completed\", \"run_type\": null, \"training_percent\": \"100\", \"start_time\": \"2021-01-05T01:07:53.363528Z\", \"end_time\": \"2021-01-05T01:08:17.901982Z\", \"created_time\": \"2021-01-05T01:07:53.252639Z\", \"created_time_dt\": \"2021-01-05T01:07:53.252639Z\", \"duration\": \"0:00:24\", \"iteration\": \"8\", \"goal\": \"r2_score_max\", \"run_name\": \"MinMaxScaler, ExtremeRandomTrees\", \"run_properties\": \"copy=True, feature_range=(0, 1\", \"primary_metric\": 0.77188259, \"best_metric\": 0.80864174}, {\"run_id\": \"AutoML_6d831474-2d36-4cb2-9b14-3f73c4abb223_9\", \"run_number\": 82, \"metric\": null, \"status\": \"Completed\", \"run_type\": null, \"training_percent\": \"100\", \"start_time\": \"2021-01-05T01:08:19.437071Z\", \"end_time\": \"2021-01-05T01:08:42.885477Z\", \"created_time\": \"2021-01-05T01:08:19.327835Z\", \"created_time_dt\": \"2021-01-05T01:08:19.327835Z\", \"duration\": \"0:00:23\", \"iteration\": \"9\", \"goal\": \"r2_score_max\", \"run_name\": \"StandardScalerWrapper, ElasticNet\", \"run_properties\": \"<azureml.automl.runtime.shared.model_wrappers.StandardScalerWrapper object at 0x7f7b6c230c88\", \"primary_metric\": 0.1036744, \"best_metric\": 0.80864174}, {\"run_id\": \"AutoML_6d831474-2d36-4cb2-9b14-3f73c4abb223_10\", \"run_number\": 83, \"metric\": null, \"status\": \"Completed\", \"run_type\": null, \"training_percent\": \"100\", \"start_time\": \"2021-01-05T01:08:45.025459Z\", \"end_time\": \"2021-01-05T01:09:20.837729Z\", \"created_time\": \"2021-01-05T01:08:44.735212Z\", \"created_time_dt\": \"2021-01-05T01:08:44.735212Z\", \"duration\": \"0:00:36\", \"iteration\": \"10\", \"goal\": \"r2_score_max\", \"run_name\": \"MinMaxScaler, RandomForest\", \"run_properties\": \"copy=True, feature_range=(0, 1\", \"primary_metric\": 0.78534266, \"best_metric\": 0.80864174}, {\"run_id\": \"AutoML_6d831474-2d36-4cb2-9b14-3f73c4abb223_11\", \"run_number\": 84, \"metric\": null, \"status\": \"Completed\", \"run_type\": null, \"training_percent\": \"100\", \"start_time\": \"2021-01-05T01:09:23.102809Z\", \"end_time\": \"2021-01-05T01:09:46.488736Z\", \"created_time\": \"2021-01-05T01:09:22.786843Z\", \"created_time_dt\": \"2021-01-05T01:09:22.786843Z\", \"duration\": \"0:00:23\", \"iteration\": \"11\", \"goal\": \"r2_score_max\", \"run_name\": \"MinMaxScaler, RandomForest\", \"run_properties\": \"copy=True, feature_range=(0, 1\", \"primary_metric\": 0.70413021, \"best_metric\": 0.80864174}, {\"run_id\": \"AutoML_6d831474-2d36-4cb2-9b14-3f73c4abb223_12\", \"run_number\": 85, \"metric\": null, \"status\": \"Completed\", \"run_type\": null, \"training_percent\": \"100\", \"start_time\": \"2021-01-05T01:09:48.126835Z\", \"end_time\": \"2021-01-05T01:10:12.161937Z\", \"created_time\": \"2021-01-05T01:09:48.010725Z\", \"created_time_dt\": \"2021-01-05T01:09:48.010725Z\", \"duration\": \"0:00:24\", \"iteration\": \"12\", \"goal\": \"r2_score_max\", \"run_name\": \"StandardScalerWrapper, XGBoostRegressor\", \"run_properties\": \"<azureml.automl.runtime.shared.model_wrappers.StandardScalerWrapper object at 0x7f7bdd45d2e8\", \"primary_metric\": 0.21900661, \"best_metric\": 0.80864174}, {\"run_id\": \"AutoML_6d831474-2d36-4cb2-9b14-3f73c4abb223_13\", \"run_number\": 86, \"metric\": null, \"status\": \"Completed\", \"run_type\": null, \"training_percent\": \"100\", \"start_time\": \"2021-01-05T01:10:13.876397Z\", \"end_time\": \"2021-01-05T01:10:41.727788Z\", \"created_time\": \"2021-01-05T01:10:13.775609Z\", \"created_time_dt\": \"2021-01-05T01:10:13.775609Z\", \"duration\": \"0:00:27\", \"iteration\": \"13\", \"goal\": \"r2_score_max\", \"run_name\": \"RobustScaler, LassoLars\", \"run_properties\": \"copy=True, quantile_range=[10, 90], with_centering=False,\\n             with_scaling=True\", \"primary_metric\": 0.28157744, \"best_metric\": 0.80864174}, {\"run_id\": \"AutoML_6d831474-2d36-4cb2-9b14-3f73c4abb223_14\", \"run_number\": 87, \"metric\": null, \"status\": \"Completed\", \"run_type\": null, \"training_percent\": \"100\", \"start_time\": \"2021-01-05T01:10:43.315083Z\", \"end_time\": \"2021-01-05T01:11:08.941161Z\", \"created_time\": \"2021-01-05T01:10:43.206429Z\", \"created_time_dt\": \"2021-01-05T01:10:43.206429Z\", \"duration\": \"0:00:25\", \"iteration\": \"14\", \"goal\": \"r2_score_max\", \"run_name\": \"MinMaxScaler, ExtremeRandomTrees\", \"run_properties\": \"copy=True, feature_range=(0, 1\", \"primary_metric\": 0.79974395, \"best_metric\": 0.80864174}, {\"run_id\": \"AutoML_6d831474-2d36-4cb2-9b14-3f73c4abb223_15\", \"run_number\": 88, \"metric\": null, \"status\": \"Completed\", \"run_type\": null, \"training_percent\": \"100\", \"start_time\": \"2021-01-05T01:11:11.06566Z\", \"end_time\": \"2021-01-05T01:11:34.378694Z\", \"created_time\": \"2021-01-05T01:11:10.69094Z\", \"created_time_dt\": \"2021-01-05T01:11:10.69094Z\", \"duration\": \"0:00:23\", \"iteration\": \"15\", \"goal\": \"r2_score_max\", \"run_name\": \"MaxAbsScaler, ExtremeRandomTrees\", \"run_properties\": \"copy=True\", \"primary_metric\": 0.35530847, \"best_metric\": 0.80864174}, {\"run_id\": \"AutoML_6d831474-2d36-4cb2-9b14-3f73c4abb223_16\", \"run_number\": 89, \"metric\": null, \"status\": \"Completed\", \"run_type\": null, \"training_percent\": \"100\", \"start_time\": \"2021-01-05T01:11:35.794053Z\", \"end_time\": \"2021-01-05T01:12:01.282625Z\", \"created_time\": \"2021-01-05T01:11:35.68848Z\", \"created_time_dt\": \"2021-01-05T01:11:35.68848Z\", \"duration\": \"0:00:25\", \"iteration\": \"16\", \"goal\": \"r2_score_max\", \"run_name\": \"MinMaxScaler, ExtremeRandomTrees\", \"run_properties\": \"copy=True, feature_range=(0, 1\", \"primary_metric\": 0.74496679, \"best_metric\": 0.80864174}, {\"run_id\": \"AutoML_6d831474-2d36-4cb2-9b14-3f73c4abb223_17\", \"run_number\": 90, \"metric\": null, \"status\": \"Completed\", \"run_type\": null, \"training_percent\": \"100\", \"start_time\": \"2021-01-05T01:12:02.806527Z\", \"end_time\": \"2021-01-05T01:12:26.845173Z\", \"created_time\": \"2021-01-05T01:12:02.702896Z\", \"created_time_dt\": \"2021-01-05T01:12:02.702896Z\", \"duration\": \"0:00:24\", \"iteration\": \"17\", \"goal\": \"r2_score_max\", \"run_name\": \"MaxAbsScaler, ElasticNet\", \"run_properties\": \"copy=True\", \"primary_metric\": 0.06555113, \"best_metric\": 0.80864174}, {\"run_id\": \"AutoML_6d831474-2d36-4cb2-9b14-3f73c4abb223_18\", \"run_number\": 91, \"metric\": null, \"status\": \"Completed\", \"run_type\": null, \"training_percent\": \"100\", \"start_time\": \"2021-01-05T01:12:28.882474Z\", \"end_time\": \"2021-01-05T01:12:52.09607Z\", \"created_time\": \"2021-01-05T01:12:28.579439Z\", \"created_time_dt\": \"2021-01-05T01:12:28.579439Z\", \"duration\": \"0:00:23\", \"iteration\": \"18\", \"goal\": \"r2_score_max\", \"run_name\": \"MinMaxScaler, RandomForest\", \"run_properties\": \"copy=True, feature_range=(0, 1\", \"primary_metric\": 0.43558946, \"best_metric\": 0.80864174}, {\"run_id\": \"AutoML_6d831474-2d36-4cb2-9b14-3f73c4abb223_19\", \"run_number\": 92, \"metric\": null, \"status\": \"Completed\", \"run_type\": null, \"training_percent\": \"100\", \"start_time\": \"2021-01-05T01:12:53.541176Z\", \"end_time\": \"2021-01-05T01:13:18.203835Z\", \"created_time\": \"2021-01-05T01:12:53.431864Z\", \"created_time_dt\": \"2021-01-05T01:12:53.431864Z\", \"duration\": \"0:00:24\", \"iteration\": \"19\", \"goal\": \"r2_score_max\", \"run_name\": \"MaxAbsScaler, RandomForest\", \"run_properties\": \"copy=True\", \"primary_metric\": 0.62240043, \"best_metric\": 0.80864174}, {\"run_id\": \"AutoML_6d831474-2d36-4cb2-9b14-3f73c4abb223_20\", \"run_number\": 93, \"metric\": null, \"status\": \"Completed\", \"run_type\": null, \"training_percent\": \"100\", \"start_time\": \"2021-01-05T01:13:19.658073Z\", \"end_time\": \"2021-01-05T01:13:43.104017Z\", \"created_time\": \"2021-01-05T01:13:19.532471Z\", \"created_time_dt\": \"2021-01-05T01:13:19.532471Z\", \"duration\": \"0:00:23\", \"iteration\": \"20\", \"goal\": \"r2_score_max\", \"run_name\": \"RobustScaler, ElasticNet\", \"run_properties\": \"copy=True, quantile_range=[10, 90], with_centering=True,\\n             with_scaling=False\", \"primary_metric\": 0.27122094, \"best_metric\": 0.80864174}, {\"run_id\": \"AutoML_6d831474-2d36-4cb2-9b14-3f73c4abb223_21\", \"run_number\": 94, \"metric\": null, \"status\": \"Completed\", \"run_type\": null, \"training_percent\": \"100\", \"start_time\": \"2021-01-05T01:13:44.823144Z\", \"end_time\": \"2021-01-05T01:14:15.917151Z\", \"created_time\": \"2021-01-05T01:13:44.70755Z\", \"created_time_dt\": \"2021-01-05T01:13:44.70755Z\", \"duration\": \"0:00:31\", \"iteration\": \"21\", \"goal\": \"r2_score_max\", \"run_name\": \"StandardScalerWrapper, RandomForest\", \"run_properties\": \"<azureml.automl.runtime.shared.model_wrappers.StandardScalerWrapper object at 0x7f7b62743748\", \"primary_metric\": 0.53920175, \"best_metric\": 0.80864174}, {\"run_id\": \"AutoML_6d831474-2d36-4cb2-9b14-3f73c4abb223_22\", \"run_number\": 95, \"metric\": null, \"status\": \"Completed\", \"run_type\": null, \"training_percent\": \"100\", \"start_time\": \"2021-01-05T01:14:18.516714Z\", \"end_time\": \"2021-01-05T01:15:00.505854Z\", \"created_time\": \"2021-01-05T01:14:18.058898Z\", \"created_time_dt\": \"2021-01-05T01:14:18.058898Z\", \"duration\": \"0:00:42\", \"iteration\": \"22\", \"goal\": \"r2_score_max\", \"run_name\": \"StandardScalerWrapper, RandomForest\", \"run_properties\": \"<azureml.automl.runtime.shared.model_wrappers.StandardScalerWrapper object at 0x7f7b626eecf8\", \"primary_metric\": 0.80308108, \"best_metric\": 0.80864174}, {\"run_id\": \"AutoML_6d831474-2d36-4cb2-9b14-3f73c4abb223_23\", \"run_number\": 96, \"metric\": null, \"status\": \"Completed\", \"run_type\": null, \"training_percent\": \"100\", \"start_time\": \"2021-01-05T01:15:03.269647Z\", \"end_time\": \"2021-01-05T01:15:28.422063Z\", \"created_time\": \"2021-01-05T01:15:02.822463Z\", \"created_time_dt\": \"2021-01-05T01:15:02.822463Z\", \"duration\": \"0:00:25\", \"iteration\": \"23\", \"goal\": \"r2_score_max\", \"run_name\": \"SparseNormalizer, XGBoostRegressor\", \"run_properties\": \"<azureml.automl.runtime.shared.model_wrappers.SparseNormalizer object at 0x7f7b62356e80\", \"primary_metric\": 0.09675177, \"best_metric\": 0.80864174}, {\"run_id\": \"AutoML_6d831474-2d36-4cb2-9b14-3f73c4abb223_24\", \"run_number\": 97, \"metric\": null, \"status\": \"Completed\", \"run_type\": null, \"training_percent\": \"100\", \"start_time\": \"2021-01-05T01:15:29.729104Z\", \"end_time\": \"2021-01-05T01:15:55.323614Z\", \"created_time\": \"2021-01-05T01:15:29.616241Z\", \"created_time_dt\": \"2021-01-05T01:15:29.616241Z\", \"duration\": \"0:00:25\", \"iteration\": \"24\", \"goal\": \"r2_score_max\", \"run_name\": \"RobustScaler, GradientBoosting\", \"run_properties\": \"copy=True, quantile_range=[10, 90], with_centering=True,\\n             with_scaling=False\", \"primary_metric\": 0.70357137, \"best_metric\": 0.80864174}, {\"run_id\": \"AutoML_6d831474-2d36-4cb2-9b14-3f73c4abb223_25\", \"run_number\": 98, \"metric\": null, \"status\": \"Completed\", \"run_type\": null, \"training_percent\": \"100\", \"start_time\": \"2021-01-05T01:15:57.723367Z\", \"end_time\": \"2021-01-05T01:16:48.12459Z\", \"created_time\": \"2021-01-05T01:15:57.616645Z\", \"created_time_dt\": \"2021-01-05T01:15:57.616645Z\", \"duration\": \"0:00:50\", \"iteration\": \"25\", \"goal\": \"r2_score_max\", \"run_name\": \"PCA, XGBoostRegressor\", \"run_properties\": \"copy=True, iterated_power='auto', n_components=0.8015789473684211,\\n    random_state=None, svd_solver='auto', tol=0.0, whiten=True\", \"primary_metric\": 0.1941373, \"best_metric\": 0.80864174}, {\"run_id\": \"AutoML_6d831474-2d36-4cb2-9b14-3f73c4abb223_26\", \"run_number\": 99, \"metric\": null, \"status\": \"Completed\", \"run_type\": null, \"training_percent\": \"100\", \"start_time\": \"2021-01-05T01:16:49.439803Z\", \"end_time\": \"2021-01-05T01:17:16.204569Z\", \"created_time\": \"2021-01-05T01:16:49.340412Z\", \"created_time_dt\": \"2021-01-05T01:16:49.340412Z\", \"duration\": \"0:00:26\", \"iteration\": \"26\", \"goal\": \"r2_score_max\", \"run_name\": \"MaxAbsScaler, ExtremeRandomTrees\", \"run_properties\": \"copy=True\", \"primary_metric\": 0.58787827, \"best_metric\": 0.80864174}, {\"run_id\": \"AutoML_6d831474-2d36-4cb2-9b14-3f73c4abb223_27\", \"run_number\": 100, \"metric\": null, \"status\": \"Completed\", \"run_type\": null, \"training_percent\": \"100\", \"start_time\": \"2021-01-05T01:17:17.562188Z\", \"end_time\": \"2021-01-05T01:17:47.597127Z\", \"created_time\": \"2021-01-05T01:17:17.443095Z\", \"created_time_dt\": \"2021-01-05T01:17:17.443095Z\", \"duration\": \"0:00:30\", \"iteration\": \"27\", \"goal\": \"r2_score_max\", \"run_name\": \"StandardScalerWrapper, LightGBM\", \"run_properties\": \"<azureml.automl.runtime.shared.model_wrappers.StandardScalerWrapper object at 0x7f7b6c254b70\", \"primary_metric\": 0.63765944, \"best_metric\": 0.80864174}, {\"run_id\": \"AutoML_6d831474-2d36-4cb2-9b14-3f73c4abb223_28\", \"run_number\": 101, \"metric\": null, \"status\": \"Completed\", \"run_type\": null, \"training_percent\": \"100\", \"start_time\": \"2021-01-05T01:17:48.948645Z\", \"end_time\": \"2021-01-05T01:18:12.470466Z\", \"created_time\": \"2021-01-05T01:17:48.813573Z\", \"created_time_dt\": \"2021-01-05T01:17:48.813573Z\", \"duration\": \"0:00:23\", \"iteration\": \"28\", \"goal\": \"r2_score_max\", \"run_name\": \"StandardScalerWrapper, LightGBM\", \"run_properties\": \"<azureml.automl.runtime.shared.model_wrappers.StandardScalerWrapper object at 0x7f7b62437358\", \"primary_metric\": 0.64841648, \"best_metric\": 0.80864174}, {\"run_id\": \"AutoML_6d831474-2d36-4cb2-9b14-3f73c4abb223_29\", \"run_number\": 102, \"metric\": null, \"status\": \"Completed\", \"run_type\": null, \"training_percent\": \"100\", \"start_time\": \"2021-01-05T01:18:13.948744Z\", \"end_time\": \"2021-01-05T01:18:42.740436Z\", \"created_time\": \"2021-01-05T01:18:13.818212Z\", \"created_time_dt\": \"2021-01-05T01:18:13.818212Z\", \"duration\": \"0:00:28\", \"iteration\": \"29\", \"goal\": \"r2_score_max\", \"run_name\": \"RobustScaler, RandomForest\", \"run_properties\": \"copy=True, quantile_range=[10, 90], with_centering=True,\\n             with_scaling=False\", \"primary_metric\": 0.6926473, \"best_metric\": 0.80864174}, {\"run_id\": \"AutoML_6d831474-2d36-4cb2-9b14-3f73c4abb223_30\", \"run_number\": 103, \"metric\": null, \"status\": \"Completed\", \"run_type\": null, \"training_percent\": \"100\", \"start_time\": \"2021-01-05T01:18:45.094482Z\", \"end_time\": \"2021-01-05T01:19:08.744395Z\", \"created_time\": \"2021-01-05T01:18:44.980284Z\", \"created_time_dt\": \"2021-01-05T01:18:44.980284Z\", \"duration\": \"0:00:23\", \"iteration\": \"30\", \"goal\": \"r2_score_max\", \"run_name\": \"TruncatedSVDWrapper, XGBoostRegressor\", \"run_properties\": \"n_components=0.3563157894736842, random_state=None\", \"primary_metric\": 0.67942318, \"best_metric\": 0.80864174}, {\"run_id\": \"AutoML_6d831474-2d36-4cb2-9b14-3f73c4abb223_31\", \"run_number\": 104, \"metric\": null, \"status\": \"Completed\", \"run_type\": null, \"training_percent\": \"100\", \"start_time\": \"2021-01-05T01:19:09.09978Z\", \"end_time\": \"2021-01-05T01:19:38.739047Z\", \"created_time\": \"2021-01-05T01:19:08.984337Z\", \"created_time_dt\": \"2021-01-05T01:19:08.984337Z\", \"duration\": \"0:00:29\", \"iteration\": \"31\", \"goal\": \"r2_score_max\", \"run_name\": \"VotingEnsemble\", \"run_properties\": \"estimators=[('4',\\n                                          Pipeline(memory=None,\\n                                                   steps=[('standardscalerwrapper',\\n                                                           <azureml.automl.runtime.shared.model_wrappers.StandardScalerWrapper object at 0x7f7bbb0ee588>\", \"primary_metric\": 0.82526825, \"best_metric\": 0.82526825}, {\"run_id\": \"AutoML_6d831474-2d36-4cb2-9b14-3f73c4abb223_32\", \"run_number\": 105, \"metric\": null, \"status\": \"Completed\", \"run_type\": null, \"training_percent\": \"100\", \"start_time\": \"2021-01-05T01:19:39.502215Z\", \"end_time\": \"2021-01-05T01:20:09.08277Z\", \"created_time\": \"2021-01-05T01:19:39.35893Z\", \"created_time_dt\": \"2021-01-05T01:19:39.35893Z\", \"duration\": \"0:00:29\", \"iteration\": \"32\", \"goal\": \"r2_score_max\", \"run_name\": \"StackEnsemble\", \"run_properties\": \"base_learners=[('4',\\n                                       Pipeline(memory=None,\\n                                                steps=[('standardscalerwrapper',\\n                                                        <azureml.automl.runtime.shared.model_wrappers.StandardScalerWrapper object at 0x7f7b4406c160>\", \"primary_metric\": 0.82918514, \"best_metric\": 0.82918514}], \"children_metrics\": {\"categories\": [0], \"series\": {\"normalized_median_absolute_error\": [{\"categories\": [\"0\", \"1\", \"2\", \"3\", \"4\", \"5\", \"6\", \"7\", \"8\", \"9\", \"10\", \"11\", \"12\", \"13\", \"14\", \"15\", \"16\", \"17\", \"18\", \"19\", \"20\", \"21\", \"22\", \"23\", \"24\", \"25\", \"26\", \"27\", \"28\", \"29\", \"30\", \"31\", \"32\"], \"mode\": \"markers\", \"name\": \"normalized_median_absolute_error\", \"stepped\": false, \"type\": \"scatter\", \"data\": [0.0629558276239716, 0.12816591616030093, 0.11250785545066551, 0.11354204277479878, 0.04487157751012732, 0.26538350175250636, 0.11820617055450926, 0.07133964256004051, 0.0815152597639696, 0.32683280018922695, 0.0680239564961786, 0.11266433203688071, 0.2902166107554494, 0.2514057644939441, 0.05967078189300423, 0.21788933829982804, 0.09325209918747819, 0.3357410732324739, 0.2001208067736654, 0.13377219541154298, 0.26342066605773, 0.17996024769164473, 0.05907716865895924, 0.314808127320843, 0.11207306666668986, 0.2471641257957176, 0.17473956607309118, 0.13489495166866614, 0.14422052829173623, 0.11015983245149903, 0.1206714959792149, 0.055588588527609804, 0.046215290895671085]}, {\"categories\": [\"0\", \"1\", \"2\", \"3\", \"4\", \"5\", \"6\", \"7\", \"8\", \"9\", \"10\", \"11\", \"12\", \"13\", \"14\", \"15\", \"16\", \"17\", \"18\", \"19\", \"20\", \"21\", \"22\", \"23\", \"24\", \"25\", \"26\", \"27\", \"28\", \"29\", \"30\", \"31\", \"32\"], \"mode\": \"lines\", \"name\": \"normalized_median_absolute_error_min\", \"stepped\": true, \"type\": \"scatter\", \"data\": [0.0629558276239716, 0.0629558276239716, 0.0629558276239716, 0.0629558276239716, 0.04487157751012732, 0.04487157751012732, 0.04487157751012732, 0.04487157751012732, 0.04487157751012732, 0.04487157751012732, 0.04487157751012732, 0.04487157751012732, 0.04487157751012732, 0.04487157751012732, 0.04487157751012732, 0.04487157751012732, 0.04487157751012732, 0.04487157751012732, 0.04487157751012732, 0.04487157751012732, 0.04487157751012732, 0.04487157751012732, 0.04487157751012732, 0.04487157751012732, 0.04487157751012732, 0.04487157751012732, 0.04487157751012732, 0.04487157751012732, 0.04487157751012732, 0.04487157751012732, 0.04487157751012732, 0.04487157751012732, 0.04487157751012732]}], \"root_mean_squared_error\": [{\"categories\": [\"0\", \"1\", \"2\", \"3\", \"4\", \"5\", \"6\", \"7\", \"8\", \"9\", \"10\", \"11\", \"12\", \"13\", \"14\", \"15\", \"16\", \"17\", \"18\", \"19\", \"20\", \"21\", \"22\", \"23\", \"24\", \"25\", \"26\", \"27\", \"28\", \"29\", \"30\", \"31\", \"32\"], \"mode\": \"markers\", \"name\": \"root_mean_squared_error\", \"stepped\": false, \"type\": \"scatter\", \"data\": [4.875089575180048, 6.107899663162551, 6.044503980125604, 5.957323882992493, 4.664488276177249, 9.086417091828677, 6.245938000690045, 4.838606284686185, 5.097253166712083, 10.105284966211508, 4.941521169509483, 5.805203871868254, 9.430883842578936, 9.045391673841115, 4.773985527113582, 8.56987558407794, 5.390263365993331, 10.31782736087788, 8.019284468996391, 6.558247979030682, 9.110432449240884, 7.246004519176036, 4.7300490375792705, 10.140787211180177, 5.809431597010089, 9.58159978735676, 6.852618821656219, 6.424755439531208, 6.328776215901293, 5.91540417489788, 6.041070770660249, 4.457431595281957, 4.406178189541916]}, {\"categories\": [\"0\", \"1\", \"2\", \"3\", \"4\", \"5\", \"6\", \"7\", \"8\", \"9\", \"10\", \"11\", \"12\", \"13\", \"14\", \"15\", \"16\", \"17\", \"18\", \"19\", \"20\", \"21\", \"22\", \"23\", \"24\", \"25\", \"26\", \"27\", \"28\", \"29\", \"30\", \"31\", \"32\"], \"mode\": \"lines\", \"name\": \"root_mean_squared_error_min\", \"stepped\": true, \"type\": \"scatter\", \"data\": [4.875089575180048, 4.875089575180048, 4.875089575180048, 4.875089575180048, 4.664488276177249, 4.664488276177249, 4.664488276177249, 4.664488276177249, 4.664488276177249, 4.664488276177249, 4.664488276177249, 4.664488276177249, 4.664488276177249, 4.664488276177249, 4.664488276177249, 4.664488276177249, 4.664488276177249, 4.664488276177249, 4.664488276177249, 4.664488276177249, 4.664488276177249, 4.664488276177249, 4.664488276177249, 4.664488276177249, 4.664488276177249, 4.664488276177249, 4.664488276177249, 4.664488276177249, 4.664488276177249, 4.664488276177249, 4.664488276177249, 4.457431595281957, 4.406178189541916]}], \"mean_absolute_error\": [{\"categories\": [\"0\", \"1\", \"2\", \"3\", \"4\", \"5\", \"6\", \"7\", \"8\", \"9\", \"10\", \"11\", \"12\", \"13\", \"14\", \"15\", \"16\", \"17\", \"18\", \"19\", \"20\", \"21\", \"22\", \"23\", \"24\", \"25\", \"26\", \"27\", \"28\", \"29\", \"30\", \"31\", \"32\"], \"mode\": \"markers\", \"name\": \"mean_absolute_error\", \"stepped\": false, \"type\": \"scatter\", \"data\": [3.1050349058393336, 4.530552995123831, 4.3065632273010115, 4.256836017235594, 2.7762822330673806, 7.717330988635145, 4.38053120312263, 3.17233325153792, 3.479010336275428, 8.950589110518422, 3.2120379308689966, 4.099064136412862, 7.77501353222767, 7.62769009832704, 3.003467600175083, 7.091830550574497, 3.771489774478065, 9.12268190832455, 6.078102301430474, 4.647240179394043, 7.6404313633257095, 5.530195943268403, 2.962670913568249, 8.611444621183436, 4.198213952226653, 7.85768236778761, 5.336773093611974, 4.872939692617143, 4.745425347709818, 4.1736830849800235, 4.280149630245979, 2.801526524130822, 2.796547942595867]}, {\"categories\": [\"0\", \"1\", \"2\", \"3\", \"4\", \"5\", \"6\", \"7\", \"8\", \"9\", \"10\", \"11\", \"12\", \"13\", \"14\", \"15\", \"16\", \"17\", \"18\", \"19\", \"20\", \"21\", \"22\", \"23\", \"24\", \"25\", \"26\", \"27\", \"28\", \"29\", \"30\", \"31\", \"32\"], \"mode\": \"lines\", \"name\": \"mean_absolute_error_min\", \"stepped\": true, \"type\": \"scatter\", \"data\": [3.1050349058393336, 3.1050349058393336, 3.1050349058393336, 3.1050349058393336, 2.7762822330673806, 2.7762822330673806, 2.7762822330673806, 2.7762822330673806, 2.7762822330673806, 2.7762822330673806, 2.7762822330673806, 2.7762822330673806, 2.7762822330673806, 2.7762822330673806, 2.7762822330673806, 2.7762822330673806, 2.7762822330673806, 2.7762822330673806, 2.7762822330673806, 2.7762822330673806, 2.7762822330673806, 2.7762822330673806, 2.7762822330673806, 2.7762822330673806, 2.7762822330673806, 2.7762822330673806, 2.7762822330673806, 2.7762822330673806, 2.7762822330673806, 2.7762822330673806, 2.7762822330673806, 2.7762822330673806, 2.7762822330673806]}], \"explained_variance\": [{\"categories\": [\"0\", \"1\", \"2\", \"3\", \"4\", \"5\", \"6\", \"7\", \"8\", \"9\", \"10\", \"11\", \"12\", \"13\", \"14\", \"15\", \"16\", \"17\", \"18\", \"19\", \"20\", \"21\", \"22\", \"23\", \"24\", \"25\", \"26\", \"27\", \"28\", \"29\", \"30\", \"31\", \"32\"], \"mode\": \"markers\", \"name\": \"explained_variance\", \"stepped\": false, \"type\": \"scatter\", \"data\": [0.7918308753784015, 0.6749858465087031, 0.6807097170793254, 0.6897587730435362, 0.8090575526506987, 0.2754108829167016, 0.6595838209660653, 0.7948050789635513, 0.7725925200598107, 0.10464043236098075, 0.7860965088906219, 0.7051261176206708, 0.6385218184704019, 0.28202930329366066, 0.8004951105501821, 0.3577098144098729, 0.745762408083778, 0.06657221499043109, 0.4377881834168466, 0.6248259246013362, 0.27153390087017976, 0.5415671770776608, 0.8037893354465409, 0.4758415287019775, 0.7049374949316592, 0.19799501028793112, 0.5893927374646994, 0.6391561053311867, 0.649944007514586, 0.6937841335129269, 0.6813424803704428, 0.8258224142275914, 0.8304305902881373]}, {\"categories\": [\"0\", \"1\", \"2\", \"3\", \"4\", \"5\", \"6\", \"7\", \"8\", \"9\", \"10\", \"11\", \"12\", \"13\", \"14\", \"15\", \"16\", \"17\", \"18\", \"19\", \"20\", \"21\", \"22\", \"23\", \"24\", \"25\", \"26\", \"27\", \"28\", \"29\", \"30\", \"31\", \"32\"], \"mode\": \"lines\", \"name\": \"explained_variance_max\", \"stepped\": true, \"type\": \"scatter\", \"data\": [0.7918308753784015, 0.7918308753784015, 0.7918308753784015, 0.7918308753784015, 0.8090575526506987, 0.8090575526506987, 0.8090575526506987, 0.8090575526506987, 0.8090575526506987, 0.8090575526506987, 0.8090575526506987, 0.8090575526506987, 0.8090575526506987, 0.8090575526506987, 0.8090575526506987, 0.8090575526506987, 0.8090575526506987, 0.8090575526506987, 0.8090575526506987, 0.8090575526506987, 0.8090575526506987, 0.8090575526506987, 0.8090575526506987, 0.8090575526506987, 0.8090575526506987, 0.8090575526506987, 0.8090575526506987, 0.8090575526506987, 0.8090575526506987, 0.8090575526506987, 0.8090575526506987, 0.8258224142275914, 0.8304305902881373]}], \"normalized_root_mean_squared_error\": [{\"categories\": [\"0\", \"1\", \"2\", \"3\", \"4\", \"5\", \"6\", \"7\", \"8\", \"9\", \"10\", \"11\", \"12\", \"13\", \"14\", \"15\", \"16\", \"17\", \"18\", \"19\", \"20\", \"21\", \"22\", \"23\", \"24\", \"25\", \"26\", \"27\", \"28\", \"29\", \"30\", \"31\", \"32\"], \"mode\": \"markers\", \"name\": \"normalized_root_mean_squared_error\", \"stepped\": false, \"type\": \"scatter\", \"data\": [0.18055887315481656, 0.22621850604305746, 0.22387051778242983, 0.22064162529601825, 0.17275882504360177, 0.33653396636402505, 0.23133103706259428, 0.17920764017356242, 0.1887871543226697, 0.37426981356338923, 0.18301930257442525, 0.21500755080993536, 0.3492919941695902, 0.33501450643855973, 0.17681427878198455, 0.3174027994102941, 0.19963938392567893, 0.3821417541065881, 0.2970105358887552, 0.24289807329743263, 0.33742342404595865, 0.26837053774726055, 0.17518700139182483, 0.37558471152519174, 0.2151641332225959, 0.3548740661983985, 0.2538006970983785, 0.23795390516782253, 0.23439911910745526, 0.21908904351473626, 0.22374336187630553, 0.16509005908451693, 0.16319178479784877]}, {\"categories\": [\"0\", \"1\", \"2\", \"3\", \"4\", \"5\", \"6\", \"7\", \"8\", \"9\", \"10\", \"11\", \"12\", \"13\", \"14\", \"15\", \"16\", \"17\", \"18\", \"19\", \"20\", \"21\", \"22\", \"23\", \"24\", \"25\", \"26\", \"27\", \"28\", \"29\", \"30\", \"31\", \"32\"], \"mode\": \"lines\", \"name\": \"normalized_root_mean_squared_error_min\", \"stepped\": true, \"type\": \"scatter\", \"data\": [0.18055887315481656, 0.18055887315481656, 0.18055887315481656, 0.18055887315481656, 0.17275882504360177, 0.17275882504360177, 0.17275882504360177, 0.17275882504360177, 0.17275882504360177, 0.17275882504360177, 0.17275882504360177, 0.17275882504360177, 0.17275882504360177, 0.17275882504360177, 0.17275882504360177, 0.17275882504360177, 0.17275882504360177, 0.17275882504360177, 0.17275882504360177, 0.17275882504360177, 0.17275882504360177, 0.17275882504360177, 0.17275882504360177, 0.17275882504360177, 0.17275882504360177, 0.17275882504360177, 0.17275882504360177, 0.17275882504360177, 0.17275882504360177, 0.17275882504360177, 0.17275882504360177, 0.16509005908451693, 0.16319178479784877]}], \"spearman_correlation\": [{\"categories\": [\"0\", \"1\", \"2\", \"3\", \"4\", \"5\", \"6\", \"7\", \"8\", \"9\", \"10\", \"11\", \"12\", \"13\", \"14\", \"15\", \"16\", \"17\", \"18\", \"19\", \"20\", \"21\", \"22\", \"23\", \"24\", \"25\", \"26\", \"27\", \"28\", \"29\", \"30\", \"31\", \"32\"], \"mode\": \"markers\", \"name\": \"spearman_correlation\", \"stepped\": false, \"type\": \"scatter\", \"data\": [0.8485711176015945, 0.8051031963770484, 0.8041204255943234, 0.8173575712237916, 0.8552771868621841, 0.5312159601901961, 0.7873903616162948, 0.8500734034613764, 0.8492604111043284, 0.44398067007611175, 0.855501935836214, 0.8270594993214709, 0.785202011650823, 0.5272521547799598, 0.8624614275336006, 0.602116153343402, 0.838883689385019, 0.3299608215477569, 0.6589029186160689, 0.7737450474526719, 0.527179428298372, 0.7595048619982808, 0.8598202089580504, 0.7144013652057009, 0.8076642686573424, 0.4595226395129441, 0.8046174048705178, 0.7833976940048583, 0.7980518614917237, 0.826606677939958, 0.7939610374190008, 0.8661095293812838, 0.8662505462738666]}, {\"categories\": [\"0\", \"1\", \"2\", \"3\", \"4\", \"5\", \"6\", \"7\", \"8\", \"9\", \"10\", \"11\", \"12\", \"13\", \"14\", \"15\", \"16\", \"17\", \"18\", \"19\", \"20\", \"21\", \"22\", \"23\", \"24\", \"25\", \"26\", \"27\", \"28\", \"29\", \"30\", \"31\", \"32\"], \"mode\": \"lines\", \"name\": \"spearman_correlation_max\", \"stepped\": true, \"type\": \"scatter\", \"data\": [0.8485711176015945, 0.8485711176015945, 0.8485711176015945, 0.8485711176015945, 0.8552771868621841, 0.8552771868621841, 0.8552771868621841, 0.8552771868621841, 0.8552771868621841, 0.8552771868621841, 0.855501935836214, 0.855501935836214, 0.855501935836214, 0.855501935836214, 0.8624614275336006, 0.8624614275336006, 0.8624614275336006, 0.8624614275336006, 0.8624614275336006, 0.8624614275336006, 0.8624614275336006, 0.8624614275336006, 0.8624614275336006, 0.8624614275336006, 0.8624614275336006, 0.8624614275336006, 0.8624614275336006, 0.8624614275336006, 0.8624614275336006, 0.8624614275336006, 0.8624614275336006, 0.8661095293812838, 0.8662505462738666]}], \"normalized_root_mean_squared_log_error\": [{\"categories\": [\"0\", \"1\", \"2\", \"3\", \"4\", \"5\", \"6\", \"7\", \"8\", \"9\", \"10\", \"11\", \"12\", \"13\", \"14\", \"15\", \"16\", \"17\", \"18\", \"19\", \"20\", \"21\", \"22\", \"23\", \"24\", \"25\", \"26\", \"27\", \"28\", \"29\", \"30\", \"31\", \"32\"], \"mode\": \"markers\", \"name\": \"normalized_root_mean_squared_log_error\", \"stepped\": false, \"type\": \"scatter\", \"data\": [0.1769146202820977, 0.22280578120797653, 0.22024050542259277, 0.2177842628508713, 0.16888145439311816, 0.33252509707664085, 0.2277631130576336, 0.1748953532603863, 0.18493519831114505, 0.37070024607936686, 0.18003535495738685, 0.2123161357581647, 0.33170373552692195, 0.3300714929075311, 0.173146060813792, 0.3165535316528079, 0.19579581292802137, 0.3782171249513146, 0.29490414674993287, 0.23931784942901282, 0.3331775201346794, 0.26693918924576054, 0.1715313546351721, 0.3581153828453784, 0.2110271485935428, 0.35111599567165497, 0.2528657361972362, 0.23363181668177194, 0.23124150951605926, 0.21801953483895053, 0.21884452485450825, 0.16125666282829154, 0.15858056011050628]}, {\"categories\": [\"0\", \"1\", \"2\", \"3\", \"4\", \"5\", \"6\", \"7\", \"8\", \"9\", \"10\", \"11\", \"12\", \"13\", \"14\", \"15\", \"16\", \"17\", \"18\", \"19\", \"20\", \"21\", \"22\", \"23\", \"24\", \"25\", \"26\", \"27\", \"28\", \"29\", \"30\", \"31\", \"32\"], \"mode\": \"lines\", \"name\": \"normalized_root_mean_squared_log_error_min\", \"stepped\": true, \"type\": \"scatter\", \"data\": [0.1769146202820977, 0.1769146202820977, 0.1769146202820977, 0.1769146202820977, 0.16888145439311816, 0.16888145439311816, 0.16888145439311816, 0.16888145439311816, 0.16888145439311816, 0.16888145439311816, 0.16888145439311816, 0.16888145439311816, 0.16888145439311816, 0.16888145439311816, 0.16888145439311816, 0.16888145439311816, 0.16888145439311816, 0.16888145439311816, 0.16888145439311816, 0.16888145439311816, 0.16888145439311816, 0.16888145439311816, 0.16888145439311816, 0.16888145439311816, 0.16888145439311816, 0.16888145439311816, 0.16888145439311816, 0.16888145439311816, 0.16888145439311816, 0.16888145439311816, 0.16888145439311816, 0.16125666282829154, 0.15858056011050628]}], \"normalized_mean_absolute_error\": [{\"categories\": [\"0\", \"1\", \"2\", \"3\", \"4\", \"5\", \"6\", \"7\", \"8\", \"9\", \"10\", \"11\", \"12\", \"13\", \"14\", \"15\", \"16\", \"17\", \"18\", \"19\", \"20\", \"21\", \"22\", \"23\", \"24\", \"25\", \"26\", \"27\", \"28\", \"29\", \"30\", \"31\", \"32\"], \"mode\": \"markers\", \"name\": \"normalized_mean_absolute_error\", \"stepped\": false, \"type\": \"scatter\", \"data\": [0.11500129280886419, 0.16779825907866042, 0.1595023417518893, 0.15766059323094792, 0.10282526789138446, 0.28582707365315346, 0.16224189641194928, 0.11749382413103406, 0.1288522346768677, 0.3315033003895712, 0.11896436780996283, 0.1518171902375134, 0.28796346415658036, 0.2825070406787793, 0.11123954074722531, 0.2626603907620184, 0.13968480646215056, 0.33787710771572405, 0.22511490005298052, 0.1721200066442238, 0.2829789393824336, 0.20482207197290378, 0.1097285523543796, 0.31894239337716423, 0.1554894056380242, 0.2910252728810226, 0.19765826272636944, 0.18047924787470895, 0.1757564943596229, 0.15458085499926014, 0.15852406037948066, 0.10376024163447488, 0.10357584972577283]}, {\"categories\": [\"0\", \"1\", \"2\", \"3\", \"4\", \"5\", \"6\", \"7\", \"8\", \"9\", \"10\", \"11\", \"12\", \"13\", \"14\", \"15\", \"16\", \"17\", \"18\", \"19\", \"20\", \"21\", \"22\", \"23\", \"24\", \"25\", \"26\", \"27\", \"28\", \"29\", \"30\", \"31\", \"32\"], \"mode\": \"lines\", \"name\": \"normalized_mean_absolute_error_min\", \"stepped\": true, \"type\": \"scatter\", \"data\": [0.11500129280886419, 0.11500129280886419, 0.11500129280886419, 0.11500129280886419, 0.10282526789138446, 0.10282526789138446, 0.10282526789138446, 0.10282526789138446, 0.10282526789138446, 0.10282526789138446, 0.10282526789138446, 0.10282526789138446, 0.10282526789138446, 0.10282526789138446, 0.10282526789138446, 0.10282526789138446, 0.10282526789138446, 0.10282526789138446, 0.10282526789138446, 0.10282526789138446, 0.10282526789138446, 0.10282526789138446, 0.10282526789138446, 0.10282526789138446, 0.10282526789138446, 0.10282526789138446, 0.10282526789138446, 0.10282526789138446, 0.10282526789138446, 0.10282526789138446, 0.10282526789138446, 0.10282526789138446, 0.10282526789138446]}], \"root_mean_squared_log_error\": [{\"categories\": [\"0\", \"1\", \"2\", \"3\", \"4\", \"5\", \"6\", \"7\", \"8\", \"9\", \"10\", \"11\", \"12\", \"13\", \"14\", \"15\", \"16\", \"17\", \"18\", \"19\", \"20\", \"21\", \"22\", \"23\", \"24\", \"25\", \"26\", \"27\", \"28\", \"29\", \"30\", \"31\", \"32\"], \"mode\": \"markers\", \"name\": \"root_mean_squared_log_error\", \"stepped\": false, \"type\": \"scatter\", \"data\": [0.055030252159442884, 0.06930494666244001, 0.0685070037162715, 0.06774297614256923, 0.05253149234069932, 0.10343373494113911, 0.07084695162104472, 0.054402148200568046, 0.05752509645608255, 0.1153083220865911, 0.056000973605923904, 0.06604208555324591, 0.10317824597633209, 0.10267052805687897, 0.05385802129752748, 0.09846569289208125, 0.06090334953669418, 0.1176464880285335, 0.09173153429963504, 0.074441115038059, 0.10363667467184791, 0.0830328825961815, 0.053355758183087444, 0.11139373212192798, 0.06564113910469167, 0.10921653477940542, 0.07865525869613604, 0.07267244371305161, 0.07192892570499808, 0.06781615877049114, 0.06807277638927683, 0.050159759570357676, 0.04932734330578061]}, {\"categories\": [\"0\", \"1\", \"2\", \"3\", \"4\", \"5\", \"6\", \"7\", \"8\", \"9\", \"10\", \"11\", \"12\", \"13\", \"14\", \"15\", \"16\", \"17\", \"18\", \"19\", \"20\", \"21\", \"22\", \"23\", \"24\", \"25\", \"26\", \"27\", \"28\", \"29\", \"30\", \"31\", \"32\"], \"mode\": \"lines\", \"name\": \"root_mean_squared_log_error_min\", \"stepped\": true, \"type\": \"scatter\", \"data\": [0.055030252159442884, 0.055030252159442884, 0.055030252159442884, 0.055030252159442884, 0.05253149234069932, 0.05253149234069932, 0.05253149234069932, 0.05253149234069932, 0.05253149234069932, 0.05253149234069932, 0.05253149234069932, 0.05253149234069932, 0.05253149234069932, 0.05253149234069932, 0.05253149234069932, 0.05253149234069932, 0.05253149234069932, 0.05253149234069932, 0.05253149234069932, 0.05253149234069932, 0.05253149234069932, 0.05253149234069932, 0.05253149234069932, 0.05253149234069932, 0.05253149234069932, 0.05253149234069932, 0.05253149234069932, 0.05253149234069932, 0.05253149234069932, 0.05253149234069932, 0.05253149234069932, 0.050159759570357676, 0.04932734330578061]}], \"r2_score\": [{\"categories\": [\"0\", \"1\", \"2\", \"3\", \"4\", \"5\", \"6\", \"7\", \"8\", \"9\", \"10\", \"11\", \"12\", \"13\", \"14\", \"15\", \"16\", \"17\", \"18\", \"19\", \"20\", \"21\", \"22\", \"23\", \"24\", \"25\", \"26\", \"27\", \"28\", \"29\", \"30\", \"31\", \"32\"], \"mode\": \"markers\", \"name\": \"r2_score\", \"stepped\": false, \"type\": \"scatter\", \"data\": [0.7912979153260212, 0.6724564907214644, 0.6791994292415504, 0.6885005104855271, 0.8086417421581217, 0.2750650933309238, 0.6576131002229827, 0.7941041060241169, 0.7718825905873506, 0.103674399079887, 0.7853426552264842, 0.704130206992, 0.21900661360257492, 0.28157744295129195, 0.7997439511918776, 0.35530846688057144, 0.7449667883127731, 0.06555113162394577, 0.43558945758084655, 0.6224004266803341, 0.2712209359417425, 0.5392017533450274, 0.8030810765375737, 0.09675176715038654, 0.7035713694728418, 0.19413730177323663, 0.5878782664243006, 0.6376594396379586, 0.648416477566835, 0.6926472963396314, 0.6794231830555537, 0.8252682500878641, 0.8291851395056247]}, {\"categories\": [\"0\", \"1\", \"2\", \"3\", \"4\", \"5\", \"6\", \"7\", \"8\", \"9\", \"10\", \"11\", \"12\", \"13\", \"14\", \"15\", \"16\", \"17\", \"18\", \"19\", \"20\", \"21\", \"22\", \"23\", \"24\", \"25\", \"26\", \"27\", \"28\", \"29\", \"30\", \"31\", \"32\"], \"mode\": \"lines\", \"name\": \"r2_score_max\", \"stepped\": true, \"type\": \"scatter\", \"data\": [0.7912979153260212, 0.7912979153260212, 0.7912979153260212, 0.7912979153260212, 0.8086417421581217, 0.8086417421581217, 0.8086417421581217, 0.8086417421581217, 0.8086417421581217, 0.8086417421581217, 0.8086417421581217, 0.8086417421581217, 0.8086417421581217, 0.8086417421581217, 0.8086417421581217, 0.8086417421581217, 0.8086417421581217, 0.8086417421581217, 0.8086417421581217, 0.8086417421581217, 0.8086417421581217, 0.8086417421581217, 0.8086417421581217, 0.8086417421581217, 0.8086417421581217, 0.8086417421581217, 0.8086417421581217, 0.8086417421581217, 0.8086417421581217, 0.8086417421581217, 0.8086417421581217, 0.8252682500878641, 0.8291851395056247]}], \"mean_absolute_percentage_error\": [{\"categories\": [\"0\", \"1\", \"2\", \"3\", \"4\", \"5\", \"6\", \"7\", \"8\", \"9\", \"10\", \"11\", \"12\", \"13\", \"14\", \"15\", \"16\", \"17\", \"18\", \"19\", \"20\", \"21\", \"22\", \"23\", \"24\", \"25\", \"26\", \"27\", \"28\", \"29\", \"30\", \"31\", \"32\"], \"mode\": \"markers\", \"name\": \"mean_absolute_percentage_error\", \"stepped\": false, \"type\": \"scatter\", \"data\": [3.5306839928919267, 5.2018936373676725, 4.918053481535025, 4.914320453366082, 3.158457183537704, 8.911492365421916, 5.042486687333669, 3.601060188147129, 3.9800055139970136, 10.378058646529567, 3.6948086073242883, 4.735710043787496, 8.176898458637227, 8.786574938721161, 3.4318903546286563, 8.259935369355253, 4.319209364667448, 10.580238816972889, 7.0771307107839005, 5.358887372574081, 8.818631012926515, 6.4358437278324985, 3.3915815030841547, 9.132529075391178, 4.763210832103245, 9.087582410163561, 6.201214467245393, 5.551586546792021, 5.460558296311469, 4.854753769119657, 4.894327779626052, 3.188484705399587, 3.1480465303612117]}, {\"categories\": [\"0\", \"1\", \"2\", \"3\", \"4\", \"5\", \"6\", \"7\", \"8\", \"9\", \"10\", \"11\", \"12\", \"13\", \"14\", \"15\", \"16\", \"17\", \"18\", \"19\", \"20\", \"21\", \"22\", \"23\", \"24\", \"25\", \"26\", \"27\", \"28\", \"29\", \"30\", \"31\", \"32\"], \"mode\": \"lines\", \"name\": \"mean_absolute_percentage_error_min\", \"stepped\": true, \"type\": \"scatter\", \"data\": [3.5306839928919267, 3.5306839928919267, 3.5306839928919267, 3.5306839928919267, 3.158457183537704, 3.158457183537704, 3.158457183537704, 3.158457183537704, 3.158457183537704, 3.158457183537704, 3.158457183537704, 3.158457183537704, 3.158457183537704, 3.158457183537704, 3.158457183537704, 3.158457183537704, 3.158457183537704, 3.158457183537704, 3.158457183537704, 3.158457183537704, 3.158457183537704, 3.158457183537704, 3.158457183537704, 3.158457183537704, 3.158457183537704, 3.158457183537704, 3.158457183537704, 3.158457183537704, 3.158457183537704, 3.158457183537704, 3.158457183537704, 3.158457183537704, 3.1480465303612117]}], \"median_absolute_error\": [{\"categories\": [\"0\", \"1\", \"2\", \"3\", \"4\", \"5\", \"6\", \"7\", \"8\", \"9\", \"10\", \"11\", \"12\", \"13\", \"14\", \"15\", \"16\", \"17\", \"18\", \"19\", \"20\", \"21\", \"22\", \"23\", \"24\", \"25\", \"26\", \"27\", \"28\", \"29\", \"30\", \"31\", \"32\"], \"mode\": \"markers\", \"name\": \"median_absolute_error\", \"stepped\": false, \"type\": \"scatter\", \"data\": [1.6998073458472334, 3.460479736328125, 3.0377120971679688, 3.065635154919567, 1.2115325927734375, 7.165354547317672, 3.1915666049717495, 1.9261703491210938, 2.2009120136271796, 8.824485605109126, 1.8366468253968218, 3.0419369649957795, 7.835848490397136, 6.787955641336491, 1.6111111111111143, 5.883012134095357, 2.5178066780619113, 9.065008977276795, 5.403261782888966, 3.6118492761116605, 7.112357983558709, 4.8589266876744075, 1.5950835537918995, 8.49981943766276, 3.0259728000006256, 6.673431396484375, 4.7179682839734625, 3.6421636950539855, 3.8939542638768785, 2.974315476190474, 3.2581303914388022, 1.5008918902454649, 1.2478128541831193]}, {\"categories\": [\"0\", \"1\", \"2\", \"3\", \"4\", \"5\", \"6\", \"7\", \"8\", \"9\", \"10\", \"11\", \"12\", \"13\", \"14\", \"15\", \"16\", \"17\", \"18\", \"19\", \"20\", \"21\", \"22\", \"23\", \"24\", \"25\", \"26\", \"27\", \"28\", \"29\", \"30\", \"31\", \"32\"], \"mode\": \"lines\", \"name\": \"median_absolute_error_min\", \"stepped\": true, \"type\": \"scatter\", \"data\": [1.6998073458472334, 1.6998073458472334, 1.6998073458472334, 1.6998073458472334, 1.2115325927734375, 1.2115325927734375, 1.2115325927734375, 1.2115325927734375, 1.2115325927734375, 1.2115325927734375, 1.2115325927734375, 1.2115325927734375, 1.2115325927734375, 1.2115325927734375, 1.2115325927734375, 1.2115325927734375, 1.2115325927734375, 1.2115325927734375, 1.2115325927734375, 1.2115325927734375, 1.2115325927734375, 1.2115325927734375, 1.2115325927734375, 1.2115325927734375, 1.2115325927734375, 1.2115325927734375, 1.2115325927734375, 1.2115325927734375, 1.2115325927734375, 1.2115325927734375, 1.2115325927734375, 1.2115325927734375, 1.2115325927734375]}]}, \"metricName\": null, \"primaryMetricName\": \"r2_score\", \"showLegend\": false}, \"run_metrics\": [{\"name\": \"normalized_root_mean_squared_log_error\", \"run_id\": \"AutoML_6d831474-2d36-4cb2-9b14-3f73c4abb223\", \"categories\": [0], \"series\": [{\"data\": [0.15858056011050628]}]}, {\"name\": \"mean_absolute_error\", \"run_id\": \"AutoML_6d831474-2d36-4cb2-9b14-3f73c4abb223\", \"categories\": [0], \"series\": [{\"data\": [2.796547942595867]}]}, {\"name\": \"normalized_root_mean_squared_error\", \"run_id\": \"AutoML_6d831474-2d36-4cb2-9b14-3f73c4abb223\", \"categories\": [0], \"series\": [{\"data\": [0.16319178479784877]}]}, {\"name\": \"normalized_mean_absolute_error\", \"run_id\": \"AutoML_6d831474-2d36-4cb2-9b14-3f73c4abb223\", \"categories\": [0], \"series\": [{\"data\": [0.10357584972577283]}]}, {\"name\": \"spearman_correlation\", \"run_id\": \"AutoML_6d831474-2d36-4cb2-9b14-3f73c4abb223\", \"categories\": [0], \"series\": [{\"data\": [0.8662505462738666]}]}, {\"name\": \"mean_absolute_percentage_error\", \"run_id\": \"AutoML_6d831474-2d36-4cb2-9b14-3f73c4abb223\", \"categories\": [0], \"series\": [{\"data\": [3.1480465303612117]}]}, {\"name\": \"explained_variance\", \"run_id\": \"AutoML_6d831474-2d36-4cb2-9b14-3f73c4abb223\", \"categories\": [0], \"series\": [{\"data\": [0.8304305902881373]}]}, {\"name\": \"normalized_median_absolute_error\", \"run_id\": \"AutoML_6d831474-2d36-4cb2-9b14-3f73c4abb223\", \"categories\": [0], \"series\": [{\"data\": [0.046215290895671085]}]}, {\"name\": \"median_absolute_error\", \"run_id\": \"AutoML_6d831474-2d36-4cb2-9b14-3f73c4abb223\", \"categories\": [0], \"series\": [{\"data\": [1.2478128541831193]}]}, {\"name\": \"root_mean_squared_log_error\", \"run_id\": \"AutoML_6d831474-2d36-4cb2-9b14-3f73c4abb223\", \"categories\": [0], \"series\": [{\"data\": [0.04932734330578061]}]}, {\"name\": \"r2_score\", \"run_id\": \"AutoML_6d831474-2d36-4cb2-9b14-3f73c4abb223\", \"categories\": [0], \"series\": [{\"data\": [0.8291851395056247]}]}, {\"name\": \"root_mean_squared_error\", \"run_id\": \"AutoML_6d831474-2d36-4cb2-9b14-3f73c4abb223\", \"categories\": [0], \"series\": [{\"data\": [4.406178189541916]}]}], \"run_logs\": \"\\nRun is completed.\", \"graph\": {}, \"widget_settings\": {\"childWidgetDisplay\": \"popup\", \"send_telemetry\": false, \"log_level\": \"INFO\", \"sdk_version\": \"1.19.0\"}, \"loading\": false}"
          },
          "metadata": {}
        },
        {
          "output_type": "stream",
          "name": "stdout",
          "text": [
            "\n",
            "\n",
            "****************************************************************************************************\n",
            "DATA GUARDRAILS: \n",
            "\n",
            "TYPE:         Missing feature values imputation\n",
            "STATUS:       PASSED\n",
            "DESCRIPTION:  No feature missing values were detected in the training data.\n",
            "              Learn more about missing value imputation: https://aka.ms/AutomatedMLFeaturization\n",
            "\n",
            "****************************************************************************************************\n",
            "\n",
            "TYPE:         High cardinality feature detection\n",
            "STATUS:       PASSED\n",
            "DESCRIPTION:  Your inputs were analyzed, and no high cardinality features were detected.\n",
            "              Learn more about high cardinality feature handling: https://aka.ms/AutomatedMLFeaturization\n",
            "\n",
            "****************************************************************************************************\n",
            "\n",
            "****************************************************************************************************\n",
            "ITERATION: The iteration being evaluated.\n",
            "PIPELINE: A summary description of the pipeline being evaluated.\n",
            "DURATION: Time taken for the current iteration.\n",
            "METRIC: The result of computing score on the fitted pipeline.\n",
            "BEST: The best observed score thus far.\n",
            "****************************************************************************************************\n",
            "\n",
            " ITERATION   PIPELINE                                       DURATION      METRIC      BEST\n",
            "         0   MaxAbsScaler LightGBM                          0:00:26       0.7913    0.7913\n",
            "         1   MaxAbsScaler XGBoostRegressor                  0:00:33       0.6725    0.7913\n",
            "         2   SparseNormalizer XGBoostRegressor              0:00:24       0.6792    0.7913\n",
            "         3   MaxAbsScaler RandomForest                      0:00:30       0.6885    0.7913\n",
            "         4   StandardScalerWrapper XGBoostRegressor         0:00:26       0.8086    0.8086\n",
            "         5   MaxAbsScaler ElasticNet                        0:00:23       0.2751    0.8086\n",
            "         6   MinMaxScaler RandomForest                      0:00:36       0.6576    0.8086\n",
            "         7   StandardScalerWrapper XGBoostRegressor         0:00:25       0.7941    0.8086\n",
            "         8   MinMaxScaler ExtremeRandomTrees                0:00:25       0.7719    0.8086\n",
            "         9   StandardScalerWrapper ElasticNet               0:00:23       0.1037    0.8086\n",
            "        10   MinMaxScaler RandomForest                      0:00:36       0.7853    0.8086\n",
            "        11   MinMaxScaler RandomForest                      0:00:23       0.7041    0.8086\n",
            "        12   StandardScalerWrapper XGBoostRegressor         0:00:24       0.2190    0.8086\n",
            "        13   RobustScaler LassoLars                         0:00:28       0.2816    0.8086\n",
            "        14   MinMaxScaler ExtremeRandomTrees                0:00:26       0.7997    0.8086\n",
            "        15   MaxAbsScaler ExtremeRandomTrees                0:00:23       0.3553    0.8086\n",
            "        16   MinMaxScaler ExtremeRandomTrees                0:00:25       0.7450    0.8086\n",
            "        17   MaxAbsScaler ElasticNet                        0:00:24       0.0656    0.8086\n",
            "        18   MinMaxScaler RandomForest                      0:00:23       0.4356    0.8086\n",
            "        19   MaxAbsScaler RandomForest                      0:00:25       0.6224    0.8086\n",
            "        20   RobustScaler ElasticNet                        0:00:23       0.2712    0.8086\n",
            "        21   StandardScalerWrapper RandomForest             0:00:31       0.5392    0.8086\n",
            "        22   StandardScalerWrapper RandomForest             0:00:42       0.8031    0.8086\n",
            "        23   SparseNormalizer XGBoostRegressor              0:00:25       0.0968    0.8086\n",
            "        24   RobustScaler GradientBoosting                  0:00:26       0.7036    0.8086\n",
            "        25   PCA XGBoostRegressor                           0:00:50       0.1941    0.8086\n",
            "        26   MaxAbsScaler ExtremeRandomTrees                0:00:27       0.5879    0.8086\n",
            "        27   StandardScalerWrapper LightGBM                 0:00:30       0.6377    0.8086\n",
            "        28   StandardScalerWrapper LightGBM                 0:00:24       0.6484    0.8086\n",
            "        29   RobustScaler RandomForest                      0:00:29       0.6926    0.8086\n",
            "        30   TruncatedSVDWrapper XGBoostRegressor           0:00:24       0.6794    0.8086\n",
            "        31    VotingEnsemble                                0:00:30       0.8253    0.8253\n",
            "        32    StackEnsemble                                 0:00:30       0.8292    0.8292\n"
          ]
        },
        {
          "output_type": "execute_result",
          "execution_count": 25,
          "data": {
            "text/plain": "{'runId': 'AutoML_6d831474-2d36-4cb2-9b14-3f73c4abb223',\n 'target': 'local',\n 'status': 'Completed',\n 'startTimeUtc': '2021-01-05T01:03:53.806175Z',\n 'endTimeUtc': '2021-01-05T01:20:11.705575Z',\n 'properties': {'num_iterations': '1000',\n  'training_type': 'TrainFull',\n  'acquisition_function': 'EI',\n  'primary_metric': 'r2_score',\n  'train_split': '0',\n  'acquisition_parameter': '0',\n  'num_cross_validation': '3',\n  'target': 'local',\n  'AMLSettingsJsonString': '{\"path\":null,\"name\":\"AutoRanga\",\"subscription_id\":\"d7f39349-a66b-446e-aba6-0053c2cf1c11\",\"resource_group\":\"aml-quickstarts-133408\",\"workspace_name\":\"quick-starts-ws-133408\",\"region\":\"southcentralus\",\"compute_target\":\"local\",\"spark_service\":null,\"azure_service\":\"Microsoft.AzureNotebookVM\",\"many_models\":false,\"pipeline_fetch_max_batch_size\":1,\"iterations\":1000,\"primary_metric\":\"r2_score\",\"task_type\":\"regression\",\"data_script\":null,\"validation_size\":0.0,\"n_cross_validations\":3,\"y_min\":null,\"y_max\":null,\"num_classes\":null,\"featurization\":\"auto\",\"_ignore_package_version_incompatibilities\":false,\"is_timeseries\":false,\"max_cores_per_iteration\":1,\"max_concurrent_iterations\":1,\"iteration_timeout_minutes\":null,\"mem_in_mb\":null,\"enforce_time_on_windows\":false,\"experiment_timeout_minutes\":15,\"experiment_exit_score\":null,\"whitelist_models\":null,\"blacklist_algos\":[\"TensorFlowDNN\",\"TensorFlowLinearRegressor\"],\"supported_models\":[\"FastLinearRegressor\",\"LassoLars\",\"XGBoostRegressor\",\"OnlineGradientDescentRegressor\",\"DecisionTree\",\"GradientBoosting\",\"TensorFlowLinearRegressor\",\"TensorFlowDNN\",\"RandomForest\",\"ExtremeRandomTrees\",\"LightGBM\",\"KNN\",\"ElasticNet\",\"SGD\"],\"auto_blacklist\":true,\"blacklist_samples_reached\":false,\"exclude_nan_labels\":true,\"verbosity\":20,\"_debug_log\":\"automl.log\",\"show_warnings\":false,\"model_explainability\":true,\"service_url\":null,\"sdk_url\":null,\"sdk_packages\":null,\"enable_onnx_compatible_models\":false,\"enable_split_onnx_featurizer_estimator_models\":false,\"vm_type\":null,\"telemetry_verbosity\":20,\"send_telemetry\":true,\"enable_dnn\":false,\"scenario\":\"SDK-1.13.0\",\"environment_label\":null,\"force_text_dnn\":false,\"enable_feature_sweeping\":true,\"enable_early_stopping\":false,\"early_stopping_n_iters\":10,\"metrics\":null,\"enable_ensembling\":true,\"enable_stack_ensembling\":true,\"ensemble_iterations\":15,\"enable_tf\":false,\"enable_subsampling\":null,\"subsample_seed\":null,\"enable_nimbusml\":false,\"enable_streaming\":false,\"force_streaming\":false,\"track_child_runs\":true,\"allowed_private_models\":[],\"label_column_name\":\"Valve cndn\",\"weight_column_name\":null,\"cv_split_column_names\":null,\"enable_local_managed\":false,\"_local_managed_run_id\":null,\"cost_mode\":1,\"lag_length\":0,\"metric_operation\":\"maximize\",\"preprocess\":true}',\n  'DataPrepJsonString': None,\n  'EnableSubsampling': None,\n  'runTemplate': 'AutoML',\n  'azureml.runsource': 'automl',\n  'display_task_type': 'regression',\n  'dependencies_versions': '{\"azureml-widgets\": \"1.19.0\", \"azureml-train\": \"1.19.0\", \"azureml-train-restclients-hyperdrive\": \"1.19.0\", \"azureml-train-core\": \"1.19.0\", \"azureml-train-automl\": \"1.19.0\", \"azureml-train-automl-runtime\": \"1.19.0\", \"azureml-train-automl-client\": \"1.19.0\", \"azureml-tensorboard\": \"1.19.0\", \"azureml-telemetry\": \"1.19.0\", \"azureml-sdk\": \"1.19.0\", \"azureml-samples\": \"0+unknown\", \"azureml-pipeline\": \"1.19.0\", \"azureml-pipeline-steps\": \"1.19.0\", \"azureml-pipeline-core\": \"1.19.0\", \"azureml-opendatasets\": \"1.19.0\", \"azureml-model-management-sdk\": \"1.0.1b6.post1\", \"azureml-mlflow\": \"1.19.0\", \"azureml-interpret\": \"1.19.0\", \"azureml-explain-model\": \"1.19.0\", \"azureml-defaults\": \"1.19.0\", \"azureml-dataset-runtime\": \"1.19.0\", \"azureml-dataprep\": \"2.6.1\", \"azureml-dataprep-rslex\": \"1.4.0\", \"azureml-dataprep-native\": \"26.0.0\", \"azureml-datadrift\": \"1.19.0\", \"azureml-core\": \"1.19.0\", \"azureml-contrib-services\": \"1.19.0\", \"azureml-contrib-server\": \"1.19.0\", \"azureml-contrib-reinforcementlearning\": \"1.19.0\", \"azureml-contrib-pipeline-steps\": \"1.19.0\", \"azureml-contrib-notebook\": \"1.19.0\", \"azureml-contrib-interpret\": \"1.19.0\", \"azureml-contrib-gbdt\": \"1.19.0\", \"azureml-contrib-fairness\": \"1.19.0\", \"azureml-contrib-dataset\": \"1.19.0\", \"azureml-cli-common\": \"1.19.0\", \"azureml-automl-runtime\": \"1.19.0\", \"azureml-automl-core\": \"1.19.0\", \"azureml-accel-models\": \"1.19.0\"}',\n  '_aml_system_scenario_identification': 'Local.Parent',\n  'ClientSdkVersion': '1.19.0',\n  'ClientType': 'SDK',\n  'environment_cpu_name': 'AzureML-AutoML',\n  'environment_cpu_label': 'prod',\n  'environment_gpu_name': 'AzureML-AutoML-GPU',\n  'environment_gpu_label': 'prod',\n  'root_attribution': 'automl',\n  'attribution': 'AutoML',\n  'Orchestrator': 'AutoML',\n  '_azureml.ComputeTargetType': 'local',\n  'ProblemInfoJsonString': '{\"dataset_num_categorical\": 0, \"is_sparse\": false, \"subsampling\": false, \"dataset_classes\": 4, \"dataset_features\": 10, \"dataset_samples\": 2205, \"single_frequency_class_detected\": false}',\n  'feature_skus': 'automatedml_sdk_guardrails'},\n 'inputDatasets': [],\n 'outputDatasets': [],\n 'logFiles': {}}"
          },
          "metadata": {}
        }
      ],
      "execution_count": 25,
      "metadata": {
        "gather": {
          "logged": 1609810004580
        },
        "jupyter": {
          "outputs_hidden": false,
          "source_hidden": false
        },
        "nteract": {
          "transient": {
            "deleting": false
          }
        }
      }
    },
    {
      "cell_type": "code",
      "source": [
        "automl_config_flag = AutoMLConfig(\n",
        "    experiment_timeout_minutes=15,\n",
        "    task='classification',\n",
        "    primary_metric='AUC_weighted',\n",
        "    training_data=ds_stableflag,\n",
        "    label_column_name='Stable Flag (only cat)',\n",
        "    n_cross_validations=3)\n",
        "\n",
        "autoexp = Experiment(workspace=ws,name='AutoRanga')\n",
        "remote_run_class = autoexp.submit(automl_config_flag)\n",
        "RunDetails(remote_run).show()\n",
        "remote_run_class.wait_for_completion(show_output=True)"
      ],
      "outputs": [
        {
          "output_type": "stream",
          "name": "stderr",
          "text": [
            "WARNING:root:Running on local machine. Note that local runs always run synchronously even if you use the parameter 'show_output=False'\n"
          ]
        },
        {
          "output_type": "stream",
          "name": "stdout",
          "text": [
            "\n",
            "\n",
            "****************************************************************************************************\n",
            "DATA GUARDRAILS: \n",
            "\n",
            "TYPE:         Class balancing detection\n",
            "STATUS:       PASSED\n",
            "DESCRIPTION:  Your inputs were analyzed, and all classes are balanced in your training data.\n",
            "              Learn more about imbalanced data: https://aka.ms/AutomatedMLImbalancedData\n",
            "\n",
            "****************************************************************************************************\n",
            "\n",
            "TYPE:         Missing feature values imputation\n",
            "STATUS:       PASSED\n",
            "DESCRIPTION:  No feature missing values were detected in the training data.\n",
            "              Learn more about missing value imputation: https://aka.ms/AutomatedMLFeaturization\n",
            "\n",
            "****************************************************************************************************\n",
            "\n",
            "TYPE:         High cardinality feature detection\n",
            "STATUS:       PASSED\n",
            "DESCRIPTION:  Your inputs were analyzed, and no high cardinality features were detected.\n",
            "              Learn more about high cardinality feature handling: https://aka.ms/AutomatedMLFeaturization\n"
          ]
        },
        {
          "output_type": "display_data",
          "data": {
            "text/plain": "_AutoMLWidget(widget_settings={'childWidgetDisplay': 'popup', 'send_telemetry': False, 'log_level': 'INFO', 's…",
            "application/vnd.jupyter.widget-view+json": {
              "version_major": 2,
              "version_minor": 0,
              "model_id": "64c8ec3a3bd740bf85efe1826ade3faa"
            }
          },
          "metadata": {}
        },
        {
          "output_type": "display_data",
          "data": {
            "application/aml.mini.widget.v1": "{\"status\": \"Completed\", \"workbench_run_details_uri\": \"https://ml.azure.com/experiments/AutoRanga/runs/AutoML_6d831474-2d36-4cb2-9b14-3f73c4abb223?wsid=/subscriptions/d7f39349-a66b-446e-aba6-0053c2cf1c11/resourcegroups/aml-quickstarts-133408/workspaces/quick-starts-ws-133408\", \"run_id\": \"AutoML_6d831474-2d36-4cb2-9b14-3f73c4abb223\", \"run_properties\": {\"run_id\": \"AutoML_6d831474-2d36-4cb2-9b14-3f73c4abb223\", \"created_utc\": \"2021-01-05T01:03:52.794907Z\", \"properties\": {\"num_iterations\": \"1000\", \"training_type\": \"TrainFull\", \"acquisition_function\": \"EI\", \"primary_metric\": \"r2_score\", \"train_split\": \"0\", \"acquisition_parameter\": \"0\", \"num_cross_validation\": \"3\", \"target\": \"local\", \"AMLSettingsJsonString\": \"{\\\"path\\\":null,\\\"name\\\":\\\"AutoRanga\\\",\\\"subscription_id\\\":\\\"d7f39349-a66b-446e-aba6-0053c2cf1c11\\\",\\\"resource_group\\\":\\\"aml-quickstarts-133408\\\",\\\"workspace_name\\\":\\\"quick-starts-ws-133408\\\",\\\"region\\\":\\\"southcentralus\\\",\\\"compute_target\\\":\\\"local\\\",\\\"spark_service\\\":null,\\\"azure_service\\\":\\\"Microsoft.AzureNotebookVM\\\",\\\"many_models\\\":false,\\\"pipeline_fetch_max_batch_size\\\":1,\\\"iterations\\\":1000,\\\"primary_metric\\\":\\\"r2_score\\\",\\\"task_type\\\":\\\"regression\\\",\\\"data_script\\\":null,\\\"validation_size\\\":0.0,\\\"n_cross_validations\\\":3,\\\"y_min\\\":null,\\\"y_max\\\":null,\\\"num_classes\\\":null,\\\"featurization\\\":\\\"auto\\\",\\\"_ignore_package_version_incompatibilities\\\":false,\\\"is_timeseries\\\":false,\\\"max_cores_per_iteration\\\":1,\\\"max_concurrent_iterations\\\":1,\\\"iteration_timeout_minutes\\\":null,\\\"mem_in_mb\\\":null,\\\"enforce_time_on_windows\\\":false,\\\"experiment_timeout_minutes\\\":15,\\\"experiment_exit_score\\\":null,\\\"whitelist_models\\\":null,\\\"blacklist_algos\\\":[\\\"TensorFlowDNN\\\",\\\"TensorFlowLinearRegressor\\\"],\\\"supported_models\\\":[\\\"FastLinearRegressor\\\",\\\"LassoLars\\\",\\\"XGBoostRegressor\\\",\\\"OnlineGradientDescentRegressor\\\",\\\"DecisionTree\\\",\\\"GradientBoosting\\\",\\\"TensorFlowLinearRegressor\\\",\\\"TensorFlowDNN\\\",\\\"RandomForest\\\",\\\"ExtremeRandomTrees\\\",\\\"LightGBM\\\",\\\"KNN\\\",\\\"ElasticNet\\\",\\\"SGD\\\"],\\\"auto_blacklist\\\":true,\\\"blacklist_samples_reached\\\":false,\\\"exclude_nan_labels\\\":true,\\\"verbosity\\\":20,\\\"_debug_log\\\":\\\"automl.log\\\",\\\"show_warnings\\\":false,\\\"model_explainability\\\":true,\\\"service_url\\\":null,\\\"sdk_url\\\":null,\\\"sdk_packages\\\":null,\\\"enable_onnx_compatible_models\\\":false,\\\"enable_split_onnx_featurizer_estimator_models\\\":false,\\\"vm_type\\\":null,\\\"telemetry_verbosity\\\":20,\\\"send_telemetry\\\":true,\\\"enable_dnn\\\":false,\\\"scenario\\\":\\\"SDK-1.13.0\\\",\\\"environment_label\\\":null,\\\"force_text_dnn\\\":false,\\\"enable_feature_sweeping\\\":true,\\\"enable_early_stopping\\\":false,\\\"early_stopping_n_iters\\\":10,\\\"metrics\\\":null,\\\"enable_ensembling\\\":true,\\\"enable_stack_ensembling\\\":true,\\\"ensemble_iterations\\\":15,\\\"enable_tf\\\":false,\\\"enable_subsampling\\\":null,\\\"subsample_seed\\\":null,\\\"enable_nimbusml\\\":false,\\\"enable_streaming\\\":false,\\\"force_streaming\\\":false,\\\"track_child_runs\\\":true,\\\"allowed_private_models\\\":[],\\\"label_column_name\\\":\\\"Valve cndn\\\",\\\"weight_column_name\\\":null,\\\"cv_split_column_names\\\":null,\\\"enable_local_managed\\\":false,\\\"_local_managed_run_id\\\":null,\\\"cost_mode\\\":1,\\\"lag_length\\\":0,\\\"metric_operation\\\":\\\"maximize\\\",\\\"preprocess\\\":true}\", \"DataPrepJsonString\": null, \"EnableSubsampling\": null, \"runTemplate\": \"AutoML\", \"azureml.runsource\": \"automl\", \"display_task_type\": \"regression\", \"dependencies_versions\": \"{\\\"azureml-widgets\\\": \\\"1.19.0\\\", \\\"azureml-train\\\": \\\"1.19.0\\\", \\\"azureml-train-restclients-hyperdrive\\\": \\\"1.19.0\\\", \\\"azureml-train-core\\\": \\\"1.19.0\\\", \\\"azureml-train-automl\\\": \\\"1.19.0\\\", \\\"azureml-train-automl-runtime\\\": \\\"1.19.0\\\", \\\"azureml-train-automl-client\\\": \\\"1.19.0\\\", \\\"azureml-tensorboard\\\": \\\"1.19.0\\\", \\\"azureml-telemetry\\\": \\\"1.19.0\\\", \\\"azureml-sdk\\\": \\\"1.19.0\\\", \\\"azureml-samples\\\": \\\"0+unknown\\\", \\\"azureml-pipeline\\\": \\\"1.19.0\\\", \\\"azureml-pipeline-steps\\\": \\\"1.19.0\\\", \\\"azureml-pipeline-core\\\": \\\"1.19.0\\\", \\\"azureml-opendatasets\\\": \\\"1.19.0\\\", \\\"azureml-model-management-sdk\\\": \\\"1.0.1b6.post1\\\", \\\"azureml-mlflow\\\": \\\"1.19.0\\\", \\\"azureml-interpret\\\": \\\"1.19.0\\\", \\\"azureml-explain-model\\\": \\\"1.19.0\\\", \\\"azureml-defaults\\\": \\\"1.19.0\\\", \\\"azureml-dataset-runtime\\\": \\\"1.19.0\\\", \\\"azureml-dataprep\\\": \\\"2.6.1\\\", \\\"azureml-dataprep-rslex\\\": \\\"1.4.0\\\", \\\"azureml-dataprep-native\\\": \\\"26.0.0\\\", \\\"azureml-datadrift\\\": \\\"1.19.0\\\", \\\"azureml-core\\\": \\\"1.19.0\\\", \\\"azureml-contrib-services\\\": \\\"1.19.0\\\", \\\"azureml-contrib-server\\\": \\\"1.19.0\\\", \\\"azureml-contrib-reinforcementlearning\\\": \\\"1.19.0\\\", \\\"azureml-contrib-pipeline-steps\\\": \\\"1.19.0\\\", \\\"azureml-contrib-notebook\\\": \\\"1.19.0\\\", \\\"azureml-contrib-interpret\\\": \\\"1.19.0\\\", \\\"azureml-contrib-gbdt\\\": \\\"1.19.0\\\", \\\"azureml-contrib-fairness\\\": \\\"1.19.0\\\", \\\"azureml-contrib-dataset\\\": \\\"1.19.0\\\", \\\"azureml-cli-common\\\": \\\"1.19.0\\\", \\\"azureml-automl-runtime\\\": \\\"1.19.0\\\", \\\"azureml-automl-core\\\": \\\"1.19.0\\\", \\\"azureml-accel-models\\\": \\\"1.19.0\\\"}\", \"_aml_system_scenario_identification\": \"Local.Parent\", \"ClientSdkVersion\": \"1.19.0\", \"ClientType\": \"SDK\", \"environment_cpu_name\": \"AzureML-AutoML\", \"environment_cpu_label\": \"prod\", \"environment_gpu_name\": \"AzureML-AutoML-GPU\", \"environment_gpu_label\": \"prod\", \"root_attribution\": \"automl\", \"attribution\": \"AutoML\", \"Orchestrator\": \"AutoML\", \"_azureml.ComputeTargetType\": \"local\", \"ProblemInfoJsonString\": \"{\\\"dataset_num_categorical\\\": 0, \\\"is_sparse\\\": false, \\\"subsampling\\\": false, \\\"dataset_classes\\\": 4, \\\"dataset_features\\\": 10, \\\"dataset_samples\\\": 2205, \\\"single_frequency_class_detected\\\": false}\", \"feature_skus\": \"automatedml_sdk_guardrails\"}, \"tags\": {\"model_explain_run\": \"best_run\", \"best_score\": \"0.8291851395056247\", \"best_pipeline\": \"StackEnsemble\", \"automl_best_child_run_id\": \"AutoML_6d831474-2d36-4cb2-9b14-3f73c4abb223_32\", \"model_explain_best_run_child_id\": \"AutoML_6d831474-2d36-4cb2-9b14-3f73c4abb223_32\"}, \"end_time_utc\": \"2021-01-05T01:20:11.705575Z\", \"status\": \"Completed\", \"log_files\": {}, \"log_groups\": [], \"run_duration\": \"0:16:18\"}, \"child_runs\": [{\"run_id\": \"AutoML_6d831474-2d36-4cb2-9b14-3f73c4abb223_0\", \"run_number\": 73, \"metric\": null, \"status\": \"Completed\", \"run_type\": null, \"training_percent\": \"100\", \"start_time\": \"2021-01-05T01:03:59.248119Z\", \"end_time\": \"2021-01-05T01:04:24.847522Z\", \"created_time\": \"2021-01-05T01:03:59.125331Z\", \"created_time_dt\": \"2021-01-05T01:03:59.125331Z\", \"duration\": \"0:00:25\", \"iteration\": \"0\", \"goal\": \"r2_score_max\", \"run_name\": \"MaxAbsScaler, LightGBM\", \"run_properties\": \"copy=True\", \"primary_metric\": 0.79129792, \"best_metric\": 0.79129792}, {\"run_id\": \"AutoML_6d831474-2d36-4cb2-9b14-3f73c4abb223_1\", \"run_number\": 74, \"metric\": null, \"status\": \"Completed\", \"run_type\": null, \"training_percent\": \"100\", \"start_time\": \"2021-01-05T01:04:25.171258Z\", \"end_time\": \"2021-01-05T01:04:58.415186Z\", \"created_time\": \"2021-01-05T01:04:25.036837Z\", \"created_time_dt\": \"2021-01-05T01:04:25.036837Z\", \"duration\": \"0:00:33\", \"iteration\": \"1\", \"goal\": \"r2_score_max\", \"run_name\": \"MaxAbsScaler, XGBoostRegressor\", \"run_properties\": \"copy=True\", \"primary_metric\": 0.67245649, \"best_metric\": 0.79129792}, {\"run_id\": \"AutoML_6d831474-2d36-4cb2-9b14-3f73c4abb223_2\", \"run_number\": 75, \"metric\": null, \"status\": \"Completed\", \"run_type\": null, \"training_percent\": \"100\", \"start_time\": \"2021-01-05T01:04:59.211431Z\", \"end_time\": \"2021-01-05T01:05:23.306456Z\", \"created_time\": \"2021-01-05T01:04:59.116917Z\", \"created_time_dt\": \"2021-01-05T01:04:59.116917Z\", \"duration\": \"0:00:24\", \"iteration\": \"2\", \"goal\": \"r2_score_max\", \"run_name\": \"SparseNormalizer, XGBoostRegressor\", \"run_properties\": \"<azureml.automl.runtime.shared.model_wrappers.SparseNormalizer object at 0x7f7b3415ad30\", \"primary_metric\": 0.67919943, \"best_metric\": 0.79129792}, {\"run_id\": \"AutoML_6d831474-2d36-4cb2-9b14-3f73c4abb223_3\", \"run_number\": 76, \"metric\": null, \"status\": \"Completed\", \"run_type\": null, \"training_percent\": \"100\", \"start_time\": \"2021-01-05T01:05:24.82856Z\", \"end_time\": \"2021-01-05T01:05:54.419043Z\", \"created_time\": \"2021-01-05T01:05:24.718469Z\", \"created_time_dt\": \"2021-01-05T01:05:24.718469Z\", \"duration\": \"0:00:29\", \"iteration\": \"3\", \"goal\": \"r2_score_max\", \"run_name\": \"MaxAbsScaler, RandomForest\", \"run_properties\": \"copy=True\", \"primary_metric\": 0.68850051, \"best_metric\": 0.79129792}, {\"run_id\": \"AutoML_6d831474-2d36-4cb2-9b14-3f73c4abb223_4\", \"run_number\": 77, \"metric\": null, \"status\": \"Completed\", \"run_type\": null, \"training_percent\": \"100\", \"start_time\": \"2021-01-05T01:05:55.812724Z\", \"end_time\": \"2021-01-05T01:06:21.888167Z\", \"created_time\": \"2021-01-05T01:05:55.700303Z\", \"created_time_dt\": \"2021-01-05T01:05:55.700303Z\", \"duration\": \"0:00:26\", \"iteration\": \"4\", \"goal\": \"r2_score_max\", \"run_name\": \"StandardScalerWrapper, XGBoostRegressor\", \"run_properties\": \"<azureml.automl.runtime.shared.model_wrappers.StandardScalerWrapper object at 0x7f7b6d2c5be0\", \"primary_metric\": 0.80864174, \"best_metric\": 0.80864174}, {\"run_id\": \"AutoML_6d831474-2d36-4cb2-9b14-3f73c4abb223_5\", \"run_number\": 78, \"metric\": null, \"status\": \"Completed\", \"run_type\": null, \"training_percent\": \"100\", \"start_time\": \"2021-01-05T01:06:23.307086Z\", \"end_time\": \"2021-01-05T01:06:46.642061Z\", \"created_time\": \"2021-01-05T01:06:23.1958Z\", \"created_time_dt\": \"2021-01-05T01:06:23.1958Z\", \"duration\": \"0:00:23\", \"iteration\": \"5\", \"goal\": \"r2_score_max\", \"run_name\": \"MaxAbsScaler, ElasticNet\", \"run_properties\": \"copy=True\", \"primary_metric\": 0.27506509, \"best_metric\": 0.80864174}, {\"run_id\": \"AutoML_6d831474-2d36-4cb2-9b14-3f73c4abb223_6\", \"run_number\": 79, \"metric\": null, \"status\": \"Completed\", \"run_type\": null, \"training_percent\": \"100\", \"start_time\": \"2021-01-05T01:06:48.077695Z\", \"end_time\": \"2021-01-05T01:07:24.492712Z\", \"created_time\": \"2021-01-05T01:06:47.969302Z\", \"created_time_dt\": \"2021-01-05T01:06:47.969302Z\", \"duration\": \"0:00:36\", \"iteration\": \"6\", \"goal\": \"r2_score_max\", \"run_name\": \"MinMaxScaler, RandomForest\", \"run_properties\": \"copy=True, feature_range=(0, 1\", \"primary_metric\": 0.6576131, \"best_metric\": 0.80864174}, {\"run_id\": \"AutoML_6d831474-2d36-4cb2-9b14-3f73c4abb223_7\", \"run_number\": 80, \"metric\": null, \"status\": \"Completed\", \"run_type\": null, \"training_percent\": \"100\", \"start_time\": \"2021-01-05T01:07:26.317032Z\", \"end_time\": \"2021-01-05T01:07:51.599056Z\", \"created_time\": \"2021-01-05T01:07:26.028333Z\", \"created_time_dt\": \"2021-01-05T01:07:26.028333Z\", \"duration\": \"0:00:25\", \"iteration\": \"7\", \"goal\": \"r2_score_max\", \"run_name\": \"StandardScalerWrapper, XGBoostRegressor\", \"run_properties\": \"<azureml.automl.runtime.shared.model_wrappers.StandardScalerWrapper object at 0x7f7b6d2c5e48\", \"primary_metric\": 0.79410411, \"best_metric\": 0.80864174}, {\"run_id\": \"AutoML_6d831474-2d36-4cb2-9b14-3f73c4abb223_8\", \"run_number\": 81, \"metric\": null, \"status\": \"Completed\", \"run_type\": null, \"training_percent\": \"100\", \"start_time\": \"2021-01-05T01:07:53.363528Z\", \"end_time\": \"2021-01-05T01:08:17.901982Z\", \"created_time\": \"2021-01-05T01:07:53.252639Z\", \"created_time_dt\": \"2021-01-05T01:07:53.252639Z\", \"duration\": \"0:00:24\", \"iteration\": \"8\", \"goal\": \"r2_score_max\", \"run_name\": \"MinMaxScaler, ExtremeRandomTrees\", \"run_properties\": \"copy=True, feature_range=(0, 1\", \"primary_metric\": 0.77188259, \"best_metric\": 0.80864174}, {\"run_id\": \"AutoML_6d831474-2d36-4cb2-9b14-3f73c4abb223_9\", \"run_number\": 82, \"metric\": null, \"status\": \"Completed\", \"run_type\": null, \"training_percent\": \"100\", \"start_time\": \"2021-01-05T01:08:19.437071Z\", \"end_time\": \"2021-01-05T01:08:42.885477Z\", \"created_time\": \"2021-01-05T01:08:19.327835Z\", \"created_time_dt\": \"2021-01-05T01:08:19.327835Z\", \"duration\": \"0:00:23\", \"iteration\": \"9\", \"goal\": \"r2_score_max\", \"run_name\": \"StandardScalerWrapper, ElasticNet\", \"run_properties\": \"<azureml.automl.runtime.shared.model_wrappers.StandardScalerWrapper object at 0x7f7b6c230c88\", \"primary_metric\": 0.1036744, \"best_metric\": 0.80864174}, {\"run_id\": \"AutoML_6d831474-2d36-4cb2-9b14-3f73c4abb223_10\", \"run_number\": 83, \"metric\": null, \"status\": \"Completed\", \"run_type\": null, \"training_percent\": \"100\", \"start_time\": \"2021-01-05T01:08:45.025459Z\", \"end_time\": \"2021-01-05T01:09:20.837729Z\", \"created_time\": \"2021-01-05T01:08:44.735212Z\", \"created_time_dt\": \"2021-01-05T01:08:44.735212Z\", \"duration\": \"0:00:36\", \"iteration\": \"10\", \"goal\": \"r2_score_max\", \"run_name\": \"MinMaxScaler, RandomForest\", \"run_properties\": \"copy=True, feature_range=(0, 1\", \"primary_metric\": 0.78534266, \"best_metric\": 0.80864174}, {\"run_id\": \"AutoML_6d831474-2d36-4cb2-9b14-3f73c4abb223_11\", \"run_number\": 84, \"metric\": null, \"status\": \"Completed\", \"run_type\": null, \"training_percent\": \"100\", \"start_time\": \"2021-01-05T01:09:23.102809Z\", \"end_time\": \"2021-01-05T01:09:46.488736Z\", \"created_time\": \"2021-01-05T01:09:22.786843Z\", \"created_time_dt\": \"2021-01-05T01:09:22.786843Z\", \"duration\": \"0:00:23\", \"iteration\": \"11\", \"goal\": \"r2_score_max\", \"run_name\": \"MinMaxScaler, RandomForest\", \"run_properties\": \"copy=True, feature_range=(0, 1\", \"primary_metric\": 0.70413021, \"best_metric\": 0.80864174}, {\"run_id\": \"AutoML_6d831474-2d36-4cb2-9b14-3f73c4abb223_12\", \"run_number\": 85, \"metric\": null, \"status\": \"Completed\", \"run_type\": null, \"training_percent\": \"100\", \"start_time\": \"2021-01-05T01:09:48.126835Z\", \"end_time\": \"2021-01-05T01:10:12.161937Z\", \"created_time\": \"2021-01-05T01:09:48.010725Z\", \"created_time_dt\": \"2021-01-05T01:09:48.010725Z\", \"duration\": \"0:00:24\", \"iteration\": \"12\", \"goal\": \"r2_score_max\", \"run_name\": \"StandardScalerWrapper, XGBoostRegressor\", \"run_properties\": \"<azureml.automl.runtime.shared.model_wrappers.StandardScalerWrapper object at 0x7f7bdd45d2e8\", \"primary_metric\": 0.21900661, \"best_metric\": 0.80864174}, {\"run_id\": \"AutoML_6d831474-2d36-4cb2-9b14-3f73c4abb223_13\", \"run_number\": 86, \"metric\": null, \"status\": \"Completed\", \"run_type\": null, \"training_percent\": \"100\", \"start_time\": \"2021-01-05T01:10:13.876397Z\", \"end_time\": \"2021-01-05T01:10:41.727788Z\", \"created_time\": \"2021-01-05T01:10:13.775609Z\", \"created_time_dt\": \"2021-01-05T01:10:13.775609Z\", \"duration\": \"0:00:27\", \"iteration\": \"13\", \"goal\": \"r2_score_max\", \"run_name\": \"RobustScaler, LassoLars\", \"run_properties\": \"copy=True, quantile_range=[10, 90], with_centering=False,\\n             with_scaling=True\", \"primary_metric\": 0.28157744, \"best_metric\": 0.80864174}, {\"run_id\": \"AutoML_6d831474-2d36-4cb2-9b14-3f73c4abb223_14\", \"run_number\": 87, \"metric\": null, \"status\": \"Completed\", \"run_type\": null, \"training_percent\": \"100\", \"start_time\": \"2021-01-05T01:10:43.315083Z\", \"end_time\": \"2021-01-05T01:11:08.941161Z\", \"created_time\": \"2021-01-05T01:10:43.206429Z\", \"created_time_dt\": \"2021-01-05T01:10:43.206429Z\", \"duration\": \"0:00:25\", \"iteration\": \"14\", \"goal\": \"r2_score_max\", \"run_name\": \"MinMaxScaler, ExtremeRandomTrees\", \"run_properties\": \"copy=True, feature_range=(0, 1\", \"primary_metric\": 0.79974395, \"best_metric\": 0.80864174}, {\"run_id\": \"AutoML_6d831474-2d36-4cb2-9b14-3f73c4abb223_15\", \"run_number\": 88, \"metric\": null, \"status\": \"Completed\", \"run_type\": null, \"training_percent\": \"100\", \"start_time\": \"2021-01-05T01:11:11.06566Z\", \"end_time\": \"2021-01-05T01:11:34.378694Z\", \"created_time\": \"2021-01-05T01:11:10.69094Z\", \"created_time_dt\": \"2021-01-05T01:11:10.69094Z\", \"duration\": \"0:00:23\", \"iteration\": \"15\", \"goal\": \"r2_score_max\", \"run_name\": \"MaxAbsScaler, ExtremeRandomTrees\", \"run_properties\": \"copy=True\", \"primary_metric\": 0.35530847, \"best_metric\": 0.80864174}, {\"run_id\": \"AutoML_6d831474-2d36-4cb2-9b14-3f73c4abb223_16\", \"run_number\": 89, \"metric\": null, \"status\": \"Completed\", \"run_type\": null, \"training_percent\": \"100\", \"start_time\": \"2021-01-05T01:11:35.794053Z\", \"end_time\": \"2021-01-05T01:12:01.282625Z\", \"created_time\": \"2021-01-05T01:11:35.68848Z\", \"created_time_dt\": \"2021-01-05T01:11:35.68848Z\", \"duration\": \"0:00:25\", \"iteration\": \"16\", \"goal\": \"r2_score_max\", \"run_name\": \"MinMaxScaler, ExtremeRandomTrees\", \"run_properties\": \"copy=True, feature_range=(0, 1\", \"primary_metric\": 0.74496679, \"best_metric\": 0.80864174}, {\"run_id\": \"AutoML_6d831474-2d36-4cb2-9b14-3f73c4abb223_17\", \"run_number\": 90, \"metric\": null, \"status\": \"Completed\", \"run_type\": null, \"training_percent\": \"100\", \"start_time\": \"2021-01-05T01:12:02.806527Z\", \"end_time\": \"2021-01-05T01:12:26.845173Z\", \"created_time\": \"2021-01-05T01:12:02.702896Z\", \"created_time_dt\": \"2021-01-05T01:12:02.702896Z\", \"duration\": \"0:00:24\", \"iteration\": \"17\", \"goal\": \"r2_score_max\", \"run_name\": \"MaxAbsScaler, ElasticNet\", \"run_properties\": \"copy=True\", \"primary_metric\": 0.06555113, \"best_metric\": 0.80864174}, {\"run_id\": \"AutoML_6d831474-2d36-4cb2-9b14-3f73c4abb223_18\", \"run_number\": 91, \"metric\": null, \"status\": \"Completed\", \"run_type\": null, \"training_percent\": \"100\", \"start_time\": \"2021-01-05T01:12:28.882474Z\", \"end_time\": \"2021-01-05T01:12:52.09607Z\", \"created_time\": \"2021-01-05T01:12:28.579439Z\", \"created_time_dt\": \"2021-01-05T01:12:28.579439Z\", \"duration\": \"0:00:23\", \"iteration\": \"18\", \"goal\": \"r2_score_max\", \"run_name\": \"MinMaxScaler, RandomForest\", \"run_properties\": \"copy=True, feature_range=(0, 1\", \"primary_metric\": 0.43558946, \"best_metric\": 0.80864174}, {\"run_id\": \"AutoML_6d831474-2d36-4cb2-9b14-3f73c4abb223_19\", \"run_number\": 92, \"metric\": null, \"status\": \"Completed\", \"run_type\": null, \"training_percent\": \"100\", \"start_time\": \"2021-01-05T01:12:53.541176Z\", \"end_time\": \"2021-01-05T01:13:18.203835Z\", \"created_time\": \"2021-01-05T01:12:53.431864Z\", \"created_time_dt\": \"2021-01-05T01:12:53.431864Z\", \"duration\": \"0:00:24\", \"iteration\": \"19\", \"goal\": \"r2_score_max\", \"run_name\": \"MaxAbsScaler, RandomForest\", \"run_properties\": \"copy=True\", \"primary_metric\": 0.62240043, \"best_metric\": 0.80864174}, {\"run_id\": \"AutoML_6d831474-2d36-4cb2-9b14-3f73c4abb223_20\", \"run_number\": 93, \"metric\": null, \"status\": \"Completed\", \"run_type\": null, \"training_percent\": \"100\", \"start_time\": \"2021-01-05T01:13:19.658073Z\", \"end_time\": \"2021-01-05T01:13:43.104017Z\", \"created_time\": \"2021-01-05T01:13:19.532471Z\", \"created_time_dt\": \"2021-01-05T01:13:19.532471Z\", \"duration\": \"0:00:23\", \"iteration\": \"20\", \"goal\": \"r2_score_max\", \"run_name\": \"RobustScaler, ElasticNet\", \"run_properties\": \"copy=True, quantile_range=[10, 90], with_centering=True,\\n             with_scaling=False\", \"primary_metric\": 0.27122094, \"best_metric\": 0.80864174}, {\"run_id\": \"AutoML_6d831474-2d36-4cb2-9b14-3f73c4abb223_21\", \"run_number\": 94, \"metric\": null, \"status\": \"Completed\", \"run_type\": null, \"training_percent\": \"100\", \"start_time\": \"2021-01-05T01:13:44.823144Z\", \"end_time\": \"2021-01-05T01:14:15.917151Z\", \"created_time\": \"2021-01-05T01:13:44.70755Z\", \"created_time_dt\": \"2021-01-05T01:13:44.70755Z\", \"duration\": \"0:00:31\", \"iteration\": \"21\", \"goal\": \"r2_score_max\", \"run_name\": \"StandardScalerWrapper, RandomForest\", \"run_properties\": \"<azureml.automl.runtime.shared.model_wrappers.StandardScalerWrapper object at 0x7f7b62743748\", \"primary_metric\": 0.53920175, \"best_metric\": 0.80864174}, {\"run_id\": \"AutoML_6d831474-2d36-4cb2-9b14-3f73c4abb223_22\", \"run_number\": 95, \"metric\": null, \"status\": \"Completed\", \"run_type\": null, \"training_percent\": \"100\", \"start_time\": \"2021-01-05T01:14:18.516714Z\", \"end_time\": \"2021-01-05T01:15:00.505854Z\", \"created_time\": \"2021-01-05T01:14:18.058898Z\", \"created_time_dt\": \"2021-01-05T01:14:18.058898Z\", \"duration\": \"0:00:42\", \"iteration\": \"22\", \"goal\": \"r2_score_max\", \"run_name\": \"StandardScalerWrapper, RandomForest\", \"run_properties\": \"<azureml.automl.runtime.shared.model_wrappers.StandardScalerWrapper object at 0x7f7b626eecf8\", \"primary_metric\": 0.80308108, \"best_metric\": 0.80864174}, {\"run_id\": \"AutoML_6d831474-2d36-4cb2-9b14-3f73c4abb223_23\", \"run_number\": 96, \"metric\": null, \"status\": \"Completed\", \"run_type\": null, \"training_percent\": \"100\", \"start_time\": \"2021-01-05T01:15:03.269647Z\", \"end_time\": \"2021-01-05T01:15:28.422063Z\", \"created_time\": \"2021-01-05T01:15:02.822463Z\", \"created_time_dt\": \"2021-01-05T01:15:02.822463Z\", \"duration\": \"0:00:25\", \"iteration\": \"23\", \"goal\": \"r2_score_max\", \"run_name\": \"SparseNormalizer, XGBoostRegressor\", \"run_properties\": \"<azureml.automl.runtime.shared.model_wrappers.SparseNormalizer object at 0x7f7b62356e80\", \"primary_metric\": 0.09675177, \"best_metric\": 0.80864174}, {\"run_id\": \"AutoML_6d831474-2d36-4cb2-9b14-3f73c4abb223_24\", \"run_number\": 97, \"metric\": null, \"status\": \"Completed\", \"run_type\": null, \"training_percent\": \"100\", \"start_time\": \"2021-01-05T01:15:29.729104Z\", \"end_time\": \"2021-01-05T01:15:55.323614Z\", \"created_time\": \"2021-01-05T01:15:29.616241Z\", \"created_time_dt\": \"2021-01-05T01:15:29.616241Z\", \"duration\": \"0:00:25\", \"iteration\": \"24\", \"goal\": \"r2_score_max\", \"run_name\": \"RobustScaler, GradientBoosting\", \"run_properties\": \"copy=True, quantile_range=[10, 90], with_centering=True,\\n             with_scaling=False\", \"primary_metric\": 0.70357137, \"best_metric\": 0.80864174}, {\"run_id\": \"AutoML_6d831474-2d36-4cb2-9b14-3f73c4abb223_25\", \"run_number\": 98, \"metric\": null, \"status\": \"Completed\", \"run_type\": null, \"training_percent\": \"100\", \"start_time\": \"2021-01-05T01:15:57.723367Z\", \"end_time\": \"2021-01-05T01:16:48.12459Z\", \"created_time\": \"2021-01-05T01:15:57.616645Z\", \"created_time_dt\": \"2021-01-05T01:15:57.616645Z\", \"duration\": \"0:00:50\", \"iteration\": \"25\", \"goal\": \"r2_score_max\", \"run_name\": \"PCA, XGBoostRegressor\", \"run_properties\": \"copy=True, iterated_power='auto', n_components=0.8015789473684211,\\n    random_state=None, svd_solver='auto', tol=0.0, whiten=True\", \"primary_metric\": 0.1941373, \"best_metric\": 0.80864174}, {\"run_id\": \"AutoML_6d831474-2d36-4cb2-9b14-3f73c4abb223_26\", \"run_number\": 99, \"metric\": null, \"status\": \"Completed\", \"run_type\": null, \"training_percent\": \"100\", \"start_time\": \"2021-01-05T01:16:49.439803Z\", \"end_time\": \"2021-01-05T01:17:16.204569Z\", \"created_time\": \"2021-01-05T01:16:49.340412Z\", \"created_time_dt\": \"2021-01-05T01:16:49.340412Z\", \"duration\": \"0:00:26\", \"iteration\": \"26\", \"goal\": \"r2_score_max\", \"run_name\": \"MaxAbsScaler, ExtremeRandomTrees\", \"run_properties\": \"copy=True\", \"primary_metric\": 0.58787827, \"best_metric\": 0.80864174}, {\"run_id\": \"AutoML_6d831474-2d36-4cb2-9b14-3f73c4abb223_27\", \"run_number\": 100, \"metric\": null, \"status\": \"Completed\", \"run_type\": null, \"training_percent\": \"100\", \"start_time\": \"2021-01-05T01:17:17.562188Z\", \"end_time\": \"2021-01-05T01:17:47.597127Z\", \"created_time\": \"2021-01-05T01:17:17.443095Z\", \"created_time_dt\": \"2021-01-05T01:17:17.443095Z\", \"duration\": \"0:00:30\", \"iteration\": \"27\", \"goal\": \"r2_score_max\", \"run_name\": \"StandardScalerWrapper, LightGBM\", \"run_properties\": \"<azureml.automl.runtime.shared.model_wrappers.StandardScalerWrapper object at 0x7f7b6c254b70\", \"primary_metric\": 0.63765944, \"best_metric\": 0.80864174}, {\"run_id\": \"AutoML_6d831474-2d36-4cb2-9b14-3f73c4abb223_28\", \"run_number\": 101, \"metric\": null, \"status\": \"Completed\", \"run_type\": null, \"training_percent\": \"100\", \"start_time\": \"2021-01-05T01:17:48.948645Z\", \"end_time\": \"2021-01-05T01:18:12.470466Z\", \"created_time\": \"2021-01-05T01:17:48.813573Z\", \"created_time_dt\": \"2021-01-05T01:17:48.813573Z\", \"duration\": \"0:00:23\", \"iteration\": \"28\", \"goal\": \"r2_score_max\", \"run_name\": \"StandardScalerWrapper, LightGBM\", \"run_properties\": \"<azureml.automl.runtime.shared.model_wrappers.StandardScalerWrapper object at 0x7f7b62437358\", \"primary_metric\": 0.64841648, \"best_metric\": 0.80864174}, {\"run_id\": \"AutoML_6d831474-2d36-4cb2-9b14-3f73c4abb223_29\", \"run_number\": 102, \"metric\": null, \"status\": \"Completed\", \"run_type\": null, \"training_percent\": \"100\", \"start_time\": \"2021-01-05T01:18:13.948744Z\", \"end_time\": \"2021-01-05T01:18:42.740436Z\", \"created_time\": \"2021-01-05T01:18:13.818212Z\", \"created_time_dt\": \"2021-01-05T01:18:13.818212Z\", \"duration\": \"0:00:28\", \"iteration\": \"29\", \"goal\": \"r2_score_max\", \"run_name\": \"RobustScaler, RandomForest\", \"run_properties\": \"copy=True, quantile_range=[10, 90], with_centering=True,\\n             with_scaling=False\", \"primary_metric\": 0.6926473, \"best_metric\": 0.80864174}, {\"run_id\": \"AutoML_6d831474-2d36-4cb2-9b14-3f73c4abb223_30\", \"run_number\": 103, \"metric\": null, \"status\": \"Completed\", \"run_type\": null, \"training_percent\": \"100\", \"start_time\": \"2021-01-05T01:18:45.094482Z\", \"end_time\": \"2021-01-05T01:19:08.744395Z\", \"created_time\": \"2021-01-05T01:18:44.980284Z\", \"created_time_dt\": \"2021-01-05T01:18:44.980284Z\", \"duration\": \"0:00:23\", \"iteration\": \"30\", \"goal\": \"r2_score_max\", \"run_name\": \"TruncatedSVDWrapper, XGBoostRegressor\", \"run_properties\": \"n_components=0.3563157894736842, random_state=None\", \"primary_metric\": 0.67942318, \"best_metric\": 0.80864174}, {\"run_id\": \"AutoML_6d831474-2d36-4cb2-9b14-3f73c4abb223_31\", \"run_number\": 104, \"metric\": null, \"status\": \"Completed\", \"run_type\": null, \"training_percent\": \"100\", \"start_time\": \"2021-01-05T01:19:09.09978Z\", \"end_time\": \"2021-01-05T01:19:38.739047Z\", \"created_time\": \"2021-01-05T01:19:08.984337Z\", \"created_time_dt\": \"2021-01-05T01:19:08.984337Z\", \"duration\": \"0:00:29\", \"iteration\": \"31\", \"goal\": \"r2_score_max\", \"run_name\": \"VotingEnsemble\", \"run_properties\": \"estimators=[('4',\\n                                          Pipeline(memory=None,\\n                                                   steps=[('standardscalerwrapper',\\n                                                           <azureml.automl.runtime.shared.model_wrappers.StandardScalerWrapper object at 0x7f7bbb0ee588>\", \"primary_metric\": 0.82526825, \"best_metric\": 0.82526825}, {\"run_id\": \"AutoML_6d831474-2d36-4cb2-9b14-3f73c4abb223_32\", \"run_number\": 105, \"metric\": null, \"status\": \"Completed\", \"run_type\": null, \"training_percent\": \"100\", \"start_time\": \"2021-01-05T01:19:39.502215Z\", \"end_time\": \"2021-01-05T01:20:09.08277Z\", \"created_time\": \"2021-01-05T01:19:39.35893Z\", \"created_time_dt\": \"2021-01-05T01:19:39.35893Z\", \"duration\": \"0:00:29\", \"iteration\": \"32\", \"goal\": \"r2_score_max\", \"run_name\": \"StackEnsemble\", \"run_properties\": \"base_learners=[('4',\\n                                       Pipeline(memory=None,\\n                                                steps=[('standardscalerwrapper',\\n                                                        <azureml.automl.runtime.shared.model_wrappers.StandardScalerWrapper object at 0x7f7b4406c160>\", \"primary_metric\": 0.82918514, \"best_metric\": 0.82918514}], \"children_metrics\": {\"categories\": [0], \"series\": {\"normalized_median_absolute_error\": [{\"categories\": [\"0\", \"1\", \"2\", \"3\", \"4\", \"5\", \"6\", \"7\", \"8\", \"9\", \"10\", \"11\", \"12\", \"13\", \"14\", \"15\", \"16\", \"17\", \"18\", \"19\", \"20\", \"21\", \"22\", \"23\", \"24\", \"25\", \"26\", \"27\", \"28\", \"29\", \"30\", \"31\", \"32\"], \"mode\": \"markers\", \"name\": \"normalized_median_absolute_error\", \"stepped\": false, \"type\": \"scatter\", \"data\": [0.0629558276239716, 0.12816591616030093, 0.11250785545066551, 0.11354204277479878, 0.04487157751012732, 0.26538350175250636, 0.11820617055450926, 0.07133964256004051, 0.0815152597639696, 0.32683280018922695, 0.0680239564961786, 0.11266433203688071, 0.2902166107554494, 0.2514057644939441, 0.05967078189300423, 0.21788933829982804, 0.09325209918747819, 0.3357410732324739, 0.2001208067736654, 0.13377219541154298, 0.26342066605773, 0.17996024769164473, 0.05907716865895924, 0.314808127320843, 0.11207306666668986, 0.2471641257957176, 0.17473956607309118, 0.13489495166866614, 0.14422052829173623, 0.11015983245149903, 0.1206714959792149, 0.055588588527609804, 0.046215290895671085]}, {\"categories\": [\"0\", \"1\", \"2\", \"3\", \"4\", \"5\", \"6\", \"7\", \"8\", \"9\", \"10\", \"11\", \"12\", \"13\", \"14\", \"15\", \"16\", \"17\", \"18\", \"19\", \"20\", \"21\", \"22\", \"23\", \"24\", \"25\", \"26\", \"27\", \"28\", \"29\", \"30\", \"31\", \"32\"], \"mode\": \"lines\", \"name\": \"normalized_median_absolute_error_min\", \"stepped\": true, \"type\": \"scatter\", \"data\": [0.0629558276239716, 0.0629558276239716, 0.0629558276239716, 0.0629558276239716, 0.04487157751012732, 0.04487157751012732, 0.04487157751012732, 0.04487157751012732, 0.04487157751012732, 0.04487157751012732, 0.04487157751012732, 0.04487157751012732, 0.04487157751012732, 0.04487157751012732, 0.04487157751012732, 0.04487157751012732, 0.04487157751012732, 0.04487157751012732, 0.04487157751012732, 0.04487157751012732, 0.04487157751012732, 0.04487157751012732, 0.04487157751012732, 0.04487157751012732, 0.04487157751012732, 0.04487157751012732, 0.04487157751012732, 0.04487157751012732, 0.04487157751012732, 0.04487157751012732, 0.04487157751012732, 0.04487157751012732, 0.04487157751012732]}], \"root_mean_squared_error\": [{\"categories\": [\"0\", \"1\", \"2\", \"3\", \"4\", \"5\", \"6\", \"7\", \"8\", \"9\", \"10\", \"11\", \"12\", \"13\", \"14\", \"15\", \"16\", \"17\", \"18\", \"19\", \"20\", \"21\", \"22\", \"23\", \"24\", \"25\", \"26\", \"27\", \"28\", \"29\", \"30\", \"31\", \"32\"], \"mode\": \"markers\", \"name\": \"root_mean_squared_error\", \"stepped\": false, \"type\": \"scatter\", \"data\": [4.875089575180048, 6.107899663162551, 6.044503980125604, 5.957323882992493, 4.664488276177249, 9.086417091828677, 6.245938000690045, 4.838606284686185, 5.097253166712083, 10.105284966211508, 4.941521169509483, 5.805203871868254, 9.430883842578936, 9.045391673841115, 4.773985527113582, 8.56987558407794, 5.390263365993331, 10.31782736087788, 8.019284468996391, 6.558247979030682, 9.110432449240884, 7.246004519176036, 4.7300490375792705, 10.140787211180177, 5.809431597010089, 9.58159978735676, 6.852618821656219, 6.424755439531208, 6.328776215901293, 5.91540417489788, 6.041070770660249, 4.457431595281957, 4.406178189541916]}, {\"categories\": [\"0\", \"1\", \"2\", \"3\", \"4\", \"5\", \"6\", \"7\", \"8\", \"9\", \"10\", \"11\", \"12\", \"13\", \"14\", \"15\", \"16\", \"17\", \"18\", \"19\", \"20\", \"21\", \"22\", \"23\", \"24\", \"25\", \"26\", \"27\", \"28\", \"29\", \"30\", \"31\", \"32\"], \"mode\": \"lines\", \"name\": \"root_mean_squared_error_min\", \"stepped\": true, \"type\": \"scatter\", \"data\": [4.875089575180048, 4.875089575180048, 4.875089575180048, 4.875089575180048, 4.664488276177249, 4.664488276177249, 4.664488276177249, 4.664488276177249, 4.664488276177249, 4.664488276177249, 4.664488276177249, 4.664488276177249, 4.664488276177249, 4.664488276177249, 4.664488276177249, 4.664488276177249, 4.664488276177249, 4.664488276177249, 4.664488276177249, 4.664488276177249, 4.664488276177249, 4.664488276177249, 4.664488276177249, 4.664488276177249, 4.664488276177249, 4.664488276177249, 4.664488276177249, 4.664488276177249, 4.664488276177249, 4.664488276177249, 4.664488276177249, 4.457431595281957, 4.406178189541916]}], \"mean_absolute_error\": [{\"categories\": [\"0\", \"1\", \"2\", \"3\", \"4\", \"5\", \"6\", \"7\", \"8\", \"9\", \"10\", \"11\", \"12\", \"13\", \"14\", \"15\", \"16\", \"17\", \"18\", \"19\", \"20\", \"21\", \"22\", \"23\", \"24\", \"25\", \"26\", \"27\", \"28\", \"29\", \"30\", \"31\", \"32\"], \"mode\": \"markers\", \"name\": \"mean_absolute_error\", \"stepped\": false, \"type\": \"scatter\", \"data\": [3.1050349058393336, 4.530552995123831, 4.3065632273010115, 4.256836017235594, 2.7762822330673806, 7.717330988635145, 4.38053120312263, 3.17233325153792, 3.479010336275428, 8.950589110518422, 3.2120379308689966, 4.099064136412862, 7.77501353222767, 7.62769009832704, 3.003467600175083, 7.091830550574497, 3.771489774478065, 9.12268190832455, 6.078102301430474, 4.647240179394043, 7.6404313633257095, 5.530195943268403, 2.962670913568249, 8.611444621183436, 4.198213952226653, 7.85768236778761, 5.336773093611974, 4.872939692617143, 4.745425347709818, 4.1736830849800235, 4.280149630245979, 2.801526524130822, 2.796547942595867]}, {\"categories\": [\"0\", \"1\", \"2\", \"3\", \"4\", \"5\", \"6\", \"7\", \"8\", \"9\", \"10\", \"11\", \"12\", \"13\", \"14\", \"15\", \"16\", \"17\", \"18\", \"19\", \"20\", \"21\", \"22\", \"23\", \"24\", \"25\", \"26\", \"27\", \"28\", \"29\", \"30\", \"31\", \"32\"], \"mode\": \"lines\", \"name\": \"mean_absolute_error_min\", \"stepped\": true, \"type\": \"scatter\", \"data\": [3.1050349058393336, 3.1050349058393336, 3.1050349058393336, 3.1050349058393336, 2.7762822330673806, 2.7762822330673806, 2.7762822330673806, 2.7762822330673806, 2.7762822330673806, 2.7762822330673806, 2.7762822330673806, 2.7762822330673806, 2.7762822330673806, 2.7762822330673806, 2.7762822330673806, 2.7762822330673806, 2.7762822330673806, 2.7762822330673806, 2.7762822330673806, 2.7762822330673806, 2.7762822330673806, 2.7762822330673806, 2.7762822330673806, 2.7762822330673806, 2.7762822330673806, 2.7762822330673806, 2.7762822330673806, 2.7762822330673806, 2.7762822330673806, 2.7762822330673806, 2.7762822330673806, 2.7762822330673806, 2.7762822330673806]}], \"explained_variance\": [{\"categories\": [\"0\", \"1\", \"2\", \"3\", \"4\", \"5\", \"6\", \"7\", \"8\", \"9\", \"10\", \"11\", \"12\", \"13\", \"14\", \"15\", \"16\", \"17\", \"18\", \"19\", \"20\", \"21\", \"22\", \"23\", \"24\", \"25\", \"26\", \"27\", \"28\", \"29\", \"30\", \"31\", \"32\"], \"mode\": \"markers\", \"name\": \"explained_variance\", \"stepped\": false, \"type\": \"scatter\", \"data\": [0.7918308753784015, 0.6749858465087031, 0.6807097170793254, 0.6897587730435362, 0.8090575526506987, 0.2754108829167016, 0.6595838209660653, 0.7948050789635513, 0.7725925200598107, 0.10464043236098075, 0.7860965088906219, 0.7051261176206708, 0.6385218184704019, 0.28202930329366066, 0.8004951105501821, 0.3577098144098729, 0.745762408083778, 0.06657221499043109, 0.4377881834168466, 0.6248259246013362, 0.27153390087017976, 0.5415671770776608, 0.8037893354465409, 0.4758415287019775, 0.7049374949316592, 0.19799501028793112, 0.5893927374646994, 0.6391561053311867, 0.649944007514586, 0.6937841335129269, 0.6813424803704428, 0.8258224142275914, 0.8304305902881373]}, {\"categories\": [\"0\", \"1\", \"2\", \"3\", \"4\", \"5\", \"6\", \"7\", \"8\", \"9\", \"10\", \"11\", \"12\", \"13\", \"14\", \"15\", \"16\", \"17\", \"18\", \"19\", \"20\", \"21\", \"22\", \"23\", \"24\", \"25\", \"26\", \"27\", \"28\", \"29\", \"30\", \"31\", \"32\"], \"mode\": \"lines\", \"name\": \"explained_variance_max\", \"stepped\": true, \"type\": \"scatter\", \"data\": [0.7918308753784015, 0.7918308753784015, 0.7918308753784015, 0.7918308753784015, 0.8090575526506987, 0.8090575526506987, 0.8090575526506987, 0.8090575526506987, 0.8090575526506987, 0.8090575526506987, 0.8090575526506987, 0.8090575526506987, 0.8090575526506987, 0.8090575526506987, 0.8090575526506987, 0.8090575526506987, 0.8090575526506987, 0.8090575526506987, 0.8090575526506987, 0.8090575526506987, 0.8090575526506987, 0.8090575526506987, 0.8090575526506987, 0.8090575526506987, 0.8090575526506987, 0.8090575526506987, 0.8090575526506987, 0.8090575526506987, 0.8090575526506987, 0.8090575526506987, 0.8090575526506987, 0.8258224142275914, 0.8304305902881373]}], \"normalized_root_mean_squared_error\": [{\"categories\": [\"0\", \"1\", \"2\", \"3\", \"4\", \"5\", \"6\", \"7\", \"8\", \"9\", \"10\", \"11\", \"12\", \"13\", \"14\", \"15\", \"16\", \"17\", \"18\", \"19\", \"20\", \"21\", \"22\", \"23\", \"24\", \"25\", \"26\", \"27\", \"28\", \"29\", \"30\", \"31\", \"32\"], \"mode\": \"markers\", \"name\": \"normalized_root_mean_squared_error\", \"stepped\": false, \"type\": \"scatter\", \"data\": [0.18055887315481656, 0.22621850604305746, 0.22387051778242983, 0.22064162529601825, 0.17275882504360177, 0.33653396636402505, 0.23133103706259428, 0.17920764017356242, 0.1887871543226697, 0.37426981356338923, 0.18301930257442525, 0.21500755080993536, 0.3492919941695902, 0.33501450643855973, 0.17681427878198455, 0.3174027994102941, 0.19963938392567893, 0.3821417541065881, 0.2970105358887552, 0.24289807329743263, 0.33742342404595865, 0.26837053774726055, 0.17518700139182483, 0.37558471152519174, 0.2151641332225959, 0.3548740661983985, 0.2538006970983785, 0.23795390516782253, 0.23439911910745526, 0.21908904351473626, 0.22374336187630553, 0.16509005908451693, 0.16319178479784877]}, {\"categories\": [\"0\", \"1\", \"2\", \"3\", \"4\", \"5\", \"6\", \"7\", \"8\", \"9\", \"10\", \"11\", \"12\", \"13\", \"14\", \"15\", \"16\", \"17\", \"18\", \"19\", \"20\", \"21\", \"22\", \"23\", \"24\", \"25\", \"26\", \"27\", \"28\", \"29\", \"30\", \"31\", \"32\"], \"mode\": \"lines\", \"name\": \"normalized_root_mean_squared_error_min\", \"stepped\": true, \"type\": \"scatter\", \"data\": [0.18055887315481656, 0.18055887315481656, 0.18055887315481656, 0.18055887315481656, 0.17275882504360177, 0.17275882504360177, 0.17275882504360177, 0.17275882504360177, 0.17275882504360177, 0.17275882504360177, 0.17275882504360177, 0.17275882504360177, 0.17275882504360177, 0.17275882504360177, 0.17275882504360177, 0.17275882504360177, 0.17275882504360177, 0.17275882504360177, 0.17275882504360177, 0.17275882504360177, 0.17275882504360177, 0.17275882504360177, 0.17275882504360177, 0.17275882504360177, 0.17275882504360177, 0.17275882504360177, 0.17275882504360177, 0.17275882504360177, 0.17275882504360177, 0.17275882504360177, 0.17275882504360177, 0.16509005908451693, 0.16319178479784877]}], \"spearman_correlation\": [{\"categories\": [\"0\", \"1\", \"2\", \"3\", \"4\", \"5\", \"6\", \"7\", \"8\", \"9\", \"10\", \"11\", \"12\", \"13\", \"14\", \"15\", \"16\", \"17\", \"18\", \"19\", \"20\", \"21\", \"22\", \"23\", \"24\", \"25\", \"26\", \"27\", \"28\", \"29\", \"30\", \"31\", \"32\"], \"mode\": \"markers\", \"name\": \"spearman_correlation\", \"stepped\": false, \"type\": \"scatter\", \"data\": [0.8485711176015945, 0.8051031963770484, 0.8041204255943234, 0.8173575712237916, 0.8552771868621841, 0.5312159601901961, 0.7873903616162948, 0.8500734034613764, 0.8492604111043284, 0.44398067007611175, 0.855501935836214, 0.8270594993214709, 0.785202011650823, 0.5272521547799598, 0.8624614275336006, 0.602116153343402, 0.838883689385019, 0.3299608215477569, 0.6589029186160689, 0.7737450474526719, 0.527179428298372, 0.7595048619982808, 0.8598202089580504, 0.7144013652057009, 0.8076642686573424, 0.4595226395129441, 0.8046174048705178, 0.7833976940048583, 0.7980518614917237, 0.826606677939958, 0.7939610374190008, 0.8661095293812838, 0.8662505462738666]}, {\"categories\": [\"0\", \"1\", \"2\", \"3\", \"4\", \"5\", \"6\", \"7\", \"8\", \"9\", \"10\", \"11\", \"12\", \"13\", \"14\", \"15\", \"16\", \"17\", \"18\", \"19\", \"20\", \"21\", \"22\", \"23\", \"24\", \"25\", \"26\", \"27\", \"28\", \"29\", \"30\", \"31\", \"32\"], \"mode\": \"lines\", \"name\": \"spearman_correlation_max\", \"stepped\": true, \"type\": \"scatter\", \"data\": [0.8485711176015945, 0.8485711176015945, 0.8485711176015945, 0.8485711176015945, 0.8552771868621841, 0.8552771868621841, 0.8552771868621841, 0.8552771868621841, 0.8552771868621841, 0.8552771868621841, 0.855501935836214, 0.855501935836214, 0.855501935836214, 0.855501935836214, 0.8624614275336006, 0.8624614275336006, 0.8624614275336006, 0.8624614275336006, 0.8624614275336006, 0.8624614275336006, 0.8624614275336006, 0.8624614275336006, 0.8624614275336006, 0.8624614275336006, 0.8624614275336006, 0.8624614275336006, 0.8624614275336006, 0.8624614275336006, 0.8624614275336006, 0.8624614275336006, 0.8624614275336006, 0.8661095293812838, 0.8662505462738666]}], \"normalized_root_mean_squared_log_error\": [{\"categories\": [\"0\", \"1\", \"2\", \"3\", \"4\", \"5\", \"6\", \"7\", \"8\", \"9\", \"10\", \"11\", \"12\", \"13\", \"14\", \"15\", \"16\", \"17\", \"18\", \"19\", \"20\", \"21\", \"22\", \"23\", \"24\", \"25\", \"26\", \"27\", \"28\", \"29\", \"30\", \"31\", \"32\"], \"mode\": \"markers\", \"name\": \"normalized_root_mean_squared_log_error\", \"stepped\": false, \"type\": \"scatter\", \"data\": [0.1769146202820977, 0.22280578120797653, 0.22024050542259277, 0.2177842628508713, 0.16888145439311816, 0.33252509707664085, 0.2277631130576336, 0.1748953532603863, 0.18493519831114505, 0.37070024607936686, 0.18003535495738685, 0.2123161357581647, 0.33170373552692195, 0.3300714929075311, 0.173146060813792, 0.3165535316528079, 0.19579581292802137, 0.3782171249513146, 0.29490414674993287, 0.23931784942901282, 0.3331775201346794, 0.26693918924576054, 0.1715313546351721, 0.3581153828453784, 0.2110271485935428, 0.35111599567165497, 0.2528657361972362, 0.23363181668177194, 0.23124150951605926, 0.21801953483895053, 0.21884452485450825, 0.16125666282829154, 0.15858056011050628]}, {\"categories\": [\"0\", \"1\", \"2\", \"3\", \"4\", \"5\", \"6\", \"7\", \"8\", \"9\", \"10\", \"11\", \"12\", \"13\", \"14\", \"15\", \"16\", \"17\", \"18\", \"19\", \"20\", \"21\", \"22\", \"23\", \"24\", \"25\", \"26\", \"27\", \"28\", \"29\", \"30\", \"31\", \"32\"], \"mode\": \"lines\", \"name\": \"normalized_root_mean_squared_log_error_min\", \"stepped\": true, \"type\": \"scatter\", \"data\": [0.1769146202820977, 0.1769146202820977, 0.1769146202820977, 0.1769146202820977, 0.16888145439311816, 0.16888145439311816, 0.16888145439311816, 0.16888145439311816, 0.16888145439311816, 0.16888145439311816, 0.16888145439311816, 0.16888145439311816, 0.16888145439311816, 0.16888145439311816, 0.16888145439311816, 0.16888145439311816, 0.16888145439311816, 0.16888145439311816, 0.16888145439311816, 0.16888145439311816, 0.16888145439311816, 0.16888145439311816, 0.16888145439311816, 0.16888145439311816, 0.16888145439311816, 0.16888145439311816, 0.16888145439311816, 0.16888145439311816, 0.16888145439311816, 0.16888145439311816, 0.16888145439311816, 0.16125666282829154, 0.15858056011050628]}], \"normalized_mean_absolute_error\": [{\"categories\": [\"0\", \"1\", \"2\", \"3\", \"4\", \"5\", \"6\", \"7\", \"8\", \"9\", \"10\", \"11\", \"12\", \"13\", \"14\", \"15\", \"16\", \"17\", \"18\", \"19\", \"20\", \"21\", \"22\", \"23\", \"24\", \"25\", \"26\", \"27\", \"28\", \"29\", \"30\", \"31\", \"32\"], \"mode\": \"markers\", \"name\": \"normalized_mean_absolute_error\", \"stepped\": false, \"type\": \"scatter\", \"data\": [0.11500129280886419, 0.16779825907866042, 0.1595023417518893, 0.15766059323094792, 0.10282526789138446, 0.28582707365315346, 0.16224189641194928, 0.11749382413103406, 0.1288522346768677, 0.3315033003895712, 0.11896436780996283, 0.1518171902375134, 0.28796346415658036, 0.2825070406787793, 0.11123954074722531, 0.2626603907620184, 0.13968480646215056, 0.33787710771572405, 0.22511490005298052, 0.1721200066442238, 0.2829789393824336, 0.20482207197290378, 0.1097285523543796, 0.31894239337716423, 0.1554894056380242, 0.2910252728810226, 0.19765826272636944, 0.18047924787470895, 0.1757564943596229, 0.15458085499926014, 0.15852406037948066, 0.10376024163447488, 0.10357584972577283]}, {\"categories\": [\"0\", \"1\", \"2\", \"3\", \"4\", \"5\", \"6\", \"7\", \"8\", \"9\", \"10\", \"11\", \"12\", \"13\", \"14\", \"15\", \"16\", \"17\", \"18\", \"19\", \"20\", \"21\", \"22\", \"23\", \"24\", \"25\", \"26\", \"27\", \"28\", \"29\", \"30\", \"31\", \"32\"], \"mode\": \"lines\", \"name\": \"normalized_mean_absolute_error_min\", \"stepped\": true, \"type\": \"scatter\", \"data\": [0.11500129280886419, 0.11500129280886419, 0.11500129280886419, 0.11500129280886419, 0.10282526789138446, 0.10282526789138446, 0.10282526789138446, 0.10282526789138446, 0.10282526789138446, 0.10282526789138446, 0.10282526789138446, 0.10282526789138446, 0.10282526789138446, 0.10282526789138446, 0.10282526789138446, 0.10282526789138446, 0.10282526789138446, 0.10282526789138446, 0.10282526789138446, 0.10282526789138446, 0.10282526789138446, 0.10282526789138446, 0.10282526789138446, 0.10282526789138446, 0.10282526789138446, 0.10282526789138446, 0.10282526789138446, 0.10282526789138446, 0.10282526789138446, 0.10282526789138446, 0.10282526789138446, 0.10282526789138446, 0.10282526789138446]}], \"root_mean_squared_log_error\": [{\"categories\": [\"0\", \"1\", \"2\", \"3\", \"4\", \"5\", \"6\", \"7\", \"8\", \"9\", \"10\", \"11\", \"12\", \"13\", \"14\", \"15\", \"16\", \"17\", \"18\", \"19\", \"20\", \"21\", \"22\", \"23\", \"24\", \"25\", \"26\", \"27\", \"28\", \"29\", \"30\", \"31\", \"32\"], \"mode\": \"markers\", \"name\": \"root_mean_squared_log_error\", \"stepped\": false, \"type\": \"scatter\", \"data\": [0.055030252159442884, 0.06930494666244001, 0.0685070037162715, 0.06774297614256923, 0.05253149234069932, 0.10343373494113911, 0.07084695162104472, 0.054402148200568046, 0.05752509645608255, 0.1153083220865911, 0.056000973605923904, 0.06604208555324591, 0.10317824597633209, 0.10267052805687897, 0.05385802129752748, 0.09846569289208125, 0.06090334953669418, 0.1176464880285335, 0.09173153429963504, 0.074441115038059, 0.10363667467184791, 0.0830328825961815, 0.053355758183087444, 0.11139373212192798, 0.06564113910469167, 0.10921653477940542, 0.07865525869613604, 0.07267244371305161, 0.07192892570499808, 0.06781615877049114, 0.06807277638927683, 0.050159759570357676, 0.04932734330578061]}, {\"categories\": [\"0\", \"1\", \"2\", \"3\", \"4\", \"5\", \"6\", \"7\", \"8\", \"9\", \"10\", \"11\", \"12\", \"13\", \"14\", \"15\", \"16\", \"17\", \"18\", \"19\", \"20\", \"21\", \"22\", \"23\", \"24\", \"25\", \"26\", \"27\", \"28\", \"29\", \"30\", \"31\", \"32\"], \"mode\": \"lines\", \"name\": \"root_mean_squared_log_error_min\", \"stepped\": true, \"type\": \"scatter\", \"data\": [0.055030252159442884, 0.055030252159442884, 0.055030252159442884, 0.055030252159442884, 0.05253149234069932, 0.05253149234069932, 0.05253149234069932, 0.05253149234069932, 0.05253149234069932, 0.05253149234069932, 0.05253149234069932, 0.05253149234069932, 0.05253149234069932, 0.05253149234069932, 0.05253149234069932, 0.05253149234069932, 0.05253149234069932, 0.05253149234069932, 0.05253149234069932, 0.05253149234069932, 0.05253149234069932, 0.05253149234069932, 0.05253149234069932, 0.05253149234069932, 0.05253149234069932, 0.05253149234069932, 0.05253149234069932, 0.05253149234069932, 0.05253149234069932, 0.05253149234069932, 0.05253149234069932, 0.050159759570357676, 0.04932734330578061]}], \"r2_score\": [{\"categories\": [\"0\", \"1\", \"2\", \"3\", \"4\", \"5\", \"6\", \"7\", \"8\", \"9\", \"10\", \"11\", \"12\", \"13\", \"14\", \"15\", \"16\", \"17\", \"18\", \"19\", \"20\", \"21\", \"22\", \"23\", \"24\", \"25\", \"26\", \"27\", \"28\", \"29\", \"30\", \"31\", \"32\"], \"mode\": \"markers\", \"name\": \"r2_score\", \"stepped\": false, \"type\": \"scatter\", \"data\": [0.7912979153260212, 0.6724564907214644, 0.6791994292415504, 0.6885005104855271, 0.8086417421581217, 0.2750650933309238, 0.6576131002229827, 0.7941041060241169, 0.7718825905873506, 0.103674399079887, 0.7853426552264842, 0.704130206992, 0.21900661360257492, 0.28157744295129195, 0.7997439511918776, 0.35530846688057144, 0.7449667883127731, 0.06555113162394577, 0.43558945758084655, 0.6224004266803341, 0.2712209359417425, 0.5392017533450274, 0.8030810765375737, 0.09675176715038654, 0.7035713694728418, 0.19413730177323663, 0.5878782664243006, 0.6376594396379586, 0.648416477566835, 0.6926472963396314, 0.6794231830555537, 0.8252682500878641, 0.8291851395056247]}, {\"categories\": [\"0\", \"1\", \"2\", \"3\", \"4\", \"5\", \"6\", \"7\", \"8\", \"9\", \"10\", \"11\", \"12\", \"13\", \"14\", \"15\", \"16\", \"17\", \"18\", \"19\", \"20\", \"21\", \"22\", \"23\", \"24\", \"25\", \"26\", \"27\", \"28\", \"29\", \"30\", \"31\", \"32\"], \"mode\": \"lines\", \"name\": \"r2_score_max\", \"stepped\": true, \"type\": \"scatter\", \"data\": [0.7912979153260212, 0.7912979153260212, 0.7912979153260212, 0.7912979153260212, 0.8086417421581217, 0.8086417421581217, 0.8086417421581217, 0.8086417421581217, 0.8086417421581217, 0.8086417421581217, 0.8086417421581217, 0.8086417421581217, 0.8086417421581217, 0.8086417421581217, 0.8086417421581217, 0.8086417421581217, 0.8086417421581217, 0.8086417421581217, 0.8086417421581217, 0.8086417421581217, 0.8086417421581217, 0.8086417421581217, 0.8086417421581217, 0.8086417421581217, 0.8086417421581217, 0.8086417421581217, 0.8086417421581217, 0.8086417421581217, 0.8086417421581217, 0.8086417421581217, 0.8086417421581217, 0.8252682500878641, 0.8291851395056247]}], \"mean_absolute_percentage_error\": [{\"categories\": [\"0\", \"1\", \"2\", \"3\", \"4\", \"5\", \"6\", \"7\", \"8\", \"9\", \"10\", \"11\", \"12\", \"13\", \"14\", \"15\", \"16\", \"17\", \"18\", \"19\", \"20\", \"21\", \"22\", \"23\", \"24\", \"25\", \"26\", \"27\", \"28\", \"29\", \"30\", \"31\", \"32\"], \"mode\": \"markers\", \"name\": \"mean_absolute_percentage_error\", \"stepped\": false, \"type\": \"scatter\", \"data\": [3.5306839928919267, 5.2018936373676725, 4.918053481535025, 4.914320453366082, 3.158457183537704, 8.911492365421916, 5.042486687333669, 3.601060188147129, 3.9800055139970136, 10.378058646529567, 3.6948086073242883, 4.735710043787496, 8.176898458637227, 8.786574938721161, 3.4318903546286563, 8.259935369355253, 4.319209364667448, 10.580238816972889, 7.0771307107839005, 5.358887372574081, 8.818631012926515, 6.4358437278324985, 3.3915815030841547, 9.132529075391178, 4.763210832103245, 9.087582410163561, 6.201214467245393, 5.551586546792021, 5.460558296311469, 4.854753769119657, 4.894327779626052, 3.188484705399587, 3.1480465303612117]}, {\"categories\": [\"0\", \"1\", \"2\", \"3\", \"4\", \"5\", \"6\", \"7\", \"8\", \"9\", \"10\", \"11\", \"12\", \"13\", \"14\", \"15\", \"16\", \"17\", \"18\", \"19\", \"20\", \"21\", \"22\", \"23\", \"24\", \"25\", \"26\", \"27\", \"28\", \"29\", \"30\", \"31\", \"32\"], \"mode\": \"lines\", \"name\": \"mean_absolute_percentage_error_min\", \"stepped\": true, \"type\": \"scatter\", \"data\": [3.5306839928919267, 3.5306839928919267, 3.5306839928919267, 3.5306839928919267, 3.158457183537704, 3.158457183537704, 3.158457183537704, 3.158457183537704, 3.158457183537704, 3.158457183537704, 3.158457183537704, 3.158457183537704, 3.158457183537704, 3.158457183537704, 3.158457183537704, 3.158457183537704, 3.158457183537704, 3.158457183537704, 3.158457183537704, 3.158457183537704, 3.158457183537704, 3.158457183537704, 3.158457183537704, 3.158457183537704, 3.158457183537704, 3.158457183537704, 3.158457183537704, 3.158457183537704, 3.158457183537704, 3.158457183537704, 3.158457183537704, 3.158457183537704, 3.1480465303612117]}], \"median_absolute_error\": [{\"categories\": [\"0\", \"1\", \"2\", \"3\", \"4\", \"5\", \"6\", \"7\", \"8\", \"9\", \"10\", \"11\", \"12\", \"13\", \"14\", \"15\", \"16\", \"17\", \"18\", \"19\", \"20\", \"21\", \"22\", \"23\", \"24\", \"25\", \"26\", \"27\", \"28\", \"29\", \"30\", \"31\", \"32\"], \"mode\": \"markers\", \"name\": \"median_absolute_error\", \"stepped\": false, \"type\": \"scatter\", \"data\": [1.6998073458472334, 3.460479736328125, 3.0377120971679688, 3.065635154919567, 1.2115325927734375, 7.165354547317672, 3.1915666049717495, 1.9261703491210938, 2.2009120136271796, 8.824485605109126, 1.8366468253968218, 3.0419369649957795, 7.835848490397136, 6.787955641336491, 1.6111111111111143, 5.883012134095357, 2.5178066780619113, 9.065008977276795, 5.403261782888966, 3.6118492761116605, 7.112357983558709, 4.8589266876744075, 1.5950835537918995, 8.49981943766276, 3.0259728000006256, 6.673431396484375, 4.7179682839734625, 3.6421636950539855, 3.8939542638768785, 2.974315476190474, 3.2581303914388022, 1.5008918902454649, 1.2478128541831193]}, {\"categories\": [\"0\", \"1\", \"2\", \"3\", \"4\", \"5\", \"6\", \"7\", \"8\", \"9\", \"10\", \"11\", \"12\", \"13\", \"14\", \"15\", \"16\", \"17\", \"18\", \"19\", \"20\", \"21\", \"22\", \"23\", \"24\", \"25\", \"26\", \"27\", \"28\", \"29\", \"30\", \"31\", \"32\"], \"mode\": \"lines\", \"name\": \"median_absolute_error_min\", \"stepped\": true, \"type\": \"scatter\", \"data\": [1.6998073458472334, 1.6998073458472334, 1.6998073458472334, 1.6998073458472334, 1.2115325927734375, 1.2115325927734375, 1.2115325927734375, 1.2115325927734375, 1.2115325927734375, 1.2115325927734375, 1.2115325927734375, 1.2115325927734375, 1.2115325927734375, 1.2115325927734375, 1.2115325927734375, 1.2115325927734375, 1.2115325927734375, 1.2115325927734375, 1.2115325927734375, 1.2115325927734375, 1.2115325927734375, 1.2115325927734375, 1.2115325927734375, 1.2115325927734375, 1.2115325927734375, 1.2115325927734375, 1.2115325927734375, 1.2115325927734375, 1.2115325927734375, 1.2115325927734375, 1.2115325927734375, 1.2115325927734375, 1.2115325927734375]}]}, \"metricName\": null, \"primaryMetricName\": \"r2_score\", \"showLegend\": false}, \"run_metrics\": [{\"name\": \"normalized_root_mean_squared_log_error\", \"run_id\": \"AutoML_6d831474-2d36-4cb2-9b14-3f73c4abb223\", \"categories\": [0], \"series\": [{\"data\": [0.15858056011050628]}]}, {\"name\": \"mean_absolute_error\", \"run_id\": \"AutoML_6d831474-2d36-4cb2-9b14-3f73c4abb223\", \"categories\": [0], \"series\": [{\"data\": [2.796547942595867]}]}, {\"name\": \"normalized_root_mean_squared_error\", \"run_id\": \"AutoML_6d831474-2d36-4cb2-9b14-3f73c4abb223\", \"categories\": [0], \"series\": [{\"data\": [0.16319178479784877]}]}, {\"name\": \"normalized_mean_absolute_error\", \"run_id\": \"AutoML_6d831474-2d36-4cb2-9b14-3f73c4abb223\", \"categories\": [0], \"series\": [{\"data\": [0.10357584972577283]}]}, {\"name\": \"spearman_correlation\", \"run_id\": \"AutoML_6d831474-2d36-4cb2-9b14-3f73c4abb223\", \"categories\": [0], \"series\": [{\"data\": [0.8662505462738666]}]}, {\"name\": \"mean_absolute_percentage_error\", \"run_id\": \"AutoML_6d831474-2d36-4cb2-9b14-3f73c4abb223\", \"categories\": [0], \"series\": [{\"data\": [3.1480465303612117]}]}, {\"name\": \"explained_variance\", \"run_id\": \"AutoML_6d831474-2d36-4cb2-9b14-3f73c4abb223\", \"categories\": [0], \"series\": [{\"data\": [0.8304305902881373]}]}, {\"name\": \"normalized_median_absolute_error\", \"run_id\": \"AutoML_6d831474-2d36-4cb2-9b14-3f73c4abb223\", \"categories\": [0], \"series\": [{\"data\": [0.046215290895671085]}]}, {\"name\": \"median_absolute_error\", \"run_id\": \"AutoML_6d831474-2d36-4cb2-9b14-3f73c4abb223\", \"categories\": [0], \"series\": [{\"data\": [1.2478128541831193]}]}, {\"name\": \"root_mean_squared_log_error\", \"run_id\": \"AutoML_6d831474-2d36-4cb2-9b14-3f73c4abb223\", \"categories\": [0], \"series\": [{\"data\": [0.04932734330578061]}]}, {\"name\": \"r2_score\", \"run_id\": \"AutoML_6d831474-2d36-4cb2-9b14-3f73c4abb223\", \"categories\": [0], \"series\": [{\"data\": [0.8291851395056247]}]}, {\"name\": \"root_mean_squared_error\", \"run_id\": \"AutoML_6d831474-2d36-4cb2-9b14-3f73c4abb223\", \"categories\": [0], \"series\": [{\"data\": [4.406178189541916]}]}], \"run_logs\": \"\\nRun is completed.\", \"graph\": {}, \"widget_settings\": {\"childWidgetDisplay\": \"popup\", \"send_telemetry\": false, \"log_level\": \"INFO\", \"sdk_version\": \"1.19.0\"}, \"loading\": false}"
          },
          "metadata": {}
        },
        {
          "output_type": "stream",
          "name": "stdout",
          "text": [
            "\n",
            "****************************************************************************************************\n",
            "\n",
            "****************************************************************************************************\n",
            "ITERATION: The iteration being evaluated.\n",
            "PIPELINE: A summary description of the pipeline being evaluated.\n",
            "DURATION: Time taken for the current iteration.\n",
            "METRIC: The result of computing score on the fitted pipeline.\n",
            "BEST: The best observed score thus far.\n",
            "****************************************************************************************************\n",
            "\n",
            " ITERATION   PIPELINE                                       DURATION      METRIC      BEST\n",
            "         0   MaxAbsScaler LightGBM                          0:00:25       0.9779    0.9779\n",
            "         1   MaxAbsScaler XGBoostClassifier                 0:00:26       0.9738    0.9779\n",
            "         2   MinMaxScaler RandomForest                      0:00:24       0.9609    0.9779\n",
            "         3   RobustScaler ExtremeRandomTrees                0:00:25       0.9508    0.9779\n",
            "         4   MinMaxScaler RandomForest                      0:00:33       0.9685    0.9779\n",
            "         5   MinMaxScaler RandomForest                      0:00:24       0.9547    0.9779\n",
            "         6   StandardScalerWrapper RandomForest             0:00:23       0.9728    0.9779\n",
            "         7   MinMaxScaler ExtremeRandomTrees                0:00:24       0.9503    0.9779\n",
            "         8   MinMaxScaler ExtremeRandomTrees                0:00:29       0.9498    0.9779\n",
            "         9   SparseNormalizer KNN                           0:00:24       0.9724    0.9779\n",
            "        10   MinMaxScaler ExtremeRandomTrees                0:00:31       0.9408    0.9779\n",
            "        11   RobustScaler ExtremeRandomTrees                0:00:35       0.9454    0.9779\n",
            "        12   StandardScalerWrapper RandomForest             0:00:32       0.9558    0.9779\n",
            "        13   StandardScalerWrapper SGD                      0:00:24       0.8484    0.9779\n",
            "        14   RobustScaler RandomForest                      0:00:23       0.9552    0.9779\n",
            "        15   StandardScalerWrapper KNN                      0:00:23       0.9604    0.9779\n",
            "        16   MinMaxScaler RandomForest                      0:00:24       0.9543    0.9779\n",
            "        17   MinMaxScaler ExtremeRandomTrees                0:00:26       0.9246    0.9779\n",
            "        18   MaxAbsScaler RandomForest                      0:00:29       0.9538    0.9779\n",
            "        19   StandardScalerWrapper XGBoostClassifier        0:00:24       0.9642    0.9779\n",
            "        20   MaxAbsScaler RandomForest                      0:00:24       0.9685    0.9779\n",
            "        21   MaxAbsScaler ExtremeRandomTrees                0:00:24       0.9410    0.9779\n",
            "        22   StandardScalerWrapper SVM                      0:00:32       0.7509    0.9779\n",
            "        23   MinMaxScaler LightGBM                          0:00:29       0.9633    0.9779\n",
            "        24   RobustScaler LightGBM                          0:00:24       0.9519    0.9779\n",
            "        25   RobustScaler LightGBM                          0:00:24       0.9252    0.9779\n",
            "        26   StandardScalerWrapper ExtremeRandomTrees       0:00:26       0.9510    0.9779\n",
            "        27   StandardScalerWrapper XGBoostClassifier        0:00:24       0.9673    0.9779\n",
            "        28   StandardScalerWrapper ExtremeRandomTrees       0:00:26       0.9508    0.9779\n",
            "        29   StandardScalerWrapper LightGBM                 0:00:24       0.9691    0.9779\n",
            "        30   PCA LightGBM                                   0:00:23       0.8779    0.9779\n",
            "        31   RobustScaler LightGBM                          0:00:25       0.9726    0.9779\n",
            "        32   StandardScalerWrapper RandomForest             0:00:24       0.9573    0.9779\n",
            "        33    VotingEnsemble                                0:00:32       0.9784    0.9784\n",
            "        34    StackEnsemble                                 0:00:31       0.9758    0.9784\n"
          ]
        },
        {
          "output_type": "execute_result",
          "execution_count": 26,
          "data": {
            "text/plain": "{'runId': 'AutoML_aaf10cb4-2fe8-4cf3-812b-0c786f2b0e62',\n 'target': 'local',\n 'status': 'Completed',\n 'startTimeUtc': '2021-01-05T01:26:45.777933Z',\n 'endTimeUtc': '2021-01-05T01:43:09.817929Z',\n 'properties': {'num_iterations': '1000',\n  'training_type': 'TrainFull',\n  'acquisition_function': 'EI',\n  'primary_metric': 'AUC_weighted',\n  'train_split': '0',\n  'acquisition_parameter': '0',\n  'num_cross_validation': '3',\n  'target': 'local',\n  'AMLSettingsJsonString': '{\"path\":null,\"name\":\"AutoRanga\",\"subscription_id\":\"d7f39349-a66b-446e-aba6-0053c2cf1c11\",\"resource_group\":\"aml-quickstarts-133408\",\"workspace_name\":\"quick-starts-ws-133408\",\"region\":\"southcentralus\",\"compute_target\":\"local\",\"spark_service\":null,\"azure_service\":\"Microsoft.AzureNotebookVM\",\"many_models\":false,\"pipeline_fetch_max_batch_size\":1,\"iterations\":1000,\"primary_metric\":\"AUC_weighted\",\"task_type\":\"classification\",\"data_script\":null,\"validation_size\":0.0,\"n_cross_validations\":3,\"y_min\":null,\"y_max\":null,\"num_classes\":2,\"featurization\":\"auto\",\"_ignore_package_version_incompatibilities\":false,\"is_timeseries\":false,\"max_cores_per_iteration\":1,\"max_concurrent_iterations\":1,\"iteration_timeout_minutes\":null,\"mem_in_mb\":null,\"enforce_time_on_windows\":false,\"experiment_timeout_minutes\":15,\"experiment_exit_score\":null,\"whitelist_models\":null,\"blacklist_algos\":[\"TensorFlowLinearClassifier\",\"TensorFlowDNN\"],\"supported_models\":[\"LinearSVM\",\"XGBoostClassifier\",\"BernoulliNaiveBayes\",\"DecisionTree\",\"SVM\",\"GradientBoosting\",\"LogisticRegression\",\"RandomForest\",\"ExtremeRandomTrees\",\"LightGBM\",\"KNN\",\"TensorFlowDNN\",\"TensorFlowLinearClassifier\",\"SGD\",\"MultinomialNaiveBayes\",\"AveragedPerceptronClassifier\"],\"auto_blacklist\":true,\"blacklist_samples_reached\":false,\"exclude_nan_labels\":true,\"verbosity\":20,\"_debug_log\":\"automl.log\",\"show_warnings\":false,\"model_explainability\":true,\"service_url\":null,\"sdk_url\":null,\"sdk_packages\":null,\"enable_onnx_compatible_models\":false,\"enable_split_onnx_featurizer_estimator_models\":false,\"vm_type\":null,\"telemetry_verbosity\":20,\"send_telemetry\":true,\"enable_dnn\":false,\"scenario\":\"SDK-1.13.0\",\"environment_label\":null,\"force_text_dnn\":false,\"enable_feature_sweeping\":true,\"enable_early_stopping\":false,\"early_stopping_n_iters\":10,\"metrics\":null,\"enable_ensembling\":true,\"enable_stack_ensembling\":true,\"ensemble_iterations\":15,\"enable_tf\":false,\"enable_subsampling\":null,\"subsample_seed\":null,\"enable_nimbusml\":false,\"enable_streaming\":false,\"force_streaming\":false,\"track_child_runs\":true,\"allowed_private_models\":[],\"label_column_name\":\"Stable Flag (only cat)\",\"weight_column_name\":null,\"cv_split_column_names\":null,\"enable_local_managed\":false,\"_local_managed_run_id\":null,\"cost_mode\":1,\"lag_length\":0,\"metric_operation\":\"maximize\",\"preprocess\":true}',\n  'DataPrepJsonString': None,\n  'EnableSubsampling': None,\n  'runTemplate': 'AutoML',\n  'azureml.runsource': 'automl',\n  'display_task_type': 'classification',\n  'dependencies_versions': '{\"azureml-widgets\": \"1.19.0\", \"azureml-train\": \"1.19.0\", \"azureml-train-restclients-hyperdrive\": \"1.19.0\", \"azureml-train-core\": \"1.19.0\", \"azureml-train-automl\": \"1.19.0\", \"azureml-train-automl-runtime\": \"1.19.0\", \"azureml-train-automl-client\": \"1.19.0\", \"azureml-tensorboard\": \"1.19.0\", \"azureml-telemetry\": \"1.19.0\", \"azureml-sdk\": \"1.19.0\", \"azureml-samples\": \"0+unknown\", \"azureml-pipeline\": \"1.19.0\", \"azureml-pipeline-steps\": \"1.19.0\", \"azureml-pipeline-core\": \"1.19.0\", \"azureml-opendatasets\": \"1.19.0\", \"azureml-model-management-sdk\": \"1.0.1b6.post1\", \"azureml-mlflow\": \"1.19.0\", \"azureml-interpret\": \"1.19.0\", \"azureml-explain-model\": \"1.19.0\", \"azureml-defaults\": \"1.19.0\", \"azureml-dataset-runtime\": \"1.19.0\", \"azureml-dataprep\": \"2.6.1\", \"azureml-dataprep-rslex\": \"1.4.0\", \"azureml-dataprep-native\": \"26.0.0\", \"azureml-datadrift\": \"1.19.0\", \"azureml-core\": \"1.19.0\", \"azureml-contrib-services\": \"1.19.0\", \"azureml-contrib-server\": \"1.19.0\", \"azureml-contrib-reinforcementlearning\": \"1.19.0\", \"azureml-contrib-pipeline-steps\": \"1.19.0\", \"azureml-contrib-notebook\": \"1.19.0\", \"azureml-contrib-interpret\": \"1.19.0\", \"azureml-contrib-gbdt\": \"1.19.0\", \"azureml-contrib-fairness\": \"1.19.0\", \"azureml-contrib-dataset\": \"1.19.0\", \"azureml-cli-common\": \"1.19.0\", \"azureml-automl-runtime\": \"1.19.0\", \"azureml-automl-core\": \"1.19.0\", \"azureml-accel-models\": \"1.19.0\"}',\n  '_aml_system_scenario_identification': 'Local.Parent',\n  'ClientSdkVersion': '1.19.0',\n  'ClientType': 'SDK',\n  'environment_cpu_name': 'AzureML-AutoML',\n  'environment_cpu_label': 'prod',\n  'environment_gpu_name': 'AzureML-AutoML-GPU',\n  'environment_gpu_label': 'prod',\n  'root_attribution': 'automl',\n  'attribution': 'AutoML',\n  'Orchestrator': 'AutoML',\n  '_azureml.ComputeTargetType': 'local',\n  'ProblemInfoJsonString': '{\"dataset_num_categorical\": 0, \"is_sparse\": false, \"subsampling\": false, \"dataset_classes\": 2, \"dataset_features\": 10, \"dataset_samples\": 2205, \"single_frequency_class_detected\": false}',\n  'feature_skus': 'automatedml_sdk_guardrails'},\n 'inputDatasets': [],\n 'outputDatasets': [],\n 'logFiles': {}}"
          },
          "metadata": {}
        }
      ],
      "execution_count": 26,
      "metadata": {
        "collapsed": true,
        "gather": {
          "logged": 1609811452866
        },
        "jupyter": {
          "outputs_hidden": false,
          "source_hidden": false
        },
        "nteract": {
          "transient": {
            "deleting": false
          }
        }
      }
    },
    {
      "cell_type": "markdown",
      "source": [
        "## Run Details\n",
        "\n",
        "The models trained feature a variety of preprocessing methods i.e. scaling to 0-1, scaling by max values, and normalization. After this preparation, a variety of models are fit. What we find is that simple stochastic gradient descents and decision trees are largely inadequate. Random Forest uses many more trees (the 'bagging' technique) with many leaves of equal weight. Not surprisingly, adding 'boosting' to bagging through XGBoost results in improved performance since we penalize leaves that don't improve model performance.\n",
        "TODO: In the cell below, use the `RunDetails` widget to show the different experiments."
      ],
      "metadata": {}
    },
    {
      "cell_type": "markdown",
      "source": [
        "## Best Model\n",
        "\n",
        "TODO: In the cell below, get the best model from the automl experiments and display all the properties of the model.\n",
        "\n"
      ],
      "metadata": {}
    },
    {
      "cell_type": "code",
      "source": [
        "best,fitted = remote_run.get_output()\n",
        "bestclass,fittedclass = remote_run_class.get_output()"
      ],
      "outputs": [],
      "execution_count": 27,
      "metadata": {
        "gather": {
          "logged": 1609811455140
        },
        "jupyter": {
          "outputs_hidden": false,
          "source_hidden": false
        },
        "nteract": {
          "transient": {
            "deleting": false
          }
        }
      }
    },
    {
      "cell_type": "code",
      "source": [
        "fitted.steps[-1]"
      ],
      "outputs": [
        {
          "output_type": "execute_result",
          "execution_count": 28,
          "data": {
            "text/plain": "('stackensembleregressor',\n StackEnsembleRegressor(base_learners=[('4',\n                                        Pipeline(memory=None,\n                                                 steps=[('standardscalerwrapper',\n                                                         <azureml.automl.runtime.shared.model_wrappers.StandardScalerWrapper object at 0x7f7b34b31da0>),\n                                                        ('xgboostregressor',\n                                                         XGBoostRegressor(base_score=0.5,\n                                                                          booster='gbtree',\n                                                                          colsample_bylevel=1,\n                                                                          colsample_bynode=1,\n                                                                          colsample_bytree=0.9,\n                                                                          eta=0.5,\n                                                                          gamma=0,\n                                                                          importance_type='...\n                                                                           subsample=1.0,\n                                                                           subsample_for_bin=200000,\n                                                                           subsample_freq=0,\n                                                                           verbose=-1))],\n                                                 verbose=False))],\n                        meta_learner=ElasticNetCV(alphas=None, copy_X=True,\n                                                  cv=None, eps=0.001,\n                                                  fit_intercept=True,\n                                                  l1_ratio=0.5, max_iter=1000,\n                                                  n_alphas=100, n_jobs=None,\n                                                  normalize=False,\n                                                  positive=False,\n                                                  precompute='auto',\n                                                  random_state=None,\n                                                  selection='cyclic', tol=0.0001,\n                                                  verbose=0),\n                        training_cv_folds=5))"
          },
          "metadata": {}
        }
      ],
      "execution_count": 28,
      "metadata": {
        "gather": {
          "logged": 1609811455512
        }
      }
    },
    {
      "cell_type": "code",
      "source": [
        "fittedclass.steps[-1]"
      ],
      "outputs": [
        {
          "output_type": "execute_result",
          "execution_count": 29,
          "data": {
            "text/plain": "('prefittedsoftvotingclassifier',\n PreFittedSoftVotingClassifier(classification_labels=None,\n                               estimators=[('0',\n                                            Pipeline(memory=None,\n                                                     steps=[('maxabsscaler',\n                                                             MaxAbsScaler(copy=True)),\n                                                            ('lightgbmclassifier',\n                                                             LightGBMClassifier(boosting_type='gbdt',\n                                                                                class_weight=None,\n                                                                                colsample_bytree=1.0,\n                                                                                importance_type='split',\n                                                                                learning_rate=0.1,\n                                                                                max_depth=-1,\n                                                                                min_child_samples=20,\n                                                                                min_child_weight=0.001,\n                                                                                min_spl...\n                                                                                  min_impurity_split=None,\n                                                                                  min_samples_leaf=0.01,\n                                                                                  min_samples_split=0.15052631578947367,\n                                                                                  min_weight_fraction_leaf=0.0,\n                                                                                  n_estimators=10,\n                                                                                  n_jobs=1,\n                                                                                  oob_score=True,\n                                                                                  random_state=None,\n                                                                                  verbose=0,\n                                                                                  warm_start=False))],\n                                                     verbose=False))],\n                               flatten_transform=None,\n                               weights=[0.6, 0.06666666666666667,\n                                        0.06666666666666667, 0.06666666666666667,\n                                        0.13333333333333333,\n                                        0.06666666666666667]))"
          },
          "metadata": {}
        }
      ],
      "execution_count": 29,
      "metadata": {
        "collapsed": true,
        "gather": {
          "logged": 1609811455894
        },
        "jupyter": {
          "outputs_hidden": false,
          "source_hidden": false
        },
        "nteract": {
          "transient": {
            "deleting": false
          }
        }
      }
    },
    {
      "cell_type": "code",
      "source": [
        "#TODO: Save the best model\n",
        "regrfilename = 'best_automl_model_regr.sav'\n",
        "classfilename = 'best_automl_model_class.sav'\n",
        "\n",
        "joblib.dump(fitted,regrfilename)\n",
        "joblib.dump(fittedclass,classfilename)"
      ],
      "outputs": [
        {
          "output_type": "execute_result",
          "execution_count": 30,
          "data": {
            "text/plain": "['best_automl_model_class.sav']",
            "text/html": "['best_automl_model_class.sav']"
          },
          "metadata": {}
        }
      ],
      "execution_count": 30,
      "metadata": {
        "gather": {
          "logged": 1609811456265
        },
        "jupyter": {
          "outputs_hidden": false,
          "source_hidden": false
        },
        "nteract": {
          "transient": {
            "deleting": false
          }
        }
      }
    },
    {
      "cell_type": "markdown",
      "source": [
        "## Model Deployment\n",
        "\n",
        "Remember you have to deploy only one of the two models you trained.. Perform the steps in the rest of this notebook only if you wish to deploy this model.\n",
        "\n",
        "TODO: In the cell below, register the model, create an inference config and deploy the model as a web service."
      ],
      "metadata": {}
    },
    {
      "cell_type": "code",
      "source": [
        "registered_class = Model.register(workspace=ws,model_path='./best_automl_model_class.sav',model_name='registered_regr.sav')\n",
        "registered_regr = Model.register(workspace=ws,model_path='./best_automl_model_regr.sav',model_name='registered_class.sav')"
      ],
      "outputs": [
        {
          "output_type": "stream",
          "name": "stdout",
          "text": [
            "Registering model registered_regr.sav\n",
            "Registering model registered_class.sav\n"
          ]
        }
      ],
      "execution_count": 31,
      "metadata": {
        "gather": {
          "logged": 1609811457599
        },
        "jupyter": {
          "outputs_hidden": false,
          "source_hidden": false
        },
        "nteract": {
          "transient": {
            "deleting": false
          }
        }
      }
    },
    {
      "cell_type": "code",
      "source": [
        "#Create inference config\n",
        "from azureml.core.environment import Environment\n",
        "from azureml.core.model import InferenceConfig\n",
        "\n",
        "env = Environment.get(workspace=ws,name='AzureML-AutoML')\n",
        "\n",
        "inferenceclass = InferenceConfig(entry_script='score_class.py',environment=env) \n",
        "inferenceregr = InferenceConfig(entry_script='score_regr.py',environment=env) \n",
        "\n",
        "#Deploy model and check service state\n",
        "from azureml.core.webservice import LocalWebservice, AciWebservice\n",
        "\n",
        "\n",
        "deployfinal = AciWebservice.deploy_configuration(memory_gb=4)\n"
      ],
      "outputs": [],
      "execution_count": 32,
      "metadata": {
        "collapsed": true,
        "gather": {
          "logged": 1609811458128
        },
        "jupyter": {
          "outputs_hidden": false,
          "source_hidden": false
        },
        "nteract": {
          "transient": {
            "deleting": false
          }
        }
      }
    },
    {
      "cell_type": "code",
      "source": [
        "svc_class = Model.deploy(workspace=ws,name='lass',models=[registered_class],inference_config=inferenceclass,deployment_config=deployfinal)\n",
        "svc_class.wait_for_deployment(show_output=True)"
      ],
      "outputs": [],
      "execution_count": null,
      "metadata": {
        "collapsed": true,
        "gather": {
          "logged": 1609805376104
        },
        "jupyter": {
          "outputs_hidden": false,
          "source_hidden": false
        },
        "nteract": {
          "transient": {
            "deleting": false
          }
        }
      }
    },
    {
      "cell_type": "code",
      "source": [
        "svc_regr = Model.deploy(workspace=ws,name='egr',models=[registered_regr],inference_config=inferenceregr,deployment_config=deployfinal)\n",
        "svc_regr.wait_for_deployment(show_output=True)"
      ],
      "outputs": [
        {
          "output_type": "stream",
          "name": "stdout",
          "text": [
            "Tips: You can try get_logs(): https://aka.ms/debugimage#dockerlog or local deployment: https://aka.ms/debugimage#debug-locally to debug if deployment takes longer than 10 minutes.\n",
            "Running..................................................................."
          ]
        }
      ],
      "execution_count": 45,
      "metadata": {
        "collapsed": true,
        "gather": {
          "logged": 1609805749145
        },
        "jupyter": {
          "outputs_hidden": false,
          "source_hidden": false
        },
        "nteract": {
          "transient": {
            "deleting": false
          }
        }
      }
    },
    {
      "cell_type": "code",
      "source": [
        "print(svc_regr.state)"
      ],
      "outputs": [],
      "execution_count": null,
      "metadata": {
        "collapsed": true,
        "gather": {
          "logged": 1609805757227
        },
        "jupyter": {
          "outputs_hidden": false,
          "source_hidden": false
        },
        "nteract": {
          "transient": {
            "deleting": false
          }
        }
      }
    },
    {
      "cell_type": "code",
      "source": [
        "print(svc_class.state)"
      ],
      "outputs": [],
      "execution_count": null,
      "metadata": {
        "collapsed": true,
        "gather": {
          "logged": 1609805757659
        },
        "jupyter": {
          "outputs_hidden": false,
          "source_hidden": false
        },
        "nteract": {
          "transient": {
            "deleting": false
          }
        }
      }
    },
    {
      "cell_type": "code",
      "source": [
        "print(svc_regr.scoring_uri)"
      ],
      "outputs": [],
      "execution_count": null,
      "metadata": {
        "collapsed": true,
        "gather": {
          "logged": 1609805765856
        },
        "jupyter": {
          "outputs_hidden": false,
          "source_hidden": false
        },
        "nteract": {
          "transient": {
            "deleting": false
          }
        }
      }
    },
    {
      "cell_type": "code",
      "source": [
        "print(svc_class.scoring_uri)"
      ],
      "outputs": [],
      "execution_count": null,
      "metadata": {
        "collapsed": true,
        "gather": {
          "logged": 1609805771046
        },
        "jupyter": {
          "outputs_hidden": false,
          "source_hidden": false
        },
        "nteract": {
          "transient": {
            "deleting": false
          }
        }
      }
    },
    {
      "cell_type": "markdown",
      "source": [
        "TODO: In the cell below, send a request to the web service you deployed to test it."
      ],
      "metadata": {
        "collapsed": true,
        "gather": {
          "logged": 1598431657736
        },
        "jupyter": {
          "outputs_hidden": false,
          "source_hidden": false
        },
        "nteract": {
          "transient": {
            "deleting": false
          }
        }
      }
    },
    {
      "cell_type": "code",
      "source": [
        "import requests\n",
        "import json\n",
        "\n",
        "# URL for the web service\n",
        "class_scoring_uri = 'http://28bdb16e-6347-4226-8855-6a9230bb3c55.southcentralus.azurecontainer.io/score'\n",
        "regr_scoring_uri = 'http://224300ee-1189-4b2c-8fed-8500e98cd6ef.southcentralus.azurecontainer.io/score'\n",
        "\n",
        "data = {'data':[{\n",
        "    'Avg coolpwr':1.9,\n",
        "    'Avg cooleff':31.4,\n",
        "    'Avg psfive':9,\n",
        "    'Avg pssix':9,\n",
        "    'Avg mp':2495,\n",
        "    'Avg vftwo':9.6,\n",
        "    'Avg eff':55.3,\n",
        "    'Avg vibes': 0.6,\n",
        "    'Avg tthree':47.7,\n",
        "    'Avg tfour': 40.8}\n",
        "]\n",
        "        }\n",
        "\n",
        "input_data = json.dumps(data)\n",
        "\n",
        "headers = {'Content-Type': 'application/json'}\n",
        "\n",
        "\n",
        "# # Make the request and display the response\n",
        "valvecndion = requests.post(regr_scoring_uri,input_data,headers=headers)\n",
        "stableflag = requests.post(class_scoring_uri,input_data,headers=headers)\n"
      ],
      "outputs": [],
      "execution_count": null,
      "metadata": {
        "gather": {
          "logged": 1609805882586
        },
        "jupyter": {
          "outputs_hidden": false,
          "source_hidden": false
        },
        "nteract": {
          "transient": {
            "deleting": false
          }
        }
      }
    },
    {
      "cell_type": "code",
      "source": [
        "print(\"Predicted valve condition:\",valvecndion.text)"
      ],
      "outputs": [],
      "execution_count": null,
      "metadata": {
        "collapsed": true,
        "gather": {
          "logged": 1609805885781
        },
        "jupyter": {
          "outputs_hidden": false,
          "source_hidden": false
        },
        "nteract": {
          "transient": {
            "deleting": false
          }
        }
      }
    },
    {
      "cell_type": "code",
      "source": [
        "print(\"Predicted flag:\",stableflag.text)"
      ],
      "outputs": [],
      "execution_count": null,
      "metadata": {
        "collapsed": true,
        "jupyter": {
          "outputs_hidden": false,
          "source_hidden": false
        },
        "nteract": {
          "transient": {
            "deleting": false
          }
        },
        "gather": {
          "logged": 1609805929384
        }
      }
    },
    {
      "cell_type": "markdown",
      "source": [
        "TODO: In the cell below, print the logs of the web service and delete the service"
      ],
      "metadata": {
        "collapsed": true,
        "gather": {
          "logged": 1598432765711
        },
        "jupyter": {
          "outputs_hidden": false,
          "source_hidden": false
        },
        "nteract": {
          "transient": {
            "deleting": false
          }
        }
      }
    },
    {
      "cell_type": "code",
      "source": [],
      "outputs": [],
      "execution_count": null,
      "metadata": {}
    },
    {
      "cell_type": "code",
      "source": [],
      "outputs": [],
      "execution_count": null,
      "metadata": {
        "collapsed": true,
        "jupyter": {
          "source_hidden": false,
          "outputs_hidden": false
        },
        "nteract": {
          "transient": {
            "deleting": false
          }
        }
      }
    }
  ],
  "metadata": {
    "kernel_info": {
      "name": "python3"
    },
    "kernelspec": {
      "name": "python3",
      "language": "python",
      "display_name": "Python 3"
    },
    "language_info": {
      "name": "python",
      "version": "3.6.9",
      "mimetype": "text/x-python",
      "codemirror_mode": {
        "name": "ipython",
        "version": 3
      },
      "pygments_lexer": "ipython3",
      "nbconvert_exporter": "python",
      "file_extension": ".py"
    },
    "nteract": {
      "version": "nteract-front-end@1.0.0"
    }
  },
  "nbformat": 4,
  "nbformat_minor": 2
}