{
  "cells": [
    {
      "cell_type": "markdown",
      "source": [
        "# Automated ML\n",
        "\n",
        "TODO: Import Dependencies. In the cell below, import all the dependencies that you will need to complete the project."
      ],
      "metadata": {}
    },
    {
      "cell_type": "code",
      "source": [
        "from azureml.core import Workspace, Experiment, Dataset, Model, Datastore, Environment\n",
        "from azureml.data.datapath import DataPath\n",
        "from azureml.widgets import RunDetails\n",
        "from azureml.train.automl import AutoMLConfig\n",
        "import numpy as np\n",
        "import pandas as pd\n",
        "import joblib, pickle"
      ],
      "outputs": [],
      "execution_count": 1,
      "metadata": {
        "gather": {
          "logged": 1609701782484
        },
        "jupyter": {
          "outputs_hidden": false,
          "source_hidden": false
        },
        "nteract": {
          "transient": {
            "deleting": false
          }
        }
      }
    },
    {
      "cell_type": "markdown",
      "source": [
        "## Dataset\n",
        "\n",
        "### Overview\n",
        "The dataset I'm using tracks car mpg as a function of several car characteristics like weight and acceleration. The task performed is regression to predict mpg as a function of these characteristics.\n",
        "\n",
        "TODO: Get data. In the cell below, write code to access the data you will be using in this project. Remember that the dataset needs to be external."
      ],
      "metadata": {}
    },
    {
      "cell_type": "code",
      "source": [
        "subscription_id = '61c5c3f0-6dc7-4ed9-a7f3-c704b20e3b30'\n",
        "resource_group = 'aml-quickstarts-133182'\n",
        "workspace_name = 'quick-starts-ws-133182'\n",
        "\n",
        "ws = Workspace.get(name=\"quick-starts-ws-133182\")\n",
        "exp = Experiment(workspace=ws, name=\"Ranga\")\n",
        "\n",
        "workspace = Workspace(subscription_id, resource_group, workspace_name)\n",
        "\n",
        "CEdata = Dataset.get_by_name(workspace, name='CE')\n",
        "CEdata.download(target_path='.', overwrite=True)\n",
        "VS1data = Dataset.get_by_name(workspace, name='VS1')\n",
        "VS1data.download(target_path='.', overwrite=True)\n",
        "TS4data = Dataset.get_by_name(workspace, name='TS4')\n",
        "TS4data.download(target_path='.', overwrite=True)\n",
        "TS3data = Dataset.get_by_name(workspace, name='TS3')\n",
        "TS3data.download(target_path='.', overwrite=True)\n",
        "\n"
      ],
      "outputs": [
        {
          "output_type": "execute_result",
          "execution_count": 2,
          "data": {
            "text/plain": "['/mnt/batch/tasks/shared/LS_root/mounts/clusters/ranganext/code/Users/odl_user_133182/TS3.txt']"
          },
          "metadata": {}
        }
      ],
      "execution_count": 2,
      "metadata": {
        "gather": {
          "logged": 1609701791495
        },
        "jupyter": {
          "outputs_hidden": false,
          "source_hidden": false
        },
        "nteract": {
          "transient": {
            "deleting": false
          }
        }
      }
    },
    {
      "cell_type": "code",
      "source": [
        "SEdata = Dataset.get_by_name(workspace, name='SE')\r\n",
        "SEdata.download(target_path='.', overwrite=True)\r\n",
        "PS6data = Dataset.get_by_name(workspace, name='PS6')\r\n",
        "PS6data.download(target_path='.', overwrite=True)\r\n",
        "PS5data = Dataset.get_by_name(workspace, name='PS5')\r\n",
        "PS5data.download(target_path='.', overwrite=True)\r\n",
        "\r\n",
        "FS2data = Dataset.get_by_name(workspace, name='FS2')\r\n",
        "FS2data.download(target_path='.', overwrite=True)\r\n",
        "\r\n",
        "EPS1data = Dataset.get_by_name(workspace, name='EPS1')\r\n",
        "EPS1data.download(target_path='.', overwrite=True)\r\n",
        "CPdata = Dataset.get_by_name(workspace, name='CP')\r\n",
        "CPdata.download(target_path='.', overwrite=True)\r\n"
      ],
      "outputs": [
        {
          "output_type": "execute_result",
          "execution_count": 3,
          "data": {
            "text/plain": "['/mnt/batch/tasks/shared/LS_root/mounts/clusters/ranganext/code/Users/odl_user_133182/CP.txt']"
          },
          "metadata": {}
        }
      ],
      "execution_count": 3,
      "metadata": {
        "collapsed": true,
        "jupyter": {
          "source_hidden": false,
          "outputs_hidden": false
        },
        "nteract": {
          "transient": {
            "deleting": false
          }
        },
        "gather": {
          "logged": 1609701798780
        }
      }
    },
    {
      "cell_type": "code",
      "source": [
        "cooleff = []\r\n",
        "coolpwr = []\r\n",
        "\r\n",
        "ps_five = []\r\n",
        "ps_six = []\r\n",
        "motorpower = []\r\n",
        "\r\n",
        "volflowtwo = []\r\n",
        "\r\n",
        "tempthree = []\r\n",
        "tempfour = []\r\n",
        "effactor = []\r\n",
        "vibes = []"
      ],
      "outputs": [],
      "execution_count": 4,
      "metadata": {
        "collapsed": true,
        "jupyter": {
          "source_hidden": false,
          "outputs_hidden": false
        },
        "nteract": {
          "transient": {
            "deleting": false
          }
        },
        "gather": {
          "logged": 1609701799197
        }
      }
    },
    {
      "cell_type": "code",
      "source": [
        "ce = open('CE.txt','r')\r\n",
        "for line in ce:\r\n",
        "    cooleff.append(line.split())"
      ],
      "outputs": [],
      "execution_count": 5,
      "metadata": {
        "collapsed": true,
        "jupyter": {
          "source_hidden": false,
          "outputs_hidden": false
        },
        "nteract": {
          "transient": {
            "deleting": false
          }
        },
        "gather": {
          "logged": 1609701799536
        }
      }
    },
    {
      "cell_type": "code",
      "source": [
        "cp = open('CP.txt','r')\r\n",
        "for line in cp:\r\n",
        "    coolpwr.append(line.split())\r\n",
        "\r\n",
        "effic = open('se.txt','r')\r\n",
        "for line in effic:\r\n",
        "    effactor.append(line.split())\r\n",
        "    \r\n",
        "vibe = open('VS1.txt')\r\n",
        "for line in vibe:\r\n",
        "    vibes.append(line.split())"
      ],
      "outputs": [],
      "execution_count": 6,
      "metadata": {
        "collapsed": true,
        "jupyter": {
          "source_hidden": false,
          "outputs_hidden": false
        },
        "nteract": {
          "transient": {
            "deleting": false
          }
        },
        "gather": {
          "logged": 1609701799869
        }
      }
    },
    {
      "cell_type": "code",
      "source": [
        "psfive = open('PS5.txt','r')\r\n",
        "for line in psfive:\r\n",
        "    ps_five.append(line.split())\r\n",
        "pssix = open('PS6.txt','r')\r\n",
        "for line in pssix:\r\n",
        "    ps_six.append(line.split())"
      ],
      "outputs": [],
      "execution_count": 7,
      "metadata": {
        "collapsed": true,
        "jupyter": {
          "source_hidden": false,
          "outputs_hidden": false
        },
        "nteract": {
          "transient": {
            "deleting": false
          }
        },
        "gather": {
          "logged": 1609701803245
        }
      }
    },
    {
      "cell_type": "code",
      "source": [
        "mp = open('EPS1.txt','r')\r\n",
        "for line in mp:\r\n",
        "    motorpower.append(line.split())\r\n",
        "\r\n",
        "\r\n",
        "tthree = open('TS3.txt','r')\r\n",
        "for line in tthree:\r\n",
        "    tempthree.append(line.split())\r\n",
        "tfour = open('TS4.txt','r')\r\n",
        "for line in tfour:\r\n",
        "    tempfour.append(line.split())"
      ],
      "outputs": [],
      "execution_count": 8,
      "metadata": {
        "collapsed": true,
        "jupyter": {
          "source_hidden": false,
          "outputs_hidden": false
        },
        "nteract": {
          "transient": {
            "deleting": false
          }
        },
        "gather": {
          "logged": 1609701805464
        }
      }
    },
    {
      "cell_type": "code",
      "source": [
        "vftwo = open('FS2.txt','r')\r\n",
        "for line in vftwo:\r\n",
        "    volflowtwo.append(line.split())"
      ],
      "outputs": [],
      "execution_count": 9,
      "metadata": {
        "collapsed": true,
        "jupyter": {
          "source_hidden": false,
          "outputs_hidden": false
        },
        "nteract": {
          "transient": {
            "deleting": false
          }
        },
        "gather": {
          "logged": 1609701805910
        }
      }
    },
    {
      "cell_type": "code",
      "source": [
        "cooleff = np.reshape(cooleff,(2205,60))\r\n",
        "coolpwr = np.reshape(coolpwr,(2205,60))\r\n",
        "cooleffDF = pd.DataFrame(cooleff)\r\n",
        "coolpwrDF = pd.DataFrame(coolpwr)"
      ],
      "outputs": [],
      "execution_count": 10,
      "metadata": {
        "collapsed": true,
        "jupyter": {
          "source_hidden": false,
          "outputs_hidden": false
        },
        "nteract": {
          "transient": {
            "deleting": false
          }
        },
        "gather": {
          "logged": 1609701805996
        }
      }
    },
    {
      "cell_type": "code",
      "source": [
        "ps_five = np.reshape(ps_five,(2205,6000))\r\n",
        "ps_five_DF = pd.DataFrame(ps_five)\r\n",
        "ps_six = np.reshape(ps_six,(2205,6000))\r\n",
        "ps_six_DF = pd.DataFrame(ps_six)"
      ],
      "outputs": [],
      "execution_count": 11,
      "metadata": {
        "collapsed": true,
        "jupyter": {
          "source_hidden": false,
          "outputs_hidden": false
        },
        "nteract": {
          "transient": {
            "deleting": false
          }
        },
        "gather": {
          "logged": 1609701813684
        }
      }
    },
    {
      "cell_type": "code",
      "source": [
        "motorpower = np.reshape(motorpower,(2205,6000))\r\n",
        "mp_DF = pd.DataFrame(motorpower)\r\n",
        "\r\n",
        "volflowtwo = np.reshape(volflowtwo,(2205,600))\r\n",
        "vftwo_DF = pd.DataFrame(volflowtwo)"
      ],
      "outputs": [],
      "execution_count": 12,
      "metadata": {
        "collapsed": true,
        "jupyter": {
          "source_hidden": false,
          "outputs_hidden": false
        },
        "nteract": {
          "transient": {
            "deleting": false
          }
        },
        "gather": {
          "logged": 1609701815051
        }
      }
    },
    {
      "cell_type": "code",
      "source": [
        "tempthree = np.reshape(tempthree,(2205,60))\r\n",
        "tthree_DF = pd.DataFrame(tempthree)\r\n",
        "tempfour = np.reshape(tempfour,(2205,60))\r\n",
        "tfour_DF = pd.DataFrame(tempfour)\r\n"
      ],
      "outputs": [],
      "execution_count": 13,
      "metadata": {
        "collapsed": true,
        "jupyter": {
          "source_hidden": false,
          "outputs_hidden": false
        },
        "nteract": {
          "transient": {
            "deleting": false
          }
        },
        "gather": {
          "logged": 1609701815352
        }
      }
    },
    {
      "cell_type": "code",
      "source": [
        "effactor = np.reshape(effactor,(2205,60))\r\n",
        "eff_DF = pd.DataFrame(effactor)\r\n",
        "vibes = np.reshape(vibes,(2205,60))\r\n",
        "vibes_DF = pd.DataFrame(vibes)"
      ],
      "outputs": [],
      "execution_count": 14,
      "metadata": {
        "collapsed": true,
        "jupyter": {
          "source_hidden": false,
          "outputs_hidden": false
        },
        "nteract": {
          "transient": {
            "deleting": false
          }
        },
        "gather": {
          "logged": 1609701815644
        }
      }
    },
    {
      "cell_type": "code",
      "source": [
        "coolpwrDF = coolpwrDF.astype(float)\r\n",
        "coolpwrDF['Avg coolpwr'] = coolpwrDF.mean(axis=1)\r\n",
        "coolpwrDF = pd.DataFrame(coolpwrDF.loc[:,'Avg coolpwr'])\r\n",
        "\r\n",
        "cooleffDF = cooleffDF.astype(float)\r\n",
        "cooleffDF['Avg cooleff'] = cooleffDF.mean(axis=1)\r\n",
        "cooleffDF = pd.DataFrame(cooleffDF.loc[:,'Avg cooleff'])"
      ],
      "outputs": [],
      "execution_count": 15,
      "metadata": {
        "collapsed": true,
        "jupyter": {
          "source_hidden": false,
          "outputs_hidden": false
        },
        "nteract": {
          "transient": {
            "deleting": false
          }
        },
        "gather": {
          "logged": 1609701815933
        }
      }
    },
    {
      "cell_type": "code",
      "source": [
        "ps_five_DF = ps_five_DF.astype(float)\r\n",
        "ps_five_DF['Avg psfive'] = ps_five_DF.mean(axis=1)\r\n",
        "ps_five_DF = pd.DataFrame(ps_five_DF.loc[:,'Avg psfive'])\r\n",
        "\r\n",
        "ps_six_DF = ps_six_DF.astype(float)\r\n",
        "ps_six_DF['Avg pssix'] = ps_six_DF.mean(axis=1)\r\n",
        "ps_six_DF = pd.DataFrame(ps_six_DF.loc[:,'Avg pssix'])"
      ],
      "outputs": [],
      "execution_count": 16,
      "metadata": {
        "collapsed": true,
        "jupyter": {
          "source_hidden": false,
          "outputs_hidden": false
        },
        "nteract": {
          "transient": {
            "deleting": false
          }
        },
        "gather": {
          "logged": 1609701820697
        }
      }
    },
    {
      "cell_type": "code",
      "source": [
        "mp_DF = mp_DF.astype(float)\r\n",
        "mp_DF['Avg mp'] = mp_DF.mean(axis=1)\r\n",
        "mp_DF = pd.DataFrame(mp_DF.loc[:,'Avg mp'])\r\n",
        "\r\n",
        "vftwo_DF = vftwo_DF.astype(float)\r\n",
        "vftwo_DF['Avg vftwo'] = vftwo_DF.mean(axis=1)\r\n",
        "vftwo_DF = pd.DataFrame(vftwo_DF.loc[:,'Avg vftwo'])"
      ],
      "outputs": [],
      "execution_count": 17,
      "metadata": {
        "collapsed": true,
        "jupyter": {
          "source_hidden": false,
          "outputs_hidden": false
        },
        "nteract": {
          "transient": {
            "deleting": false
          }
        },
        "gather": {
          "logged": 1609701825159
        }
      }
    },
    {
      "cell_type": "code",
      "source": [
        "eff_DF = eff_DF.astype(float)\r\n",
        "eff_DF['Avg eff'] = eff_DF.mean(axis=1)\r\n",
        "eff_DF = pd.DataFrame(eff_DF.loc[:,'Avg eff'])\r\n",
        "\r\n",
        "vibes_DF = vibes_DF.astype(float)\r\n",
        "vibes_DF['Avg vibes'] = vibes_DF.mean(axis=1)\r\n",
        "vibes_DF = pd.DataFrame(vibes_DF.loc[:,'Avg vibes'])"
      ],
      "outputs": [],
      "execution_count": 18,
      "metadata": {
        "collapsed": true,
        "jupyter": {
          "source_hidden": false,
          "outputs_hidden": false
        },
        "nteract": {
          "transient": {
            "deleting": false
          }
        },
        "gather": {
          "logged": 1609701825920
        }
      }
    },
    {
      "cell_type": "code",
      "source": [
        "tthree_DF = tthree_DF.astype(float)\r\n",
        "tthree_DF['Avg tthree'] = tthree_DF.mean(axis=1)\r\n",
        "tthree_DF = pd.DataFrame(tthree_DF.loc[:,'Avg tthree'])\r\n",
        "tfour_DF = tfour_DF.astype(float)\r\n",
        "tfour_DF['Avg tfour'] = tfour_DF.mean(axis=1)\r\n",
        "tfour_DF = pd.DataFrame(tfour_DF.loc[:,'Avg tfour'])"
      ],
      "outputs": [],
      "execution_count": 19,
      "metadata": {
        "collapsed": true,
        "jupyter": {
          "source_hidden": false,
          "outputs_hidden": false
        },
        "nteract": {
          "transient": {
            "deleting": false
          }
        },
        "gather": {
          "logged": 1609701826330
        }
      }
    },
    {
      "cell_type": "code",
      "source": [
        "features = (((((((((coolpwrDF.join(cooleffDF)).join(ps_five_DF)).join(ps_six_DF)).join(mp_DF)).join(vftwo_DF)).join(eff_DF)).join(vibes_DF)).join(tthree_DF)).join(tfour_DF))"
      ],
      "outputs": [],
      "execution_count": 20,
      "metadata": {
        "collapsed": true,
        "jupyter": {
          "source_hidden": false,
          "outputs_hidden": false
        },
        "nteract": {
          "transient": {
            "deleting": false
          }
        },
        "gather": {
          "logged": 1609701826634
        }
      }
    },
    {
      "cell_type": "code",
      "source": [
        "profiledata = Dataset.get_by_name(workspace, name='profile')\r\n",
        "profiledata.download(target_path='.', overwrite=True)"
      ],
      "outputs": [
        {
          "output_type": "execute_result",
          "execution_count": 21,
          "data": {
            "text/plain": "['/mnt/batch/tasks/shared/LS_root/mounts/clusters/ranganext/code/Users/odl_user_133182/profile.txt']"
          },
          "metadata": {}
        }
      ],
      "execution_count": 21,
      "metadata": {
        "collapsed": true,
        "jupyter": {
          "source_hidden": false,
          "outputs_hidden": false
        },
        "nteract": {
          "transient": {
            "deleting": false
          }
        },
        "gather": {
          "logged": 1609701826976
        }
      }
    },
    {
      "cell_type": "code",
      "source": [
        "profiles=[]\r\n",
        "prof = open('profile.txt','r')\r\n",
        "for line in prof:\r\n",
        "    profiles.append(line.split())\r\n",
        "\r\n",
        "labels = np.reshape(profiles,(2205,5))\r\n",
        "labels_DF = pd.DataFrame(labels)\r\n",
        "\r\n",
        "\r\n",
        "labels_DF.columns = ['Clr cndn','Valve cndn','Pump lkg','Hydraulic press','Stable Flag (only cat)']"
      ],
      "outputs": [],
      "execution_count": 22,
      "metadata": {
        "collapsed": true,
        "jupyter": {
          "source_hidden": false,
          "outputs_hidden": false
        },
        "nteract": {
          "transient": {
            "deleting": false
          }
        },
        "gather": {
          "logged": 1609701827255
        }
      }
    },
    {
      "cell_type": "code",
      "source": [
        "ds = features.join(labels_DF)\r\n",
        "ds.head()"
      ],
      "outputs": [
        {
          "output_type": "execute_result",
          "execution_count": 23,
          "data": {
            "text/plain": "   Avg coolpwr  Avg cooleff  Avg psfive  Avg pssix       Avg mp  Avg vftwo  \\\n0     1.862750    39.601350    9.842170   9.728097  2538.929167  10.304592   \n1     1.255550    25.786433    9.635142   9.529488  2531.498900  10.403098   \n2     1.113217    22.218233    9.530548   9.427949  2519.928000  10.366250   \n3     1.062150    20.459817    9.438827   9.337430  2511.541633  10.302678   \n4     1.070467    19.787017    9.358762   9.260636  2503.449500  10.237750   \n\n     Avg eff  Avg vibes  Avg tthree  Avg tfour Clr cndn Valve cndn Pump lkg  \\\n0  59.157183   0.576950   38.471017  31.745250        3        100        0   \n1  59.335617   0.565850   38.978967  34.493867        3        100        0   \n2  59.543150   0.576533   39.631950  35.646150        3        100        0   \n3  59.794900   0.569267   40.403383  36.579467        3        100        0   \n4  59.455267   0.577367   41.310550  37.427900        3        100        0   \n\n  Hydraulic press Stable Flag (only cat)  \n0             130                      1  \n1             130                      1  \n2             130                      1  \n3             130                      1  \n4             130                      1  ",
            "text/html": "<div>\n<style scoped>\n    .dataframe tbody tr th:only-of-type {\n        vertical-align: middle;\n    }\n\n    .dataframe tbody tr th {\n        vertical-align: top;\n    }\n\n    .dataframe thead th {\n        text-align: right;\n    }\n</style>\n<table border=\"1\" class=\"dataframe\">\n  <thead>\n    <tr style=\"text-align: right;\">\n      <th></th>\n      <th>Avg coolpwr</th>\n      <th>Avg cooleff</th>\n      <th>Avg psfive</th>\n      <th>Avg pssix</th>\n      <th>Avg mp</th>\n      <th>Avg vftwo</th>\n      <th>Avg eff</th>\n      <th>Avg vibes</th>\n      <th>Avg tthree</th>\n      <th>Avg tfour</th>\n      <th>Clr cndn</th>\n      <th>Valve cndn</th>\n      <th>Pump lkg</th>\n      <th>Hydraulic press</th>\n      <th>Stable Flag (only cat)</th>\n    </tr>\n  </thead>\n  <tbody>\n    <tr>\n      <th>0</th>\n      <td>1.862750</td>\n      <td>39.601350</td>\n      <td>9.842170</td>\n      <td>9.728097</td>\n      <td>2538.929167</td>\n      <td>10.304592</td>\n      <td>59.157183</td>\n      <td>0.576950</td>\n      <td>38.471017</td>\n      <td>31.745250</td>\n      <td>3</td>\n      <td>100</td>\n      <td>0</td>\n      <td>130</td>\n      <td>1</td>\n    </tr>\n    <tr>\n      <th>1</th>\n      <td>1.255550</td>\n      <td>25.786433</td>\n      <td>9.635142</td>\n      <td>9.529488</td>\n      <td>2531.498900</td>\n      <td>10.403098</td>\n      <td>59.335617</td>\n      <td>0.565850</td>\n      <td>38.978967</td>\n      <td>34.493867</td>\n      <td>3</td>\n      <td>100</td>\n      <td>0</td>\n      <td>130</td>\n      <td>1</td>\n    </tr>\n    <tr>\n      <th>2</th>\n      <td>1.113217</td>\n      <td>22.218233</td>\n      <td>9.530548</td>\n      <td>9.427949</td>\n      <td>2519.928000</td>\n      <td>10.366250</td>\n      <td>59.543150</td>\n      <td>0.576533</td>\n      <td>39.631950</td>\n      <td>35.646150</td>\n      <td>3</td>\n      <td>100</td>\n      <td>0</td>\n      <td>130</td>\n      <td>1</td>\n    </tr>\n    <tr>\n      <th>3</th>\n      <td>1.062150</td>\n      <td>20.459817</td>\n      <td>9.438827</td>\n      <td>9.337430</td>\n      <td>2511.541633</td>\n      <td>10.302678</td>\n      <td>59.794900</td>\n      <td>0.569267</td>\n      <td>40.403383</td>\n      <td>36.579467</td>\n      <td>3</td>\n      <td>100</td>\n      <td>0</td>\n      <td>130</td>\n      <td>1</td>\n    </tr>\n    <tr>\n      <th>4</th>\n      <td>1.070467</td>\n      <td>19.787017</td>\n      <td>9.358762</td>\n      <td>9.260636</td>\n      <td>2503.449500</td>\n      <td>10.237750</td>\n      <td>59.455267</td>\n      <td>0.577367</td>\n      <td>41.310550</td>\n      <td>37.427900</td>\n      <td>3</td>\n      <td>100</td>\n      <td>0</td>\n      <td>130</td>\n      <td>1</td>\n    </tr>\n  </tbody>\n</table>\n</div>"
          },
          "metadata": {}
        }
      ],
      "execution_count": 23,
      "metadata": {
        "collapsed": true,
        "jupyter": {
          "source_hidden": false,
          "outputs_hidden": false
        },
        "nteract": {
          "transient": {
            "deleting": false
          }
        },
        "gather": {
          "logged": 1609701827578
        }
      }
    },
    {
      "cell_type": "markdown",
      "source": [
        "## AutoML Configuration\n",
        "\n",
        "I chose the regression task since that represents the nature of this problem, and R-squared is correspondingly a good metric. R-squared is also the default scoring metric for GradientBoosting Regressor, which is the model that I'm using in Hyperparameter tuning."
      ],
      "metadata": {}
    },
    {
      "cell_type": "code",
      "source": [
        "# TODO: Put your automl config here\n",
        "automl_config = AutoMLConfig(\n",
        "    experiment_timeout_minutes=15,\n",
        "    task='regression',\n",
        "    primary_metric='r2_score',\n",
        "    training_data=ds,\n",
        "    label_column_name='Valve cndn',\n",
        "    n_cross_validations=3)"
      ],
      "outputs": [],
      "execution_count": 24,
      "metadata": {
        "gather": {
          "logged": 1609701827879
        },
        "jupyter": {
          "outputs_hidden": false,
          "source_hidden": false
        },
        "nteract": {
          "transient": {
            "deleting": false
          }
        }
      }
    },
    {
      "cell_type": "code",
      "source": [
        "# TODO: Submit your experiment\n",
        "autoexp = Experiment(workspace=ws,name='AutoRanga')\n",
        "remote_run = autoexp.submit(automl_config)\n",
        "RunDetails(remote_run).show()\n",
        "remote_run.wait_for_completion(show_output=True)"
      ],
      "outputs": [
        {
          "output_type": "stream",
          "name": "stderr",
          "text": [
            "WARNING:root:Running on local machine. Note that local runs always run synchronously even if you use the parameter 'show_output=False'\n"
          ]
        }
      ],
      "execution_count": 25,
      "metadata": {
        "gather": {
          "logged": 1607180062445
        },
        "jupyter": {
          "outputs_hidden": false,
          "source_hidden": false
        },
        "nteract": {
          "transient": {
            "deleting": false
          }
        }
      }
    },
    {
      "cell_type": "markdown",
      "source": [
        "## Run Details\n",
        "\n",
        "The models trained feature a variety of preprocessing methods i.e. scaling to 0-1, scaling by max values, and normalization. After this preparation, a variety of models are fit. What we find is that simple stochastic gradient descents and decision trees are largely inadequate. Random Forest uses many more trees (the 'bagging' technique) with many leaves of equal weight. Not surprisingly, adding 'boosting' to bagging through XGBoost results in improved performance since we penalize leaves that don't improve model performance.\n",
        "TODO: In the cell below, use the `RunDetails` widget to show the different experiments."
      ],
      "metadata": {}
    },
    {
      "cell_type": "code",
      "source": [
        "RunDetails(remote_run).show()"
      ],
      "outputs": [],
      "execution_count": null,
      "metadata": {
        "gather": {
          "logged": 1607180083614
        },
        "jupyter": {
          "outputs_hidden": false,
          "source_hidden": false
        },
        "nteract": {
          "transient": {
            "deleting": false
          }
        }
      }
    },
    {
      "cell_type": "markdown",
      "source": [
        "## Best Model\n",
        "\n",
        "TODO: In the cell below, get the best model from the automl experiments and display all the properties of the model.\n",
        "\n"
      ],
      "metadata": {}
    },
    {
      "cell_type": "code",
      "source": [
        "best,fitted = remote_run.get_output()\n",
        "print(best)"
      ],
      "outputs": [
        {
          "output_type": "stream",
          "name": "stdout",
          "text": [
            "Run(Experiment: AutoRanga,\n",
            "Id: AutoML_c1ff0474-a355-41c9-8bb5-3317faf8de83_45,\n",
            "Type: None,\n",
            "Status: Completed)\n"
          ]
        }
      ],
      "execution_count": 6,
      "metadata": {
        "gather": {
          "logged": 1607180088063
        },
        "jupyter": {
          "outputs_hidden": false,
          "source_hidden": false
        },
        "nteract": {
          "transient": {
            "deleting": false
          }
        }
      }
    },
    {
      "cell_type": "code",
      "source": [
        "print(fitted)"
      ],
      "outputs": [
        {
          "output_type": "stream",
          "name": "stdout",
          "text": [
            "RegressionPipeline(pipeline=Pipeline(memory=None,\n",
            "                                     steps=[('datatransformer',\n",
            "                                             DataTransformer(enable_dnn=None,\n",
            "                                                             enable_feature_sweeping=None,\n",
            "                                                             feature_sweeping_config=None,\n",
            "                                                             feature_sweeping_timeout=None,\n",
            "                                                             featurization_config=None,\n",
            "                                                             force_text_dnn=None,\n",
            "                                                             is_cross_validation=None,\n",
            "                                                             is_onnx_compatible=None,\n",
            "                                                             logger=None,\n",
            "                                                             observer=None,\n",
            "                                                             task=None,\n",
            "                                                             working_dir=None)),\n",
            "                                            ('pre...\n",
            "                                                                                                                          min_split_gain=0.0,\n",
            "                                                                                                                          n_estimators=100,\n",
            "                                                                                                                          n_jobs=1,\n",
            "                                                                                                                          num_leaves=31,\n",
            "                                                                                                                          objective=None,\n",
            "                                                                                                                          random_state=None,\n",
            "                                                                                                                          reg_alpha=0.0,\n",
            "                                                                                                                          reg_lambda=0.0,\n",
            "                                                                                                                          silent=True,\n",
            "                                                                                                                          subsample=1.0,\n",
            "                                                                                                                          subsample_for_bin=200000,\n",
            "                                                                                                                          subsample_freq=0,\n",
            "                                                                                                                          verbose=-1))],\n",
            "                                                                                                verbose=False))],\n",
            "                                                                          weights=[0.4,\n",
            "                                                                                   0.3333333333333333,\n",
            "                                                                                   0.06666666666666667,\n",
            "                                                                                   0.06666666666666667,\n",
            "                                                                                   0.06666666666666667,\n",
            "                                                                                   0.06666666666666667]))],\n",
            "                                     verbose=False),\n",
            "                   stddev=None)\n"
          ]
        }
      ],
      "execution_count": 7,
      "metadata": {
        "gather": {
          "logged": 1607180090434
        }
      }
    },
    {
      "cell_type": "code",
      "source": [
        "fitted.steps[-1]"
      ],
      "outputs": [
        {
          "output_type": "execute_result",
          "execution_count": 9,
          "data": {
            "text/plain": "('prefittedsoftvotingregressor',\n PreFittedSoftVotingRegressor(estimators=[('42',\n                                           Pipeline(memory=None,\n                                                    steps=[('sparsenormalizer',\n                                                            <azureml.automl.runtime.shared.model_wrappers.SparseNormalizer object at 0x7f479bd2d9b0>),\n                                                           ('xgboostregressor',\n                                                            XGBoostRegressor(base_score=0.5,\n                                                                             booster='gbtree',\n                                                                             colsample_bylevel=1,\n                                                                             colsample_bynode=1,\n                                                                             colsample_bytree=1,\n                                                                             eta=0.3,\n                                                                             gamma=0.1,\n                                                                             importance_type='gain',...\n                                                                              min_child_weight=0.001,\n                                                                              min_split_gain=0.0,\n                                                                              n_estimators=100,\n                                                                              n_jobs=1,\n                                                                              num_leaves=31,\n                                                                              objective=None,\n                                                                              random_state=None,\n                                                                              reg_alpha=0.0,\n                                                                              reg_lambda=0.0,\n                                                                              silent=True,\n                                                                              subsample=1.0,\n                                                                              subsample_for_bin=200000,\n                                                                              subsample_freq=0,\n                                                                              verbose=-1))],\n                                                    verbose=False))],\n                              weights=[0.4, 0.3333333333333333,\n                                       0.06666666666666667, 0.06666666666666667,\n                                       0.06666666666666667,\n                                       0.06666666666666667]))"
          },
          "metadata": {}
        }
      ],
      "execution_count": 9,
      "metadata": {
        "gather": {
          "logged": 1607180111265
        }
      }
    },
    {
      "cell_type": "code",
      "source": [
        "#TODO: Save the best model\n",
        "filename = 'best_automl_model.sav'\n",
        "# pickle.dump(fitted, open(filename, 'wb'))\n",
        "\n",
        "joblib.dump(fitted,filename)"
      ],
      "outputs": [
        {
          "output_type": "execute_result",
          "execution_count": 10,
          "data": {
            "text/plain": "['best_automl_model.sav']",
            "text/html": "['best_automl_model.sav']"
          },
          "metadata": {}
        }
      ],
      "execution_count": 10,
      "metadata": {
        "gather": {
          "logged": 1607180133814
        },
        "jupyter": {
          "outputs_hidden": false,
          "source_hidden": false
        },
        "nteract": {
          "transient": {
            "deleting": false
          }
        }
      }
    },
    {
      "cell_type": "markdown",
      "source": [
        "## Model Deployment\n",
        "\n",
        "Remember you have to deploy only one of the two models you trained.. Perform the steps in the rest of this notebook only if you wish to deploy this model.\n",
        "\n",
        "TODO: In the cell below, register the model, create an inference config and deploy the model as a web service."
      ],
      "metadata": {}
    },
    {
      "cell_type": "code",
      "source": [
        "registeredfinal = Model.register(workspace=ws,model_path='./best_automl_model.sav',model_name='registered.sav')"
      ],
      "outputs": [
        {
          "output_type": "stream",
          "name": "stdout",
          "text": [
            "Registering model registered.sav\n"
          ]
        }
      ],
      "execution_count": 11,
      "metadata": {
        "gather": {
          "logged": 1607180146971
        },
        "jupyter": {
          "outputs_hidden": false,
          "source_hidden": false
        },
        "nteract": {
          "transient": {
            "deleting": false
          }
        }
      }
    },
    {
      "cell_type": "code",
      "source": [
        "#Create inference config\n",
        "from azureml.core.environment import Environment\n",
        "from azureml.core.model import InferenceConfig\n",
        "\n",
        "env = Environment.get(workspace=ws,name='AzureML-AutoML')\n",
        "\n",
        "inferencefinal = InferenceConfig(entry_script='score.py',environment=env) \n",
        "\n",
        "#Deploy model and check service state\n",
        "from azureml.core.webservice import LocalWebservice, AciWebservice\n",
        "\n",
        "\n",
        "deployfinal = AciWebservice.deploy_configuration()\n",
        "svcs = Model.deploy(workspace=ws,name='deploy',models=[registeredfinal],inference_config=inferencefinal,deployment_config=deployfinal)\n",
        "svcs.wait_for_deployment(show_output=True)"
      ],
      "outputs": [
        {
          "output_type": "stream",
          "name": "stdout",
          "text": [
            "Tips: You can try get_logs(): https://aka.ms/debugimage#dockerlog or local deployment: https://aka.ms/debugimage#debug-locally to debug if deployment takes longer than 10 minutes.\n",
            "Running.....................................\n",
            "Succeeded\n",
            "ACI service creation operation finished, operation \"Succeeded\"\n"
          ]
        }
      ],
      "execution_count": 13,
      "metadata": {
        "collapsed": true,
        "gather": {
          "logged": 1607180382200
        },
        "jupyter": {
          "outputs_hidden": false,
          "source_hidden": false
        },
        "nteract": {
          "transient": {
            "deleting": false
          }
        }
      }
    },
    {
      "cell_type": "code",
      "source": [
        "print(svcs.state)"
      ],
      "outputs": [
        {
          "output_type": "stream",
          "name": "stdout",
          "text": [
            "Healthy\n"
          ]
        }
      ],
      "execution_count": 14,
      "metadata": {
        "collapsed": true,
        "gather": {
          "logged": 1607180390572
        },
        "jupyter": {
          "outputs_hidden": false,
          "source_hidden": false
        },
        "nteract": {
          "transient": {
            "deleting": false
          }
        }
      }
    },
    {
      "cell_type": "code",
      "source": [
        "print(svcs.scoring_uri)"
      ],
      "outputs": [
        {
          "output_type": "stream",
          "name": "stdout",
          "text": [
            "http://29e036ea-6c5a-48e6-ad64-5464eb02ec6c.southcentralus.azurecontainer.io/score\n"
          ]
        }
      ],
      "execution_count": 15,
      "metadata": {
        "collapsed": true,
        "gather": {
          "logged": 1607180393356
        },
        "jupyter": {
          "outputs_hidden": false,
          "source_hidden": false
        },
        "nteract": {
          "transient": {
            "deleting": false
          }
        }
      }
    },
    {
      "cell_type": "markdown",
      "source": [
        "TODO: In the cell below, send a request to the web service you deployed to test it."
      ],
      "metadata": {
        "collapsed": true,
        "gather": {
          "logged": 1598431657736
        },
        "jupyter": {
          "outputs_hidden": false,
          "source_hidden": false
        },
        "nteract": {
          "transient": {
            "deleting": false
          }
        }
      }
    },
    {
      "cell_type": "code",
      "source": [
        "import requests\n",
        "import json\n",
        "\n",
        "# URL for the web service\n",
        "scoring_uri = 'http://29e036ea-6c5a-48e6-ad64-5464eb02ec6c.southcentralus.azurecontainer.io/score'\n",
        "\n",
        "\n",
        "data = {'data':[{\n",
        "    'cylinders':4,\n",
        "    'displacement':84,\n",
        "    'horsepower':65,\n",
        "    'weight':2110,\n",
        "    'acceleration':12,\n",
        "    'model yr':80,\n",
        "    'origin':3}\n",
        "]\n",
        "        }\n",
        "\n",
        "input_data = json.dumps(data)\n",
        "\n",
        "headers = {'Content-Type': 'application/json'}\n",
        "\n",
        "\n",
        "# # Make the request and display the response\n",
        "result = requests.post(scoring_uri,input_data,headers=headers)\n",
        "print(\"prediction:\",result.text)"
      ],
      "outputs": [
        {
          "output_type": "stream",
          "name": "stdout",
          "text": [
            "prediction: [37.98189931616876]\n"
          ]
        }
      ],
      "execution_count": 16,
      "metadata": {
        "gather": {
          "logged": 1607180408001
        },
        "jupyter": {
          "outputs_hidden": false,
          "source_hidden": false
        },
        "nteract": {
          "transient": {
            "deleting": false
          }
        }
      }
    },
    {
      "cell_type": "code",
      "source": [
        "env.save_to_directory('./training',overwrite=False)"
      ],
      "outputs": [],
      "execution_count": 18,
      "metadata": {
        "gather": {
          "logged": 1607180426159
        }
      }
    },
    {
      "cell_type": "markdown",
      "source": [
        "TODO: In the cell below, print the logs of the web service and delete the service"
      ],
      "metadata": {
        "collapsed": true,
        "gather": {
          "logged": 1598432765711
        },
        "jupyter": {
          "outputs_hidden": false,
          "source_hidden": false
        },
        "nteract": {
          "transient": {
            "deleting": false
          }
        }
      }
    },
    {
      "cell_type": "code",
      "source": [
        "print(svcs.get_logs())"
      ],
      "outputs": [
        {
          "output_type": "stream",
          "name": "stdout",
          "text": [
            "2020-12-05T14:57:54.8682742Z stdout F 2020-12-05T14:57:54,706579800+00:00 - iot-server/run \n",
            "2020-12-05T14:57:54.9463202Z stdout F 2020-12-05T14:57:54,784756300+00:00 - gunicorn/run \n",
            "2020-12-05T14:57:54.9752787Z stdout F 2020-12-05T14:57:54,812926400+00:00 - nginx/run \n",
            "2020-12-05T14:57:55.0473033Z stdout F 2020-12-05T14:57:54,813868900+00:00 - rsyslog/run \n",
            "2020-12-05T14:57:55.0743102Z stderr F /usr/sbin/nginx: /azureml-envs/azureml_7cf2b5eebfc9a832d561ce064cfbc38b/lib/libcrypto.so.1.0.0: no version information available (required by /usr/sbin/nginx)\n",
            "2020-12-05T14:57:55.1577944Z stderr F /usr/sbin/nginx: /azureml-envs/azureml_7cf2b5eebfc9a832d561ce064cfbc38b/lib/libcrypto.so.1.0.0: no version information available (required by /usr/sbin/nginx)\n",
            "2020-12-05T14:57:55.1618084Z stderr F /usr/sbin/nginx: /azureml-envs/azureml_7cf2b5eebfc9a832d561ce064cfbc38b/lib/libssl.so.1.0.0: no version information available (required by /usr/sbin/nginx)\n",
            "2020-12-05T14:57:55.1618084Z stderr F /usr/sbin/nginx: /azureml-envs/azureml_7cf2b5eebfc9a832d561ce064cfbc38b/lib/libssl.so.1.0.0: no version information available (required by /usr/sbin/nginx)\n",
            "2020-12-05T14:57:55.1618084Z stderr F /usr/sbin/nginx: /azureml-envs/azureml_7cf2b5eebfc9a832d561ce064cfbc38b/lib/libssl.so.1.0.0: no version information available (required by /usr/sbin/nginx)\n",
            "2020-12-05T14:57:55.2648157Z stderr F rsyslogd: /azureml-envs/azureml_7cf2b5eebfc9a832d561ce064cfbc38b/lib/libuuid.so.1: no version information available (required by rsyslogd)\n",
            "2020-12-05T14:57:59.6597847Z stdout F EdgeHubConnectionString and IOTEDGE_IOTHUBHOSTNAME are not set. Exiting...\n",
            "2020-12-05T14:57:59.7674296Z stdout F 2020-12-05T14:57:59,594147000+00:00 - iot-server/finish 1 0\n",
            "2020-12-05T14:57:59.8573808Z stdout F 2020-12-05T14:57:59,614333400+00:00 - Exit code 1 is normal. Not restarting iot-server.\n",
            "2020-12-05T14:58:01.9674095Z stdout F Starting gunicorn 19.9.0\n",
            "2020-12-05T14:58:01.9674095Z stdout F Listening at: http://127.0.0.1:31311 (63)\n",
            "2020-12-05T14:58:01.9674095Z stdout F Using worker: sync\n",
            "2020-12-05T14:58:01.9674095Z stdout F worker timeout is set to 300\n",
            "2020-12-05T14:58:02.1580349Z stdout F Booting worker with pid: 90\n",
            "2020-12-05T14:58:20.3777779Z stdout F SPARK_HOME not set. Skipping PySpark Initialization.\n",
            "2020-12-05T14:58:20.3777779Z stdout F Generating new fontManager, this may take some time...\n",
            "2020-12-05T14:59:00.0489708Z stdout F Initializing logger\n",
            "2020-12-05T14:59:00.0489708Z stdout F 2020-12-05 14:58:59,886 | root | INFO | Starting up app insights client\n",
            "2020-12-05T14:59:00.0489708Z stdout F Starting up app insights client\n",
            "2020-12-05T14:59:00.0570267Z stdout F 2020-12-05 14:58:59,893 | root | INFO | Starting up request id generator\n",
            "2020-12-05T14:59:00.0570267Z stdout F Starting up request id generator\n",
            "2020-12-05T14:59:00.0570267Z stdout F 2020-12-05 14:58:59,894 | root | INFO | Starting up app insight hooks\n",
            "2020-12-05T14:59:00.0570267Z stdout F Starting up app insight hooks\n",
            "2020-12-05T14:59:00.0570267Z stdout F 2020-12-05 14:58:59,894 | root | INFO | Invoking user's init function\n",
            "2020-12-05T14:59:00.057974Z stdout F Invoking user's init function\n",
            "2020-12-05T14:59:34.8476219Z stdout F 2020-12-05 14:59:34,684 | root | INFO | Users's init has completed successfully\n",
            "2020-12-05T14:59:34.8476219Z stdout F Users's init has completed successfully\n",
            "2020-12-05T14:59:34.8655696Z stdout F 2020-12-05 14:59:34,703 | root | INFO | Skipping middleware: dbg_model_info as it's not enabled.\n",
            "2020-12-05T14:59:34.8655696Z stdout F Skipping middleware: dbg_model_info as it's not enabled.\n",
            "2020-12-05T14:59:34.8673602Z stdout F 2020-12-05 14:59:34,704 | root | INFO | Skipping middleware: dbg_resource_usage as it's not enabled.\n",
            "2020-12-05T14:59:34.8673602Z stdout F Skipping middleware: dbg_resource_usage as it's not enabled.\n",
            "2020-12-05T14:59:34.8703202Z stdout F 2020-12-05 14:59:34,707 | root | INFO | Scoring timeout is found from os.environ: 60000 ms\n",
            "2020-12-05T14:59:34.8703202Z stdout F Scoring timeout is found from os.environ: 60000 ms\n",
            "2020-12-05T14:59:38.6537977Z stdout F 2020-12-05 14:59:38,491 | root | INFO | Swagger file not present\n",
            "2020-12-05T14:59:38.6537977Z stdout F Swagger file not present\n",
            "2020-12-05T14:59:38.6548555Z stdout F 2020-12-05 14:59:38,492 | root | INFO | 404\n",
            "2020-12-05T14:59:38.6558479Z stdout F 404\n",
            "2020-12-05T14:59:38.658794Z stdout F 127.0.0.1 - - [05/Dec/2020:14:59:38 +0000] \"GET /swagger.json HTTP/1.0\" 404 19 \"-\" \"Go-http-client/1.1\"\n",
            "2020-12-05T14:59:42.0780003Z stdout F 2020-12-05 14:59:41,914 | root | INFO | Swagger file not present\n",
            "2020-12-05T14:59:42.0780003Z stdout F Swagger file not present\n",
            "2020-12-05T14:59:42.0780003Z stdout F 2020-12-05 14:59:41,914 | root | INFO | 404\n",
            "2020-12-05T14:59:42.0780003Z stdout F 404\n",
            "2020-12-05T14:59:42.0780003Z stdout F 127.0.0.1 - - [05/Dec/2020:14:59:41 +0000] \"GET /swagger.json HTTP/1.0\" 404 19 \"-\" \"Go-http-client/1.1\"\n",
            "2020-12-05T15:00:06.2376507Z stdout F 2020-12-05 15:00:06,075 | root | INFO | Validation Request Content-Type\n",
            "2020-12-05T15:00:06.2386079Z stdout F Validation Request Content-Type\n",
            "2020-12-05T15:00:06.2446353Z stdout F 2020-12-05 15:00:06,082 | root | INFO | \tHost: localhost:5001\n",
            "2020-12-05T15:00:06.2456124Z stdout F \tHost: localhost:5001\n",
            "2020-12-05T15:00:06.2456124Z stdout F 2020-12-05 15:00:06,083 | root | INFO | \tX-Real-Ip: 127.0.0.1\n",
            "2020-12-05T15:00:06.2456124Z stdout F \tX-Real-Ip: 127.0.0.1\n",
            "2020-12-05T15:00:06.2466066Z stdout F 2020-12-05 15:00:06,083 | root | INFO | \tX-Forwarded-For: 127.0.0.1\n",
            "2020-12-05T15:00:06.2466066Z stdout F \tX-Forwarded-For: 127.0.0.1\n",
            "2020-12-05T15:00:06.2466066Z stdout F 2020-12-05 15:00:06,084 | root | INFO | \tX-Forwarded-Proto: http\n",
            "2020-12-05T15:00:06.2466066Z stdout F \tX-Forwarded-Proto: http\n",
            "2020-12-05T15:00:06.2476119Z stdout F 2020-12-05 15:00:06,085 | root | INFO | \tConnection: close\n",
            "2020-12-05T15:00:06.2476119Z stdout F \tConnection: close\n",
            "2020-12-05T15:00:06.2486005Z stdout F 2020-12-05 15:00:06,085 | root | INFO | \tContent-Length: 131\n",
            "2020-12-05T15:00:06.2566492Z stdout F \tContent-Length: 131\n",
            "2020-12-05T15:00:06.2656277Z stdout F 2020-12-05 15:00:06,091 | root | INFO | \tUser-Agent: python-requests/2.24.0\n",
            "2020-12-05T15:00:06.2656277Z stdout F \tUser-Agent: python-requests/2.24.0\n",
            "2020-12-05T15:00:06.2656277Z stdout F 2020-12-05 15:00:06,092 | root | INFO | \tAccept: */*\n",
            "2020-12-05T15:00:06.2656277Z stdout F \tAccept: */*\n",
            "2020-12-05T15:00:06.2656277Z stdout F 2020-12-05 15:00:06,092 | root | INFO | \tAccept-Encoding: gzip, deflate\n",
            "2020-12-05T15:00:06.2656277Z stdout F \tAccept-Encoding: gzip, deflate\n",
            "2020-12-05T15:00:06.2656277Z stdout F 2020-12-05 15:00:06,092 | root | INFO | \tContent-Type: application/json\n",
            "2020-12-05T15:00:06.2656277Z stdout F \tContent-Type: application/json\n",
            "2020-12-05T15:00:06.2656277Z stdout F 2020-12-05 15:00:06,092 | root | INFO | \tX-Ms-Request-Id: 9b41bda7-7b76-4b16-b491-8a816e1cab56\n",
            "2020-12-05T15:00:06.2656277Z stdout F \tX-Ms-Request-Id: 9b41bda7-7b76-4b16-b491-8a816e1cab56\n",
            "2020-12-05T15:00:06.2656277Z stdout F 2020-12-05 15:00:06,092 | root | INFO | Scoring Timer is set to 60.0 seconds\n",
            "2020-12-05T15:00:06.2656277Z stdout F Scoring Timer is set to 60.0 seconds\n",
            "2020-12-05T15:00:07.9631586Z stdout F 2020-12-05 15:00:07,801 | root | INFO | 200\n",
            "2020-12-05T15:00:07.9631586Z stdout F 200\n",
            "2020-12-05T15:00:07.9701598Z stdout F 127.0.0.1 - - [05/Dec/2020:15:00:07 +0000] \"POST /score HTTP/1.0\" 200 19 \"-\" \"python-requests/2.24.0\"\n",
            "\n"
          ]
        }
      ],
      "execution_count": 19,
      "metadata": {
        "gather": {
          "logged": 1607180458727
        },
        "jupyter": {
          "outputs_hidden": false,
          "source_hidden": false
        },
        "nteract": {
          "transient": {
            "deleting": false
          }
        }
      }
    },
    {
      "cell_type": "code",
      "source": [
        "svcs.delete()"
      ],
      "outputs": [],
      "execution_count": null,
      "metadata": {}
    }
  ],
  "metadata": {
    "kernel_info": {
      "name": "python3-azureml"
    },
    "kernelspec": {
      "name": "python3-azureml",
      "language": "python",
      "display_name": "Python 3.6 - AzureML"
    },
    "language_info": {
      "name": "python",
      "version": "3.6.9",
      "mimetype": "text/x-python",
      "codemirror_mode": {
        "name": "ipython",
        "version": 3
      },
      "pygments_lexer": "ipython3",
      "nbconvert_exporter": "python",
      "file_extension": ".py"
    },
    "nteract": {
      "version": "nteract-front-end@1.0.0"
    }
  },
  "nbformat": 4,
  "nbformat_minor": 2
}