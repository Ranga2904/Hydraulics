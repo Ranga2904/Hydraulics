{
 "cells": [
  {
   "cell_type": "markdown",
   "metadata": {},
   "source": [
    "# Automated ML\n",
    "\n",
    "TODO: Import Dependencies. In the cell below, import all the dependencies that you will need to complete the project."
   ]
  },
  {
   "cell_type": "code",
   "execution_count": 1,
   "metadata": {
    "gather": {
     "logged": 1609717593044
    },
    "jupyter": {
     "outputs_hidden": false,
     "source_hidden": false
    },
    "nteract": {
     "transient": {
      "deleting": false
     }
    }
   },
   "outputs": [],
   "source": [
    "from azureml.core import Workspace, Experiment, Dataset, Model, Datastore, Environment\n",
    "from azureml.data.datapath import DataPath\n",
    "from azureml.widgets import RunDetails\n",
    "from azureml.train.automl import AutoMLConfig\n",
    "import numpy as np\n",
    "import pandas as pd\n",
    "import joblib, pickle"
   ]
  },
  {
   "cell_type": "markdown",
   "metadata": {},
   "source": [
    "## Dataset\n",
    "\n",
    "### Overview\n",
    "The dataset I'm using tracks car mpg as a function of several car characteristics like weight and acceleration. The task performed is regression to predict mpg as a function of these characteristics.\n",
    "\n",
    "TODO: Get data. In the cell below, write code to access the data you will be using in this project. Remember that the dataset needs to be external."
   ]
  },
  {
   "cell_type": "code",
   "execution_count": 2,
   "metadata": {
    "gather": {
     "logged": 1609717602192
    },
    "jupyter": {
     "outputs_hidden": false,
     "source_hidden": false
    },
    "nteract": {
     "transient": {
      "deleting": false
     }
    }
   },
   "outputs": [
    {
     "data": {
      "text/plain": [
       "['/mnt/batch/tasks/shared/LS_root/mounts/clusters/ranga/code/Users/odl_user_133227/TS3.txt']"
      ]
     },
     "execution_count": 2,
     "metadata": {},
     "output_type": "execute_result"
    }
   ],
   "source": [
    "subscription_id = 'f9d5a085-54dc-4215-9ba6-dad5d86e60a0'\n",
    "resource_group = 'aml-quickstarts-133227'\n",
    "workspace_name = 'quick-starts-ws-133227'\n",
    "\n",
    "ws = Workspace.get(name=\"quick-starts-ws-133227\")\n",
    "exp = Experiment(workspace=ws, name=\"Ranga\")\n",
    "\n",
    "workspace = Workspace(subscription_id, resource_group, workspace_name)\n",
    "\n",
    "CEdata = Dataset.get_by_name(workspace, name='CE')\n",
    "CEdata.download(target_path='.', overwrite=True)\n",
    "VS1data = Dataset.get_by_name(workspace, name='VS1')\n",
    "VS1data.download(target_path='.', overwrite=True)\n",
    "TS4data = Dataset.get_by_name(workspace, name='TS4')\n",
    "TS4data.download(target_path='.', overwrite=True)\n",
    "TS3data = Dataset.get_by_name(workspace, name='TS3')\n",
    "TS3data.download(target_path='.', overwrite=True)\n",
    "\n"
   ]
  },
  {
   "cell_type": "code",
   "execution_count": 3,
   "metadata": {
    "collapsed": true,
    "gather": {
     "logged": 1609717607275
    },
    "jupyter": {
     "outputs_hidden": false,
     "source_hidden": false
    },
    "nteract": {
     "transient": {
      "deleting": false
     }
    }
   },
   "outputs": [
    {
     "data": {
      "text/plain": [
       "['/mnt/batch/tasks/shared/LS_root/mounts/clusters/ranga/code/Users/odl_user_133227/CP.txt']"
      ]
     },
     "execution_count": 3,
     "metadata": {},
     "output_type": "execute_result"
    }
   ],
   "source": [
    "SEdata = Dataset.get_by_name(workspace, name='SE')\n",
    "SEdata.download(target_path='.', overwrite=True)\n",
    "PS6data = Dataset.get_by_name(workspace, name='PS6')\n",
    "PS6data.download(target_path='.', overwrite=True)\n",
    "PS5data = Dataset.get_by_name(workspace, name='PS5')\n",
    "PS5data.download(target_path='.', overwrite=True)\n",
    "\n",
    "FS2data = Dataset.get_by_name(workspace, name='FS2')\n",
    "FS2data.download(target_path='.', overwrite=True)\n",
    "\n",
    "EPS1data = Dataset.get_by_name(workspace, name='EPS1')\n",
    "EPS1data.download(target_path='.', overwrite=True)\n",
    "CPdata = Dataset.get_by_name(workspace, name='CP')\n",
    "CPdata.download(target_path='.', overwrite=True)\n"
   ]
  },
  {
   "cell_type": "code",
   "execution_count": 4,
   "metadata": {
    "collapsed": true,
    "gather": {
     "logged": 1609717607680
    },
    "jupyter": {
     "outputs_hidden": false,
     "source_hidden": false
    },
    "nteract": {
     "transient": {
      "deleting": false
     }
    }
   },
   "outputs": [],
   "source": [
    "cooleff = []\n",
    "coolpwr = []\n",
    "\n",
    "ps_five = []\n",
    "ps_six = []\n",
    "motorpower = []\n",
    "\n",
    "volflowtwo = []\n",
    "\n",
    "tempthree = []\n",
    "tempfour = []\n",
    "effactor = []\n",
    "vibes = []"
   ]
  },
  {
   "cell_type": "code",
   "execution_count": 5,
   "metadata": {
    "collapsed": true,
    "gather": {
     "logged": 1609717608515
    },
    "jupyter": {
     "outputs_hidden": false,
     "source_hidden": false
    },
    "nteract": {
     "transient": {
      "deleting": false
     }
    }
   },
   "outputs": [],
   "source": [
    "ce = open('CE.txt','r')\n",
    "for line in ce:\n",
    "    cooleff.append(line.split())"
   ]
  },
  {
   "cell_type": "code",
   "execution_count": 6,
   "metadata": {
    "collapsed": true,
    "gather": {
     "logged": 1609717608857
    },
    "jupyter": {
     "outputs_hidden": false,
     "source_hidden": false
    },
    "nteract": {
     "transient": {
      "deleting": false
     }
    }
   },
   "outputs": [],
   "source": [
    "cp = open('CP.txt','r')\n",
    "for line in cp:\n",
    "    coolpwr.append(line.split())\n",
    "\n",
    "effic = open('se.txt','r')\n",
    "for line in effic:\n",
    "    effactor.append(line.split())\n",
    "    \n",
    "vibe = open('VS1.txt')\n",
    "for line in vibe:\n",
    "    vibes.append(line.split())"
   ]
  },
  {
   "cell_type": "code",
   "execution_count": 7,
   "metadata": {
    "collapsed": true,
    "gather": {
     "logged": 1609717611203
    },
    "jupyter": {
     "outputs_hidden": false,
     "source_hidden": false
    },
    "nteract": {
     "transient": {
      "deleting": false
     }
    }
   },
   "outputs": [],
   "source": [
    "psfive = open('PS5.txt','r')\n",
    "for line in psfive:\n",
    "    ps_five.append(line.split())\n",
    "pssix = open('PS6.txt','r')\n",
    "for line in pssix:\n",
    "    ps_six.append(line.split())"
   ]
  },
  {
   "cell_type": "code",
   "execution_count": 8,
   "metadata": {
    "collapsed": true,
    "gather": {
     "logged": 1609717613519
    },
    "jupyter": {
     "outputs_hidden": false,
     "source_hidden": false
    },
    "nteract": {
     "transient": {
      "deleting": false
     }
    }
   },
   "outputs": [],
   "source": [
    "mp = open('EPS1.txt','r')\n",
    "for line in mp:\n",
    "    motorpower.append(line.split())\n",
    "\n",
    "\n",
    "tthree = open('TS3.txt','r')\n",
    "for line in tthree:\n",
    "    tempthree.append(line.split())\n",
    "tfour = open('TS4.txt','r')\n",
    "for line in tfour:\n",
    "    tempfour.append(line.split())"
   ]
  },
  {
   "cell_type": "code",
   "execution_count": 9,
   "metadata": {
    "collapsed": true,
    "gather": {
     "logged": 1609717613939
    },
    "jupyter": {
     "outputs_hidden": false,
     "source_hidden": false
    },
    "nteract": {
     "transient": {
      "deleting": false
     }
    }
   },
   "outputs": [],
   "source": [
    "vftwo = open('FS2.txt','r')\n",
    "for line in vftwo:\n",
    "    volflowtwo.append(line.split())"
   ]
  },
  {
   "cell_type": "code",
   "execution_count": 10,
   "metadata": {
    "collapsed": true,
    "gather": {
     "logged": 1609717614274
    },
    "jupyter": {
     "outputs_hidden": false,
     "source_hidden": false
    },
    "nteract": {
     "transient": {
      "deleting": false
     }
    }
   },
   "outputs": [],
   "source": [
    "cooleff = np.reshape(cooleff,(2205,60))\n",
    "coolpwr = np.reshape(coolpwr,(2205,60))\n",
    "cooleffDF = pd.DataFrame(cooleff)\n",
    "coolpwrDF = pd.DataFrame(coolpwr)"
   ]
  },
  {
   "cell_type": "code",
   "execution_count": 11,
   "metadata": {
    "collapsed": true,
    "gather": {
     "logged": 1609717622611
    },
    "jupyter": {
     "outputs_hidden": false,
     "source_hidden": false
    },
    "nteract": {
     "transient": {
      "deleting": false
     }
    }
   },
   "outputs": [],
   "source": [
    "ps_five = np.reshape(ps_five,(2205,6000))\n",
    "ps_five_DF = pd.DataFrame(ps_five)\n",
    "ps_six = np.reshape(ps_six,(2205,6000))\n",
    "ps_six_DF = pd.DataFrame(ps_six)"
   ]
  },
  {
   "cell_type": "code",
   "execution_count": 12,
   "metadata": {
    "collapsed": true,
    "gather": {
     "logged": 1609717623915
    },
    "jupyter": {
     "outputs_hidden": false,
     "source_hidden": false
    },
    "nteract": {
     "transient": {
      "deleting": false
     }
    }
   },
   "outputs": [],
   "source": [
    "motorpower = np.reshape(motorpower,(2205,6000))\n",
    "mp_DF = pd.DataFrame(motorpower)\n",
    "\n",
    "volflowtwo = np.reshape(volflowtwo,(2205,600))\n",
    "vftwo_DF = pd.DataFrame(volflowtwo)"
   ]
  },
  {
   "cell_type": "code",
   "execution_count": 13,
   "metadata": {
    "collapsed": true,
    "gather": {
     "logged": 1609717624572
    },
    "jupyter": {
     "outputs_hidden": false,
     "source_hidden": false
    },
    "nteract": {
     "transient": {
      "deleting": false
     }
    }
   },
   "outputs": [],
   "source": [
    "tempthree = np.reshape(tempthree,(2205,60))\n",
    "tthree_DF = pd.DataFrame(tempthree)\n",
    "tempfour = np.reshape(tempfour,(2205,60))\n",
    "tfour_DF = pd.DataFrame(tempfour)\n"
   ]
  },
  {
   "cell_type": "code",
   "execution_count": 14,
   "metadata": {
    "collapsed": true,
    "gather": {
     "logged": 1609717625218
    },
    "jupyter": {
     "outputs_hidden": false,
     "source_hidden": false
    },
    "nteract": {
     "transient": {
      "deleting": false
     }
    }
   },
   "outputs": [],
   "source": [
    "effactor = np.reshape(effactor,(2205,60))\n",
    "eff_DF = pd.DataFrame(effactor)\n",
    "vibes = np.reshape(vibes,(2205,60))\n",
    "vibes_DF = pd.DataFrame(vibes)"
   ]
  },
  {
   "cell_type": "code",
   "execution_count": 15,
   "metadata": {
    "collapsed": true,
    "gather": {
     "logged": 1609717625535
    },
    "jupyter": {
     "outputs_hidden": false,
     "source_hidden": false
    },
    "nteract": {
     "transient": {
      "deleting": false
     }
    }
   },
   "outputs": [],
   "source": [
    "coolpwrDF = coolpwrDF.astype(float)\n",
    "coolpwrDF['Avg coolpwr'] = coolpwrDF.mean(axis=1)\n",
    "coolpwrDF = pd.DataFrame(coolpwrDF.loc[:,'Avg coolpwr'])\n",
    "\n",
    "cooleffDF = cooleffDF.astype(float)\n",
    "cooleffDF['Avg cooleff'] = cooleffDF.mean(axis=1)\n",
    "cooleffDF = pd.DataFrame(cooleffDF.loc[:,'Avg cooleff'])"
   ]
  },
  {
   "cell_type": "code",
   "execution_count": 16,
   "metadata": {
    "collapsed": true,
    "gather": {
     "logged": 1609717630016
    },
    "jupyter": {
     "outputs_hidden": false,
     "source_hidden": false
    },
    "nteract": {
     "transient": {
      "deleting": false
     }
    }
   },
   "outputs": [],
   "source": [
    "ps_five_DF = ps_five_DF.astype(float)\n",
    "ps_five_DF['Avg psfive'] = ps_five_DF.mean(axis=1)\n",
    "ps_five_DF = pd.DataFrame(ps_five_DF.loc[:,'Avg psfive'])\n",
    "\n",
    "ps_six_DF = ps_six_DF.astype(float)\n",
    "ps_six_DF['Avg pssix'] = ps_six_DF.mean(axis=1)\n",
    "ps_six_DF = pd.DataFrame(ps_six_DF.loc[:,'Avg pssix'])"
   ]
  },
  {
   "cell_type": "code",
   "execution_count": 17,
   "metadata": {
    "collapsed": true,
    "gather": {
     "logged": 1609717635003
    },
    "jupyter": {
     "outputs_hidden": false,
     "source_hidden": false
    },
    "nteract": {
     "transient": {
      "deleting": false
     }
    }
   },
   "outputs": [],
   "source": [
    "mp_DF = mp_DF.astype(float)\n",
    "mp_DF['Avg mp'] = mp_DF.mean(axis=1)\n",
    "mp_DF = pd.DataFrame(mp_DF.loc[:,'Avg mp'])\n",
    "\n",
    "vftwo_DF = vftwo_DF.astype(float)\n",
    "vftwo_DF['Avg vftwo'] = vftwo_DF.mean(axis=1)\n",
    "vftwo_DF = pd.DataFrame(vftwo_DF.loc[:,'Avg vftwo'])"
   ]
  },
  {
   "cell_type": "code",
   "execution_count": 18,
   "metadata": {
    "collapsed": true,
    "gather": {
     "logged": 1609717635337
    },
    "jupyter": {
     "outputs_hidden": false,
     "source_hidden": false
    },
    "nteract": {
     "transient": {
      "deleting": false
     }
    }
   },
   "outputs": [],
   "source": [
    "eff_DF = eff_DF.astype(float)\n",
    "eff_DF['Avg eff'] = eff_DF.mean(axis=1)\n",
    "eff_DF = pd.DataFrame(eff_DF.loc[:,'Avg eff'])\n",
    "\n",
    "vibes_DF = vibes_DF.astype(float)\n",
    "vibes_DF['Avg vibes'] = vibes_DF.mean(axis=1)\n",
    "vibes_DF = pd.DataFrame(vibes_DF.loc[:,'Avg vibes'])"
   ]
  },
  {
   "cell_type": "code",
   "execution_count": 19,
   "metadata": {
    "collapsed": true,
    "gather": {
     "logged": 1609717635643
    },
    "jupyter": {
     "outputs_hidden": false,
     "source_hidden": false
    },
    "nteract": {
     "transient": {
      "deleting": false
     }
    }
   },
   "outputs": [],
   "source": [
    "tthree_DF = tthree_DF.astype(float)\n",
    "tthree_DF['Avg tthree'] = tthree_DF.mean(axis=1)\n",
    "tthree_DF = pd.DataFrame(tthree_DF.loc[:,'Avg tthree'])\n",
    "tfour_DF = tfour_DF.astype(float)\n",
    "tfour_DF['Avg tfour'] = tfour_DF.mean(axis=1)\n",
    "tfour_DF = pd.DataFrame(tfour_DF.loc[:,'Avg tfour'])"
   ]
  },
  {
   "cell_type": "code",
   "execution_count": 20,
   "metadata": {
    "collapsed": true,
    "gather": {
     "logged": 1609717635942
    },
    "jupyter": {
     "outputs_hidden": false,
     "source_hidden": false
    },
    "nteract": {
     "transient": {
      "deleting": false
     }
    }
   },
   "outputs": [],
   "source": [
    "features = (((((((((coolpwrDF.join(cooleffDF)).join(ps_five_DF)).join(ps_six_DF)).join(mp_DF)).join(vftwo_DF)).join(eff_DF)).join(vibes_DF)).join(tthree_DF)).join(tfour_DF))"
   ]
  },
  {
   "cell_type": "code",
   "execution_count": 21,
   "metadata": {
    "collapsed": true,
    "gather": {
     "logged": 1609717636267
    },
    "jupyter": {
     "outputs_hidden": false,
     "source_hidden": false
    },
    "nteract": {
     "transient": {
      "deleting": false
     }
    }
   },
   "outputs": [
    {
     "data": {
      "text/plain": [
       "['/mnt/batch/tasks/shared/LS_root/mounts/clusters/ranga/code/Users/odl_user_133227/profile.txt']"
      ]
     },
     "execution_count": 21,
     "metadata": {},
     "output_type": "execute_result"
    }
   ],
   "source": [
    "profiledata = Dataset.get_by_name(workspace, name='profile')\n",
    "profiledata.download(target_path='.', overwrite=True)"
   ]
  },
  {
   "cell_type": "code",
   "execution_count": 26,
   "metadata": {
    "collapsed": true,
    "gather": {
     "logged": 1609717717413
    },
    "jupyter": {
     "outputs_hidden": false,
     "source_hidden": false
    },
    "nteract": {
     "transient": {
      "deleting": false
     }
    }
   },
   "outputs": [],
   "source": [
    "profiles=[]\n",
    "prof = open('profile.txt','r')\n",
    "for line in prof:\n",
    "    profiles.append(line.split())\n",
    "\n",
    "labels = np.reshape(profiles,(2205,5))\n",
    "labels_DF = pd.DataFrame(labels)\n",
    "labels_DF = labels_DF.astype(float)\n",
    "\n",
    "labels_DF.columns = ['Clr cndn','Valve cndn','Pump lkg','Hydraulic press','Stable Flag (only cat)']"
   ]
  },
  {
   "cell_type": "code",
   "execution_count": 29,
   "metadata": {
    "collapsed": true,
    "gather": {
     "logged": 1609717741500
    },
    "jupyter": {
     "outputs_hidden": false,
     "source_hidden": false
    },
    "nteract": {
     "transient": {
      "deleting": false
     }
    }
   },
   "outputs": [
    {
     "data": {
      "text/plain": [
       "Avg coolpwr               float64\n",
       "Avg cooleff               float64\n",
       "Avg psfive                float64\n",
       "Avg pssix                 float64\n",
       "Avg mp                    float64\n",
       "Avg vftwo                 float64\n",
       "Avg eff                   float64\n",
       "Avg vibes                 float64\n",
       "Avg tthree                float64\n",
       "Avg tfour                 float64\n",
       "Clr cndn                  float64\n",
       "Valve cndn                float64\n",
       "Pump lkg                  float64\n",
       "Hydraulic press           float64\n",
       "Stable Flag (only cat)    float64\n",
       "dtype: object"
      ]
     },
     "execution_count": 29,
     "metadata": {},
     "output_type": "execute_result"
    }
   ],
   "source": [
    "ds = features.join(labels_DF)\n",
    "ds_valvecndn = ds.drop(columns=['Clr cndn','Pump lkg','Hydraulic press','Stable Flag (only cat)'])\n",
    "ds_stableflag = ds.drop(columns=['Clr cndn','Valve cndn','Pump lkg','Hydraulic press'])"
   ]
  },
  {
   "cell_type": "code",
   "execution_count": 30,
   "metadata": {
    "gather": {
     "logged": 1609717752731
    },
    "jupyter": {
     "outputs_hidden": false,
     "source_hidden": false
    },
    "nteract": {
     "transient": {
      "deleting": false
     }
    }
   },
   "outputs": [],
   "source": [
    "# TODO: Put your automl config here\n",
    "automl_config = AutoMLConfig(\n",
    "    experiment_timeout_minutes=15,\n",
    "    task='regression',\n",
    "    primary_metric='r2_score',\n",
    "    training_data=ds_valvecndn,\n",
    "    label_column_name='Valve cndn',\n",
    "    n_cross_validations=3)"
   ]
  },
  {
   "cell_type": "code",
   "execution_count": 31,
   "metadata": {
    "gather": {
     "logged": 1609719116544
    },
    "jupyter": {
     "outputs_hidden": false,
     "source_hidden": false
    },
    "nteract": {
     "transient": {
      "deleting": false
     }
    }
   },
   "outputs": [
    {
     "name": "stderr",
     "output_type": "stream",
     "text": [
      "WARNING:root:Running on local machine. Note that local runs always run synchronously even if you use the parameter 'show_output=False'\n"
     ]
    },
    {
     "data": {
      "application/vnd.jupyter.widget-view+json": {
       "model_id": "8c9499ac536449ac99e81598ea300bcf",
       "version_major": 2,
       "version_minor": 0
      },
      "text/plain": [
       "_AutoMLWidget(widget_settings={'childWidgetDisplay': 'popup', 'send_telemetry': False, 'log_level': 'INFO', 's…"
      ]
     },
     "metadata": {},
     "output_type": "display_data"
    },
    {
     "data": {
      "application/aml.mini.widget.v1": "{\"status\": \"Completed\", \"workbench_run_details_uri\": \"https://ml.azure.com/experiments/AutoRanga/runs/AutoML_a2b56ecc-3710-4d64-b351-ee6241c50fa5?wsid=/subscriptions/f9d5a085-54dc-4215-9ba6-dad5d86e60a0/resourcegroups/aml-quickstarts-133227/workspaces/quick-starts-ws-133227\", \"run_id\": \"AutoML_a2b56ecc-3710-4d64-b351-ee6241c50fa5\", \"run_properties\": {\"run_id\": \"AutoML_a2b56ecc-3710-4d64-b351-ee6241c50fa5\", \"created_utc\": \"2021-01-03T23:49:19.421453Z\", \"properties\": {\"num_iterations\": \"1000\", \"training_type\": \"TrainFull\", \"acquisition_function\": \"EI\", \"primary_metric\": \"r2_score\", \"train_split\": \"0\", \"acquisition_parameter\": \"0\", \"num_cross_validation\": \"3\", \"target\": \"local\", \"AMLSettingsJsonString\": \"{\\\"path\\\":null,\\\"name\\\":\\\"AutoRanga\\\",\\\"subscription_id\\\":\\\"f9d5a085-54dc-4215-9ba6-dad5d86e60a0\\\",\\\"resource_group\\\":\\\"aml-quickstarts-133227\\\",\\\"workspace_name\\\":\\\"quick-starts-ws-133227\\\",\\\"region\\\":\\\"southcentralus\\\",\\\"compute_target\\\":\\\"local\\\",\\\"spark_service\\\":null,\\\"azure_service\\\":\\\"Microsoft.AzureNotebookVM\\\",\\\"many_models\\\":false,\\\"pipeline_fetch_max_batch_size\\\":1,\\\"iterations\\\":1000,\\\"primary_metric\\\":\\\"r2_score\\\",\\\"task_type\\\":\\\"regression\\\",\\\"data_script\\\":null,\\\"validation_size\\\":0.0,\\\"n_cross_validations\\\":3,\\\"y_min\\\":null,\\\"y_max\\\":null,\\\"num_classes\\\":null,\\\"featurization\\\":\\\"auto\\\",\\\"_ignore_package_version_incompatibilities\\\":false,\\\"is_timeseries\\\":false,\\\"max_cores_per_iteration\\\":1,\\\"max_concurrent_iterations\\\":1,\\\"iteration_timeout_minutes\\\":null,\\\"mem_in_mb\\\":null,\\\"enforce_time_on_windows\\\":false,\\\"experiment_timeout_minutes\\\":15,\\\"experiment_exit_score\\\":null,\\\"whitelist_models\\\":null,\\\"blacklist_algos\\\":[\\\"TensorFlowDNN\\\",\\\"TensorFlowLinearRegressor\\\"],\\\"supported_models\\\":[\\\"RandomForest\\\",\\\"LightGBM\\\",\\\"GradientBoosting\\\",\\\"KNN\\\",\\\"TensorFlowDNN\\\",\\\"ElasticNet\\\",\\\"DecisionTree\\\",\\\"ExtremeRandomTrees\\\",\\\"SGD\\\",\\\"OnlineGradientDescentRegressor\\\",\\\"LassoLars\\\",\\\"TensorFlowLinearRegressor\\\",\\\"FastLinearRegressor\\\",\\\"XGBoostRegressor\\\"],\\\"auto_blacklist\\\":true,\\\"blacklist_samples_reached\\\":false,\\\"exclude_nan_labels\\\":true,\\\"verbosity\\\":20,\\\"_debug_log\\\":\\\"automl.log\\\",\\\"show_warnings\\\":false,\\\"model_explainability\\\":true,\\\"service_url\\\":null,\\\"sdk_url\\\":null,\\\"sdk_packages\\\":null,\\\"enable_onnx_compatible_models\\\":false,\\\"enable_split_onnx_featurizer_estimator_models\\\":false,\\\"vm_type\\\":null,\\\"telemetry_verbosity\\\":20,\\\"send_telemetry\\\":true,\\\"enable_dnn\\\":false,\\\"scenario\\\":\\\"SDK-1.13.0\\\",\\\"environment_label\\\":null,\\\"force_text_dnn\\\":false,\\\"enable_feature_sweeping\\\":true,\\\"enable_early_stopping\\\":false,\\\"early_stopping_n_iters\\\":10,\\\"metrics\\\":null,\\\"enable_ensembling\\\":true,\\\"enable_stack_ensembling\\\":true,\\\"ensemble_iterations\\\":15,\\\"enable_tf\\\":false,\\\"enable_subsampling\\\":null,\\\"subsample_seed\\\":null,\\\"enable_nimbusml\\\":false,\\\"enable_streaming\\\":false,\\\"force_streaming\\\":false,\\\"track_child_runs\\\":true,\\\"allowed_private_models\\\":[],\\\"label_column_name\\\":\\\"Valve cndn\\\",\\\"weight_column_name\\\":null,\\\"cv_split_column_names\\\":null,\\\"enable_local_managed\\\":false,\\\"_local_managed_run_id\\\":null,\\\"cost_mode\\\":1,\\\"lag_length\\\":0,\\\"metric_operation\\\":\\\"maximize\\\",\\\"preprocess\\\":true}\", \"DataPrepJsonString\": null, \"EnableSubsampling\": null, \"runTemplate\": \"AutoML\", \"azureml.runsource\": \"automl\", \"display_task_type\": \"regression\", \"dependencies_versions\": \"{\\\"azureml-widgets\\\": \\\"1.19.0\\\", \\\"azureml-train\\\": \\\"1.19.0\\\", \\\"azureml-train-restclients-hyperdrive\\\": \\\"1.19.0\\\", \\\"azureml-train-core\\\": \\\"1.19.0\\\", \\\"azureml-train-automl\\\": \\\"1.19.0\\\", \\\"azureml-train-automl-runtime\\\": \\\"1.19.0\\\", \\\"azureml-train-automl-client\\\": \\\"1.19.0\\\", \\\"azureml-tensorboard\\\": \\\"1.19.0\\\", \\\"azureml-telemetry\\\": \\\"1.19.0\\\", \\\"azureml-sdk\\\": \\\"1.19.0\\\", \\\"azureml-samples\\\": \\\"0+unknown\\\", \\\"azureml-pipeline\\\": \\\"1.19.0\\\", \\\"azureml-pipeline-steps\\\": \\\"1.19.0\\\", \\\"azureml-pipeline-core\\\": \\\"1.19.0\\\", \\\"azureml-opendatasets\\\": \\\"1.19.0\\\", \\\"azureml-model-management-sdk\\\": \\\"1.0.1b6.post1\\\", \\\"azureml-mlflow\\\": \\\"1.19.0\\\", \\\"azureml-interpret\\\": \\\"1.19.0\\\", \\\"azureml-explain-model\\\": \\\"1.19.0\\\", \\\"azureml-defaults\\\": \\\"1.19.0\\\", \\\"azureml-dataset-runtime\\\": \\\"1.19.0\\\", \\\"azureml-dataprep\\\": \\\"2.6.1\\\", \\\"azureml-dataprep-rslex\\\": \\\"1.4.0\\\", \\\"azureml-dataprep-native\\\": \\\"26.0.0\\\", \\\"azureml-datadrift\\\": \\\"1.19.0\\\", \\\"azureml-core\\\": \\\"1.19.0\\\", \\\"azureml-contrib-services\\\": \\\"1.19.0\\\", \\\"azureml-contrib-server\\\": \\\"1.19.0\\\", \\\"azureml-contrib-reinforcementlearning\\\": \\\"1.19.0\\\", \\\"azureml-contrib-pipeline-steps\\\": \\\"1.19.0\\\", \\\"azureml-contrib-notebook\\\": \\\"1.19.0\\\", \\\"azureml-contrib-interpret\\\": \\\"1.19.0\\\", \\\"azureml-contrib-gbdt\\\": \\\"1.19.0\\\", \\\"azureml-contrib-fairness\\\": \\\"1.19.0\\\", \\\"azureml-contrib-dataset\\\": \\\"1.19.0\\\", \\\"azureml-cli-common\\\": \\\"1.19.0\\\", \\\"azureml-automl-runtime\\\": \\\"1.19.0\\\", \\\"azureml-automl-core\\\": \\\"1.19.0\\\", \\\"azureml-accel-models\\\": \\\"1.19.0\\\"}\", \"_aml_system_scenario_identification\": \"Local.Parent\", \"ClientSdkVersion\": \"1.19.0\", \"ClientType\": \"SDK\", \"environment_cpu_name\": \"AzureML-AutoML\", \"environment_cpu_label\": \"prod\", \"environment_gpu_name\": \"AzureML-AutoML-GPU\", \"environment_gpu_label\": \"prod\", \"root_attribution\": \"automl\", \"attribution\": \"AutoML\", \"Orchestrator\": \"AutoML\", \"_azureml.ComputeTargetType\": \"local\", \"ProblemInfoJsonString\": \"{\\\"dataset_num_categorical\\\": 0, \\\"is_sparse\\\": false, \\\"subsampling\\\": false, \\\"dataset_classes\\\": 4, \\\"dataset_features\\\": 14, \\\"dataset_samples\\\": 2205, \\\"single_frequency_class_detected\\\": false}\", \"feature_skus\": \"automatedml_sdk_guardrails\"}, \"tags\": {\"model_explain_run\": \"best_run\", \"best_score\": \"0.9095808060805313\", \"best_pipeline\": \"StackEnsemble\", \"automl_best_child_run_id\": \"AutoML_a2b56ecc-3710-4d64-b351-ee6241c50fa5_30\", \"model_explain_best_run_child_id\": \"AutoML_a2b56ecc-3710-4d64-b351-ee6241c50fa5_30\"}, \"end_time_utc\": \"2021-01-04T00:05:48.515095Z\", \"status\": \"Completed\", \"log_files\": {}, \"log_groups\": [], \"run_duration\": \"0:16:29\"}, \"child_runs\": [{\"run_id\": \"AutoML_a2b56ecc-3710-4d64-b351-ee6241c50fa5_0\", \"run_number\": 2, \"metric\": null, \"status\": \"Completed\", \"run_type\": null, \"training_percent\": \"100\", \"start_time\": \"2021-01-03T23:49:39.325507Z\", \"end_time\": \"2021-01-03T23:50:08.925616Z\", \"created_time\": \"2021-01-03T23:49:39.220493Z\", \"created_time_dt\": \"2021-01-03T23:49:39.220493Z\", \"duration\": \"0:00:29\", \"iteration\": \"0\", \"goal\": \"r2_score_max\", \"run_name\": \"MaxAbsScaler, LightGBM\", \"run_properties\": \"copy=True\", \"primary_metric\": 0.88114368, \"best_metric\": 0.88114368}, {\"run_id\": \"AutoML_a2b56ecc-3710-4d64-b351-ee6241c50fa5_1\", \"run_number\": 3, \"metric\": null, \"status\": \"Completed\", \"run_type\": null, \"training_percent\": \"100\", \"start_time\": \"2021-01-03T23:50:09.354972Z\", \"end_time\": \"2021-01-03T23:50:36.274156Z\", \"created_time\": \"2021-01-03T23:50:09.2386Z\", \"created_time_dt\": \"2021-01-03T23:50:09.2386Z\", \"duration\": \"0:00:27\", \"iteration\": \"1\", \"goal\": \"r2_score_max\", \"run_name\": \"MaxAbsScaler, XGBoostRegressor\", \"run_properties\": \"copy=True\", \"primary_metric\": 0.80081848, \"best_metric\": 0.88114368}, {\"run_id\": \"AutoML_a2b56ecc-3710-4d64-b351-ee6241c50fa5_2\", \"run_number\": 4, \"metric\": null, \"status\": \"Completed\", \"run_type\": null, \"training_percent\": \"100\", \"start_time\": \"2021-01-03T23:50:37.013335Z\", \"end_time\": \"2021-01-03T23:51:05.75846Z\", \"created_time\": \"2021-01-03T23:50:36.881187Z\", \"created_time_dt\": \"2021-01-03T23:50:36.881187Z\", \"duration\": \"0:00:28\", \"iteration\": \"2\", \"goal\": \"r2_score_max\", \"run_name\": \"SparseNormalizer, XGBoostRegressor\", \"run_properties\": \"<azureml.automl.runtime.shared.model_wrappers.SparseNormalizer object at 0x7fc179df7128\", \"primary_metric\": 0.76961607, \"best_metric\": 0.88114368}, {\"run_id\": \"AutoML_a2b56ecc-3710-4d64-b351-ee6241c50fa5_3\", \"run_number\": 5, \"metric\": null, \"status\": \"Completed\", \"run_type\": null, \"training_percent\": \"100\", \"start_time\": \"2021-01-03T23:51:07.281703Z\", \"end_time\": \"2021-01-03T23:51:40.85685Z\", \"created_time\": \"2021-01-03T23:51:07.180283Z\", \"created_time_dt\": \"2021-01-03T23:51:07.180283Z\", \"duration\": \"0:00:33\", \"iteration\": \"3\", \"goal\": \"r2_score_max\", \"run_name\": \"MaxAbsScaler, RandomForest\", \"run_properties\": \"copy=True\", \"primary_metric\": 0.79570926, \"best_metric\": 0.88114368}, {\"run_id\": \"AutoML_a2b56ecc-3710-4d64-b351-ee6241c50fa5_4\", \"run_number\": 6, \"metric\": null, \"status\": \"Completed\", \"run_type\": null, \"training_percent\": \"100\", \"start_time\": \"2021-01-03T23:51:42.43943Z\", \"end_time\": \"2021-01-03T23:52:10.60313Z\", \"created_time\": \"2021-01-03T23:51:42.325847Z\", \"created_time_dt\": \"2021-01-03T23:51:42.325847Z\", \"duration\": \"0:00:28\", \"iteration\": \"4\", \"goal\": \"r2_score_max\", \"run_name\": \"StandardScalerWrapper, XGBoostRegressor\", \"run_properties\": \"<azureml.automl.runtime.shared.model_wrappers.StandardScalerWrapper object at 0x7fc17ad1e1d0\", \"primary_metric\": 0.89144446, \"best_metric\": 0.89144446}, {\"run_id\": \"AutoML_a2b56ecc-3710-4d64-b351-ee6241c50fa5_5\", \"run_number\": 7, \"metric\": null, \"status\": \"Completed\", \"run_type\": null, \"training_percent\": \"100\", \"start_time\": \"2021-01-03T23:52:13.561438Z\", \"end_time\": \"2021-01-03T23:52:46.810433Z\", \"created_time\": \"2021-01-03T23:52:13.100356Z\", \"created_time_dt\": \"2021-01-03T23:52:13.100356Z\", \"duration\": \"0:00:33\", \"iteration\": \"5\", \"goal\": \"r2_score_max\", \"run_name\": \"MaxAbsScaler, ElasticNet\", \"run_properties\": \"copy=True\", \"primary_metric\": 0.46092438, \"best_metric\": 0.89144446}, {\"run_id\": \"AutoML_a2b56ecc-3710-4d64-b351-ee6241c50fa5_6\", \"run_number\": 8, \"metric\": null, \"status\": \"Completed\", \"run_type\": null, \"training_percent\": \"100\", \"start_time\": \"2021-01-03T23:52:49.377713Z\", \"end_time\": \"2021-01-03T23:53:26.0206Z\", \"created_time\": \"2021-01-03T23:52:48.903655Z\", \"created_time_dt\": \"2021-01-03T23:52:48.903655Z\", \"duration\": \"0:00:37\", \"iteration\": \"6\", \"goal\": \"r2_score_max\", \"run_name\": \"MinMaxScaler, RandomForest\", \"run_properties\": \"copy=True, feature_range=(0, 1\", \"primary_metric\": 0.80431247, \"best_metric\": 0.89144446}, {\"run_id\": \"AutoML_a2b56ecc-3710-4d64-b351-ee6241c50fa5_7\", \"run_number\": 9, \"metric\": null, \"status\": \"Completed\", \"run_type\": null, \"training_percent\": \"100\", \"start_time\": \"2021-01-03T23:53:27.560154Z\", \"end_time\": \"2021-01-03T23:53:53.689704Z\", \"created_time\": \"2021-01-03T23:53:27.413985Z\", \"created_time_dt\": \"2021-01-03T23:53:27.413985Z\", \"duration\": \"0:00:26\", \"iteration\": \"7\", \"goal\": \"r2_score_max\", \"run_name\": \"StandardScalerWrapper, XGBoostRegressor\", \"run_properties\": \"<azureml.automl.runtime.shared.model_wrappers.StandardScalerWrapper object at 0x7fc17b417080\", \"primary_metric\": 0.88491576, \"best_metric\": 0.89144446}, {\"run_id\": \"AutoML_a2b56ecc-3710-4d64-b351-ee6241c50fa5_8\", \"run_number\": 10, \"metric\": null, \"status\": \"Completed\", \"run_type\": null, \"training_percent\": \"100\", \"start_time\": \"2021-01-03T23:53:55.167832Z\", \"end_time\": \"2021-01-03T23:54:23.017286Z\", \"created_time\": \"2021-01-03T23:53:55.063304Z\", \"created_time_dt\": \"2021-01-03T23:53:55.063304Z\", \"duration\": \"0:00:27\", \"iteration\": \"8\", \"goal\": \"r2_score_max\", \"run_name\": \"MinMaxScaler, ExtremeRandomTrees\", \"run_properties\": \"copy=True, feature_range=(0, 1\", \"primary_metric\": 0.8919799, \"best_metric\": 0.8919799}, {\"run_id\": \"AutoML_a2b56ecc-3710-4d64-b351-ee6241c50fa5_9\", \"run_number\": 11, \"metric\": null, \"status\": \"Completed\", \"run_type\": null, \"training_percent\": \"100\", \"start_time\": \"2021-01-03T23:54:24.983009Z\", \"end_time\": \"2021-01-03T23:54:50.654771Z\", \"created_time\": \"2021-01-03T23:54:24.874702Z\", \"created_time_dt\": \"2021-01-03T23:54:24.874702Z\", \"duration\": \"0:00:25\", \"iteration\": \"9\", \"goal\": \"r2_score_max\", \"run_name\": \"StandardScalerWrapper, ElasticNet\", \"run_properties\": \"<azureml.automl.runtime.shared.model_wrappers.StandardScalerWrapper object at 0x7fc17b128940\", \"primary_metric\": 0.40359829, \"best_metric\": 0.8919799}, {\"run_id\": \"AutoML_a2b56ecc-3710-4d64-b351-ee6241c50fa5_10\", \"run_number\": 12, \"metric\": null, \"status\": \"Completed\", \"run_type\": null, \"training_percent\": \"100\", \"start_time\": \"2021-01-03T23:54:52.564151Z\", \"end_time\": \"2021-01-03T23:55:31.623623Z\", \"created_time\": \"2021-01-03T23:54:52.443502Z\", \"created_time_dt\": \"2021-01-03T23:54:52.443502Z\", \"duration\": \"0:00:39\", \"iteration\": \"10\", \"goal\": \"r2_score_max\", \"run_name\": \"MinMaxScaler, RandomForest\", \"run_properties\": \"copy=True, feature_range=(0, 1\", \"primary_metric\": 0.86209997, \"best_metric\": 0.8919799}, {\"run_id\": \"AutoML_a2b56ecc-3710-4d64-b351-ee6241c50fa5_11\", \"run_number\": 13, \"metric\": null, \"status\": \"Completed\", \"run_type\": null, \"training_percent\": \"100\", \"start_time\": \"2021-01-03T23:55:33.099605Z\", \"end_time\": \"2021-01-03T23:55:59.388303Z\", \"created_time\": \"2021-01-03T23:55:32.974511Z\", \"created_time_dt\": \"2021-01-03T23:55:32.974511Z\", \"duration\": \"0:00:26\", \"iteration\": \"11\", \"goal\": \"r2_score_max\", \"run_name\": \"MinMaxScaler, RandomForest\", \"run_properties\": \"copy=True, feature_range=(0, 1\", \"primary_metric\": 0.78639541, \"best_metric\": 0.8919799}, {\"run_id\": \"AutoML_a2b56ecc-3710-4d64-b351-ee6241c50fa5_12\", \"run_number\": 14, \"metric\": null, \"status\": \"Completed\", \"run_type\": null, \"training_percent\": \"100\", \"start_time\": \"2021-01-03T23:56:00.870483Z\", \"end_time\": \"2021-01-03T23:56:27.163421Z\", \"created_time\": \"2021-01-03T23:56:00.760758Z\", \"created_time_dt\": \"2021-01-03T23:56:00.760758Z\", \"duration\": \"0:00:26\", \"iteration\": \"12\", \"goal\": \"r2_score_max\", \"run_name\": \"StandardScalerWrapper, XGBoostRegressor\", \"run_properties\": \"<azureml.automl.runtime.shared.model_wrappers.StandardScalerWrapper object at 0x7fc17a559f60\", \"primary_metric\": 0.33880411, \"best_metric\": 0.8919799}, {\"run_id\": \"AutoML_a2b56ecc-3710-4d64-b351-ee6241c50fa5_13\", \"run_number\": 15, \"metric\": null, \"status\": \"Completed\", \"run_type\": null, \"training_percent\": \"100\", \"start_time\": \"2021-01-03T23:56:28.702897Z\", \"end_time\": \"2021-01-03T23:56:54.875156Z\", \"created_time\": \"2021-01-03T23:56:28.593386Z\", \"created_time_dt\": \"2021-01-03T23:56:28.593386Z\", \"duration\": \"0:00:26\", \"iteration\": \"13\", \"goal\": \"r2_score_max\", \"run_name\": \"RobustScaler, LassoLars\", \"run_properties\": \"copy=True, quantile_range=[10, 90], with_centering=False,\\n             with_scaling=True\", \"primary_metric\": 0.48021012, \"best_metric\": 0.8919799}, {\"run_id\": \"AutoML_a2b56ecc-3710-4d64-b351-ee6241c50fa5_14\", \"run_number\": 16, \"metric\": null, \"status\": \"Completed\", \"run_type\": null, \"training_percent\": \"100\", \"start_time\": \"2021-01-03T23:56:56.403509Z\", \"end_time\": \"2021-01-03T23:57:21.722995Z\", \"created_time\": \"2021-01-03T23:56:56.298218Z\", \"created_time_dt\": \"2021-01-03T23:56:56.298218Z\", \"duration\": \"0:00:25\", \"iteration\": \"14\", \"goal\": \"r2_score_max\", \"run_name\": \"MinMaxScaler, ExtremeRandomTrees\", \"run_properties\": \"copy=True, feature_range=(0, 1\", \"primary_metric\": 0.90259215, \"best_metric\": 0.90259215}, {\"run_id\": \"AutoML_a2b56ecc-3710-4d64-b351-ee6241c50fa5_15\", \"run_number\": 17, \"metric\": null, \"status\": \"Completed\", \"run_type\": null, \"training_percent\": \"100\", \"start_time\": \"2021-01-03T23:57:23.223051Z\", \"end_time\": \"2021-01-03T23:57:48.375665Z\", \"created_time\": \"2021-01-03T23:57:23.120522Z\", \"created_time_dt\": \"2021-01-03T23:57:23.120522Z\", \"duration\": \"0:00:25\", \"iteration\": \"15\", \"goal\": \"r2_score_max\", \"run_name\": \"MaxAbsScaler, ExtremeRandomTrees\", \"run_properties\": \"copy=True\", \"primary_metric\": 0.4270382, \"best_metric\": 0.90259215}, {\"run_id\": \"AutoML_a2b56ecc-3710-4d64-b351-ee6241c50fa5_16\", \"run_number\": 18, \"metric\": null, \"status\": \"Completed\", \"run_type\": null, \"training_percent\": \"100\", \"start_time\": \"2021-01-03T23:57:49.7786Z\", \"end_time\": \"2021-01-03T23:58:17.541915Z\", \"created_time\": \"2021-01-03T23:57:49.67179Z\", \"created_time_dt\": \"2021-01-03T23:57:49.67179Z\", \"duration\": \"0:00:27\", \"iteration\": \"16\", \"goal\": \"r2_score_max\", \"run_name\": \"MinMaxScaler, ExtremeRandomTrees\", \"run_properties\": \"copy=True, feature_range=(0, 1\", \"primary_metric\": 0.87546934, \"best_metric\": 0.90259215}, {\"run_id\": \"AutoML_a2b56ecc-3710-4d64-b351-ee6241c50fa5_17\", \"run_number\": 19, \"metric\": null, \"status\": \"Completed\", \"run_type\": null, \"training_percent\": \"100\", \"start_time\": \"2021-01-03T23:58:19.104445Z\", \"end_time\": \"2021-01-03T23:58:44.264933Z\", \"created_time\": \"2021-01-03T23:58:18.964813Z\", \"created_time_dt\": \"2021-01-03T23:58:18.964813Z\", \"duration\": \"0:00:25\", \"iteration\": \"17\", \"goal\": \"r2_score_max\", \"run_name\": \"MaxAbsScaler, ElasticNet\", \"run_properties\": \"copy=True\", \"primary_metric\": 0.39792313, \"best_metric\": 0.90259215}, {\"run_id\": \"AutoML_a2b56ecc-3710-4d64-b351-ee6241c50fa5_18\", \"run_number\": 20, \"metric\": null, \"status\": \"Completed\", \"run_type\": null, \"training_percent\": \"100\", \"start_time\": \"2021-01-03T23:58:46.420467Z\", \"end_time\": \"2021-01-03T23:59:11.393836Z\", \"created_time\": \"2021-01-03T23:58:46.102359Z\", \"created_time_dt\": \"2021-01-03T23:58:46.102359Z\", \"duration\": \"0:00:25\", \"iteration\": \"18\", \"goal\": \"r2_score_max\", \"run_name\": \"MinMaxScaler, RandomForest\", \"run_properties\": \"copy=True, feature_range=(0, 1\", \"primary_metric\": 0.5938077, \"best_metric\": 0.90259215}, {\"run_id\": \"AutoML_a2b56ecc-3710-4d64-b351-ee6241c50fa5_19\", \"run_number\": 21, \"metric\": null, \"status\": \"Completed\", \"run_type\": null, \"training_percent\": \"100\", \"start_time\": \"2021-01-03T23:59:12.914371Z\", \"end_time\": \"2021-01-03T23:59:38.009984Z\", \"created_time\": \"2021-01-03T23:59:12.802056Z\", \"created_time_dt\": \"2021-01-03T23:59:12.802056Z\", \"duration\": \"0:00:25\", \"iteration\": \"19\", \"goal\": \"r2_score_max\", \"run_name\": \"MaxAbsScaler, RandomForest\", \"run_properties\": \"copy=True\", \"primary_metric\": 0.77802374, \"best_metric\": 0.90259215}, {\"run_id\": \"AutoML_a2b56ecc-3710-4d64-b351-ee6241c50fa5_20\", \"run_number\": 22, \"metric\": null, \"status\": \"Completed\", \"run_type\": null, \"training_percent\": \"100\", \"start_time\": \"2021-01-03T23:59:41.108677Z\", \"end_time\": \"2021-01-04T00:00:05.98318Z\", \"created_time\": \"2021-01-03T23:59:40.77976Z\", \"created_time_dt\": \"2021-01-03T23:59:40.77976Z\", \"duration\": \"0:00:25\", \"iteration\": \"20\", \"goal\": \"r2_score_max\", \"run_name\": \"RobustScaler, ElasticNet\", \"run_properties\": \"copy=True, quantile_range=[10, 90], with_centering=True,\\n             with_scaling=False\", \"primary_metric\": 0.46286469, \"best_metric\": 0.90259215}, {\"run_id\": \"AutoML_a2b56ecc-3710-4d64-b351-ee6241c50fa5_21\", \"run_number\": 23, \"metric\": null, \"status\": \"Completed\", \"run_type\": null, \"training_percent\": \"100\", \"start_time\": \"2021-01-04T00:00:07.561735Z\", \"end_time\": \"2021-01-04T00:00:35.121245Z\", \"created_time\": \"2021-01-04T00:00:07.44406Z\", \"created_time_dt\": \"2021-01-04T00:00:07.44406Z\", \"duration\": \"0:00:27\", \"iteration\": \"21\", \"goal\": \"r2_score_max\", \"run_name\": \"StandardScalerWrapper, RandomForest\", \"run_properties\": \"<azureml.automl.runtime.shared.model_wrappers.StandardScalerWrapper object at 0x7fc173479978\", \"primary_metric\": 0.60500887, \"best_metric\": 0.90259215}, {\"run_id\": \"AutoML_a2b56ecc-3710-4d64-b351-ee6241c50fa5_22\", \"run_number\": 24, \"metric\": null, \"status\": \"Completed\", \"run_type\": null, \"training_percent\": \"100\", \"start_time\": \"2021-01-04T00:00:37.127316Z\", \"end_time\": \"2021-01-04T00:01:04.910761Z\", \"created_time\": \"2021-01-04T00:00:37.016511Z\", \"created_time_dt\": \"2021-01-04T00:00:37.016511Z\", \"duration\": \"0:00:27\", \"iteration\": \"22\", \"goal\": \"r2_score_max\", \"run_name\": \"MinMaxScaler, ExtremeRandomTrees\", \"run_properties\": \"copy=True, feature_range=(0, 1\", \"primary_metric\": 0.86787758, \"best_metric\": 0.90259215}, {\"run_id\": \"AutoML_a2b56ecc-3710-4d64-b351-ee6241c50fa5_23\", \"run_number\": 25, \"metric\": null, \"status\": \"Completed\", \"run_type\": null, \"training_percent\": \"100\", \"start_time\": \"2021-01-04T00:01:06.861141Z\", \"end_time\": \"2021-01-04T00:01:58.399699Z\", \"created_time\": \"2021-01-04T00:01:06.49502Z\", \"created_time_dt\": \"2021-01-04T00:01:06.49502Z\", \"duration\": \"0:00:51\", \"iteration\": \"23\", \"goal\": \"r2_score_max\", \"run_name\": \"MinMaxScaler, RandomForest\", \"run_properties\": \"copy=True, feature_range=(0, 1\", \"primary_metric\": 0.84763073, \"best_metric\": 0.90259215}, {\"run_id\": \"AutoML_a2b56ecc-3710-4d64-b351-ee6241c50fa5_24\", \"run_number\": 26, \"metric\": null, \"status\": \"Completed\", \"run_type\": null, \"training_percent\": \"100\", \"start_time\": \"2021-01-04T00:01:59.778326Z\", \"end_time\": \"2021-01-04T00:02:27.587072Z\", \"created_time\": \"2021-01-04T00:01:59.655023Z\", \"created_time_dt\": \"2021-01-04T00:01:59.655023Z\", \"duration\": \"0:00:27\", \"iteration\": \"24\", \"goal\": \"r2_score_max\", \"run_name\": \"RobustScaler, LightGBM\", \"run_properties\": \"copy=True, quantile_range=[10, 90], with_centering=False,\\n             with_scaling=True\", \"primary_metric\": 0.88926393, \"best_metric\": 0.90259215}, {\"run_id\": \"AutoML_a2b56ecc-3710-4d64-b351-ee6241c50fa5_25\", \"run_number\": 27, \"metric\": null, \"status\": \"Completed\", \"run_type\": null, \"training_percent\": \"100\", \"start_time\": \"2021-01-04T00:02:29.947879Z\", \"end_time\": \"2021-01-04T00:02:59.605519Z\", \"created_time\": \"2021-01-04T00:02:29.83329Z\", \"created_time_dt\": \"2021-01-04T00:02:29.83329Z\", \"duration\": \"0:00:29\", \"iteration\": \"25\", \"goal\": \"r2_score_max\", \"run_name\": \"MaxAbsScaler, ExtremeRandomTrees\", \"run_properties\": \"copy=True\", \"primary_metric\": 0.13101277, \"best_metric\": 0.90259215}, {\"run_id\": \"AutoML_a2b56ecc-3710-4d64-b351-ee6241c50fa5_26\", \"run_number\": 28, \"metric\": null, \"status\": \"Completed\", \"run_type\": null, \"training_percent\": \"100\", \"start_time\": \"2021-01-04T00:03:01.492662Z\", \"end_time\": \"2021-01-04T00:03:30.999684Z\", \"created_time\": \"2021-01-04T00:03:01.159882Z\", \"created_time_dt\": \"2021-01-04T00:03:01.159882Z\", \"duration\": \"0:00:29\", \"iteration\": \"26\", \"goal\": \"r2_score_max\", \"run_name\": \"MaxAbsScaler, ExtremeRandomTrees\", \"run_properties\": \"copy=True\", \"primary_metric\": 0.70351948, \"best_metric\": 0.90259215}, {\"run_id\": \"AutoML_a2b56ecc-3710-4d64-b351-ee6241c50fa5_27\", \"run_number\": 29, \"metric\": null, \"status\": \"Completed\", \"run_type\": null, \"training_percent\": \"100\", \"start_time\": \"2021-01-04T00:03:32.376307Z\", \"end_time\": \"2021-01-04T00:03:58.857649Z\", \"created_time\": \"2021-01-04T00:03:32.265269Z\", \"created_time_dt\": \"2021-01-04T00:03:32.265269Z\", \"duration\": \"0:00:26\", \"iteration\": \"27\", \"goal\": \"r2_score_max\", \"run_name\": \"MinMaxScaler, RandomForest\", \"run_properties\": \"copy=True, feature_range=(0, 1\", \"primary_metric\": 0.63103156, \"best_metric\": 0.90259215}, {\"run_id\": \"AutoML_a2b56ecc-3710-4d64-b351-ee6241c50fa5_28\", \"run_number\": 30, \"metric\": null, \"status\": \"Completed\", \"run_type\": null, \"training_percent\": \"100\", \"start_time\": \"2021-01-04T00:04:00.433847Z\", \"end_time\": \"2021-01-04T00:04:26.949131Z\", \"created_time\": \"2021-01-04T00:04:00.314416Z\", \"created_time_dt\": \"2021-01-04T00:04:00.314416Z\", \"duration\": \"0:00:26\", \"iteration\": \"28\", \"goal\": \"r2_score_max\", \"run_name\": \"MaxAbsScaler, LightGBM\", \"run_properties\": \"copy=True\", \"primary_metric\": 0.73161729, \"best_metric\": 0.90259215}, {\"run_id\": \"AutoML_a2b56ecc-3710-4d64-b351-ee6241c50fa5_29\", \"run_number\": 31, \"metric\": null, \"status\": \"Completed\", \"run_type\": null, \"training_percent\": \"100\", \"start_time\": \"2021-01-04T00:04:27.311293Z\", \"end_time\": \"2021-01-04T00:04:53.980267Z\", \"created_time\": \"2021-01-04T00:04:27.199208Z\", \"created_time_dt\": \"2021-01-04T00:04:27.199208Z\", \"duration\": \"0:00:26\", \"iteration\": \"29\", \"goal\": \"r2_score_max\", \"run_name\": \"VotingEnsemble\", \"run_properties\": \"estimators=[('14',\\n                                          Pipeline(memory=None,\\n                                                   steps=[('minmaxscaler',\\n                                                           MinMaxScaler(copy=True,\\n                                                                        feature_range=(0,\\n                                                                                       1\", \"primary_metric\": 0.90782125, \"best_metric\": 0.90782125}, {\"run_id\": \"AutoML_a2b56ecc-3710-4d64-b351-ee6241c50fa5_30\", \"run_number\": 32, \"metric\": null, \"status\": \"Completed\", \"run_type\": null, \"training_percent\": \"100\", \"start_time\": \"2021-01-04T00:04:54.699699Z\", \"end_time\": \"2021-01-04T00:05:31.875961Z\", \"created_time\": \"2021-01-04T00:04:54.587365Z\", \"created_time_dt\": \"2021-01-04T00:04:54.587365Z\", \"duration\": \"0:00:37\", \"iteration\": \"30\", \"goal\": \"r2_score_max\", \"run_name\": \"StackEnsemble\", \"run_properties\": \"base_learners=[('14',\\n                                       Pipeline(memory=None,\\n                                                steps=[('minmaxscaler',\\n                                                        MinMaxScaler(copy=True,\\n                                                                     feature_range=(0,\\n                                                                                    1\", \"primary_metric\": 0.90958081, \"best_metric\": 0.90958081}], \"children_metrics\": {\"categories\": [0], \"series\": {\"root_mean_squared_error\": [{\"categories\": [\"0\", \"1\", \"2\", \"3\", \"4\", \"5\", \"6\", \"7\", \"8\", \"9\", \"10\", \"11\", \"12\", \"13\", \"14\", \"15\", \"16\", \"17\", \"18\", \"19\", \"20\", \"21\", \"22\", \"23\", \"24\", \"25\", \"26\", \"27\", \"28\", \"29\", \"30\"], \"mode\": \"markers\", \"name\": \"root_mean_squared_error\", \"stepped\": false, \"type\": \"scatter\", \"data\": [3.672080363445114, 4.7636373389324005, 5.121520604029229, 4.823121882672136, 3.512054871520857, 7.837286311561276, 4.721406828312742, 3.615521359499173, 3.50484539127409, 8.243283444454939, 3.958157609091073, 4.92910335763161, 8.677121125172697, 7.69573060237482, 3.3266551588620312, 8.07989881763814, 3.765644888704276, 8.282402076256517, 6.802468018265308, 5.029121529307443, 7.823159403988892, 6.707712223840218, 3.878606285453435, 4.155129757064706, 3.5470579480659485, 9.950011495438162, 5.811651922616029, 6.483415366452646, 5.529795909243407, 3.235175681316671, 3.203100337344124]}, {\"categories\": [\"0\", \"1\", \"2\", \"3\", \"4\", \"5\", \"6\", \"7\", \"8\", \"9\", \"10\", \"11\", \"12\", \"13\", \"14\", \"15\", \"16\", \"17\", \"18\", \"19\", \"20\", \"21\", \"22\", \"23\", \"24\", \"25\", \"26\", \"27\", \"28\", \"29\", \"30\"], \"mode\": \"lines\", \"name\": \"root_mean_squared_error_min\", \"stepped\": true, \"type\": \"scatter\", \"data\": [3.672080363445114, 3.672080363445114, 3.672080363445114, 3.672080363445114, 3.512054871520857, 3.512054871520857, 3.512054871520857, 3.512054871520857, 3.50484539127409, 3.50484539127409, 3.50484539127409, 3.50484539127409, 3.50484539127409, 3.50484539127409, 3.3266551588620312, 3.3266551588620312, 3.3266551588620312, 3.3266551588620312, 3.3266551588620312, 3.3266551588620312, 3.3266551588620312, 3.3266551588620312, 3.3266551588620312, 3.3266551588620312, 3.3266551588620312, 3.3266551588620312, 3.3266551588620312, 3.3266551588620312, 3.3266551588620312, 3.235175681316671, 3.203100337344124]}], \"root_mean_squared_log_error\": [{\"categories\": [\"0\", \"1\", \"2\", \"3\", \"4\", \"5\", \"6\", \"7\", \"8\", \"9\", \"10\", \"11\", \"12\", \"13\", \"14\", \"15\", \"16\", \"17\", \"18\", \"19\", \"20\", \"21\", \"22\", \"23\", \"24\", \"25\", \"26\", \"27\", \"28\", \"29\", \"30\"], \"mode\": \"markers\", \"name\": \"root_mean_squared_log_error\", \"stepped\": false, \"type\": \"scatter\", \"data\": [0.04115870089163019, 0.053725808824542955, 0.05758784805883468, 0.05460421815691677, 0.03928869926928979, 0.0899137091012079, 0.052924558986238414, 0.04033669599190164, 0.03876210105304503, 0.0950049509258271, 0.04474947848439959, 0.05611459610363262, 0.09448345925120809, 0.08788536721687444, 0.03682146924767837, 0.09308128316643095, 0.041761659876775596, 0.09541729457588898, 0.07783016232486553, 0.056595224474872995, 0.08963338035438467, 0.07714688759294973, 0.04348062989717467, 0.04705555924699426, 0.03963371230336211, 0.1138333633941651, 0.06669646182604778, 0.07416186816991942, 0.0626648024939069, 0.03584561966545113, 0.03539667024278819]}, {\"categories\": [\"0\", \"1\", \"2\", \"3\", \"4\", \"5\", \"6\", \"7\", \"8\", \"9\", \"10\", \"11\", \"12\", \"13\", \"14\", \"15\", \"16\", \"17\", \"18\", \"19\", \"20\", \"21\", \"22\", \"23\", \"24\", \"25\", \"26\", \"27\", \"28\", \"29\", \"30\"], \"mode\": \"lines\", \"name\": \"root_mean_squared_log_error_min\", \"stepped\": true, \"type\": \"scatter\", \"data\": [0.04115870089163019, 0.04115870089163019, 0.04115870089163019, 0.04115870089163019, 0.03928869926928979, 0.03928869926928979, 0.03928869926928979, 0.03928869926928979, 0.03876210105304503, 0.03876210105304503, 0.03876210105304503, 0.03876210105304503, 0.03876210105304503, 0.03876210105304503, 0.03682146924767837, 0.03682146924767837, 0.03682146924767837, 0.03682146924767837, 0.03682146924767837, 0.03682146924767837, 0.03682146924767837, 0.03682146924767837, 0.03682146924767837, 0.03682146924767837, 0.03682146924767837, 0.03682146924767837, 0.03682146924767837, 0.03682146924767837, 0.03682146924767837, 0.03584561966545113, 0.03539667024278819]}], \"normalized_mean_absolute_error\": [{\"categories\": [\"0\", \"1\", \"2\", \"3\", \"4\", \"5\", \"6\", \"7\", \"8\", \"9\", \"10\", \"11\", \"12\", \"13\", \"14\", \"15\", \"16\", \"17\", \"18\", \"19\", \"20\", \"21\", \"22\", \"23\", \"24\", \"25\", \"26\", \"27\", \"28\", \"29\", \"30\"], \"mode\": \"markers\", \"name\": \"normalized_mean_absolute_error\", \"stepped\": false, \"type\": \"scatter\", \"data\": [0.08002286219762235, 0.12199314303569131, 0.13191769780045023, 0.12224972345034613, 0.07178036603337322, 0.21869192273067575, 0.1146848690619658, 0.08091157282230745, 0.07886785723151299, 0.2284397404420638, 0.09541549456758269, 0.12618919422763739, 0.26585128590673585, 0.21776603336558384, 0.06854894557919917, 0.21820767369504923, 0.0875509166664371, 0.2289950344498929, 0.17941712781817695, 0.12401517731734833, 0.21861866646998382, 0.1856151123661861, 0.09354700625262469, 0.096965482489292, 0.0788779963373703, 0.32349361148030037, 0.15642900273648266, 0.16856507807686594, 0.14744841379059903, 0.0688853132558196, 0.07081301662806881]}, {\"categories\": [\"0\", \"1\", \"2\", \"3\", \"4\", \"5\", \"6\", \"7\", \"8\", \"9\", \"10\", \"11\", \"12\", \"13\", \"14\", \"15\", \"16\", \"17\", \"18\", \"19\", \"20\", \"21\", \"22\", \"23\", \"24\", \"25\", \"26\", \"27\", \"28\", \"29\", \"30\"], \"mode\": \"lines\", \"name\": \"normalized_mean_absolute_error_min\", \"stepped\": true, \"type\": \"scatter\", \"data\": [0.08002286219762235, 0.08002286219762235, 0.08002286219762235, 0.08002286219762235, 0.07178036603337322, 0.07178036603337322, 0.07178036603337322, 0.07178036603337322, 0.07178036603337322, 0.07178036603337322, 0.07178036603337322, 0.07178036603337322, 0.07178036603337322, 0.07178036603337322, 0.06854894557919917, 0.06854894557919917, 0.06854894557919917, 0.06854894557919917, 0.06854894557919917, 0.06854894557919917, 0.06854894557919917, 0.06854894557919917, 0.06854894557919917, 0.06854894557919917, 0.06854894557919917, 0.06854894557919917, 0.06854894557919917, 0.06854894557919917, 0.06854894557919917, 0.06854894557919917, 0.06854894557919917]}], \"mean_absolute_error\": [{\"categories\": [\"0\", \"1\", \"2\", \"3\", \"4\", \"5\", \"6\", \"7\", \"8\", \"9\", \"10\", \"11\", \"12\", \"13\", \"14\", \"15\", \"16\", \"17\", \"18\", \"19\", \"20\", \"21\", \"22\", \"23\", \"24\", \"25\", \"26\", \"27\", \"28\", \"29\", \"30\"], \"mode\": \"markers\", \"name\": \"mean_absolute_error\", \"stepped\": false, \"type\": \"scatter\", \"data\": [2.160617279335803, 3.2938148619636656, 3.5617778406121565, 3.300742533159345, 1.9380698829010772, 5.904681913728246, 3.096491464673077, 2.184612466202301, 2.1294321452508504, 6.167872991935723, 2.5762183533247325, 3.4071082441462095, 7.177984719481867, 5.879682900870763, 1.8508215306383775, 5.89160718976633, 2.3638747499938018, 6.182865930147108, 4.844262451090778, 3.348409787568405, 5.902703994689563, 5.011608033887025, 2.5257691688208666, 2.6180680272108847, 2.1297059011089985, 8.734327509968109, 4.223583073885032, 4.55125710807538, 3.9811071723461744, 1.859903457907129, 1.9119514489578577]}, {\"categories\": [\"0\", \"1\", \"2\", \"3\", \"4\", \"5\", \"6\", \"7\", \"8\", \"9\", \"10\", \"11\", \"12\", \"13\", \"14\", \"15\", \"16\", \"17\", \"18\", \"19\", \"20\", \"21\", \"22\", \"23\", \"24\", \"25\", \"26\", \"27\", \"28\", \"29\", \"30\"], \"mode\": \"lines\", \"name\": \"mean_absolute_error_min\", \"stepped\": true, \"type\": \"scatter\", \"data\": [2.160617279335803, 2.160617279335803, 2.160617279335803, 2.160617279335803, 1.9380698829010772, 1.9380698829010772, 1.9380698829010772, 1.9380698829010772, 1.9380698829010772, 1.9380698829010772, 1.9380698829010772, 1.9380698829010772, 1.9380698829010772, 1.9380698829010772, 1.8508215306383775, 1.8508215306383775, 1.8508215306383775, 1.8508215306383775, 1.8508215306383775, 1.8508215306383775, 1.8508215306383775, 1.8508215306383775, 1.8508215306383775, 1.8508215306383775, 1.8508215306383775, 1.8508215306383775, 1.8508215306383775, 1.8508215306383775, 1.8508215306383775, 1.8508215306383775, 1.8508215306383775]}], \"normalized_median_absolute_error\": [{\"categories\": [\"0\", \"1\", \"2\", \"3\", \"4\", \"5\", \"6\", \"7\", \"8\", \"9\", \"10\", \"11\", \"12\", \"13\", \"14\", \"15\", \"16\", \"17\", \"18\", \"19\", \"20\", \"21\", \"22\", \"23\", \"24\", \"25\", \"26\", \"27\", \"28\", \"29\", \"30\"], \"mode\": \"markers\", \"name\": \"normalized_median_absolute_error\", \"stepped\": false, \"type\": \"scatter\", \"data\": [0.03543769042858441, 0.07859839922116127, 0.08648267204378857, 0.085511243654529, 0.02688881202980324, 0.16541169476970427, 0.07380622498065835, 0.03944114402488426, 0.033944435879621225, 0.17645039114554797, 0.058113739729297315, 0.08765069877786841, 0.2653749254014757, 0.16694672799552243, 0.02222222222222219, 0.176828516683181, 0.044292391079428416, 0.17703577328705636, 0.13370900779446884, 0.09348227512207564, 0.16591958491746786, 0.14249258951169944, 0.059906041027125594, 0.05290123456790119, 0.039037282028591795, 0.31551098487415286, 0.12207264055606742, 0.09380747752825219, 0.09434647912745518, 0.0265577836227414, 0.026270734627780606]}, {\"categories\": [\"0\", \"1\", \"2\", \"3\", \"4\", \"5\", \"6\", \"7\", \"8\", \"9\", \"10\", \"11\", \"12\", \"13\", \"14\", \"15\", \"16\", \"17\", \"18\", \"19\", \"20\", \"21\", \"22\", \"23\", \"24\", \"25\", \"26\", \"27\", \"28\", \"29\", \"30\"], \"mode\": \"lines\", \"name\": \"normalized_median_absolute_error_min\", \"stepped\": true, \"type\": \"scatter\", \"data\": [0.03543769042858441, 0.03543769042858441, 0.03543769042858441, 0.03543769042858441, 0.02688881202980324, 0.02688881202980324, 0.02688881202980324, 0.02688881202980324, 0.02688881202980324, 0.02688881202980324, 0.02688881202980324, 0.02688881202980324, 0.02688881202980324, 0.02688881202980324, 0.02222222222222219, 0.02222222222222219, 0.02222222222222219, 0.02222222222222219, 0.02222222222222219, 0.02222222222222219, 0.02222222222222219, 0.02222222222222219, 0.02222222222222219, 0.02222222222222219, 0.02222222222222219, 0.02222222222222219, 0.02222222222222219, 0.02222222222222219, 0.02222222222222219, 0.02222222222222219, 0.02222222222222219]}], \"spearman_correlation\": [{\"categories\": [\"0\", \"1\", \"2\", \"3\", \"4\", \"5\", \"6\", \"7\", \"8\", \"9\", \"10\", \"11\", \"12\", \"13\", \"14\", \"15\", \"16\", \"17\", \"18\", \"19\", \"20\", \"21\", \"22\", \"23\", \"24\", \"25\", \"26\", \"27\", \"28\", \"29\", \"30\"], \"mode\": \"markers\", \"name\": \"spearman_correlation\", \"stepped\": false, \"type\": \"scatter\", \"data\": [0.8862559170277914, 0.866078811050563, 0.8510101326642262, 0.8674023762598955, 0.8916724593987885, 0.6779688751443095, 0.8651157136954652, 0.890743298961355, 0.9123408987431773, 0.6105291621960669, 0.8911479547863336, 0.8702005355845789, 0.851949713004438, 0.6951359827606822, 0.915348950210355, 0.6735032797848622, 0.9064754449111878, 0.5813135688613418, 0.7920564112983012, 0.8566176471426736, 0.6738174260300486, 0.8190284831131821, 0.9071372754864684, 0.8890655487825893, 0.8910684468121753, 0.5660944797518584, 0.8718944445478843, 0.8094574605122834, 0.8487690848762869, 0.8984516026505247, 0.8986558482004038]}, {\"categories\": [\"0\", \"1\", \"2\", \"3\", \"4\", \"5\", \"6\", \"7\", \"8\", \"9\", \"10\", \"11\", \"12\", \"13\", \"14\", \"15\", \"16\", \"17\", \"18\", \"19\", \"20\", \"21\", \"22\", \"23\", \"24\", \"25\", \"26\", \"27\", \"28\", \"29\", \"30\"], \"mode\": \"lines\", \"name\": \"spearman_correlation_max\", \"stepped\": true, \"type\": \"scatter\", \"data\": [0.8862559170277914, 0.8862559170277914, 0.8862559170277914, 0.8862559170277914, 0.8916724593987885, 0.8916724593987885, 0.8916724593987885, 0.8916724593987885, 0.9123408987431773, 0.9123408987431773, 0.9123408987431773, 0.9123408987431773, 0.9123408987431773, 0.9123408987431773, 0.915348950210355, 0.915348950210355, 0.915348950210355, 0.915348950210355, 0.915348950210355, 0.915348950210355, 0.915348950210355, 0.915348950210355, 0.915348950210355, 0.915348950210355, 0.915348950210355, 0.915348950210355, 0.915348950210355, 0.915348950210355, 0.915348950210355, 0.915348950210355, 0.915348950210355]}], \"r2_score\": [{\"categories\": [\"0\", \"1\", \"2\", \"3\", \"4\", \"5\", \"6\", \"7\", \"8\", \"9\", \"10\", \"11\", \"12\", \"13\", \"14\", \"15\", \"16\", \"17\", \"18\", \"19\", \"20\", \"21\", \"22\", \"23\", \"24\", \"25\", \"26\", \"27\", \"28\", \"29\", \"30\"], \"mode\": \"markers\", \"name\": \"r2_score\", \"stepped\": false, \"type\": \"scatter\", \"data\": [0.8811436804843412, 0.8008184773719355, 0.7696160718277624, 0.7957092566553836, 0.891444457333774, 0.4609243823513897, 0.8043124745910744, 0.8849157617862048, 0.8919799022442381, 0.4035982922874317, 0.8620999681622803, 0.7863954097326755, 0.3388041069791952, 0.4802101193540053, 0.9025921462338693, 0.4270381970363995, 0.8754693403521777, 0.3979231330240151, 0.5938077003797306, 0.7780237412025958, 0.46286469289151144, 0.6050088684471915, 0.8678775814663737, 0.8476307298043548, 0.8892639260019309, 0.13101276557713845, 0.7035194802282633, 0.6310315630131331, 0.7316172856018311, 0.9078212514572925, 0.9095808060805313]}, {\"categories\": [\"0\", \"1\", \"2\", \"3\", \"4\", \"5\", \"6\", \"7\", \"8\", \"9\", \"10\", \"11\", \"12\", \"13\", \"14\", \"15\", \"16\", \"17\", \"18\", \"19\", \"20\", \"21\", \"22\", \"23\", \"24\", \"25\", \"26\", \"27\", \"28\", \"29\", \"30\"], \"mode\": \"lines\", \"name\": \"r2_score_max\", \"stepped\": true, \"type\": \"scatter\", \"data\": [0.8811436804843412, 0.8811436804843412, 0.8811436804843412, 0.8811436804843412, 0.891444457333774, 0.891444457333774, 0.891444457333774, 0.891444457333774, 0.8919799022442381, 0.8919799022442381, 0.8919799022442381, 0.8919799022442381, 0.8919799022442381, 0.8919799022442381, 0.9025921462338693, 0.9025921462338693, 0.9025921462338693, 0.9025921462338693, 0.9025921462338693, 0.9025921462338693, 0.9025921462338693, 0.9025921462338693, 0.9025921462338693, 0.9025921462338693, 0.9025921462338693, 0.9025921462338693, 0.9025921462338693, 0.9025921462338693, 0.9025921462338693, 0.9078212514572925, 0.9095808060805313]}], \"mean_absolute_percentage_error\": [{\"categories\": [\"0\", \"1\", \"2\", \"3\", \"4\", \"5\", \"6\", \"7\", \"8\", \"9\", \"10\", \"11\", \"12\", \"13\", \"14\", \"15\", \"16\", \"17\", \"18\", \"19\", \"20\", \"21\", \"22\", \"23\", \"24\", \"25\", \"26\", \"27\", \"28\", \"29\", \"30\"], \"mode\": \"markers\", \"name\": \"mean_absolute_percentage_error\", \"stepped\": false, \"type\": \"scatter\", \"data\": [2.450799905035118, 3.768673190156766, 4.034126693310907, 3.811055101971876, 2.191939347611967, 6.870699576179381, 3.546767992881153, 2.4624378793909094, 2.403731778429149, 7.249491285999189, 2.9695880068415357, 3.9482514376969813, 7.540486472406997, 6.785604449274694, 2.0805770167297437, 6.939673035751728, 2.679091248693409, 7.263904503851113, 5.653875634824977, 3.8559675387882772, 6.84752116116396, 5.85371989761844, 2.9007670740568545, 3.020369839716709, 2.406861058166175, 10.156280330493004, 4.932973288983182, 5.31859897140411, 4.569497611869697, 2.090925138680745, 2.126160016901466]}, {\"categories\": [\"0\", \"1\", \"2\", \"3\", \"4\", \"5\", \"6\", \"7\", \"8\", \"9\", \"10\", \"11\", \"12\", \"13\", \"14\", \"15\", \"16\", \"17\", \"18\", \"19\", \"20\", \"21\", \"22\", \"23\", \"24\", \"25\", \"26\", \"27\", \"28\", \"29\", \"30\"], \"mode\": \"lines\", \"name\": \"mean_absolute_percentage_error_min\", \"stepped\": true, \"type\": \"scatter\", \"data\": [2.450799905035118, 2.450799905035118, 2.450799905035118, 2.450799905035118, 2.191939347611967, 2.191939347611967, 2.191939347611967, 2.191939347611967, 2.191939347611967, 2.191939347611967, 2.191939347611967, 2.191939347611967, 2.191939347611967, 2.191939347611967, 2.0805770167297437, 2.0805770167297437, 2.0805770167297437, 2.0805770167297437, 2.0805770167297437, 2.0805770167297437, 2.0805770167297437, 2.0805770167297437, 2.0805770167297437, 2.0805770167297437, 2.0805770167297437, 2.0805770167297437, 2.0805770167297437, 2.0805770167297437, 2.0805770167297437, 2.0805770167297437, 2.0805770167297437]}], \"median_absolute_error\": [{\"categories\": [\"0\", \"1\", \"2\", \"3\", \"4\", \"5\", \"6\", \"7\", \"8\", \"9\", \"10\", \"11\", \"12\", \"13\", \"14\", \"15\", \"16\", \"17\", \"18\", \"19\", \"20\", \"21\", \"22\", \"23\", \"24\", \"25\", \"26\", \"27\", \"28\", \"29\", \"30\"], \"mode\": \"markers\", \"name\": \"median_absolute_error\", \"stepped\": false, \"type\": \"scatter\", \"data\": [0.9568176415717792, 2.122156778971354, 2.3350321451822915, 2.3088035786722827, 0.7259979248046875, 4.466115758782014, 1.9927680744777756, 1.064910888671875, 0.9164997687497731, 4.7641605609297955, 1.5690709726910275, 2.366568867002447, 7.165122985839844, 4.507561655879106, 0.5999999999999991, 4.774369950445887, 1.1958945591445673, 4.779965878750521, 3.6101432104506586, 2.524021428296043, 4.479828792771632, 3.847299916815885, 1.6174631077323909, 1.4283333333333321, 1.0540066147719784, 8.518796591602126, 3.29596129501382, 2.532801893262809, 2.5473549364412897, 0.7170601578140179, 0.7093098349500764]}, {\"categories\": [\"0\", \"1\", \"2\", \"3\", \"4\", \"5\", \"6\", \"7\", \"8\", \"9\", \"10\", \"11\", \"12\", \"13\", \"14\", \"15\", \"16\", \"17\", \"18\", \"19\", \"20\", \"21\", \"22\", \"23\", \"24\", \"25\", \"26\", \"27\", \"28\", \"29\", \"30\"], \"mode\": \"lines\", \"name\": \"median_absolute_error_min\", \"stepped\": true, \"type\": \"scatter\", \"data\": [0.9568176415717792, 0.9568176415717792, 0.9568176415717792, 0.9568176415717792, 0.7259979248046875, 0.7259979248046875, 0.7259979248046875, 0.7259979248046875, 0.7259979248046875, 0.7259979248046875, 0.7259979248046875, 0.7259979248046875, 0.7259979248046875, 0.7259979248046875, 0.5999999999999991, 0.5999999999999991, 0.5999999999999991, 0.5999999999999991, 0.5999999999999991, 0.5999999999999991, 0.5999999999999991, 0.5999999999999991, 0.5999999999999991, 0.5999999999999991, 0.5999999999999991, 0.5999999999999991, 0.5999999999999991, 0.5999999999999991, 0.5999999999999991, 0.5999999999999991, 0.5999999999999991]}], \"normalized_root_mean_squared_error\": [{\"categories\": [\"0\", \"1\", \"2\", \"3\", \"4\", \"5\", \"6\", \"7\", \"8\", \"9\", \"10\", \"11\", \"12\", \"13\", \"14\", \"15\", \"16\", \"17\", \"18\", \"19\", \"20\", \"21\", \"22\", \"23\", \"24\", \"25\", \"26\", \"27\", \"28\", \"29\", \"30\"], \"mode\": \"markers\", \"name\": \"normalized_root_mean_squared_error\", \"stepped\": false, \"type\": \"scatter\", \"data\": [0.1360029764238931, 0.1764310125530519, 0.18968594829737884, 0.17863414380267165, 0.13007610635262434, 0.2902698633911584, 0.17486691956713862, 0.13390819849996935, 0.12980908856570705, 0.30530679423907175, 0.14659842996633607, 0.18255938361598556, 0.3213748564878776, 0.28502705934721556, 0.12320945032822339, 0.29925551176437554, 0.1394683292112695, 0.30675563245394505, 0.2519432599357521, 0.18626376034472011, 0.2897466445921812, 0.24843378606815625, 0.1436520846464235, 0.1538936947061002, 0.13137251659503515, 0.3685189442754875, 0.21524636750429735, 0.2401264950538017, 0.2048072558979039, 0.11982132153024706, 0.11863334582756013]}, {\"categories\": [\"0\", \"1\", \"2\", \"3\", \"4\", \"5\", \"6\", \"7\", \"8\", \"9\", \"10\", \"11\", \"12\", \"13\", \"14\", \"15\", \"16\", \"17\", \"18\", \"19\", \"20\", \"21\", \"22\", \"23\", \"24\", \"25\", \"26\", \"27\", \"28\", \"29\", \"30\"], \"mode\": \"lines\", \"name\": \"normalized_root_mean_squared_error_min\", \"stepped\": true, \"type\": \"scatter\", \"data\": [0.1360029764238931, 0.1360029764238931, 0.1360029764238931, 0.1360029764238931, 0.13007610635262434, 0.13007610635262434, 0.13007610635262434, 0.13007610635262434, 0.12980908856570705, 0.12980908856570705, 0.12980908856570705, 0.12980908856570705, 0.12980908856570705, 0.12980908856570705, 0.12320945032822339, 0.12320945032822339, 0.12320945032822339, 0.12320945032822339, 0.12320945032822339, 0.12320945032822339, 0.12320945032822339, 0.12320945032822339, 0.12320945032822339, 0.12320945032822339, 0.12320945032822339, 0.12320945032822339, 0.12320945032822339, 0.12320945032822339, 0.12320945032822339, 0.11982132153024706, 0.11863334582756013]}], \"explained_variance\": [{\"categories\": [\"0\", \"1\", \"2\", \"3\", \"4\", \"5\", \"6\", \"7\", \"8\", \"9\", \"10\", \"11\", \"12\", \"13\", \"14\", \"15\", \"16\", \"17\", \"18\", \"19\", \"20\", \"21\", \"22\", \"23\", \"24\", \"25\", \"26\", \"27\", \"28\", \"29\", \"30\"], \"mode\": \"markers\", \"name\": \"explained_variance\", \"stepped\": false, \"type\": \"scatter\", \"data\": [0.8813922769545574, 0.8019062090139869, 0.7709289842916821, 0.796418758001443, 0.8917091056600984, 0.4613015186537181, 0.8050854927626873, 0.8853745532442613, 0.8921405576248495, 0.40425980331050787, 0.8624278468138814, 0.7870668556577574, 0.7468579442185256, 0.4806492871197327, 0.9027525558897134, 0.42810278001226426, 0.8758322576333814, 0.39858145613305895, 0.5946402392556862, 0.7789734813479096, 0.463224522367168, 0.6063862107357858, 0.8680920164076599, 0.8479480457387876, 0.8896387459851046, 0.132836724804295, 0.7043300610469108, 0.6324378103597393, 0.7332738582006173, 0.908022282431701, 0.9099445231651554]}, {\"categories\": [\"0\", \"1\", \"2\", \"3\", \"4\", \"5\", \"6\", \"7\", \"8\", \"9\", \"10\", \"11\", \"12\", \"13\", \"14\", \"15\", \"16\", \"17\", \"18\", \"19\", \"20\", \"21\", \"22\", \"23\", \"24\", \"25\", \"26\", \"27\", \"28\", \"29\", \"30\"], \"mode\": \"lines\", \"name\": \"explained_variance_max\", \"stepped\": true, \"type\": \"scatter\", \"data\": [0.8813922769545574, 0.8813922769545574, 0.8813922769545574, 0.8813922769545574, 0.8917091056600984, 0.8917091056600984, 0.8917091056600984, 0.8917091056600984, 0.8921405576248495, 0.8921405576248495, 0.8921405576248495, 0.8921405576248495, 0.8921405576248495, 0.8921405576248495, 0.9027525558897134, 0.9027525558897134, 0.9027525558897134, 0.9027525558897134, 0.9027525558897134, 0.9027525558897134, 0.9027525558897134, 0.9027525558897134, 0.9027525558897134, 0.9027525558897134, 0.9027525558897134, 0.9027525558897134, 0.9027525558897134, 0.9027525558897134, 0.9027525558897134, 0.908022282431701, 0.9099445231651554]}], \"normalized_root_mean_squared_log_error\": [{\"categories\": [\"0\", \"1\", \"2\", \"3\", \"4\", \"5\", \"6\", \"7\", \"8\", \"9\", \"10\", \"11\", \"12\", \"13\", \"14\", \"15\", \"16\", \"17\", \"18\", \"19\", \"20\", \"21\", \"22\", \"23\", \"24\", \"25\", \"26\", \"27\", \"28\", \"29\", \"30\"], \"mode\": \"markers\", \"name\": \"normalized_root_mean_squared_log_error\", \"stepped\": false, \"type\": \"scatter\", \"data\": [0.13231950888485458, 0.17272101606955123, 0.1851369360015489, 0.17554498011461694, 0.1263077133004055, 0.28906009112418046, 0.1701451090850797, 0.12967687725954147, 0.12461477314817349, 0.30542772672136315, 0.1438633603013751, 0.18040063551215155, 0.3037512033914647, 0.2825392535814153, 0.11837591133160286, 0.29924340195729643, 0.1342579383071587, 0.3067533543064425, 0.25021316592013615, 0.18194578899515626, 0.2881588731240394, 0.24801653252301847, 0.1397841882606223, 0.15127708977643217, 0.12741688230327378, 0.3659584586667582, 0.2144198646214985, 0.2384201095186315, 0.2014586396250019, 0.11523869041188091, 0.11379538035024149]}, {\"categories\": [\"0\", \"1\", \"2\", \"3\", \"4\", \"5\", \"6\", \"7\", \"8\", \"9\", \"10\", \"11\", \"12\", \"13\", \"14\", \"15\", \"16\", \"17\", \"18\", \"19\", \"20\", \"21\", \"22\", \"23\", \"24\", \"25\", \"26\", \"27\", \"28\", \"29\", \"30\"], \"mode\": \"lines\", \"name\": \"normalized_root_mean_squared_log_error_min\", \"stepped\": true, \"type\": \"scatter\", \"data\": [0.13231950888485458, 0.13231950888485458, 0.13231950888485458, 0.13231950888485458, 0.1263077133004055, 0.1263077133004055, 0.1263077133004055, 0.1263077133004055, 0.12461477314817349, 0.12461477314817349, 0.12461477314817349, 0.12461477314817349, 0.12461477314817349, 0.12461477314817349, 0.11837591133160286, 0.11837591133160286, 0.11837591133160286, 0.11837591133160286, 0.11837591133160286, 0.11837591133160286, 0.11837591133160286, 0.11837591133160286, 0.11837591133160286, 0.11837591133160286, 0.11837591133160286, 0.11837591133160286, 0.11837591133160286, 0.11837591133160286, 0.11837591133160286, 0.11523869041188091, 0.11379538035024149]}]}, \"metricName\": null, \"primaryMetricName\": \"r2_score\", \"showLegend\": false}, \"run_metrics\": [{\"name\": \"root_mean_squared_log_error\", \"run_id\": \"AutoML_a2b56ecc-3710-4d64-b351-ee6241c50fa5\", \"categories\": [0], \"series\": [{\"data\": [0.03539667024278819]}]}, {\"name\": \"normalized_root_mean_squared_log_error\", \"run_id\": \"AutoML_a2b56ecc-3710-4d64-b351-ee6241c50fa5\", \"categories\": [0], \"series\": [{\"data\": [0.11379538035024149]}]}, {\"name\": \"median_absolute_error\", \"run_id\": \"AutoML_a2b56ecc-3710-4d64-b351-ee6241c50fa5\", \"categories\": [0], \"series\": [{\"data\": [0.7093098349500764]}]}, {\"name\": \"explained_variance\", \"run_id\": \"AutoML_a2b56ecc-3710-4d64-b351-ee6241c50fa5\", \"categories\": [0], \"series\": [{\"data\": [0.9099445231651554]}]}, {\"name\": \"mean_absolute_percentage_error\", \"run_id\": \"AutoML_a2b56ecc-3710-4d64-b351-ee6241c50fa5\", \"categories\": [0], \"series\": [{\"data\": [2.126160016901466]}]}, {\"name\": \"normalized_median_absolute_error\", \"run_id\": \"AutoML_a2b56ecc-3710-4d64-b351-ee6241c50fa5\", \"categories\": [0], \"series\": [{\"data\": [0.026270734627780606]}]}, {\"name\": \"mean_absolute_error\", \"run_id\": \"AutoML_a2b56ecc-3710-4d64-b351-ee6241c50fa5\", \"categories\": [0], \"series\": [{\"data\": [1.9119514489578577]}]}, {\"name\": \"root_mean_squared_error\", \"run_id\": \"AutoML_a2b56ecc-3710-4d64-b351-ee6241c50fa5\", \"categories\": [0], \"series\": [{\"data\": [3.203100337344124]}]}, {\"name\": \"r2_score\", \"run_id\": \"AutoML_a2b56ecc-3710-4d64-b351-ee6241c50fa5\", \"categories\": [0], \"series\": [{\"data\": [0.9095808060805313]}]}, {\"name\": \"spearman_correlation\", \"run_id\": \"AutoML_a2b56ecc-3710-4d64-b351-ee6241c50fa5\", \"categories\": [0], \"series\": [{\"data\": [0.8986558482004038]}]}, {\"name\": \"normalized_mean_absolute_error\", \"run_id\": \"AutoML_a2b56ecc-3710-4d64-b351-ee6241c50fa5\", \"categories\": [0], \"series\": [{\"data\": [0.07081301662806881]}]}, {\"name\": \"normalized_root_mean_squared_error\", \"run_id\": \"AutoML_a2b56ecc-3710-4d64-b351-ee6241c50fa5\", \"categories\": [0], \"series\": [{\"data\": [0.11863334582756013]}]}], \"run_logs\": \"\\nRun is completed.\", \"graph\": {}, \"widget_settings\": {\"childWidgetDisplay\": \"popup\", \"send_telemetry\": false, \"log_level\": \"INFO\", \"sdk_version\": \"1.19.0\"}, \"loading\": false}"
     },
     "metadata": {},
     "output_type": "display_data"
    },
    {
     "name": "stdout",
     "output_type": "stream",
     "text": [
      "\n",
      "\n",
      "****************************************************************************************************\n",
      "DATA GUARDRAILS: \n",
      "\n",
      "TYPE:         Missing feature values imputation\n",
      "STATUS:       PASSED\n",
      "DESCRIPTION:  No feature missing values were detected in the training data.\n",
      "              Learn more about missing value imputation: https://aka.ms/AutomatedMLFeaturization\n",
      "\n",
      "****************************************************************************************************\n",
      "\n",
      "TYPE:         High cardinality feature detection\n",
      "STATUS:       PASSED\n",
      "DESCRIPTION:  Your inputs were analyzed, and no high cardinality features were detected.\n",
      "              Learn more about high cardinality feature handling: https://aka.ms/AutomatedMLFeaturization\n",
      "\n",
      "****************************************************************************************************\n",
      "\n",
      "****************************************************************************************************\n",
      "ITERATION: The iteration being evaluated.\n",
      "PIPELINE: A summary description of the pipeline being evaluated.\n",
      "DURATION: Time taken for the current iteration.\n",
      "METRIC: The result of computing score on the fitted pipeline.\n",
      "BEST: The best observed score thus far.\n",
      "****************************************************************************************************\n",
      "\n",
      " ITERATION   PIPELINE                                       DURATION      METRIC      BEST\n",
      "         0   MaxAbsScaler LightGBM                          0:00:30       0.8811    0.8811\n",
      "         1   MaxAbsScaler XGBoostRegressor                  0:00:27       0.8008    0.8811\n",
      "         2   SparseNormalizer XGBoostRegressor              0:00:29       0.7696    0.8811\n",
      "         3   MaxAbsScaler RandomForest                      0:00:34       0.7957    0.8811\n",
      "         4   StandardScalerWrapper XGBoostRegressor         0:00:28       0.8914    0.8914\n",
      "         5   MaxAbsScaler ElasticNet                        0:00:33       0.4609    0.8914\n",
      "         6   MinMaxScaler RandomForest                      0:00:37       0.8043    0.8914\n",
      "         7   StandardScalerWrapper XGBoostRegressor         0:00:26       0.8849    0.8914\n",
      "         8   MinMaxScaler ExtremeRandomTrees                0:00:28       0.8920    0.8920\n",
      "         9   StandardScalerWrapper ElasticNet               0:00:26       0.4036    0.8920\n",
      "        10   MinMaxScaler RandomForest                      0:00:39       0.8621    0.8920\n",
      "        11   MinMaxScaler RandomForest                      0:00:26       0.7864    0.8920\n",
      "        12   StandardScalerWrapper XGBoostRegressor         0:00:26       0.3388    0.8920\n",
      "        13   RobustScaler LassoLars                         0:00:26       0.4802    0.8920\n",
      "        14   MinMaxScaler ExtremeRandomTrees                0:00:25       0.9026    0.9026\n",
      "        15   MaxAbsScaler ExtremeRandomTrees                0:00:25       0.4270    0.9026\n",
      "        16   MinMaxScaler ExtremeRandomTrees                0:00:28       0.8755    0.9026\n",
      "        17   MaxAbsScaler ElasticNet                        0:00:25       0.3979    0.9026\n",
      "        18   MinMaxScaler RandomForest                      0:00:25       0.5938    0.9026\n",
      "        19   MaxAbsScaler RandomForest                      0:00:25       0.7780    0.9026\n",
      "        20   RobustScaler ElasticNet                        0:00:25       0.4629    0.9026\n",
      "        21   StandardScalerWrapper RandomForest             0:00:28       0.6050    0.9026\n",
      "        22   MinMaxScaler ExtremeRandomTrees                0:00:28       0.8679    0.9026\n",
      "        23   MinMaxScaler RandomForest                      0:00:52       0.8476    0.9026\n",
      "        24   RobustScaler LightGBM                          0:00:28       0.8893    0.9026\n",
      "        25   MaxAbsScaler ExtremeRandomTrees                0:00:30       0.1310    0.9026\n",
      "        26   MaxAbsScaler ExtremeRandomTrees                0:00:30       0.7035    0.9026\n",
      "        27   MinMaxScaler RandomForest                      0:00:26       0.6310    0.9026\n",
      "        28   MaxAbsScaler LightGBM                          0:00:27       0.7316    0.9026\n",
      "        29    VotingEnsemble                                0:00:27       0.9078    0.9078\n",
      "        30    StackEnsemble                                 0:00:37       0.9096    0.9096\n"
     ]
    },
    {
     "data": {
      "text/plain": [
       "{'runId': 'AutoML_a2b56ecc-3710-4d64-b351-ee6241c50fa5',\n",
       " 'target': 'local',\n",
       " 'status': 'Completed',\n",
       " 'startTimeUtc': '2021-01-03T23:49:20.189713Z',\n",
       " 'endTimeUtc': '2021-01-04T00:05:48.515095Z',\n",
       " 'properties': {'num_iterations': '1000',\n",
       "  'training_type': 'TrainFull',\n",
       "  'acquisition_function': 'EI',\n",
       "  'primary_metric': 'r2_score',\n",
       "  'train_split': '0',\n",
       "  'acquisition_parameter': '0',\n",
       "  'num_cross_validation': '3',\n",
       "  'target': 'local',\n",
       "  'AMLSettingsJsonString': '{\"path\":null,\"name\":\"AutoRanga\",\"subscription_id\":\"f9d5a085-54dc-4215-9ba6-dad5d86e60a0\",\"resource_group\":\"aml-quickstarts-133227\",\"workspace_name\":\"quick-starts-ws-133227\",\"region\":\"southcentralus\",\"compute_target\":\"local\",\"spark_service\":null,\"azure_service\":\"Microsoft.AzureNotebookVM\",\"many_models\":false,\"pipeline_fetch_max_batch_size\":1,\"iterations\":1000,\"primary_metric\":\"r2_score\",\"task_type\":\"regression\",\"data_script\":null,\"validation_size\":0.0,\"n_cross_validations\":3,\"y_min\":null,\"y_max\":null,\"num_classes\":null,\"featurization\":\"auto\",\"_ignore_package_version_incompatibilities\":false,\"is_timeseries\":false,\"max_cores_per_iteration\":1,\"max_concurrent_iterations\":1,\"iteration_timeout_minutes\":null,\"mem_in_mb\":null,\"enforce_time_on_windows\":false,\"experiment_timeout_minutes\":15,\"experiment_exit_score\":null,\"whitelist_models\":null,\"blacklist_algos\":[\"TensorFlowDNN\",\"TensorFlowLinearRegressor\"],\"supported_models\":[\"RandomForest\",\"LightGBM\",\"GradientBoosting\",\"KNN\",\"TensorFlowDNN\",\"ElasticNet\",\"DecisionTree\",\"ExtremeRandomTrees\",\"SGD\",\"OnlineGradientDescentRegressor\",\"LassoLars\",\"TensorFlowLinearRegressor\",\"FastLinearRegressor\",\"XGBoostRegressor\"],\"auto_blacklist\":true,\"blacklist_samples_reached\":false,\"exclude_nan_labels\":true,\"verbosity\":20,\"_debug_log\":\"automl.log\",\"show_warnings\":false,\"model_explainability\":true,\"service_url\":null,\"sdk_url\":null,\"sdk_packages\":null,\"enable_onnx_compatible_models\":false,\"enable_split_onnx_featurizer_estimator_models\":false,\"vm_type\":null,\"telemetry_verbosity\":20,\"send_telemetry\":true,\"enable_dnn\":false,\"scenario\":\"SDK-1.13.0\",\"environment_label\":null,\"force_text_dnn\":false,\"enable_feature_sweeping\":true,\"enable_early_stopping\":false,\"early_stopping_n_iters\":10,\"metrics\":null,\"enable_ensembling\":true,\"enable_stack_ensembling\":true,\"ensemble_iterations\":15,\"enable_tf\":false,\"enable_subsampling\":null,\"subsample_seed\":null,\"enable_nimbusml\":false,\"enable_streaming\":false,\"force_streaming\":false,\"track_child_runs\":true,\"allowed_private_models\":[],\"label_column_name\":\"Valve cndn\",\"weight_column_name\":null,\"cv_split_column_names\":null,\"enable_local_managed\":false,\"_local_managed_run_id\":null,\"cost_mode\":1,\"lag_length\":0,\"metric_operation\":\"maximize\",\"preprocess\":true}',\n",
       "  'DataPrepJsonString': None,\n",
       "  'EnableSubsampling': None,\n",
       "  'runTemplate': 'AutoML',\n",
       "  'azureml.runsource': 'automl',\n",
       "  'display_task_type': 'regression',\n",
       "  'dependencies_versions': '{\"azureml-widgets\": \"1.19.0\", \"azureml-train\": \"1.19.0\", \"azureml-train-restclients-hyperdrive\": \"1.19.0\", \"azureml-train-core\": \"1.19.0\", \"azureml-train-automl\": \"1.19.0\", \"azureml-train-automl-runtime\": \"1.19.0\", \"azureml-train-automl-client\": \"1.19.0\", \"azureml-tensorboard\": \"1.19.0\", \"azureml-telemetry\": \"1.19.0\", \"azureml-sdk\": \"1.19.0\", \"azureml-samples\": \"0+unknown\", \"azureml-pipeline\": \"1.19.0\", \"azureml-pipeline-steps\": \"1.19.0\", \"azureml-pipeline-core\": \"1.19.0\", \"azureml-opendatasets\": \"1.19.0\", \"azureml-model-management-sdk\": \"1.0.1b6.post1\", \"azureml-mlflow\": \"1.19.0\", \"azureml-interpret\": \"1.19.0\", \"azureml-explain-model\": \"1.19.0\", \"azureml-defaults\": \"1.19.0\", \"azureml-dataset-runtime\": \"1.19.0\", \"azureml-dataprep\": \"2.6.1\", \"azureml-dataprep-rslex\": \"1.4.0\", \"azureml-dataprep-native\": \"26.0.0\", \"azureml-datadrift\": \"1.19.0\", \"azureml-core\": \"1.19.0\", \"azureml-contrib-services\": \"1.19.0\", \"azureml-contrib-server\": \"1.19.0\", \"azureml-contrib-reinforcementlearning\": \"1.19.0\", \"azureml-contrib-pipeline-steps\": \"1.19.0\", \"azureml-contrib-notebook\": \"1.19.0\", \"azureml-contrib-interpret\": \"1.19.0\", \"azureml-contrib-gbdt\": \"1.19.0\", \"azureml-contrib-fairness\": \"1.19.0\", \"azureml-contrib-dataset\": \"1.19.0\", \"azureml-cli-common\": \"1.19.0\", \"azureml-automl-runtime\": \"1.19.0\", \"azureml-automl-core\": \"1.19.0\", \"azureml-accel-models\": \"1.19.0\"}',\n",
       "  '_aml_system_scenario_identification': 'Local.Parent',\n",
       "  'ClientSdkVersion': '1.19.0',\n",
       "  'ClientType': 'SDK',\n",
       "  'environment_cpu_name': 'AzureML-AutoML',\n",
       "  'environment_cpu_label': 'prod',\n",
       "  'environment_gpu_name': 'AzureML-AutoML-GPU',\n",
       "  'environment_gpu_label': 'prod',\n",
       "  'root_attribution': 'automl',\n",
       "  'attribution': 'AutoML',\n",
       "  'Orchestrator': 'AutoML',\n",
       "  '_azureml.ComputeTargetType': 'local',\n",
       "  'ProblemInfoJsonString': '{\"dataset_num_categorical\": 0, \"is_sparse\": false, \"subsampling\": false, \"dataset_classes\": 4, \"dataset_features\": 14, \"dataset_samples\": 2205, \"single_frequency_class_detected\": false}',\n",
       "  'feature_skus': 'automatedml_sdk_guardrails'},\n",
       " 'inputDatasets': [],\n",
       " 'outputDatasets': [],\n",
       " 'logFiles': {}}"
      ]
     },
     "execution_count": 31,
     "metadata": {},
     "output_type": "execute_result"
    }
   ],
   "source": [
    "# TODO: Submit your experiment\n",
    "autoexp = Experiment(workspace=ws,name='AutoRanga')\n",
    "remote_run = autoexp.submit(automl_config)\n",
    "RunDetails(remote_run).show()\n",
    "remote_run.wait_for_completion(show_output=True)"
   ]
  },
  {
   "cell_type": "code",
   "execution_count": 33,
   "metadata": {
    "collapsed": true,
    "gather": {
     "logged": 1609721698271
    },
    "jupyter": {
     "outputs_hidden": false,
     "source_hidden": false
    },
    "nteract": {
     "transient": {
      "deleting": false
     }
    }
   },
   "outputs": [
    {
     "name": "stderr",
     "output_type": "stream",
     "text": [
      "WARNING:root:Running on local machine. Note that local runs always run synchronously even if you use the parameter 'show_output=False'\n"
     ]
    },
    {
     "name": "stdout",
     "output_type": "stream",
     "text": [
      "\n",
      "\n",
      "****************************************************************************************************\n",
      "DATA GUARDRAILS: \n",
      "\n",
      "TYPE:         Class balancing detection\n",
      "STATUS:       PASSED\n",
      "DESCRIPTION:  Your inputs were analyzed, and all classes are balanced in your training data.\n",
      "              Learn more about imbalanced data: https://aka.ms/AutomatedMLImbalancedData\n",
      "\n",
      "****************************************************************************************************\n",
      "\n",
      "TYPE:         Missing feature values imputation\n",
      "STATUS:       PASSED\n",
      "DESCRIPTION:  No feature missing values were detected in the training data.\n",
      "              Learn more about missing value imputation: https://aka.ms/AutomatedMLFeaturization\n",
      "\n",
      "****************************************************************************************************\n",
      "\n",
      "TYPE:         High cardinality feature detection\n",
      "STATUS:       PASSED\n",
      "DESCRIPTION:  Your inputs were analyzed, and no high cardinality features were detected.\n",
      "              Learn more about high cardinality feature handling: https://aka.ms/AutomatedMLFeaturization\n"
     ]
    },
    {
     "data": {
      "application/vnd.jupyter.widget-view+json": {
       "model_id": "ec772882d67d41ce99c8e27535949e3f",
       "version_major": 2,
       "version_minor": 0
      },
      "text/plain": [
       "_AutoMLWidget(widget_settings={'childWidgetDisplay': 'popup', 'send_telemetry': False, 'log_level': 'INFO', 's…"
      ]
     },
     "metadata": {},
     "output_type": "display_data"
    },
    {
     "data": {
      "application/aml.mini.widget.v1": "{\"status\": \"Completed\", \"workbench_run_details_uri\": \"https://ml.azure.com/experiments/AutoRanga/runs/AutoML_a2b56ecc-3710-4d64-b351-ee6241c50fa5?wsid=/subscriptions/f9d5a085-54dc-4215-9ba6-dad5d86e60a0/resourcegroups/aml-quickstarts-133227/workspaces/quick-starts-ws-133227\", \"run_id\": \"AutoML_a2b56ecc-3710-4d64-b351-ee6241c50fa5\", \"run_properties\": {\"run_id\": \"AutoML_a2b56ecc-3710-4d64-b351-ee6241c50fa5\", \"created_utc\": \"2021-01-03T23:49:19.421453Z\", \"properties\": {\"num_iterations\": \"1000\", \"training_type\": \"TrainFull\", \"acquisition_function\": \"EI\", \"primary_metric\": \"r2_score\", \"train_split\": \"0\", \"acquisition_parameter\": \"0\", \"num_cross_validation\": \"3\", \"target\": \"local\", \"AMLSettingsJsonString\": \"{\\\"path\\\":null,\\\"name\\\":\\\"AutoRanga\\\",\\\"subscription_id\\\":\\\"f9d5a085-54dc-4215-9ba6-dad5d86e60a0\\\",\\\"resource_group\\\":\\\"aml-quickstarts-133227\\\",\\\"workspace_name\\\":\\\"quick-starts-ws-133227\\\",\\\"region\\\":\\\"southcentralus\\\",\\\"compute_target\\\":\\\"local\\\",\\\"spark_service\\\":null,\\\"azure_service\\\":\\\"Microsoft.AzureNotebookVM\\\",\\\"many_models\\\":false,\\\"pipeline_fetch_max_batch_size\\\":1,\\\"iterations\\\":1000,\\\"primary_metric\\\":\\\"r2_score\\\",\\\"task_type\\\":\\\"regression\\\",\\\"data_script\\\":null,\\\"validation_size\\\":0.0,\\\"n_cross_validations\\\":3,\\\"y_min\\\":null,\\\"y_max\\\":null,\\\"num_classes\\\":null,\\\"featurization\\\":\\\"auto\\\",\\\"_ignore_package_version_incompatibilities\\\":false,\\\"is_timeseries\\\":false,\\\"max_cores_per_iteration\\\":1,\\\"max_concurrent_iterations\\\":1,\\\"iteration_timeout_minutes\\\":null,\\\"mem_in_mb\\\":null,\\\"enforce_time_on_windows\\\":false,\\\"experiment_timeout_minutes\\\":15,\\\"experiment_exit_score\\\":null,\\\"whitelist_models\\\":null,\\\"blacklist_algos\\\":[\\\"TensorFlowDNN\\\",\\\"TensorFlowLinearRegressor\\\"],\\\"supported_models\\\":[\\\"RandomForest\\\",\\\"LightGBM\\\",\\\"GradientBoosting\\\",\\\"KNN\\\",\\\"TensorFlowDNN\\\",\\\"ElasticNet\\\",\\\"DecisionTree\\\",\\\"ExtremeRandomTrees\\\",\\\"SGD\\\",\\\"OnlineGradientDescentRegressor\\\",\\\"LassoLars\\\",\\\"TensorFlowLinearRegressor\\\",\\\"FastLinearRegressor\\\",\\\"XGBoostRegressor\\\"],\\\"auto_blacklist\\\":true,\\\"blacklist_samples_reached\\\":false,\\\"exclude_nan_labels\\\":true,\\\"verbosity\\\":20,\\\"_debug_log\\\":\\\"automl.log\\\",\\\"show_warnings\\\":false,\\\"model_explainability\\\":true,\\\"service_url\\\":null,\\\"sdk_url\\\":null,\\\"sdk_packages\\\":null,\\\"enable_onnx_compatible_models\\\":false,\\\"enable_split_onnx_featurizer_estimator_models\\\":false,\\\"vm_type\\\":null,\\\"telemetry_verbosity\\\":20,\\\"send_telemetry\\\":true,\\\"enable_dnn\\\":false,\\\"scenario\\\":\\\"SDK-1.13.0\\\",\\\"environment_label\\\":null,\\\"force_text_dnn\\\":false,\\\"enable_feature_sweeping\\\":true,\\\"enable_early_stopping\\\":false,\\\"early_stopping_n_iters\\\":10,\\\"metrics\\\":null,\\\"enable_ensembling\\\":true,\\\"enable_stack_ensembling\\\":true,\\\"ensemble_iterations\\\":15,\\\"enable_tf\\\":false,\\\"enable_subsampling\\\":null,\\\"subsample_seed\\\":null,\\\"enable_nimbusml\\\":false,\\\"enable_streaming\\\":false,\\\"force_streaming\\\":false,\\\"track_child_runs\\\":true,\\\"allowed_private_models\\\":[],\\\"label_column_name\\\":\\\"Valve cndn\\\",\\\"weight_column_name\\\":null,\\\"cv_split_column_names\\\":null,\\\"enable_local_managed\\\":false,\\\"_local_managed_run_id\\\":null,\\\"cost_mode\\\":1,\\\"lag_length\\\":0,\\\"metric_operation\\\":\\\"maximize\\\",\\\"preprocess\\\":true}\", \"DataPrepJsonString\": null, \"EnableSubsampling\": null, \"runTemplate\": \"AutoML\", \"azureml.runsource\": \"automl\", \"display_task_type\": \"regression\", \"dependencies_versions\": \"{\\\"azureml-widgets\\\": \\\"1.19.0\\\", \\\"azureml-train\\\": \\\"1.19.0\\\", \\\"azureml-train-restclients-hyperdrive\\\": \\\"1.19.0\\\", \\\"azureml-train-core\\\": \\\"1.19.0\\\", \\\"azureml-train-automl\\\": \\\"1.19.0\\\", \\\"azureml-train-automl-runtime\\\": \\\"1.19.0\\\", \\\"azureml-train-automl-client\\\": \\\"1.19.0\\\", \\\"azureml-tensorboard\\\": \\\"1.19.0\\\", \\\"azureml-telemetry\\\": \\\"1.19.0\\\", \\\"azureml-sdk\\\": \\\"1.19.0\\\", \\\"azureml-samples\\\": \\\"0+unknown\\\", \\\"azureml-pipeline\\\": \\\"1.19.0\\\", \\\"azureml-pipeline-steps\\\": \\\"1.19.0\\\", \\\"azureml-pipeline-core\\\": \\\"1.19.0\\\", \\\"azureml-opendatasets\\\": \\\"1.19.0\\\", \\\"azureml-model-management-sdk\\\": \\\"1.0.1b6.post1\\\", \\\"azureml-mlflow\\\": \\\"1.19.0\\\", \\\"azureml-interpret\\\": \\\"1.19.0\\\", \\\"azureml-explain-model\\\": \\\"1.19.0\\\", \\\"azureml-defaults\\\": \\\"1.19.0\\\", \\\"azureml-dataset-runtime\\\": \\\"1.19.0\\\", \\\"azureml-dataprep\\\": \\\"2.6.1\\\", \\\"azureml-dataprep-rslex\\\": \\\"1.4.0\\\", \\\"azureml-dataprep-native\\\": \\\"26.0.0\\\", \\\"azureml-datadrift\\\": \\\"1.19.0\\\", \\\"azureml-core\\\": \\\"1.19.0\\\", \\\"azureml-contrib-services\\\": \\\"1.19.0\\\", \\\"azureml-contrib-server\\\": \\\"1.19.0\\\", \\\"azureml-contrib-reinforcementlearning\\\": \\\"1.19.0\\\", \\\"azureml-contrib-pipeline-steps\\\": \\\"1.19.0\\\", \\\"azureml-contrib-notebook\\\": \\\"1.19.0\\\", \\\"azureml-contrib-interpret\\\": \\\"1.19.0\\\", \\\"azureml-contrib-gbdt\\\": \\\"1.19.0\\\", \\\"azureml-contrib-fairness\\\": \\\"1.19.0\\\", \\\"azureml-contrib-dataset\\\": \\\"1.19.0\\\", \\\"azureml-cli-common\\\": \\\"1.19.0\\\", \\\"azureml-automl-runtime\\\": \\\"1.19.0\\\", \\\"azureml-automl-core\\\": \\\"1.19.0\\\", \\\"azureml-accel-models\\\": \\\"1.19.0\\\"}\", \"_aml_system_scenario_identification\": \"Local.Parent\", \"ClientSdkVersion\": \"1.19.0\", \"ClientType\": \"SDK\", \"environment_cpu_name\": \"AzureML-AutoML\", \"environment_cpu_label\": \"prod\", \"environment_gpu_name\": \"AzureML-AutoML-GPU\", \"environment_gpu_label\": \"prod\", \"root_attribution\": \"automl\", \"attribution\": \"AutoML\", \"Orchestrator\": \"AutoML\", \"_azureml.ComputeTargetType\": \"local\", \"ProblemInfoJsonString\": \"{\\\"dataset_num_categorical\\\": 0, \\\"is_sparse\\\": false, \\\"subsampling\\\": false, \\\"dataset_classes\\\": 4, \\\"dataset_features\\\": 14, \\\"dataset_samples\\\": 2205, \\\"single_frequency_class_detected\\\": false}\", \"feature_skus\": \"automatedml_sdk_guardrails\"}, \"tags\": {\"model_explain_run\": \"best_run\", \"best_score\": \"0.9095808060805313\", \"best_pipeline\": \"StackEnsemble\", \"automl_best_child_run_id\": \"AutoML_a2b56ecc-3710-4d64-b351-ee6241c50fa5_30\", \"model_explain_best_run_child_id\": \"AutoML_a2b56ecc-3710-4d64-b351-ee6241c50fa5_30\"}, \"end_time_utc\": \"2021-01-04T00:05:48.515095Z\", \"status\": \"Completed\", \"log_files\": {}, \"log_groups\": [], \"run_duration\": \"0:16:29\"}, \"child_runs\": [{\"run_id\": \"AutoML_a2b56ecc-3710-4d64-b351-ee6241c50fa5_0\", \"run_number\": 2, \"metric\": null, \"status\": \"Completed\", \"run_type\": null, \"training_percent\": \"100\", \"start_time\": \"2021-01-03T23:49:39.325507Z\", \"end_time\": \"2021-01-03T23:50:08.925616Z\", \"created_time\": \"2021-01-03T23:49:39.220493Z\", \"created_time_dt\": \"2021-01-03T23:49:39.220493Z\", \"duration\": \"0:00:29\", \"iteration\": \"0\", \"goal\": \"r2_score_max\", \"run_name\": \"MaxAbsScaler, LightGBM\", \"run_properties\": \"copy=True\", \"primary_metric\": 0.88114368, \"best_metric\": 0.88114368}, {\"run_id\": \"AutoML_a2b56ecc-3710-4d64-b351-ee6241c50fa5_1\", \"run_number\": 3, \"metric\": null, \"status\": \"Completed\", \"run_type\": null, \"training_percent\": \"100\", \"start_time\": \"2021-01-03T23:50:09.354972Z\", \"end_time\": \"2021-01-03T23:50:36.274156Z\", \"created_time\": \"2021-01-03T23:50:09.2386Z\", \"created_time_dt\": \"2021-01-03T23:50:09.2386Z\", \"duration\": \"0:00:27\", \"iteration\": \"1\", \"goal\": \"r2_score_max\", \"run_name\": \"MaxAbsScaler, XGBoostRegressor\", \"run_properties\": \"copy=True\", \"primary_metric\": 0.80081848, \"best_metric\": 0.88114368}, {\"run_id\": \"AutoML_a2b56ecc-3710-4d64-b351-ee6241c50fa5_2\", \"run_number\": 4, \"metric\": null, \"status\": \"Completed\", \"run_type\": null, \"training_percent\": \"100\", \"start_time\": \"2021-01-03T23:50:37.013335Z\", \"end_time\": \"2021-01-03T23:51:05.75846Z\", \"created_time\": \"2021-01-03T23:50:36.881187Z\", \"created_time_dt\": \"2021-01-03T23:50:36.881187Z\", \"duration\": \"0:00:28\", \"iteration\": \"2\", \"goal\": \"r2_score_max\", \"run_name\": \"SparseNormalizer, XGBoostRegressor\", \"run_properties\": \"<azureml.automl.runtime.shared.model_wrappers.SparseNormalizer object at 0x7fc179df7128\", \"primary_metric\": 0.76961607, \"best_metric\": 0.88114368}, {\"run_id\": \"AutoML_a2b56ecc-3710-4d64-b351-ee6241c50fa5_3\", \"run_number\": 5, \"metric\": null, \"status\": \"Completed\", \"run_type\": null, \"training_percent\": \"100\", \"start_time\": \"2021-01-03T23:51:07.281703Z\", \"end_time\": \"2021-01-03T23:51:40.85685Z\", \"created_time\": \"2021-01-03T23:51:07.180283Z\", \"created_time_dt\": \"2021-01-03T23:51:07.180283Z\", \"duration\": \"0:00:33\", \"iteration\": \"3\", \"goal\": \"r2_score_max\", \"run_name\": \"MaxAbsScaler, RandomForest\", \"run_properties\": \"copy=True\", \"primary_metric\": 0.79570926, \"best_metric\": 0.88114368}, {\"run_id\": \"AutoML_a2b56ecc-3710-4d64-b351-ee6241c50fa5_4\", \"run_number\": 6, \"metric\": null, \"status\": \"Completed\", \"run_type\": null, \"training_percent\": \"100\", \"start_time\": \"2021-01-03T23:51:42.43943Z\", \"end_time\": \"2021-01-03T23:52:10.60313Z\", \"created_time\": \"2021-01-03T23:51:42.325847Z\", \"created_time_dt\": \"2021-01-03T23:51:42.325847Z\", \"duration\": \"0:00:28\", \"iteration\": \"4\", \"goal\": \"r2_score_max\", \"run_name\": \"StandardScalerWrapper, XGBoostRegressor\", \"run_properties\": \"<azureml.automl.runtime.shared.model_wrappers.StandardScalerWrapper object at 0x7fc17ad1e1d0\", \"primary_metric\": 0.89144446, \"best_metric\": 0.89144446}, {\"run_id\": \"AutoML_a2b56ecc-3710-4d64-b351-ee6241c50fa5_5\", \"run_number\": 7, \"metric\": null, \"status\": \"Completed\", \"run_type\": null, \"training_percent\": \"100\", \"start_time\": \"2021-01-03T23:52:13.561438Z\", \"end_time\": \"2021-01-03T23:52:46.810433Z\", \"created_time\": \"2021-01-03T23:52:13.100356Z\", \"created_time_dt\": \"2021-01-03T23:52:13.100356Z\", \"duration\": \"0:00:33\", \"iteration\": \"5\", \"goal\": \"r2_score_max\", \"run_name\": \"MaxAbsScaler, ElasticNet\", \"run_properties\": \"copy=True\", \"primary_metric\": 0.46092438, \"best_metric\": 0.89144446}, {\"run_id\": \"AutoML_a2b56ecc-3710-4d64-b351-ee6241c50fa5_6\", \"run_number\": 8, \"metric\": null, \"status\": \"Completed\", \"run_type\": null, \"training_percent\": \"100\", \"start_time\": \"2021-01-03T23:52:49.377713Z\", \"end_time\": \"2021-01-03T23:53:26.0206Z\", \"created_time\": \"2021-01-03T23:52:48.903655Z\", \"created_time_dt\": \"2021-01-03T23:52:48.903655Z\", \"duration\": \"0:00:37\", \"iteration\": \"6\", \"goal\": \"r2_score_max\", \"run_name\": \"MinMaxScaler, RandomForest\", \"run_properties\": \"copy=True, feature_range=(0, 1\", \"primary_metric\": 0.80431247, \"best_metric\": 0.89144446}, {\"run_id\": \"AutoML_a2b56ecc-3710-4d64-b351-ee6241c50fa5_7\", \"run_number\": 9, \"metric\": null, \"status\": \"Completed\", \"run_type\": null, \"training_percent\": \"100\", \"start_time\": \"2021-01-03T23:53:27.560154Z\", \"end_time\": \"2021-01-03T23:53:53.689704Z\", \"created_time\": \"2021-01-03T23:53:27.413985Z\", \"created_time_dt\": \"2021-01-03T23:53:27.413985Z\", \"duration\": \"0:00:26\", \"iteration\": \"7\", \"goal\": \"r2_score_max\", \"run_name\": \"StandardScalerWrapper, XGBoostRegressor\", \"run_properties\": \"<azureml.automl.runtime.shared.model_wrappers.StandardScalerWrapper object at 0x7fc17b417080\", \"primary_metric\": 0.88491576, \"best_metric\": 0.89144446}, {\"run_id\": \"AutoML_a2b56ecc-3710-4d64-b351-ee6241c50fa5_8\", \"run_number\": 10, \"metric\": null, \"status\": \"Completed\", \"run_type\": null, \"training_percent\": \"100\", \"start_time\": \"2021-01-03T23:53:55.167832Z\", \"end_time\": \"2021-01-03T23:54:23.017286Z\", \"created_time\": \"2021-01-03T23:53:55.063304Z\", \"created_time_dt\": \"2021-01-03T23:53:55.063304Z\", \"duration\": \"0:00:27\", \"iteration\": \"8\", \"goal\": \"r2_score_max\", \"run_name\": \"MinMaxScaler, ExtremeRandomTrees\", \"run_properties\": \"copy=True, feature_range=(0, 1\", \"primary_metric\": 0.8919799, \"best_metric\": 0.8919799}, {\"run_id\": \"AutoML_a2b56ecc-3710-4d64-b351-ee6241c50fa5_9\", \"run_number\": 11, \"metric\": null, \"status\": \"Completed\", \"run_type\": null, \"training_percent\": \"100\", \"start_time\": \"2021-01-03T23:54:24.983009Z\", \"end_time\": \"2021-01-03T23:54:50.654771Z\", \"created_time\": \"2021-01-03T23:54:24.874702Z\", \"created_time_dt\": \"2021-01-03T23:54:24.874702Z\", \"duration\": \"0:00:25\", \"iteration\": \"9\", \"goal\": \"r2_score_max\", \"run_name\": \"StandardScalerWrapper, ElasticNet\", \"run_properties\": \"<azureml.automl.runtime.shared.model_wrappers.StandardScalerWrapper object at 0x7fc17b128940\", \"primary_metric\": 0.40359829, \"best_metric\": 0.8919799}, {\"run_id\": \"AutoML_a2b56ecc-3710-4d64-b351-ee6241c50fa5_10\", \"run_number\": 12, \"metric\": null, \"status\": \"Completed\", \"run_type\": null, \"training_percent\": \"100\", \"start_time\": \"2021-01-03T23:54:52.564151Z\", \"end_time\": \"2021-01-03T23:55:31.623623Z\", \"created_time\": \"2021-01-03T23:54:52.443502Z\", \"created_time_dt\": \"2021-01-03T23:54:52.443502Z\", \"duration\": \"0:00:39\", \"iteration\": \"10\", \"goal\": \"r2_score_max\", \"run_name\": \"MinMaxScaler, RandomForest\", \"run_properties\": \"copy=True, feature_range=(0, 1\", \"primary_metric\": 0.86209997, \"best_metric\": 0.8919799}, {\"run_id\": \"AutoML_a2b56ecc-3710-4d64-b351-ee6241c50fa5_11\", \"run_number\": 13, \"metric\": null, \"status\": \"Completed\", \"run_type\": null, \"training_percent\": \"100\", \"start_time\": \"2021-01-03T23:55:33.099605Z\", \"end_time\": \"2021-01-03T23:55:59.388303Z\", \"created_time\": \"2021-01-03T23:55:32.974511Z\", \"created_time_dt\": \"2021-01-03T23:55:32.974511Z\", \"duration\": \"0:00:26\", \"iteration\": \"11\", \"goal\": \"r2_score_max\", \"run_name\": \"MinMaxScaler, RandomForest\", \"run_properties\": \"copy=True, feature_range=(0, 1\", \"primary_metric\": 0.78639541, \"best_metric\": 0.8919799}, {\"run_id\": \"AutoML_a2b56ecc-3710-4d64-b351-ee6241c50fa5_12\", \"run_number\": 14, \"metric\": null, \"status\": \"Completed\", \"run_type\": null, \"training_percent\": \"100\", \"start_time\": \"2021-01-03T23:56:00.870483Z\", \"end_time\": \"2021-01-03T23:56:27.163421Z\", \"created_time\": \"2021-01-03T23:56:00.760758Z\", \"created_time_dt\": \"2021-01-03T23:56:00.760758Z\", \"duration\": \"0:00:26\", \"iteration\": \"12\", \"goal\": \"r2_score_max\", \"run_name\": \"StandardScalerWrapper, XGBoostRegressor\", \"run_properties\": \"<azureml.automl.runtime.shared.model_wrappers.StandardScalerWrapper object at 0x7fc17a559f60\", \"primary_metric\": 0.33880411, \"best_metric\": 0.8919799}, {\"run_id\": \"AutoML_a2b56ecc-3710-4d64-b351-ee6241c50fa5_13\", \"run_number\": 15, \"metric\": null, \"status\": \"Completed\", \"run_type\": null, \"training_percent\": \"100\", \"start_time\": \"2021-01-03T23:56:28.702897Z\", \"end_time\": \"2021-01-03T23:56:54.875156Z\", \"created_time\": \"2021-01-03T23:56:28.593386Z\", \"created_time_dt\": \"2021-01-03T23:56:28.593386Z\", \"duration\": \"0:00:26\", \"iteration\": \"13\", \"goal\": \"r2_score_max\", \"run_name\": \"RobustScaler, LassoLars\", \"run_properties\": \"copy=True, quantile_range=[10, 90], with_centering=False,\\n             with_scaling=True\", \"primary_metric\": 0.48021012, \"best_metric\": 0.8919799}, {\"run_id\": \"AutoML_a2b56ecc-3710-4d64-b351-ee6241c50fa5_14\", \"run_number\": 16, \"metric\": null, \"status\": \"Completed\", \"run_type\": null, \"training_percent\": \"100\", \"start_time\": \"2021-01-03T23:56:56.403509Z\", \"end_time\": \"2021-01-03T23:57:21.722995Z\", \"created_time\": \"2021-01-03T23:56:56.298218Z\", \"created_time_dt\": \"2021-01-03T23:56:56.298218Z\", \"duration\": \"0:00:25\", \"iteration\": \"14\", \"goal\": \"r2_score_max\", \"run_name\": \"MinMaxScaler, ExtremeRandomTrees\", \"run_properties\": \"copy=True, feature_range=(0, 1\", \"primary_metric\": 0.90259215, \"best_metric\": 0.90259215}, {\"run_id\": \"AutoML_a2b56ecc-3710-4d64-b351-ee6241c50fa5_15\", \"run_number\": 17, \"metric\": null, \"status\": \"Completed\", \"run_type\": null, \"training_percent\": \"100\", \"start_time\": \"2021-01-03T23:57:23.223051Z\", \"end_time\": \"2021-01-03T23:57:48.375665Z\", \"created_time\": \"2021-01-03T23:57:23.120522Z\", \"created_time_dt\": \"2021-01-03T23:57:23.120522Z\", \"duration\": \"0:00:25\", \"iteration\": \"15\", \"goal\": \"r2_score_max\", \"run_name\": \"MaxAbsScaler, ExtremeRandomTrees\", \"run_properties\": \"copy=True\", \"primary_metric\": 0.4270382, \"best_metric\": 0.90259215}, {\"run_id\": \"AutoML_a2b56ecc-3710-4d64-b351-ee6241c50fa5_16\", \"run_number\": 18, \"metric\": null, \"status\": \"Completed\", \"run_type\": null, \"training_percent\": \"100\", \"start_time\": \"2021-01-03T23:57:49.7786Z\", \"end_time\": \"2021-01-03T23:58:17.541915Z\", \"created_time\": \"2021-01-03T23:57:49.67179Z\", \"created_time_dt\": \"2021-01-03T23:57:49.67179Z\", \"duration\": \"0:00:27\", \"iteration\": \"16\", \"goal\": \"r2_score_max\", \"run_name\": \"MinMaxScaler, ExtremeRandomTrees\", \"run_properties\": \"copy=True, feature_range=(0, 1\", \"primary_metric\": 0.87546934, \"best_metric\": 0.90259215}, {\"run_id\": \"AutoML_a2b56ecc-3710-4d64-b351-ee6241c50fa5_17\", \"run_number\": 19, \"metric\": null, \"status\": \"Completed\", \"run_type\": null, \"training_percent\": \"100\", \"start_time\": \"2021-01-03T23:58:19.104445Z\", \"end_time\": \"2021-01-03T23:58:44.264933Z\", \"created_time\": \"2021-01-03T23:58:18.964813Z\", \"created_time_dt\": \"2021-01-03T23:58:18.964813Z\", \"duration\": \"0:00:25\", \"iteration\": \"17\", \"goal\": \"r2_score_max\", \"run_name\": \"MaxAbsScaler, ElasticNet\", \"run_properties\": \"copy=True\", \"primary_metric\": 0.39792313, \"best_metric\": 0.90259215}, {\"run_id\": \"AutoML_a2b56ecc-3710-4d64-b351-ee6241c50fa5_18\", \"run_number\": 20, \"metric\": null, \"status\": \"Completed\", \"run_type\": null, \"training_percent\": \"100\", \"start_time\": \"2021-01-03T23:58:46.420467Z\", \"end_time\": \"2021-01-03T23:59:11.393836Z\", \"created_time\": \"2021-01-03T23:58:46.102359Z\", \"created_time_dt\": \"2021-01-03T23:58:46.102359Z\", \"duration\": \"0:00:25\", \"iteration\": \"18\", \"goal\": \"r2_score_max\", \"run_name\": \"MinMaxScaler, RandomForest\", \"run_properties\": \"copy=True, feature_range=(0, 1\", \"primary_metric\": 0.5938077, \"best_metric\": 0.90259215}, {\"run_id\": \"AutoML_a2b56ecc-3710-4d64-b351-ee6241c50fa5_19\", \"run_number\": 21, \"metric\": null, \"status\": \"Completed\", \"run_type\": null, \"training_percent\": \"100\", \"start_time\": \"2021-01-03T23:59:12.914371Z\", \"end_time\": \"2021-01-03T23:59:38.009984Z\", \"created_time\": \"2021-01-03T23:59:12.802056Z\", \"created_time_dt\": \"2021-01-03T23:59:12.802056Z\", \"duration\": \"0:00:25\", \"iteration\": \"19\", \"goal\": \"r2_score_max\", \"run_name\": \"MaxAbsScaler, RandomForest\", \"run_properties\": \"copy=True\", \"primary_metric\": 0.77802374, \"best_metric\": 0.90259215}, {\"run_id\": \"AutoML_a2b56ecc-3710-4d64-b351-ee6241c50fa5_20\", \"run_number\": 22, \"metric\": null, \"status\": \"Completed\", \"run_type\": null, \"training_percent\": \"100\", \"start_time\": \"2021-01-03T23:59:41.108677Z\", \"end_time\": \"2021-01-04T00:00:05.98318Z\", \"created_time\": \"2021-01-03T23:59:40.77976Z\", \"created_time_dt\": \"2021-01-03T23:59:40.77976Z\", \"duration\": \"0:00:25\", \"iteration\": \"20\", \"goal\": \"r2_score_max\", \"run_name\": \"RobustScaler, ElasticNet\", \"run_properties\": \"copy=True, quantile_range=[10, 90], with_centering=True,\\n             with_scaling=False\", \"primary_metric\": 0.46286469, \"best_metric\": 0.90259215}, {\"run_id\": \"AutoML_a2b56ecc-3710-4d64-b351-ee6241c50fa5_21\", \"run_number\": 23, \"metric\": null, \"status\": \"Completed\", \"run_type\": null, \"training_percent\": \"100\", \"start_time\": \"2021-01-04T00:00:07.561735Z\", \"end_time\": \"2021-01-04T00:00:35.121245Z\", \"created_time\": \"2021-01-04T00:00:07.44406Z\", \"created_time_dt\": \"2021-01-04T00:00:07.44406Z\", \"duration\": \"0:00:27\", \"iteration\": \"21\", \"goal\": \"r2_score_max\", \"run_name\": \"StandardScalerWrapper, RandomForest\", \"run_properties\": \"<azureml.automl.runtime.shared.model_wrappers.StandardScalerWrapper object at 0x7fc173479978\", \"primary_metric\": 0.60500887, \"best_metric\": 0.90259215}, {\"run_id\": \"AutoML_a2b56ecc-3710-4d64-b351-ee6241c50fa5_22\", \"run_number\": 24, \"metric\": null, \"status\": \"Completed\", \"run_type\": null, \"training_percent\": \"100\", \"start_time\": \"2021-01-04T00:00:37.127316Z\", \"end_time\": \"2021-01-04T00:01:04.910761Z\", \"created_time\": \"2021-01-04T00:00:37.016511Z\", \"created_time_dt\": \"2021-01-04T00:00:37.016511Z\", \"duration\": \"0:00:27\", \"iteration\": \"22\", \"goal\": \"r2_score_max\", \"run_name\": \"MinMaxScaler, ExtremeRandomTrees\", \"run_properties\": \"copy=True, feature_range=(0, 1\", \"primary_metric\": 0.86787758, \"best_metric\": 0.90259215}, {\"run_id\": \"AutoML_a2b56ecc-3710-4d64-b351-ee6241c50fa5_23\", \"run_number\": 25, \"metric\": null, \"status\": \"Completed\", \"run_type\": null, \"training_percent\": \"100\", \"start_time\": \"2021-01-04T00:01:06.861141Z\", \"end_time\": \"2021-01-04T00:01:58.399699Z\", \"created_time\": \"2021-01-04T00:01:06.49502Z\", \"created_time_dt\": \"2021-01-04T00:01:06.49502Z\", \"duration\": \"0:00:51\", \"iteration\": \"23\", \"goal\": \"r2_score_max\", \"run_name\": \"MinMaxScaler, RandomForest\", \"run_properties\": \"copy=True, feature_range=(0, 1\", \"primary_metric\": 0.84763073, \"best_metric\": 0.90259215}, {\"run_id\": \"AutoML_a2b56ecc-3710-4d64-b351-ee6241c50fa5_24\", \"run_number\": 26, \"metric\": null, \"status\": \"Completed\", \"run_type\": null, \"training_percent\": \"100\", \"start_time\": \"2021-01-04T00:01:59.778326Z\", \"end_time\": \"2021-01-04T00:02:27.587072Z\", \"created_time\": \"2021-01-04T00:01:59.655023Z\", \"created_time_dt\": \"2021-01-04T00:01:59.655023Z\", \"duration\": \"0:00:27\", \"iteration\": \"24\", \"goal\": \"r2_score_max\", \"run_name\": \"RobustScaler, LightGBM\", \"run_properties\": \"copy=True, quantile_range=[10, 90], with_centering=False,\\n             with_scaling=True\", \"primary_metric\": 0.88926393, \"best_metric\": 0.90259215}, {\"run_id\": \"AutoML_a2b56ecc-3710-4d64-b351-ee6241c50fa5_25\", \"run_number\": 27, \"metric\": null, \"status\": \"Completed\", \"run_type\": null, \"training_percent\": \"100\", \"start_time\": \"2021-01-04T00:02:29.947879Z\", \"end_time\": \"2021-01-04T00:02:59.605519Z\", \"created_time\": \"2021-01-04T00:02:29.83329Z\", \"created_time_dt\": \"2021-01-04T00:02:29.83329Z\", \"duration\": \"0:00:29\", \"iteration\": \"25\", \"goal\": \"r2_score_max\", \"run_name\": \"MaxAbsScaler, ExtremeRandomTrees\", \"run_properties\": \"copy=True\", \"primary_metric\": 0.13101277, \"best_metric\": 0.90259215}, {\"run_id\": \"AutoML_a2b56ecc-3710-4d64-b351-ee6241c50fa5_26\", \"run_number\": 28, \"metric\": null, \"status\": \"Completed\", \"run_type\": null, \"training_percent\": \"100\", \"start_time\": \"2021-01-04T00:03:01.492662Z\", \"end_time\": \"2021-01-04T00:03:30.999684Z\", \"created_time\": \"2021-01-04T00:03:01.159882Z\", \"created_time_dt\": \"2021-01-04T00:03:01.159882Z\", \"duration\": \"0:00:29\", \"iteration\": \"26\", \"goal\": \"r2_score_max\", \"run_name\": \"MaxAbsScaler, ExtremeRandomTrees\", \"run_properties\": \"copy=True\", \"primary_metric\": 0.70351948, \"best_metric\": 0.90259215}, {\"run_id\": \"AutoML_a2b56ecc-3710-4d64-b351-ee6241c50fa5_27\", \"run_number\": 29, \"metric\": null, \"status\": \"Completed\", \"run_type\": null, \"training_percent\": \"100\", \"start_time\": \"2021-01-04T00:03:32.376307Z\", \"end_time\": \"2021-01-04T00:03:58.857649Z\", \"created_time\": \"2021-01-04T00:03:32.265269Z\", \"created_time_dt\": \"2021-01-04T00:03:32.265269Z\", \"duration\": \"0:00:26\", \"iteration\": \"27\", \"goal\": \"r2_score_max\", \"run_name\": \"MinMaxScaler, RandomForest\", \"run_properties\": \"copy=True, feature_range=(0, 1\", \"primary_metric\": 0.63103156, \"best_metric\": 0.90259215}, {\"run_id\": \"AutoML_a2b56ecc-3710-4d64-b351-ee6241c50fa5_28\", \"run_number\": 30, \"metric\": null, \"status\": \"Completed\", \"run_type\": null, \"training_percent\": \"100\", \"start_time\": \"2021-01-04T00:04:00.433847Z\", \"end_time\": \"2021-01-04T00:04:26.949131Z\", \"created_time\": \"2021-01-04T00:04:00.314416Z\", \"created_time_dt\": \"2021-01-04T00:04:00.314416Z\", \"duration\": \"0:00:26\", \"iteration\": \"28\", \"goal\": \"r2_score_max\", \"run_name\": \"MaxAbsScaler, LightGBM\", \"run_properties\": \"copy=True\", \"primary_metric\": 0.73161729, \"best_metric\": 0.90259215}, {\"run_id\": \"AutoML_a2b56ecc-3710-4d64-b351-ee6241c50fa5_29\", \"run_number\": 31, \"metric\": null, \"status\": \"Completed\", \"run_type\": null, \"training_percent\": \"100\", \"start_time\": \"2021-01-04T00:04:27.311293Z\", \"end_time\": \"2021-01-04T00:04:53.980267Z\", \"created_time\": \"2021-01-04T00:04:27.199208Z\", \"created_time_dt\": \"2021-01-04T00:04:27.199208Z\", \"duration\": \"0:00:26\", \"iteration\": \"29\", \"goal\": \"r2_score_max\", \"run_name\": \"VotingEnsemble\", \"run_properties\": \"estimators=[('14',\\n                                          Pipeline(memory=None,\\n                                                   steps=[('minmaxscaler',\\n                                                           MinMaxScaler(copy=True,\\n                                                                        feature_range=(0,\\n                                                                                       1\", \"primary_metric\": 0.90782125, \"best_metric\": 0.90782125}, {\"run_id\": \"AutoML_a2b56ecc-3710-4d64-b351-ee6241c50fa5_30\", \"run_number\": 32, \"metric\": null, \"status\": \"Completed\", \"run_type\": null, \"training_percent\": \"100\", \"start_time\": \"2021-01-04T00:04:54.699699Z\", \"end_time\": \"2021-01-04T00:05:31.875961Z\", \"created_time\": \"2021-01-04T00:04:54.587365Z\", \"created_time_dt\": \"2021-01-04T00:04:54.587365Z\", \"duration\": \"0:00:37\", \"iteration\": \"30\", \"goal\": \"r2_score_max\", \"run_name\": \"StackEnsemble\", \"run_properties\": \"base_learners=[('14',\\n                                       Pipeline(memory=None,\\n                                                steps=[('minmaxscaler',\\n                                                        MinMaxScaler(copy=True,\\n                                                                     feature_range=(0,\\n                                                                                    1\", \"primary_metric\": 0.90958081, \"best_metric\": 0.90958081}], \"children_metrics\": {\"categories\": [0], \"series\": {\"root_mean_squared_error\": [{\"categories\": [\"0\", \"1\", \"2\", \"3\", \"4\", \"5\", \"6\", \"7\", \"8\", \"9\", \"10\", \"11\", \"12\", \"13\", \"14\", \"15\", \"16\", \"17\", \"18\", \"19\", \"20\", \"21\", \"22\", \"23\", \"24\", \"25\", \"26\", \"27\", \"28\", \"29\", \"30\"], \"mode\": \"markers\", \"name\": \"root_mean_squared_error\", \"stepped\": false, \"type\": \"scatter\", \"data\": [3.672080363445114, 4.7636373389324005, 5.121520604029229, 4.823121882672136, 3.512054871520857, 7.837286311561276, 4.721406828312742, 3.615521359499173, 3.50484539127409, 8.243283444454939, 3.958157609091073, 4.92910335763161, 8.677121125172697, 7.69573060237482, 3.3266551588620312, 8.07989881763814, 3.765644888704276, 8.282402076256517, 6.802468018265308, 5.029121529307443, 7.823159403988892, 6.707712223840218, 3.878606285453435, 4.155129757064706, 3.5470579480659485, 9.950011495438162, 5.811651922616029, 6.483415366452646, 5.529795909243407, 3.235175681316671, 3.203100337344124]}, {\"categories\": [\"0\", \"1\", \"2\", \"3\", \"4\", \"5\", \"6\", \"7\", \"8\", \"9\", \"10\", \"11\", \"12\", \"13\", \"14\", \"15\", \"16\", \"17\", \"18\", \"19\", \"20\", \"21\", \"22\", \"23\", \"24\", \"25\", \"26\", \"27\", \"28\", \"29\", \"30\"], \"mode\": \"lines\", \"name\": \"root_mean_squared_error_min\", \"stepped\": true, \"type\": \"scatter\", \"data\": [3.672080363445114, 3.672080363445114, 3.672080363445114, 3.672080363445114, 3.512054871520857, 3.512054871520857, 3.512054871520857, 3.512054871520857, 3.50484539127409, 3.50484539127409, 3.50484539127409, 3.50484539127409, 3.50484539127409, 3.50484539127409, 3.3266551588620312, 3.3266551588620312, 3.3266551588620312, 3.3266551588620312, 3.3266551588620312, 3.3266551588620312, 3.3266551588620312, 3.3266551588620312, 3.3266551588620312, 3.3266551588620312, 3.3266551588620312, 3.3266551588620312, 3.3266551588620312, 3.3266551588620312, 3.3266551588620312, 3.235175681316671, 3.203100337344124]}], \"root_mean_squared_log_error\": [{\"categories\": [\"0\", \"1\", \"2\", \"3\", \"4\", \"5\", \"6\", \"7\", \"8\", \"9\", \"10\", \"11\", \"12\", \"13\", \"14\", \"15\", \"16\", \"17\", \"18\", \"19\", \"20\", \"21\", \"22\", \"23\", \"24\", \"25\", \"26\", \"27\", \"28\", \"29\", \"30\"], \"mode\": \"markers\", \"name\": \"root_mean_squared_log_error\", \"stepped\": false, \"type\": \"scatter\", \"data\": [0.04115870089163019, 0.053725808824542955, 0.05758784805883468, 0.05460421815691677, 0.03928869926928979, 0.0899137091012079, 0.052924558986238414, 0.04033669599190164, 0.03876210105304503, 0.0950049509258271, 0.04474947848439959, 0.05611459610363262, 0.09448345925120809, 0.08788536721687444, 0.03682146924767837, 0.09308128316643095, 0.041761659876775596, 0.09541729457588898, 0.07783016232486553, 0.056595224474872995, 0.08963338035438467, 0.07714688759294973, 0.04348062989717467, 0.04705555924699426, 0.03963371230336211, 0.1138333633941651, 0.06669646182604778, 0.07416186816991942, 0.0626648024939069, 0.03584561966545113, 0.03539667024278819]}, {\"categories\": [\"0\", \"1\", \"2\", \"3\", \"4\", \"5\", \"6\", \"7\", \"8\", \"9\", \"10\", \"11\", \"12\", \"13\", \"14\", \"15\", \"16\", \"17\", \"18\", \"19\", \"20\", \"21\", \"22\", \"23\", \"24\", \"25\", \"26\", \"27\", \"28\", \"29\", \"30\"], \"mode\": \"lines\", \"name\": \"root_mean_squared_log_error_min\", \"stepped\": true, \"type\": \"scatter\", \"data\": [0.04115870089163019, 0.04115870089163019, 0.04115870089163019, 0.04115870089163019, 0.03928869926928979, 0.03928869926928979, 0.03928869926928979, 0.03928869926928979, 0.03876210105304503, 0.03876210105304503, 0.03876210105304503, 0.03876210105304503, 0.03876210105304503, 0.03876210105304503, 0.03682146924767837, 0.03682146924767837, 0.03682146924767837, 0.03682146924767837, 0.03682146924767837, 0.03682146924767837, 0.03682146924767837, 0.03682146924767837, 0.03682146924767837, 0.03682146924767837, 0.03682146924767837, 0.03682146924767837, 0.03682146924767837, 0.03682146924767837, 0.03682146924767837, 0.03584561966545113, 0.03539667024278819]}], \"normalized_mean_absolute_error\": [{\"categories\": [\"0\", \"1\", \"2\", \"3\", \"4\", \"5\", \"6\", \"7\", \"8\", \"9\", \"10\", \"11\", \"12\", \"13\", \"14\", \"15\", \"16\", \"17\", \"18\", \"19\", \"20\", \"21\", \"22\", \"23\", \"24\", \"25\", \"26\", \"27\", \"28\", \"29\", \"30\"], \"mode\": \"markers\", \"name\": \"normalized_mean_absolute_error\", \"stepped\": false, \"type\": \"scatter\", \"data\": [0.08002286219762235, 0.12199314303569131, 0.13191769780045023, 0.12224972345034613, 0.07178036603337322, 0.21869192273067575, 0.1146848690619658, 0.08091157282230745, 0.07886785723151299, 0.2284397404420638, 0.09541549456758269, 0.12618919422763739, 0.26585128590673585, 0.21776603336558384, 0.06854894557919917, 0.21820767369504923, 0.0875509166664371, 0.2289950344498929, 0.17941712781817695, 0.12401517731734833, 0.21861866646998382, 0.1856151123661861, 0.09354700625262469, 0.096965482489292, 0.0788779963373703, 0.32349361148030037, 0.15642900273648266, 0.16856507807686594, 0.14744841379059903, 0.0688853132558196, 0.07081301662806881]}, {\"categories\": [\"0\", \"1\", \"2\", \"3\", \"4\", \"5\", \"6\", \"7\", \"8\", \"9\", \"10\", \"11\", \"12\", \"13\", \"14\", \"15\", \"16\", \"17\", \"18\", \"19\", \"20\", \"21\", \"22\", \"23\", \"24\", \"25\", \"26\", \"27\", \"28\", \"29\", \"30\"], \"mode\": \"lines\", \"name\": \"normalized_mean_absolute_error_min\", \"stepped\": true, \"type\": \"scatter\", \"data\": [0.08002286219762235, 0.08002286219762235, 0.08002286219762235, 0.08002286219762235, 0.07178036603337322, 0.07178036603337322, 0.07178036603337322, 0.07178036603337322, 0.07178036603337322, 0.07178036603337322, 0.07178036603337322, 0.07178036603337322, 0.07178036603337322, 0.07178036603337322, 0.06854894557919917, 0.06854894557919917, 0.06854894557919917, 0.06854894557919917, 0.06854894557919917, 0.06854894557919917, 0.06854894557919917, 0.06854894557919917, 0.06854894557919917, 0.06854894557919917, 0.06854894557919917, 0.06854894557919917, 0.06854894557919917, 0.06854894557919917, 0.06854894557919917, 0.06854894557919917, 0.06854894557919917]}], \"mean_absolute_error\": [{\"categories\": [\"0\", \"1\", \"2\", \"3\", \"4\", \"5\", \"6\", \"7\", \"8\", \"9\", \"10\", \"11\", \"12\", \"13\", \"14\", \"15\", \"16\", \"17\", \"18\", \"19\", \"20\", \"21\", \"22\", \"23\", \"24\", \"25\", \"26\", \"27\", \"28\", \"29\", \"30\"], \"mode\": \"markers\", \"name\": \"mean_absolute_error\", \"stepped\": false, \"type\": \"scatter\", \"data\": [2.160617279335803, 3.2938148619636656, 3.5617778406121565, 3.300742533159345, 1.9380698829010772, 5.904681913728246, 3.096491464673077, 2.184612466202301, 2.1294321452508504, 6.167872991935723, 2.5762183533247325, 3.4071082441462095, 7.177984719481867, 5.879682900870763, 1.8508215306383775, 5.89160718976633, 2.3638747499938018, 6.182865930147108, 4.844262451090778, 3.348409787568405, 5.902703994689563, 5.011608033887025, 2.5257691688208666, 2.6180680272108847, 2.1297059011089985, 8.734327509968109, 4.223583073885032, 4.55125710807538, 3.9811071723461744, 1.859903457907129, 1.9119514489578577]}, {\"categories\": [\"0\", \"1\", \"2\", \"3\", \"4\", \"5\", \"6\", \"7\", \"8\", \"9\", \"10\", \"11\", \"12\", \"13\", \"14\", \"15\", \"16\", \"17\", \"18\", \"19\", \"20\", \"21\", \"22\", \"23\", \"24\", \"25\", \"26\", \"27\", \"28\", \"29\", \"30\"], \"mode\": \"lines\", \"name\": \"mean_absolute_error_min\", \"stepped\": true, \"type\": \"scatter\", \"data\": [2.160617279335803, 2.160617279335803, 2.160617279335803, 2.160617279335803, 1.9380698829010772, 1.9380698829010772, 1.9380698829010772, 1.9380698829010772, 1.9380698829010772, 1.9380698829010772, 1.9380698829010772, 1.9380698829010772, 1.9380698829010772, 1.9380698829010772, 1.8508215306383775, 1.8508215306383775, 1.8508215306383775, 1.8508215306383775, 1.8508215306383775, 1.8508215306383775, 1.8508215306383775, 1.8508215306383775, 1.8508215306383775, 1.8508215306383775, 1.8508215306383775, 1.8508215306383775, 1.8508215306383775, 1.8508215306383775, 1.8508215306383775, 1.8508215306383775, 1.8508215306383775]}], \"normalized_median_absolute_error\": [{\"categories\": [\"0\", \"1\", \"2\", \"3\", \"4\", \"5\", \"6\", \"7\", \"8\", \"9\", \"10\", \"11\", \"12\", \"13\", \"14\", \"15\", \"16\", \"17\", \"18\", \"19\", \"20\", \"21\", \"22\", \"23\", \"24\", \"25\", \"26\", \"27\", \"28\", \"29\", \"30\"], \"mode\": \"markers\", \"name\": \"normalized_median_absolute_error\", \"stepped\": false, \"type\": \"scatter\", \"data\": [0.03543769042858441, 0.07859839922116127, 0.08648267204378857, 0.085511243654529, 0.02688881202980324, 0.16541169476970427, 0.07380622498065835, 0.03944114402488426, 0.033944435879621225, 0.17645039114554797, 0.058113739729297315, 0.08765069877786841, 0.2653749254014757, 0.16694672799552243, 0.02222222222222219, 0.176828516683181, 0.044292391079428416, 0.17703577328705636, 0.13370900779446884, 0.09348227512207564, 0.16591958491746786, 0.14249258951169944, 0.059906041027125594, 0.05290123456790119, 0.039037282028591795, 0.31551098487415286, 0.12207264055606742, 0.09380747752825219, 0.09434647912745518, 0.0265577836227414, 0.026270734627780606]}, {\"categories\": [\"0\", \"1\", \"2\", \"3\", \"4\", \"5\", \"6\", \"7\", \"8\", \"9\", \"10\", \"11\", \"12\", \"13\", \"14\", \"15\", \"16\", \"17\", \"18\", \"19\", \"20\", \"21\", \"22\", \"23\", \"24\", \"25\", \"26\", \"27\", \"28\", \"29\", \"30\"], \"mode\": \"lines\", \"name\": \"normalized_median_absolute_error_min\", \"stepped\": true, \"type\": \"scatter\", \"data\": [0.03543769042858441, 0.03543769042858441, 0.03543769042858441, 0.03543769042858441, 0.02688881202980324, 0.02688881202980324, 0.02688881202980324, 0.02688881202980324, 0.02688881202980324, 0.02688881202980324, 0.02688881202980324, 0.02688881202980324, 0.02688881202980324, 0.02688881202980324, 0.02222222222222219, 0.02222222222222219, 0.02222222222222219, 0.02222222222222219, 0.02222222222222219, 0.02222222222222219, 0.02222222222222219, 0.02222222222222219, 0.02222222222222219, 0.02222222222222219, 0.02222222222222219, 0.02222222222222219, 0.02222222222222219, 0.02222222222222219, 0.02222222222222219, 0.02222222222222219, 0.02222222222222219]}], \"spearman_correlation\": [{\"categories\": [\"0\", \"1\", \"2\", \"3\", \"4\", \"5\", \"6\", \"7\", \"8\", \"9\", \"10\", \"11\", \"12\", \"13\", \"14\", \"15\", \"16\", \"17\", \"18\", \"19\", \"20\", \"21\", \"22\", \"23\", \"24\", \"25\", \"26\", \"27\", \"28\", \"29\", \"30\"], \"mode\": \"markers\", \"name\": \"spearman_correlation\", \"stepped\": false, \"type\": \"scatter\", \"data\": [0.8862559170277914, 0.866078811050563, 0.8510101326642262, 0.8674023762598955, 0.8916724593987885, 0.6779688751443095, 0.8651157136954652, 0.890743298961355, 0.9123408987431773, 0.6105291621960669, 0.8911479547863336, 0.8702005355845789, 0.851949713004438, 0.6951359827606822, 0.915348950210355, 0.6735032797848622, 0.9064754449111878, 0.5813135688613418, 0.7920564112983012, 0.8566176471426736, 0.6738174260300486, 0.8190284831131821, 0.9071372754864684, 0.8890655487825893, 0.8910684468121753, 0.5660944797518584, 0.8718944445478843, 0.8094574605122834, 0.8487690848762869, 0.8984516026505247, 0.8986558482004038]}, {\"categories\": [\"0\", \"1\", \"2\", \"3\", \"4\", \"5\", \"6\", \"7\", \"8\", \"9\", \"10\", \"11\", \"12\", \"13\", \"14\", \"15\", \"16\", \"17\", \"18\", \"19\", \"20\", \"21\", \"22\", \"23\", \"24\", \"25\", \"26\", \"27\", \"28\", \"29\", \"30\"], \"mode\": \"lines\", \"name\": \"spearman_correlation_max\", \"stepped\": true, \"type\": \"scatter\", \"data\": [0.8862559170277914, 0.8862559170277914, 0.8862559170277914, 0.8862559170277914, 0.8916724593987885, 0.8916724593987885, 0.8916724593987885, 0.8916724593987885, 0.9123408987431773, 0.9123408987431773, 0.9123408987431773, 0.9123408987431773, 0.9123408987431773, 0.9123408987431773, 0.915348950210355, 0.915348950210355, 0.915348950210355, 0.915348950210355, 0.915348950210355, 0.915348950210355, 0.915348950210355, 0.915348950210355, 0.915348950210355, 0.915348950210355, 0.915348950210355, 0.915348950210355, 0.915348950210355, 0.915348950210355, 0.915348950210355, 0.915348950210355, 0.915348950210355]}], \"r2_score\": [{\"categories\": [\"0\", \"1\", \"2\", \"3\", \"4\", \"5\", \"6\", \"7\", \"8\", \"9\", \"10\", \"11\", \"12\", \"13\", \"14\", \"15\", \"16\", \"17\", \"18\", \"19\", \"20\", \"21\", \"22\", \"23\", \"24\", \"25\", \"26\", \"27\", \"28\", \"29\", \"30\"], \"mode\": \"markers\", \"name\": \"r2_score\", \"stepped\": false, \"type\": \"scatter\", \"data\": [0.8811436804843412, 0.8008184773719355, 0.7696160718277624, 0.7957092566553836, 0.891444457333774, 0.4609243823513897, 0.8043124745910744, 0.8849157617862048, 0.8919799022442381, 0.4035982922874317, 0.8620999681622803, 0.7863954097326755, 0.3388041069791952, 0.4802101193540053, 0.9025921462338693, 0.4270381970363995, 0.8754693403521777, 0.3979231330240151, 0.5938077003797306, 0.7780237412025958, 0.46286469289151144, 0.6050088684471915, 0.8678775814663737, 0.8476307298043548, 0.8892639260019309, 0.13101276557713845, 0.7035194802282633, 0.6310315630131331, 0.7316172856018311, 0.9078212514572925, 0.9095808060805313]}, {\"categories\": [\"0\", \"1\", \"2\", \"3\", \"4\", \"5\", \"6\", \"7\", \"8\", \"9\", \"10\", \"11\", \"12\", \"13\", \"14\", \"15\", \"16\", \"17\", \"18\", \"19\", \"20\", \"21\", \"22\", \"23\", \"24\", \"25\", \"26\", \"27\", \"28\", \"29\", \"30\"], \"mode\": \"lines\", \"name\": \"r2_score_max\", \"stepped\": true, \"type\": \"scatter\", \"data\": [0.8811436804843412, 0.8811436804843412, 0.8811436804843412, 0.8811436804843412, 0.891444457333774, 0.891444457333774, 0.891444457333774, 0.891444457333774, 0.8919799022442381, 0.8919799022442381, 0.8919799022442381, 0.8919799022442381, 0.8919799022442381, 0.8919799022442381, 0.9025921462338693, 0.9025921462338693, 0.9025921462338693, 0.9025921462338693, 0.9025921462338693, 0.9025921462338693, 0.9025921462338693, 0.9025921462338693, 0.9025921462338693, 0.9025921462338693, 0.9025921462338693, 0.9025921462338693, 0.9025921462338693, 0.9025921462338693, 0.9025921462338693, 0.9078212514572925, 0.9095808060805313]}], \"mean_absolute_percentage_error\": [{\"categories\": [\"0\", \"1\", \"2\", \"3\", \"4\", \"5\", \"6\", \"7\", \"8\", \"9\", \"10\", \"11\", \"12\", \"13\", \"14\", \"15\", \"16\", \"17\", \"18\", \"19\", \"20\", \"21\", \"22\", \"23\", \"24\", \"25\", \"26\", \"27\", \"28\", \"29\", \"30\"], \"mode\": \"markers\", \"name\": \"mean_absolute_percentage_error\", \"stepped\": false, \"type\": \"scatter\", \"data\": [2.450799905035118, 3.768673190156766, 4.034126693310907, 3.811055101971876, 2.191939347611967, 6.870699576179381, 3.546767992881153, 2.4624378793909094, 2.403731778429149, 7.249491285999189, 2.9695880068415357, 3.9482514376969813, 7.540486472406997, 6.785604449274694, 2.0805770167297437, 6.939673035751728, 2.679091248693409, 7.263904503851113, 5.653875634824977, 3.8559675387882772, 6.84752116116396, 5.85371989761844, 2.9007670740568545, 3.020369839716709, 2.406861058166175, 10.156280330493004, 4.932973288983182, 5.31859897140411, 4.569497611869697, 2.090925138680745, 2.126160016901466]}, {\"categories\": [\"0\", \"1\", \"2\", \"3\", \"4\", \"5\", \"6\", \"7\", \"8\", \"9\", \"10\", \"11\", \"12\", \"13\", \"14\", \"15\", \"16\", \"17\", \"18\", \"19\", \"20\", \"21\", \"22\", \"23\", \"24\", \"25\", \"26\", \"27\", \"28\", \"29\", \"30\"], \"mode\": \"lines\", \"name\": \"mean_absolute_percentage_error_min\", \"stepped\": true, \"type\": \"scatter\", \"data\": [2.450799905035118, 2.450799905035118, 2.450799905035118, 2.450799905035118, 2.191939347611967, 2.191939347611967, 2.191939347611967, 2.191939347611967, 2.191939347611967, 2.191939347611967, 2.191939347611967, 2.191939347611967, 2.191939347611967, 2.191939347611967, 2.0805770167297437, 2.0805770167297437, 2.0805770167297437, 2.0805770167297437, 2.0805770167297437, 2.0805770167297437, 2.0805770167297437, 2.0805770167297437, 2.0805770167297437, 2.0805770167297437, 2.0805770167297437, 2.0805770167297437, 2.0805770167297437, 2.0805770167297437, 2.0805770167297437, 2.0805770167297437, 2.0805770167297437]}], \"median_absolute_error\": [{\"categories\": [\"0\", \"1\", \"2\", \"3\", \"4\", \"5\", \"6\", \"7\", \"8\", \"9\", \"10\", \"11\", \"12\", \"13\", \"14\", \"15\", \"16\", \"17\", \"18\", \"19\", \"20\", \"21\", \"22\", \"23\", \"24\", \"25\", \"26\", \"27\", \"28\", \"29\", \"30\"], \"mode\": \"markers\", \"name\": \"median_absolute_error\", \"stepped\": false, \"type\": \"scatter\", \"data\": [0.9568176415717792, 2.122156778971354, 2.3350321451822915, 2.3088035786722827, 0.7259979248046875, 4.466115758782014, 1.9927680744777756, 1.064910888671875, 0.9164997687497731, 4.7641605609297955, 1.5690709726910275, 2.366568867002447, 7.165122985839844, 4.507561655879106, 0.5999999999999991, 4.774369950445887, 1.1958945591445673, 4.779965878750521, 3.6101432104506586, 2.524021428296043, 4.479828792771632, 3.847299916815885, 1.6174631077323909, 1.4283333333333321, 1.0540066147719784, 8.518796591602126, 3.29596129501382, 2.532801893262809, 2.5473549364412897, 0.7170601578140179, 0.7093098349500764]}, {\"categories\": [\"0\", \"1\", \"2\", \"3\", \"4\", \"5\", \"6\", \"7\", \"8\", \"9\", \"10\", \"11\", \"12\", \"13\", \"14\", \"15\", \"16\", \"17\", \"18\", \"19\", \"20\", \"21\", \"22\", \"23\", \"24\", \"25\", \"26\", \"27\", \"28\", \"29\", \"30\"], \"mode\": \"lines\", \"name\": \"median_absolute_error_min\", \"stepped\": true, \"type\": \"scatter\", \"data\": [0.9568176415717792, 0.9568176415717792, 0.9568176415717792, 0.9568176415717792, 0.7259979248046875, 0.7259979248046875, 0.7259979248046875, 0.7259979248046875, 0.7259979248046875, 0.7259979248046875, 0.7259979248046875, 0.7259979248046875, 0.7259979248046875, 0.7259979248046875, 0.5999999999999991, 0.5999999999999991, 0.5999999999999991, 0.5999999999999991, 0.5999999999999991, 0.5999999999999991, 0.5999999999999991, 0.5999999999999991, 0.5999999999999991, 0.5999999999999991, 0.5999999999999991, 0.5999999999999991, 0.5999999999999991, 0.5999999999999991, 0.5999999999999991, 0.5999999999999991, 0.5999999999999991]}], \"normalized_root_mean_squared_error\": [{\"categories\": [\"0\", \"1\", \"2\", \"3\", \"4\", \"5\", \"6\", \"7\", \"8\", \"9\", \"10\", \"11\", \"12\", \"13\", \"14\", \"15\", \"16\", \"17\", \"18\", \"19\", \"20\", \"21\", \"22\", \"23\", \"24\", \"25\", \"26\", \"27\", \"28\", \"29\", \"30\"], \"mode\": \"markers\", \"name\": \"normalized_root_mean_squared_error\", \"stepped\": false, \"type\": \"scatter\", \"data\": [0.1360029764238931, 0.1764310125530519, 0.18968594829737884, 0.17863414380267165, 0.13007610635262434, 0.2902698633911584, 0.17486691956713862, 0.13390819849996935, 0.12980908856570705, 0.30530679423907175, 0.14659842996633607, 0.18255938361598556, 0.3213748564878776, 0.28502705934721556, 0.12320945032822339, 0.29925551176437554, 0.1394683292112695, 0.30675563245394505, 0.2519432599357521, 0.18626376034472011, 0.2897466445921812, 0.24843378606815625, 0.1436520846464235, 0.1538936947061002, 0.13137251659503515, 0.3685189442754875, 0.21524636750429735, 0.2401264950538017, 0.2048072558979039, 0.11982132153024706, 0.11863334582756013]}, {\"categories\": [\"0\", \"1\", \"2\", \"3\", \"4\", \"5\", \"6\", \"7\", \"8\", \"9\", \"10\", \"11\", \"12\", \"13\", \"14\", \"15\", \"16\", \"17\", \"18\", \"19\", \"20\", \"21\", \"22\", \"23\", \"24\", \"25\", \"26\", \"27\", \"28\", \"29\", \"30\"], \"mode\": \"lines\", \"name\": \"normalized_root_mean_squared_error_min\", \"stepped\": true, \"type\": \"scatter\", \"data\": [0.1360029764238931, 0.1360029764238931, 0.1360029764238931, 0.1360029764238931, 0.13007610635262434, 0.13007610635262434, 0.13007610635262434, 0.13007610635262434, 0.12980908856570705, 0.12980908856570705, 0.12980908856570705, 0.12980908856570705, 0.12980908856570705, 0.12980908856570705, 0.12320945032822339, 0.12320945032822339, 0.12320945032822339, 0.12320945032822339, 0.12320945032822339, 0.12320945032822339, 0.12320945032822339, 0.12320945032822339, 0.12320945032822339, 0.12320945032822339, 0.12320945032822339, 0.12320945032822339, 0.12320945032822339, 0.12320945032822339, 0.12320945032822339, 0.11982132153024706, 0.11863334582756013]}], \"explained_variance\": [{\"categories\": [\"0\", \"1\", \"2\", \"3\", \"4\", \"5\", \"6\", \"7\", \"8\", \"9\", \"10\", \"11\", \"12\", \"13\", \"14\", \"15\", \"16\", \"17\", \"18\", \"19\", \"20\", \"21\", \"22\", \"23\", \"24\", \"25\", \"26\", \"27\", \"28\", \"29\", \"30\"], \"mode\": \"markers\", \"name\": \"explained_variance\", \"stepped\": false, \"type\": \"scatter\", \"data\": [0.8813922769545574, 0.8019062090139869, 0.7709289842916821, 0.796418758001443, 0.8917091056600984, 0.4613015186537181, 0.8050854927626873, 0.8853745532442613, 0.8921405576248495, 0.40425980331050787, 0.8624278468138814, 0.7870668556577574, 0.7468579442185256, 0.4806492871197327, 0.9027525558897134, 0.42810278001226426, 0.8758322576333814, 0.39858145613305895, 0.5946402392556862, 0.7789734813479096, 0.463224522367168, 0.6063862107357858, 0.8680920164076599, 0.8479480457387876, 0.8896387459851046, 0.132836724804295, 0.7043300610469108, 0.6324378103597393, 0.7332738582006173, 0.908022282431701, 0.9099445231651554]}, {\"categories\": [\"0\", \"1\", \"2\", \"3\", \"4\", \"5\", \"6\", \"7\", \"8\", \"9\", \"10\", \"11\", \"12\", \"13\", \"14\", \"15\", \"16\", \"17\", \"18\", \"19\", \"20\", \"21\", \"22\", \"23\", \"24\", \"25\", \"26\", \"27\", \"28\", \"29\", \"30\"], \"mode\": \"lines\", \"name\": \"explained_variance_max\", \"stepped\": true, \"type\": \"scatter\", \"data\": [0.8813922769545574, 0.8813922769545574, 0.8813922769545574, 0.8813922769545574, 0.8917091056600984, 0.8917091056600984, 0.8917091056600984, 0.8917091056600984, 0.8921405576248495, 0.8921405576248495, 0.8921405576248495, 0.8921405576248495, 0.8921405576248495, 0.8921405576248495, 0.9027525558897134, 0.9027525558897134, 0.9027525558897134, 0.9027525558897134, 0.9027525558897134, 0.9027525558897134, 0.9027525558897134, 0.9027525558897134, 0.9027525558897134, 0.9027525558897134, 0.9027525558897134, 0.9027525558897134, 0.9027525558897134, 0.9027525558897134, 0.9027525558897134, 0.908022282431701, 0.9099445231651554]}], \"normalized_root_mean_squared_log_error\": [{\"categories\": [\"0\", \"1\", \"2\", \"3\", \"4\", \"5\", \"6\", \"7\", \"8\", \"9\", \"10\", \"11\", \"12\", \"13\", \"14\", \"15\", \"16\", \"17\", \"18\", \"19\", \"20\", \"21\", \"22\", \"23\", \"24\", \"25\", \"26\", \"27\", \"28\", \"29\", \"30\"], \"mode\": \"markers\", \"name\": \"normalized_root_mean_squared_log_error\", \"stepped\": false, \"type\": \"scatter\", \"data\": [0.13231950888485458, 0.17272101606955123, 0.1851369360015489, 0.17554498011461694, 0.1263077133004055, 0.28906009112418046, 0.1701451090850797, 0.12967687725954147, 0.12461477314817349, 0.30542772672136315, 0.1438633603013751, 0.18040063551215155, 0.3037512033914647, 0.2825392535814153, 0.11837591133160286, 0.29924340195729643, 0.1342579383071587, 0.3067533543064425, 0.25021316592013615, 0.18194578899515626, 0.2881588731240394, 0.24801653252301847, 0.1397841882606223, 0.15127708977643217, 0.12741688230327378, 0.3659584586667582, 0.2144198646214985, 0.2384201095186315, 0.2014586396250019, 0.11523869041188091, 0.11379538035024149]}, {\"categories\": [\"0\", \"1\", \"2\", \"3\", \"4\", \"5\", \"6\", \"7\", \"8\", \"9\", \"10\", \"11\", \"12\", \"13\", \"14\", \"15\", \"16\", \"17\", \"18\", \"19\", \"20\", \"21\", \"22\", \"23\", \"24\", \"25\", \"26\", \"27\", \"28\", \"29\", \"30\"], \"mode\": \"lines\", \"name\": \"normalized_root_mean_squared_log_error_min\", \"stepped\": true, \"type\": \"scatter\", \"data\": [0.13231950888485458, 0.13231950888485458, 0.13231950888485458, 0.13231950888485458, 0.1263077133004055, 0.1263077133004055, 0.1263077133004055, 0.1263077133004055, 0.12461477314817349, 0.12461477314817349, 0.12461477314817349, 0.12461477314817349, 0.12461477314817349, 0.12461477314817349, 0.11837591133160286, 0.11837591133160286, 0.11837591133160286, 0.11837591133160286, 0.11837591133160286, 0.11837591133160286, 0.11837591133160286, 0.11837591133160286, 0.11837591133160286, 0.11837591133160286, 0.11837591133160286, 0.11837591133160286, 0.11837591133160286, 0.11837591133160286, 0.11837591133160286, 0.11523869041188091, 0.11379538035024149]}]}, \"metricName\": null, \"primaryMetricName\": \"r2_score\", \"showLegend\": false}, \"run_metrics\": [{\"name\": \"root_mean_squared_log_error\", \"run_id\": \"AutoML_a2b56ecc-3710-4d64-b351-ee6241c50fa5\", \"categories\": [0], \"series\": [{\"data\": [0.03539667024278819]}]}, {\"name\": \"normalized_root_mean_squared_log_error\", \"run_id\": \"AutoML_a2b56ecc-3710-4d64-b351-ee6241c50fa5\", \"categories\": [0], \"series\": [{\"data\": [0.11379538035024149]}]}, {\"name\": \"median_absolute_error\", \"run_id\": \"AutoML_a2b56ecc-3710-4d64-b351-ee6241c50fa5\", \"categories\": [0], \"series\": [{\"data\": [0.7093098349500764]}]}, {\"name\": \"explained_variance\", \"run_id\": \"AutoML_a2b56ecc-3710-4d64-b351-ee6241c50fa5\", \"categories\": [0], \"series\": [{\"data\": [0.9099445231651554]}]}, {\"name\": \"mean_absolute_percentage_error\", \"run_id\": \"AutoML_a2b56ecc-3710-4d64-b351-ee6241c50fa5\", \"categories\": [0], \"series\": [{\"data\": [2.126160016901466]}]}, {\"name\": \"normalized_median_absolute_error\", \"run_id\": \"AutoML_a2b56ecc-3710-4d64-b351-ee6241c50fa5\", \"categories\": [0], \"series\": [{\"data\": [0.026270734627780606]}]}, {\"name\": \"mean_absolute_error\", \"run_id\": \"AutoML_a2b56ecc-3710-4d64-b351-ee6241c50fa5\", \"categories\": [0], \"series\": [{\"data\": [1.9119514489578577]}]}, {\"name\": \"root_mean_squared_error\", \"run_id\": \"AutoML_a2b56ecc-3710-4d64-b351-ee6241c50fa5\", \"categories\": [0], \"series\": [{\"data\": [3.203100337344124]}]}, {\"name\": \"r2_score\", \"run_id\": \"AutoML_a2b56ecc-3710-4d64-b351-ee6241c50fa5\", \"categories\": [0], \"series\": [{\"data\": [0.9095808060805313]}]}, {\"name\": \"spearman_correlation\", \"run_id\": \"AutoML_a2b56ecc-3710-4d64-b351-ee6241c50fa5\", \"categories\": [0], \"series\": [{\"data\": [0.8986558482004038]}]}, {\"name\": \"normalized_mean_absolute_error\", \"run_id\": \"AutoML_a2b56ecc-3710-4d64-b351-ee6241c50fa5\", \"categories\": [0], \"series\": [{\"data\": [0.07081301662806881]}]}, {\"name\": \"normalized_root_mean_squared_error\", \"run_id\": \"AutoML_a2b56ecc-3710-4d64-b351-ee6241c50fa5\", \"categories\": [0], \"series\": [{\"data\": [0.11863334582756013]}]}], \"run_logs\": \"\\nRun is completed.\", \"graph\": {}, \"widget_settings\": {\"childWidgetDisplay\": \"popup\", \"send_telemetry\": false, \"log_level\": \"INFO\", \"sdk_version\": \"1.19.0\"}, \"loading\": false}"
     },
     "metadata": {},
     "output_type": "display_data"
    },
    {
     "name": "stdout",
     "output_type": "stream",
     "text": [
      "\n",
      "****************************************************************************************************\n",
      "\n",
      "****************************************************************************************************\n",
      "ITERATION: The iteration being evaluated.\n",
      "PIPELINE: A summary description of the pipeline being evaluated.\n",
      "DURATION: Time taken for the current iteration.\n",
      "METRIC: The result of computing score on the fitted pipeline.\n",
      "BEST: The best observed score thus far.\n",
      "****************************************************************************************************\n",
      "\n",
      " ITERATION   PIPELINE                                       DURATION      METRIC      BEST\n",
      "         0   MaxAbsScaler LightGBM                          0:00:23       0.9955    0.9955\n",
      "         1   MaxAbsScaler XGBoostClassifier                 0:00:24       0.9935    0.9955\n",
      "         2   MinMaxScaler RandomForest                      0:00:32       0.9860    0.9955\n",
      "         3   RobustScaler ExtremeRandomTrees                0:00:26       0.9810    0.9955\n",
      "         4   MinMaxScaler RandomForest                      0:00:32       0.9883    0.9955\n",
      "         5   MinMaxScaler RandomForest                      0:00:26       0.9775    0.9955\n",
      "         6   StandardScalerWrapper RandomForest             0:00:32       0.9897    0.9955\n",
      "         7   MinMaxScaler ExtremeRandomTrees                0:00:30       0.9859    0.9955\n",
      "         8   MinMaxScaler ExtremeRandomTrees                0:00:27       0.9820    0.9955\n",
      "         9   SparseNormalizer KNN                           0:00:32       0.9832    0.9955\n",
      "        10   MinMaxScaler ExtremeRandomTrees                0:00:27       0.9806    0.9955\n",
      "        11   RobustScaler ExtremeRandomTrees                0:00:32       0.9813    0.9955\n",
      "        12   StandardScalerWrapper RandomForest             0:00:32       0.9801    0.9955\n",
      "        13   StandardScalerWrapper SGD                      0:00:23       0.9601    0.9955\n",
      "        14   RobustScaler RandomForest                      0:00:27       0.9821    0.9955\n",
      "        15   StandardScalerWrapper KNN                      0:00:27       0.9825    0.9955\n",
      "        16   MinMaxScaler RandomForest                      0:00:27       0.9741    0.9955\n",
      "        17   MinMaxScaler ExtremeRandomTrees                0:00:27       0.9682    0.9955\n",
      "        18   MaxAbsScaler RandomForest                      0:00:32       0.9760    0.9955\n",
      "        19   StandardScalerWrapper XGBoostClassifier        0:00:40       0.9885    0.9955\n",
      "        20   MaxAbsScaler RandomForest                      0:00:32       0.9847    0.9955\n",
      "        21   MaxAbsScaler ExtremeRandomTrees                0:00:26       0.9757    0.9955\n",
      "        22   StandardScalerWrapper SVM                      0:00:29       0.9570    0.9955\n",
      "        23   SparseNormalizer XGBoostClassifier             0:00:32       0.9908    0.9955\n",
      "        24   StandardScalerWrapper KNN                      0:00:33       0.9814    0.9955\n",
      "        25   MinMaxScaler LightGBM                          0:00:36       0.9665    0.9955\n",
      "        26   SparseNormalizer XGBoostClassifier             0:00:29       0.9937    0.9955\n",
      "        27   StandardScalerWrapper ExtremeRandomTrees       0:00:38       0.9833    0.9955\n",
      "        28   StandardScalerWrapper XGBoostClassifier        0:00:27       0.9937    0.9955\n",
      "        29    VotingEnsemble                                0:00:28       0.9951    0.9955\n",
      "        30    StackEnsemble                                 0:00:38       0.9947    0.9955\n"
     ]
    },
    {
     "data": {
      "text/plain": [
       "{'runId': 'AutoML_e8aa9c75-70ac-4155-b703-078574a2e461',\n",
       " 'target': 'local',\n",
       " 'status': 'Completed',\n",
       " 'startTimeUtc': '2021-01-04T00:31:56.500514Z',\n",
       " 'endTimeUtc': '2021-01-04T00:48:24.168908Z',\n",
       " 'properties': {'num_iterations': '1000',\n",
       "  'training_type': 'TrainFull',\n",
       "  'acquisition_function': 'EI',\n",
       "  'primary_metric': 'AUC_weighted',\n",
       "  'train_split': '0',\n",
       "  'acquisition_parameter': '0',\n",
       "  'num_cross_validation': '3',\n",
       "  'target': 'local',\n",
       "  'AMLSettingsJsonString': '{\"path\":null,\"name\":\"AutoRanga\",\"subscription_id\":\"f9d5a085-54dc-4215-9ba6-dad5d86e60a0\",\"resource_group\":\"aml-quickstarts-133227\",\"workspace_name\":\"quick-starts-ws-133227\",\"region\":\"southcentralus\",\"compute_target\":\"local\",\"spark_service\":null,\"azure_service\":\"Microsoft.AzureNotebookVM\",\"many_models\":false,\"pipeline_fetch_max_batch_size\":1,\"iterations\":1000,\"primary_metric\":\"AUC_weighted\",\"task_type\":\"classification\",\"data_script\":null,\"validation_size\":0.0,\"n_cross_validations\":3,\"y_min\":null,\"y_max\":null,\"num_classes\":2,\"featurization\":\"auto\",\"_ignore_package_version_incompatibilities\":false,\"is_timeseries\":false,\"max_cores_per_iteration\":1,\"max_concurrent_iterations\":1,\"iteration_timeout_minutes\":null,\"mem_in_mb\":null,\"enforce_time_on_windows\":false,\"experiment_timeout_minutes\":15,\"experiment_exit_score\":null,\"whitelist_models\":null,\"blacklist_algos\":[\"TensorFlowLinearClassifier\",\"TensorFlowDNN\"],\"supported_models\":[\"LogisticRegression\",\"SVM\",\"BernoulliNaiveBayes\",\"RandomForest\",\"LightGBM\",\"LinearSVM\",\"GradientBoosting\",\"KNN\",\"TensorFlowDNN\",\"TensorFlowLinearClassifier\",\"DecisionTree\",\"ExtremeRandomTrees\",\"XGBoostClassifier\",\"SGD\",\"AveragedPerceptronClassifier\",\"MultinomialNaiveBayes\"],\"auto_blacklist\":true,\"blacklist_samples_reached\":false,\"exclude_nan_labels\":true,\"verbosity\":20,\"_debug_log\":\"automl.log\",\"show_warnings\":false,\"model_explainability\":true,\"service_url\":null,\"sdk_url\":null,\"sdk_packages\":null,\"enable_onnx_compatible_models\":false,\"enable_split_onnx_featurizer_estimator_models\":false,\"vm_type\":null,\"telemetry_verbosity\":20,\"send_telemetry\":true,\"enable_dnn\":false,\"scenario\":\"SDK-1.13.0\",\"environment_label\":null,\"force_text_dnn\":false,\"enable_feature_sweeping\":true,\"enable_early_stopping\":false,\"early_stopping_n_iters\":10,\"metrics\":null,\"enable_ensembling\":true,\"enable_stack_ensembling\":true,\"ensemble_iterations\":15,\"enable_tf\":false,\"enable_subsampling\":null,\"subsample_seed\":null,\"enable_nimbusml\":false,\"enable_streaming\":false,\"force_streaming\":false,\"track_child_runs\":true,\"allowed_private_models\":[],\"label_column_name\":\"Stable Flag (only cat)\",\"weight_column_name\":null,\"cv_split_column_names\":null,\"enable_local_managed\":false,\"_local_managed_run_id\":null,\"cost_mode\":1,\"lag_length\":0,\"metric_operation\":\"maximize\",\"preprocess\":true}',\n",
       "  'DataPrepJsonString': None,\n",
       "  'EnableSubsampling': None,\n",
       "  'runTemplate': 'AutoML',\n",
       "  'azureml.runsource': 'automl',\n",
       "  'display_task_type': 'classification',\n",
       "  'dependencies_versions': '{\"azureml-widgets\": \"1.19.0\", \"azureml-train\": \"1.19.0\", \"azureml-train-restclients-hyperdrive\": \"1.19.0\", \"azureml-train-core\": \"1.19.0\", \"azureml-train-automl\": \"1.19.0\", \"azureml-train-automl-runtime\": \"1.19.0\", \"azureml-train-automl-client\": \"1.19.0\", \"azureml-tensorboard\": \"1.19.0\", \"azureml-telemetry\": \"1.19.0\", \"azureml-sdk\": \"1.19.0\", \"azureml-samples\": \"0+unknown\", \"azureml-pipeline\": \"1.19.0\", \"azureml-pipeline-steps\": \"1.19.0\", \"azureml-pipeline-core\": \"1.19.0\", \"azureml-opendatasets\": \"1.19.0\", \"azureml-model-management-sdk\": \"1.0.1b6.post1\", \"azureml-mlflow\": \"1.19.0\", \"azureml-interpret\": \"1.19.0\", \"azureml-explain-model\": \"1.19.0\", \"azureml-defaults\": \"1.19.0\", \"azureml-dataset-runtime\": \"1.19.0\", \"azureml-dataprep\": \"2.6.1\", \"azureml-dataprep-rslex\": \"1.4.0\", \"azureml-dataprep-native\": \"26.0.0\", \"azureml-datadrift\": \"1.19.0\", \"azureml-core\": \"1.19.0\", \"azureml-contrib-services\": \"1.19.0\", \"azureml-contrib-server\": \"1.19.0\", \"azureml-contrib-reinforcementlearning\": \"1.19.0\", \"azureml-contrib-pipeline-steps\": \"1.19.0\", \"azureml-contrib-notebook\": \"1.19.0\", \"azureml-contrib-interpret\": \"1.19.0\", \"azureml-contrib-gbdt\": \"1.19.0\", \"azureml-contrib-fairness\": \"1.19.0\", \"azureml-contrib-dataset\": \"1.19.0\", \"azureml-cli-common\": \"1.19.0\", \"azureml-automl-runtime\": \"1.19.0\", \"azureml-automl-core\": \"1.19.0\", \"azureml-accel-models\": \"1.19.0\"}',\n",
       "  '_aml_system_scenario_identification': 'Local.Parent',\n",
       "  'ClientSdkVersion': '1.19.0',\n",
       "  'ClientType': 'SDK',\n",
       "  'environment_cpu_name': 'AzureML-AutoML',\n",
       "  'environment_cpu_label': 'prod',\n",
       "  'environment_gpu_name': 'AzureML-AutoML-GPU',\n",
       "  'environment_gpu_label': 'prod',\n",
       "  'root_attribution': 'automl',\n",
       "  'attribution': 'AutoML',\n",
       "  'Orchestrator': 'AutoML',\n",
       "  '_azureml.ComputeTargetType': 'local',\n",
       "  'ProblemInfoJsonString': '{\"dataset_num_categorical\": 0, \"is_sparse\": false, \"subsampling\": false, \"dataset_classes\": 2, \"dataset_features\": 14, \"dataset_samples\": 2205, \"single_frequency_class_detected\": false}',\n",
       "  'feature_skus': 'automatedml_sdk_guardrails'},\n",
       " 'inputDatasets': [],\n",
       " 'outputDatasets': [],\n",
       " 'logFiles': {}}"
      ]
     },
     "execution_count": 33,
     "metadata": {},
     "output_type": "execute_result"
    }
   ],
   "source": [
    "automl_config_flag = AutoMLConfig(\n",
    "    experiment_timeout_minutes=15,\n",
    "    task='classification',\n",
    "    primary_metric='AUC_weighted',\n",
    "    training_data=ds_stableflag,\n",
    "    label_column_name='Stable Flag (only cat)',\n",
    "    n_cross_validations=3)\n",
    "\n",
    "autoexp = Experiment(workspace=ws,name='AutoRanga')\n",
    "remote_run_class = autoexp.submit(automl_config_flag)\n",
    "RunDetails(remote_run).show()\n",
    "remote_run_class.wait_for_completion(show_output=True)"
   ]
  },
  {
   "cell_type": "markdown",
   "metadata": {},
   "source": [
    "## Run Details\n",
    "\n",
    "The models trained feature a variety of preprocessing methods i.e. scaling to 0-1, scaling by max values, and normalization. After this preparation, a variety of models are fit. What we find is that simple stochastic gradient descents and decision trees are largely inadequate. Random Forest uses many more trees (the 'bagging' technique) with many leaves of equal weight. Not surprisingly, adding 'boosting' to bagging through XGBoost results in improved performance since we penalize leaves that don't improve model performance.\n",
    "TODO: In the cell below, use the `RunDetails` widget to show the different experiments."
   ]
  },
  {
   "cell_type": "markdown",
   "metadata": {},
   "source": [
    "## Best Model\n",
    "\n",
    "TODO: In the cell below, get the best model from the automl experiments and display all the properties of the model.\n",
    "\n"
   ]
  },
  {
   "cell_type": "code",
   "execution_count": 34,
   "metadata": {
    "gather": {
     "logged": 1609721708665
    },
    "jupyter": {
     "outputs_hidden": false,
     "source_hidden": false
    },
    "nteract": {
     "transient": {
      "deleting": false
     }
    }
   },
   "outputs": [],
   "source": [
    "best,fitted = remote_run.get_output()\n",
    "bestclass,fittedclass = remote_run_class.get_output()"
   ]
  },
  {
   "cell_type": "code",
   "execution_count": 35,
   "metadata": {
    "gather": {
     "logged": 1609721711716
    }
   },
   "outputs": [
    {
     "data": {
      "text/plain": [
       "('stackensembleregressor',\n",
       " StackEnsembleRegressor(base_learners=[('14',\n",
       "                                        Pipeline(memory=None,\n",
       "                                                 steps=[('minmaxscaler',\n",
       "                                                         MinMaxScaler(copy=True,\n",
       "                                                                      feature_range=(0,\n",
       "                                                                                     1))),\n",
       "                                                        ('extratreesregressor',\n",
       "                                                         ExtraTreesRegressor(bootstrap=False,\n",
       "                                                                             ccp_alpha=0.0,\n",
       "                                                                             criterion='mse',\n",
       "                                                                             max_depth=None,\n",
       "                                                                             max_features=None,\n",
       "                                                                             max_leaf_nodes=None,\n",
       "                                                                             max_samples=None,\n",
       "                                                                             min_impurity_decrease=0.0,\n",
       "                                                                             min_impurity_split=None,\n",
       "                                                                             min_samp...\n",
       "                                                                          silent=None,\n",
       "                                                                          subsample=0.9,\n",
       "                                                                          tree_method='auto',\n",
       "                                                                          verbose=-10,\n",
       "                                                                          verbosity=0))],\n",
       "                                                 verbose=False))],\n",
       "                        meta_learner=ElasticNetCV(alphas=None, copy_X=True,\n",
       "                                                  cv=None, eps=0.001,\n",
       "                                                  fit_intercept=True,\n",
       "                                                  l1_ratio=0.5, max_iter=1000,\n",
       "                                                  n_alphas=100, n_jobs=None,\n",
       "                                                  normalize=False,\n",
       "                                                  positive=False,\n",
       "                                                  precompute='auto',\n",
       "                                                  random_state=None,\n",
       "                                                  selection='cyclic', tol=0.0001,\n",
       "                                                  verbose=0),\n",
       "                        training_cv_folds=5))"
      ]
     },
     "execution_count": 35,
     "metadata": {},
     "output_type": "execute_result"
    }
   ],
   "source": [
    "fitted.steps[-1]"
   ]
  },
  {
   "cell_type": "code",
   "execution_count": 36,
   "metadata": {
    "collapsed": true,
    "gather": {
     "logged": 1609721719365
    },
    "jupyter": {
     "outputs_hidden": false,
     "source_hidden": false
    },
    "nteract": {
     "transient": {
      "deleting": false
     }
    }
   },
   "outputs": [
    {
     "data": {
      "text/plain": [
       "('LightGBMClassifier',\n",
       " LightGBMClassifier(boosting_type='gbdt', class_weight=None,\n",
       "                    colsample_bytree=1.0, importance_type='split',\n",
       "                    learning_rate=0.1, max_depth=-1, min_child_samples=20,\n",
       "                    min_child_weight=0.001, min_split_gain=0.0, n_estimators=100,\n",
       "                    n_jobs=1, num_leaves=31, objective=None, random_state=None,\n",
       "                    reg_alpha=0.0, reg_lambda=0.0, silent=True, subsample=1.0,\n",
       "                    subsample_for_bin=200000, subsample_freq=0, verbose=-10))"
      ]
     },
     "execution_count": 36,
     "metadata": {},
     "output_type": "execute_result"
    }
   ],
   "source": [
    "fittedclass.steps[-1]"
   ]
  },
  {
   "cell_type": "code",
   "execution_count": 37,
   "metadata": {
    "gather": {
     "logged": 1609721743473
    },
    "jupyter": {
     "outputs_hidden": false,
     "source_hidden": false
    },
    "nteract": {
     "transient": {
      "deleting": false
     }
    }
   },
   "outputs": [
    {
     "data": {
      "text/html": [
       "['best_automl_model_class.sav']"
      ],
      "text/plain": [
       "['best_automl_model_class.sav']"
      ]
     },
     "execution_count": 37,
     "metadata": {},
     "output_type": "execute_result"
    }
   ],
   "source": [
    "#TODO: Save the best model\n",
    "regrfilename = 'best_automl_model_regr.sav'\n",
    "classfilename = 'best_automl_model_class.sav'\n",
    "\n",
    "joblib.dump(fitted,regrfilename)\n",
    "joblib.dump(fittedclass,classfilename)"
   ]
  },
  {
   "cell_type": "markdown",
   "metadata": {},
   "source": [
    "## Model Deployment\n",
    "\n",
    "Remember you have to deploy only one of the two models you trained.. Perform the steps in the rest of this notebook only if you wish to deploy this model.\n",
    "\n",
    "TODO: In the cell below, register the model, create an inference config and deploy the model as a web service."
   ]
  },
  {
   "cell_type": "code",
   "execution_count": 38,
   "metadata": {
    "gather": {
     "logged": 1609721810571
    },
    "jupyter": {
     "outputs_hidden": false,
     "source_hidden": false
    },
    "nteract": {
     "transient": {
      "deleting": false
     }
    }
   },
   "outputs": [
    {
     "name": "stdout",
     "output_type": "stream",
     "text": [
      "Registering model registered_regr.sav\n",
      "Registering model registered_class.sav\n"
     ]
    }
   ],
   "source": [
    "registered_regr = Model.register(workspace=ws,model_path='./best_automl_model_class.sav',model_name='registered_regr.sav')\n",
    "registered_class = Model.register(workspace=ws,model_path='./best_automl_model_regr.sav',model_name='registered_class.sav')"
   ]
  },
  {
   "cell_type": "code",
   "execution_count": 40,
   "metadata": {
    "collapsed": true,
    "gather": {
     "logged": 1609722148634
    },
    "jupyter": {
     "outputs_hidden": false,
     "source_hidden": false
    },
    "nteract": {
     "transient": {
      "deleting": false
     }
    }
   },
   "outputs": [],
   "source": [
    "#Create inference config\n",
    "from azureml.core.environment import Environment\n",
    "from azureml.core.model import InferenceConfig\n",
    "\n",
    "env = Environment.get(workspace=ws,name='AzureML-AutoML')\n",
    "\n",
    "inferenceclass = InferenceConfig(entry_script='score_class.py',environment=env) \n",
    "inferenceregr = InferenceConfig(entry_script='score_regr.py',environment=env) \n",
    "\n",
    "#Deploy model and check service state\n",
    "from azureml.core.webservice import LocalWebservice, AciWebservice\n",
    "\n",
    "\n",
    "deployfinal = AciWebservice.deploy_configuration()"
   ]
  },
  {
   "cell_type": "code",
   "execution_count": 41,
   "metadata": {
    "collapsed": true,
    "gather": {
     "logged": 1609722569476
    },
    "jupyter": {
     "outputs_hidden": false,
     "source_hidden": false
    },
    "nteract": {
     "transient": {
      "deleting": false
     }
    }
   },
   "outputs": [
    {
     "name": "stdout",
     "output_type": "stream",
     "text": [
      "Tips: You can try get_logs(): https://aka.ms/debugimage#dockerlog or local deployment: https://aka.ms/debugimage#debug-locally to debug if deployment takes longer than 10 minutes.\n",
      "Running...................................................................\n",
      "Succeeded\n",
      "ACI service creation operation finished, operation \"Succeeded\"\n"
     ]
    }
   ],
   "source": [
    "svc_class = Model.deploy(workspace=ws,name='deployclass',models=[registered_class],inference_config=inferenceclass,deployment_config=deployfinal)\n",
    "svc_class.wait_for_deployment(show_output=True)"
   ]
  },
  {
   "cell_type": "code",
   "execution_count": 42,
   "metadata": {
    "collapsed": true,
    "gather": {
     "logged": 1609722818798
    },
    "jupyter": {
     "outputs_hidden": false,
     "source_hidden": false
    },
    "nteract": {
     "transient": {
      "deleting": false
     }
    }
   },
   "outputs": [
    {
     "name": "stdout",
     "output_type": "stream",
     "text": [
      "Tips: You can try get_logs(): https://aka.ms/debugimage#dockerlog or local deployment: https://aka.ms/debugimage#debug-locally to debug if deployment takes longer than 10 minutes.\n",
      "Running................................................\n",
      "Succeeded\n",
      "ACI service creation operation finished, operation \"Succeeded\"\n"
     ]
    }
   ],
   "source": [
    "svc_regr = Model.deploy(workspace=ws,name='deployregr',models=[registered_regr],inference_config=inferenceregr,deployment_config=deployfinal)\n",
    "svc_regr.wait_for_deployment(show_output=True)"
   ]
  },
  {
   "cell_type": "code",
   "execution_count": 43,
   "metadata": {
    "collapsed": true,
    "gather": {
     "logged": 1609722819950
    },
    "jupyter": {
     "outputs_hidden": false,
     "source_hidden": false
    },
    "nteract": {
     "transient": {
      "deleting": false
     }
    }
   },
   "outputs": [
    {
     "name": "stdout",
     "output_type": "stream",
     "text": [
      "Healthy\n"
     ]
    }
   ],
   "source": [
    "print(svc_regr.state)"
   ]
  },
  {
   "cell_type": "code",
   "execution_count": 44,
   "metadata": {
    "collapsed": true,
    "gather": {
     "logged": 1609722820345
    },
    "jupyter": {
     "outputs_hidden": false,
     "source_hidden": false
    },
    "nteract": {
     "transient": {
      "deleting": false
     }
    }
   },
   "outputs": [
    {
     "name": "stdout",
     "output_type": "stream",
     "text": [
      "Healthy\n"
     ]
    }
   ],
   "source": [
    "print(svc_class.state)"
   ]
  },
  {
   "cell_type": "code",
   "execution_count": 45,
   "metadata": {
    "collapsed": true,
    "gather": {
     "logged": 1609722820798
    },
    "jupyter": {
     "outputs_hidden": false,
     "source_hidden": false
    },
    "nteract": {
     "transient": {
      "deleting": false
     }
    }
   },
   "outputs": [
    {
     "name": "stdout",
     "output_type": "stream",
     "text": [
      "http://71fa7328-2d78-4ff9-96bb-dad118b7087e.southcentralus.azurecontainer.io/score\n"
     ]
    }
   ],
   "source": [
    "print(svc_regr.scoring_uri)"
   ]
  },
  {
   "cell_type": "code",
   "execution_count": 46,
   "metadata": {
    "collapsed": true,
    "gather": {
     "logged": 1609722821526
    },
    "jupyter": {
     "outputs_hidden": false,
     "source_hidden": false
    },
    "nteract": {
     "transient": {
      "deleting": false
     }
    }
   },
   "outputs": [
    {
     "name": "stdout",
     "output_type": "stream",
     "text": [
      "http://1ce83af5-7393-4105-84f8-780ed6a51fbd.southcentralus.azurecontainer.io/score\n"
     ]
    }
   ],
   "source": [
    "print(svc_class.scoring_uri)"
   ]
  },
  {
   "cell_type": "markdown",
   "metadata": {
    "collapsed": true,
    "gather": {
     "logged": 1598431657736
    },
    "jupyter": {
     "outputs_hidden": false,
     "source_hidden": false
    },
    "nteract": {
     "transient": {
      "deleting": false
     }
    }
   },
   "source": [
    "TODO: In the cell below, send a request to the web service you deployed to test it."
   ]
  },
  {
   "cell_type": "code",
   "execution_count": 51,
   "metadata": {
    "collapsed": true,
    "gather": {
     "logged": 1609723914792
    },
    "jupyter": {
     "outputs_hidden": false,
     "source_hidden": false
    },
    "nteract": {
     "transient": {
      "deleting": false
     }
    }
   },
   "outputs": [
    {
     "data": {
      "text/plain": [
       "Index(['Avg coolpwr', 'Avg cooleff', 'Avg psfive', 'Avg pssix', 'Avg mp',\n",
       "       'Avg vftwo', 'Avg eff', 'Avg vibes', 'Avg tthree', 'Avg tfour',\n",
       "       'Clr cndn', 'Valve cndn', 'Pump lkg', 'Hydraulic press',\n",
       "       'Stable Flag (only cat)'],\n",
       "      dtype='object')"
      ]
     },
     "execution_count": 51,
     "metadata": {},
     "output_type": "execute_result"
    }
   ],
   "source": [
    "ds.columns"
   ]
  },
  {
   "cell_type": "code",
   "execution_count": 50,
   "metadata": {
    "collapsed": true,
    "gather": {
     "logged": 1609723787533
    },
    "jupyter": {
     "outputs_hidden": false,
     "source_hidden": false
    },
    "nteract": {
     "transient": {
      "deleting": false
     }
    }
   },
   "outputs": [
    {
     "data": {
      "text/plain": [
       "Index(['Avg coolpwr', 'Avg cooleff', 'Avg psfive', 'Avg pssix', 'Avg mp',\n",
       "       'Avg vftwo', 'Avg eff', 'Avg vibes', 'Avg tthree', 'Avg tfour'],\n",
       "      dtype='object')"
      ]
     },
     "execution_count": 50,
     "metadata": {},
     "output_type": "execute_result"
    }
   ],
   "source": [
    "features.columns"
   ]
  },
  {
   "cell_type": "code",
   "execution_count": 48,
   "metadata": {
    "gather": {
     "logged": 1609723722620
    },
    "jupyter": {
     "outputs_hidden": false,
     "source_hidden": false
    },
    "nteract": {
     "transient": {
      "deleting": false
     }
    }
   },
   "outputs": [],
   "source": [
    "import requests\n",
    "import json\n",
    "\n",
    "# URL for the web service\n",
    "class_scoring_uri = 'http://1ce83af5-7393-4105-84f8-780ed6a51fbd.southcentralus.azurecontainer.io/score'\n",
    "regr_scoring_uri = 'http://71fa7328-2d78-4ff9-96bb-dad118b7087e.southcentralus.azurecontainer.io/score'\n",
    "\n",
    "data = {'data':[{\n",
    "    'Avg coolpwr':1.9,\n",
    "    'Avg cooleff':31.4,\n",
    "    'Avg psfive':9,\n",
    "    'Avg pssix':9,\n",
    "    'Avg mp':2495,\n",
    "    'Avg vftwo':9.6,\n",
    "    'Avg eff':55.3,\n",
    "    'Avg vibes': 0.6,\n",
    "    'Avg tthree':47.7,\n",
    "    'Avg tfour': 40.8}\n",
    "]\n",
    "        }\n",
    "\n",
    "input_data = json.dumps(data)\n",
    "\n",
    "headers = {'Content-Type': 'application/json'}\n",
    "\n",
    "\n",
    "# # Make the request and display the response\n",
    "valvecndion = requests.post(class_scoring_uri,input_data,headers=headers)\n",
    "stableflag = requests.post(regr_scoring_uri,input_data,headers=headers)\n"
   ]
  },
  {
   "cell_type": "code",
   "execution_count": 49,
   "metadata": {
    "collapsed": true,
    "gather": {
     "logged": 1609723725327
    },
    "jupyter": {
     "outputs_hidden": false,
     "source_hidden": false
    },
    "nteract": {
     "transient": {
      "deleting": false
     }
    }
   },
   "outputs": [
    {
     "name": "stdout",
     "output_type": "stream",
     "text": [
      "Predicted valve condition: \"DataException:\\n\\tMessage: The number of features in [fitted data](14) does not match with those in [input data](10). Please inspect your data, and make sure that features are aligned in both the Datasets.\\n\\tInnerException: None\\n\\tErrorResponse \\n{\\n    \\\"error\\\": {\\n        \\\"code\\\": \\\"UserError\\\",\\n        \\\"message\\\": \\\"The number of features in [fitted data](14) does not match with those in [input data](10). Please inspect your data, and make sure that features are aligned in both the Datasets.\\\",\\n        \\\"target\\\": \\\"X\\\",\\n        \\\"inner_error\\\": {\\n            \\\"code\\\": \\\"BadData\\\",\\n            \\\"inner_error\\\": {\\n                \\\"code\\\": \\\"InvalidDimension\\\",\\n                \\\"inner_error\\\": {\\n                    \\\"code\\\": \\\"DataShapeMismatch\\\"\\n                }\\n            }\\n        },\\n        \\\"reference_code\\\": \\\"c402b6c2-3870-45a7-8745-c063bd385962\\\"\\n    }\\n}\"\n"
     ]
    }
   ],
   "source": [
    "print(\"Predicted valve condition:\",valvecndion.text)"
   ]
  },
  {
   "cell_type": "code",
   "execution_count": null,
   "metadata": {
    "collapsed": true,
    "jupyter": {
     "outputs_hidden": false,
     "source_hidden": false
    },
    "nteract": {
     "transient": {
      "deleting": false
     }
    }
   },
   "outputs": [],
   "source": [
    "print(\"Predicted flag:\"stableflag.text)"
   ]
  },
  {
   "cell_type": "markdown",
   "metadata": {
    "collapsed": true,
    "gather": {
     "logged": 1598432765711
    },
    "jupyter": {
     "outputs_hidden": false,
     "source_hidden": false
    },
    "nteract": {
     "transient": {
      "deleting": false
     }
    }
   },
   "source": [
    "TODO: In the cell below, print the logs of the web service and delete the service"
   ]
  },
  {
   "cell_type": "code",
   "execution_count": null,
   "metadata": {},
   "outputs": [],
   "source": [
    "svcs.delete()"
   ]
  }
 ],
 "metadata": {
  "kernel_info": {
   "name": "python3-azureml"
  },
  "kernelspec": {
   "display_name": "Python 3",
   "language": "python",
   "name": "python3"
  },
  "language_info": {
   "codemirror_mode": {
    "name": "ipython",
    "version": 3
   },
   "file_extension": ".py",
   "mimetype": "text/x-python",
   "name": "python",
   "nbconvert_exporter": "python",
   "pygments_lexer": "ipython3",
   "version": "3.7.3"
  },
  "nteract": {
   "version": "nteract-front-end@1.0.0"
  }
 },
 "nbformat": 4,
 "nbformat_minor": 2
}
