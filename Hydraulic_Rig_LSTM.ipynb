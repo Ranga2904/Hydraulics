{
 "cells": [
  {
   "cell_type": "code",
   "execution_count": 1,
   "metadata": {},
   "outputs": [],
   "source": [
    "import numpy as np\n",
    "import pandas as pd\n",
    "from pandas import DataFrame, concat\n",
    "import glob"
   ]
  },
  {
   "cell_type": "code",
   "execution_count": 2,
   "metadata": {},
   "outputs": [],
   "source": [
    "locn = \"C:\\\\Users\\\\ver2bj\\\\Downloads\\\\Projects\\\\MyProj\\\\UCI\\\\Hydraulic Rig\\\\*.txt\"\n",
    "# find all the txt files in the path \n",
    "files = glob.glob(locn)\n",
    "# use a dict to save all the variables \n",
    "features = {}"
   ]
  },
  {
   "cell_type": "code",
   "execution_count": 3,
   "metadata": {},
   "outputs": [
    {
     "name": "stdout",
     "output_type": "stream",
     "text": [
      "C:\\Users\\ver2bj\\Downloads\\Projects\\MyProj\\UCI\\Hydraulic Rig\\CE.txt\n",
      "C:\\Users\\ver2bj\\Downloads\\Projects\\MyProj\\UCI\\Hydraulic Rig\\CP.txt\n",
      "C:\\Users\\ver2bj\\Downloads\\Projects\\MyProj\\UCI\\Hydraulic Rig\\EPS1.txt\n",
      "C:\\Users\\ver2bj\\Downloads\\Projects\\MyProj\\UCI\\Hydraulic Rig\\FS1.txt\n",
      "C:\\Users\\ver2bj\\Downloads\\Projects\\MyProj\\UCI\\Hydraulic Rig\\FS2.txt\n",
      "C:\\Users\\ver2bj\\Downloads\\Projects\\MyProj\\UCI\\Hydraulic Rig\\PS1.txt\n",
      "C:\\Users\\ver2bj\\Downloads\\Projects\\MyProj\\UCI\\Hydraulic Rig\\PS2.txt\n",
      "C:\\Users\\ver2bj\\Downloads\\Projects\\MyProj\\UCI\\Hydraulic Rig\\PS3.txt\n",
      "C:\\Users\\ver2bj\\Downloads\\Projects\\MyProj\\UCI\\Hydraulic Rig\\PS4.txt\n",
      "C:\\Users\\ver2bj\\Downloads\\Projects\\MyProj\\UCI\\Hydraulic Rig\\PS5.txt\n",
      "C:\\Users\\ver2bj\\Downloads\\Projects\\MyProj\\UCI\\Hydraulic Rig\\PS6.txt\n",
      "C:\\Users\\ver2bj\\Downloads\\Projects\\MyProj\\UCI\\Hydraulic Rig\\SE.txt\n",
      "C:\\Users\\ver2bj\\Downloads\\Projects\\MyProj\\UCI\\Hydraulic Rig\\TS1.txt\n",
      "C:\\Users\\ver2bj\\Downloads\\Projects\\MyProj\\UCI\\Hydraulic Rig\\TS2.txt\n",
      "C:\\Users\\ver2bj\\Downloads\\Projects\\MyProj\\UCI\\Hydraulic Rig\\TS3.txt\n",
      "C:\\Users\\ver2bj\\Downloads\\Projects\\MyProj\\UCI\\Hydraulic Rig\\TS4.txt\n",
      "C:\\Users\\ver2bj\\Downloads\\Projects\\MyProj\\UCI\\Hydraulic Rig\\VS1.txt\n"
     ]
    }
   ],
   "source": [
    "for name in files:\n",
    "    print(name)\n",
    "    df = pd.read_csv(name,delim_whitespace=True,header=None)\n",
    "    df.index.name='cycle'\n",
    "    "
   ]
  },
  {
   "cell_type": "code",
   "execution_count": 5,
   "metadata": {},
   "outputs": [
    {
     "ename": "KeyboardInterrupt",
     "evalue": "",
     "output_type": "error",
     "traceback": [
      "\u001b[1;31m---------------------------------------------------------------------------\u001b[0m",
      "\u001b[1;31mKeyboardInterrupt\u001b[0m                         Traceback (most recent call last)",
      "\u001b[1;32m<ipython-input-5-883d4ca1c5cd>\u001b[0m in \u001b[0;36m<module>\u001b[1;34m\u001b[0m\n\u001b[0;32m     16\u001b[0m             \u001b[0mtemp_df_transposed\u001b[0m\u001b[1;33m.\u001b[0m\u001b[0mcolumns\u001b[0m \u001b[1;33m=\u001b[0m \u001b[0mstring\u001b[0m\u001b[1;33m.\u001b[0m\u001b[0msplit\u001b[0m\u001b[1;33m(\u001b[0m\u001b[1;34m\" \"\u001b[0m\u001b[1;33m)\u001b[0m\u001b[1;33m\u001b[0m\u001b[1;33m\u001b[0m\u001b[0m\n\u001b[0;32m     17\u001b[0m             \u001b[1;31m# From wide to long to help with joining all the variables\u001b[0m\u001b[1;33m\u001b[0m\u001b[1;33m\u001b[0m\u001b[1;33m\u001b[0m\u001b[0m\n\u001b[1;32m---> 18\u001b[1;33m             \u001b[0mtemp_df_long\u001b[0m \u001b[1;33m=\u001b[0m \u001b[0mpd\u001b[0m\u001b[1;33m.\u001b[0m\u001b[0mwide_to_long\u001b[0m\u001b[1;33m(\u001b[0m\u001b[0mtemp_df_transposed\u001b[0m\u001b[1;33m.\u001b[0m\u001b[0miloc\u001b[0m\u001b[1;33m[\u001b[0m\u001b[1;36m1\u001b[0m\u001b[1;33m:\u001b[0m\u001b[1;33m,\u001b[0m\u001b[1;33m:\u001b[0m\u001b[1;33m]\u001b[0m\u001b[1;33m,\u001b[0m\u001b[0mstubnames\u001b[0m\u001b[1;33m=\u001b[0m\u001b[1;34m'cycle'\u001b[0m\u001b[1;33m,\u001b[0m \u001b[0mi\u001b[0m\u001b[1;33m=\u001b[0m\u001b[1;33m[\u001b[0m\u001b[1;34m'time'\u001b[0m\u001b[1;33m]\u001b[0m\u001b[1;33m,\u001b[0m \u001b[0mj\u001b[0m\u001b[1;33m=\u001b[0m\u001b[1;34m'c'\u001b[0m\u001b[1;33m)\u001b[0m\u001b[1;33m\u001b[0m\u001b[1;33m\u001b[0m\u001b[0m\n\u001b[0m\u001b[0;32m     19\u001b[0m             \u001b[0mtemp_df_long\u001b[0m\u001b[1;33m.\u001b[0m\u001b[0mreset_index\u001b[0m\u001b[1;33m(\u001b[0m\u001b[0minplace\u001b[0m\u001b[1;33m=\u001b[0m\u001b[1;32mTrue\u001b[0m\u001b[1;33m)\u001b[0m\u001b[1;33m\u001b[0m\u001b[1;33m\u001b[0m\u001b[0m\n\u001b[0;32m     20\u001b[0m             \u001b[1;31m# save each data variable in the long format into separate data frames in the dictionary called \"features\"\u001b[0m\u001b[1;33m\u001b[0m\u001b[1;33m\u001b[0m\u001b[1;33m\u001b[0m\u001b[0m\n",
      "\u001b[1;32m~\\AppData\\Local\\Continuum\\anaconda3\\lib\\site-packages\\pandas\\core\\reshape\\melt.py\u001b[0m in \u001b[0;36mwide_to_long\u001b[1;34m(df, stubnames, i, j, sep, suffix)\u001b[0m\n\u001b[0;32m    464\u001b[0m \u001b[1;33m\u001b[0m\u001b[0m\n\u001b[0;32m    465\u001b[0m     \u001b[0m_melted\u001b[0m \u001b[1;33m=\u001b[0m \u001b[1;33m[\u001b[0m\u001b[0mmelt_stub\u001b[0m\u001b[1;33m(\u001b[0m\u001b[0mdf\u001b[0m\u001b[1;33m,\u001b[0m \u001b[0ms\u001b[0m\u001b[1;33m,\u001b[0m \u001b[0mi\u001b[0m\u001b[1;33m,\u001b[0m \u001b[0mj\u001b[0m\u001b[1;33m,\u001b[0m \u001b[0mv\u001b[0m\u001b[1;33m,\u001b[0m \u001b[0msep\u001b[0m\u001b[1;33m)\u001b[0m \u001b[1;32mfor\u001b[0m \u001b[0ms\u001b[0m\u001b[1;33m,\u001b[0m \u001b[0mv\u001b[0m \u001b[1;32min\u001b[0m \u001b[0mzip\u001b[0m\u001b[1;33m(\u001b[0m\u001b[0mstubnames\u001b[0m\u001b[1;33m,\u001b[0m \u001b[0mvalue_vars\u001b[0m\u001b[1;33m)\u001b[0m\u001b[1;33m]\u001b[0m\u001b[1;33m\u001b[0m\u001b[1;33m\u001b[0m\u001b[0m\n\u001b[1;32m--> 466\u001b[1;33m     \u001b[0mmelted\u001b[0m \u001b[1;33m=\u001b[0m \u001b[0m_melted\u001b[0m\u001b[1;33m[\u001b[0m\u001b[1;36m0\u001b[0m\u001b[1;33m]\u001b[0m\u001b[1;33m.\u001b[0m\u001b[0mjoin\u001b[0m\u001b[1;33m(\u001b[0m\u001b[0m_melted\u001b[0m\u001b[1;33m[\u001b[0m\u001b[1;36m1\u001b[0m\u001b[1;33m:\u001b[0m\u001b[1;33m]\u001b[0m\u001b[1;33m,\u001b[0m \u001b[0mhow\u001b[0m\u001b[1;33m=\u001b[0m\u001b[1;34m\"outer\"\u001b[0m\u001b[1;33m)\u001b[0m\u001b[1;33m\u001b[0m\u001b[1;33m\u001b[0m\u001b[0m\n\u001b[0m\u001b[0;32m    467\u001b[0m \u001b[1;33m\u001b[0m\u001b[0m\n\u001b[0;32m    468\u001b[0m     \u001b[1;32mif\u001b[0m \u001b[0mlen\u001b[0m\u001b[1;33m(\u001b[0m\u001b[0mi\u001b[0m\u001b[1;33m)\u001b[0m \u001b[1;33m==\u001b[0m \u001b[1;36m1\u001b[0m\u001b[1;33m:\u001b[0m\u001b[1;33m\u001b[0m\u001b[1;33m\u001b[0m\u001b[0m\n",
      "\u001b[1;32m~\\AppData\\Local\\Continuum\\anaconda3\\lib\\site-packages\\pandas\\core\\frame.py\u001b[0m in \u001b[0;36mjoin\u001b[1;34m(self, other, on, how, lsuffix, rsuffix, sort)\u001b[0m\n\u001b[0;32m   7207\u001b[0m         \"\"\"\n\u001b[0;32m   7208\u001b[0m         return self._join_compat(\n\u001b[1;32m-> 7209\u001b[1;33m             \u001b[0mother\u001b[0m\u001b[1;33m,\u001b[0m \u001b[0mon\u001b[0m\u001b[1;33m=\u001b[0m\u001b[0mon\u001b[0m\u001b[1;33m,\u001b[0m \u001b[0mhow\u001b[0m\u001b[1;33m=\u001b[0m\u001b[0mhow\u001b[0m\u001b[1;33m,\u001b[0m \u001b[0mlsuffix\u001b[0m\u001b[1;33m=\u001b[0m\u001b[0mlsuffix\u001b[0m\u001b[1;33m,\u001b[0m \u001b[0mrsuffix\u001b[0m\u001b[1;33m=\u001b[0m\u001b[0mrsuffix\u001b[0m\u001b[1;33m,\u001b[0m \u001b[0msort\u001b[0m\u001b[1;33m=\u001b[0m\u001b[0msort\u001b[0m\u001b[1;33m\u001b[0m\u001b[1;33m\u001b[0m\u001b[0m\n\u001b[0m\u001b[0;32m   7210\u001b[0m         )\n\u001b[0;32m   7211\u001b[0m \u001b[1;33m\u001b[0m\u001b[0m\n",
      "\u001b[1;32m~\\AppData\\Local\\Continuum\\anaconda3\\lib\\site-packages\\pandas\\core\\frame.py\u001b[0m in \u001b[0;36m_join_compat\u001b[1;34m(self, other, on, how, lsuffix, rsuffix, sort)\u001b[0m\n\u001b[0;32m   7240\u001b[0m             \u001b[0mframes\u001b[0m \u001b[1;33m=\u001b[0m \u001b[1;33m[\u001b[0m\u001b[0mself\u001b[0m\u001b[1;33m]\u001b[0m \u001b[1;33m+\u001b[0m \u001b[0mlist\u001b[0m\u001b[1;33m(\u001b[0m\u001b[0mother\u001b[0m\u001b[1;33m)\u001b[0m\u001b[1;33m\u001b[0m\u001b[1;33m\u001b[0m\u001b[0m\n\u001b[0;32m   7241\u001b[0m \u001b[1;33m\u001b[0m\u001b[0m\n\u001b[1;32m-> 7242\u001b[1;33m             \u001b[0mcan_concat\u001b[0m \u001b[1;33m=\u001b[0m \u001b[0mall\u001b[0m\u001b[1;33m(\u001b[0m\u001b[0mdf\u001b[0m\u001b[1;33m.\u001b[0m\u001b[0mindex\u001b[0m\u001b[1;33m.\u001b[0m\u001b[0mis_unique\u001b[0m \u001b[1;32mfor\u001b[0m \u001b[0mdf\u001b[0m \u001b[1;32min\u001b[0m \u001b[0mframes\u001b[0m\u001b[1;33m)\u001b[0m\u001b[1;33m\u001b[0m\u001b[1;33m\u001b[0m\u001b[0m\n\u001b[0m\u001b[0;32m   7243\u001b[0m \u001b[1;33m\u001b[0m\u001b[0m\n\u001b[0;32m   7244\u001b[0m             \u001b[1;31m# join indexes only using concat\u001b[0m\u001b[1;33m\u001b[0m\u001b[1;33m\u001b[0m\u001b[1;33m\u001b[0m\u001b[0m\n",
      "\u001b[1;32m~\\AppData\\Local\\Continuum\\anaconda3\\lib\\site-packages\\pandas\\core\\frame.py\u001b[0m in \u001b[0;36m<genexpr>\u001b[1;34m(.0)\u001b[0m\n\u001b[0;32m   7240\u001b[0m             \u001b[0mframes\u001b[0m \u001b[1;33m=\u001b[0m \u001b[1;33m[\u001b[0m\u001b[0mself\u001b[0m\u001b[1;33m]\u001b[0m \u001b[1;33m+\u001b[0m \u001b[0mlist\u001b[0m\u001b[1;33m(\u001b[0m\u001b[0mother\u001b[0m\u001b[1;33m)\u001b[0m\u001b[1;33m\u001b[0m\u001b[1;33m\u001b[0m\u001b[0m\n\u001b[0;32m   7241\u001b[0m \u001b[1;33m\u001b[0m\u001b[0m\n\u001b[1;32m-> 7242\u001b[1;33m             \u001b[0mcan_concat\u001b[0m \u001b[1;33m=\u001b[0m \u001b[0mall\u001b[0m\u001b[1;33m(\u001b[0m\u001b[0mdf\u001b[0m\u001b[1;33m.\u001b[0m\u001b[0mindex\u001b[0m\u001b[1;33m.\u001b[0m\u001b[0mis_unique\u001b[0m \u001b[1;32mfor\u001b[0m \u001b[0mdf\u001b[0m \u001b[1;32min\u001b[0m \u001b[0mframes\u001b[0m\u001b[1;33m)\u001b[0m\u001b[1;33m\u001b[0m\u001b[1;33m\u001b[0m\u001b[0m\n\u001b[0m\u001b[0;32m   7243\u001b[0m \u001b[1;33m\u001b[0m\u001b[0m\n\u001b[0;32m   7244\u001b[0m             \u001b[1;31m# join indexes only using concat\u001b[0m\u001b[1;33m\u001b[0m\u001b[1;33m\u001b[0m\u001b[1;33m\u001b[0m\u001b[0m\n",
      "\u001b[1;32mpandas\\_libs\\properties.pyx\u001b[0m in \u001b[0;36mpandas._libs.properties.CachedProperty.__get__\u001b[1;34m()\u001b[0m\n",
      "\u001b[1;32m~\\AppData\\Local\\Continuum\\anaconda3\\lib\\site-packages\\pandas\\core\\indexes\\base.py\u001b[0m in \u001b[0;36mis_unique\u001b[1;34m(self)\u001b[0m\n\u001b[0;32m   1659\u001b[0m         \u001b[0mReturn\u001b[0m \u001b[1;32mif\u001b[0m \u001b[0mthe\u001b[0m \u001b[0mindex\u001b[0m \u001b[0mhas\u001b[0m \u001b[0munique\u001b[0m \u001b[0mvalues\u001b[0m\u001b[1;33m.\u001b[0m\u001b[1;33m\u001b[0m\u001b[1;33m\u001b[0m\u001b[0m\n\u001b[0;32m   1660\u001b[0m         \"\"\"\n\u001b[1;32m-> 1661\u001b[1;33m         \u001b[1;32mreturn\u001b[0m \u001b[0mself\u001b[0m\u001b[1;33m.\u001b[0m\u001b[0m_engine\u001b[0m\u001b[1;33m.\u001b[0m\u001b[0mis_unique\u001b[0m\u001b[1;33m\u001b[0m\u001b[1;33m\u001b[0m\u001b[0m\n\u001b[0m\u001b[0;32m   1662\u001b[0m \u001b[1;33m\u001b[0m\u001b[0m\n\u001b[0;32m   1663\u001b[0m     \u001b[1;33m@\u001b[0m\u001b[0mproperty\u001b[0m\u001b[1;33m\u001b[0m\u001b[1;33m\u001b[0m\u001b[0m\n",
      "\u001b[1;31mKeyboardInterrupt\u001b[0m: "
     ]
    }
   ],
   "source": [
    "for name in files:\n",
    "    try:\n",
    "        with open(name) as f:\n",
    "            # read in the data \n",
    "            temp_df = pd.read_csv(name,delim_whitespace=True,header=None)\n",
    "            # make the row names cycle as a variable\n",
    "            temp_df.index.name = 'cycle'\n",
    "            temp_df.reset_index(inplace=True)\n",
    "            # transpose the data \n",
    "            temp_df_transposed= temp_df.T\n",
    "            # make the seconds a variable, call it \"time”\n",
    "            temp_df_transposed.index.name = 'time'\n",
    "            temp_df_transposed.reset_index(inplace=True)\n",
    "            # add a prefix cycle in the column names to help with pivoting data (from wide to long)\n",
    "            string = ' cycle'.join(str(e) for e in list(temp_df_transposed.columns))\n",
    "            temp_df_transposed.columns = string.split(\" \")\n",
    "            # From wide to long to help with joining all the variables \n",
    "            temp_df_long = pd.wide_to_long(temp_df_transposed.iloc[1:,:],stubnames='cycle', i=['time'], j='c')\n",
    "            temp_df_long.reset_index(inplace=True)\n",
    "            # save each data variable in the long format into separate data frames in the dictionary called \"features\"\n",
    "            # but exclude path and txt in the names\n",
    "            features[name[9:-4]] = temp_df_long\n",
    "                        \n",
    "           \n",
    "    \n",
    "    # prevent a possible error\n",
    "    except IOError as exc:\n",
    "        if exc.errno != errno.EISDIR:\n",
    "            raise"
   ]
  },
  {
   "cell_type": "code",
   "execution_count": null,
   "metadata": {},
   "outputs": [],
   "source": [
    "label = pd.read_csv('./label/profile.txt',delim_whitespace=True,header=None)\n",
    "label.columns = ['cooler_condition', 'valve_condition', 'pump_leak', 'hydraulic_accumulator', 'stable_flag']"
   ]
  },
  {
   "cell_type": "code",
   "execution_count": null,
   "metadata": {},
   "outputs": [],
   "source": [
    "for key in list(features.keys()):\n",
    "    features[key].columns=['seconds','cycle',key]"
   ]
  },
  {
   "cell_type": "code",
   "execution_count": null,
   "metadata": {},
   "outputs": [],
   "source": [
    "dfs= [features['ver2bj\\\\Downloads\\\\Projects\\\\MyProj\\\\UCI\\\\Hydraulic Rig\\\\CE'],\n",
    "      features['ver2bj\\\\Downloads\\\\Projects\\\\MyProj\\\\UCI\\\\Hydraulic Rig\\\\CP'],\n",
    "      features['ver2bj\\\\Downloads\\\\Projects\\\\MyProj\\\\UCI\\\\Hydraulic Rig\\\\EPS1'],\n",
    "      features['ver2bj\\\\Downloads\\\\Projects\\\\MyProj\\\\UCI\\\\Hydraulic Rig\\\\FS1'],\n",
    "      features['ver2bj\\\\Downloads\\\\Projects\\\\MyProj\\\\UCI\\\\Hydraulic Rig\\\\FS2'],\n",
    "      features['ver2bj\\\\Downloads\\\\Projects\\\\MyProj\\\\UCI\\\\Hydraulic Rig\\\\PS1'],\n",
    "      features['ver2bj\\\\Downloads\\\\Projects\\\\MyProj\\\\UCI\\\\Hydraulic Rig\\\\PS2'],\n",
    "      features['ver2bj\\\\Downloads\\\\Projects\\\\MyProj\\\\UCI\\\\Hydraulic Rig\\\\PS3'],\n",
    "      features['ver2bj\\\\Downloads\\\\Projects\\\\MyProj\\\\UCI\\\\Hydraulic Rig\\\\PS4'],\n",
    "      features['ver2bj\\\\Downloads\\\\Projects\\\\MyProj\\\\UCI\\\\Hydraulic Rig\\\\PS5'],\n",
    "      features['ver2bj\\\\Downloads\\\\Projects\\\\MyProj\\\\UCI\\\\Hydraulic Rig\\\\PS6'],\n",
    "      features['ver2bj\\\\Downloads\\\\Projects\\\\MyProj\\\\UCI\\\\Hydraulic Rig\\\\SE'],\n",
    "      features['ver2bj\\\\Downloads\\\\Projects\\\\MyProj\\\\UCI\\\\Hydraulic Rig\\\\TS1'],\n",
    "      features['ver2bj\\\\Downloads\\\\Projects\\\\MyProj\\\\UCI\\\\Hydraulic Rig\\\\TS2'],\n",
    "      features['ver2bj\\\\Downloads\\\\Projects\\\\MyProj\\\\UCI\\\\Hydraulic Rig\\\\TS3'],\n",
    "      features['ver2bj\\\\Downloads\\\\Projects\\\\MyProj\\\\UCI\\\\Hydraulic Rig\\\\TS4'],\n",
    "      features['ver2bj\\\\Downloads\\\\Projects\\\\MyProj\\\\UCI\\\\Hydraulic Rig\\\\VS1']]"
   ]
  },
  {
   "cell_type": "code",
   "execution_count": null,
   "metadata": {},
   "outputs": [],
   "source": [
    "from functools import reduce\n",
    "features_join = reduce(lambda left,right: pd.merge(left,right,on=['seconds','cycle']), dfs)"
   ]
  },
  {
   "cell_type": "code",
   "execution_count": null,
   "metadata": {},
   "outputs": [],
   "source": [
    "def series_to_supervised(data, n_in=1, n_out=1, dropnan=True):\n",
    "\t\"\"\"\n",
    "\tFrame a time series as a supervised learning dataset.\n",
    "\tArguments:\n",
    "\t\tdata: Sequence of observations as a list or NumPy array.\n",
    "\t\tn_in: Number of lag observations as input (X).\n",
    "\t\tn_out: Number of observations as output (y).\n",
    "\t\tdropnan: Boolean whether or not to drop rows with NaN values.\n",
    "\tReturns:\n",
    "\t\tPandas DataFrame of series framed for supervised learning.\n",
    "\t\"\"\"\n",
    "\tn_vars = 1 if type(data) is list else data.shape[1]\n",
    "\tdf = DataFrame(data)\n",
    "\tcols, names = list(), list()\n",
    "\t# input sequence (t-n, ... t-1)\n",
    "\tfor i in range(n_in, 0, -1):\n",
    "\t\tcols.append(df.shift(i))\n",
    "\t\tnames += [('var%d(t-%d)' % (j+1, i)) for j in range(n_vars)]\n",
    "\t# forecast sequence (t, t+1, ... t+n)\n",
    "\tfor i in range(0, n_out):\n",
    "\t\tcols.append(df.shift(-i))\n",
    "\t\tif i == 0:\n",
    "\t\t\tnames += [('var%d(t)' % (j+1)) for j in range(n_vars)]\n",
    "\t\telse:\n",
    "\t\t\tnames += [('var%d(t+%d)' % (j+1, i)) for j in range(n_vars)]\n",
    "\t# put it all together\n",
    "\tagg = concat(cols, axis=1)\n",
    "\tagg.columns = names\n",
    "\t# drop rows with NaN values\n",
    "\tif dropnan:\n",
    "\t\tagg.dropna(inplace=True)\n",
    "\treturn agg\n",
    " "
   ]
  },
  {
   "cell_type": "code",
   "execution_count": null,
   "metadata": {},
   "outputs": [],
   "source": [
    "univar = series_to_supervised(label[['hydraulic_accumulator']],n_in=2,n_out=1)\n",
    "univar = univar.values\n",
    "\n",
    "train,test = univar[:1201,:], univar[1202:,:]\n",
    "\n",
    "xtrain,ytrain = train[:,0:2],train[:,-1]\n",
    "xtest,ytest = test[:,0:2],test[:,-1]"
   ]
  },
  {
   "cell_type": "code",
   "execution_count": 211,
   "metadata": {},
   "outputs": [],
   "source": [
    "xtrain = xtrain.reshape((xtrain.shape[0], 1, xtrain.shape[1]))\n",
    "xtest = xtest.reshape((xtest.shape[0], 1, xtest.shape[1]))"
   ]
  },
  {
   "cell_type": "code",
   "execution_count": 212,
   "metadata": {},
   "outputs": [
    {
     "name": "stdout",
     "output_type": "stream",
     "text": [
      "(1201, 1, 2) (1001, 1, 2) (1201,) (1001,)\n"
     ]
    }
   ],
   "source": [
    "print(xtrain.shape,xtest.shape,ytrain.shape,ytest.shape)"
   ]
  },
  {
   "cell_type": "code",
   "execution_count": 213,
   "metadata": {},
   "outputs": [],
   "source": [
    "from keras.models import Sequential\n",
    "from keras.layers import Activation, Dense, LSTM"
   ]
  },
  {
   "cell_type": "code",
   "execution_count": 215,
   "metadata": {},
   "outputs": [],
   "source": [
    "model = Sequential()\n",
    "model.add(LSTM(60, input_shape=(xtrain.shape[1], xtrain.shape[2])))\n",
    "model.add(Dense(1))\n",
    "model.compile(loss='mae', optimizer='adam')\n",
    "# fit network\n",
    "history = model.fit(xtrain, ytrain, epochs=50, batch_size=20, validation_data=(xtest, ytest), verbose=0, shuffle=False)"
   ]
  },
  {
   "cell_type": "code",
   "execution_count": 216,
   "metadata": {},
   "outputs": [
    {
     "data": {
      "image/png": "[encoded data removed]",
      "text/plain": [
       "<Figure size 432x288 with 1 Axes>"
      ]
     },
     "metadata": {
      "needs_background": "light"
     },
     "output_type": "display_data"
    }
   ],
   "source": [
    "from matplotlib import pyplot\n",
    "pyplot.plot(history.history['loss'], label='train')\n",
    "pyplot.plot(history.history['val_loss'], label='test')\n",
    "pyplot.legend()\n",
    "pyplot.show()"
   ]
  },
  {
   "cell_type": "code",
   "execution_count": 217,
   "metadata": {},
   "outputs": [
    {
     "data": {
      "text/plain": [
       "10.948436062533657"
      ]
     },
     "execution_count": 217,
     "metadata": {},
     "output_type": "execute_result"
    }
   ],
   "source": [
    "yhat = model.predict(xtest)\n",
    "from sklearn.metrics import mean_absolute_error\n",
    "mean_absolute_error(yhat,ytest)"
   ]
  },
  {
   "cell_type": "code",
   "execution_count": 250,
   "metadata": {},
   "outputs": [],
   "source": [
    "bivar = series_to_supervised(label[['cooler_condition', 'valve_condition', 'pump_leak','stable_flag']],n_in=2,n_out=1)\n",
    "bivar = bivar.values\n",
    "\n",
    "train_second,test_second = bivar[:1201,:], bivar[1202:,:]\n",
    "\n",
    "xtrain_second,ytrain_second = train_second[:,0:3],train_second[:,-1]\n",
    "xtest_second,ytest_second = test_second[:,0:3],test_second[:,-1]\n",
    "\n",
    "xtrain_second = xtrain_second.reshape((xtrain_second.shape[0], 1, xtrain_second.shape[1]))\n",
    "xtest_second = xtest_second.reshape((xtest_second.shape[0], 1, xtest_second.shape[1]))\n"
   ]
  },
  {
   "cell_type": "code",
   "execution_count": 254,
   "metadata": {},
   "outputs": [],
   "source": [
    "bimodel = Sequential()\n",
    "bimodel.add(LSTM(60, input_shape=(xtrain_second.shape[1], xtrain_second.shape[2])))\n",
    "bimodel.add(Dense(5))\n",
    "bimodel.add(Dense(1))\n",
    "bimodel.compile(loss='mae', optimizer='adam')\n",
    "# fit network\n",
    "bihistory = bimodel.fit(xtrain_second, ytrain_second, epochs=100, batch_size=20, validation_data=(xtest_second, ytest_second), verbose=0, shuffle=False)"
   ]
  },
  {
   "cell_type": "code",
   "execution_count": 255,
   "metadata": {},
   "outputs": [
    {
     "data": {
      "image/png": "[encoded data removed]",
      "text/plain": [
       "<Figure size 432x288 with 1 Axes>"
      ]
     },
     "metadata": {
      "needs_background": "light"
     },
     "output_type": "display_data"
    }
   ],
   "source": [
    "pyplot.plot(bihistory.history['loss'], label='train')\n",
    "pyplot.plot(bihistory.history['val_loss'], label='test')\n",
    "pyplot.legend()\n",
    "pyplot.show()"
   ]
  },
  {
   "cell_type": "code",
   "execution_count": 256,
   "metadata": {},
   "outputs": [],
   "source": [
    "trivar = series_to_supervised(label[['cooler_condition', 'valve_condition', 'pump_leak']],n_in=2,n_out=1)\n",
    "trivar = trivar.values\n",
    "\n",
    "train_third,test_third = trivar[:1201,:], trivar[1202:,:]\n",
    "\n",
    "xtrain_third,ytrain_third = train_third[:,0:2],train_third[:,-1]\n",
    "xtest_third,ytest_third = test_third[:,0:2],test_third[:,-1]\n",
    "\n",
    "xtrain_third = xtrain_third.reshape((xtrain_third.shape[0], 1, xtrain_third.shape[1]))\n",
    "xtest_third = xtest_third.reshape((xtest_third.shape[0], 1, xtest_third.shape[1]))\n",
    "\n",
    "trimodel = Sequential()\n",
    "trimodel.add(LSTM(60, input_shape=(xtrain_third.shape[1], xtrain_third.shape[2])))\n",
    "trimodel.add(Dense(1))\n",
    "trimodel.compile(loss='mae', optimizer='adam')\n",
    "# fit network\n",
    "trihistory = trimodel.fit(xtrain_third, ytrain_third, epochs=50, batch_size=20, validation_data=(xtest_third, ytest_third), verbose=0, shuffle=False)"
   ]
  },
  {
   "cell_type": "code",
   "execution_count": 257,
   "metadata": {},
   "outputs": [
    {
     "data": {
      "image/png": "[encoded data removed]",
      "text/plain": [
       "<Figure size 432x288 with 1 Axes>"
      ]
     },
     "metadata": {
      "needs_background": "light"
     },
     "output_type": "display_data"
    }
   ],
   "source": [
    "pyplot.plot(trihistory.history['loss'], label='train')\n",
    "pyplot.plot(trihistory.history['val_loss'], label='test')\n",
    "pyplot.legend()\n",
    "pyplot.show()"
   ]
  },
  {
   "cell_type": "code",
   "execution_count": 258,
   "metadata": {},
   "outputs": [],
   "source": [
    "valvevar = series_to_supervised(label[['valve_condition']],n_in=2,n_out=1)\n",
    "valvevar = valvevar.values\n",
    "\n",
    "train_valve,test_valve = valvevar[:1201,:], valvevar[1202:,:]\n",
    "\n",
    "xtrain_valve,ytrain_valve = train_valve[:,0:2],train_valve[:,-1]\n",
    "xtest_valve,ytest_valve = test_valve[:,0:2],test_valve[:,-1]\n",
    "\n",
    "xtrain_valve = xtrain_valve.reshape((xtrain_valve.shape[0], 1, xtrain_valve.shape[1]))\n",
    "xtest_valve = xtest_valve.reshape((xtest_valve.shape[0], 1, xtest_valve.shape[1]))"
   ]
  },
  {
   "cell_type": "code",
   "execution_count": 259,
   "metadata": {},
   "outputs": [],
   "source": [
    "valve_model = Sequential()\n",
    "valve_model.add(LSTM(60, input_shape=(xtrain_valve.shape[1], xtrain_valve.shape[2])))\n",
    "valve_model.add(Dense(1))\n",
    "valve_model.compile(loss='mae', optimizer='adam')\n",
    "# fit network\n",
    "valve_history = valve_model.fit(xtrain_valve, ytrain_valve, epochs=50, batch_size=20, validation_data=(xtest_valve, ytest_valve), verbose=0, shuffle=False)"
   ]
  },
  {
   "cell_type": "code",
   "execution_count": 260,
   "metadata": {},
   "outputs": [
    {
     "data": {
      "image/png": "[encoded data removed]",
      "text/plain": [
       "<Figure size 432x288 with 1 Axes>"
      ]
     },
     "metadata": {
      "needs_background": "light"
     },
     "output_type": "display_data"
    }
   ],
   "source": [
    "pyplot.plot(valve_history.history['loss'], label='train')\n",
    "pyplot.plot(valve_history.history['val_loss'], label='test')\n",
    "pyplot.legend()\n",
    "pyplot.show()"
   ]
  },
  {
   "cell_type": "code",
   "execution_count": null,
   "metadata": {},
   "outputs": [],
   "source": []
  }
 ],
 "metadata": {
  "kernelspec": {
   "display_name": "Python 3",
   "language": "python",
   "name": "python3"
  },
  "language_info": {
   "codemirror_mode": {
    "name": "ipython",
    "version": 3
   },
   "file_extension": ".py",
   "mimetype": "text/x-python",
   "name": "python",
   "nbconvert_exporter": "python",
   "pygments_lexer": "ipython3",
   "version": "3.7.3"
  }
 },
 "nbformat": 4,
 "nbformat_minor": 4
}
