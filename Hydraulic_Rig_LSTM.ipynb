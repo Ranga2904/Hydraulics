{
 "cells": [
  {
   "cell_type": "code",
   "execution_count": 1,
   "metadata": {},
   "outputs": [],
   "source": [
    "import numpy as np\n",
    "import pandas as pd\n",
    "from pandas import DataFrame, concat\n",
    "import glob"
   ]
  },
  {
   "cell_type": "code",
   "execution_count": 2,
   "metadata": {},
   "outputs": [],
   "source": [
    "locn = \"C:\\\\Users\\\\rangy\\\\Downloads\\\\hyddata\\\\features\\\\*.txt\"\n",
    "# find all the txt files in the path \n",
    "files = glob.glob(locn)\n",
    "# use a dict to save all the variables \n",
    "features = {}"
   ]
  },
  {
   "cell_type": "code",
   "execution_count": 3,
   "metadata": {},
   "outputs": [],
   "source": [
    "for name in files:\n",
    "    try:\n",
    "        with open(name) as f:\n",
    "            # read in the data \n",
    "            temp_df = pd.read_csv(name,delim_whitespace=True,header=None)\n",
    "            # make the row names cycle as a variable\n",
    "            temp_df.index.name = 'cycle'\n",
    "            temp_df.reset_index(inplace=True)\n",
    "            # transpose the data \n",
    "            temp_df_transposed= temp_df.T\n",
    "            # make the seconds a variable, call it \"time”\n",
    "            temp_df_transposed.index.name = 'time'\n",
    "            temp_df_transposed.reset_index(inplace=True)\n",
    "            # add a prefix cycle in the column names to help with pivoting data (from wide to long)\n",
    "            string = ' cycle'.join(str(e) for e in list(temp_df_transposed.columns))\n",
    "            temp_df_transposed.columns = string.split(\" \")\n",
    "            # From wide to long to help with joining all the variables \n",
    "            temp_df_long = pd.wide_to_long(temp_df_transposed.iloc[1:,:],stubnames='cycle', i=['time'], j='c')\n",
    "            temp_df_long.reset_index(inplace=True)\n",
    "            # save each data variable in the long format into separate data frames in the dictionary called \"features\"\n",
    "            # but exclude path and txt in the names\n",
    "            features[name[9:-4]] = temp_df_long\n",
    "                        \n",
    "           \n",
    "    \n",
    "    # prevent a possible error\n",
    "    except IOError as exc:\n",
    "        if exc.errno != errno.EISDIR:\n",
    "            raise"
   ]
  },
  {
   "cell_type": "code",
   "execution_count": 5,
   "metadata": {},
   "outputs": [],
   "source": [
    "label = pd.read_csv(\"C:\\\\Users\\\\rangy\\\\Downloads\\\\hyddata\\\\profile.txt\",delim_whitespace=True,header=None)\n",
    "label.columns = ['cooler_condition', 'valve_condition', 'pump_leak', 'hydraulic_accumulator', 'stable_flag']"
   ]
  },
  {
   "cell_type": "code",
   "execution_count": 6,
   "metadata": {},
   "outputs": [],
   "source": [
    "for key in list(features.keys()):\n",
    "    features[key].columns=['seconds','cycle',key]"
   ]
  },
  {
   "cell_type": "code",
   "execution_count": 14,
   "metadata": {},
   "outputs": [],
   "source": [
    "dfs= [features['rangy\\\\Downloads\\\\hyddata\\\\features\\\\CE'],\n",
    "      features['rangy\\\\Downloads\\\\hyddata\\\\features\\\\CP'],\n",
    "      features['rangy\\\\Downloads\\\\hyddata\\\\features\\\\EPS1'],\n",
    "      features['rangy\\\\Downloads\\\\hyddata\\\\features\\\\FS1'],\n",
    "      features['rangy\\\\Downloads\\\\hyddata\\\\features\\\\FS2'],\n",
    "      features['rangy\\\\Downloads\\\\hyddata\\\\features\\\\PS1'],\n",
    "      features['rangy\\\\Downloads\\\\hyddata\\\\features\\\\PS2'],\n",
    "      features['rangy\\\\Downloads\\\\hyddata\\\\features\\\\PS3'],\n",
    "      features['rangy\\\\Downloads\\\\hyddata\\\\features\\\\PS4'],\n",
    "      features['rangy\\\\Downloads\\\\hyddata\\\\features\\\\PS5'],\n",
    "      features['rangy\\\\Downloads\\\\hyddata\\\\features\\\\PS6'],\n",
    "      features['rangy\\\\Downloads\\\\hyddata\\\\features\\\\SE'],\n",
    "      features['rangy\\\\Downloads\\\\hyddata\\\\features\\\\TS1'],\n",
    "      features['rangy\\\\Downloads\\\\hyddata\\\\features\\\\TS2'],\n",
    "      features['rangy\\\\Downloads\\\\hyddata\\\\features\\\\TS3'],\n",
    "      features['rangy\\\\Downloads\\\\hyddata\\\\features\\\\TS4'],\n",
    "      features['rangy\\\\Downloads\\\\hyddata\\\\features\\\\VS1']]"
   ]
  },
  {
   "cell_type": "code",
   "execution_count": 15,
   "metadata": {},
   "outputs": [],
   "source": [
    "from functools import reduce\n",
    "features_join = reduce(lambda left,right: pd.merge(left,right,on=['seconds','cycle']), dfs)"
   ]
  },
  {
   "cell_type": "code",
   "execution_count": 16,
   "metadata": {},
   "outputs": [],
   "source": [
    "def series_to_supervised(data, n_in=1, n_out=1, dropnan=True):\n",
    "\t\"\"\"\n",
    "\tFrame a time series as a supervised learning dataset.\n",
    "\tArguments:\n",
    "\t\tdata: Sequence of observations as a list or NumPy array.\n",
    "\t\tn_in: Number of lag observations as input (X).\n",
    "\t\tn_out: Number of observations as output (y).\n",
    "\t\tdropnan: Boolean whether or not to drop rows with NaN values.\n",
    "\tReturns:\n",
    "\t\tPandas DataFrame of series framed for supervised learning.\n",
    "\t\"\"\"\n",
    "\tn_vars = 1 if type(data) is list else data.shape[1]\n",
    "\tdf = DataFrame(data)\n",
    "\tcols, names = list(), list()\n",
    "\t# input sequence (t-n, ... t-1)\n",
    "\tfor i in range(n_in, 0, -1):\n",
    "\t\tcols.append(df.shift(i))\n",
    "\t\tnames += [('var%d(t-%d)' % (j+1, i)) for j in range(n_vars)]\n",
    "\t# forecast sequence (t, t+1, ... t+n)\n",
    "\tfor i in range(0, n_out):\n",
    "\t\tcols.append(df.shift(-i))\n",
    "\t\tif i == 0:\n",
    "\t\t\tnames += [('var%d(t)' % (j+1)) for j in range(n_vars)]\n",
    "\t\telse:\n",
    "\t\t\tnames += [('var%d(t+%d)' % (j+1, i)) for j in range(n_vars)]\n",
    "\t# put it all together\n",
    "\tagg = concat(cols, axis=1)\n",
    "\tagg.columns = names\n",
    "\t# drop rows with NaN values\n",
    "\tif dropnan:\n",
    "\t\tagg.dropna(inplace=True)\n",
    "\treturn agg\n",
    " "
   ]
  },
  {
   "cell_type": "code",
   "execution_count": null,
   "metadata": {},
   "outputs": [],
   "source": [
    "univar = series_to_supervised(label[['hydraulic_accumulator']],n_in=2,n_out=1)\n",
    "univar = univar.values\n",
    "\n",
    "train,test = univar[:1201,:], univar[1202:,:]\n",
    "\n",
    "xtrain,ytrain = train[:,0:2],train[:,-1]\n",
    "xtest,ytest = test[:,0:2],test[:,-1]"
   ]
  },
  {
   "cell_type": "code",
   "execution_count": 211,
   "metadata": {},
   "outputs": [],
   "source": [
    "xtrain = xtrain.reshape((xtrain.shape[0], 1, xtrain.shape[1]))\n",
    "xtest = xtest.reshape((xtest.shape[0], 1, xtest.shape[1]))"
   ]
  },
  {
   "cell_type": "code",
   "execution_count": 212,
   "metadata": {},
   "outputs": [
    {
     "name": "stdout",
     "output_type": "stream",
     "text": [
      "(1201, 1, 2) (1001, 1, 2) (1201,) (1001,)\n"
     ]
    }
   ],
   "source": [
    "print(xtrain.shape,xtest.shape,ytrain.shape,ytest.shape)"
   ]
  },
  {
   "cell_type": "code",
   "execution_count": 58,
   "metadata": {},
   "outputs": [
    {
     "name": "stdout",
     "output_type": "stream",
     "text": [
      "Requirement already satisfied: keras in c:\\users\\rangy\\anaconda3\\lib\\site-packages (2.4.3)\n",
      "Note: you may need to restart the kernel to use updated packages.\n",
      "Requirement already satisfied: pyyaml in c:\\users\\rangy\\anaconda3\\lib\\site-packages (from keras) (5.3.1)\n",
      "Requirement already satisfied: scipy>=0.14 in c:\\users\\rangy\\anaconda3\\lib\\site-packages (from keras) (1.5.2)\n",
      "Requirement already satisfied: h5py in c:\\users\\rangy\\anaconda3\\lib\\site-packages (from keras) (2.10.0)\n",
      "Requirement already satisfied: numpy>=1.9.1 in c:\\users\\rangy\\anaconda3\\lib\\site-packages (from keras) (1.19.2)\n",
      "Requirement already satisfied: six in c:\\users\\rangy\\anaconda3\\lib\\site-packages (from h5py->keras) (1.15.0)\n",
      "Requirement already satisfied: tensorflow in c:\\users\\rangy\\anaconda3\\lib\\site-packages (2.4.1)\n",
      "Requirement already satisfied: six~=1.15.0 in c:\\users\\rangy\\anaconda3\\lib\\site-packages (from tensorflow) (1.15.0)\n",
      "Requirement already satisfied: h5py~=2.10.0 in c:\\users\\rangy\\anaconda3\\lib\\site-packages (from tensorflow) (2.10.0)\n",
      "Requirement already satisfied: wrapt~=1.12.1 in c:\\users\\rangy\\anaconda3\\lib\\site-packages (from tensorflow) (1.12.1)\n",
      "Requirement already satisfied: tensorboard~=2.4 in c:\\users\\rangy\\anaconda3\\lib\\site-packages (from tensorflow) (2.4.1)\n",
      "Requirement already satisfied: wheel~=0.35 in c:\\users\\rangy\\anaconda3\\lib\\site-packages (from tensorflow) (0.35.1)\n",
      "Requirement already satisfied: tensorflow-estimator<2.5.0,>=2.4.0 in c:\\users\\rangy\\anaconda3\\lib\\site-packages (from tensorflow) (2.4.0)\n",
      "Requirement already satisfied: protobuf>=3.9.2 in c:\\users\\rangy\\anaconda3\\lib\\site-packages (from tensorflow) (3.14.0)\n",
      "Requirement already satisfied: grpcio~=1.32.0 in c:\\users\\rangy\\anaconda3\\lib\\site-packages (from tensorflow) (1.32.0)\n",
      "Requirement already satisfied: google-pasta~=0.2 in c:\\users\\rangy\\anaconda3\\lib\\site-packages (from tensorflow) (0.2.0)\n",
      "Requirement already satisfied: absl-py~=0.10 in c:\\users\\rangy\\anaconda3\\lib\\site-packages (from tensorflow) (0.11.0)\n",
      "Requirement already satisfied: termcolor~=1.1.0 in c:\\users\\rangy\\anaconda3\\lib\\site-packages (from tensorflow) (1.1.0)\n",
      "Requirement already satisfied: opt-einsum~=3.3.0 in c:\\users\\rangy\\anaconda3\\lib\\site-packages (from tensorflow) (3.3.0)\n",
      "Requirement already satisfied: astunparse~=1.6.3 in c:\\users\\rangy\\anaconda3\\lib\\site-packages (from tensorflow) (1.6.3)\n",
      "Requirement already satisfied: typing-extensions~=3.7.4 in c:\\users\\rangy\\anaconda3\\lib\\site-packages (from tensorflow) (3.7.4.3)\n",
      "Requirement already satisfied: keras-preprocessing~=1.1.2 in c:\\users\\rangy\\anaconda3\\lib\\site-packages (from tensorflow) (1.1.2)\n",
      "Requirement already satisfied: numpy~=1.19.2 in c:\\users\\rangy\\anaconda3\\lib\\site-packages (from tensorflow) (1.19.2)\n",
      "Requirement already satisfied: gast==0.3.3 in c:\\users\\rangy\\anaconda3\\lib\\site-packages (from tensorflow) (0.3.3)\n",
      "Requirement already satisfied: flatbuffers~=1.12.0 in c:\\users\\rangy\\anaconda3\\lib\\site-packages (from tensorflow) (1.12)\n",
      "Requirement already satisfied: setuptools>=41.0.0 in c:\\users\\rangy\\anaconda3\\lib\\site-packages (from tensorboard~=2.4->tensorflow) (50.3.1.post20201107)\n",
      "Requirement already satisfied: requests<3,>=2.21.0 in c:\\users\\rangy\\anaconda3\\lib\\site-packages (from tensorboard~=2.4->tensorflow) (2.24.0)\n",
      "Requirement already satisfied: tensorboard-plugin-wit>=1.6.0 in c:\\users\\rangy\\anaconda3\\lib\\site-packages (from tensorboard~=2.4->tensorflow) (1.8.0)\n",
      "Requirement already satisfied: werkzeug>=0.11.15 in c:\\users\\rangy\\anaconda3\\lib\\site-packages (from tensorboard~=2.4->tensorflow) (1.0.1)\n",
      "Requirement already satisfied: google-auth<2,>=1.6.3 in c:\\users\\rangy\\anaconda3\\lib\\site-packages (from tensorboard~=2.4->tensorflow) (1.24.0)\n",
      "Requirement already satisfied: markdown>=2.6.8 in c:\\users\\rangy\\anaconda3\\lib\\site-packages (from tensorboard~=2.4->tensorflow) (3.3.3)\n",
      "Requirement already satisfied: google-auth-oauthlib<0.5,>=0.4.1 in c:\\users\\rangy\\anaconda3\\lib\\site-packages (from tensorboard~=2.4->tensorflow) (0.4.2)\n",
      "Requirement already satisfied: urllib3!=1.25.0,!=1.25.1,<1.26,>=1.21.1 in c:\\users\\rangy\\anaconda3\\lib\\site-packages (from requests<3,>=2.21.0->tensorboard~=2.4->tensorflow) (1.25.11)\n",
      "Requirement already satisfied: chardet<4,>=3.0.2 in c:\\users\\rangy\\anaconda3\\lib\\site-packages (from requests<3,>=2.21.0->tensorboard~=2.4->tensorflow) (3.0.4)\n",
      "Requirement already satisfied: idna<3,>=2.5 in c:\\users\\rangy\\anaconda3\\lib\\site-packages (from requests<3,>=2.21.0->tensorboard~=2.4->tensorflow) (2.10)\n",
      "Requirement already satisfied: certifi>=2017.4.17 in c:\\users\\rangy\\anaconda3\\lib\\site-packages (from requests<3,>=2.21.0->tensorboard~=2.4->tensorflow) (2020.6.20)\n",
      "Requirement already satisfied: rsa<5,>=3.1.4; python_version >= \"3.6\" in c:\\users\\rangy\\anaconda3\\lib\\site-packages (from google-auth<2,>=1.6.3->tensorboard~=2.4->tensorflow) (4.7)\n",
      "Requirement already satisfied: cachetools<5.0,>=2.0.0 in c:\\users\\rangy\\anaconda3\\lib\\site-packages (from google-auth<2,>=1.6.3->tensorboard~=2.4->tensorflow) (4.2.0)\n",
      "Requirement already satisfied: pyasn1-modules>=0.2.1 in c:\\users\\rangy\\anaconda3\\lib\\site-packages (from google-auth<2,>=1.6.3->tensorboard~=2.4->tensorflow) (0.2.8)\n",
      "Requirement already satisfied: requests-oauthlib>=0.7.0 in c:\\users\\rangy\\anaconda3\\lib\\site-packages (from google-auth-oauthlib<0.5,>=0.4.1->tensorboard~=2.4->tensorflow) (1.3.0)\n",
      "Requirement already satisfied: pyasn1>=0.1.3 in c:\\users\\rangy\\anaconda3\\lib\\site-packages (from rsa<5,>=3.1.4; python_version >= \"3.6\"->google-auth<2,>=1.6.3->tensorboard~=2.4->tensorflow) (0.4.8)\n",
      "Requirement already satisfied: oauthlib>=3.0.0 in c:\\users\\rangy\\anaconda3\\lib\\site-packages (from requests-oauthlib>=0.7.0->google-auth-oauthlib<0.5,>=0.4.1->tensorboard~=2.4->tensorflow) (3.1.0)\n",
      "Note: you may need to restart the kernel to use updated packages.\n"
     ]
    }
   ],
   "source": [
    "%pip install keras\n",
    "%pip install tensorflow\n",
    "import tensorflow\n",
    "import keras\n",
    "from keras.models import Sequential\n",
    "from keras.layers import Activation, Dense, LSTM"
   ]
  },
  {
   "cell_type": "code",
   "execution_count": 215,
   "metadata": {},
   "outputs": [],
   "source": [
    "model = Sequential()\n",
    "model.add(LSTM(60, input_shape=(xtrain.shape[1], xtrain.shape[2])))\n",
    "model.add(Dense(1))\n",
    "model.compile(loss='mae', optimizer='adam')\n",
    "# fit network\n",
    "history = model.fit(xtrain, ytrain, epochs=50, batch_size=20, validation_data=(xtest, ytest), verbose=0, shuffle=False)"
   ]
  },
  {
   "cell_type": "code",
   "execution_count": 216,
   "metadata": {},
   "outputs": [
    {
     "data": {
      "image/png": "[encoded data removed]",
      "text/plain": [
       "<Figure size 432x288 with 1 Axes>"
      ]
     },
     "metadata": {
      "needs_background": "light"
     },
     "output_type": "display_data"
    }
   ],
   "source": [
    "from matplotlib import pyplot\n",
    "pyplot.plot(history.history['loss'], label='train')\n",
    "pyplot.plot(history.history['val_loss'], label='test')\n",
    "pyplot.legend()\n",
    "pyplot.show()"
   ]
  },
  {
   "cell_type": "code",
   "execution_count": 217,
   "metadata": {},
   "outputs": [
    {
     "data": {
      "text/plain": [
       "10.948436062533657"
      ]
     },
     "execution_count": 217,
     "metadata": {},
     "output_type": "execute_result"
    }
   ],
   "source": [
    "yhat = model.predict(xtest)\n",
    "from sklearn.metrics import mean_absolute_error\n",
    "mean_absolute_error(yhat,ytest)"
   ]
  },
  {
   "cell_type": "code",
   "execution_count": 250,
   "metadata": {},
   "outputs": [],
   "source": [
    "bivar = series_to_supervised(label[['cooler_condition', 'valve_condition', 'pump_leak','stable_flag']],n_in=2,n_out=1)\n",
    "bivar = bivar.values\n",
    "\n",
    "train_second,test_second = bivar[:1201,:], bivar[1202:,:]\n",
    "\n",
    "xtrain_second,ytrain_second = train_second[:,0:3],train_second[:,-1]\n",
    "xtest_second,ytest_second = test_second[:,0:3],test_second[:,-1]\n",
    "\n",
    "xtrain_second = xtrain_second.reshape((xtrain_second.shape[0], 1, xtrain_second.shape[1]))\n",
    "xtest_second = xtest_second.reshape((xtest_second.shape[0], 1, xtest_second.shape[1]))\n"
   ]
  },
  {
   "cell_type": "code",
   "execution_count": 254,
   "metadata": {},
   "outputs": [],
   "source": [
    "bimodel = Sequential()\n",
    "bimodel.add(LSTM(60, input_shape=(xtrain_second.shape[1], xtrain_second.shape[2])))\n",
    "bimodel.add(Dense(5))\n",
    "bimodel.add(Dense(1))\n",
    "bimodel.compile(loss='mae', optimizer='adam')\n",
    "# fit network\n",
    "bihistory = bimodel.fit(xtrain_second, ytrain_second, epochs=100, batch_size=20, validation_data=(xtest_second, ytest_second), verbose=0, shuffle=False)"
   ]
  },
  {
   "cell_type": "code",
   "execution_count": 255,
   "metadata": {},
   "outputs": [
    {
     "data": {
      "image/png": "[encoded data removed]",
      "text/plain": [
       "<Figure size 432x288 with 1 Axes>"
      ]
     },
     "metadata": {
      "needs_background": "light"
     },
     "output_type": "display_data"
    }
   ],
   "source": [
    "pyplot.plot(bihistory.history['loss'], label='train')\n",
    "pyplot.plot(bihistory.history['val_loss'], label='test')\n",
    "pyplot.legend()\n",
    "pyplot.show()"
   ]
  },
  {
   "cell_type": "code",
   "execution_count": 256,
   "metadata": {},
   "outputs": [],
   "source": [
    "trivar = series_to_supervised(label[['cooler_condition', 'valve_condition', 'pump_leak']],n_in=2,n_out=1)\n",
    "trivar = trivar.values\n",
    "\n",
    "train_third,test_third = trivar[:1201,:], trivar[1202:,:]\n",
    "\n",
    "xtrain_third,ytrain_third = train_third[:,0:2],train_third[:,-1]\n",
    "xtest_third,ytest_third = test_third[:,0:2],test_third[:,-1]\n",
    "\n",
    "xtrain_third = xtrain_third.reshape((xtrain_third.shape[0], 1, xtrain_third.shape[1]))\n",
    "xtest_third = xtest_third.reshape((xtest_third.shape[0], 1, xtest_third.shape[1]))\n",
    "\n",
    "trimodel = Sequential()\n",
    "trimodel.add(LSTM(60, input_shape=(xtrain_third.shape[1], xtrain_third.shape[2])))\n",
    "trimodel.add(Dense(1))\n",
    "trimodel.compile(loss='mae', optimizer='adam')\n",
    "# fit network\n",
    "trihistory = trimodel.fit(xtrain_third, ytrain_third, epochs=50, batch_size=20, validation_data=(xtest_third, ytest_third), verbose=0, shuffle=False)"
   ]
  },
  {
   "cell_type": "code",
   "execution_count": 257,
   "metadata": {},
   "outputs": [
    {
     "data": {
      "image/png": "[encoded data removed]",
      "text/plain": [
       "<Figure size 432x288 with 1 Axes>"
      ]
     },
     "metadata": {
      "needs_background": "light"
     },
     "output_type": "display_data"
    }
   ],
   "source": [
    "pyplot.plot(trihistory.history['loss'], label='train')\n",
    "pyplot.plot(trihistory.history['val_loss'], label='test')\n",
    "pyplot.legend()\n",
    "pyplot.show()"
   ]
  },
  {
   "cell_type": "code",
   "execution_count": 258,
   "metadata": {},
   "outputs": [],
   "source": [
    "valvevar = series_to_supervised(label[['valve_condition']],n_in=2,n_out=1)\n",
    "valvevar = valvevar.values\n",
    "\n",
    "train_valve,test_valve = valvevar[:1201,:], valvevar[1202:,:]\n",
    "\n",
    "xtrain_valve,ytrain_valve = train_valve[:,0:2],train_valve[:,-1]\n",
    "xtest_valve,ytest_valve = test_valve[:,0:2],test_valve[:,-1]\n",
    "\n",
    "xtrain_valve = xtrain_valve.reshape((xtrain_valve.shape[0], 1, xtrain_valve.shape[1]))\n",
    "xtest_valve = xtest_valve.reshape((xtest_valve.shape[0], 1, xtest_valve.shape[1]))"
   ]
  },
  {
   "cell_type": "code",
   "execution_count": 259,
   "metadata": {},
   "outputs": [],
   "source": [
    "valve_model = Sequential()\n",
    "valve_model.add(LSTM(60, input_shape=(xtrain_valve.shape[1], xtrain_valve.shape[2])))\n",
    "valve_model.add(Dense(1))\n",
    "valve_model.compile(loss='mae', optimizer='adam')\n",
    "# fit network\n",
    "valve_history = valve_model.fit(xtrain_valve, ytrain_valve, epochs=50, batch_size=20, validation_data=(xtest_valve, ytest_valve), verbose=0, shuffle=False)"
   ]
  },
  {
   "cell_type": "code",
   "execution_count": 260,
   "metadata": {},
   "outputs": [
    {
     "data": {
      "image/png": "[encoded data removed]",
      "text/plain": [
       "<Figure size 432x288 with 1 Axes>"
      ]
     },
     "metadata": {
      "needs_background": "light"
     },
     "output_type": "display_data"
    }
   ],
   "source": [
    "pyplot.plot(valve_history.history['loss'], label='train')\n",
    "pyplot.plot(valve_history.history['val_loss'], label='test')\n",
    "pyplot.legend()\n",
    "pyplot.show()"
   ]
  },
  {
   "cell_type": "code",
   "execution_count": 27,
   "metadata": {},
   "outputs": [
    {
     "data": {
      "text/html": [
       "<div>\n",
       "<style scoped>\n",
       "    .dataframe tbody tr th:only-of-type {\n",
       "        vertical-align: middle;\n",
       "    }\n",
       "\n",
       "    .dataframe tbody tr th {\n",
       "        vertical-align: top;\n",
       "    }\n",
       "\n",
       "    .dataframe thead th {\n",
       "        text-align: right;\n",
       "    }\n",
       "</style>\n",
       "<table border=\"1\" class=\"dataframe\">\n",
       "  <thead>\n",
       "    <tr style=\"text-align: right;\">\n",
       "      <th></th>\n",
       "      <th>seconds</th>\n",
       "      <th>cycle</th>\n",
       "      <th>rangy\\Downloads\\hyddata\\features\\CE</th>\n",
       "      <th>rangy\\Downloads\\hyddata\\features\\CP</th>\n",
       "      <th>rangy\\Downloads\\hyddata\\features\\EPS1</th>\n",
       "      <th>rangy\\Downloads\\hyddata\\features\\FS1</th>\n",
       "      <th>rangy\\Downloads\\hyddata\\features\\FS2</th>\n",
       "      <th>rangy\\Downloads\\hyddata\\features\\PS1</th>\n",
       "      <th>rangy\\Downloads\\hyddata\\features\\PS2</th>\n",
       "      <th>rangy\\Downloads\\hyddata\\features\\PS3</th>\n",
       "      <th>rangy\\Downloads\\hyddata\\features\\PS4</th>\n",
       "      <th>rangy\\Downloads\\hyddata\\features\\PS5</th>\n",
       "      <th>rangy\\Downloads\\hyddata\\features\\PS6</th>\n",
       "      <th>rangy\\Downloads\\hyddata\\features\\SE</th>\n",
       "      <th>rangy\\Downloads\\hyddata\\features\\TS1</th>\n",
       "      <th>rangy\\Downloads\\hyddata\\features\\TS2</th>\n",
       "      <th>rangy\\Downloads\\hyddata\\features\\TS3</th>\n",
       "      <th>rangy\\Downloads\\hyddata\\features\\TS4</th>\n",
       "      <th>rangy\\Downloads\\hyddata\\features\\VS1</th>\n",
       "    </tr>\n",
       "  </thead>\n",
       "  <tbody>\n",
       "    <tr>\n",
       "      <th>0</th>\n",
       "      <td>0</td>\n",
       "      <td>0</td>\n",
       "      <td>47.202</td>\n",
       "      <td>2.184</td>\n",
       "      <td>2411.6</td>\n",
       "      <td>8.990</td>\n",
       "      <td>10.179</td>\n",
       "      <td>151.47</td>\n",
       "      <td>125.500</td>\n",
       "      <td>2.305</td>\n",
       "      <td>0.000</td>\n",
       "      <td>9.936</td>\n",
       "      <td>9.818</td>\n",
       "      <td>68.039</td>\n",
       "      <td>35.570</td>\n",
       "      <td>40.961</td>\n",
       "      <td>38.320</td>\n",
       "      <td>30.363</td>\n",
       "      <td>0.604</td>\n",
       "    </tr>\n",
       "    <tr>\n",
       "      <th>1</th>\n",
       "      <td>1</td>\n",
       "      <td>0</td>\n",
       "      <td>47.273</td>\n",
       "      <td>2.184</td>\n",
       "      <td>2411.6</td>\n",
       "      <td>0.770</td>\n",
       "      <td>10.174</td>\n",
       "      <td>151.45</td>\n",
       "      <td>125.390</td>\n",
       "      <td>2.305</td>\n",
       "      <td>0.000</td>\n",
       "      <td>9.947</td>\n",
       "      <td>9.823</td>\n",
       "      <td>0.000</td>\n",
       "      <td>35.492</td>\n",
       "      <td>40.949</td>\n",
       "      <td>38.332</td>\n",
       "      <td>30.375</td>\n",
       "      <td>0.605</td>\n",
       "    </tr>\n",
       "    <tr>\n",
       "      <th>2</th>\n",
       "      <td>2</td>\n",
       "      <td>0</td>\n",
       "      <td>47.250</td>\n",
       "      <td>2.184</td>\n",
       "      <td>2411.6</td>\n",
       "      <td>0.641</td>\n",
       "      <td>10.151</td>\n",
       "      <td>151.52</td>\n",
       "      <td>125.400</td>\n",
       "      <td>2.336</td>\n",
       "      <td>0.000</td>\n",
       "      <td>9.964</td>\n",
       "      <td>9.844</td>\n",
       "      <td>0.000</td>\n",
       "      <td>35.469</td>\n",
       "      <td>40.965</td>\n",
       "      <td>38.320</td>\n",
       "      <td>30.367</td>\n",
       "      <td>0.611</td>\n",
       "    </tr>\n",
       "    <tr>\n",
       "      <th>3</th>\n",
       "      <td>3</td>\n",
       "      <td>0</td>\n",
       "      <td>47.332</td>\n",
       "      <td>2.185</td>\n",
       "      <td>2411.6</td>\n",
       "      <td>0.006</td>\n",
       "      <td>10.149</td>\n",
       "      <td>151.27</td>\n",
       "      <td>125.030</td>\n",
       "      <td>2.578</td>\n",
       "      <td>0.000</td>\n",
       "      <td>9.989</td>\n",
       "      <td>9.861</td>\n",
       "      <td>0.000</td>\n",
       "      <td>35.422</td>\n",
       "      <td>40.922</td>\n",
       "      <td>38.324</td>\n",
       "      <td>30.367</td>\n",
       "      <td>0.603</td>\n",
       "    </tr>\n",
       "    <tr>\n",
       "      <th>4</th>\n",
       "      <td>4</td>\n",
       "      <td>0</td>\n",
       "      <td>47.213</td>\n",
       "      <td>2.178</td>\n",
       "      <td>2411.6</td>\n",
       "      <td>0.000</td>\n",
       "      <td>10.172</td>\n",
       "      <td>150.80</td>\n",
       "      <td>124.050</td>\n",
       "      <td>2.977</td>\n",
       "      <td>0.000</td>\n",
       "      <td>9.996</td>\n",
       "      <td>9.877</td>\n",
       "      <td>0.000</td>\n",
       "      <td>35.414</td>\n",
       "      <td>40.879</td>\n",
       "      <td>38.332</td>\n",
       "      <td>30.379</td>\n",
       "      <td>0.608</td>\n",
       "    </tr>\n",
       "    <tr>\n",
       "      <th>...</th>\n",
       "      <td>...</td>\n",
       "      <td>...</td>\n",
       "      <td>...</td>\n",
       "      <td>...</td>\n",
       "      <td>...</td>\n",
       "      <td>...</td>\n",
       "      <td>...</td>\n",
       "      <td>...</td>\n",
       "      <td>...</td>\n",
       "      <td>...</td>\n",
       "      <td>...</td>\n",
       "      <td>...</td>\n",
       "      <td>...</td>\n",
       "      <td>...</td>\n",
       "      <td>...</td>\n",
       "      <td>...</td>\n",
       "      <td>...</td>\n",
       "      <td>...</td>\n",
       "      <td>...</td>\n",
       "    </tr>\n",
       "    <tr>\n",
       "      <th>132295</th>\n",
       "      <td>55</td>\n",
       "      <td>2204</td>\n",
       "      <td>46.355</td>\n",
       "      <td>2.134</td>\n",
       "      <td>2652.0</td>\n",
       "      <td>0.001</td>\n",
       "      <td>10.179</td>\n",
       "      <td>186.38</td>\n",
       "      <td>0.562</td>\n",
       "      <td>0.000</td>\n",
       "      <td>10.235</td>\n",
       "      <td>9.999</td>\n",
       "      <td>9.873</td>\n",
       "      <td>68.167</td>\n",
       "      <td>35.441</td>\n",
       "      <td>40.910</td>\n",
       "      <td>38.195</td>\n",
       "      <td>30.395</td>\n",
       "      <td>0.516</td>\n",
       "    </tr>\n",
       "    <tr>\n",
       "      <th>132296</th>\n",
       "      <td>56</td>\n",
       "      <td>2204</td>\n",
       "      <td>46.432</td>\n",
       "      <td>2.146</td>\n",
       "      <td>2667.0</td>\n",
       "      <td>0.000</td>\n",
       "      <td>10.183</td>\n",
       "      <td>187.20</td>\n",
       "      <td>0.555</td>\n",
       "      <td>0.000</td>\n",
       "      <td>10.198</td>\n",
       "      <td>9.976</td>\n",
       "      <td>9.861</td>\n",
       "      <td>68.167</td>\n",
       "      <td>35.437</td>\n",
       "      <td>40.895</td>\n",
       "      <td>38.184</td>\n",
       "      <td>30.391</td>\n",
       "      <td>0.528</td>\n",
       "    </tr>\n",
       "    <tr>\n",
       "      <th>132297</th>\n",
       "      <td>57</td>\n",
       "      <td>2204</td>\n",
       "      <td>46.384</td>\n",
       "      <td>2.144</td>\n",
       "      <td>2690.8</td>\n",
       "      <td>0.000</td>\n",
       "      <td>10.198</td>\n",
       "      <td>187.80</td>\n",
       "      <td>0.484</td>\n",
       "      <td>0.000</td>\n",
       "      <td>10.191</td>\n",
       "      <td>9.960</td>\n",
       "      <td>9.837</td>\n",
       "      <td>68.258</td>\n",
       "      <td>35.434</td>\n",
       "      <td>40.883</td>\n",
       "      <td>38.184</td>\n",
       "      <td>30.395</td>\n",
       "      <td>0.522</td>\n",
       "    </tr>\n",
       "    <tr>\n",
       "      <th>132298</th>\n",
       "      <td>58</td>\n",
       "      <td>2204</td>\n",
       "      <td>46.479</td>\n",
       "      <td>2.136</td>\n",
       "      <td>2698.4</td>\n",
       "      <td>0.003</td>\n",
       "      <td>10.190</td>\n",
       "      <td>188.05</td>\n",
       "      <td>0.453</td>\n",
       "      <td>0.000</td>\n",
       "      <td>10.189</td>\n",
       "      <td>9.955</td>\n",
       "      <td>9.827</td>\n",
       "      <td>68.258</td>\n",
       "      <td>35.434</td>\n",
       "      <td>40.879</td>\n",
       "      <td>38.184</td>\n",
       "      <td>30.402</td>\n",
       "      <td>0.522</td>\n",
       "    </tr>\n",
       "    <tr>\n",
       "      <th>132299</th>\n",
       "      <td>59</td>\n",
       "      <td>2204</td>\n",
       "      <td>46.621</td>\n",
       "      <td>2.148</td>\n",
       "      <td>2710.4</td>\n",
       "      <td>0.001</td>\n",
       "      <td>10.199</td>\n",
       "      <td>188.34</td>\n",
       "      <td>0.445</td>\n",
       "      <td>0.000</td>\n",
       "      <td>10.173</td>\n",
       "      <td>9.960</td>\n",
       "      <td>9.831</td>\n",
       "      <td>68.117</td>\n",
       "      <td>35.426</td>\n",
       "      <td>40.891</td>\n",
       "      <td>38.187</td>\n",
       "      <td>30.375</td>\n",
       "      <td>0.531</td>\n",
       "    </tr>\n",
       "  </tbody>\n",
       "</table>\n",
       "<p>132300 rows × 19 columns</p>\n",
       "</div>"
      ],
      "text/plain": [
       "        seconds  cycle  rangy\\Downloads\\hyddata\\features\\CE  \\\n",
       "0             0      0                               47.202   \n",
       "1             1      0                               47.273   \n",
       "2             2      0                               47.250   \n",
       "3             3      0                               47.332   \n",
       "4             4      0                               47.213   \n",
       "...         ...    ...                                  ...   \n",
       "132295       55   2204                               46.355   \n",
       "132296       56   2204                               46.432   \n",
       "132297       57   2204                               46.384   \n",
       "132298       58   2204                               46.479   \n",
       "132299       59   2204                               46.621   \n",
       "\n",
       "        rangy\\Downloads\\hyddata\\features\\CP  \\\n",
       "0                                     2.184   \n",
       "1                                     2.184   \n",
       "2                                     2.184   \n",
       "3                                     2.185   \n",
       "4                                     2.178   \n",
       "...                                     ...   \n",
       "132295                                2.134   \n",
       "132296                                2.146   \n",
       "132297                                2.144   \n",
       "132298                                2.136   \n",
       "132299                                2.148   \n",
       "\n",
       "        rangy\\Downloads\\hyddata\\features\\EPS1  \\\n",
       "0                                      2411.6   \n",
       "1                                      2411.6   \n",
       "2                                      2411.6   \n",
       "3                                      2411.6   \n",
       "4                                      2411.6   \n",
       "...                                       ...   \n",
       "132295                                 2652.0   \n",
       "132296                                 2667.0   \n",
       "132297                                 2690.8   \n",
       "132298                                 2698.4   \n",
       "132299                                 2710.4   \n",
       "\n",
       "        rangy\\Downloads\\hyddata\\features\\FS1  \\\n",
       "0                                      8.990   \n",
       "1                                      0.770   \n",
       "2                                      0.641   \n",
       "3                                      0.006   \n",
       "4                                      0.000   \n",
       "...                                      ...   \n",
       "132295                                 0.001   \n",
       "132296                                 0.000   \n",
       "132297                                 0.000   \n",
       "132298                                 0.003   \n",
       "132299                                 0.001   \n",
       "\n",
       "        rangy\\Downloads\\hyddata\\features\\FS2  \\\n",
       "0                                     10.179   \n",
       "1                                     10.174   \n",
       "2                                     10.151   \n",
       "3                                     10.149   \n",
       "4                                     10.172   \n",
       "...                                      ...   \n",
       "132295                                10.179   \n",
       "132296                                10.183   \n",
       "132297                                10.198   \n",
       "132298                                10.190   \n",
       "132299                                10.199   \n",
       "\n",
       "        rangy\\Downloads\\hyddata\\features\\PS1  \\\n",
       "0                                     151.47   \n",
       "1                                     151.45   \n",
       "2                                     151.52   \n",
       "3                                     151.27   \n",
       "4                                     150.80   \n",
       "...                                      ...   \n",
       "132295                                186.38   \n",
       "132296                                187.20   \n",
       "132297                                187.80   \n",
       "132298                                188.05   \n",
       "132299                                188.34   \n",
       "\n",
       "        rangy\\Downloads\\hyddata\\features\\PS2  \\\n",
       "0                                    125.500   \n",
       "1                                    125.390   \n",
       "2                                    125.400   \n",
       "3                                    125.030   \n",
       "4                                    124.050   \n",
       "...                                      ...   \n",
       "132295                                 0.562   \n",
       "132296                                 0.555   \n",
       "132297                                 0.484   \n",
       "132298                                 0.453   \n",
       "132299                                 0.445   \n",
       "\n",
       "        rangy\\Downloads\\hyddata\\features\\PS3  \\\n",
       "0                                      2.305   \n",
       "1                                      2.305   \n",
       "2                                      2.336   \n",
       "3                                      2.578   \n",
       "4                                      2.977   \n",
       "...                                      ...   \n",
       "132295                                 0.000   \n",
       "132296                                 0.000   \n",
       "132297                                 0.000   \n",
       "132298                                 0.000   \n",
       "132299                                 0.000   \n",
       "\n",
       "        rangy\\Downloads\\hyddata\\features\\PS4  \\\n",
       "0                                      0.000   \n",
       "1                                      0.000   \n",
       "2                                      0.000   \n",
       "3                                      0.000   \n",
       "4                                      0.000   \n",
       "...                                      ...   \n",
       "132295                                10.235   \n",
       "132296                                10.198   \n",
       "132297                                10.191   \n",
       "132298                                10.189   \n",
       "132299                                10.173   \n",
       "\n",
       "        rangy\\Downloads\\hyddata\\features\\PS5  \\\n",
       "0                                      9.936   \n",
       "1                                      9.947   \n",
       "2                                      9.964   \n",
       "3                                      9.989   \n",
       "4                                      9.996   \n",
       "...                                      ...   \n",
       "132295                                 9.999   \n",
       "132296                                 9.976   \n",
       "132297                                 9.960   \n",
       "132298                                 9.955   \n",
       "132299                                 9.960   \n",
       "\n",
       "        rangy\\Downloads\\hyddata\\features\\PS6  \\\n",
       "0                                      9.818   \n",
       "1                                      9.823   \n",
       "2                                      9.844   \n",
       "3                                      9.861   \n",
       "4                                      9.877   \n",
       "...                                      ...   \n",
       "132295                                 9.873   \n",
       "132296                                 9.861   \n",
       "132297                                 9.837   \n",
       "132298                                 9.827   \n",
       "132299                                 9.831   \n",
       "\n",
       "        rangy\\Downloads\\hyddata\\features\\SE  \\\n",
       "0                                    68.039   \n",
       "1                                     0.000   \n",
       "2                                     0.000   \n",
       "3                                     0.000   \n",
       "4                                     0.000   \n",
       "...                                     ...   \n",
       "132295                               68.167   \n",
       "132296                               68.167   \n",
       "132297                               68.258   \n",
       "132298                               68.258   \n",
       "132299                               68.117   \n",
       "\n",
       "        rangy\\Downloads\\hyddata\\features\\TS1  \\\n",
       "0                                     35.570   \n",
       "1                                     35.492   \n",
       "2                                     35.469   \n",
       "3                                     35.422   \n",
       "4                                     35.414   \n",
       "...                                      ...   \n",
       "132295                                35.441   \n",
       "132296                                35.437   \n",
       "132297                                35.434   \n",
       "132298                                35.434   \n",
       "132299                                35.426   \n",
       "\n",
       "        rangy\\Downloads\\hyddata\\features\\TS2  \\\n",
       "0                                     40.961   \n",
       "1                                     40.949   \n",
       "2                                     40.965   \n",
       "3                                     40.922   \n",
       "4                                     40.879   \n",
       "...                                      ...   \n",
       "132295                                40.910   \n",
       "132296                                40.895   \n",
       "132297                                40.883   \n",
       "132298                                40.879   \n",
       "132299                                40.891   \n",
       "\n",
       "        rangy\\Downloads\\hyddata\\features\\TS3  \\\n",
       "0                                     38.320   \n",
       "1                                     38.332   \n",
       "2                                     38.320   \n",
       "3                                     38.324   \n",
       "4                                     38.332   \n",
       "...                                      ...   \n",
       "132295                                38.195   \n",
       "132296                                38.184   \n",
       "132297                                38.184   \n",
       "132298                                38.184   \n",
       "132299                                38.187   \n",
       "\n",
       "        rangy\\Downloads\\hyddata\\features\\TS4  \\\n",
       "0                                     30.363   \n",
       "1                                     30.375   \n",
       "2                                     30.367   \n",
       "3                                     30.367   \n",
       "4                                     30.379   \n",
       "...                                      ...   \n",
       "132295                                30.395   \n",
       "132296                                30.391   \n",
       "132297                                30.395   \n",
       "132298                                30.402   \n",
       "132299                                30.375   \n",
       "\n",
       "        rangy\\Downloads\\hyddata\\features\\VS1  \n",
       "0                                      0.604  \n",
       "1                                      0.605  \n",
       "2                                      0.611  \n",
       "3                                      0.603  \n",
       "4                                      0.608  \n",
       "...                                      ...  \n",
       "132295                                 0.516  \n",
       "132296                                 0.528  \n",
       "132297                                 0.522  \n",
       "132298                                 0.522  \n",
       "132299                                 0.531  \n",
       "\n",
       "[132300 rows x 19 columns]"
      ]
     },
     "execution_count": 27,
     "metadata": {},
     "output_type": "execute_result"
    }
   ],
   "source": [
    "features_join"
   ]
  },
  {
   "cell_type": "code",
   "execution_count": 25,
   "metadata": {},
   "outputs": [
    {
     "data": {
      "text/plain": [
       "(2205, 5)"
      ]
     },
     "execution_count": 25,
     "metadata": {},
     "output_type": "execute_result"
    }
   ],
   "source": [
    "label.shape"
   ]
  },
  {
   "cell_type": "code",
   "execution_count": 37,
   "metadata": {},
   "outputs": [],
   "source": [
    "cols = list(features_join.columns)\n",
    "cols.remove('seconds')"
   ]
  },
  {
   "cell_type": "code",
   "execution_count": 42,
   "metadata": {},
   "outputs": [],
   "source": [
    "features_join_grp = features_join.groupby('cycle').agg(np.mean)"
   ]
  },
  {
   "cell_type": "code",
   "execution_count": 44,
   "metadata": {},
   "outputs": [
    {
     "data": {
      "text/plain": [
       "(2205, 18)"
      ]
     },
     "execution_count": 44,
     "metadata": {},
     "output_type": "execute_result"
    }
   ],
   "source": [
    "features_join_grp.shape"
   ]
  },
  {
   "cell_type": "code",
   "execution_count": 74,
   "metadata": {},
   "outputs": [],
   "source": [
    "features_join_grp.drop(columns=['seconds'],inplace=True)"
   ]
  },
  {
   "cell_type": "code",
   "execution_count": 100,
   "metadata": {},
   "outputs": [],
   "source": [
    "quadvar_y = label['hydraulic_accumulator']\n",
    "quadvar_x = features_join_grp.values\n",
    "\n",
    "\n",
    "xtrain_quad,ytrain_quad = quadvar_x[:1201,:], quadvar_y[:1201,]\n",
    "xtest_quad,ytest_quad = quadvar_x[1202:,:],quadvar_y[1202:,]\n",
    "\n",
    "xtrain_quad = xtrain_quad.reshape((xtrain_quad.shape[0], 1, xtrain_quad.shape[1]))\n",
    "xtest_quad = xtest_quad.reshape((xtest_quad.shape[0], 1, xtest_quad.shape[1]))\n",
    "\n",
    "quadmodel = Sequential()\n",
    "quadmodel.add(LSTM(60, input_shape=(xtrain_quad.shape[1], xtrain_quad.shape[2])))\n",
    "quadmodel.add(Dense(5))\n",
    "quadmodel.add(Dense(1))\n",
    "quadmodel.compile(loss='mae', optimizer='adam')"
   ]
  },
  {
   "cell_type": "code",
   "execution_count": 95,
   "metadata": {},
   "outputs": [],
   "source": [
    " # fit network\n",
    "quadhistory = quadmodel.fit(xtrain_quad, ytrain_quad, epochs=50, batch_size=5, validation_data=(xtest_quad, ytest_quad), verbose=0, shuffle=False)"
   ]
  },
  {
   "cell_type": "code",
   "execution_count": 96,
   "metadata": {},
   "outputs": [
    {
     "data": {
      "image/png": "[encoded data removed]",
      "text/plain": [
       "<Figure size 432x288 with 1 Axes>"
      ]
     },
     "metadata": {
      "needs_background": "light"
     },
     "output_type": "display_data"
    }
   ],
   "source": [
    "from matplotlib import pyplot\n",
    "pyplot.plot(quadhistory.history['loss'], label='train')\n",
    "pyplot.plot(quadhistory.history['val_loss'], label='test')\n",
    "pyplot.legend()\n",
    "pyplot.show()"
   ]
  },
  {
   "cell_type": "code",
   "execution_count": 104,
   "metadata": {},
   "outputs": [
    {
     "data": {
      "image/png": "[encoded data removed]",
      "text/plain": [
       "<Figure size 432x288 with 1 Axes>"
      ]
     },
     "metadata": {
      "needs_background": "light"
     },
     "output_type": "display_data"
    }
   ],
   "source": [
    " # fit network\n",
    "quadhistory = quadmodel.fit(xtrain_quad, ytrain_quad, epochs=50, batch_size=10, validation_data=(xtest_quad, ytest_quad), verbose=0, shuffle=False)\n",
    "\n",
    "from matplotlib import pyplot\n",
    "pyplot.plot(quadhistory.history['loss'], label='train')\n",
    "pyplot.plot(quadhistory.history['val_loss'], label='test')\n",
    "pyplot.legend()\n",
    "pyplot.show()"
   ]
  },
  {
   "cell_type": "code",
   "execution_count": null,
   "metadata": {},
   "outputs": [],
   "source": []
  }
 ],
 "metadata": {
  "kernelspec": {
   "display_name": "Python 3",
   "language": "python",
   "name": "python3"
  },
  "language_info": {
   "codemirror_mode": {
    "name": "ipython",
    "version": 3
   },
   "file_extension": ".py",
   "mimetype": "text/x-python",
   "name": "python",
   "nbconvert_exporter": "python",
   "pygments_lexer": "ipython3",
   "version": "3.8.5"
  }
 },
 "nbformat": 4,
 "nbformat_minor": 4
}
