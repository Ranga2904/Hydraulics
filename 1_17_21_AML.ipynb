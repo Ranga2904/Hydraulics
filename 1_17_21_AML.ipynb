{
  "cells": [
    {
      "cell_type": "code",
      "source": [
        "import pandas as pd\r\n",
        "import numpy as np\r\n",
        "import glob"
      ],
      "outputs": [],
      "execution_count": 1,
      "metadata": {
        "gather": {
          "logged": 1610899027170
        }
      }
    },
    {
      "cell_type": "code",
      "source": [
        "a = glob.glob('./features/*.txt')\r\n",
        "features={}\r\n",
        "\r\n",
        "for name in a:\r\n",
        "    try:\r\n",
        "        with open(name) as f:\r\n",
        "            # read in the data \r\n",
        "            temp_df = pd.read_csv(name,delim_whitespace=True,header=None)\r\n",
        "            # make the row names cycle as a variable\r\n",
        "            temp_df.index.name = 'cycle'\r\n",
        "            temp_df.reset_index(inplace=True)\r\n",
        "            # transpose the data \r\n",
        "            temp_df_transposed= temp_df.T\r\n",
        "            # make the seconds a variable, call it \"time”\r\n",
        "            temp_df_transposed.index.name = 'time'\r\n",
        "            temp_df_transposed.reset_index(inplace=True)\r\n",
        "            # add a prefix cycle in the column names to help with pivoting data (from wide to long)\r\n",
        "            string = ' cycle'.join(str(e) for e in list(temp_df_transposed.columns))\r\n",
        "            temp_df_transposed.columns = string.split(\" \")\r\n",
        "            # From wide to long to help with joining all the variables \r\n",
        "            temp_df_long = pd.wide_to_long(temp_df_transposed.iloc[1:,:],stubnames='cycle', i=['time'], j='c')\r\n",
        "            temp_df_long.reset_index(inplace=True)\r\n",
        "            # save each data variable in the long format into separate data frames in the dictionary called \"features\"\r\n",
        "            # but exclude path and txt in the names\r\n",
        "            features[name[9:-4]] = temp_df_long\r\n",
        "                        \r\n",
        "           \r\n",
        "    \r\n",
        "    # prevent a possible error\r\n",
        "    except IOError as exc:\r\n",
        "        if exc.errno != errno.EISDIR:\r\n",
        "            raise"
      ],
      "outputs": [],
      "execution_count": 2,
      "metadata": {
        "collapsed": true,
        "jupyter": {
          "source_hidden": false,
          "outputs_hidden": false
        },
        "nteract": {
          "transient": {
            "deleting": false
          }
        },
        "gather": {
          "logged": 1610899148658
        }
      }
    },
    {
      "cell_type": "code",
      "source": [
        "for key in list(features.keys()):\r\n",
        "    features[key].columns=['seconds','cycle',key]"
      ],
      "outputs": [],
      "execution_count": 3,
      "metadata": {
        "collapsed": true,
        "jupyter": {
          "source_hidden": false,
          "outputs_hidden": false
        },
        "nteract": {
          "transient": {
            "deleting": false
          }
        },
        "gather": {
          "logged": 1610899148894
        }
      }
    },
    {
      "cell_type": "code",
      "source": [
        "dfs= [features['s/CP'],\r\n",
        "      features['s/CE'],\r\n",
        "      features['s/EPS1'],\r\n",
        "      features['s/FS1'],\r\n",
        "      features['s/FS2'],\r\n",
        "      features['s/PS1'],\r\n",
        "      features['s/PS2'],\r\n",
        "      features['s/PS3'],\r\n",
        "      features['s/PS4'],\r\n",
        "      features['s/PS5'],\r\n",
        "      features['s/PS6'],\r\n",
        "      features['s/SE'],\r\n",
        "      features['s/TS1'],\r\n",
        "      features['s/TS2'],\r\n",
        "      features['s/TS3'],\r\n",
        "      features['s/TS4'],\r\n",
        "     features['s/VS1']]"
      ],
      "outputs": [],
      "execution_count": 4,
      "metadata": {
        "collapsed": true,
        "jupyter": {
          "source_hidden": false,
          "outputs_hidden": false
        },
        "nteract": {
          "transient": {
            "deleting": false
          }
        },
        "gather": {
          "logged": 1610899148992
        }
      }
    },
    {
      "cell_type": "code",
      "source": [
        "from functools import reduce\r\n",
        "feats_join = reduce(lambda x,y: pd.merge(x,y,on=['seconds','cycle']),dfs)"
      ],
      "outputs": [],
      "execution_count": 5,
      "metadata": {
        "collapsed": true,
        "jupyter": {
          "source_hidden": false,
          "outputs_hidden": false
        },
        "nteract": {
          "transient": {
            "deleting": false
          }
        },
        "gather": {
          "logged": 1610899167206
        }
      }
    },
    {
      "cell_type": "code",
      "source": [
        "label = pd.read_csv('profile.txt',delim_whitespace=True)\r\n",
        "label.columns = ['cooler_condition', 'valve_condition', 'pump_leak', 'hydraulic_accumulator', 'stable_flag']"
      ],
      "outputs": [],
      "execution_count": 6,
      "metadata": {
        "collapsed": true,
        "jupyter": {
          "source_hidden": false,
          "outputs_hidden": false
        },
        "nteract": {
          "transient": {
            "deleting": false
          }
        },
        "gather": {
          "logged": 1610899167399
        }
      }
    },
    {
      "cell_type": "code",
      "source": [
        "%pip install tsfresh"
      ],
      "outputs": [
        {
          "output_type": "stream",
          "name": "stdout",
          "text": [
            "Collecting tsfresh\n",
            "  Downloading tsfresh-0.17.0-py2.py3-none-any.whl (91 kB)\n",
            "\u001b[K     |████████████████████████████████| 91 kB 3.2 MB/s eta 0:00:011\n",
            "\u001b[?25hRequirement already satisfied: scipy>=1.2.0 in /anaconda/envs/azureml_py36/lib/python3.6/site-packages (from tsfresh) (1.5.2)\n",
            "Requirement already satisfied: statsmodels>=0.9.0 in /anaconda/envs/azureml_py36/lib/python3.6/site-packages (from tsfresh) (0.10.2)\n",
            "Requirement already satisfied: pandas>=0.25.0 in /anaconda/envs/azureml_py36/lib/python3.6/site-packages (from tsfresh) (0.25.3)\n",
            "Requirement already satisfied: requests>=2.9.1 in /anaconda/envs/azureml_py36/lib/python3.6/site-packages (from tsfresh) (2.25.0)\n",
            "Requirement already satisfied: tqdm>=4.10.0 in /anaconda/envs/azureml_py36/lib/python3.6/site-packages (from tsfresh) (4.54.0)\n",
            "Requirement already satisfied: scikit-learn>=0.19.2 in /anaconda/envs/azureml_py36/lib/python3.6/site-packages (from tsfresh) (0.22.2.post1)\n",
            "Collecting distributed>=2.11.0\n",
            "  Downloading distributed-2021.1.0-py3-none-any.whl (671 kB)\n",
            "\u001b[K     |████████████████████████████████| 671 kB 7.2 MB/s eta 0:00:01\n",
            "\u001b[?25hRequirement already satisfied: numpy>=1.15.1 in /anaconda/envs/azureml_py36/lib/python3.6/site-packages (from tsfresh) (1.18.5)\n",
            "Requirement already satisfied: patsy>=0.4.1 in /anaconda/envs/azureml_py36/lib/python3.6/site-packages (from tsfresh) (0.5.1)\n",
            "Collecting dask[dataframe]>=2.9.0\n",
            "  Downloading dask-2021.1.0-py3-none-any.whl (889 kB)\n",
            "\u001b[K     |████████████████████████████████| 889 kB 9.0 MB/s eta 0:00:01\n",
            "\u001b[?25hRequirement already satisfied: pytz>=2017.2 in /anaconda/envs/azureml_py36/lib/python3.6/site-packages (from pandas>=0.25.0->tsfresh) (2020.4)\n",
            "Requirement already satisfied: python-dateutil>=2.6.1 in /anaconda/envs/azureml_py36/lib/python3.6/site-packages (from pandas>=0.25.0->tsfresh) (2.8.1)\n",
            "Requirement already satisfied: idna<3,>=2.5 in /anaconda/envs/azureml_py36/lib/python3.6/site-packages (from requests>=2.9.1->tsfresh) (2.10)\n",
            "Requirement already satisfied: certifi>=2017.4.17 in /anaconda/envs/azureml_py36/lib/python3.6/site-packages (from requests>=2.9.1->tsfresh) (2020.11.8)\n",
            "Requirement already satisfied: urllib3<1.27,>=1.21.1 in /anaconda/envs/azureml_py36/lib/python3.6/site-packages (from requests>=2.9.1->tsfresh) (1.25.11)\n",
            "Requirement already satisfied: chardet<4,>=3.0.2 in /anaconda/envs/azureml_py36/lib/python3.6/site-packages (from requests>=2.9.1->tsfresh) (3.0.4)\n",
            "Requirement already satisfied: joblib>=0.11 in /anaconda/envs/azureml_py36/lib/python3.6/site-packages (from scikit-learn>=0.19.2->tsfresh) (0.14.1)\n",
            "Requirement already satisfied: click>=6.6 in /anaconda/envs/azureml_py36/lib/python3.6/site-packages (from distributed>=2.11.0->tsfresh) (7.1.2)\n",
            "Requirement already satisfied: setuptools in /anaconda/envs/azureml_py36/lib/python3.6/site-packages (from distributed>=2.11.0->tsfresh) (50.3.0.post20201006)\n",
            "Collecting toolz>=0.8.2\n",
            "  Downloading toolz-0.11.1-py3-none-any.whl (55 kB)\n",
            "\u001b[K     |████████████████████████████████| 55 kB 2.9 MB/s  eta 0:00:01\n",
            "\u001b[?25hRequirement already satisfied: cloudpickle>=1.5.0 in /anaconda/envs/azureml_py36/lib/python3.6/site-packages (from distributed>=2.11.0->tsfresh) (1.6.0)\n",
            "Requirement already satisfied: msgpack>=0.6.0 in /anaconda/envs/azureml_py36/lib/python3.6/site-packages (from distributed>=2.11.0->tsfresh) (1.0.2)\n",
            "Requirement already satisfied: tornado>=5; python_version < \"3.8\" in /anaconda/envs/azureml_py36/lib/python3.6/site-packages (from distributed>=2.11.0->tsfresh) (6.1)\n",
            "Collecting zict>=0.1.3\n",
            "  Downloading zict-2.0.0-py3-none-any.whl (10 kB)\n",
            "Requirement already satisfied: contextvars; python_version < \"3.7\" in /anaconda/envs/azureml_py36/lib/python3.6/site-packages (from distributed>=2.11.0->tsfresh) (2.4)\n",
            "Collecting sortedcontainers!=2.0.0,!=2.0.1\n",
            "  Downloading sortedcontainers-2.3.0-py2.py3-none-any.whl (29 kB)\n",
            "Requirement already satisfied: psutil>=5.0 in /anaconda/envs/azureml_py36/lib/python3.6/site-packages (from distributed>=2.11.0->tsfresh) (5.7.3)\n",
            "Requirement already satisfied: pyyaml in /anaconda/envs/azureml_py36/lib/python3.6/site-packages (from distributed>=2.11.0->tsfresh) (5.3.1)\n",
            "Collecting tblib>=1.6.0\n",
            "  Downloading tblib-1.7.0-py2.py3-none-any.whl (12 kB)\n",
            "Requirement already satisfied: six in /anaconda/envs/azureml_py36/lib/python3.6/site-packages (from patsy>=0.4.1->tsfresh) (1.15.0)\n",
            "Collecting partd>=0.3.10; extra == \"dataframe\"\n",
            "  Downloading partd-1.1.0-py3-none-any.whl (19 kB)\n",
            "Collecting fsspec>=0.6.0; extra == \"dataframe\"\n",
            "  Downloading fsspec-0.8.5-py3-none-any.whl (98 kB)\n",
            "\u001b[K     |████████████████████████████████| 98 kB 5.5 MB/s  eta 0:00:01\n",
            "\u001b[?25hCollecting heapdict\n",
            "  Downloading HeapDict-1.0.1-py3-none-any.whl (3.9 kB)\n",
            "Requirement already satisfied: immutables>=0.9 in /anaconda/envs/azureml_py36/lib/python3.6/site-packages (from contextvars; python_version < \"3.7\"->distributed>=2.11.0->tsfresh) (0.14)\n",
            "Collecting locket\n",
            "  Downloading locket-0.2.0.tar.gz (3.5 kB)\n",
            "Building wheels for collected packages: locket\n",
            "  Building wheel for locket (setup.py) ... \u001b[?25l-\b \b\\\b \bdone\n",
            "\u001b[?25h  Created wheel for locket: filename=locket-0.2.0-py3-none-any.whl size=4040 sha256=35918e3f1ec2cb8574a1cb83bf31aca4eb6674f7138c86a0478be0b002c9176e\n",
            "  Stored in directory: /home/azureuser/.cache/pip/wheels/21/ca/95/1e41f9a9a7a06ba06874ad2bf0eac88e7ba02fe9a6ff26c77d\n",
            "Successfully built locket\n",
            "Installing collected packages: toolz, heapdict, zict, sortedcontainers, tblib, locket, partd, fsspec, dask, distributed, tsfresh\n",
            "Successfully installed dask-2021.1.0 distributed-2021.1.0 fsspec-0.8.5 heapdict-1.0.1 locket-0.2.0 partd-1.1.0 sortedcontainers-2.3.0 tblib-1.7.0 toolz-0.11.1 tsfresh-0.17.0 zict-2.0.0\n",
            "Note: you may need to restart the kernel to use updated packages.\n"
          ]
        }
      ],
      "execution_count": 7,
      "metadata": {
        "collapsed": true,
        "jupyter": {
          "source_hidden": false,
          "outputs_hidden": false
        },
        "nteract": {
          "transient": {
            "deleting": false
          }
        }
      }
    },
    {
      "cell_type": "code",
      "source": [
        "from azureml.core import Workspace, Experiment, Dataset, Model\r\n",
        "from azureml.widgets import RunDetails\r\n",
        "from azureml.train.automl import AutoMLConfig\r\n",
        "import joblib, pickle\r\n",
        "\r\n",
        "\r\n",
        "from tsfresh.transformers import RelevantFeatureAugmenter\r\n",
        "from sklearn.pipeline import Pipeline\r\n",
        "\r\n",
        "from tsfresh import extract_features\r\n",
        "from tsfresh.utilities.dataframe_functions import impute\r\n",
        "from tsfresh import extract_relevant_features\r\n",
        "from tsfresh.feature_selection import select_features\r\n",
        "\r\n"
      ],
      "outputs": [],
      "execution_count": 11,
      "metadata": {
        "collapsed": true,
        "jupyter": {
          "source_hidden": false,
          "outputs_hidden": false
        },
        "nteract": {
          "transient": {
            "deleting": false
          }
        },
        "gather": {
          "logged": 1610902115108
        }
      }
    },
    {
      "cell_type": "code",
      "source": [
        "# Automatic feautre extraction using the tsfresh package\r\n",
        "extracted_features = extract_features(feats_join, column_id=\"cycle\", column_sort=\"seconds\")\r\n",
        "# Impute any possible missing values \r\n",
        "impute(extracted_features)"
      ],
      "outputs": [
        {
          "output_type": "stream",
          "name": "stderr",
          "text": [
            "Feature Extraction: 100%|██████████| 10/10 [20:51<00:00, 125.13s/it]\n",
            "/anaconda/envs/azureml_py36/lib/python3.6/site-packages/tsfresh/utilities/dataframe_functions.py:172: RuntimeWarning: The columns ['s/PS5__fft_coefficient__attr_\"real\"__coeff_31'\n",
            " 's/PS5__fft_coefficient__attr_\"real\"__coeff_32'\n",
            " 's/PS5__fft_coefficient__attr_\"real\"__coeff_33' ...\n",
            " 's/PS4__fft_coefficient__attr_\"angle\"__coeff_97'\n",
            " 's/PS4__fft_coefficient__attr_\"angle\"__coeff_98'\n",
            " 's/PS4__fft_coefficient__attr_\"angle\"__coeff_99'] did not have any finite values. Filling with zeros.\n",
            "  df.iloc[:, np.where(is_col_non_finite)[0]].columns.values), RuntimeWarning)\n"
          ]
        },
        {
          "output_type": "execute_result",
          "execution_count": 9,
          "data": {
            "text/plain": "      s/PS5__variance_larger_than_standard_deviation  \\\n0                                                0.0   \n1                                                0.0   \n2                                                0.0   \n3                                                0.0   \n4                                                0.0   \n...                                              ...   \n2200                                             0.0   \n2201                                             0.0   \n2202                                             0.0   \n2203                                             0.0   \n2204                                             0.0   \n\n      s/PS5__has_duplicate_max  s/PS5__has_duplicate_min  \\\n0                          0.0                       0.0   \n1                          0.0                       0.0   \n2                          0.0                       1.0   \n3                          0.0                       0.0   \n4                          1.0                       1.0   \n...                        ...                       ...   \n2200                       0.0                       0.0   \n2201                       0.0                       0.0   \n2202                       0.0                       1.0   \n2203                       1.0                       0.0   \n2204                       0.0                       0.0   \n\n      s/PS5__has_duplicate  s/PS5__sum_values  s/PS5__abs_energy  \\\n0                      1.0            597.793        5955.965499   \n1                      1.0            582.611        5657.283409   \n2                      1.0            576.258        5534.577636   \n3                      1.0            570.020        5415.403256   \n4                      1.0            564.123        5303.934739   \n...                    ...                ...                ...   \n2200                   1.0            598.589        5971.837225   \n2201                   1.0            598.424        5968.545638   \n2202                   1.0            598.104        5962.162836   \n2203                   1.0            598.003        5960.148517   \n2204                   1.0            598.688        5973.812176   \n\n      s/PS5__mean_abs_change  s/PS5__mean_change  \\\n0                   0.013492            0.000000   \n1                   0.013356            0.000237   \n2                   0.012441            0.000237   \n3                   0.013136           -0.000051   \n4                   0.012034            0.000237   \n...                      ...                 ...   \n2200                0.013305            0.000017   \n2201                0.012373            0.000475   \n2202                0.013017           -0.000169   \n2203                0.012695            0.000153   \n2204                0.012831           -0.000153   \n\n      s/PS5__mean_second_derivative_central  s/PS5__median  ...  \\\n0                                 -0.000250         9.9640  ...   \n1                                 -0.000034         9.7100  ...   \n2                                  0.000043         9.6040  ...   \n3                                  0.000216         9.5000  ...   \n4                                  0.000112         9.4025  ...   \n...                                     ...            ...  ...   \n2200                              -0.000147         9.9755  ...   \n2201                               0.000052         9.9720  ...   \n2202                               0.000009         9.9680  ...   \n2203                               0.000121         9.9650  ...   \n2204                              -0.000121         9.9760  ...   \n\n      s/PS4__fourier_entropy__bins_2  s/PS4__fourier_entropy__bins_3  \\\n0                           0.142506                        0.142506   \n1                           0.142506                        0.142506   \n2                           0.142506                        0.142506   \n3                           0.142506                        0.142506   \n4                           0.142506                        0.142506   \n...                              ...                             ...   \n2200                        0.142506                        0.142506   \n2201                        0.142506                        0.142506   \n2202                        0.142506                        0.283936   \n2203                        0.142506                        0.142506   \n2204                        0.142506                        0.142506   \n\n      s/PS4__fourier_entropy__bins_5  s/PS4__fourier_entropy__bins_10  \\\n0                           0.379535                         0.563420   \n1                           0.379535                         0.563420   \n2                           0.379535                         0.563420   \n3                           0.379535                         0.563420   \n4                           0.379535                         0.563420   \n...                              ...                              ...   \n2200                        0.379535                         0.611952   \n2201                        0.283936                         0.518700   \n2202                        0.283936                         0.518700   \n2203                        0.457102                         0.457102   \n2204                        0.379535                         0.563420   \n\n      s/PS4__fourier_entropy__bins_100  \\\n0                             1.107653   \n1                             1.107653   \n2                             1.107653   \n3                             1.107653   \n4                             1.107653   \n...                                ...   \n2200                          0.838120   \n2201                          1.195625   \n2202                          1.062934   \n2203                          0.928839   \n2204                          1.062934   \n\n      s/PS4__permutation_entropy__dimension_3__tau_1  \\\n0                                          -0.000000   \n1                                          -0.000000   \n2                                          -0.000000   \n3                                          -0.000000   \n4                                          -0.000000   \n...                                              ...   \n2200                                        1.759520   \n2201                                        1.773311   \n2202                                        1.761302   \n2203                                        1.778878   \n2204                                        1.770078   \n\n      s/PS4__permutation_entropy__dimension_4__tau_1  \\\n0                                          -0.000000   \n1                                          -0.000000   \n2                                          -0.000000   \n3                                          -0.000000   \n4                                          -0.000000   \n...                                              ...   \n2200                                        2.772239   \n2201                                        2.837236   \n2202                                        2.867800   \n2203                                        2.872232   \n2204                                        2.786871   \n\n      s/PS4__permutation_entropy__dimension_5__tau_1  \\\n0                                          -0.000000   \n1                                          -0.000000   \n2                                          -0.000000   \n3                                          -0.000000   \n4                                          -0.000000   \n...                                              ...   \n2200                                        3.576481   \n2201                                        3.585825   \n2202                                        3.591893   \n2203                                        3.650747   \n2204                                        3.492872   \n\n      s/PS4__permutation_entropy__dimension_6__tau_1  \\\n0                                          -0.000000   \n1                                          -0.000000   \n2                                          -0.000000   \n3                                          -0.000000   \n4                                          -0.000000   \n...                                              ...   \n2200                                        3.906512   \n2201                                        3.830896   \n2202                                        3.846587   \n2203                                        3.956922   \n2204                                        3.755280   \n\n      s/PS4__permutation_entropy__dimension_7__tau_1  \n0                                          -0.000000  \n1                                          -0.000000  \n2                                          -0.000000  \n3                                          -0.000000  \n4                                          -0.000000  \n...                                              ...  \n2200                                        3.963312  \n2201                                        3.963312  \n2202                                        3.988984  \n2203                                        3.988984  \n2204                                        3.860623  \n\n[2205 rows x 13243 columns]",
            "text/html": "<div>\n<style scoped>\n    .dataframe tbody tr th:only-of-type {\n        vertical-align: middle;\n    }\n\n    .dataframe tbody tr th {\n        vertical-align: top;\n    }\n\n    .dataframe thead th {\n        text-align: right;\n    }\n</style>\n<table border=\"1\" class=\"dataframe\">\n  <thead>\n    <tr style=\"text-align: right;\">\n      <th></th>\n      <th>s/PS5__variance_larger_than_standard_deviation</th>\n      <th>s/PS5__has_duplicate_max</th>\n      <th>s/PS5__has_duplicate_min</th>\n      <th>s/PS5__has_duplicate</th>\n      <th>s/PS5__sum_values</th>\n      <th>s/PS5__abs_energy</th>\n      <th>s/PS5__mean_abs_change</th>\n      <th>s/PS5__mean_change</th>\n      <th>s/PS5__mean_second_derivative_central</th>\n      <th>s/PS5__median</th>\n      <th>...</th>\n      <th>s/PS4__fourier_entropy__bins_2</th>\n      <th>s/PS4__fourier_entropy__bins_3</th>\n      <th>s/PS4__fourier_entropy__bins_5</th>\n      <th>s/PS4__fourier_entropy__bins_10</th>\n      <th>s/PS4__fourier_entropy__bins_100</th>\n      <th>s/PS4__permutation_entropy__dimension_3__tau_1</th>\n      <th>s/PS4__permutation_entropy__dimension_4__tau_1</th>\n      <th>s/PS4__permutation_entropy__dimension_5__tau_1</th>\n      <th>s/PS4__permutation_entropy__dimension_6__tau_1</th>\n      <th>s/PS4__permutation_entropy__dimension_7__tau_1</th>\n    </tr>\n  </thead>\n  <tbody>\n    <tr>\n      <th>0</th>\n      <td>0.0</td>\n      <td>0.0</td>\n      <td>0.0</td>\n      <td>1.0</td>\n      <td>597.793</td>\n      <td>5955.965499</td>\n      <td>0.013492</td>\n      <td>0.000000</td>\n      <td>-0.000250</td>\n      <td>9.9640</td>\n      <td>...</td>\n      <td>0.142506</td>\n      <td>0.142506</td>\n      <td>0.379535</td>\n      <td>0.563420</td>\n      <td>1.107653</td>\n      <td>-0.000000</td>\n      <td>-0.000000</td>\n      <td>-0.000000</td>\n      <td>-0.000000</td>\n      <td>-0.000000</td>\n    </tr>\n    <tr>\n      <th>1</th>\n      <td>0.0</td>\n      <td>0.0</td>\n      <td>0.0</td>\n      <td>1.0</td>\n      <td>582.611</td>\n      <td>5657.283409</td>\n      <td>0.013356</td>\n      <td>0.000237</td>\n      <td>-0.000034</td>\n      <td>9.7100</td>\n      <td>...</td>\n      <td>0.142506</td>\n      <td>0.142506</td>\n      <td>0.379535</td>\n      <td>0.563420</td>\n      <td>1.107653</td>\n      <td>-0.000000</td>\n      <td>-0.000000</td>\n      <td>-0.000000</td>\n      <td>-0.000000</td>\n      <td>-0.000000</td>\n    </tr>\n    <tr>\n      <th>2</th>\n      <td>0.0</td>\n      <td>0.0</td>\n      <td>1.0</td>\n      <td>1.0</td>\n      <td>576.258</td>\n      <td>5534.577636</td>\n      <td>0.012441</td>\n      <td>0.000237</td>\n      <td>0.000043</td>\n      <td>9.6040</td>\n      <td>...</td>\n      <td>0.142506</td>\n      <td>0.142506</td>\n      <td>0.379535</td>\n      <td>0.563420</td>\n      <td>1.107653</td>\n      <td>-0.000000</td>\n      <td>-0.000000</td>\n      <td>-0.000000</td>\n      <td>-0.000000</td>\n      <td>-0.000000</td>\n    </tr>\n    <tr>\n      <th>3</th>\n      <td>0.0</td>\n      <td>0.0</td>\n      <td>0.0</td>\n      <td>1.0</td>\n      <td>570.020</td>\n      <td>5415.403256</td>\n      <td>0.013136</td>\n      <td>-0.000051</td>\n      <td>0.000216</td>\n      <td>9.5000</td>\n      <td>...</td>\n      <td>0.142506</td>\n      <td>0.142506</td>\n      <td>0.379535</td>\n      <td>0.563420</td>\n      <td>1.107653</td>\n      <td>-0.000000</td>\n      <td>-0.000000</td>\n      <td>-0.000000</td>\n      <td>-0.000000</td>\n      <td>-0.000000</td>\n    </tr>\n    <tr>\n      <th>4</th>\n      <td>0.0</td>\n      <td>1.0</td>\n      <td>1.0</td>\n      <td>1.0</td>\n      <td>564.123</td>\n      <td>5303.934739</td>\n      <td>0.012034</td>\n      <td>0.000237</td>\n      <td>0.000112</td>\n      <td>9.4025</td>\n      <td>...</td>\n      <td>0.142506</td>\n      <td>0.142506</td>\n      <td>0.379535</td>\n      <td>0.563420</td>\n      <td>1.107653</td>\n      <td>-0.000000</td>\n      <td>-0.000000</td>\n      <td>-0.000000</td>\n      <td>-0.000000</td>\n      <td>-0.000000</td>\n    </tr>\n    <tr>\n      <th>...</th>\n      <td>...</td>\n      <td>...</td>\n      <td>...</td>\n      <td>...</td>\n      <td>...</td>\n      <td>...</td>\n      <td>...</td>\n      <td>...</td>\n      <td>...</td>\n      <td>...</td>\n      <td>...</td>\n      <td>...</td>\n      <td>...</td>\n      <td>...</td>\n      <td>...</td>\n      <td>...</td>\n      <td>...</td>\n      <td>...</td>\n      <td>...</td>\n      <td>...</td>\n      <td>...</td>\n    </tr>\n    <tr>\n      <th>2200</th>\n      <td>0.0</td>\n      <td>0.0</td>\n      <td>0.0</td>\n      <td>1.0</td>\n      <td>598.589</td>\n      <td>5971.837225</td>\n      <td>0.013305</td>\n      <td>0.000017</td>\n      <td>-0.000147</td>\n      <td>9.9755</td>\n      <td>...</td>\n      <td>0.142506</td>\n      <td>0.142506</td>\n      <td>0.379535</td>\n      <td>0.611952</td>\n      <td>0.838120</td>\n      <td>1.759520</td>\n      <td>2.772239</td>\n      <td>3.576481</td>\n      <td>3.906512</td>\n      <td>3.963312</td>\n    </tr>\n    <tr>\n      <th>2201</th>\n      <td>0.0</td>\n      <td>0.0</td>\n      <td>0.0</td>\n      <td>1.0</td>\n      <td>598.424</td>\n      <td>5968.545638</td>\n      <td>0.012373</td>\n      <td>0.000475</td>\n      <td>0.000052</td>\n      <td>9.9720</td>\n      <td>...</td>\n      <td>0.142506</td>\n      <td>0.142506</td>\n      <td>0.283936</td>\n      <td>0.518700</td>\n      <td>1.195625</td>\n      <td>1.773311</td>\n      <td>2.837236</td>\n      <td>3.585825</td>\n      <td>3.830896</td>\n      <td>3.963312</td>\n    </tr>\n    <tr>\n      <th>2202</th>\n      <td>0.0</td>\n      <td>0.0</td>\n      <td>1.0</td>\n      <td>1.0</td>\n      <td>598.104</td>\n      <td>5962.162836</td>\n      <td>0.013017</td>\n      <td>-0.000169</td>\n      <td>0.000009</td>\n      <td>9.9680</td>\n      <td>...</td>\n      <td>0.142506</td>\n      <td>0.283936</td>\n      <td>0.283936</td>\n      <td>0.518700</td>\n      <td>1.062934</td>\n      <td>1.761302</td>\n      <td>2.867800</td>\n      <td>3.591893</td>\n      <td>3.846587</td>\n      <td>3.988984</td>\n    </tr>\n    <tr>\n      <th>2203</th>\n      <td>0.0</td>\n      <td>1.0</td>\n      <td>0.0</td>\n      <td>1.0</td>\n      <td>598.003</td>\n      <td>5960.148517</td>\n      <td>0.012695</td>\n      <td>0.000153</td>\n      <td>0.000121</td>\n      <td>9.9650</td>\n      <td>...</td>\n      <td>0.142506</td>\n      <td>0.142506</td>\n      <td>0.457102</td>\n      <td>0.457102</td>\n      <td>0.928839</td>\n      <td>1.778878</td>\n      <td>2.872232</td>\n      <td>3.650747</td>\n      <td>3.956922</td>\n      <td>3.988984</td>\n    </tr>\n    <tr>\n      <th>2204</th>\n      <td>0.0</td>\n      <td>0.0</td>\n      <td>0.0</td>\n      <td>1.0</td>\n      <td>598.688</td>\n      <td>5973.812176</td>\n      <td>0.012831</td>\n      <td>-0.000153</td>\n      <td>-0.000121</td>\n      <td>9.9760</td>\n      <td>...</td>\n      <td>0.142506</td>\n      <td>0.142506</td>\n      <td>0.379535</td>\n      <td>0.563420</td>\n      <td>1.062934</td>\n      <td>1.770078</td>\n      <td>2.786871</td>\n      <td>3.492872</td>\n      <td>3.755280</td>\n      <td>3.860623</td>\n    </tr>\n  </tbody>\n</table>\n<p>2205 rows × 13243 columns</p>\n</div>"
          },
          "metadata": {}
        }
      ],
      "execution_count": 9,
      "metadata": {
        "collapsed": true,
        "jupyter": {
          "source_hidden": false,
          "outputs_hidden": false
        },
        "nteract": {
          "transient": {
            "deleting": false
          }
        },
        "gather": {
          "logged": 1610900489864
        }
      }
    },
    {
      "cell_type": "code",
      "source": [
        "extracted_features.drop(extracted_features.tail(1).index,inplace=True)"
      ],
      "outputs": [],
      "execution_count": 20,
      "metadata": {
        "collapsed": true,
        "jupyter": {
          "source_hidden": false,
          "outputs_hidden": false
        },
        "nteract": {
          "transient": {
            "deleting": false
          }
        },
        "gather": {
          "logged": 1610902560686
        }
      }
    },
    {
      "cell_type": "code",
      "source": [
        "features_filtered_accum = select_features(extracted_features, label['hydraulic_accumulator'])\r\n",
        "\r\n",
        "features_filtered_flag = select_features(extracted_features, label['stable_flag'])"
      ],
      "outputs": [],
      "execution_count": 21,
      "metadata": {
        "collapsed": true,
        "jupyter": {
          "source_hidden": false,
          "outputs_hidden": false
        },
        "nteract": {
          "transient": {
            "deleting": false
          }
        },
        "gather": {
          "logged": 1610902661826
        }
      }
    },
    {
      "cell_type": "code",
      "source": [
        "joint = features_filtered_accum.join(label)\r\n",
        "joint.columns"
      ],
      "outputs": [
        {
          "output_type": "execute_result",
          "execution_count": 24,
          "data": {
            "text/plain": "Index(['s/PS1__cwt_coefficients__coeff_14__w_5__widths_(2, 5, 10, 20)',\n       's/PS1__cwt_coefficients__coeff_13__w_5__widths_(2, 5, 10, 20)',\n       's/PS1__cwt_coefficients__coeff_11__w_2__widths_(2, 5, 10, 20)',\n       's/PS1__cwt_coefficients__coeff_12__w_5__widths_(2, 5, 10, 20)',\n       's/PS1__ratio_beyond_r_sigma__r_1.5',\n       's/PS1__cwt_coefficients__coeff_7__w_2__widths_(2, 5, 10, 20)',\n       's/PS1__permutation_entropy__dimension_7__tau_1',\n       's/PS1__permutation_entropy__dimension_6__tau_1',\n       's/PS3__last_location_of_maximum',\n       's/PS1__fft_coefficient__attr_\"real\"__coeff_1',\n       ...\n       's/PS3__lempel_ziv_complexity__bins_3',\n       's/PS6__agg_linear_trend__attr_\"stderr\"__chunk_len_5__f_agg_\"var\"',\n       's/CP__standard_deviation', 's/CP__variance',\n       's/PS3__fft_coefficient__attr_\"real\"__coeff_19', 'cooler_condition',\n       'valve_condition', 'pump_leak', 'hydraulic_accumulator', 'stable_flag'],\n      dtype='object', length=5221)"
          },
          "metadata": {}
        }
      ],
      "execution_count": 24,
      "metadata": {
        "collapsed": true,
        "jupyter": {
          "source_hidden": false,
          "outputs_hidden": false
        },
        "nteract": {
          "transient": {
            "deleting": false
          }
        },
        "gather": {
          "logged": 1610902745897
        }
      }
    },
    {
      "cell_type": "code",
      "source": [
        "automl_config = AutoMLConfig(\r\n",
        "    experiment_timeout_minutes=70,\r\n",
        "    task='classification',\r\n",
        "    primary_metric='AUC_weighted',\r\n",
        "    training_data=joint,\r\n",
        "    label_column_name='stable_flag',\r\n",
        "    n_cross_validations=2)"
      ],
      "outputs": [],
      "execution_count": 31,
      "metadata": {
        "collapsed": true,
        "jupyter": {
          "source_hidden": false,
          "outputs_hidden": false
        },
        "nteract": {
          "transient": {
            "deleting": false
          }
        },
        "gather": {
          "logged": 1610902994191
        }
      }
    },
    {
      "cell_type": "code",
      "source": [
        "ws = Workspace.get(name=\"quick-starts-ws-135060\")\r\n",
        "exp = Experiment(workspace=ws, name=\"Ranga\")\r\n",
        "\r\n",
        "autoexp = Experiment(workspace=ws,name='AutoRanga')\r\n",
        "remote_run = autoexp.submit(automl_config)\r\n",
        "RunDetails(remote_run).show()\r\n",
        "remote_run.wait_for_completion(show_output=True)"
      ],
      "outputs": [
        {
          "output_type": "stream",
          "name": "stderr",
          "text": [
            "WARNING:root:Running on local machine. Note that local runs always run synchronously even if you use the parameter 'show_output=False'\n"
          ]
        }
      ],
      "execution_count": 32,
      "metadata": {
        "collapsed": true,
        "jupyter": {
          "source_hidden": false,
          "outputs_hidden": false
        },
        "nteract": {
          "transient": {
            "deleting": false
          }
        }
      }
    },
    {
      "cell_type": "code",
      "source": [
        "best,fitted = remote_run.get_output()\r\n",
        "fitted\r\n",
        "\r\n",
        "#TODO: Save the best model\r\n",
        "filename = 'best_automl_model.sav'\r\n",
        "# pickle.dump(fitted, open(filename, 'wb'))\r\n",
        "\r\n",
        "joblib.dump(fitted,filename)"
      ],
      "outputs": [],
      "execution_count": null,
      "metadata": {
        "collapsed": true,
        "jupyter": {
          "source_hidden": false,
          "outputs_hidden": false
        },
        "nteract": {
          "transient": {
            "deleting": false
          }
        }
      }
    },
    {
      "cell_type": "code",
      "source": [
        "pipeline = Pipeline([('augmenter', RelevantFeatureAugmenter(column_id=\"cycle\", column_sort=\"seconds\")),\r\n",
        "            ('best automl', fitted)])"
      ],
      "outputs": [],
      "execution_count": 15,
      "metadata": {
        "collapsed": true,
        "jupyter": {
          "source_hidden": false,
          "outputs_hidden": false
        },
        "nteract": {
          "transient": {
            "deleting": false
          }
        },
        "gather": {
          "logged": 1610304274266
        }
      }
    },
    {
      "cell_type": "code",
      "source": [
        "y_stable_flag = label['stable_flag']\r\n",
        "x = pd.DataFrame(index = y_stable_flag.index)"
      ],
      "outputs": [],
      "execution_count": 16,
      "metadata": {
        "collapsed": true,
        "jupyter": {
          "source_hidden": false,
          "outputs_hidden": false
        },
        "nteract": {
          "transient": {
            "deleting": false
          }
        },
        "gather": {
          "logged": 1610304276064
        }
      }
    },
    {
      "cell_type": "code",
      "source": [
        "pipeline.set_params(augmenter__timeseries_container=feats_join)\r\n",
        "pipeline.fit(x,y_stable_flag)"
      ],
      "outputs": [
        {
          "output_type": "stream",
          "name": "stderr",
          "text": [
            "Feature Extraction: 100%|██████████| 10/10 [27:21<00:00, 164.18s/it]\n",
            "/anaconda/envs/azureml_py36/lib/python3.6/site-packages/tsfresh/utilities/dataframe_functions.py:172: RuntimeWarning: The columns ['s/CP__fft_coefficient__attr_\"real\"__coeff_31'\n",
            " 's/CP__fft_coefficient__attr_\"real\"__coeff_32'\n",
            " 's/CP__fft_coefficient__attr_\"real\"__coeff_33' ...\n",
            " 's/VS1__fft_coefficient__attr_\"angle\"__coeff_97'\n",
            " 's/VS1__fft_coefficient__attr_\"angle\"__coeff_98'\n",
            " 's/VS1__fft_coefficient__attr_\"angle\"__coeff_99'] did not have any finite values. Filling with zeros.\n",
            "  df.iloc[:, np.where(is_col_non_finite)[0]].columns.values), RuntimeWarning)\n",
            "/anaconda/envs/azureml_py36/lib/python3.6/site-packages/xgboost/core.py:587: FutureWarning: Series.base is deprecated and will be removed in a future version\n",
            "  if getattr(data, 'base', None) is not None and \\\n",
            "/anaconda/envs/azureml_py36/lib/python3.6/site-packages/xgboost/core.py:588: FutureWarning: Series.base is deprecated and will be removed in a future version\n",
            "  data.base is not None and isinstance(data, np.ndarray) \\\n"
          ]
        },
        {
          "output_type": "stream",
          "name": "stdout",
          "text": [
            "[19:13:47] WARNING: src/objective/regression_obj.cu:152: reg:linear is now deprecated in favor of reg:squarederror.\n"
          ]
        },
        {
          "output_type": "execute_result",
          "execution_count": 17,
          "data": {
            "text/plain": "Pipeline(memory=None,\n         steps=[('augmenter',\n                 RelevantFeatureAugmenter(chunksize=None, column_id='cycle',\n                                          column_kind=None,\n                                          column_sort='seconds',\n                                          column_value=None,\n                                          default_fc_parameters=None,\n                                          disable_progressbar=False,\n                                          fdr_level=0.05,\n                                          filter_only_tsfresh_features=True,\n                                          hypotheses_independent=False,\n                                          kind_to_fc_parameters=None,\n                                          ml_task='auto', n_jobs=2,\n                                          profile=Fals...\n                              colsample_bylevel=1, colsample_bynode=1,\n                              colsample_bytree=1, gamma=0,\n                              importance_type='gain', learning_rate=0.1,\n                              max_delta_step=0, max_depth=3, min_child_weight=1,\n                              missing=None, n_estimators=100, n_jobs=1,\n                              nthread=None, objective='reg:linear',\n                              random_state=0, reg_alpha=0, reg_lambda=1,\n                              scale_pos_weight=1, seed=None, silent=None,\n                              subsample=1, verbosity=1))],\n         verbose=False)"
          },
          "metadata": {}
        }
      ],
      "execution_count": 17,
      "metadata": {
        "collapsed": true,
        "jupyter": {
          "source_hidden": false,
          "outputs_hidden": false
        },
        "nteract": {
          "transient": {
            "deleting": false
          }
        },
        "gather": {
          "logged": 1610306059924
        }
      }
    }
  ],
  "metadata": {
    "kernelspec": {
      "name": "python3-azureml",
      "language": "python",
      "display_name": "Python 3.6 - AzureML"
    },
    "language_info": {
      "name": "python",
      "version": "3.6.9",
      "mimetype": "text/x-python",
      "codemirror_mode": {
        "name": "ipython",
        "version": 3
      },
      "pygments_lexer": "ipython3",
      "nbconvert_exporter": "python",
      "file_extension": ".py"
    },
    "kernel_info": {
      "name": "python3-azureml"
    },
    "nteract": {
      "version": "nteract-front-end@1.0.0"
    }
  },
  "nbformat": 4,
  "nbformat_minor": 2
}